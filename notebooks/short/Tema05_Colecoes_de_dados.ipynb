{
 "cells": [
  {
   "cell_type": "markdown",
   "metadata": {},
   "source": [
    "# Coleções de dados\n",
    "\n",
    "## Introdução\n",
    "\n",
    "Dentre os tipos nativos disponíveis em Python (e.g., `int`, `float`, `bool`, `str`, etc.), existem tipos que funcionam como **coleções** de dados.\n",
    "\n",
    "Coleções são estruturas de dados que permitem armazenar vários objetos, do mesmo ou de tipos diferentes.\n",
    "\n",
    "Os objetos em uma coleção são chamados de **elementos** ou **itens**.\n",
    "\n",
    "Em Python, as principais são\n",
    "\n",
    "+ Listas\n",
    "+ Tuplas\n",
    "+ Conjuntos\n",
    "+ Dicionários\n",
    "\n",
    "<img src=\"../../figures/python-data-structures.jpg\" width=\"400\" height=\"400\">\n",
    "\n",
    "A seguir, discutiremos sobre cada uma dessas **estruturas de dados**."
   ]
  },
  {
   "cell_type": "markdown",
   "metadata": {},
   "source": [
    "## Listas\n",
    "\n",
    "+ São coleções (ou estruturas) **ordenadas**, **heterogêneas** e **mutáveis** de objetos, ou seja, uma lista é uma coleção de elementos:\n",
    "    * organizados em uma ordem linear (i.e., sequencial), isto é, cada elemento tem um antecessor (exceto o primeiro) e um sucessor (exceto o último),\n",
    "    * que podem ser de qualquer tipo, inclusive outras coleções (i.e., listas, tuplas, dicionários, etc.)\n",
    "    * e que podem ter seus elementos alterados a qualquer momento.\n",
    "+ Permitem elementos **duplicados**.\n",
    "+ São **indexáveis**, ou seja, os elementos podem ser acessados através de sua posição na lista.\n",
    "+ Podem ser **fatiadas** da mesma forma que strings, mas como as listas são mutáveis, é possível fazer atribuições às fatias da lista.\n",
    "\n",
    "**Sintaxe**: uma lista é definida envolvendo-se seus **elementos**, os quais devem ser separados por vírgulas, com um par de **chaves**, `[]`.\n",
    "\n",
    "```python\n",
    "lista = [a, b, ..., z]\n",
    "```\n",
    "\n",
    "### Exemplos"
   ]
  },
  {
   "cell_type": "markdown",
   "metadata": {},
   "source": [
    "#### Criando uma lista e imprimindo seu tipo.\n",
    "\n",
    "**OBS**.: Nesse exemplo, usamos a função embutida (ou built-in) `type`, a qual retorna o tipo do objeto passado como argumento de entrada."
   ]
  },
  {
   "cell_type": "code",
<<<<<<< HEAD:notebooks/short/Tema05_Colecoes_de_dados.ipynb
   "execution_count": 1,
=======
   "execution_count": 12,
>>>>>>> 24b7eb83f25bc3734fb874457489cd6f56289cac:notebooks/short/Tema04_Colecoes_de_dados.ipynb
   "metadata": {},
   "outputs": [
    {
     "name": "stdout",
     "output_type": "stream",
     "text": [
      "<class 'list'>\n"
     ]
    }
   ],
   "source": [
    "# Cria uma lista com três números inteiros, os números 1, 2 e 3.\n",
    "lista1 = [1, 2, 3]\n",
    "\n",
    "# Imprime o tipo da variável lista, que é `list`.\n",
    "print(type(lista1))"
   ]
  },
  {
   "cell_type": "markdown",
   "metadata": {},
   "source": [
    "#### Comprimento de uma coleção.\n",
    "\n",
    "Para obter o comprimento de uma lista (ou seja, o número de elementos que ela possui) usa-se a função embutida `len()`, como mostrado no exemplo abaixo."
   ]
  },
  {
   "cell_type": "code",
<<<<<<< HEAD:notebooks/short/Tema05_Colecoes_de_dados.ipynb
   "execution_count": 2,
=======
   "execution_count": 13,
>>>>>>> 24b7eb83f25bc3734fb874457489cd6f56289cac:notebooks/short/Tema04_Colecoes_de_dados.ipynb
   "metadata": {},
   "outputs": [
    {
     "name": "stdout",
     "output_type": "stream",
     "text": [
      "A lista possui 3 elementos.\n",
      "O conteúdo da lista é: [1, 2, 3]\n"
     ]
    }
   ],
   "source": [
    "lista1 = [1, 2, 3]\n",
    "\n",
    "print('A lista possui %d elementos.' % len(lista1))\n",
    "print('O conteúdo da lista é:', lista1)"
   ]
  },
  {
   "cell_type": "markdown",
   "metadata": {},
   "source": [
    "#### Lista vazia.\n",
    "\n",
    "Um par de chaves sem conteúdo, `[]`, denota uma lista vazia, ou seja, uma lista que não contém nenhum elemento. O comprimento de uma lista que não contém nenhum elemento é 0."
   ]
  },
  {
   "cell_type": "code",
<<<<<<< HEAD:notebooks/short/Tema05_Colecoes_de_dados.ipynb
   "execution_count": 3,
=======
   "execution_count": 14,
>>>>>>> 24b7eb83f25bc3734fb874457489cd6f56289cac:notebooks/short/Tema04_Colecoes_de_dados.ipynb
   "metadata": {},
   "outputs": [
    {
     "name": "stdout",
     "output_type": "stream",
     "text": [
      "A lista possui 0 elementos.\n",
      "O conteúdo da lista é: []\n"
     ]
    }
   ],
   "source": [
    "lista2 = []\n",
    "\n",
    "print('A lista possui %d elementos.' % len(lista2))\n",
    "print('O conteúdo da lista é:', lista2)"
   ]
  },
  {
   "cell_type": "markdown",
   "metadata": {},
   "source": [
    "#### Elementos heterogêneos.\n",
    "\n",
    "Como vimos antes, as listas podem conter elementos **heterogêneos**, ou seja, os elementos em uma lista não precisam ser todos de um mesmo tipo, como mostra o exemplo abaixo."
   ]
  },
  {
   "cell_type": "code",
<<<<<<< HEAD:notebooks/short/Tema05_Colecoes_de_dados.ipynb
   "execution_count": 4,
=======
   "execution_count": 15,
>>>>>>> 24b7eb83f25bc3734fb874457489cd6f56289cac:notebooks/short/Tema04_Colecoes_de_dados.ipynb
   "metadata": {},
   "outputs": [
    {
     "name": "stdout",
     "output_type": "stream",
     "text": [
      "A lista possui 6 elementos.\n",
      "O conteúdo da lista é: ['Olá', 2, 5.6, 'Mundo', True, 1j]\n"
     ]
    }
   ],
   "source": [
    "lista3 = [\"Olá\", 2, 5.6, 'Mundo', True, 1j]\n",
    "\n",
    "print('A lista possui %d elementos.' % len(lista3))\n",
    "print('O conteúdo da lista é:', lista3)"
   ]
  },
  {
   "cell_type": "markdown",
   "metadata": {},
   "source": [
    "#### Concatenando listas.\n",
    "\n",
    "Listas podem ser concatenadas com o operador `+`"
   ]
  },
  {
   "cell_type": "code",
<<<<<<< HEAD:notebooks/short/Tema05_Colecoes_de_dados.ipynb
   "execution_count": 5,
=======
   "execution_count": 16,
>>>>>>> 24b7eb83f25bc3734fb874457489cd6f56289cac:notebooks/short/Tema04_Colecoes_de_dados.ipynb
   "metadata": {},
   "outputs": [
    {
     "name": "stdout",
     "output_type": "stream",
     "text": [
      "[1, 2, 3, 'A', 3.14, True]\n"
     ]
    }
   ],
   "source": [
    "listaA = [1, 2, 3]\n",
    "\n",
    "listaB = ['A', 3.14, True]\n",
    "\n",
    "listaC = listaA + listaB\n",
    "\n",
    "print(listaC)"
   ]
  },
  {
   "cell_type": "markdown",
   "metadata": {},
   "source": [
    "#### Lista com elemento do tipo lista.\n",
    "\n",
    "Uma lista pode conter outras listas, como mostrado no exemplo abaixo."
   ]
  },
  {
   "cell_type": "code",
<<<<<<< HEAD:notebooks/short/Tema05_Colecoes_de_dados.ipynb
   "execution_count": 6,
=======
   "execution_count": 17,
>>>>>>> 24b7eb83f25bc3734fb874457489cd6f56289cac:notebooks/short/Tema04_Colecoes_de_dados.ipynb
   "metadata": {},
   "outputs": [
    {
     "name": "stdout",
     "output_type": "stream",
     "text": [
      "Número de elementos da lista é: 4\n",
      "Os elementos da lista são: ['A', 3.14, True, [1, 2, 3]]\n",
      "O quarto elemento da listaB é a listaA: [1, 2, 3]\n"
     ]
    }
   ],
   "source": [
    "listaA = [1, 2, 3]\n",
    "\n",
    "listaB = ['A', 3.14, True, listaA]\n",
    "\n",
    "print('Número de elementos da lista é:', len(listaB))\n",
    "\n",
    "print('Os elementos da lista são:', listaB)\n",
    "\n",
    "print('O quarto elemento da listaB é a listaA:', listaB[3])"
   ]
  },
  {
   "cell_type": "markdown",
   "metadata": {},
   "source": [
    "#### Indexando listas.\n",
    "\n",
    "Podemos acessar os elementos de uma lista através de seus índices."
   ]
  },
  {
   "cell_type": "code",
<<<<<<< HEAD:notebooks/short/Tema05_Colecoes_de_dados.ipynb
   "execution_count": 7,
=======
   "execution_count": 18,
>>>>>>> 24b7eb83f25bc3734fb874457489cd6f56289cac:notebooks/short/Tema04_Colecoes_de_dados.ipynb
   "metadata": {},
   "outputs": [
    {
     "name": "stdout",
     "output_type": "stream",
     "text": [
      "10\n",
      "20\n",
      "30\n",
      "40\n",
      "50\n",
      "50\n"
     ]
    }
   ],
   "source": [
    "lista4 = [10, 20, 30, 40, 50]\n",
    "\n",
    "print(lista4[0])             # mostra o valor do primeiro elemento da lista\n",
    "print(lista4[1])             # mostra o valor do segundo elemento da lista\n",
    "print(lista4[2])             # mostra o valor do terceio elemento da lista\n",
    "print(lista4[3])             # mostra o valor do quarto elemento da lista\n",
    "print(lista4[4])             # mostra o valor do quinto e último elemento da lista\n",
    "print(lista4[len(lista4)-1]) # também mostra o valor do último elemento da lista"
   ]
  },
  {
   "cell_type": "markdown",
   "metadata": {},
   "source": [
    "Podemos usar números negativos como índices para acessar as posições de uma lista em ordem reversa, ou seja, do fim para o início. \n",
    "\n",
    "O índice -1 se refere a última posição da lista, o -2 se refere à penúltima posição, e assim por diante."
   ]
  },
  {
   "cell_type": "code",
<<<<<<< HEAD:notebooks/short/Tema05_Colecoes_de_dados.ipynb
   "execution_count": 8,
=======
   "execution_count": 19,
>>>>>>> 24b7eb83f25bc3734fb874457489cd6f56289cac:notebooks/short/Tema04_Colecoes_de_dados.ipynb
   "metadata": {},
   "outputs": [
    {
     "name": "stdout",
     "output_type": "stream",
     "text": [
      "50\n"
     ]
    },
    {
     "ename": "NameError",
     "evalue": "name 'lista6' is not defined",
     "output_type": "error",
     "traceback": [
      "\u001b[1;31m---------------------------------------------------------------------------\u001b[0m",
      "\u001b[1;31mNameError\u001b[0m                                 Traceback (most recent call last)",
      "\u001b[1;32m<ipython-input-8-d35bab27a18e>\u001b[0m in \u001b[0;36m<module>\u001b[1;34m\u001b[0m\n\u001b[0;32m      2\u001b[0m \u001b[1;33m\u001b[0m\u001b[0m\n\u001b[0;32m      3\u001b[0m \u001b[0mprint\u001b[0m\u001b[1;33m(\u001b[0m\u001b[0mlista4\u001b[0m\u001b[1;33m[\u001b[0m\u001b[1;33m-\u001b[0m\u001b[1;36m1\u001b[0m\u001b[1;33m]\u001b[0m\u001b[1;33m)\u001b[0m             \u001b[1;31m# mostra o valor do último elemento da lista\u001b[0m\u001b[1;33m\u001b[0m\u001b[1;33m\u001b[0m\u001b[0m\n\u001b[1;32m----> 4\u001b[1;33m \u001b[0mprint\u001b[0m\u001b[1;33m(\u001b[0m\u001b[0mlista4\u001b[0m\u001b[1;33m[\u001b[0m\u001b[1;33m-\u001b[0m\u001b[0mlen\u001b[0m\u001b[1;33m(\u001b[0m\u001b[0mlista6\u001b[0m\u001b[1;33m)\u001b[0m\u001b[1;33m]\u001b[0m\u001b[1;33m)\u001b[0m   \u001b[1;31m# mostra o valor do primeiro elemento da lista\u001b[0m\u001b[1;33m\u001b[0m\u001b[1;33m\u001b[0m\u001b[0m\n\u001b[0m",
      "\u001b[1;31mNameError\u001b[0m: name 'lista6' is not defined"
     ]
    }
   ],
   "source": [
    "lista4 = [10, 20, 30, 40, 50]\n",
    "\n",
    "print(lista4[-1])             # mostra o valor do último elemento da lista\n",
    "print(lista4[-len(lista6)])   # mostra o valor do primeiro elemento da lista"
   ]
  },
  {
   "cell_type": "markdown",
   "metadata": {},
   "source": [
    "Outra forma de acessar/indexar os elementos de uma lista é através de laços de iteração, como o `for`, por exemplo."
   ]
  },
  {
   "cell_type": "code",
<<<<<<< HEAD:notebooks/short/Tema05_Colecoes_de_dados.ipynb
   "execution_count": 9,
=======
   "execution_count": 20,
>>>>>>> 24b7eb83f25bc3734fb874457489cd6f56289cac:notebooks/short/Tema04_Colecoes_de_dados.ipynb
   "metadata": {},
   "outputs": [
    {
     "name": "stdout",
     "output_type": "stream",
     "text": [
      "10\n",
      "20\n",
      "30\n",
      "40\n",
      "50\n"
     ]
    }
   ],
   "source": [
    "lista4 = [10, 20, 30, 40, 50]\n",
    "\n",
    "for i in range(0, len(lista4)):\n",
    "    print(lista4[i])"
   ]
  },
  {
   "cell_type": "code",
<<<<<<< HEAD:notebooks/short/Tema05_Colecoes_de_dados.ipynb
   "execution_count": 10,
=======
   "execution_count": 21,
>>>>>>> 24b7eb83f25bc3734fb874457489cd6f56289cac:notebooks/short/Tema04_Colecoes_de_dados.ipynb
   "metadata": {},
   "outputs": [
    {
     "name": "stdout",
     "output_type": "stream",
     "text": [
      "10\n",
      "20\n",
      "30\n",
      "40\n",
      "50\n"
     ]
    }
   ],
   "source": [
    "lista4 = [10, 20, 30, 40, 50]\n",
    "\n",
    "for elemento in lista4:\n",
    "    print(elemento)"
   ]
  },
  {
   "cell_type": "markdown",
   "metadata": {},
   "source": [
    "Nós podemos também utilizar o laço `while` para percorer a lista, removendo elementos com o método `pop()`.\n",
    "\n",
    "O método `pop()` remove e retorna o primeiro elemento da lista."
   ]
  },
  {
   "cell_type": "code",
<<<<<<< HEAD:notebooks/short/Tema05_Colecoes_de_dados.ipynb
   "execution_count": 11,
=======
   "execution_count": 22,
>>>>>>> 24b7eb83f25bc3734fb874457489cd6f56289cac:notebooks/short/Tema04_Colecoes_de_dados.ipynb
   "metadata": {},
   "outputs": [
    {
     "name": "stdout",
     "output_type": "stream",
     "text": [
      "Saiu o valor 10 , faltam 4 elementos na lista\n",
      "Saiu o valor 20 , faltam 3 elementos na lista\n",
      "Saiu o valor 30 , faltam 2 elementos na lista\n",
      "Saiu o valor 40 , faltam 1 elementos na lista\n",
      "Saiu o valor 50 , faltam 0 elementos na lista\n"
     ]
    }
   ],
   "source": [
    "lista4 = [10, 20, 30, 40, 50]\n",
    "\n",
    "# A lista vazia é avaliada como falsa e portanto, finaliza e execução do laço.\n",
    "while lista4:\n",
    "    print('Saiu o valor', lista4.pop(0), ', faltam', len(lista4), 'elementos na lista')"
   ]
  },
  {
   "cell_type": "markdown",
   "metadata": {},
   "source": [
    "#### Modificando um elemento.\n",
    "\n",
    "Como as listas são tipos **mutáveis**, nós também podemos modificar o valor de uma posição específica da lista utilizando os índices."
   ]
  },
  {
   "cell_type": "code",
<<<<<<< HEAD:notebooks/short/Tema05_Colecoes_de_dados.ipynb
   "execution_count": 12,
=======
   "execution_count": 23,
>>>>>>> 24b7eb83f25bc3734fb874457489cd6f56289cac:notebooks/short/Tema04_Colecoes_de_dados.ipynb
   "metadata": {},
   "outputs": [
    {
     "name": "stdout",
     "output_type": "stream",
     "text": [
      "[10, 20, 30]\n",
      "[5, 20, 10]\n"
     ]
    }
   ],
   "source": [
    "lista5 = [10, 20, 30]\n",
    "\n",
    "print(lista5)\n",
    "\n",
    "# altera o valor da primeira posição da lista\n",
    "lista5[0] = 5\n",
    "\n",
    "# altera o valor da última posição da lista: lista7[2] = lista7[2] // 3\n",
    "lista5[-1] //= 3\n",
    "\n",
    "print(lista5)"
   ]
  },
  {
   "cell_type": "markdown",
   "metadata": {},
   "source": [
<<<<<<< HEAD:notebooks/short/Tema05_Colecoes_de_dados.ipynb
    "#### Acessando uma posição inexistente.\n",
    "\n",
    "Quando tentamos acessar uma posição que não existe na lista, um erro de do tipo `IndexError` é gerado."
=======
    "Quando tentamos acessar uma posição que não existe na lista, um erro de execução: `list index out of range` é gerado:"
>>>>>>> 24b7eb83f25bc3734fb874457489cd6f56289cac:notebooks/short/Tema04_Colecoes_de_dados.ipynb
   ]
  },
  {
   "cell_type": "code",
<<<<<<< HEAD:notebooks/short/Tema05_Colecoes_de_dados.ipynb
   "execution_count": 13,
=======
   "execution_count": 69,
>>>>>>> 24b7eb83f25bc3734fb874457489cd6f56289cac:notebooks/short/Tema04_Colecoes_de_dados.ipynb
   "metadata": {},
   "outputs": [
    {
     "ename": "IndexError",
     "evalue": "list index out of range",
     "output_type": "error",
     "traceback": [
      "\u001b[1;31m---------------------------------------------------------------------------\u001b[0m",
      "\u001b[1;31mIndexError\u001b[0m                                Traceback (most recent call last)",
<<<<<<< HEAD:notebooks/short/Tema05_Colecoes_de_dados.ipynb
      "\u001b[1;32m<ipython-input-13-fd3ad5109feb>\u001b[0m in \u001b[0;36m<module>\u001b[1;34m\u001b[0m\n\u001b[0;32m      2\u001b[0m \u001b[1;33m\u001b[0m\u001b[0m\n\u001b[0;32m      3\u001b[0m \u001b[1;31m# tenta exibir o valor de uma posição que não existe na lista.\u001b[0m\u001b[1;33m\u001b[0m\u001b[1;33m\u001b[0m\u001b[1;33m\u001b[0m\u001b[0m\n\u001b[1;32m----> 4\u001b[1;33m \u001b[0mprint\u001b[0m\u001b[1;33m(\u001b[0m\u001b[0mlista5\u001b[0m\u001b[1;33m[\u001b[0m\u001b[1;36m3\u001b[0m\u001b[1;33m]\u001b[0m\u001b[1;33m)\u001b[0m\u001b[1;33m\u001b[0m\u001b[1;33m\u001b[0m\u001b[0m\n\u001b[0m",
=======
      "\u001b[1;32m<ipython-input-69-a50bfe9ec2c4>\u001b[0m in \u001b[0;36m<module>\u001b[1;34m\u001b[0m\n\u001b[0;32m      1\u001b[0m \u001b[1;31m# tenta exibir o valor de uma posição que não existe na lista.\u001b[0m\u001b[1;33m\u001b[0m\u001b[1;33m\u001b[0m\u001b[1;33m\u001b[0m\u001b[0m\n\u001b[1;32m----> 2\u001b[1;33m \u001b[0mprint\u001b[0m\u001b[1;33m(\u001b[0m\u001b[0mlista7\u001b[0m\u001b[1;33m[\u001b[0m\u001b[1;36m3\u001b[0m\u001b[1;33m]\u001b[0m\u001b[1;33m)\u001b[0m\u001b[1;33m\u001b[0m\u001b[1;33m\u001b[0m\u001b[0m\n\u001b[0m",
>>>>>>> 24b7eb83f25bc3734fb874457489cd6f56289cac:notebooks/short/Tema04_Colecoes_de_dados.ipynb
      "\u001b[1;31mIndexError\u001b[0m: list index out of range"
     ]
    }
   ],
   "source": [
    "lista5 = [10, 20, 30]\n",
    "\n",
    "# tenta exibir o valor de uma posição que não existe na lista.\n",
    "print(lista5[3])"
   ]
  },
  {
   "cell_type": "markdown",
   "metadata": {},
   "source": [
    "#### Acrescentando elementos ao final de uma lista.\n",
    "\n",
    "Podemos usar o método `append()` para acrescentar novos elementos **ao final** de uma lista."
   ]
  },
  {
   "cell_type": "code",
<<<<<<< HEAD:notebooks/short/Tema05_Colecoes_de_dados.ipynb
   "execution_count": 14,
=======
   "execution_count": 70,
>>>>>>> 24b7eb83f25bc3734fb874457489cd6f56289cac:notebooks/short/Tema04_Colecoes_de_dados.ipynb
   "metadata": {},
   "outputs": [
    {
     "name": "stdout",
     "output_type": "stream",
     "text": [
      "Estado inicial da lista:  [40]\n",
      "Estado da lista depois da inclusão de um novo elemento:  [40, 10]\n"
     ]
    }
   ],
   "source": [
    "lista6 = [40]\n",
    "print(\"Estado inicial da lista: \", lista6)\n",
    "\n",
    "lista6.append(10)\n",
    "print(\"Estado da lista depois da inclusão de um novo elemento: \", lista6)"
   ]
  },
  {
   "cell_type": "markdown",
   "metadata": {},
   "source": [
    "Podemos também acrescentar valores à uma lista vazia."
   ]
  },
  {
   "cell_type": "code",
<<<<<<< HEAD:notebooks/short/Tema05_Colecoes_de_dados.ipynb
   "execution_count": 15,
=======
   "execution_count": 71,
>>>>>>> 24b7eb83f25bc3734fb874457489cd6f56289cac:notebooks/short/Tema04_Colecoes_de_dados.ipynb
   "metadata": {},
   "outputs": [
    {
     "name": "stdout",
     "output_type": "stream",
     "text": [
      "Estado inicial da lista:  []\n",
      "Estado da lista depois da inclusão de um novo elemento:  [3.14]\n",
      "Estado da lista depois da inclusão de um novo elemento:  [3.14, True]\n"
     ]
    }
   ],
   "source": [
    "lista7 = []\n",
    "print(\"Estado inicial da lista: \", lista7)\n",
    "\n",
    "lista7.append(3.14)\n",
    "print(\"Estado da lista depois da inclusão de um novo elemento: \", lista7)\n",
    "\n",
    "lista7.append(True)\n",
    "print(\"Estado da lista depois da inclusão de um novo elemento: \", lista7)"
   ]
  },
  {
   "cell_type": "markdown",
   "metadata": {},
   "source": [
    "O método `insert(índice, elemento)` insere elemento na lista na posição indicada por índice."
   ]
  },
  {
   "cell_type": "code",
   "execution_count": 16,
   "metadata": {},
   "outputs": [
    {
     "name": "stdout",
     "output_type": "stream",
     "text": [
      "[0, 1, 'dois', 3, 4]\n"
     ]
    }
   ],
   "source": [
    "lista8 = [0, 1, 3, 4]\n",
    "\n",
    "# insere elemento 'dois' no índice 2 da lista.\n",
    "lista8.insert(2, 'dois')\n",
    "\n",
    "# imprime novo conteúdo da lista.\n",
    "print(lista8)"
   ]
  },
  {
   "cell_type": "markdown",
   "metadata": {},
   "source": [
    "#### Removendo elementos de uma lista.\n",
    "\n",
    "Podemos remover elementos de uma lista com a palavra chave `del`. "
   ]
  },
  {
   "cell_type": "code",
   "execution_count": 17,
   "metadata": {},
   "outputs": [
    {
     "name": "stdout",
     "output_type": "stream",
     "text": [
      "Conteúdo da lista: ['casa', 1.234, True, 2]\n",
      "Conteúdo da lista após remoção: [1.234, True, 2]\n",
      "Conteúdo da lista após nova remoção: [2]\n"
     ]
    }
   ],
   "source": [
    "lista8 = ['casa', 1.234, True, 2]\n",
    "print(\"Conteúdo da lista:\",lista8)\n",
    "\n",
    "# removendo apenas um elemento.\n",
    "del lista8[0]\n",
    "print(\"Conteúdo da lista após remoção:\",lista8)\n",
    "\n",
    "# removendo uma fatia da lista.\n",
    "del lista8[0:2]\n",
    "print(\"Conteúdo da lista após nova remoção:\",lista8)"
   ]
  },
  {
   "cell_type": "markdown",
   "metadata": {},
   "source": [
    "O método `remove(elemento)` remove da lista o primeiro elemento igual a `elemento`. Se não existe tal elemento, um erro é gerado."
   ]
  },
  {
   "cell_type": "code",
<<<<<<< HEAD:notebooks/short/Tema05_Colecoes_de_dados.ipynb
   "execution_count": 18,
=======
   "execution_count": 72,
>>>>>>> 24b7eb83f25bc3734fb874457489cd6f56289cac:notebooks/short/Tema04_Colecoes_de_dados.ipynb
   "metadata": {},
   "outputs": [
    {
     "name": "stdout",
     "output_type": "stream",
     "text": [
      "['casa', True, 2, 1]\n"
     ]
    }
   ],
   "source": [
    "lista9 = ['casa', 1, True, 2, 1]\n",
    "\n",
    "# remove apenas a PRIMEIRA ocorrência do elemento.\n",
    "lista9.remove(1)\n",
    "\n",
    "# imprime conteúdo da lista.\n",
    "print(lista9)"
   ]
  },
  {
   "cell_type": "markdown",
   "metadata": {},
   "source": [
<<<<<<< HEAD:notebooks/short/Tema05_Colecoes_de_dados.ipynb
    "#### Verificando a presença ou ausência de um elemento.\n",
    "\n",
    "O método `index(elemento)` retorna o índice da primeira ocorrência de `elemento` na lista. Um erro ocorre se elemento não constar da lista."
=======
    "Nós podemos também utilizar o laço `while` para percorer a lista, removendo elementos com o método `pop()`, o qual remove e retorna o primeiro item da lista, conforme mostrado abaixo:"
>>>>>>> 24b7eb83f25bc3734fb874457489cd6f56289cac:notebooks/short/Tema04_Colecoes_de_dados.ipynb
   ]
  },
  {
   "cell_type": "code",
<<<<<<< HEAD:notebooks/short/Tema05_Colecoes_de_dados.ipynb
   "execution_count": 19,
=======
   "execution_count": 73,
>>>>>>> 24b7eb83f25bc3734fb874457489cd6f56289cac:notebooks/short/Tema04_Colecoes_de_dados.ipynb
   "metadata": {},
   "outputs": [
    {
     "name": "stdout",
     "output_type": "stream",
     "text": [
      "Índice do elemento buscado: 2\n"
     ]
    }
   ],
   "source": [
    "lista10 = [1,2,3,4]\n",
    "\n",
    "print('Índice do elemento buscado:', lista10.index(3))"
   ]
  },
  {
   "cell_type": "code",
   "execution_count": 20,
   "metadata": {},
   "outputs": [
    {
     "ename": "ValueError",
     "evalue": "0 is not in list",
     "output_type": "error",
     "traceback": [
      "\u001b[1;31m---------------------------------------------------------------------------\u001b[0m",
      "\u001b[1;31mValueError\u001b[0m                                Traceback (most recent call last)",
      "\u001b[1;32m<ipython-input-20-c61f812c85d8>\u001b[0m in \u001b[0;36m<module>\u001b[1;34m\u001b[0m\n\u001b[1;32m----> 1\u001b[1;33m \u001b[0mprint\u001b[0m\u001b[1;33m(\u001b[0m\u001b[1;34m'Índice do elemento buscado:'\u001b[0m\u001b[1;33m,\u001b[0m \u001b[0mlista10\u001b[0m\u001b[1;33m.\u001b[0m\u001b[0mindex\u001b[0m\u001b[1;33m(\u001b[0m\u001b[1;36m0\u001b[0m\u001b[1;33m)\u001b[0m\u001b[1;33m)\u001b[0m\u001b[1;33m\u001b[0m\u001b[1;33m\u001b[0m\u001b[0m\n\u001b[0m",
      "\u001b[1;31mValueError\u001b[0m: 0 is not in list"
     ]
    }
   ],
   "source": [
    "print('Índice do elemento buscado:', lista10.index(0))"
   ]
  },
  {
   "cell_type": "markdown",
   "metadata": {},
   "source": [
    "Os operadores `in` e `not in` nos permitem verificar se um dado valor está presente ou não em uma lista. \n",
    "\n",
    "A expressão\n",
    "\n",
    "`elemento in lista`\n",
    "\n",
    "retorna `True` se `elemento` estiver na `lista`, e `False` caso contrário."
   ]
  },
  {
   "cell_type": "code",
   "execution_count": 21,
   "metadata": {},
   "outputs": [
    {
     "name": "stdout",
     "output_type": "stream",
     "text": [
      "O elemento 4 está na lista.\n"
     ]
    }
   ],
   "source": [
    "lista11 = [0,2,4,6,8,10]\n",
    "\n",
    "if 4 in lista11:\n",
    "    print(\"O elemento 4 está na lista.\")"
   ]
  },
  {
   "cell_type": "markdown",
   "metadata": {},
   "source": [
    "Já a expressão\n",
    "\n",
    "`elemento not in lista`\n",
    "\n",
    "retorna `True` se `elemento` não estiver na `lista`, e `False` caso contrário."
   ]
  },
  {
   "cell_type": "code",
<<<<<<< HEAD:notebooks/short/Tema05_Colecoes_de_dados.ipynb
   "execution_count": 22,
=======
   "execution_count": 74,
>>>>>>> 24b7eb83f25bc3734fb874457489cd6f56289cac:notebooks/short/Tema04_Colecoes_de_dados.ipynb
   "metadata": {
    "scrolled": true
   },
   "outputs": [
    {
     "name": "stdout",
     "output_type": "stream",
     "text": [
      "O elemento 3 não está na lista.\n"
     ]
    }
   ],
   "source": [
    "lista11 = [0,2,4,6,8,10]\n",
    "    \n",
    "if 3 not in lista11:\n",
    "    print(\"O elemento 3 não está na lista.\")"
   ]
  },
  {
   "cell_type": "markdown",
   "metadata": {},
   "source": [
<<<<<<< HEAD:notebooks/short/Tema05_Colecoes_de_dados.ipynb
    "#### Ordenando os elementos de uma lista.\n",
    "\n",
    "Podemos utilizar o método `sort()` para ordenar os valores de uma lista. \n",
=======
    "Podemos utilizar o método `sort()` para ordenar os valores de uma lista. Caso a lista seja heterogênea, deve-se definir uma função para especificar o critério de ordenação. \n",
>>>>>>> 24b7eb83f25bc3734fb874457489cd6f56289cac:notebooks/short/Tema04_Colecoes_de_dados.ipynb
    "\n",
    "**OBS**.: Por padrão, o método ordena os elementos em ordem crescente, para ordená-los em ordem decrescente, deve-se definir o parâmetro `reverse = True`."
   ]
  },
  {
   "cell_type": "code",
<<<<<<< HEAD:notebooks/short/Tema05_Colecoes_de_dados.ipynb
   "execution_count": 23,
=======
   "execution_count": 75,
>>>>>>> 24b7eb83f25bc3734fb874457489cd6f56289cac:notebooks/short/Tema04_Colecoes_de_dados.ipynb
   "metadata": {},
   "outputs": [
    {
     "name": "stdout",
     "output_type": "stream",
     "text": [
      "['BMV', 'BMW', 'Ford', 'Volvo']\n"
     ]
    }
   ],
   "source": [
    "cars = ['Ford', 'BMW', 'Volvo', 'BMV']\n",
    "\n",
    "# ordenando em ordem crescente.\n",
    "cars.sort()\n",
    "\n",
    "print(cars)"
   ]
  },
  {
   "cell_type": "code",
   "execution_count": 24,
   "metadata": {},
   "outputs": [
    {
     "name": "stdout",
     "output_type": "stream",
     "text": [
      "[1, 2, 3, 4, 5, 6]\n"
     ]
    }
   ],
   "source": [
    "numbers = [3, 4, 6, 5, 2, 1]\n",
    "\n",
    "# ordenando em ordem crescente.\n",
    "numbers.sort()\n",
    "\n",
    "print(numbers)"
   ]
  },
  {
   "cell_type": "code",
   "execution_count": 25,
   "metadata": {},
   "outputs": [
    {
     "name": "stdout",
     "output_type": "stream",
     "text": [
      "[6, 5, 4, 3, 2, 1]\n"
     ]
    }
   ],
   "source": [
    "numbers = [1,2,3,4,5,6]\n",
    "\n",
    "# ordenando em ordem decrescente.\n",
    "numbers.sort(reverse = True)\n",
    "\n",
    "print(numbers)"
   ]
  },
  {
   "cell_type": "markdown",
   "metadata": {},
   "source": [
    "### Tarefa\n",
    "\n",
    "1. <span style=\"color:blue\">**QUIZ - Listas**</span>: respondam ao questionário sobre listas no MS teams, por favor."
   ]
  },
  {
   "cell_type": "markdown",
   "metadata": {},
   "source": [
    "## Tuplas\n",
    "\n",
    "As tuplas são semelhantes às listas, sendo a única diferença é que elas são **imutáveis**.\n",
    "\n",
    "Portanto, as tuplas são coleções **ordenadas**, **heterogêneas** e **imutáveis** de objetos.\n",
    "\n",
    "Podemos realizar todas as operações que realizamos com as listas, exceto as que alteram os elementos da tupla.\n",
    "\n",
    "**OBS**.: Se um elemento da tupla for mutável, por exemplo, uma lista, então podemos alterar os elementos deste elemento mutável, mas não podemos alterar o elemento lista por outro elemento.\n",
    "\n",
    "As tuplas são úteis porque:\n",
    "\n",
    "+ iterar através dos elementos de uma tupla é mais rápido do que com uma lista devido ao fato de serem imutáveis,\n",
    "+ por serem imutáveis, protegem os dados de serem sobrescritos,\n",
    "+ podem ser usadas como chaves em dicionários, enquanto que listas não podem.\n",
    "\n",
    "Sintaxe:\n",
    "\n",
    "```python\n",
    "tupla = (a, b, ..., z)\n",
    "```\n",
    "\n",
    "Os **parênteses são opcionais**, assim, uma sintaxe que também é válida é\n",
    "\n",
    "```python\n",
    "tupla = a, b, ..., z\n",
    "```\n",
    "\n",
    "### Exemplos\n",
    "\n",
    "#### Criando tuplas."
   ]
  },
  {
   "cell_type": "code",
<<<<<<< HEAD:notebooks/short/Tema05_Colecoes_de_dados.ipynb
   "execution_count": 26,
=======
   "execution_count": 76,
>>>>>>> 24b7eb83f25bc3734fb874457489cd6f56289cac:notebooks/short/Tema04_Colecoes_de_dados.ipynb
   "metadata": {},
   "outputs": [
    {
     "name": "stdout",
     "output_type": "stream",
     "text": [
      "Conteúdo da tupla1 é (1, 2, 3)\n",
      "<class 'tuple'>\n",
      "Conteúdo da tupla2 é (4, 5, 6)\n",
      "<class 'tuple'>\n",
      "Conteúdo da tuplaVazia é ()\n",
      "<class 'tuple'>\n"
     ]
    }
   ],
   "source": [
    "# Cria tupla com os parênteses.\n",
    "tupla1 = (1,2,3)\n",
    "\n",
    "print('Conteúdo da tupla1 é', tupla1)\n",
    "print(type(tupla1))\n",
    "\n",
    "# Cria tupla sem os parênteses.\n",
    "tupla2 = 4,5,6\n",
    "\n",
    "print('Conteúdo da tupla2 é', tupla2)\n",
    "print(type(tupla2))\n",
    "\n",
    "# Cria uma tupla vazia.\n",
    "tuplaVazia = ()\n",
    "\n",
    "print('Conteúdo da tuplaVazia é', tuplaVazia)\n",
    "print(type(tuplaVazia))"
   ]
  },
  {
   "cell_type": "markdown",
   "metadata": {},
   "source": [
    "**Particularidade**: uma tupla com apenas um único elemento deve ser representada como mostrado abaixo, com uma **vírgula** após o único elemento, caso contrário, o interpretador entende que o tipo da variável é `int`, por exemplo."
   ]
  },
  {
   "cell_type": "code",
<<<<<<< HEAD:notebooks/short/Tema05_Colecoes_de_dados.ipynb
   "execution_count": 27,
=======
   "execution_count": 77,
>>>>>>> 24b7eb83f25bc3734fb874457489cd6f56289cac:notebooks/short/Tema04_Colecoes_de_dados.ipynb
   "metadata": {},
   "outputs": [
    {
     "name": "stdout",
     "output_type": "stream",
     "text": [
      "(1,)\n",
      "<class 'tuple'>\n",
      "(1,)\n",
      "<class 'tuple'>\n",
      "1\n",
      "<class 'int'>\n",
      "1\n",
      "<class 'int'>\n"
     ]
    }
   ],
   "source": [
    "tupla3 = (1, )\n",
    "\n",
    "print(tupla3)\n",
    "print(type(tupla3))\n",
    "\n",
    "tupla4 = 1,\n",
    "print(tupla4)\n",
    "print(type(tupla4))\n",
    "\n",
    "tupla5 = (1)\n",
    "print(tupla5)\n",
    "print(type(tupla5))\n",
    "\n",
    "tupla6 = 1\n",
    "print(tupla6)\n",
    "print(type(tupla6))"
   ]
  },
  {
   "cell_type": "markdown",
   "metadata": {},
   "source": [
    "#### Tuplas são coleções heterogêneas.\n",
    "\n",
    "Assim como as listas, as tuplas podem conter elementos de tipos diferentes."
   ]
  },
  {
   "cell_type": "code",
<<<<<<< HEAD:notebooks/short/Tema05_Colecoes_de_dados.ipynb
   "execution_count": 28,
=======
   "execution_count": 78,
>>>>>>> 24b7eb83f25bc3734fb874457489cd6f56289cac:notebooks/short/Tema04_Colecoes_de_dados.ipynb
   "metadata": {},
   "outputs": [
    {
     "name": "stdout",
     "output_type": "stream",
     "text": [
      "O conteúdo da tupla1 é: (10, 23.44, True, 'string')\n",
      "O conteúdo da lista1 é: ['A', 'B', 'C']\n",
      "O conteúdo da tupla2 é: (1, 2, (10, 23.44, True, 'string'), ['A', 'B', 'C'])\n",
      "O número de elementos de tupla2 é 4\n"
     ]
    }
   ],
   "source": [
    "# Criando uma tupla heterogênea.\n",
    "tupla1 = (10, 23.44, True, 'string')\n",
    "\n",
    "print('O conteúdo da tupla1 é:', tupla1)\n",
    "\n",
    "# Criando uma tupla com outra tupla e uma lista.\n",
    "lista1 = ['A', 'B', 'C']\n",
    "\n",
    "print('O conteúdo da lista1 é:', lista1)\n",
    "\n",
    "tupla2 = (1, 2, tupla1, lista1)\n",
    "\n",
    "print('O conteúdo da tupla2 é:', tupla2)\n",
    "print('O número de elementos de tupla2 é', len(tupla2))"
   ]
  },
  {
   "cell_type": "markdown",
   "metadata": {},
   "source": [
    "#### Indexando e fatiando tuplas.\n",
    "\n",
    "Os elementos de uma tupla podem ser indexados e fatiados da mesma forma que os elementos de uma lista."
   ]
  },
  {
   "cell_type": "code",
<<<<<<< HEAD:notebooks/short/Tema05_Colecoes_de_dados.ipynb
   "execution_count": 29,
=======
   "execution_count": 79,
>>>>>>> 24b7eb83f25bc3734fb874457489cd6f56289cac:notebooks/short/Tema04_Colecoes_de_dados.ipynb
   "metadata": {},
   "outputs": [
    {
     "name": "stdout",
     "output_type": "stream",
     "text": [
      "O primeiro elemento da tupla é 10\n"
     ]
    }
   ],
   "source": [
    "tupla1 = (10, 23, 67, 45)\n",
    "\n",
    "primeiro_elemento = tupla1[0]\n",
    "\n",
    "print('O primeiro elemento da tupla é', primeiro_elemento)"
   ]
  },
  {
   "cell_type": "code",
   "execution_count": 30,
   "metadata": {},
   "outputs": [
    {
     "name": "stdout",
     "output_type": "stream",
     "text": [
      "Fatia: (23, 67)\n"
     ]
    }
   ],
   "source": [
    "tupla1 = (10, 23, 67, 45)\n",
    "\n",
    "# Fatiando apenas o segunbdo e terceiro elementos da tupla.\n",
    "fatia = tupla1[1:3]\n",
    "\n",
    "print('Fatia:', fatia)"
   ]
  },
  {
   "cell_type": "markdown",
   "metadata": {},
   "source": [
    "#### Convertendo tuplas.\n",
    "\n",
    "Listas podem ser convertidas em tuplas:"
   ]
  },
  {
   "cell_type": "code",
<<<<<<< HEAD:notebooks/short/Tema05_Colecoes_de_dados.ipynb
   "execution_count": 31,
=======
   "execution_count": 80,
>>>>>>> 24b7eb83f25bc3734fb874457489cd6f56289cac:notebooks/short/Tema04_Colecoes_de_dados.ipynb
   "metadata": {},
   "outputs": [
    {
     "name": "stdout",
     "output_type": "stream",
     "text": [
      "O conteúdo da tupla1 é: ('A', 'B', 'C')\n"
     ]
    }
   ],
   "source": [
    "lista1 = ['A', 'B', 'C']\n",
    "\n",
    "tupla1 = tuple(lista1)\n",
    "\n",
    "print('O conteúdo da tupla1 é:', tupla1)"
   ]
  },
  {
   "cell_type": "markdown",
   "metadata": {},
   "source": [
    "E tuplas podem ser convertidas em listas:"
   ]
  },
  {
   "cell_type": "code",
<<<<<<< HEAD:notebooks/short/Tema05_Colecoes_de_dados.ipynb
   "execution_count": 32,
=======
   "execution_count": 81,
>>>>>>> 24b7eb83f25bc3734fb874457489cd6f56289cac:notebooks/short/Tema04_Colecoes_de_dados.ipynb
   "metadata": {},
   "outputs": [
    {
     "name": "stdout",
     "output_type": "stream",
     "text": [
      "O conteúdo da lista1 é: [10, 23.44, True, 'string']\n"
     ]
    }
   ],
   "source": [
    "tupla1 = (10, 23.44, True, 'string')\n",
    "\n",
    "lista1 = list(tupla1)\n",
    "\n",
    "print('O conteúdo da lista1 é:', lista1)"
   ]
  },
  {
   "cell_type": "markdown",
   "metadata": {},
   "source": [
    "#### Tuplas são imutáveis.\n",
    "\n",
    "Os elementos da tupla são imutáveis, ou seja, não podem ter seus valores alterados. Caso você tente mudar o valor de um elemento, você receberá um erro."
   ]
  },
  {
   "cell_type": "code",
<<<<<<< HEAD:notebooks/short/Tema05_Colecoes_de_dados.ipynb
   "execution_count": 33,
=======
   "execution_count": 82,
>>>>>>> 24b7eb83f25bc3734fb874457489cd6f56289cac:notebooks/short/Tema04_Colecoes_de_dados.ipynb
   "metadata": {},
   "outputs": [
    {
     "ename": "TypeError",
     "evalue": "'tuple' object does not support item assignment",
     "output_type": "error",
     "traceback": [
      "\u001b[1;31m---------------------------------------------------------------------------\u001b[0m",
      "\u001b[1;31mTypeError\u001b[0m                                 Traceback (most recent call last)",
<<<<<<< HEAD:notebooks/short/Tema05_Colecoes_de_dados.ipynb
      "\u001b[1;32m<ipython-input-33-1dd567fc6af5>\u001b[0m in \u001b[0;36m<module>\u001b[1;34m\u001b[0m\n\u001b[0;32m      1\u001b[0m \u001b[0mtupla1\u001b[0m \u001b[1;33m=\u001b[0m \u001b[1;33m(\u001b[0m\u001b[1;36m10\u001b[0m\u001b[1;33m,\u001b[0m \u001b[1;36m23.44\u001b[0m\u001b[1;33m,\u001b[0m \u001b[1;32mTrue\u001b[0m\u001b[1;33m,\u001b[0m \u001b[1;34m'string'\u001b[0m\u001b[1;33m)\u001b[0m\u001b[1;33m\u001b[0m\u001b[1;33m\u001b[0m\u001b[0m\n\u001b[0;32m      2\u001b[0m \u001b[1;33m\u001b[0m\u001b[0m\n\u001b[1;32m----> 3\u001b[1;33m \u001b[0mtupla1\u001b[0m\u001b[1;33m[\u001b[0m\u001b[1;36m0\u001b[0m\u001b[1;33m]\u001b[0m \u001b[1;33m=\u001b[0m \u001b[1;36m1\u001b[0m\u001b[1;33m\u001b[0m\u001b[1;33m\u001b[0m\u001b[0m\n\u001b[0m",
=======
      "\u001b[1;32m<ipython-input-82-1dd567fc6af5>\u001b[0m in \u001b[0;36m<module>\u001b[1;34m\u001b[0m\n\u001b[0;32m      1\u001b[0m \u001b[0mtupla1\u001b[0m \u001b[1;33m=\u001b[0m \u001b[1;33m(\u001b[0m\u001b[1;36m10\u001b[0m\u001b[1;33m,\u001b[0m \u001b[1;36m23.44\u001b[0m\u001b[1;33m,\u001b[0m \u001b[1;32mTrue\u001b[0m\u001b[1;33m,\u001b[0m \u001b[1;34m'string'\u001b[0m\u001b[1;33m)\u001b[0m\u001b[1;33m\u001b[0m\u001b[1;33m\u001b[0m\u001b[0m\n\u001b[0;32m      2\u001b[0m \u001b[1;33m\u001b[0m\u001b[0m\n\u001b[1;32m----> 3\u001b[1;33m \u001b[0mtupla1\u001b[0m\u001b[1;33m[\u001b[0m\u001b[1;36m0\u001b[0m\u001b[1;33m]\u001b[0m \u001b[1;33m=\u001b[0m \u001b[1;36m1\u001b[0m\u001b[1;33m\u001b[0m\u001b[1;33m\u001b[0m\u001b[0m\n\u001b[0m",
>>>>>>> 24b7eb83f25bc3734fb874457489cd6f56289cac:notebooks/short/Tema04_Colecoes_de_dados.ipynb
      "\u001b[1;31mTypeError\u001b[0m: 'tuple' object does not support item assignment"
     ]
    }
   ],
   "source": [
    "tupla1 = (10, 23.44, True, 'string')\n",
    "\n",
    "tupla1[0] = 1"
   ]
  },
  {
   "cell_type": "markdown",
   "metadata": {},
   "source": [
    "Porém, uma tupla pode conter elementos **mutáveis**, como uma lista, por exemplo, e portanto, estes elementos podem ser alterados."
   ]
  },
  {
   "cell_type": "code",
<<<<<<< HEAD:notebooks/short/Tema05_Colecoes_de_dados.ipynb
   "execution_count": 34,
=======
   "execution_count": 83,
>>>>>>> 24b7eb83f25bc3734fb874457489cd6f56289cac:notebooks/short/Tema04_Colecoes_de_dados.ipynb
   "metadata": {},
   "outputs": [
    {
     "name": "stdout",
     "output_type": "stream",
     "text": [
      "O conteúdo da tupla1 é: (1, 'String', [2.1, 45, True])\n"
     ]
    },
    {
     "ename": "TypeError",
     "evalue": "'tuple' object does not support item assignment",
     "output_type": "error",
     "traceback": [
      "\u001b[1;31m---------------------------------------------------------------------------\u001b[0m",
      "\u001b[1;31mTypeError\u001b[0m                                 Traceback (most recent call last)",
<<<<<<< HEAD:notebooks/short/Tema05_Colecoes_de_dados.ipynb
      "\u001b[1;32m<ipython-input-34-2eeeff3b7ab6>\u001b[0m in \u001b[0;36m<module>\u001b[1;34m\u001b[0m\n\u001b[0;32m      4\u001b[0m \u001b[1;33m\u001b[0m\u001b[0m\n\u001b[0;32m      5\u001b[0m \u001b[1;31m# Tentando alterar o primeiro elemento da tupla.\u001b[0m\u001b[1;33m\u001b[0m\u001b[1;33m\u001b[0m\u001b[1;33m\u001b[0m\u001b[0m\n\u001b[1;32m----> 6\u001b[1;33m \u001b[0mtupla1\u001b[0m\u001b[1;33m[\u001b[0m\u001b[1;36m0\u001b[0m\u001b[1;33m]\u001b[0m \u001b[1;33m=\u001b[0m \u001b[1;36m2\u001b[0m\u001b[1;33m\u001b[0m\u001b[1;33m\u001b[0m\u001b[0m\n\u001b[0m",
=======
      "\u001b[1;32m<ipython-input-83-2eeeff3b7ab6>\u001b[0m in \u001b[0;36m<module>\u001b[1;34m\u001b[0m\n\u001b[0;32m      4\u001b[0m \u001b[1;33m\u001b[0m\u001b[0m\n\u001b[0;32m      5\u001b[0m \u001b[1;31m# Tentando alterar o primeiro elemento da tupla.\u001b[0m\u001b[1;33m\u001b[0m\u001b[1;33m\u001b[0m\u001b[1;33m\u001b[0m\u001b[0m\n\u001b[1;32m----> 6\u001b[1;33m \u001b[0mtupla1\u001b[0m\u001b[1;33m[\u001b[0m\u001b[1;36m0\u001b[0m\u001b[1;33m]\u001b[0m \u001b[1;33m=\u001b[0m \u001b[1;36m2\u001b[0m\u001b[1;33m\u001b[0m\u001b[1;33m\u001b[0m\u001b[0m\n\u001b[0m",
>>>>>>> 24b7eb83f25bc3734fb874457489cd6f56289cac:notebooks/short/Tema04_Colecoes_de_dados.ipynb
      "\u001b[1;31mTypeError\u001b[0m: 'tuple' object does not support item assignment"
     ]
    }
   ],
   "source": [
    "tupla1 = (1, 'String', [2.1, 45, True])\n",
    "\n",
    "print('O conteúdo da tupla1 é:', tupla1)\n",
    "\n",
    "# Tentando alterar o primeiro elemento da tupla.\n",
    "tupla1[0] = 2"
   ]
  },
  {
   "cell_type": "code",
<<<<<<< HEAD:notebooks/short/Tema05_Colecoes_de_dados.ipynb
   "execution_count": null,
=======
   "execution_count": 88,
>>>>>>> 24b7eb83f25bc3734fb874457489cd6f56289cac:notebooks/short/Tema04_Colecoes_de_dados.ipynb
   "metadata": {},
   "outputs": [],
   "source": [
    "tupla1 = (1, 'String', [2.1, 45, True])\n",
    "\n",
    "print('O conteúdo do terceiro elemento da tupla1 é:', tupla1[2])\n",
    "\n",
    "# Altero o valor de um elemento da lista que está dentro da tupla.\n",
    "tupla1[2][0] = 'Teste'\n",
    "\n",
    "# Adiciono um valor ao final da lista que está dentro da tupla.\n",
    "tupla1[2].append(1j)\n",
    "\n",
    "print('O conteúdo da tupla1 é:', tupla1)"
   ]
  },
  {
   "cell_type": "markdown",
   "metadata": {},
   "source": [
    "#### Desempacotando elementos de uma tupla.\n",
    "\n",
    "Os elementos de uma tupla podem ser atribuídos a uma sequencia de variáveis, este processo se chama **desempacotamento**."
   ]
  },
  {
   "cell_type": "code",
<<<<<<< HEAD:notebooks/short/Tema05_Colecoes_de_dados.ipynb
   "execution_count": null,
=======
   "execution_count": 89,
>>>>>>> 24b7eb83f25bc3734fb874457489cd6f56289cac:notebooks/short/Tema04_Colecoes_de_dados.ipynb
   "metadata": {},
   "outputs": [],
   "source": [
    "tupla1 = (1, 'String', [2.1, 45, True])\n",
    "\n",
    "a,b,c = tupla1\n",
    "\n",
    "print(a,b,c)\n",
    "\n",
    "a,b = tupla1[0:2]\n",
    "\n",
    "print(a,b)"
   ]
  },
  {
   "cell_type": "markdown",
   "metadata": {},
   "source": [
    "#### Pesquisando o conteúdo de uma tupla.\n",
    "\n",
    "O método `index(valor)` pesquisa a tupla por um valor especificado e retorna o índice de onde foi encontrado. Um erro ocorre se elemento não constar da tupla.\n",
    "\n",
    "**OBS**.: Lembrem-se que podemos usar os operadores `in` e `not in` para verificar se um elemento pertence ou não à tupla antes de usarmos o método `index()`."
   ]
  },
  {
   "cell_type": "code",
   "execution_count": null,
   "metadata": {},
   "outputs": [],
   "source": [
    "tupla = (1, 3.4, True, False, ['a', 'b'])\n",
    "\n",
    "print('Índice do elemento procurado:', tupla.index(3.4))\n",
    "print('Índice do elemento procurado:', tupla.index(['a','b']))"
   ]
  },
  {
   "cell_type": "markdown",
   "metadata": {},
   "source": [
    "### Tarefa\n",
    "\n",
    "1. <span style=\"color:blue\">**QUIZ - Tuplas**</span>: respondam ao questionário sobre tuplas no MS teams, por favor."
   ]
  },
  {
   "cell_type": "markdown",
   "metadata": {},
   "source": [
    "## Conjuntos\n",
    "\n",
    "Um **conjunto** é um conceito ligeiramente diferente de uma lista ou tupla. \n",
    "\n",
    "Um conjunto, em Python, é exatamente como um conjunto matemático. Sendo assim, ele **não contém valores duplicados e não é ordenado**, ou seja, não pode ser indexado.\n",
    "\n",
    "A linguagem Python provê 2 tipos de conjuntos:\n",
    "\n",
    "+ `set`: é uma coleção **mutável**, **unívoca** (ou seja, sem repetições) e **não ordenada** de objetos.\n",
    "\n",
    "    * Um conjunto em si pode ser modificado, mas seus elementos devem ser de um tipo imutável.\n",
    "\n",
    "+ `frozenset`: é uma coleção **imutável**, **unívoca** (ou seja, sem repetições) e **não ordenada** de objetos.\n",
    "\n",
    "Os dois tipos implementam operações de conjuntos, tais como: **união**, **interseção** e **diferença**.\n",
    "\n",
    "Sintaxes válidas para criação de um `set`\n",
    "\n",
    "```python\n",
    "conjunto = {1,2,3}\n",
    "```\n",
    "\n",
    "```python\n",
    "conjunto = set([1,2,3])\n",
    "```\n",
    "\n",
    "```python\n",
    "conjunto = set((1,2,3))\n",
    "```\n",
    "\n",
    "```python\n",
    "conjunto = set({1,2,3})\n",
    "```\n",
    "\n",
    "Sintaxes válidas para para criação de um `frozenset`\n",
    "\n",
    "```python\n",
    "conjunto = frozenset({1,2,3})\n",
    "```\n",
    "\n",
    "```python\n",
    "conjunto = frozenset([1,2,3])\n",
    "```\n",
    "\n",
    "```python\n",
    "conjunto = frozenset((1,2,3))\n",
    "```\n",
    "\n",
    "### Exemplos"
   ]
  },
  {
   "cell_type": "markdown",
   "metadata": {},
   "source": [
    "#### Convertendo conjuntos.\n",
    "\n",
    "Um `set` pode ser convertido em `frozenset` e vice versa."
   ]
  },
  {
   "cell_type": "code",
   "execution_count": 35,
   "metadata": {},
   "outputs": [
    {
     "name": "stdout",
     "output_type": "stream",
     "text": [
      "<class 'frozenset'>\n",
      "<class 'set'>\n",
      "<class 'frozenset'>\n"
     ]
    }
   ],
   "source": [
    "conjunto1 = frozenset([1,2,3])\n",
    "print(type(conjunto1))\n",
    "\n",
    "conjunto2 = set(conjunto1)\n",
    "print(type(conjunto2))\n",
    "\n",
    "conjunto3 = frozenset(conjunto2)\n",
    "print(type(conjunto3))"
   ]
  },
  {
   "cell_type": "markdown",
   "metadata": {},
   "source": [
    "#### Descartando elementos duplicados.\n",
    "\n",
    "Se você criar um conjunto com elementos repetidos o `set` e `frozenset` descartam as duplicatas automaticamente."
   ]
  },
  {
   "cell_type": "code",
   "execution_count": 36,
   "metadata": {},
   "outputs": [
    {
     "name": "stdout",
     "output_type": "stream",
     "text": [
      "<class 'set'>\n",
      "O conteúdo do set é {1, 2, 3}\n",
      "<class 'frozenset'>\n",
      "O conteúdo do frozenset é frozenset({1, 2, 3, 4})\n"
     ]
    }
   ],
   "source": [
    "conjunto1 = {1,2,3,1,3,2}\n",
    "print(type(conjunto1))\n",
    "print('O conteúdo do set é', conjunto1)\n",
    "\n",
    "conjunto2 = frozenset([1,2,3,4,4,3,2,1])\n",
    "print(type(conjunto2))\n",
    "print('O conteúdo do frozenset é', conjunto2)"
   ]
  },
  {
   "cell_type": "markdown",
   "metadata": {},
   "source": [
    "Quando uma lista é convertida para `set` ou `frozenset`, as repetições são descartadas."
   ]
  },
  {
   "cell_type": "code",
<<<<<<< HEAD:notebooks/short/Tema05_Colecoes_de_dados.ipynb
   "execution_count": 37,
=======
   "execution_count": 36,
>>>>>>> 24b7eb83f25bc3734fb874457489cd6f56289cac:notebooks/short/Tema04_Colecoes_de_dados.ipynb
   "metadata": {},
   "outputs": [
    {
     "name": "stdout",
     "output_type": "stream",
     "text": [
      "{False, 1, 2.1, 'string'}\n",
      "frozenset({False, 1, 2.1, 'string'})\n"
     ]
    }
   ],
   "source": [
    "lista1 = [1, 2.1, False, 'string', True, 2.1, False, 0]\n",
    "\n",
    "conjunto1 = set(lista1)\n",
    "\n",
    "# Percebam que os valores True e 0 são descartados pois eles são \n",
    "# interpretados como repetições dos valores 1 e False, respectivamente.\n",
    "print(conjunto1)\n",
    "\n",
    "conjunto2 = frozenset(lista1)\n",
    "\n",
    "print(conjunto2)"
   ]
  },
  {
   "cell_type": "markdown",
   "metadata": {},
   "source": [
    "#### Criando conjuntos com a função range.\n",
    "\n",
    "Você pode criar um conjunto com a função `range()`.\n",
    "\n",
    "**OBS**.: A função `range(start,stop,step)` retorna uma sequência de números, começando em `start` e incrementando em `step` unidades, até um valor antes de `stop`."
   ]
  },
  {
   "cell_type": "code",
<<<<<<< HEAD:notebooks/short/Tema05_Colecoes_de_dados.ipynb
   "execution_count": 38,
=======
   "execution_count": 37,
>>>>>>> 24b7eb83f25bc3734fb874457489cd6f56289cac:notebooks/short/Tema04_Colecoes_de_dados.ipynb
   "metadata": {},
   "outputs": [
    {
     "name": "stdout",
     "output_type": "stream",
     "text": [
      "{0, 1, 2, 3, 4, 5, 6, 7, 8, 9}\n",
      "{0, 2, 4, 6, 8}\n"
     ]
    }
   ],
   "source": [
    "conjunto1 = set(range(0,10))\n",
    "\n",
    "print(conjunto1)\n",
    "\n",
    "conjunto2 = set(range(0,10,2))\n",
    "\n",
    "print(conjunto2)"
   ]
  },
  {
   "cell_type": "markdown",
   "metadata": {},
   "source": [
    "**União de conjuntos**\n",
    "\n",
    "Une os elementos dos 2 conjuntos, mas descartando elementos repetidos."
   ]
  },
  {
   "cell_type": "code",
<<<<<<< HEAD:notebooks/short/Tema05_Colecoes_de_dados.ipynb
   "execution_count": 39,
=======
   "execution_count": 38,
>>>>>>> 24b7eb83f25bc3734fb874457489cd6f56289cac:notebooks/short/Tema04_Colecoes_de_dados.ipynb
   "metadata": {},
   "outputs": [
    {
     "name": "stdout",
     "output_type": "stream",
     "text": [
      "União de s1 e s2: {1, 2, 3, 4, 5, 6}\n",
      "União de s1 e s2: {1, 2, 3, 4, 5, 6}\n"
     ]
    }
   ],
   "source": [
    "# Números ímpares.\n",
    "s1 = {1,3,5}\n",
    "\n",
    "# Números pares.\n",
    "s2 = {2,4,6}\n",
    "\n",
    "s1s2union = s1.union(s2)\n",
    "print('União de s1 e s2:', s1s2union)\n",
    "\n",
    "# Podemos também usar o operador '|'\n",
    "s1s2union = s1 | s2\n",
    "print('União de s1 e s2:', s1s2union)"
   ]
  },
  {
   "cell_type": "markdown",
   "metadata": {},
   "source": [
    "**Diferença de conjuntos**\n",
    "\n",
    "Remove do primeiro conjunto os elementos do segundo conjunto."
   ]
  },
  {
   "cell_type": "code",
<<<<<<< HEAD:notebooks/short/Tema05_Colecoes_de_dados.ipynb
   "execution_count": 40,
=======
   "execution_count": 39,
>>>>>>> 24b7eb83f25bc3734fb874457489cd6f56289cac:notebooks/short/Tema04_Colecoes_de_dados.ipynb
   "metadata": {},
   "outputs": [
    {
     "name": "stdout",
     "output_type": "stream",
     "text": [
      "Diferença de s1 com s2: {1, 3, 5}\n",
      "O conteúdo de s1s2union é {1, 2, 3, 4, 5, 6}\n",
      "Diferença de s1s2union com s1: {2, 4, 6}\n",
      "Diferença de s1s2union com s1: {2, 4, 6}\n"
     ]
    }
   ],
   "source": [
    "# Números ímpares.\n",
    "s1 = {1,3,5}\n",
    "\n",
    "# Números pares.\n",
    "s2 = {2,4,6}\n",
    "\n",
    "s1s2diff = s1.difference(s2)\n",
    "# Como os elementos de s2 não estão presentes em s1, \n",
    "# então a diferença é o proprio s1.\n",
    "print('Diferença de s1 com s2:', s1s2diff)\n",
    "\n",
    "print('O conteúdo de s1s2union é', s1s2union)\n",
    "s1s2diff = s1s2union.difference(s1)\n",
    "print('Diferença de s1s2union com s1:', s1s2diff)\n",
    "\n",
    "# Podemos também usar o operador '-'\n",
    "s1s2diff = s1s2union - s1\n",
    "print('Diferença de s1s2union com s1:', s1s2diff)"
   ]
  },
  {
   "cell_type": "markdown",
   "metadata": {},
   "source": [
    "**Interseção de conjuntos**\n",
    "\n",
    "Retorna os elementos presentes em ambos os conjuntos."
   ]
  },
  {
   "cell_type": "code",
<<<<<<< HEAD:notebooks/short/Tema05_Colecoes_de_dados.ipynb
   "execution_count": 41,
=======
   "execution_count": 40,
>>>>>>> 24b7eb83f25bc3734fb874457489cd6f56289cac:notebooks/short/Tema04_Colecoes_de_dados.ipynb
   "metadata": {},
   "outputs": [
    {
     "name": "stdout",
     "output_type": "stream",
     "text": [
      "O conteúdo de s1s2union é {1, 2, 3, 4, 5, 6}\n",
      "O conteúdo de s1 é {1, 3, 5}\n",
      "Interseção de s1s2union com s1: {1, 3, 5}\n",
      "Interseção de s1s2union com s1: {1, 3, 5}\n"
     ]
    }
   ],
   "source": [
    "print('O conteúdo de s1s2union é', s1s2union)\n",
    "print('O conteúdo de s1 é', s1)\n",
    "\n",
    "interseçãoS1eS2 = s1s2union.intersection(s1)\n",
    "print('Interseção de s1s2union com s1:', interseçãoS1eS2)\n",
    "\n",
    "# Podemos também usar o operador '&'\n",
    "interseçãoS1eS2 = s1s2union & s1\n",
    "print('Interseção de s1s2union com s1:', interseçãoS1eS2)"
   ]
  },
  {
   "cell_type": "markdown",
   "metadata": {},
   "source": [
    "#### Diferença simétrica de conjuntos.\n",
    "\n",
    "A diferença simétrica de s1 e s2 é um conjunto de elementos em s1 e s1, mas não em ambos (excluindo a interseção)."
   ]
  },
  {
   "cell_type": "code",
<<<<<<< HEAD:notebooks/short/Tema05_Colecoes_de_dados.ipynb
   "execution_count": 42,
=======
   "execution_count": 41,
>>>>>>> 24b7eb83f25bc3734fb874457489cd6f56289cac:notebooks/short/Tema04_Colecoes_de_dados.ipynb
   "metadata": {},
   "outputs": [
    {
     "name": "stdout",
     "output_type": "stream",
     "text": [
      "Interseção de s1s2union com s1: {1, 2, 3, 6, 7, 8}\n",
      "Interseção de s1s2union com s1: {1, 2, 3, 6, 7, 8}\n"
     ]
    }
   ],
   "source": [
    "s1 = {1, 2, 3, 4, 5}\n",
    "s2 = {4, 5, 6, 7, 8}\n",
    "\n",
    "diff_simétrica = s1.symmetric_difference(s2)\n",
    "print('Interseção de s1s2union com s1:', diff_simétrica)\n",
    "\n",
    "# Podemos também usar o operador '^'\n",
    "diff_simétrica = s1 ^ s2\n",
    "print('Interseção de s1s2union com s1:', diff_simétrica)"
   ]
  },
  {
   "cell_type": "markdown",
   "metadata": {},
   "source": [
    "#### Verificando se um conjunto inclui outro."
   ]
  },
  {
   "cell_type": "code",
<<<<<<< HEAD:notebooks/short/Tema05_Colecoes_de_dados.ipynb
   "execution_count": 43,
=======
   "execution_count": 90,
>>>>>>> 24b7eb83f25bc3734fb874457489cd6f56289cac:notebooks/short/Tema04_Colecoes_de_dados.ipynb
   "metadata": {},
   "outputs": [
    {
     "name": "stdout",
     "output_type": "stream",
     "text": [
      "s1 não inlui os elementos 1 e 2.\n",
      "s1 e s2 não tem elementos em comum.\n"
     ]
    }
   ],
   "source": [
    "# Números ímpares.\n",
    "s1 = {1,3,5}\n",
    "# Números pares.\n",
    "s2 = {2,4,6}\n",
    "\n",
    "# Testa se um set inclui outro.\n",
    "# O método 'issuperset' retorna True se o conjunto contém o outro conjunto.\n",
    "if s1.issuperset([1, 2]):\n",
    "    print('s1 inclui os elementos 1 e 2.')\n",
    "else:\n",
    "    print('s1 não inlui os elementos 1 e 2.')\n",
    "\n",
    "# Testa se não existe elementos em comum.\n",
    "# O método 'isdisjoint' retorna True se dois conjuntos não tiverem interseção.\n",
    "if s1.isdisjoint(s2):\n",
    "    print('s1 e s2 não tem elementos em comum.')"
   ]
  },
  {
   "cell_type": "markdown",
   "metadata": {},
   "source": [
    "**IMPORTANTE**\n",
    "\n",
    "+ Como conjuntos não são coleções ordenadas, não há como usar a indexação para acessar ou excluir seus elementos. \n",
    "+ Então, para realizar tais operações neles, a linguagem Python nos fornece uma lista de funções e métodos como `discard()`, `pop()`, `clear()`, `remove()`, `add()` e outras. \n",
    "+ Funções embutidas como `len()`, `max()`, `min()`, etc. também se aplicam aos conjuntos."
   ]
  },
  {
   "cell_type": "code",
<<<<<<< HEAD:notebooks/short/Tema05_Colecoes_de_dados.ipynb
   "execution_count": 44,
=======
   "execution_count": 91,
>>>>>>> 24b7eb83f25bc3734fb874457489cd6f56289cac:notebooks/short/Tema04_Colecoes_de_dados.ipynb
   "metadata": {},
   "outputs": [
    {
     "name": "stdout",
     "output_type": "stream",
     "text": [
      "Novo elemento adicionado: {1, 2, 3, 4, 5}\n",
      "Elemento removido: {1, 2, 3, 4}\n",
      "Elemento descartado: {1, 2, 3}\n",
      "Elemento removido da lista: 1\n",
      "Tamanho do conjunto: 2\n",
      "Maior valor do conjunto: 3\n",
      "Menor valor do conjunto: 2\n",
      "Conteúdo da lista: set()\n"
     ]
    }
   ],
   "source": [
    "s1 = {1,2,3,4}\n",
    "\n",
    "# Adicionando um elemento.\n",
    "s1.add(5)\n",
    "print('Novo elemento adicionado:', s1)\n",
    "\n",
    "# Removendo um elemento, lança uma exceção caso o elemento não estiver presente.\n",
    "s1.remove(5)\n",
    "print('Elemento removido:', s1)\n",
    "\n",
    "# Descartando um elemento se ele estiver presente.\n",
    "s1.discard(4)\n",
    "print('Elemento descartado:', s1)\n",
    "\n",
    "# Removendo e retornando um elemento arbitrário do conjunto.\n",
    "elemento = s1.pop()\n",
    "print('Elemento removido da lista:', elemento)\n",
    "\n",
    "# Obtendo o tamanho do conjunto.\n",
    "print('Tamanho do conjunto:', len(s1))\n",
    "\n",
    "# Obtendo o maior valor do conjunto.\n",
    "print('Maior valor do conjunto:', max(s1))\n",
    "\n",
    "# Obtendo o menor valor do conjunto.\n",
    "print('Menor valor do conjunto:', min(s1))\n",
    "\n",
    "# Removendo todos os elementos do conjunto.\n",
    "s1.clear()\n",
    "print('Conteúdo da lista:',s1)"
   ]
  },
  {
   "cell_type": "markdown",
   "metadata": {},
   "source": [
    "#### Alterando os conjuntos.\n",
    "\n",
    "Embora um conjunto seja mutável, e portanto, possa ser modificado (adição, remoção de novos elementos), os elementos contidos nele devem ser imutáveis.\n",
    "\n",
    "Por exemplo, se tentarmos criar um conjunto com uma lista, o interpretador vai retornar um erro."
   ]
  },
  {
   "cell_type": "code",
<<<<<<< HEAD:notebooks/short/Tema05_Colecoes_de_dados.ipynb
   "execution_count": 45,
=======
   "execution_count": 92,
>>>>>>> 24b7eb83f25bc3734fb874457489cd6f56289cac:notebooks/short/Tema04_Colecoes_de_dados.ipynb
   "metadata": {},
   "outputs": [
    {
     "ename": "TypeError",
     "evalue": "unhashable type: 'list'",
     "output_type": "error",
     "traceback": [
      "\u001b[1;31m---------------------------------------------------------------------------\u001b[0m",
      "\u001b[1;31mTypeError\u001b[0m                                 Traceback (most recent call last)",
<<<<<<< HEAD:notebooks/short/Tema05_Colecoes_de_dados.ipynb
      "\u001b[1;32m<ipython-input-45-143fb4f1ad09>\u001b[0m in \u001b[0;36m<module>\u001b[1;34m\u001b[0m\n\u001b[1;32m----> 1\u001b[1;33m \u001b[0ms1\u001b[0m \u001b[1;33m=\u001b[0m \u001b[1;33m{\u001b[0m\u001b[1;36m1\u001b[0m\u001b[1;33m,\u001b[0m \u001b[1;36m2\u001b[0m\u001b[1;33m,\u001b[0m \u001b[1;33m[\u001b[0m\u001b[1;36m3\u001b[0m\u001b[1;33m,\u001b[0m \u001b[1;36m4\u001b[0m\u001b[1;33m]\u001b[0m\u001b[1;33m}\u001b[0m\u001b[1;33m\u001b[0m\u001b[1;33m\u001b[0m\u001b[0m\n\u001b[0m\u001b[0;32m      2\u001b[0m \u001b[0mprint\u001b[0m\u001b[1;33m(\u001b[0m\u001b[0ms1\u001b[0m\u001b[1;33m)\u001b[0m\u001b[1;33m\u001b[0m\u001b[1;33m\u001b[0m\u001b[0m\n",
=======
      "\u001b[1;32m<ipython-input-92-143fb4f1ad09>\u001b[0m in \u001b[0;36m<module>\u001b[1;34m\u001b[0m\n\u001b[1;32m----> 1\u001b[1;33m \u001b[0ms1\u001b[0m \u001b[1;33m=\u001b[0m \u001b[1;33m{\u001b[0m\u001b[1;36m1\u001b[0m\u001b[1;33m,\u001b[0m \u001b[1;36m2\u001b[0m\u001b[1;33m,\u001b[0m \u001b[1;33m[\u001b[0m\u001b[1;36m3\u001b[0m\u001b[1;33m,\u001b[0m \u001b[1;36m4\u001b[0m\u001b[1;33m]\u001b[0m\u001b[1;33m}\u001b[0m\u001b[1;33m\u001b[0m\u001b[1;33m\u001b[0m\u001b[0m\n\u001b[0m\u001b[0;32m      2\u001b[0m \u001b[0mprint\u001b[0m\u001b[1;33m(\u001b[0m\u001b[0ms1\u001b[0m\u001b[1;33m)\u001b[0m\u001b[1;33m\u001b[0m\u001b[1;33m\u001b[0m\u001b[0m\n",
>>>>>>> 24b7eb83f25bc3734fb874457489cd6f56289cac:notebooks/short/Tema04_Colecoes_de_dados.ipynb
      "\u001b[1;31mTypeError\u001b[0m: unhashable type: 'list'"
     ]
    }
   ],
   "source": [
    "s1 = {1, 2, [3, 4]}\n",
    "print(s1)"
   ]
  },
  {
   "cell_type": "markdown",
   "metadata": {},
   "source": [
    "Porém, se tentarmos criar um conjunto com uma tupla como elemento, não teremos problemas."
   ]
  },
  {
   "cell_type": "code",
<<<<<<< HEAD:notebooks/short/Tema05_Colecoes_de_dados.ipynb
   "execution_count": 46,
=======
   "execution_count": 93,
>>>>>>> 24b7eb83f25bc3734fb874457489cd6f56289cac:notebooks/short/Tema04_Colecoes_de_dados.ipynb
   "metadata": {},
   "outputs": [
    {
     "name": "stdout",
     "output_type": "stream",
     "text": [
      "{1, 2, (3, 4)}\n",
      "{1, 2}\n"
     ]
    }
   ],
   "source": [
    "s1 = {1, 2, (3, 4)}\n",
    "print(s1)\n",
    "\n",
    "# Eu consigo apagar o elemento tupla.\n",
    "s1.remove((3,4))\n",
    "print(s1)"
   ]
  },
  {
   "cell_type": "markdown",
   "metadata": {},
   "source": [
    "Frozensets são como os conjuntos, exceto pelo fato de que eles não podem ser alterados, ou seja, eles são imutáveis."
   ]
  },
  {
   "cell_type": "code",
<<<<<<< HEAD:notebooks/short/Tema05_Colecoes_de_dados.ipynb
   "execution_count": 48,
   "metadata": {
    "scrolled": true
   },
=======
   "execution_count": 94,
   "metadata": {},
>>>>>>> 24b7eb83f25bc3734fb874457489cd6f56289cac:notebooks/short/Tema04_Colecoes_de_dados.ipynb
   "outputs": [
    {
     "ename": "AttributeError",
     "evalue": "'frozenset' object has no attribute 'add'",
     "output_type": "error",
     "traceback": [
      "\u001b[1;31m---------------------------------------------------------------------------\u001b[0m",
      "\u001b[1;31mAttributeError\u001b[0m                            Traceback (most recent call last)",
<<<<<<< HEAD:notebooks/short/Tema05_Colecoes_de_dados.ipynb
      "\u001b[1;32m<ipython-input-48-a9470d90c4f4>\u001b[0m in \u001b[0;36m<module>\u001b[1;34m\u001b[0m\n\u001b[0;32m      1\u001b[0m \u001b[0mcidades\u001b[0m \u001b[1;33m=\u001b[0m \u001b[0mfrozenset\u001b[0m\u001b[1;33m(\u001b[0m\u001b[1;33m[\u001b[0m\u001b[1;34m\"Itajubá\"\u001b[0m\u001b[1;33m,\u001b[0m \u001b[1;34m\"Varginha\"\u001b[0m\u001b[1;33m,\u001b[0m \u001b[1;34m\"Piranguinho\"\u001b[0m\u001b[1;33m]\u001b[0m\u001b[1;33m)\u001b[0m\u001b[1;33m\u001b[0m\u001b[1;33m\u001b[0m\u001b[0m\n\u001b[1;32m----> 2\u001b[1;33m \u001b[0mcidades\u001b[0m\u001b[1;33m.\u001b[0m\u001b[0madd\u001b[0m\u001b[1;33m(\u001b[0m\u001b[1;34m\"Caxambú\"\u001b[0m\u001b[1;33m)\u001b[0m\u001b[1;33m\u001b[0m\u001b[1;33m\u001b[0m\u001b[0m\n\u001b[0m",
=======
      "\u001b[1;32m<ipython-input-94-466071e03022>\u001b[0m in \u001b[0;36m<module>\u001b[1;34m\u001b[0m\n\u001b[0;32m      1\u001b[0m \u001b[0mcidades\u001b[0m \u001b[1;33m=\u001b[0m \u001b[0mfrozenset\u001b[0m\u001b[1;33m(\u001b[0m\u001b[1;33m[\u001b[0m\u001b[1;34m\"Campanha\"\u001b[0m\u001b[1;33m,\u001b[0m \u001b[1;34m\"Varginha\"\u001b[0m\u001b[1;33m,\u001b[0m \u001b[1;34m\"Piranguinho\"\u001b[0m\u001b[1;33m]\u001b[0m\u001b[1;33m)\u001b[0m\u001b[1;33m\u001b[0m\u001b[1;33m\u001b[0m\u001b[0m\n\u001b[1;32m----> 2\u001b[1;33m \u001b[0mcidades\u001b[0m\u001b[1;33m.\u001b[0m\u001b[0madd\u001b[0m\u001b[1;33m(\u001b[0m\u001b[1;34m\"Itajuba\"\u001b[0m\u001b[1;33m)\u001b[0m\u001b[1;33m\u001b[0m\u001b[1;33m\u001b[0m\u001b[0m\n\u001b[0m",
>>>>>>> 24b7eb83f25bc3734fb874457489cd6f56289cac:notebooks/short/Tema04_Colecoes_de_dados.ipynb
      "\u001b[1;31mAttributeError\u001b[0m: 'frozenset' object has no attribute 'add'"
     ]
    }
   ],
   "source": [
    "cidades = frozenset([\"Itajubá\", \"Varginha\", \"Piranguinho\"])\n",
    "cidades.add(\"Caxambú\")"
   ]
  },
  {
   "cell_type": "markdown",
   "metadata": {},
   "source": [
    "#### Verificando se um objeto está no conjunto.\n",
    "\n",
    "Podmeos testar se um objeto está em um conjunto com os operadores `in` e `not in`."
   ]
  },
  {
   "cell_type": "code",
<<<<<<< HEAD:notebooks/short/Tema05_Colecoes_de_dados.ipynb
   "execution_count": 49,
=======
   "execution_count": 95,
>>>>>>> 24b7eb83f25bc3734fb874457489cd6f56289cac:notebooks/short/Tema04_Colecoes_de_dados.ipynb
   "metadata": {},
   "outputs": [
    {
     "name": "stdout",
     "output_type": "stream",
     "text": [
      "'A' não está presente em s1\n",
      "'A' não está presente em s1\n"
     ]
    }
   ],
   "source": [
    "s1 = {'B', 1, 2.3, True}\n",
    "\n",
    "# Usando operador in.\n",
    "if 'A' in s1:\n",
    "    print('\\'A\\' está presente em s1')\n",
    "else:\n",
    "    print('\\'A\\' não está presente em s1')\n",
    "    \n",
    "# Usando operador not in.\n",
    "if 'A' not in s1:\n",
    "    print('\\'A\\' não está presente em s1')\n",
    "else:\n",
    "    print('\\'A\\' está presente em s1')"
   ]
  },
  {
   "cell_type": "markdown",
   "metadata": {},
   "source": [
    "#### Conjuntos contendo sets e frozensets.\n",
    "\n",
    "Um `frozenset` pode ser parte de um `set`."
   ]
  },
  {
   "cell_type": "code",
<<<<<<< HEAD:notebooks/short/Tema05_Colecoes_de_dados.ipynb
   "execution_count": 50,
=======
   "execution_count": 96,
>>>>>>> 24b7eb83f25bc3734fb874457489cd6f56289cac:notebooks/short/Tema04_Colecoes_de_dados.ipynb
   "metadata": {},
   "outputs": [
    {
     "name": "stdout",
     "output_type": "stream",
     "text": [
<<<<<<< HEAD:notebooks/short/Tema05_Colecoes_de_dados.ipynb
      "{frozenset({'bar', 'qux', 'foo', 'baz'}), 2, 3, 4}\n"
=======
      "{frozenset({'foo', 'baz', 'qux', 'bar'}), 2, 3, 4}\n"
>>>>>>> 24b7eb83f25bc3734fb874457489cd6f56289cac:notebooks/short/Tema04_Colecoes_de_dados.ipynb
     ]
    }
   ],
   "source": [
    "s1 = frozenset({'foo', 'bar', 'baz', 'qux'})\n",
    "\n",
    "s2 = {2, 3, 4, s1}\n",
    "\n",
    "print(s2)"
   ]
  },
  {
   "cell_type": "markdown",
   "metadata": {},
   "source": [
    "Porém, um `set` não pode ser parte de um `frozenset` por ser mutável."
   ]
  },
  {
   "cell_type": "code",
<<<<<<< HEAD:notebooks/short/Tema05_Colecoes_de_dados.ipynb
   "execution_count": 51,
=======
   "execution_count": 97,
>>>>>>> 24b7eb83f25bc3734fb874457489cd6f56289cac:notebooks/short/Tema04_Colecoes_de_dados.ipynb
   "metadata": {},
   "outputs": [
    {
     "ename": "TypeError",
     "evalue": "unhashable type: 'set'",
     "output_type": "error",
     "traceback": [
      "\u001b[1;31m---------------------------------------------------------------------------\u001b[0m",
      "\u001b[1;31mTypeError\u001b[0m                                 Traceback (most recent call last)",
<<<<<<< HEAD:notebooks/short/Tema05_Colecoes_de_dados.ipynb
      "\u001b[1;32m<ipython-input-51-5d741a0a57b8>\u001b[0m in \u001b[0;36m<module>\u001b[1;34m\u001b[0m\n\u001b[0;32m      1\u001b[0m \u001b[0ms3\u001b[0m \u001b[1;33m=\u001b[0m \u001b[1;33m{\u001b[0m\u001b[1;36m1\u001b[0m\u001b[1;33m,\u001b[0m \u001b[1;36m2\u001b[0m\u001b[1;33m,\u001b[0m \u001b[1;36m3\u001b[0m\u001b[1;33m}\u001b[0m\u001b[1;33m\u001b[0m\u001b[1;33m\u001b[0m\u001b[0m\n\u001b[0;32m      2\u001b[0m \u001b[1;33m\u001b[0m\u001b[0m\n\u001b[1;32m----> 3\u001b[1;33m \u001b[0ms4\u001b[0m \u001b[1;33m=\u001b[0m \u001b[0mfrozenset\u001b[0m\u001b[1;33m(\u001b[0m\u001b[1;33m{\u001b[0m\u001b[1;34m'foo'\u001b[0m\u001b[1;33m,\u001b[0m \u001b[1;34m'bar'\u001b[0m\u001b[1;33m,\u001b[0m \u001b[1;34m'baz'\u001b[0m\u001b[1;33m,\u001b[0m \u001b[1;34m'qux'\u001b[0m\u001b[1;33m,\u001b[0m \u001b[0ms3\u001b[0m\u001b[1;33m}\u001b[0m\u001b[1;33m)\u001b[0m\u001b[1;33m\u001b[0m\u001b[1;33m\u001b[0m\u001b[0m\n\u001b[0m",
=======
      "\u001b[1;32m<ipython-input-97-5d741a0a57b8>\u001b[0m in \u001b[0;36m<module>\u001b[1;34m\u001b[0m\n\u001b[0;32m      1\u001b[0m \u001b[0ms3\u001b[0m \u001b[1;33m=\u001b[0m \u001b[1;33m{\u001b[0m\u001b[1;36m1\u001b[0m\u001b[1;33m,\u001b[0m \u001b[1;36m2\u001b[0m\u001b[1;33m,\u001b[0m \u001b[1;36m3\u001b[0m\u001b[1;33m}\u001b[0m\u001b[1;33m\u001b[0m\u001b[1;33m\u001b[0m\u001b[0m\n\u001b[0;32m      2\u001b[0m \u001b[1;33m\u001b[0m\u001b[0m\n\u001b[1;32m----> 3\u001b[1;33m \u001b[0ms4\u001b[0m \u001b[1;33m=\u001b[0m \u001b[0mfrozenset\u001b[0m\u001b[1;33m(\u001b[0m\u001b[1;33m{\u001b[0m\u001b[1;34m'foo'\u001b[0m\u001b[1;33m,\u001b[0m \u001b[1;34m'bar'\u001b[0m\u001b[1;33m,\u001b[0m \u001b[1;34m'baz'\u001b[0m\u001b[1;33m,\u001b[0m \u001b[1;34m'qux'\u001b[0m\u001b[1;33m,\u001b[0m \u001b[0ms3\u001b[0m\u001b[1;33m}\u001b[0m\u001b[1;33m)\u001b[0m\u001b[1;33m\u001b[0m\u001b[1;33m\u001b[0m\u001b[0m\n\u001b[0m",
>>>>>>> 24b7eb83f25bc3734fb874457489cd6f56289cac:notebooks/short/Tema04_Colecoes_de_dados.ipynb
      "\u001b[1;31mTypeError\u001b[0m: unhashable type: 'set'"
     ]
    }
   ],
   "source": [
    "s3 = {1, 2, 3}\n",
    "\n",
    "s4 = frozenset({'foo', 'bar', 'baz', 'qux', s3})"
   ]
  },
  {
   "cell_type": "markdown",
   "metadata": {},
   "source": [
    "### Tarefa\n",
    "\n",
    "1. <span style=\"color:blue\">**QUIZ - Conjuntos**</span>: respondam ao questionário sobre conjuntos no MS teams, por favor."
   ]
  },
  {
   "cell_type": "markdown",
   "metadata": {},
   "source": [
    "## Dicionários\n",
    "\n",
    "+ Um dicionário é uma **lista de associações** compostas por uma **chave única** e **objetos** correspondentes.\n",
    "    + Pense em um dicionário de Português. Ele contém pares de palavra (**chave**) e significado daquela palavra (**valor**). Da mesma forma, um dicionário em Python contém pares de **chave-valor**.\n",
    "+ São **mutáveis**, tais como as listas.\n",
    "+ São acessados através da **chave** e não pela posição (índice), como nas listas.\n",
    "+ A **chave** precisa ser de um tipo **imutável**. Geralmente são usadas strings, mas também podem ser tuplas ou tipos numéricos. \n",
    "+ Já os **valores** dos dicionários podem ser tanto mutáveis quanto imutáveis. \n",
    "+ **Não são coleções ordenadas**, ou seja, não acessamos seus elementos através de seus índices.\n",
    "+ Podemos acessar a lista de **chaves** ou **valores** de forma independente.\n",
    "+ Usa-se chaves, `{}`, para se declarar um dicionário. O interpretador diferencia um dicionário de um conjunto através dos dois pontos, `:`, que separam a chave do valor.\n",
    "\n",
    "Sintaxe:\n",
    "\n",
    "```python\n",
    "dicionario = {'a': a, 'b': b, ..., 'z': z}\n",
    "```\n",
    "\n",
    "### Exemplos\n",
    "\n",
    "#### Criando dicionários.\n",
    "\n",
    "Criando um dicionário vazio."
   ]
  },
  {
   "cell_type": "code",
<<<<<<< HEAD:notebooks/short/Tema05_Colecoes_de_dados.ipynb
   "execution_count": 52,
=======
   "execution_count": 49,
>>>>>>> 24b7eb83f25bc3734fb874457489cd6f56289cac:notebooks/short/Tema04_Colecoes_de_dados.ipynb
   "metadata": {},
   "outputs": [
    {
     "name": "stdout",
     "output_type": "stream",
     "text": [
      "Tipo de d1 é: <class 'dict'>\n"
     ]
    }
   ],
   "source": [
    "d1 = {}\n",
    "\n",
    "print('Tipo de d1 é:', type(d1))"
   ]
  },
  {
   "cell_type": "markdown",
   "metadata": {},
   "source": [
    "Criando um dicionário com 2 itens."
   ]
  },
  {
   "cell_type": "code",
<<<<<<< HEAD:notebooks/short/Tema05_Colecoes_de_dados.ipynb
   "execution_count": 53,
=======
   "execution_count": 50,
>>>>>>> 24b7eb83f25bc3734fb874457489cd6f56289cac:notebooks/short/Tema04_Colecoes_de_dados.ipynb
   "metadata": {},
   "outputs": [
    {
     "name": "stdout",
     "output_type": "stream",
     "text": [
      "{'presunto': 2, 'ovos': 3}\n"
     ]
    }
   ],
   "source": [
    "d2 = {'presunto' : 2, 'ovos' : 3}\n",
    "\n",
    "print(d2)"
   ]
  },
  {
   "cell_type": "markdown",
   "metadata": {},
   "source": [
    "Criando um dicionário utilizando seu construtor."
   ]
  },
  {
   "cell_type": "code",
   "execution_count": 54,
   "metadata": {},
   "outputs": [
    {
     "name": "stdout",
     "output_type": "stream",
     "text": [
      "{'one': 1, 'two': 2, 'three': 3}\n"
     ]
    }
   ],
   "source": [
    "d3 = dict(one=1, two=2, three=3)\n",
    "\n",
    "print(d3)"
   ]
  },
  {
   "cell_type": "markdown",
   "metadata": {},
   "source": [
    "#### Chaves de diferentes tipos.\n",
    "\n",
    "As chaves de um dicionário podem ser de tipos diferentes."
   ]
  },
  {
   "cell_type": "code",
<<<<<<< HEAD:notebooks/short/Tema05_Colecoes_de_dados.ipynb
   "execution_count": 55,
=======
   "execution_count": 51,
>>>>>>> 24b7eb83f25bc3734fb874457489cd6f56289cac:notebooks/short/Tema04_Colecoes_de_dados.ipynb
   "metadata": {},
   "outputs": [
    {
     "name": "stdout",
     "output_type": "stream",
     "text": [
      "O conteúdo do dicionário d3 é: {'presunto': 1, 2: 3, True: 'string'}\n",
      "O valor associado à chave 'presunto' é 1\n",
      "O valor associado à chave 2 é 3\n",
      "O valor associado à chave True é string\n"
     ]
    }
   ],
   "source": [
    "d3 = {'presunto' : 1, 2 : 3, True : 'string'}\n",
    "\n",
    "print('O conteúdo do dicionário d3 é:', d3)\n",
    "\n",
    "print('O valor associado à chave \\'presunto\\' é', d3['presunto'])\n",
    "print('O valor associado à chave 2 é', d3[2])\n",
    "print('O valor associado à chave True é', d3[True])"
   ]
  },
  {
   "cell_type": "markdown",
   "metadata": {},
   "source": [
    "#### Valores mutáveis e imutáveis.\n",
    "\n",
    "Os valores de um dicionário podem ser de tipos mutáveis ou imutáveis, como tipos numéricos, strings, listas, tuplas, conjuntos e outros dicionários."
   ]
  },
  {
   "cell_type": "code",
<<<<<<< HEAD:notebooks/short/Tema05_Colecoes_de_dados.ipynb
   "execution_count": 56,
=======
   "execution_count": 52,
>>>>>>> 24b7eb83f25bc3734fb874457489cd6f56289cac:notebooks/short/Tema04_Colecoes_de_dados.ipynb
   "metadata": {},
   "outputs": [
    {
     "name": "stdout",
     "output_type": "stream",
     "text": [
      "O conteúdo do dicionário d3 é: {'presento': [1, 2], (1, 2): ('a', 'b'), True: {1: 1, 'A': 2}, 34: {1, 2, 3}}\n"
     ]
    }
   ],
   "source": [
    "d3 = {'presento' : [1, 2], (1,2) : ('a','b'), True : {1:1, 'A':2}, 34 : {1,2,3} }\n",
    "\n",
    "print('O conteúdo do dicionário d3 é:', d3)"
   ]
  },
  {
   "cell_type": "markdown",
   "metadata": {},
   "source": [
    "Criando dicionários aninhados e acessando seus valores.\n",
    "\n",
    "**IMPORTANTE**: dicionários podem ser aninhados em qualquer profundidade."
   ]
  },
  {
   "cell_type": "code",
<<<<<<< HEAD:notebooks/short/Tema05_Colecoes_de_dados.ipynb
   "execution_count": 57,
=======
   "execution_count": 53,
>>>>>>> 24b7eb83f25bc3734fb874457489cd6f56289cac:notebooks/short/Tema04_Colecoes_de_dados.ipynb
   "metadata": {},
   "outputs": [
    {
     "name": "stdout",
     "output_type": "stream",
     "text": [
      "Acessando um valor: 1\n",
      "Acessando um valor: fim\n"
     ]
    }
   ],
   "source": [
    "d3 = {'info' : {42 : 1, 'A' : 2}, 'spam' : []}\n",
    "\n",
    "print('Acessando um valor:', d3['info'][42])\n",
    "\n",
    "d4 = {1 : {'dois' : {True : 'fim'} } }\n",
    "\n",
    "print('Acessando um valor:', d4[1]['dois'][True])"
   ]
  },
  {
   "cell_type": "markdown",
   "metadata": {},
   "source": [
    "#### Número de elementos em um dicionário.\n",
    "\n",
    "Verificando o número de elementos de um dicionário com a função `len()`"
   ]
  },
  {
   "cell_type": "code",
<<<<<<< HEAD:notebooks/short/Tema05_Colecoes_de_dados.ipynb
   "execution_count": 58,
=======
   "execution_count": 54,
>>>>>>> 24b7eb83f25bc3734fb874457489cd6f56289cac:notebooks/short/Tema04_Colecoes_de_dados.ipynb
   "metadata": {},
   "outputs": [
    {
     "name": "stdout",
     "output_type": "stream",
     "text": [
      "O número de itens em d1 é: 0\n",
      "O número de itens em d1 é: 2\n"
     ]
    }
   ],
   "source": [
    "d1 = {}\n",
    "\n",
    "print('O número de itens em d1 é:', len(d1))\n",
    "\n",
    "d1 = {1 : 1, 2 : 2}\n",
    "\n",
    "print('O número de itens em d1 é:', len(d1))"
   ]
  },
  {
   "cell_type": "markdown",
   "metadata": {},
   "source": [
    "#### Acessando valores de um dicionário.\n",
    "\n",
    "Para acessar valores de um dicionário, usamos suas chaves como índices. "
   ]
  },
  {
   "cell_type": "code",
<<<<<<< HEAD:notebooks/short/Tema05_Colecoes_de_dados.ipynb
   "execution_count": 59,
=======
   "execution_count": 55,
>>>>>>> 24b7eb83f25bc3734fb874457489cd6f56289cac:notebooks/short/Tema04_Colecoes_de_dados.ipynb
   "metadata": {},
   "outputs": [
    {
     "name": "stdout",
     "output_type": "stream",
     "text": [
      "O par da chave 'presunto' é: 2\n"
     ]
    }
   ],
   "source": [
    "d2 = {'presunto' : 2, 'ovos' : 3}\n",
    "\n",
    "print('O par da chave \\'presunto\\' é:', d2['presunto'])"
   ]
  },
  {
   "cell_type": "markdown",
   "metadata": {},
   "source": [
    "Quando a chave não existe, neste caso, retorna um erro de `KeyError`. "
   ]
  },
  {
   "cell_type": "code",
<<<<<<< HEAD:notebooks/short/Tema05_Colecoes_de_dados.ipynb
   "execution_count": 60,
=======
   "execution_count": 56,
>>>>>>> 24b7eb83f25bc3734fb874457489cd6f56289cac:notebooks/short/Tema04_Colecoes_de_dados.ipynb
   "metadata": {},
   "outputs": [
    {
     "ename": "KeyError",
     "evalue": "'queijo'",
     "output_type": "error",
     "traceback": [
      "\u001b[1;31m---------------------------------------------------------------------------\u001b[0m",
      "\u001b[1;31mKeyError\u001b[0m                                  Traceback (most recent call last)",
<<<<<<< HEAD:notebooks/short/Tema05_Colecoes_de_dados.ipynb
      "\u001b[1;32m<ipython-input-60-e1a355de8d2d>\u001b[0m in \u001b[0;36m<module>\u001b[1;34m\u001b[0m\n\u001b[1;32m----> 1\u001b[1;33m \u001b[0mprint\u001b[0m\u001b[1;33m(\u001b[0m\u001b[1;34m'O par da chave \\'queijo\\' é:'\u001b[0m\u001b[1;33m,\u001b[0m \u001b[0md2\u001b[0m\u001b[1;33m[\u001b[0m\u001b[1;34m'queijo'\u001b[0m\u001b[1;33m]\u001b[0m\u001b[1;33m)\u001b[0m\u001b[1;33m\u001b[0m\u001b[1;33m\u001b[0m\u001b[0m\n\u001b[0m",
      "\u001b[1;31mKeyError\u001b[0m: 'queijo'"
=======
      "\u001b[1;32m<ipython-input-56-2436db7b40d1>\u001b[0m in \u001b[0;36m<module>\u001b[1;34m\u001b[0m\n\u001b[1;32m----> 1\u001b[1;33m \u001b[0mprint\u001b[0m\u001b[1;33m(\u001b[0m\u001b[1;34m'O par da chave \\'ham\\' é:'\u001b[0m\u001b[1;33m,\u001b[0m \u001b[0md2\u001b[0m\u001b[1;33m[\u001b[0m\u001b[1;34m'ham'\u001b[0m\u001b[1;33m]\u001b[0m\u001b[1;33m)\u001b[0m\u001b[1;33m\u001b[0m\u001b[1;33m\u001b[0m\u001b[0m\n\u001b[0m",
      "\u001b[1;31mKeyError\u001b[0m: 'ham'"
>>>>>>> 24b7eb83f25bc3734fb874457489cd6f56289cac:notebooks/short/Tema04_Colecoes_de_dados.ipynb
     ]
    }
   ],
   "source": [
    "print('O par da chave \\'queijo\\' é:', d2['queijo'])"
   ]
  },
  {
   "cell_type": "markdown",
   "metadata": {},
   "source": [
    "Outra forma de acessar valores é através do método `get(key, [, default])`. \n",
    "\n",
    "Diferentemente da forma acima, o método `get` não retorna um erro quando a chave não existe no dicionário, mas sim o valor `None` ou o valor `default` caso ele tenha sido defindo na chamada do método."
   ]
  },
  {
   "cell_type": "code",
<<<<<<< HEAD:notebooks/short/Tema05_Colecoes_de_dados.ipynb
   "execution_count": null,
   "metadata": {},
   "outputs": [],
=======
   "execution_count": 98,
   "metadata": {},
   "outputs": [
    {
     "name": "stdout",
     "output_type": "stream",
     "text": [
      "O par da chave 'spam' é: None\n",
      "O par da chave 'ham' é: None\n",
      "O par da chave 'ham' é: 0\n",
      "O conteúdo do dicionário não é alterado: {'a': 2, 'b': 2, 'c': 3}\n"
     ]
    }
   ],
>>>>>>> 24b7eb83f25bc3734fb874457489cd6f56289cac:notebooks/short/Tema04_Colecoes_de_dados.ipynb
   "source": [
    "d2 = {'presunto' : 2, 'ovos' : 3}\n",
    "\n",
    "# Busca o valor da chave 'presunto'.\n",
    "print('O par da chave \\'presunto\\' é:', d2.get('presunto'))\n",
    "\n",
    "# Busca o valor da chave 'queijo' como este não existe, retorna None.\n",
    "print('O par da chave \\'queijo\\' é:', d2.get('queijo'))\n",
    "\n",
    "# Busca o valor da chave 'queijo' como este não existe, retorna o valor 0, \n",
    "# que é o valor definido como default.\n",
    "print('O par da chave \\'queijo\\' é:', d2.get('queijo', 0))\n",
    "\n",
    "# Vejam que o método get() não altera o conteúdo do dicionário.\n",
    "print('O conteúdo do dicionário não é alterado:', d2)"
   ]
  },
  {
   "cell_type": "markdown",
   "metadata": {},
   "source": [
    "O método `pop(key, [, default])` é ainda outra forma de acessar valores de um dicionário. \n",
    "\n",
    "Porém, diferentemente do método `get(key, [, default])`, além de retornar o valor referente a chave passada, ele remove aquele par chave-valor do dicionário. \n",
    "\n",
    "Caso a chave passada não exista no dicionário, a função retorna `None` ou o valor `default` caso ele tenha sido definido."
   ]
  },
  {
   "cell_type": "code",
<<<<<<< HEAD:notebooks/short/Tema05_Colecoes_de_dados.ipynb
   "execution_count": null,
   "metadata": {},
   "outputs": [],
=======
   "execution_count": 99,
   "metadata": {},
   "outputs": [
    {
     "name": "stdout",
     "output_type": "stream",
     "text": [
      "O par da chave 'spam' é: 0\n",
      "O conteúdo do dicionário é alterado: {'a': 2, 'b': 2, 'c': 3}\n",
      "O par da chave 'spam' é: 0\n"
     ]
    }
   ],
>>>>>>> 24b7eb83f25bc3734fb874457489cd6f56289cac:notebooks/short/Tema04_Colecoes_de_dados.ipynb
   "source": [
    "# Busca o valor da chave 'presunto'.\n",
    "print('O par da chave \\'presunto\\' é:', d2.pop('presunto', 0))\n",
    "\n",
    "print('O conteúdo do dicionário é alterado:', d2)\n",
    "\n",
    "# Busca o valor da chave 'queijo'.\n",
    "print('O par da chave \\'queijo\\' é:', d2.pop('queijo', 0))"
   ]
  },
  {
   "cell_type": "markdown",
   "metadata": {},
   "source": [
    "#### Listas com chaves e valores de um dicionário.\n",
    "\n",
    "Podemos verificar as chaves e valores presentes em um dicionário com os métodos `keys()`, `values()` e `items()`.\n",
    "\n",
    "+ O método `keys()` retorna uma lista com todas as chaves do dicionário.\n",
    "+ O método `values()` retorna uma lista com todas os valores do dicionário.\n",
    "+ O método `items()` retorna uma lista de tuplas com os pares chave-valor do dicionário."
   ]
  },
  {
   "cell_type": "code",
<<<<<<< HEAD:notebooks/short/Tema05_Colecoes_de_dados.ipynb
   "execution_count": 61,
=======
   "execution_count": 100,
>>>>>>> 24b7eb83f25bc3734fb874457489cd6f56289cac:notebooks/short/Tema04_Colecoes_de_dados.ipynb
   "metadata": {},
   "outputs": [
    {
     "name": "stdout",
     "output_type": "stream",
     "text": [
      "dict_keys(['first', 'second', 'third'])\n",
      "dict_values(['string', [1, 2], (2.12, True, 'False')])\n",
      "dict_items([('first', 'string'), ('second', [1, 2]), ('third', (2.12, True, 'False'))])\n"
     ]
    }
   ],
   "source": [
    "d2 = {'first' : 'string', 'second' : [1,2], 'third' : (2.12, True, 'False')}\n",
    "\n",
    "# Mostra todos as chaves do dicionário.\n",
    "print(d2.keys())\n",
    "\n",
    "# Mostra todos os valores do dicionário.\n",
    "print(d2.values())\n",
    "\n",
    "# Mostra todos os pares chave-valor do dicionário.\n",
    "print(d2.items())"
   ]
  },
  {
   "cell_type": "markdown",
   "metadata": {},
   "source": [
    "#### Verificando se um dicionário contém uma chave.\n",
    "\n",
    "Os **operadores de associação** `in` e `not in` podem ser utilizados para verificar se um dicionário contém uma chave específica."
   ]
  },
  {
   "cell_type": "code",
<<<<<<< HEAD:notebooks/short/Tema05_Colecoes_de_dados.ipynb
   "execution_count": 62,
=======
   "execution_count": 101,
>>>>>>> 24b7eb83f25bc3734fb874457489cd6f56289cac:notebooks/short/Tema04_Colecoes_de_dados.ipynb
   "metadata": {},
   "outputs": [
    {
     "name": "stdout",
     "output_type": "stream",
     "text": [
      "A chave 'B' está em d1? True\n",
      "A chave 'D' não está em d1? True\n"
     ]
    }
   ],
   "source": [
    "d1 = {'A' : 1, 'B' : 2, 'C' : 3}\n",
    "\n",
    "resultado = 'B' in d1\n",
    "print('A chave \\'B\\' está em d1?', resultado)\n",
    "\n",
    "resultado = 'D' not in d1\n",
    "print('A chave \\'D\\' não está em d1?', resultado)"
   ]
  },
  {
   "cell_type": "markdown",
   "metadata": {},
   "source": [
    "#### Iterando através de dicionários.\n",
    "\n",
    "Iterando através de um dicionário com o laço `for`."
   ]
  },
  {
   "cell_type": "code",
<<<<<<< HEAD:notebooks/short/Tema05_Colecoes_de_dados.ipynb
   "execution_count": 63,
=======
   "execution_count": 102,
>>>>>>> 24b7eb83f25bc3734fb874457489cd6f56289cac:notebooks/short/Tema04_Colecoes_de_dados.ipynb
   "metadata": {},
   "outputs": [
    {
     "name": "stdout",
     "output_type": "stream",
     "text": [
      "Chave: A - Valor: 1\n",
      "Chave: B - Valor: 2\n",
      "Chave: C - Valor: 3\n"
     ]
    }
   ],
   "source": [
    "d1 = {'A' : 1, 'B' : 2, 'C' : 3}\n",
    "\n",
    "for key in d1:\n",
    "    print('Chave: %s - Valor: %d' % (key, d1[key]) )"
   ]
  },
  {
   "cell_type": "markdown",
   "metadata": {},
   "source": [
    "Iterando através de um dicionário com o laço `while`.\n",
    "\n",
    "**OBS**.: O método `popitem()` remove o último elemento inserido no dicionário."
   ]
  },
  {
   "cell_type": "code",
<<<<<<< HEAD:notebooks/short/Tema05_Colecoes_de_dados.ipynb
   "execution_count": 64,
=======
   "execution_count": 103,
>>>>>>> 24b7eb83f25bc3734fb874457489cd6f56289cac:notebooks/short/Tema04_Colecoes_de_dados.ipynb
   "metadata": {},
   "outputs": [
    {
     "name": "stdout",
     "output_type": "stream",
     "text": [
      "Chave: C - Valor: 3\n",
      "Chave: B - Valor: 2\n",
      "Chave: A - Valor: 1\n"
     ]
    }
   ],
   "source": [
    "d1 = {'A' : 1, 'B' : 2, 'C' : 3}\n",
    "\n",
    "while d1:\n",
    "    elemento = d1.popitem()\n",
    "    print('Chave: %s - Valor: %d' % (elemento[0], elemento[1]) )"
   ]
  },
  {
   "cell_type": "markdown",
   "metadata": {},
   "source": [
    "Utilizando o método `items()` para iterar através das chaves e valores."
   ]
  },
  {
   "cell_type": "code",
<<<<<<< HEAD:notebooks/short/Tema05_Colecoes_de_dados.ipynb
   "execution_count": 65,
=======
   "execution_count": 104,
>>>>>>> 24b7eb83f25bc3734fb874457489cd6f56289cac:notebooks/short/Tema04_Colecoes_de_dados.ipynb
   "metadata": {},
   "outputs": [
    {
     "name": "stdout",
     "output_type": "stream",
     "text": [
      "Chave: A - Valor: 1\n",
      "Chave: B - Valor: 2\n",
      "Chave: C - Valor: 3\n"
     ]
    }
   ],
   "source": [
    "d1 = {'A' : 1, 'B' : 2, 'C' : 3}\n",
    "\n",
    "for (key, value) in d1.items():\n",
    "    print('Chave: %s - Valor: %d' % (key, value) )"
   ]
  },
  {
   "cell_type": "markdown",
   "metadata": {},
   "source": [
    "#### Modificando dicionários.\n",
    "\n",
    "Adicionando um novo item ao dicionário."
   ]
  },
  {
   "cell_type": "code",
<<<<<<< HEAD:notebooks/short/Tema05_Colecoes_de_dados.ipynb
   "execution_count": 66,
=======
   "execution_count": 105,
>>>>>>> 24b7eb83f25bc3734fb874457489cd6f56289cac:notebooks/short/Tema04_Colecoes_de_dados.ipynb
   "metadata": {},
   "outputs": [
    {
     "name": "stdout",
     "output_type": "stream",
     "text": [
      "O novo conteúdo do dicionário é: {'A': 1, 'B': 2, 'C': 3, 'D': 4}\n"
     ]
    }
   ],
   "source": [
    "d1 = {'A' : 1, 'B' : 2, 'C' : 3}\n",
    "\n",
    "d1['D'] = 4\n",
    "\n",
    "print('O novo conteúdo do dicionário é:', d1)"
   ]
  },
  {
   "cell_type": "markdown",
   "metadata": {},
   "source": [
    "Alterando o valor de um item já existente."
   ]
  },
  {
   "cell_type": "code",
<<<<<<< HEAD:notebooks/short/Tema05_Colecoes_de_dados.ipynb
   "execution_count": 67,
=======
   "execution_count": 106,
>>>>>>> 24b7eb83f25bc3734fb874457489cd6f56289cac:notebooks/short/Tema04_Colecoes_de_dados.ipynb
   "metadata": {},
   "outputs": [
    {
     "name": "stdout",
     "output_type": "stream",
     "text": [
      "O conteúdo atualizado do dicionário é: {'A': 4, 'B': 2, 'C': 3}\n"
     ]
    }
   ],
   "source": [
    "d1 = {'A' : 1, 'B' : 2, 'C' : 3}\n",
    "\n",
    "d1['A'] = 4\n",
    "\n",
    "print('O conteúdo atualizado do dicionário é:', d1)"
   ]
  },
  {
   "cell_type": "markdown",
   "metadata": {},
   "source": [
    "Mesclando todos os itens de um dicionário em outro.\n",
    "\n",
    "Dados 2 dicionários `d1` e `d2`, nós podemos adicionar todos os pares chave-valor de `d2` em `d1` usando o método `update()`. \n",
    "\n",
    "O método update é equivalente ao trecho de código abaixo:\n",
    "\n",
    "```python\n",
    "for (k,v) in d2.items():\n",
    "    d1[k] = v\n",
    "```"
   ]
  },
  {
   "cell_type": "code",
<<<<<<< HEAD:notebooks/short/Tema05_Colecoes_de_dados.ipynb
   "execution_count": 68,
=======
   "execution_count": 107,
>>>>>>> 24b7eb83f25bc3734fb874457489cd6f56289cac:notebooks/short/Tema04_Colecoes_de_dados.ipynb
   "metadata": {},
   "outputs": [
    {
     "name": "stdout",
     "output_type": "stream",
     "text": [
      "O conteúdo atualizado do dicionário é: {'a': 2, 'b': 2, 'c': 3}\n"
     ]
    }
   ],
   "source": [
    "d1 = {'a' : 1}\n",
    "d2 = {'a' : 2, 'b' : 2, 'c' : 3}\n",
    "\n",
    "d1.update(d2)\n",
    "\n",
    "print('O conteúdo atualizado do dicionário é:', d1)"
   ]
  },
  {
   "cell_type": "markdown",
   "metadata": {},
   "source": [
    "Removendo todos os elementos do dicionário com o método `clear()`."
   ]
  },
  {
   "cell_type": "code",
<<<<<<< HEAD:notebooks/short/Tema05_Colecoes_de_dados.ipynb
   "execution_count": 69,
=======
   "execution_count": 108,
>>>>>>> 24b7eb83f25bc3734fb874457489cd6f56289cac:notebooks/short/Tema04_Colecoes_de_dados.ipynb
   "metadata": {},
   "outputs": [
    {
     "name": "stdout",
     "output_type": "stream",
     "text": [
      "O conteúdo do dicionário agora é vazio: {}\n"
     ]
    }
   ],
   "source": [
    "d1 = {'A' : 1, 'B' : 2, 'C' : 3}\n",
    "\n",
    "d1.clear()\n",
    "\n",
    "print('O conteúdo do dicionário agora é vazio:', d1)"
   ]
  },
  {
   "cell_type": "markdown",
   "metadata": {},
   "source": [
    "Enquanto o método `clear` deleta todos os elementos do dicionário, a declaração `del` deleta apenas um elemento específico."
   ]
  },
  {
   "cell_type": "code",
<<<<<<< HEAD:notebooks/short/Tema05_Colecoes_de_dados.ipynb
   "execution_count": 70,
=======
   "execution_count": 109,
>>>>>>> 24b7eb83f25bc3734fb874457489cd6f56289cac:notebooks/short/Tema04_Colecoes_de_dados.ipynb
   "metadata": {},
   "outputs": [
    {
     "name": "stdout",
     "output_type": "stream",
     "text": [
      "O conteúdo do dicionário agora é: {'B': 2, 'C': 3}\n"
     ]
    }
   ],
   "source": [
    "d1 = {'A' : 1, 'B' : 2, 'C' : 3}\n",
    "\n",
    "del d1['A']\n",
    "\n",
    "print('O conteúdo do dicionário agora é:', d1)"
   ]
  },
  {
   "cell_type": "markdown",
   "metadata": {},
   "source": [
    "O método `pop(key, valorPadrão)` remove o elemento especificado pela chave do dicionário e retorna o valor correspondente. \n",
    "\n",
    "Caso a chave não exista no dicionário, o método retorna um erro ou `valorPadrão` caso ele tenha sido definido."
   ]
  },
  {
   "cell_type": "code",
   "execution_count": 71,
   "metadata": {},
   "outputs": [
    {
     "name": "stdout",
     "output_type": "stream",
     "text": [
      "Valor referente à chave B: 2\n",
      "O conteúdo do dicionário agora é: {'A': 1, 'C': 3}\n",
      "Valor referente à chave D: 222\n"
     ]
    }
   ],
   "source": [
    "d1 = {'A' : 1, 'B' : 2, 'C' : 3}\n",
    "\n",
    "print('Valor referente à chave B:', d1.pop('B'))\n",
    "\n",
    "print('O conteúdo do dicionário agora é:', d1)\n",
    "\n",
    "# valor padrão é retornado quando a chave não existe no dicionário.\n",
    "print('Valor referente à chave D:', d1.pop('D',222))"
   ]
  },
  {
   "cell_type": "markdown",
   "metadata": {},
   "source": [
    "### Tarefa\n",
    "\n",
    "1. <span style=\"color:blue\">**QUIZ - Dicionários**</span>: respondam ao questionário sobre dicionários no MS teams, por favor. "
   ]
  },
  {
   "cell_type": "markdown",
   "metadata": {},
   "source": [
    "## Avisos\n",
    "\n",
    "* Se atentem aos prazos de entrega das tarefas na aba de **Avaliações** do MS Teams.\n",
    "* Horário de atendimento do Professor: todas as Segundas-feiras das 18:30 às 19:30 e Quartas-feiras das 15:30 às 16:30.\n",
    "* Horário de atendimento do Monitor (Maycol): todas as Terças-feiras das 18:00 às 19:00.\n",
    "* Atendimentos via MS Teams enquanto as aulas presenciais não retornam."
   ]
  },
  {
   "cell_type": "markdown",
   "metadata": {},
   "source": [
    "## Tarefa\n",
    "\n",
    "1. <span style=\"color:blue\">**Laboratório #5**</span>: cliquem em um dos links abaixo para accessar os exercícios do laboratório #5.\n",
    "\n",
    "[![Binder](https://mybinder.org/badge_logo.svg)](https://mybinder.org/v2/gh/zz4fap/python-programming/master?filepath=labs%2Fshort%2FLaboratorio5.ipynb)\n",
    "\n",
    "[![Google Colab](https://badgen.net/badge/Launch/on%20Google%20Colab/blue?icon=terminal)](https://colab.research.google.com/github/zz4fap/python-programming/blob/master/labs/short/Laboratorio5.ipynb)\n",
    "\n",
    "**IMPORTANTE**: Para acessar o material das aulas e realizar as entregas dos exercícios de laboratório, por favor, leiam o tutorial no seguinte link:\n",
    "[Material-das-Aulas](../../docs/Acesso-ao-material-das-aulas-resolucao-e-entrega-dos-laboratorios.pdf)"
   ]
  },
  {
   "cell_type": "markdown",
   "metadata": {},
   "source": [
    "<img src=\"../../figures/obrigado.png\" width=\"1000\" height=\"1000\">"
   ]
  }
 ],
 "metadata": {
  "kernelspec": {
   "display_name": "Python 3",
   "language": "python",
   "name": "python3"
  },
  "language_info": {
   "codemirror_mode": {
    "name": "ipython",
    "version": 3
   },
   "file_extension": ".py",
   "mimetype": "text/x-python",
   "name": "python",
   "nbconvert_exporter": "python",
   "pygments_lexer": "ipython3",
   "version": "3.7.4"
  }
 },
 "nbformat": 4,
 "nbformat_minor": 4
}
