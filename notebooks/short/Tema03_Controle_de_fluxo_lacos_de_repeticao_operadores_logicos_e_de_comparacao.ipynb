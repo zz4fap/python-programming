{
 "cells": [
  {
   "cell_type": "markdown",
   "metadata": {},
   "source": [
    "# Operadores de comparação, lógicos, controle de fluxo e laços de repetição"
   ]
  },
  {
   "cell_type": "markdown",
   "metadata": {},
   "source": [
    "## Introdução\n",
    "\n",
    "Veremos nesta seção como trabalhar com expressões lógicas e relacionais, controle de fluxo e laços de repetição."
   ]
  },
  {
   "cell_type": "markdown",
   "metadata": {},
   "source": [
    "## Operadores de comparação\n",
    "\n",
    "* O Python permite comparar valores usando os **operadores relacionais** ou também chamados de **operadores de comparação**:\n",
    "\n",
    "| Operador |    Tipo    |                      Descrição                     | Exemplo | Resultado |\n",
    "|:--------:|:----------:|:--------------------------------------------------:|:-------:|:---------:|\n",
    "|    ==    |  Igualdade |    Verifica a igualdade entre os valores A e B.    |   2==3  |   False   |\n",
    "|   !=     |  Igualdade |  Verifica a desigualdade entre os valores A e B.   |   2!=3  |    True   |\n",
    "|    >     | Comparação |    Verifica se o valor A é maior que o valor B.   |   3>3   |   False   |\n",
    "|    <     | Comparação |    Verifica se o valor A é menor que o valor B.    |   2<3   |    True   |\n",
    "|    >=    | Comparação | Verifica se o valor A é maior ou igual ao valor B. |   3>=3  |    True   |\n",
    "|    <=    | Comparação | Verifica se o valor A é menor ou igual ao valor B. |   2<=1  |   False   |\n",
    "\n",
    "* Os **operadores relacionais** sempre comparam **dois** valores e o resultado pode assumir apenas os valores ```True``` ou ```False```.\n",
    "\n",
    "### Exemplos\n",
    "\n",
    "Algumas comparações."
   ]
  },
  {
   "cell_type": "code",
   "execution_count": 8,
   "metadata": {},
   "outputs": [
    {
     "name": "stdout",
     "output_type": "stream",
     "text": [
      "Resultado 2 > 3: False\n",
      "Resultado 5 <= 5: True\n",
      "Resultado 1 != 2: True\n"
     ]
    }
   ],
   "source": [
    "print('Resultado 2 > 3:', 2 > 3)\n",
    "\n",
    "print('Resultado 5 <= 5:', 5 <= 5)\n",
    "\n",
    "print('Resultado 1 != 2:', 1 != 2)"
   ]
  },
  {
   "cell_type": "markdown",
   "metadata": {},
   "source": [
    "As expressões relacionais podem conter expressões aritméticas."
   ]
  },
  {
   "cell_type": "code",
   "execution_count": 9,
   "metadata": {},
   "outputs": [
    {
     "data": {
      "text/plain": [
       "True"
      ]
     },
     "execution_count": 9,
     "metadata": {},
     "output_type": "execute_result"
    }
   ],
   "source": [
    "2 + 3 == 3 + 2 * 1"
   ]
  },
  {
   "cell_type": "markdown",
   "metadata": {},
   "source": [
    "* Esse exemplo mostra que o resultado da expressão `2 + 3 == 3 + 2 * 1` é o valor booleano ```True```. \n",
    "    + Isso porque a precedência dos operadores relacionais é menor que a dos operadores aritméticos, ou seja, as operações aritméticas são realizadas primeiro, o que resulta na comparação `5 == 5`, em seguida, a expressão relacional `==` é avaliada, resultando em `True`."
   ]
  },
  {
   "cell_type": "markdown",
   "metadata": {},
   "source": [
    "### Tarefa\n",
    "\n",
    "1. <span style=\"color:blue\">**QUIZ - Operadores relacionais**</span>: respondam ao questionário sobre operadores relacionais no MS teams, por favor."
   ]
  },
  {
   "cell_type": "markdown",
   "metadata": {},
   "source": [
    "## Operadores lógicos\n",
    "\n",
    "\n",
    "* A tabela a seguir mostra os principais operadores lógicos e suas respectivas ordens de precedência.\n",
    "\n",
    "|Precedência| Operador |    Descrição   |     Exemplo    | Resultado |\n",
    "|:--------:|:--------:|:--------------:|:--------------:|:---------:|\n",
    "|3 (alta)  |    not   | negação lógica |    not True    |   False   |\n",
    "|2         |    and   |    E lógico    | True and False |   False   |\n",
    "|1 (baixa) |    or    |    OU lógico   |  True or False |    True   |\n",
    "\n",
    "* Notem que o resultado de uma expressão lógica é sempre um valor booleano.\n",
    "\n",
    "### Exemplos"
   ]
  },
  {
   "cell_type": "markdown",
   "metadata": {},
   "source": [
    "#### Negando um valor com o operador `not`."
   ]
  },
  {
   "cell_type": "code",
   "execution_count": 15,
   "metadata": {},
   "outputs": [
    {
     "name": "stdout",
     "output_type": "stream",
     "text": [
      "Resultado: False\n"
     ]
    }
   ],
   "source": [
    "a = not True\n",
    "print('Resultado:',a)"
   ]
  },
  {
   "cell_type": "markdown",
   "metadata": {},
   "source": [
    "#### Operador `and`"
   ]
  },
  {
   "cell_type": "code",
   "execution_count": 16,
   "metadata": {},
   "outputs": [
    {
     "name": "stdout",
     "output_type": "stream",
     "text": [
      "Resultado: True\n"
     ]
    }
   ],
   "source": [
    "a = True and True\n",
    "print('Resultado:', a)"
   ]
  },
  {
   "cell_type": "code",
   "execution_count": 17,
   "metadata": {},
   "outputs": [
    {
     "name": "stdout",
     "output_type": "stream",
     "text": [
      "Resultado: False\n"
     ]
    }
   ],
   "source": [
    "a = True and False\n",
    "print('Resultado:', a)"
   ]
  },
  {
   "cell_type": "markdown",
   "metadata": {},
   "source": [
    "#### Operador `or`"
   ]
  },
  {
   "cell_type": "code",
   "execution_count": 18,
   "metadata": {},
   "outputs": [
    {
     "name": "stdout",
     "output_type": "stream",
     "text": [
      "Resultado: True\n"
     ]
    }
   ],
   "source": [
    "a = True or False\n",
    "print('Resultado:', a)"
   ]
  },
  {
   "cell_type": "code",
   "execution_count": 19,
   "metadata": {},
   "outputs": [
    {
     "name": "stdout",
     "output_type": "stream",
     "text": [
      "Resultado: False\n"
     ]
    }
   ],
   "source": [
    "a = False or False\n",
    "print('Resultado:', a)"
   ]
  },
  {
   "cell_type": "markdown",
   "metadata": {},
   "source": [
    "#### Combinando resultados de operadores relacionais\n",
    "\n",
    "* Os operadores lógicos podem ser utilizados para combinar os resultados de operadores relacionais.\n",
    "* Como veremos a seguir, essa combinação de resultados de operadores relacionais pode ser utilizada com estruturas de controle de fluxo.\n",
    "\n",
    "**IMPORTANTE**: os operadores relacionais têm precedência sobre os operadores lógicos, ou seja, eles são avaliados antes."
   ]
  },
  {
   "cell_type": "code",
   "execution_count": 25,
   "metadata": {},
   "outputs": [
    {
     "name": "stdout",
     "output_type": "stream",
     "text": [
      "Resultado da combinação: False\n"
     ]
    }
   ],
   "source": [
    "# Seja um valor qualquer.\n",
    "x = 2\n",
    "\n",
    "# Combinando o resultado de operadores relacionais.\n",
    "resultado = x >= -1 and x <= 1\n",
    "\n",
    "print('Resultado da combinação:', resultado)"
   ]
  },
  {
   "cell_type": "markdown",
   "metadata": {},
   "source": [
    "Expressões **lógicas** ou **booleanas** são formadas por **valores** e **operadores**  **lógicos**."
   ]
  },
  {
   "cell_type": "code",
   "execution_count": 26,
   "metadata": {},
   "outputs": [
    {
     "data": {
      "text/plain": [
       "True"
      ]
     },
     "execution_count": 26,
     "metadata": {},
     "output_type": "execute_result"
    }
   ],
   "source": [
    "1 == 2 or 3 != 4"
   ]
  },
  {
   "cell_type": "code",
   "execution_count": 27,
   "metadata": {},
   "outputs": [
    {
     "data": {
      "text/plain": [
       "False"
      ]
     },
     "execution_count": 27,
     "metadata": {},
     "output_type": "execute_result"
    }
   ],
   "source": [
    "1 == 2 and 3 != 4"
   ]
  },
  {
   "cell_type": "code",
   "execution_count": 28,
   "metadata": {},
   "outputs": [
    {
     "data": {
      "text/plain": [
       "False"
      ]
     },
     "execution_count": 28,
     "metadata": {},
     "output_type": "execute_result"
    }
   ],
   "source": [
    "1 == 2 or not 3 != 4"
   ]
  },
  {
   "cell_type": "markdown",
   "metadata": {},
   "source": [
    "### Verdadeiro, falso e nulo\n",
    "\n",
    "* Em Python, o tipo booleano (**bool**) é uma especialização do tipo inteiro (**int**). \n",
    "* O valor **verdadeiro** é chamado de `True` e é igual ao valor inteiro `1`, enquanto o valor **falso** é chamado `False` e é igual ao valor inteiro `0`.\n",
    "* Os seguintes valores são avalidados pelo interpretador Python como sendo valores falsos:\n",
    "\n",
    "    + `False` (falso).\n",
    "    + `None` (nulo).\n",
    "    + `0` (zero).\n",
    "    + `''` (string vazia).\n",
    "    + `[]` (lista vazia).\n",
    "    + `()` (tupla vazia).\n",
    "    + `{}` (dicionário vazio).\n",
    "    + Outras estruturas com o tamanho igual a zero.\n",
    "\n",
    "* São considerados valores verdadeiros todos os outros objetos fora dessa lista."
   ]
  },
  {
   "cell_type": "markdown",
   "metadata": {},
   "source": [
    "### Tarefa\n",
    "\n",
    "1. <span style=\"color:blue\">**QUIZ - Operadores lógicos**</span>: respondam ao questionário sobre operadores lógicos no MS teams, por favor."
   ]
  },
  {
   "cell_type": "markdown",
   "metadata": {},
   "source": [
    "## Operadores de associação\n",
    "\n",
    "+ Operadores de associação são usados para testar se um valor está presente em um objeto, como strings, listas ou tuplas, etc. \n",
    "+ Existem dois operadores de associação:\n",
    "\n",
    "| Operador |                                       Descrição                                       |       Exemplo      | Resultado |\n",
    "|:--------:|:-------------------------------------------------------------------------------------:|:------------------:|:---------:|\n",
    "|    in    |   Retorna True se uma sequência com o valor especificado estiver presente no objeto   |   1 in [1, 2, 3]   |    True   |\n",
    "|  not in  | Retorna True se uma sequência com o valor especificado não estiver presente no objeto | 1 not in [1, 2, 3] |   False   |\n",
    "\n",
    "### Exemplos"
   ]
  },
  {
   "cell_type": "code",
   "execution_count": 36,
   "metadata": {},
   "outputs": [
    {
     "name": "stdout",
     "output_type": "stream",
     "text": [
      "True\n"
     ]
    }
   ],
   "source": [
    "# Seja uma lista (sequência de objetos) com duas strings.\n",
    "x = [\"apple\", \"banana\"]\n",
    "\n",
    "# A string banana está presente na lista?\n",
    "a = \"banana\" in x\n",
    "print(a)"
   ]
  },
  {
   "cell_type": "code",
   "execution_count": 37,
   "metadata": {},
   "outputs": [
    {
     "name": "stdout",
     "output_type": "stream",
     "text": [
      "True\n"
     ]
    }
   ],
   "source": [
    "x = [\"apple\", \"banana\"]\n",
    "\n",
    "# A string pineapple não está presente na lista?\n",
    "a = \"pineapple\" not in x\n",
    "print(a)"
   ]
  },
  {
   "cell_type": "markdown",
   "metadata": {},
   "source": [
    "## Ordem de precedência atualizada\n",
    "\n",
    "+ Nós adicionamos vários operadores adicionais àqueles que aprendemos.\n",
    "+ A tabela a seguir resume a precedência dos operadores discutidos até agora, da mais alta para a mais baixa.\n",
    "\n",
    "\n",
    "|   Nível  |   Categoria   |            Operadores            |\n",
    "|:--------:|:-------------:|:--------------------------------:|\n",
    "| 8 (alta) |   parênteses  |                ()                |\n",
    "|     7    |    expoente   |                **                |\n",
    "|     6    | multiplicação, divisão, resto |            *, /, //, %           |\n",
    "|     5    |     adição, subtração    |               +, -               |\n",
    "|     4    |   relacional  | ==, !=, <=, >=, >, <, in, not in |\n",
    "|     3    |     lógico    |                not               |\n",
    "|     2    |     lógico    |                and               |\n",
    "| 1(baixa) |     lógico    |                or                |\n",
    "\n",
    "**IMPORTANTE**: Operadores com mesmo nível de precedência são aplicados da **esquerda para a direita** na ordem em que aparecem na expressão."
   ]
  },
  {
   "cell_type": "markdown",
   "metadata": {},
   "source": [
    "### Tarefa\n",
    "\n",
    "1. <span style=\"color:blue\">**QUIZ - Ordem de precedência**</span>: respondam ao questionário sobre ordem de precedência no MS teams, por favor."
   ]
  },
  {
   "cell_type": "markdown",
   "metadata": {},
   "source": [
    "## Controle de fluxo\n",
    "\n",
    "* É muito comum que durante a escrita de um programa você precise verificar se a condição de uma expressão é verdadeira ou falsa para executar ou não uma sequência de comandos. \n",
    "* Isto é feito com **estruturas de controle de fluxo** também conhecidas como **estruturas condicionais**.\n",
    "* Portanto, estruturas de **controle de fluxo** verificam uma condição e executam um bloco de código caso a condição seja verdadeira ou outro bloco caso seja falsa.\n",
    "\n",
    "Sintaxe:\n",
    "\n",
    "```python\n",
    "if <condição>:\n",
    "    <bloco de código>\n",
    "elif <condição>:\n",
    "    <bloco de código>\n",
    "elif <condição>:\n",
    "    <bloco de código>\n",
    "else:\n",
    "    <bloco de código>\n",
    "```\n",
    "        \n",
    "Onde:\n",
    "\n",
    "+ `<condição>`: expressão que possa ser avaliada como verdadeira ou falsa.\n",
    "+ `<bloco de código>`: sequência de linhas de comando.\n",
    "    + um `<bloco de código>` pode ter mais de uma linha de comando, dado que o bloco de código esteja corretamente indentado.\n",
    "+ As clausulas `elif` e `else` são opcionais, podendo existir vários `elifs` para o mesmo `if`, porém só deve haver apenas um `else` ao final.\n",
    "+ A palavra-chave `elif` é uma abreviatura de `else if` e significa: \"se as condições anteriores não eram verdadeiras, então tente esta condição\".\n",
    "+ A palavra-chave `else` captura qualquer condição que não tenha sido capturada pelas condições anteriores.\n",
    "+ Parênteses em torno das condições são opcionais e são normalmente usados para evitar ambiguidades.\n",
    "+ Não se esqueçam dos dois pontos (`:`) após as condições e da palavra-reservada `else`. \n",
    "\n",
    "A figura abaixo apresenta o fluxograma da estrutura condicional encadeada mostrada acima.\n",
    "\n",
    "<img src=\"../../figures/if-flowchart.jpg\" width=\"400\" height=\"400\">\n",
    "\n",
    "### Exemplo\n",
    "\n",
    "#### Uma função que diz como está a temperatura."
   ]
  },
  {
   "cell_type": "code",
   "execution_count": 1,
   "metadata": {},
   "outputs": [
    {
     "name": "stdout",
     "output_type": "stream",
     "text": [
      "Temperatura: normal\n"
     ]
    }
   ],
   "source": [
    "# Definição da função.\n",
    "def checarTemperatura(temp):\n",
    "    if temp < 0:\n",
    "        print('Temperatura: congelando...')\n",
    "    elif temp >= 0 and temp <= 20:\n",
    "        print('Temperatura: frio')\n",
    "    elif temp >= 21 and temp <= 25:\n",
    "        print('Temperatura: normal')\n",
    "    elif temp >= 26 and temp <= 35:\n",
    "        print('Temperatura: quente')\n",
    "    else:\n",
    "        print('Temperatura: muito quente!')\n",
    "        \n",
    "# Valor de temperatura usado para teste.\n",
    "temp = 23\n",
    "checarTemperatura(temp)"
   ]
  },
  {
   "cell_type": "markdown",
   "metadata": {},
   "source": [
    "### Tarefa\n",
    "\n",
    "1. <span style=\"color:blue\">**QUIZ - Controle de fluxo**</span>: respondam ao questionário sobre controle de fluxo no MS teams, por favor."
   ]
  },
  {
   "cell_type": "markdown",
   "metadata": {},
   "source": [
    "## Laços de repetição\n",
    "\n",
    "* Laços são estruturas de repetição.\n",
    "* Eles são geralmente usados para processar coleções de dados, tais como as linhas de um arquivo, registros de um banco de dados, letras de uma string, elementos de listas, dicionários, etc., com o mesmo bloco de código (ou seja, uma mesma sequência de comandos).\n",
    "\n",
    "* Em Python, temos 2 laços de repetição: `for` e `while`.\n",
    "\n",
    "### O laço `for`\n",
    "\n",
    "+ Se caracteriza por obrigar o programador a definir, explicitamente em seu cabeçalho, a quantidade de vezes, chamadas de **repetições**, que um bloco de código será executado. \n",
    "+ O número de **repetições** é determinado pela quantidade de elementos contidos no objeto do tipo coleção de dados (e.g., listas, tuplas, dicionários, etc.) declarado no cabeçalho do laço. \n",
    "+ Desta forma, uma repetição será executada isoladamente para cada elemento da coleção de dados.\n",
    "\n",
    "\n",
    "* Sintaxe:\n",
    "\n",
    "```python\n",
    "for <referência> in <objeto iterável>:\n",
    "    <bloco de código>\n",
    "    continue\n",
    "    break\n",
    "else:\n",
    "    <bloco de código>\n",
    "```\n",
    "\n",
    "* Onde\n",
    "    + A clausula `break` interrompe o laço antes que ele percorra todos os itens da lista e `continue` passa para a próxima iteração, ambos são opcionais.\n",
    "    + O bloco de código dentro do `else` é executado ao final do laço, a não ser que o laço tenha sido interrompido por um `break`.\n",
    "    + A instrução `else` também é opcional.\n",
    "\n",
    "* Em suma, o laço `for` permite percorrer os elementos de uma coleção de dados e, para cada um deles, executar o bloco de código declarado no laço.\n",
    "            \n",
    "### Exemplos\n",
    "\n",
    "#### Imprimindo os nomes armazenados em uma lista."
   ]
  },
  {
   "cell_type": "code",
   "execution_count": 2,
   "metadata": {},
   "outputs": [
    {
     "name": "stdout",
     "output_type": "stream",
     "text": [
      "Pedro\n",
      "João\n",
      "Leticia\n"
     ]
    }
   ],
   "source": [
    "nomes = ['Pedro', 'João', 'Leticia']\n",
    "# Para cada elemento do objeto iterável do tipo lista faça.\n",
    "for n in nomes:\n",
    "     print(n)"
   ]
  },
  {
   "cell_type": "markdown",
   "metadata": {},
   "source": [
    "#### Somando todos os valores de 0 a 99."
   ]
  },
  {
   "cell_type": "code",
   "execution_count": 4,
   "metadata": {},
   "outputs": [
    {
     "name": "stdout",
     "output_type": "stream",
     "text": [
      "Resultado: 4950\n"
     ]
    }
   ],
   "source": [
    "s = 0\n",
    "# Para cada elemento do objeto iterável do tipo lista faça.\n",
    "for x in range(0, 100):\n",
    "    s = s + x\n",
    "\n",
    "# Imprime resulatdo da soma.\n",
    "print('Resultado:', s)"
   ]
  },
  {
   "cell_type": "markdown",
   "metadata": {},
   "source": [
    "**IMPORTANTE**: a função embutida `range(m, n, p)` é muito útil em laços de repetição, pois retorna uma **lista** de valores inteiros, começando em `m` e **menores** que `n`, em passos de tamanho `p`, que podem ser usados como sequência para o laço.\n",
    "   + Por padrão, ou seja, se não for definido, `p` recebe o valor 1.\n",
    "\n",
    "### Exemplos\n",
    "\n",
    "#### Contagem em passos de 2."
   ]
  },
  {
   "cell_type": "code",
   "execution_count": 5,
   "metadata": {},
   "outputs": [
    {
     "name": "stdout",
     "output_type": "stream",
     "text": [
      "0\n",
      "2\n",
      "4\n",
      "6\n",
      "8\n"
     ]
    }
   ],
   "source": [
    "for i in range(0,10,2):\n",
    "    print(i)"
   ]
  },
  {
   "cell_type": "markdown",
   "metadata": {},
   "source": [
    "#### Contagem regressiva de 2 a -2."
   ]
  },
  {
   "cell_type": "code",
   "execution_count": 6,
   "metadata": {},
   "outputs": [
    {
     "name": "stdout",
     "output_type": "stream",
     "text": [
      "2\n",
      "1\n",
      "0\n",
      "-1\n",
      "-2\n"
     ]
    }
   ],
   "source": [
    "for i in range(2,-3,-1):\n",
    "    print(i)"
   ]
  },
  {
   "cell_type": "markdown",
   "metadata": {},
   "source": [
    "### O laço `while`\n",
    " \n",
    "+ Executa o bloco de código dentro do laço `while` **enquanto** uma dada condição for verdadeira.\n",
    "+ É mais adequado quando não há como determinar quantas iterações vão ocorrer e não há uma sequência a seguir.\n",
    "\n",
    "\n",
    "* Sintaxe:\n",
    "\n",
    "```python\n",
    "while <condição>:\n",
    "    <bloco de código>\n",
    "    continue\n",
    "    break\n",
    "else:\n",
    "    <bloco de código>\n",
    "```\n",
    "\n",
    "* Onde\n",
    "    + A instrução `else` executa o bloco de código apenas uma vez quando a condição do `while` não for mais verdadeira.\n",
    "    + A instrução `else` é opcional.\n",
    "        \n",
    "**OBS.1**: Deve haver algum processo dentro do bloco de código que torne a condição falsa e o laço seja encerrado, ou um erro GRAVE ocorrerá: seu código ficará preso no laço para sempre.\n",
    "\n",
    "**OBS.2**: Se a condição da estrutura `while` já for falsa desde o início, o bloco de código associado a ela nunca será executado. Neste caso, apenas o bloco de código associado ao `else` será executado, caso ele esteja definido.\n",
    "\n",
    "### Exemplos\n",
    "\n",
    "#### Somando todos os valores de 0 a 99."
   ]
  },
  {
   "cell_type": "code",
   "execution_count": 9,
   "metadata": {
    "scrolled": true
   },
   "outputs": [
    {
     "name": "stdout",
     "output_type": "stream",
     "text": [
      "Resultado: 4950\n"
     ]
    }
   ],
   "source": [
    "s = 0\n",
    "x = 0\n",
    "\n",
    "# Enquanto x for menor do que 100 faça.\n",
    "while x < 100:\n",
    "    s = s + x\n",
    "    x = x + 1\n",
    "\n",
    "# Imprime resultado da soma.\n",
    "print('Resultado:', s)"
   ]
  },
  {
   "cell_type": "markdown",
   "metadata": {},
   "source": [
    "### Tarefa\n",
    "\n",
    "1. <span style=\"color:blue\">**QUIZ - Laços de repetição**</span>: respondam ao questionário sobre laços de repetição no MS teams, por favor. "
   ]
  },
  {
   "cell_type": "markdown",
   "metadata": {},
   "source": [
    "## Avisos\n",
    "\n",
    "* Se atentem aos prazos de entrega das tarefas na aba de **Avaliações** do MS Teams.\n",
    "* Horário de atendimento do Professor: todas as Segundas-feiras das 18:30 às 19:30 e Quartas-feiras das 15:30 às 16:30.\n",
    "* Horário de atendimento do Monitor (Maycol): todas as Terças-feiras das 18:00 às 19:00.\n",
    "* Atendimentos via MS Teams enquanto as aulas presenciais não retornam."
   ]
  },
  {
   "cell_type": "markdown",
   "metadata": {},
   "source": [
    "## Tarefa\n",
    "\n",
    "1. <span style=\"color:blue\">**Laboratório #3**</span>: cliquem em um dos links abaixo para accessar os exercícios do laboratório #3.\n",
    "\n",
    "[![Binder](https://mybinder.org/badge_logo.svg)](https://mybinder.org/v2/gh/zz4fap/python-programming/master?filepath=labs%2Fshort%2FLaboratorio3.ipynb)\n",
    "\n",
    "[![Google Colab](https://badgen.net/badge/Launch/on%20Google%20Colab/blue?icon=terminal)](https://colab.research.google.com/github/zz4fap/python-programming/blob/master/labs/short/Laboratorio3.ipynb)\n",
    "\n",
    "**IMPORTANTE**: Para acessar o material das aulas e realizar as entregas dos exercícios de laboratório, por favor, leiam o tutorial no seguinte link:\n",
    "[Material-das-Aulas](../../docs/Acesso-ao-material-das-aulas-resolucao-e-entrega-dos-laboratorios.pdf)"
   ]
  },
  {
   "cell_type": "markdown",
   "metadata": {},
   "source": [
    "<img src=\"../../figures/obrigado.png\" width=\"1000\" height=\"1000\">"
   ]
  }
 ],
 "metadata": {
  "kernelspec": {
   "display_name": "Python 3",
   "language": "python",
   "name": "python3"
  },
  "language_info": {
   "codemirror_mode": {
    "name": "ipython",
    "version": 3
   },
   "file_extension": ".py",
   "mimetype": "text/x-python",
   "name": "python",
   "nbconvert_exporter": "python",
   "pygments_lexer": "ipython3",
   "version": "3.7.7"
  }
 },
 "nbformat": 4,
 "nbformat_minor": 4
}
