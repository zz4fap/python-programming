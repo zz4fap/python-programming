{
 "cells": [
  {
   "cell_type": "markdown",
   "metadata": {},
   "source": [
    "# Coleções de dados\n",
    "\n",
    "## Introdução\n",
    "\n",
    "Dentre os tipos nativos disponíveis em Python, existem tipos que funcionam como **coleções** ou **estruturas** de dados. Os principais são\n",
    "\n",
    "+ Listas\n",
    "+ Tuplas\n",
    "+ Conjuntos\n",
    "+ Dicionários\n",
    "\n",
    "<img src=\"../../figures/python-data-structures.jpg\" width=\"400\" height=\"400\">\n",
    "\n",
    "A seguir, nós veremos cada uma dessas **estruturas de dados** principais disponibilizadas pelo Python."
   ]
  },
  {
   "cell_type": "markdown",
   "metadata": {},
   "source": [
    "## Listas\n",
    "\n",
    "+ Listas são coleções **ordenadas** e **heterogêneas** de objetos, que podem ser de qualquer tipo, inclusive outras listas e até mesmo outros tipos de estruturas de dados (tuplas, dicionários, etc.)\n",
    "+ Os objetos em uma lista são chamados de **elementos** ou **itens**.\n",
    "+ Listas permitem elementos **duplicados**.\n",
    "+ As listas em Python são **mutáveis** (ou seja, um elemento pode ser alterado), podendo ser alteradas a qualquer momento.\n",
    "+ Listas são **indexáveis**, ou seja, os elementos podem ser acessados através de sua posição na lista.\n",
    "+ Listas podem ser fatiadas da mesma forma que as strings, mas como as listas são mutáveis, é possível fazer atribuições a itens da lista.\n",
    "+ Uma lista é definida envolvendo seus **elementos**, os quais são separados por vírgulas, com um par de **chaves**, `[]`.\n",
    "+ Portanto, em suma, podemos dizer que listas são estruturas **sequenciais** **indexadas** e **mutáveis**.\n",
    "\n",
    "Sintaxe:\n",
    "\n",
    "```python\n",
    "lista = [a, b, ..., z]\n",
    "```"
   ]
  },
  {
   "cell_type": "markdown",
   "metadata": {},
   "source": [
    "O tipo de uma lista é `list`."
   ]
  },
  {
   "cell_type": "code",
   "execution_count": 12,
   "metadata": {},
   "outputs": [
    {
     "name": "stdout",
     "output_type": "stream",
     "text": [
      "<class 'list'>\n"
     ]
    }
   ],
   "source": [
    "# Cria uma lista com três números inteiros, os números 1, 2 e 3.\n",
    "lista1 = [1, 2, 3]\n",
    "\n",
    "# Imprime o tipo da variável lista.\n",
    "print(type(lista1))"
   ]
  },
  {
   "cell_type": "markdown",
   "metadata": {},
   "source": [
    "Para obter o comprimento de uma lista (ou seja, o número de elementos que ela possui) usa-se a função `len()`, como mostrado no exemplo abaixo."
   ]
  },
  {
   "cell_type": "code",
   "execution_count": 13,
   "metadata": {},
   "outputs": [
    {
     "name": "stdout",
     "output_type": "stream",
     "text": [
      "A lista possui 3 elementos.\n",
      "O conteúdo da lista é: [1, 2, 3]\n"
     ]
    }
   ],
   "source": [
    "print('A lista possui %d elementos.' % len(lista1))\n",
    "print('O conteúdo da lista é:', lista1)"
   ]
  },
  {
   "cell_type": "markdown",
   "metadata": {},
   "source": [
    "O par de chaves sem conteúdo, representado por `[]`, denota uma lista vazia, ou seja, uma lista que não contém nenhum elemento. O comprimento de uma lista que não contém nenhum elemento é 0."
   ]
  },
  {
   "cell_type": "code",
   "execution_count": 14,
   "metadata": {},
   "outputs": [
    {
     "name": "stdout",
     "output_type": "stream",
     "text": [
      "A lista possui 0 elementos.\n",
      "O conteúdo da lista é: []\n"
     ]
    }
   ],
   "source": [
    "lista2 = []\n",
    "\n",
    "print('A lista possui %d elementos.' % len(lista2))\n",
    "print('O conteúdo da lista é:', lista2)"
   ]
  },
  {
   "cell_type": "markdown",
   "metadata": {},
   "source": [
    "Usando o operador `*`, nós conseguimos criar listas de um determinado comprimento contendo elementos iguais, conforme mostrado no exemplo abaixo."
   ]
  },
  {
   "cell_type": "code",
   "execution_count": 15,
   "metadata": {},
   "outputs": [
    {
     "name": "stdout",
     "output_type": "stream",
     "text": [
      "A lista possui 10 elementos.\n",
      "O conteúdo da lista é: [1, 1, 1, 1, 1, 1, 1, 1, 1, 1]\n"
     ]
    }
   ],
   "source": [
    "# Cria uma lista com 10 elementos, todos iguais a 1.\n",
    "lista3 = [1] * 10\n",
    "\n",
    "print('A lista possui %d elementos.' % len(lista3))\n",
    "print('O conteúdo da lista é:', lista3)"
   ]
  },
  {
   "cell_type": "code",
   "execution_count": 16,
   "metadata": {},
   "outputs": [
    {
     "name": "stdout",
     "output_type": "stream",
     "text": [
      "A lista possui 20 elementos.\n",
      "O conteúdo da lista é: [1, 2, 1, 2, 1, 2, 1, 2, 1, 2, 1, 2, 1, 2, 1, 2, 1, 2, 1, 2]\n"
     ]
    }
   ],
   "source": [
    "# Cria uma lista com 10 elementos, todos iguais a 1 e 2, \n",
    "# portanto, ao final teremos 20 elementos.\n",
    "lista4 = [1, 2] * 10\n",
    "\n",
    "print('A lista possui %d elementos.' % len(lista4))\n",
    "print('O conteúdo da lista é:', lista4)"
   ]
  },
  {
   "cell_type": "markdown",
   "metadata": {},
   "source": [
    "Como vimos antes, as listas podem conter elementos **heterogêneos**, ou seja, os elementos em uma lista não precisam ser todos de um mesmo tipo, como mostra o exemplo abaixo."
   ]
  },
  {
   "cell_type": "code",
   "execution_count": 17,
   "metadata": {},
   "outputs": [
    {
     "name": "stdout",
     "output_type": "stream",
     "text": [
      "A lista possui 6 elementos.\n",
      "O conteúdo da lista é: ['Olá', 2, 5.6, 'Mundo', True, 1j]\n"
     ]
    }
   ],
   "source": [
    "lista5 = [\"Olá\", 2, 5.6, 'Mundo', True, 1j]\n",
    "\n",
    "print('A lista possui %d elementos.' % len(lista5))\n",
    "print('O conteúdo da lista é:', lista5)"
   ]
  },
  {
   "cell_type": "markdown",
   "metadata": {},
   "source": [
    "Listas podem ser concatenadas com o operador `+`"
   ]
  },
  {
   "cell_type": "code",
   "execution_count": 18,
   "metadata": {},
   "outputs": [
    {
     "name": "stdout",
     "output_type": "stream",
     "text": [
      "[1, 2, 3, 'A', 3.14, True]\n"
     ]
    }
   ],
   "source": [
    "listaA = [1, 2, 3]\n",
    "\n",
    "listaB = ['A', 3.14, True]\n",
    "\n",
    "listaC = listaA + listaB\n",
    "\n",
    "print(listaC)"
   ]
  },
  {
   "cell_type": "markdown",
   "metadata": {},
   "source": [
    "Uma lista pode conter outras listas, como mostrado no exemplo abaixo."
   ]
  },
  {
   "cell_type": "code",
   "execution_count": 19,
   "metadata": {},
   "outputs": [
    {
     "name": "stdout",
     "output_type": "stream",
     "text": [
      "Número de elementos da lista é: 4\n",
      "Os elementos da lista são: ['A', 3.14, True, [1, 2, 3]]\n",
      "O quarto elemento da listaB é a listaA: [1, 2, 3]\n"
     ]
    }
   ],
   "source": [
    "listaA = [1, 2, 3]\n",
    "\n",
    "listaB = ['A', 3.14, True, listaA]\n",
    "\n",
    "print('Número de elementos da lista é:', len(listaB))\n",
    "\n",
    "print('Os elementos da lista são:', listaB)\n",
    "\n",
    "print('O quarto elemento da listaB é a listaA:', listaB[3])"
   ]
  },
  {
   "cell_type": "markdown",
   "metadata": {},
   "source": [
    "Pode-se acessar os elementos de uma lista através de seus índices, da mesma forma que fizemos com as strings. Vejam o exemplo abaixo."
   ]
  },
  {
   "cell_type": "code",
   "execution_count": 20,
   "metadata": {},
   "outputs": [
    {
     "name": "stdout",
     "output_type": "stream",
     "text": [
      "10\n",
      "20\n",
      "30\n",
      "40\n",
      "50\n",
      "50\n"
     ]
    }
   ],
   "source": [
    "lista6 = [10, 20, 30, 40, 50]\n",
    "\n",
    "print(lista6[0])             # mostra o valor do primeiro elemento da lista\n",
    "print(lista6[1])             # mostra o valor do segundo elemento da lista\n",
    "print(lista6[2])             # mostra o valor do terceio elemento da lista\n",
    "print(lista6[3])             # mostra o valor do quarto elemento da lista\n",
    "print(lista6[4])             # mostra o valor do quinto e último elemento da lista\n",
    "print(lista6[len(lista6)-1]) # também mostra o valor do último elemento da lista"
   ]
  },
  {
   "cell_type": "markdown",
   "metadata": {},
   "source": [
    "Outra forma de acessar os elementos de uma lista é através de laços de iteração, como o `for`, por exemplo."
   ]
  },
  {
   "cell_type": "code",
   "execution_count": 21,
   "metadata": {},
   "outputs": [
    {
     "name": "stdout",
     "output_type": "stream",
     "text": [
      "10\n",
      "20\n",
      "30\n",
      "40\n",
      "50\n"
     ]
    }
   ],
   "source": [
    "for i in range(0, len(lista6)):\n",
    "    print(lista6[i])"
   ]
  },
  {
   "cell_type": "markdown",
   "metadata": {},
   "source": [
    "Podemos usar números negativos como índices para acessar as posições de uma lista em ordem reversa, ou seja, do fim para o início. O índice -1 se refere a última posição da lista, o -2 se refere à penúltima posição, e assim por diante."
   ]
  },
  {
   "cell_type": "code",
   "execution_count": 22,
   "metadata": {},
   "outputs": [
    {
     "name": "stdout",
     "output_type": "stream",
     "text": [
      "50\n",
      "10\n"
     ]
    }
   ],
   "source": [
    "print(lista6[-1])             # mostra o valor do último elemento da lista\n",
    "print(lista6[-len(lista6)])   # mostra o valor do primeiro elemento da lista"
   ]
  },
  {
   "cell_type": "markdown",
   "metadata": {},
   "source": [
    "Como as listas são tipos **mutáveis**, nós também podemos modificar o valor de uma posição específica da lista utilizando os índices."
   ]
  },
  {
   "cell_type": "code",
   "execution_count": 23,
   "metadata": {},
   "outputs": [
    {
     "name": "stdout",
     "output_type": "stream",
     "text": [
      "[10, 20, 30]\n",
      "[5, 20, 10]\n"
     ]
    }
   ],
   "source": [
    "lista7 = [10, 20, 30]\n",
    "\n",
    "print(lista7)\n",
    "\n",
    "# altera o valor da primeira posição da lista\n",
    "lista7[0] = 5\n",
    "\n",
    "# altera o valor da última posição da lista: lista7[2] = lista7[2] // 3\n",
    "lista7[-1] //= 3\n",
    "\n",
    "print(lista7)"
   ]
  },
  {
   "cell_type": "markdown",
   "metadata": {},
   "source": [
    "Quando tentamos acessar uma posição que não existe na lista, um erro de execução: `list index out of range` é gerado:"
   ]
  },
  {
   "cell_type": "code",
   "execution_count": 69,
   "metadata": {},
   "outputs": [
    {
     "ename": "IndexError",
     "evalue": "list index out of range",
     "output_type": "error",
     "traceback": [
      "\u001b[1;31m---------------------------------------------------------------------------\u001b[0m",
      "\u001b[1;31mIndexError\u001b[0m                                Traceback (most recent call last)",
      "\u001b[1;32m<ipython-input-69-a50bfe9ec2c4>\u001b[0m in \u001b[0;36m<module>\u001b[1;34m\u001b[0m\n\u001b[0;32m      1\u001b[0m \u001b[1;31m# tenta exibir o valor de uma posição que não existe na lista.\u001b[0m\u001b[1;33m\u001b[0m\u001b[1;33m\u001b[0m\u001b[1;33m\u001b[0m\u001b[0m\n\u001b[1;32m----> 2\u001b[1;33m \u001b[0mprint\u001b[0m\u001b[1;33m(\u001b[0m\u001b[0mlista7\u001b[0m\u001b[1;33m[\u001b[0m\u001b[1;36m3\u001b[0m\u001b[1;33m]\u001b[0m\u001b[1;33m)\u001b[0m\u001b[1;33m\u001b[0m\u001b[1;33m\u001b[0m\u001b[0m\n\u001b[0m",
      "\u001b[1;31mIndexError\u001b[0m: list index out of range"
     ]
    }
   ],
   "source": [
    "# tenta exibir o valor de uma posição que não existe na lista.\n",
    "print(lista7[3])"
   ]
  },
  {
   "cell_type": "markdown",
   "metadata": {},
   "source": [
    "Podemos usar a função `append()` para acrescentar novos elementos **ao final** de uma lista. Para acrescentar o elemento `x` ao final de uma lista `l`, fazemos `l.append(x)`. Veja os exemplos a seguir:"
   ]
  },
  {
   "cell_type": "code",
   "execution_count": 70,
   "metadata": {},
   "outputs": [
    {
     "name": "stdout",
     "output_type": "stream",
     "text": [
      "Estado inicial da lista:  [40]\n",
      "Estado da lista depois da primeira inclusão de um novo elemento:  [40, 10]\n",
      "Estado da lista depois da segunda inclusão de um novo elemento:  [40, 10, 30]\n"
     ]
    }
   ],
   "source": [
    "lista8 = [40]\n",
    "print(\"Estado inicial da lista: \", lista8)\n",
    "\n",
    "lista8.append(10)\n",
    "print(\"Estado da lista depois da primeira inclusão de um novo elemento: \", lista8)\n",
    "\n",
    "lista8.append(30)\n",
    "print(\"Estado da lista depois da segunda inclusão de um novo elemento: \", lista8)"
   ]
  },
  {
   "cell_type": "markdown",
   "metadata": {},
   "source": [
    "Podemos também acrescentar valores à uma lista vazia."
   ]
  },
  {
   "cell_type": "code",
   "execution_count": 71,
   "metadata": {},
   "outputs": [
    {
     "name": "stdout",
     "output_type": "stream",
     "text": [
      "Estado inicial da lista:  []\n",
      "Estado da lista depois da primeira inclusão de um novo elemento:  [True]\n",
      "Estado da lista depois da primeira inclusão de um novo elemento:  [True, 'Teste']\n",
      "Estado da lista depois da primeira inclusão de um novo elemento:  [True, 'Teste', 3.14]\n"
     ]
    }
   ],
   "source": [
    "lista9 = []\n",
    "print(\"Estado inicial da lista: \", lista9)\n",
    "\n",
    "lista9.append(True)\n",
    "print(\"Estado da lista depois da primeira inclusão de um novo elemento: \", lista9)\n",
    "\n",
    "lista9.append('Teste')\n",
    "print(\"Estado da lista depois da primeira inclusão de um novo elemento: \", lista9)\n",
    "\n",
    "lista9.append(3.14)\n",
    "print(\"Estado da lista depois da primeira inclusão de um novo elemento: \", lista9)"
   ]
  },
  {
   "cell_type": "markdown",
   "metadata": {},
   "source": [
    "Embora os elementos de uma lista também possam ser percorridos por meio de um laço de repetição (como vimos acima), podemos utilizar o laço `for` para percorrer todos os elementos de lista, começando do seu início até seu fim. A estrutura desse laço é mostrada no exemplo abaixo."
   ]
  },
  {
   "cell_type": "code",
   "execution_count": 72,
   "metadata": {},
   "outputs": [
    {
     "name": "stdout",
     "output_type": "stream",
     "text": [
      "10\n",
      "20\n",
      "30\n",
      "40\n",
      "A soma é 100\n"
     ]
    }
   ],
   "source": [
    "# Soma todos os valores de uma lista.\n",
    "lista10 = [10, 20, 30, 40]\n",
    "\n",
    "soma = 0\n",
    "for numero in lista10:\n",
    "    print(numero)\n",
    "    soma += numero\n",
    "print(\"A soma é\", soma)"
   ]
  },
  {
   "cell_type": "markdown",
   "metadata": {},
   "source": [
    "Nós podemos também utilizar o laço `while` para percorer a lista, removendo elementos com o método `pop()`, o qual remove e retorna o primeiro item da lista, conforme mostrado abaixo:"
   ]
  },
  {
   "cell_type": "code",
   "execution_count": 73,
   "metadata": {},
   "outputs": [
    {
     "name": "stdout",
     "output_type": "stream",
     "text": [
      "Saiu o valor 10 , faltam 3 elementos na lista\n",
      "Saiu o valor 20 , faltam 2 elementos na lista\n",
      "Saiu o valor 30 , faltam 1 elementos na lista\n",
      "Saiu o valor 40 , faltam 0 elementos na lista\n"
     ]
    }
   ],
   "source": [
    "lista10 = [10, 20, 30, 40]\n",
    "\n",
    "# A lista vazia é avaliada como falsa e portanto, finaliza e execução do laço.\n",
    "while lista10:\n",
    "    print('Saiu o valor', lista10.pop(0), ', faltam', len(lista10), 'elementos na lista')"
   ]
  },
  {
   "cell_type": "markdown",
   "metadata": {},
   "source": [
    "Finalmente, os operadores `in` e `not in` nos permitem verificar se um dado valor está presente ou não em uma lista. \n",
    "\n",
    "A expressão\n",
    "\n",
    "`valor in lista`\n",
    "\n",
    "retorna `True` se `valor` for um elemento de `lista`, e `False` caso contrário.\n",
    "\n",
    "Já a expressão\n",
    "\n",
    "`valor not in lista`\n",
    "\n",
    "retorna `True` se `valor` não for um elemento de `lista`, e `False` caso contrário."
   ]
  },
  {
   "cell_type": "code",
   "execution_count": 74,
   "metadata": {
    "scrolled": true
   },
   "outputs": [
    {
     "name": "stdout",
     "output_type": "stream",
     "text": [
      "O valor 4 está na lista.\n",
      "O valor 3 não está na lista.\n"
     ]
    }
   ],
   "source": [
    "lista11 = [0,2,4,6,8,10]\n",
    "\n",
    "if 4 in lista11:\n",
    "    print(\"O valor 4 está na lista.\")\n",
    "if 3 not in lista11:\n",
    "    print(\"O valor 3 não está na lista.\")"
   ]
  },
  {
   "cell_type": "markdown",
   "metadata": {},
   "source": [
    "Podemos utilizar o método `sort()` para ordenar os valores de uma lista. Caso a lista seja heterogênea, deve-se definir uma função para especificar o critério de ordenação. \n",
    "\n",
    "**OBS**.: Definir o parâmetro `reverse = True` ordena os elementos da lista em ordem decrescente."
   ]
  },
  {
   "cell_type": "code",
   "execution_count": 75,
   "metadata": {},
   "outputs": [
    {
     "name": "stdout",
     "output_type": "stream",
     "text": [
      "['BMW', 'Ford', 'Volvo']\n",
      "[3, 4, 5, 6]\n"
     ]
    }
   ],
   "source": [
    "cars = ['Ford', 'BMW', 'Volvo']\n",
    "\n",
    "cars.sort(reverse=False)\n",
    "\n",
    "print(cars)\n",
    "\n",
    "numbers = [3, 4, 6, 5]\n",
    "\n",
    "numbers.sort(reverse=False)\n",
    "\n",
    "print(numbers)"
   ]
  },
  {
   "cell_type": "markdown",
   "metadata": {},
   "source": [
    "### Tarefa\n",
    "\n",
    "1. <span style=\"color:blue\">**QUIZ - Listas**</span>: respondam ao questionário sobre listas no MS teams, por favor."
   ]
  },
  {
   "cell_type": "markdown",
   "metadata": {},
   "source": [
    "## Tuplas\n",
    "\n",
    "As tuplas são semelhantes as listas, porém a única diferença é que elas são **imutáveis**, ou seja, não se pode acrescentar, apagar ou fazer atribuições aos itens de uma tupla.\n",
    "\n",
    "Portanto, as tuplas são coleções **ordenadas**, **heterogêneas** e **imutáveis** de objetos, que podem ser de qualquer tipo, inclusive outras tuplas e até mesmo outros tipos de estruturas de dados (listas, dicionários, etc.).\n",
    "\n",
    "As tuplas são úteis porque:\n",
    "\n",
    "+ sua manipulação é mais rápida do que manipulação de listas devido ao fato de serem imutáveis,\n",
    "+ por serem imutáveis, protegem os dados,\n",
    "+ podem ser usadas como chaves em dicionários.\n",
    "\n",
    "Sintaxe:\n",
    "\n",
    "```python\n",
    "tupla = (a, b, ..., z)\n",
    "```\n",
    "\n",
    "Os **parênteses são opcionais**, assim, uma sintaxe que também é válida é\n",
    "\n",
    "```python\n",
    "tupla = a, b, ..., z\n",
    "```"
   ]
  },
  {
   "cell_type": "code",
   "execution_count": 76,
   "metadata": {},
   "outputs": [
    {
     "name": "stdout",
     "output_type": "stream",
     "text": [
      "Conteúdo da tupla1 é (1, 2, 3)\n",
      "<class 'tuple'>\n",
      "Conteúdo da tupla2 é (4, 5, 6)\n",
      "<class 'tuple'>\n",
      "Conteúdo da tuplaVazia é ()\n",
      "<class 'tuple'>\n"
     ]
    }
   ],
   "source": [
    "# Cria tupla com os parênteses.\n",
    "tupla1 = (1,2,3)\n",
    "\n",
    "print('Conteúdo da tupla1 é', tupla1)\n",
    "print(type(tupla1))\n",
    "\n",
    "# Cria tupla sem os parênteses.\n",
    "tupla2 = 4,5,6\n",
    "\n",
    "print('Conteúdo da tupla2 é', tupla2)\n",
    "print(type(tupla2))\n",
    "\n",
    "# Cria uma tupla vazia.\n",
    "tuplaVazia = ()\n",
    "\n",
    "print('Conteúdo da tuplaVazia é', tuplaVazia)\n",
    "print(type(tuplaVazia))"
   ]
  },
  {
   "cell_type": "markdown",
   "metadata": {},
   "source": [
    "**Particularidade**: uma tupla com apenas um único elemento deve ser representada como mostrado abaixo, com uma **vírgula** após o único elemento, caso contrário, o interpretador entende que o tipo da variável é `int`, por exemplo."
   ]
  },
  {
   "cell_type": "code",
   "execution_count": 77,
   "metadata": {},
   "outputs": [
    {
     "name": "stdout",
     "output_type": "stream",
     "text": [
      "(1,)\n",
      "<class 'tuple'>\n",
      "(1,)\n",
      "<class 'tuple'>\n",
      "1\n",
      "<class 'int'>\n",
      "1\n",
      "<class 'int'>\n"
     ]
    }
   ],
   "source": [
    "tupla3 = (1, )\n",
    "\n",
    "print(tupla3)\n",
    "print(type(tupla3))\n",
    "\n",
    "tupla4 = 1,\n",
    "print(tupla4)\n",
    "print(type(tupla4))\n",
    "\n",
    "tupla5 = (1)\n",
    "print(tupla5)\n",
    "print(type(tupla5))\n",
    "\n",
    "tupla6 = 1\n",
    "print(tupla6)\n",
    "print(type(tupla6))"
   ]
  },
  {
   "cell_type": "markdown",
   "metadata": {},
   "source": [
    "Assim como as listas, as tuplas podem conter elementos de tipos diferentes."
   ]
  },
  {
   "cell_type": "code",
   "execution_count": 78,
   "metadata": {},
   "outputs": [
    {
     "name": "stdout",
     "output_type": "stream",
     "text": [
      "O conteúdo da tupla1 é: (10, 23.44, True, 'string')\n",
      "O conteúdo da lista1 é: ['A', 'B', 'C']\n",
      "O conteúdo da tupla2 é: (1, 2, (10, 23.44, True, 'string'), ['A', 'B', 'C'])\n",
      "O número de elementos de tupla2 é 4\n"
     ]
    }
   ],
   "source": [
    "# Criando uma tupla heterogênea.\n",
    "tupla1 = (10, 23.44, True, 'string')\n",
    "\n",
    "print('O conteúdo da tupla1 é:', tupla1)\n",
    "\n",
    "# Criando uma tupla com outra tupla e uma lista.\n",
    "lista1 = ['A', 'B', 'C']\n",
    "\n",
    "print('O conteúdo da lista1 é:', lista1)\n",
    "\n",
    "tupla2 = (1, 2, tupla1, lista1)\n",
    "\n",
    "print('O conteúdo da tupla2 é:', tupla2)\n",
    "print('O número de elementos de tupla2 é', len(tupla2))"
   ]
  },
  {
   "cell_type": "markdown",
   "metadata": {},
   "source": [
    "Os elementos de uma tupla podem ser referenciados da mesma forma que os elementos de uma lista:"
   ]
  },
  {
   "cell_type": "code",
   "execution_count": 79,
   "metadata": {},
   "outputs": [
    {
     "name": "stdout",
     "output_type": "stream",
     "text": [
      "O primeiro elemento da tupla é 10\n"
     ]
    }
   ],
   "source": [
    "tupla1 = (10, 23, 67, 45)\n",
    "\n",
    "primeiro_elemento = tupla1[0]\n",
    "\n",
    "print('O primeiro elemento da tupla é', primeiro_elemento)"
   ]
  },
  {
   "cell_type": "markdown",
   "metadata": {},
   "source": [
    "Listas podem ser convertidas em tuplas:"
   ]
  },
  {
   "cell_type": "code",
   "execution_count": 80,
   "metadata": {},
   "outputs": [
    {
     "name": "stdout",
     "output_type": "stream",
     "text": [
      "O conteúdo da tupla1 é: ('A', 'B', 'C')\n"
     ]
    }
   ],
   "source": [
    "lista1 = ['A', 'B', 'C']\n",
    "\n",
    "tupla1 = tuple(lista1)\n",
    "\n",
    "print('O conteúdo da tupla1 é:', tupla1)"
   ]
  },
  {
   "cell_type": "markdown",
   "metadata": {},
   "source": [
    "E tuplas podem ser convertidas em listas:"
   ]
  },
  {
   "cell_type": "code",
   "execution_count": 81,
   "metadata": {},
   "outputs": [
    {
     "name": "stdout",
     "output_type": "stream",
     "text": [
      "O conteúdo da lista1 é: [10, 23.44, True, 'string']\n"
     ]
    }
   ],
   "source": [
    "tupla1 = (10, 23.44, True, 'string')\n",
    "\n",
    "lista1 = list(tupla1)\n",
    "\n",
    "print('O conteúdo da lista1 é:', lista1)"
   ]
  },
  {
   "cell_type": "markdown",
   "metadata": {},
   "source": [
    "Em teoria, elementos da tupla são imutáveis, ou seja, não podem ter seus valores alterados. Caso você tente mudar o valor de um elemento, você receberá um erro."
   ]
  },
  {
   "cell_type": "code",
   "execution_count": 82,
   "metadata": {},
   "outputs": [
    {
     "ename": "TypeError",
     "evalue": "'tuple' object does not support item assignment",
     "output_type": "error",
     "traceback": [
      "\u001b[1;31m---------------------------------------------------------------------------\u001b[0m",
      "\u001b[1;31mTypeError\u001b[0m                                 Traceback (most recent call last)",
      "\u001b[1;32m<ipython-input-82-1dd567fc6af5>\u001b[0m in \u001b[0;36m<module>\u001b[1;34m\u001b[0m\n\u001b[0;32m      1\u001b[0m \u001b[0mtupla1\u001b[0m \u001b[1;33m=\u001b[0m \u001b[1;33m(\u001b[0m\u001b[1;36m10\u001b[0m\u001b[1;33m,\u001b[0m \u001b[1;36m23.44\u001b[0m\u001b[1;33m,\u001b[0m \u001b[1;32mTrue\u001b[0m\u001b[1;33m,\u001b[0m \u001b[1;34m'string'\u001b[0m\u001b[1;33m)\u001b[0m\u001b[1;33m\u001b[0m\u001b[1;33m\u001b[0m\u001b[0m\n\u001b[0;32m      2\u001b[0m \u001b[1;33m\u001b[0m\u001b[0m\n\u001b[1;32m----> 3\u001b[1;33m \u001b[0mtupla1\u001b[0m\u001b[1;33m[\u001b[0m\u001b[1;36m0\u001b[0m\u001b[1;33m]\u001b[0m \u001b[1;33m=\u001b[0m \u001b[1;36m1\u001b[0m\u001b[1;33m\u001b[0m\u001b[1;33m\u001b[0m\u001b[0m\n\u001b[0m",
      "\u001b[1;31mTypeError\u001b[0m: 'tuple' object does not support item assignment"
     ]
    }
   ],
   "source": [
    "tupla1 = (10, 23.44, True, 'string')\n",
    "\n",
    "tupla1[0] = 1"
   ]
  },
  {
   "cell_type": "markdown",
   "metadata": {},
   "source": [
    "Porém, uma tupla pode conter elementos **mutáveis**, e portanto, esses elementos podem ser alterados:"
   ]
  },
  {
   "cell_type": "code",
   "execution_count": 83,
   "metadata": {},
   "outputs": [
    {
     "name": "stdout",
     "output_type": "stream",
     "text": [
      "O conteúdo da tupla1 é: (1, 'String', [2.1, 45, True])\n"
     ]
    },
    {
     "ename": "TypeError",
     "evalue": "'tuple' object does not support item assignment",
     "output_type": "error",
     "traceback": [
      "\u001b[1;31m---------------------------------------------------------------------------\u001b[0m",
      "\u001b[1;31mTypeError\u001b[0m                                 Traceback (most recent call last)",
      "\u001b[1;32m<ipython-input-83-2eeeff3b7ab6>\u001b[0m in \u001b[0;36m<module>\u001b[1;34m\u001b[0m\n\u001b[0;32m      4\u001b[0m \u001b[1;33m\u001b[0m\u001b[0m\n\u001b[0;32m      5\u001b[0m \u001b[1;31m# Tentando alterar o primeiro elemento da tupla.\u001b[0m\u001b[1;33m\u001b[0m\u001b[1;33m\u001b[0m\u001b[1;33m\u001b[0m\u001b[0m\n\u001b[1;32m----> 6\u001b[1;33m \u001b[0mtupla1\u001b[0m\u001b[1;33m[\u001b[0m\u001b[1;36m0\u001b[0m\u001b[1;33m]\u001b[0m \u001b[1;33m=\u001b[0m \u001b[1;36m2\u001b[0m\u001b[1;33m\u001b[0m\u001b[1;33m\u001b[0m\u001b[0m\n\u001b[0m",
      "\u001b[1;31mTypeError\u001b[0m: 'tuple' object does not support item assignment"
     ]
    }
   ],
   "source": [
    "tupla1 = (1, 'String', [2.1, 45, True])\n",
    "\n",
    "print('O conteúdo da tupla1 é:', tupla1)\n",
    "\n",
    "# Tentando alterar o primeiro elemento da tupla.\n",
    "tupla1[0] = 2"
   ]
  },
  {
   "cell_type": "code",
   "execution_count": 88,
   "metadata": {},
   "outputs": [
    {
     "name": "stdout",
     "output_type": "stream",
     "text": [
      "O conteúdo do terceiro elemento da tupla1 é: [2.1, 45, True]\n",
      "O conteúdo da tupla1 é: (1, 'String', ['Teste', 45, True, 1j])\n"
     ]
    }
   ],
   "source": [
    "tupla1 = (1, 'String', [2.1, 45, True])\n",
    "\n",
    "print('O conteúdo do terceiro elemento da tupla1 é:', tupla1[2])\n",
    "\n",
    "# Altero o valor de um elemento da lista que está dentro da tupla.\n",
    "tupla1[2][0] = 'Teste'\n",
    "\n",
    "# Adiciono um valor ao final da lista que está dentro da tupla.\n",
    "tupla1[2].append(1j)\n",
    "\n",
    "print('O conteúdo da tupla1 é:', tupla1)"
   ]
  },
  {
   "cell_type": "markdown",
   "metadata": {},
   "source": [
    "Os elementos de uma tupla podem ser atribuídos a uma sequencia de variáveis, este processo se chama **desempacotamento**."
   ]
  },
  {
   "cell_type": "code",
   "execution_count": 89,
   "metadata": {},
   "outputs": [
    {
     "name": "stdout",
     "output_type": "stream",
     "text": [
      "1 String [2.1, 45, True]\n",
      "1 String\n"
     ]
    }
   ],
   "source": [
    "tupla1 = (1, 'String', [2.1, 45, True])\n",
    "\n",
    "a,b,c = tupla1\n",
    "\n",
    "print(a,b,c)\n",
    "\n",
    "a,b = tupla1[0:2]\n",
    "\n",
    "print(a,b)"
   ]
  },
  {
   "cell_type": "markdown",
   "metadata": {},
   "source": [
    "### Tarefa\n",
    "\n",
    "1. <span style=\"color:blue\">**QUIZ - Tuplas**</span>: respondam ao questionário sobre tuplas no MS teams, por favor."
   ]
  },
  {
   "cell_type": "markdown",
   "metadata": {},
   "source": [
    "## Conjuntos\n",
    "\n",
    "Um conjunto em Python é um conceito ligeiramente diferente de uma lista ou tupla. Um conjunto, em Python, é exatamente como um conjunto matemático. Sendo assim, ele **não contém valores duplicados e não é ordenado**.\n",
    "\n",
    "A linguagem Python provê 2 tipos de conjuntos:\n",
    "\n",
    "+ `set`: é uma coleção **mutável**, **unívoca** (ou seja, sem repetições) e **não ordenada** de objetos.\n",
    "\n",
    "+ `frozenset`: é uma coleção **imutável**, **unívoca** (ou seja, sem repetições) e **não ordenada** de objetos.\n",
    "\n",
    "Os dois tipos implementam operações de conjuntos, tais como: **união**, **interseção** e **diferença**.\n",
    "\n",
    "Sintaxes válidas para `set`\n",
    "\n",
    "```python\n",
    "conjunto = {1,2,3}\n",
    "```\n",
    "\n",
    "```python\n",
    "conjunto = set([1,2,3])\n",
    "```\n",
    "\n",
    "```python\n",
    "conjunto = set((1,2,3))\n",
    "```\n",
    "\n",
    "Sintaxes válidas para `frozenset`\n",
    "\n",
    "```python\n",
    "conjunto = frozenset([1,2,3])\n",
    "```\n",
    "\n",
    "```python\n",
    "conjunto = frozenset((1,2,3))\n",
    "```"
   ]
  },
  {
   "cell_type": "markdown",
   "metadata": {},
   "source": [
    "`set` pode ser convertido em `frozenset` e vice versa:"
   ]
  },
  {
   "cell_type": "code",
   "execution_count": 35,
   "metadata": {},
   "outputs": [
    {
     "name": "stdout",
     "output_type": "stream",
     "text": [
      "<class 'frozenset'>\n",
      "<class 'set'>\n",
      "<class 'frozenset'>\n"
     ]
    }
   ],
   "source": [
    "conjunto1 = frozenset([1,2,3])\n",
    "print(type(conjunto1))\n",
    "\n",
    "conjunto2 = set(conjunto1)\n",
    "print(type(conjunto2))\n",
    "\n",
    "conjunto3 = frozenset(conjunto2)\n",
    "print(type(conjunto3))"
   ]
  },
  {
   "cell_type": "markdown",
   "metadata": {},
   "source": [
    "Se você criar um conjunto com elementos repetidos o `set` e `frozenset` descartam as duplicatas automaticamente."
   ]
  },
  {
   "cell_type": "code",
   "execution_count": 36,
   "metadata": {},
   "outputs": [
    {
     "name": "stdout",
     "output_type": "stream",
     "text": [
      "<class 'set'>\n",
      "O conteúdo do set é {1, 2, 3}\n",
      "<class 'frozenset'>\n",
      "O conteúdo do frozenset é frozenset({1, 2, 3, 4})\n"
     ]
    }
   ],
   "source": [
    "conjunto1 = {1,2,3,1,3,2}\n",
    "print(type(conjunto1))\n",
    "print('O conteúdo do set é', conjunto1)\n",
    "\n",
    "conjunto2 = frozenset([1,2,3,4,4,3,2,1])\n",
    "print(type(conjunto2))\n",
    "print('O conteúdo do frozenset é', conjunto2)"
   ]
  },
  {
   "cell_type": "markdown",
   "metadata": {},
   "source": [
    "Você pode criar um conjunto com a função `range()`"
   ]
  },
  {
   "cell_type": "code",
   "execution_count": 37,
   "metadata": {},
   "outputs": [
    {
     "name": "stdout",
     "output_type": "stream",
     "text": [
      "{0, 1, 2, 3, 4, 5, 6, 7, 8, 9}\n",
      "{0, 2, 4, 6, 8}\n"
     ]
    }
   ],
   "source": [
    "conjunto1 = set(range(0,10))\n",
    "\n",
    "print(conjunto1)\n",
    "\n",
    "conjunto2 = set(range(0,10,2))\n",
    "\n",
    "print(conjunto2)"
   ]
  },
  {
   "cell_type": "markdown",
   "metadata": {},
   "source": [
    "**União de conjuntos**\n",
    "\n",
    "Une os elementos dos 2 conjuntos, mas descartando elementos repetidos."
   ]
  },
  {
   "cell_type": "code",
   "execution_count": 38,
   "metadata": {},
   "outputs": [
    {
     "name": "stdout",
     "output_type": "stream",
     "text": [
      "União de s1 e s2: {1, 2, 3, 4, 5, 6}\n"
     ]
    }
   ],
   "source": [
    "# Números ímpares.\n",
    "s1 = {1,3,5}\n",
    "\n",
    "# Números pares.\n",
    "s2 = {2,4,6}\n",
    "\n",
    "s1s2union = s1.union(s2)\n",
    "print('União de s1 e s2:', s1s2union)"
   ]
  },
  {
   "cell_type": "markdown",
   "metadata": {},
   "source": [
    "**Diferença de conjuntos**\n",
    "\n",
    "Remove do primeiro conjunto os elementos do segundo conjunto."
   ]
  },
  {
   "cell_type": "code",
   "execution_count": 39,
   "metadata": {},
   "outputs": [
    {
     "name": "stdout",
     "output_type": "stream",
     "text": [
      "Diferença de s1 com s2: {1, 3, 5}\n",
      "O conteúdo de s1s2union é {1, 2, 3, 4, 5, 6}\n",
      "Diferença de s1s2union com s1: {2, 4, 6}\n"
     ]
    }
   ],
   "source": [
    "# Números ímpares.\n",
    "s1 = {1,3,5}\n",
    "\n",
    "# Números pares.\n",
    "s2 = {2,4,6}\n",
    "\n",
    "s1s2diff = s1.difference(s2)\n",
    "# Como os elementos de s2 não estão presentes em s1, \n",
    "# então a diferença é o proprio s1.\n",
    "print('Diferença de s1 com s2:', s1s2diff)\n",
    "\n",
    "print('O conteúdo de s1s2union é', s1s2union)\n",
    "s1s2diff = s1s2union.difference(s1)\n",
    "print('Diferença de s1s2union com s1:', s1s2diff)"
   ]
  },
  {
   "cell_type": "markdown",
   "metadata": {},
   "source": [
    "**Interseção de conjuntos**\n",
    "\n",
    "Retorna os elementos presentes em ambos os conjuntos."
   ]
  },
  {
   "cell_type": "code",
   "execution_count": 40,
   "metadata": {},
   "outputs": [
    {
     "name": "stdout",
     "output_type": "stream",
     "text": [
      "O conteúdo de s1s2union é {1, 2, 3, 4, 5, 6}\n",
      "O conteúdo de s1 é {1, 3, 5}\n",
      "Interseção s1s2union com s1: {1, 3, 5}\n"
     ]
    }
   ],
   "source": [
    "print('O conteúdo de s1s2union é', s1s2union)\n",
    "print('O conteúdo de s1 é', s1)\n",
    "\n",
    "print('Interseção s1s2union com s1:', s1s2union.intersection(s1))"
   ]
  },
  {
   "cell_type": "markdown",
   "metadata": {},
   "source": [
    "**Verificando se um conjunto inclui outro**"
   ]
  },
  {
   "cell_type": "code",
   "execution_count": 41,
   "metadata": {},
   "outputs": [
    {
     "name": "stdout",
     "output_type": "stream",
     "text": [
      "s1 não inlui os elementos 1 e 2.\n",
      "s1 e s2 não tem elementos em comum.\n"
     ]
    }
   ],
   "source": [
    "# Números ímpares.\n",
    "s1 = {1,3,5}\n",
    "# Números pares.\n",
    "s2 = {2,4,6}\n",
    "\n",
    "# Testa se um set inclui outro.\n",
    "if s1.issuperset([1, 2]):\n",
    "    print('s1 inclui os elementos 1 e 2.')\n",
    "else:\n",
    "    print('s1 não inlui os elementos 1 e 2.')\n",
    "\n",
    "# Testa se não existe elementos em comum.\n",
    "if s1.isdisjoint(s2):\n",
    "    print('s1 e s2 não tem elementos em comum.')"
   ]
  },
  {
   "cell_type": "markdown",
   "metadata": {},
   "source": [
    "Quando uma lista é convertida para `set` ou `frozenset`, as repetições são descartadas."
   ]
  },
  {
   "cell_type": "code",
   "execution_count": 90,
   "metadata": {},
   "outputs": [
    {
     "name": "stdout",
     "output_type": "stream",
     "text": [
      "{False, 1, 2.1, 'string'}\n",
      "frozenset({False, 1, 2.1, 'string'})\n"
     ]
    }
   ],
   "source": [
    "lista1 = [1, 2.1, False, 'string', True, 2.1, False, 0]\n",
    "\n",
    "conjunto1 = set(lista1)\n",
    "\n",
    "# Percebam que os valores True e 0 são descartados pois eles são \n",
    "# interpretados como repetições dos valores 1 e False, respectivamente.\n",
    "print(conjunto1)\n",
    "\n",
    "conjunto2 = frozenset(lista1)\n",
    "\n",
    "print(conjunto2)"
   ]
  },
  {
   "cell_type": "markdown",
   "metadata": {},
   "source": [
    "**IMPORTANTE**\n",
    "\n",
    "+ Como conjuntos não são coleções ordenadas, não há como usar a indexação para acessar ou excluir seus elementos. \n",
    "+ Então, para realizar tais operações neles, Python nos fornece uma lista de funções e métodos como `discard()`, `pop()`, `clear()`, `remove()`, `add()` e outras. \n",
    "+ Funções embutidas como `len()`, `max()`, `min()`, etc. também se aplicam aos conjuntos."
   ]
  },
  {
   "cell_type": "code",
   "execution_count": 91,
   "metadata": {},
   "outputs": [
    {
     "name": "stdout",
     "output_type": "stream",
     "text": [
      "Novo elemento adicionado: {1, 2, 3, 4, 5}\n",
      "Elemento removido: {1, 2, 3, 4}\n",
      "Elemento descartado: {1, 2, 3}\n",
      "Elemento removido da lista: 1\n",
      "Tamanho do conjunto: 2\n",
      "Maior valor do conjunto: 3\n",
      "Conteúdo da lista: set()\n"
     ]
    }
   ],
   "source": [
    "s1 = {1,2,3,4}\n",
    "\n",
    "# Adicionando um elemento.\n",
    "s1.add(5)\n",
    "print('Novo elemento adicionado:', s1)\n",
    "\n",
    "# Removendo um elemento, lança uma exceção caso o elemento não estiver presente.\n",
    "s1.remove(5)\n",
    "print('Elemento removido:', s1)\n",
    "\n",
    "# Descartando um elemento se ele estiver presente.\n",
    "s1.discard(4)\n",
    "print('Elemento descartado:', s1)\n",
    "\n",
    "# Removendo e retornando um elemento arbitrário do conjunto.\n",
    "element = s1.pop()\n",
    "print('Elemento removido da lista:', element)\n",
    "\n",
    "# Obtendo o tamanho do conjunto.\n",
    "print('Tamanho do conjunto:', len(s1))\n",
    "\n",
    "# Obtendo o maior valor do conjunto.\n",
    "print('Maior valor do conjunto:', max(s1))\n",
    "\n",
    "# Removendo todos os elementos do conjunto.\n",
    "s1.clear()\n",
    "print('Conteúdo da lista:',s1)"
   ]
  },
  {
   "cell_type": "markdown",
   "metadata": {},
   "source": [
    "Embora um conjunto seja mutável, e portanto, possa ser modificado (adição, remoção de novos elementos), os elementos contidos nele devem ser imutáveis.\n",
    "\n",
    "Por exemplo, se tentarmos criar um conjunto com uma lista, o interpretador vai retornar um erro."
   ]
  },
  {
   "cell_type": "code",
   "execution_count": 92,
   "metadata": {},
   "outputs": [
    {
     "ename": "TypeError",
     "evalue": "unhashable type: 'list'",
     "output_type": "error",
     "traceback": [
      "\u001b[1;31m---------------------------------------------------------------------------\u001b[0m",
      "\u001b[1;31mTypeError\u001b[0m                                 Traceback (most recent call last)",
      "\u001b[1;32m<ipython-input-92-143fb4f1ad09>\u001b[0m in \u001b[0;36m<module>\u001b[1;34m\u001b[0m\n\u001b[1;32m----> 1\u001b[1;33m \u001b[0ms1\u001b[0m \u001b[1;33m=\u001b[0m \u001b[1;33m{\u001b[0m\u001b[1;36m1\u001b[0m\u001b[1;33m,\u001b[0m \u001b[1;36m2\u001b[0m\u001b[1;33m,\u001b[0m \u001b[1;33m[\u001b[0m\u001b[1;36m3\u001b[0m\u001b[1;33m,\u001b[0m \u001b[1;36m4\u001b[0m\u001b[1;33m]\u001b[0m\u001b[1;33m}\u001b[0m\u001b[1;33m\u001b[0m\u001b[1;33m\u001b[0m\u001b[0m\n\u001b[0m\u001b[0;32m      2\u001b[0m \u001b[0mprint\u001b[0m\u001b[1;33m(\u001b[0m\u001b[0ms1\u001b[0m\u001b[1;33m)\u001b[0m\u001b[1;33m\u001b[0m\u001b[1;33m\u001b[0m\u001b[0m\n",
      "\u001b[1;31mTypeError\u001b[0m: unhashable type: 'list'"
     ]
    }
   ],
   "source": [
    "s1 = {1, 2, [3, 4]}\n",
    "print(s1)"
   ]
  },
  {
   "cell_type": "markdown",
   "metadata": {},
   "source": [
    "Porém, se tentarmos criar um conjunto com uma tupla como elemento, não teremos problemas."
   ]
  },
  {
   "cell_type": "code",
   "execution_count": 93,
   "metadata": {},
   "outputs": [
    {
     "name": "stdout",
     "output_type": "stream",
     "text": [
      "{1, 2, (3, 4)}\n",
      "{1, 2}\n"
     ]
    }
   ],
   "source": [
    "s1 = {1, 2, (3, 4)}\n",
    "print(s1)\n",
    "\n",
    "# Eu consigo apagar o elemento tupla.\n",
    "s1.remove((3,4))\n",
    "print(s1)"
   ]
  },
  {
   "cell_type": "markdown",
   "metadata": {},
   "source": [
    "Frozensets são como os conjuntos, exceto pelo fato de que eles não podem ser alterados, ou seja, eles são imutáveis."
   ]
  },
  {
   "cell_type": "code",
   "execution_count": 94,
   "metadata": {},
   "outputs": [
    {
     "ename": "AttributeError",
     "evalue": "'frozenset' object has no attribute 'add'",
     "output_type": "error",
     "traceback": [
      "\u001b[1;31m---------------------------------------------------------------------------\u001b[0m",
      "\u001b[1;31mAttributeError\u001b[0m                            Traceback (most recent call last)",
      "\u001b[1;32m<ipython-input-94-466071e03022>\u001b[0m in \u001b[0;36m<module>\u001b[1;34m\u001b[0m\n\u001b[0;32m      1\u001b[0m \u001b[0mcidades\u001b[0m \u001b[1;33m=\u001b[0m \u001b[0mfrozenset\u001b[0m\u001b[1;33m(\u001b[0m\u001b[1;33m[\u001b[0m\u001b[1;34m\"Campanha\"\u001b[0m\u001b[1;33m,\u001b[0m \u001b[1;34m\"Varginha\"\u001b[0m\u001b[1;33m,\u001b[0m \u001b[1;34m\"Piranguinho\"\u001b[0m\u001b[1;33m]\u001b[0m\u001b[1;33m)\u001b[0m\u001b[1;33m\u001b[0m\u001b[1;33m\u001b[0m\u001b[0m\n\u001b[1;32m----> 2\u001b[1;33m \u001b[0mcidades\u001b[0m\u001b[1;33m.\u001b[0m\u001b[0madd\u001b[0m\u001b[1;33m(\u001b[0m\u001b[1;34m\"Itajuba\"\u001b[0m\u001b[1;33m)\u001b[0m\u001b[1;33m\u001b[0m\u001b[1;33m\u001b[0m\u001b[0m\n\u001b[0m",
      "\u001b[1;31mAttributeError\u001b[0m: 'frozenset' object has no attribute 'add'"
     ]
    }
   ],
   "source": [
    "cidades = frozenset([\"Campanha\", \"Varginha\", \"Piranguinho\"])\n",
    "cidades.add(\"Itajuba\")"
   ]
  },
  {
   "cell_type": "markdown",
   "metadata": {},
   "source": [
    "Você pode testar se um objeto está em um conjunto com os operadores `in` e `not in`"
   ]
  },
  {
   "cell_type": "code",
   "execution_count": 95,
   "metadata": {},
   "outputs": [
    {
     "name": "stdout",
     "output_type": "stream",
     "text": [
      "'A' não está presente em s1\n",
      "'A' não está presente em s1\n"
     ]
    }
   ],
   "source": [
    "s1 = {'B', 1, 2.3, True}\n",
    "\n",
    "# Usando operador in.\n",
    "if 'A' in s1:\n",
    "    print('\\'A\\' está presente em s1')\n",
    "else:\n",
    "    print('\\'A\\' não está presente em s1')\n",
    "    \n",
    "# Usando operador not in.\n",
    "if 'A' not in s1:\n",
    "    print('\\'A\\' não está presente em s1')\n",
    "else:\n",
    "    print('\\'A\\' está presente em s1')"
   ]
  },
  {
   "cell_type": "markdown",
   "metadata": {},
   "source": [
    "Um `frozenset` pode ser parte de um `set`:"
   ]
  },
  {
   "cell_type": "code",
   "execution_count": 96,
   "metadata": {},
   "outputs": [
    {
     "name": "stdout",
     "output_type": "stream",
     "text": [
      "{frozenset({'foo', 'baz', 'qux', 'bar'}), 2, 3, 4}\n"
     ]
    }
   ],
   "source": [
    "s1 = frozenset({'foo', 'bar', 'baz', 'qux'})\n",
    "\n",
    "s2 = {2, 3, 4, s1}\n",
    "\n",
    "print(s2)"
   ]
  },
  {
   "cell_type": "markdown",
   "metadata": {},
   "source": [
    "Porém, um `set` não pode ser parte de um `frozenset` por ser mutável."
   ]
  },
  {
   "cell_type": "code",
   "execution_count": 97,
   "metadata": {},
   "outputs": [
    {
     "ename": "TypeError",
     "evalue": "unhashable type: 'set'",
     "output_type": "error",
     "traceback": [
      "\u001b[1;31m---------------------------------------------------------------------------\u001b[0m",
      "\u001b[1;31mTypeError\u001b[0m                                 Traceback (most recent call last)",
      "\u001b[1;32m<ipython-input-97-5d741a0a57b8>\u001b[0m in \u001b[0;36m<module>\u001b[1;34m\u001b[0m\n\u001b[0;32m      1\u001b[0m \u001b[0ms3\u001b[0m \u001b[1;33m=\u001b[0m \u001b[1;33m{\u001b[0m\u001b[1;36m1\u001b[0m\u001b[1;33m,\u001b[0m \u001b[1;36m2\u001b[0m\u001b[1;33m,\u001b[0m \u001b[1;36m3\u001b[0m\u001b[1;33m}\u001b[0m\u001b[1;33m\u001b[0m\u001b[1;33m\u001b[0m\u001b[0m\n\u001b[0;32m      2\u001b[0m \u001b[1;33m\u001b[0m\u001b[0m\n\u001b[1;32m----> 3\u001b[1;33m \u001b[0ms4\u001b[0m \u001b[1;33m=\u001b[0m \u001b[0mfrozenset\u001b[0m\u001b[1;33m(\u001b[0m\u001b[1;33m{\u001b[0m\u001b[1;34m'foo'\u001b[0m\u001b[1;33m,\u001b[0m \u001b[1;34m'bar'\u001b[0m\u001b[1;33m,\u001b[0m \u001b[1;34m'baz'\u001b[0m\u001b[1;33m,\u001b[0m \u001b[1;34m'qux'\u001b[0m\u001b[1;33m,\u001b[0m \u001b[0ms3\u001b[0m\u001b[1;33m}\u001b[0m\u001b[1;33m)\u001b[0m\u001b[1;33m\u001b[0m\u001b[1;33m\u001b[0m\u001b[0m\n\u001b[0m",
      "\u001b[1;31mTypeError\u001b[0m: unhashable type: 'set'"
     ]
    }
   ],
   "source": [
    "s3 = {1, 2, 3}\n",
    "\n",
    "s4 = frozenset({'foo', 'bar', 'baz', 'qux', s3})"
   ]
  },
  {
   "cell_type": "markdown",
   "metadata": {},
   "source": [
    "### Tarefa\n",
    "\n",
    "1. <span style=\"color:blue\">**QUIZ - Conjuntos**</span>: respondam ao questionário sobre conjuntos no MS teams, por favor."
   ]
  },
  {
   "cell_type": "markdown",
   "metadata": {},
   "source": [
    "## Dicionários\n",
    "\n",
    "+ Um dicionário é uma **lista de associações** compostas por uma **chave única** e **objetos** ou **valores** correspondentes.\n",
    "    + Pense em um dicionário de Português. Ele contém pares de palavra (**chave**) e significado daquela palavra (**valor**). Da mesma forma, um dicionário em Python contém pares **chave-valor**.\n",
    "+ Dicionários são **mutáveis**, tais como as listas.\n",
    "+ Os dicionários são acessados através da **chave** e não por posição (índice), como nas listas.\n",
    "+ A **chave** precisa ser de um tipo **imutável**, geralmente são usadas strings, mas também podem ser tuplas ou tipos numéricos. \n",
    "+ Já os **valores** dos dicionários podem ser tanto mutáveis quanto imutáveis. \n",
    "+ Os dicionários **não são ordenados**.\n",
    "+ Você pode acessar a lista de **chaves** ou **valores** de forma independente.\n",
    "+ Para declarar um dicionário em Python, nós usamos chaves, `{}`. Mas, como ele possui pares de **chave-valor** ao invés de apenas valores, isso diferencia um dicionário de um conjunto.\n",
    "\n",
    "Sintaxe:\n",
    "\n",
    "```python\n",
    "dicionario = {'a': a, 'b': b, ..., 'z': z}\n",
    "```\n",
    "\n",
    "#### Exemplos\n",
    "\n",
    "Criando um dicionário vazio."
   ]
  },
  {
   "cell_type": "code",
   "execution_count": 49,
   "metadata": {},
   "outputs": [
    {
     "name": "stdout",
     "output_type": "stream",
     "text": [
      "Tipo de d1 é: <class 'dict'>\n"
     ]
    }
   ],
   "source": [
    "d1 = {}\n",
    "\n",
    "print('Tipo de d1 é:', type(d1))"
   ]
  },
  {
   "cell_type": "markdown",
   "metadata": {},
   "source": [
    "Criando um dicionário com 2 itens."
   ]
  },
  {
   "cell_type": "code",
   "execution_count": 50,
   "metadata": {},
   "outputs": [
    {
     "name": "stdout",
     "output_type": "stream",
     "text": [
      "{'spam': 2, 'eggs': 3}\n"
     ]
    }
   ],
   "source": [
    "d2 = {'spam' : 2, 'eggs' : 3}\n",
    "\n",
    "print(d2)"
   ]
  },
  {
   "cell_type": "markdown",
   "metadata": {},
   "source": [
    "As chaves de um dicionário podem ser de tipos diferentes."
   ]
  },
  {
   "cell_type": "code",
   "execution_count": 51,
   "metadata": {},
   "outputs": [
    {
     "name": "stdout",
     "output_type": "stream",
     "text": [
      "O conteúdo do dicionário d3 é: {'spam': 1, 2: 3, True: 'string'}\n",
      "O valor associado à chave 'spam' é 1\n",
      "O valor associado à chave 2 é 3\n",
      "O valor associado à chave True é string\n"
     ]
    }
   ],
   "source": [
    "d3 = {'spam' : 1, 2 : 3, True : 'string'}\n",
    "\n",
    "print('O conteúdo do dicionário d3 é:', d3)\n",
    "\n",
    "print('O valor associado à chave \\'spam\\' é', d3['spam'])\n",
    "print('O valor associado à chave 2 é', d3[2])\n",
    "print('O valor associado à chave True é', d3[True])"
   ]
  },
  {
   "cell_type": "markdown",
   "metadata": {},
   "source": [
    "Os valores de um dicionário podem ser listas, tuplas, conjuntos e outros dicionários.\n",
    "\n",
    "**IMPORTANTE**: Dicionários podem conter outros dicionários, ou seja, os dicionários podem ser aninhados em qualquer profundidade."
   ]
  },
  {
   "cell_type": "code",
   "execution_count": 52,
   "metadata": {},
   "outputs": [
    {
     "name": "stdout",
     "output_type": "stream",
     "text": [
      "O conteúdo do dicionário d3 é: {'spam': [1, 2], 1j: ('a', 'b'), True: {1: 1, 'A': 2}, 34: {1, 2, 3}}\n"
     ]
    }
   ],
   "source": [
    "d3 = {'spam' : [1, 2], 1j : ('a','b'), True : {1:1, 'A':2}, 34 : {1,2,3} }\n",
    "\n",
    "print('O conteúdo do dicionário d3 é:', d3)"
   ]
  },
  {
   "cell_type": "markdown",
   "metadata": {},
   "source": [
    "Verificando o número de itens de um dicionário com a função `len()`"
   ]
  },
  {
   "cell_type": "code",
   "execution_count": 53,
   "metadata": {},
   "outputs": [
    {
     "name": "stdout",
     "output_type": "stream",
     "text": [
      "O número de itens em d1 é: 0\n",
      "O número de itens em d1 é: 2\n"
     ]
    }
   ],
   "source": [
    "d1 = {}\n",
    "\n",
    "print('O número de itens em d1 é:', len(d1))\n",
    "\n",
    "d1 = {1 : 1, 2 : 2}\n",
    "\n",
    "print('O número de itens em d1 é:', len(d1))"
   ]
  },
  {
   "cell_type": "markdown",
   "metadata": {},
   "source": [
    "Criando um dicionário utilizando seu construtor."
   ]
  },
  {
   "cell_type": "code",
   "execution_count": 54,
   "metadata": {},
   "outputs": [
    {
     "name": "stdout",
     "output_type": "stream",
     "text": [
      "{'one': 1, 'two': 2, 'three': 3}\n"
     ]
    }
   ],
   "source": [
    "d2 = dict(one=1, two=2, three=3)\n",
    "\n",
    "print(d2)"
   ]
  },
  {
   "cell_type": "markdown",
   "metadata": {},
   "source": [
    "Para acessar valores de um dicionário, usamos suas chaves como índices. "
   ]
  },
  {
   "cell_type": "code",
   "execution_count": 55,
   "metadata": {},
   "outputs": [
    {
     "name": "stdout",
     "output_type": "stream",
     "text": [
      "O par da chave 'spam' é: 2\n"
     ]
    }
   ],
   "source": [
    "d2 = {'spam' : 2, 'eggs' : 3}\n",
    "\n",
    "print('O par da chave \\'spam\\' é:', d2['spam'])"
   ]
  },
  {
   "cell_type": "markdown",
   "metadata": {},
   "source": [
    "Quando a chave não existe, neste caso, retorna um erro de `KeyError`. "
   ]
  },
  {
   "cell_type": "code",
   "execution_count": 56,
   "metadata": {},
   "outputs": [
    {
     "ename": "KeyError",
     "evalue": "'ham'",
     "output_type": "error",
     "traceback": [
      "\u001b[1;31m---------------------------------------------------------------------------\u001b[0m",
      "\u001b[1;31mKeyError\u001b[0m                                  Traceback (most recent call last)",
      "\u001b[1;32m<ipython-input-56-2436db7b40d1>\u001b[0m in \u001b[0;36m<module>\u001b[1;34m\u001b[0m\n\u001b[1;32m----> 1\u001b[1;33m \u001b[0mprint\u001b[0m\u001b[1;33m(\u001b[0m\u001b[1;34m'O par da chave \\'ham\\' é:'\u001b[0m\u001b[1;33m,\u001b[0m \u001b[0md2\u001b[0m\u001b[1;33m[\u001b[0m\u001b[1;34m'ham'\u001b[0m\u001b[1;33m]\u001b[0m\u001b[1;33m)\u001b[0m\u001b[1;33m\u001b[0m\u001b[1;33m\u001b[0m\u001b[0m\n\u001b[0m",
      "\u001b[1;31mKeyError\u001b[0m: 'ham'"
     ]
    }
   ],
   "source": [
    "print('O par da chave \\'ham\\' é:', d2['ham'])"
   ]
  },
  {
   "cell_type": "markdown",
   "metadata": {},
   "source": [
    "Outra forma de acessar valores é através do método `get(key, [, default])`. Diferentemente da forma acima, o método `get` não retorna um erro quando a chave não existe no dicionário, mas sim o valor `None` ou o valor `default` caso ele tenha sido defindo na chamada do método."
   ]
  },
  {
   "cell_type": "code",
   "execution_count": 98,
   "metadata": {},
   "outputs": [
    {
     "name": "stdout",
     "output_type": "stream",
     "text": [
      "O par da chave 'spam' é: None\n",
      "O par da chave 'ham' é: None\n",
      "O par da chave 'ham' é: 0\n",
      "O conteúdo do dicionário não é alterado: {'a': 2, 'b': 2, 'c': 3}\n"
     ]
    }
   ],
   "source": [
    "# Busca o valor da chave 'spam'.\n",
    "print('O par da chave \\'spam\\' é:', d2.get('spam'))\n",
    "\n",
    "# Busca o valor da chave 'ham' como este não existe, retorna None.\n",
    "print('O par da chave \\'ham\\' é:', d2.get('ham'))\n",
    "\n",
    "# Busca o valor da chave 'ham' como este não existe, retorna o valor 0, \n",
    "# que é o valor definido como default.\n",
    "print('O par da chave \\'ham\\' é:', d2.get('ham', 0))\n",
    "\n",
    "# Vejam que o método get() não altera o conteúdo do dicionário.\n",
    "print('O conteúdo do dicionário não é alterado:', d2)"
   ]
  },
  {
   "cell_type": "markdown",
   "metadata": {},
   "source": [
    "O método `pop(key, [, default])` é ainda outra forma de acessar valores de um dicionário. Diferentemente do método `get(key, [, default])`, além de retornar o valor referente a chave passada, ele remove aquele par chave-valor do dicionário. Caso a chave passada não exista no dicionário, ele retorna `None` ou o valor `default` caso tenha sido definido."
   ]
  },
  {
   "cell_type": "code",
   "execution_count": 99,
   "metadata": {},
   "outputs": [
    {
     "name": "stdout",
     "output_type": "stream",
     "text": [
      "O par da chave 'spam' é: 0\n",
      "O conteúdo do dicionário é alterado: {'a': 2, 'b': 2, 'c': 3}\n",
      "O par da chave 'spam' é: 0\n"
     ]
    }
   ],
   "source": [
    "# Busca o valor da chave 'spam'.\n",
    "print('O par da chave \\'spam\\' é:', d2.pop('spam', 0))\n",
    "\n",
    "print('O conteúdo do dicionário é alterado:', d2)\n",
    "\n",
    "# Busca o valor da chave 'spam'.\n",
    "print('O par da chave \\'spam\\' é:', d2.pop('spam', 0))"
   ]
  },
  {
   "cell_type": "markdown",
   "metadata": {},
   "source": [
    "Criando dicionários aninhados e acessando seus valores."
   ]
  },
  {
   "cell_type": "code",
   "execution_count": 100,
   "metadata": {},
   "outputs": [
    {
     "name": "stdout",
     "output_type": "stream",
     "text": [
      "Acessando um valor: 1\n"
     ]
    }
   ],
   "source": [
    "d3 = {'info' : {42 : 1, 'A' : 2}, 'spam' : []}\n",
    "\n",
    "print('Acessando um valor:', d3['info'][42])"
   ]
  },
  {
   "cell_type": "markdown",
   "metadata": {},
   "source": [
    "Verificando as chaves e valores presentes em um dicionário com os métodos `keys()`, `values()` e `items()`.\n",
    "\n",
    "+ O método `keys()` retorna uma lista com todas as chaves do dicionário.\n",
    "+ O método `values()` retorna uma lista com todas os valores do dicionário.\n",
    "+ O método `items()` retorna uma lista de tuplas com os pares chave-valor do dicionário."
   ]
  },
  {
   "cell_type": "code",
   "execution_count": 101,
   "metadata": {},
   "outputs": [
    {
     "name": "stdout",
     "output_type": "stream",
     "text": [
      "dict_keys(['first', 'second', 'third'])\n",
      "dict_values(['string value', [1, 2], (2.12, True, 'False')])\n",
      "dict_items([('first', 'string value'), ('second', [1, 2]), ('third', (2.12, True, 'False'))])\n"
     ]
    }
   ],
   "source": [
    "d2 = {'first' : 'string value', 'second' : [1,2], 'third' : (2.12, True, 'False')}\n",
    "\n",
    "# Mostra todos as chaves do dicionário.\n",
    "print(d2.keys())\n",
    "\n",
    "# Mostra todos os valores do dicionário.\n",
    "print(d2.values())\n",
    "\n",
    "# Mostra todos os pares chave-valor do dicionário.\n",
    "print(d2.items())"
   ]
  },
  {
   "cell_type": "markdown",
   "metadata": {},
   "source": [
    "Verificando se um dicionário contém uma chave específica com os **operadores de associação** `in` e `not in`."
   ]
  },
  {
   "cell_type": "code",
   "execution_count": 102,
   "metadata": {},
   "outputs": [
    {
     "name": "stdout",
     "output_type": "stream",
     "text": [
      "A chave 'B' está em d1? True\n",
      "A chave 'D' não está em d1? True\n"
     ]
    }
   ],
   "source": [
    "d1 = {'A' : 1, 'B' : 2, 'C' : 3}\n",
    "\n",
    "op = 'B' in d1\n",
    "print('A chave \\'B\\' está em d1?', op)\n",
    "\n",
    "op = 'D' not in d1\n",
    "print('A chave \\'D\\' não está em d1?', op)"
   ]
  },
  {
   "cell_type": "markdown",
   "metadata": {},
   "source": [
    "Iterando através de um dicionário com `for`."
   ]
  },
  {
   "cell_type": "code",
   "execution_count": 103,
   "metadata": {},
   "outputs": [
    {
     "name": "stdout",
     "output_type": "stream",
     "text": [
      "Chave: A - Valor: 1\n",
      "Chave: B - Valor: 2\n",
      "Chave: C - Valor: 3\n"
     ]
    }
   ],
   "source": [
    "d1 = {'A' : 1, 'B' : 2, 'C' : 3}\n",
    "\n",
    "for key in d1:\n",
    "    print('Chave: %s - Valor: %d' % (key, d1[key]) )"
   ]
  },
  {
   "cell_type": "markdown",
   "metadata": {},
   "source": [
    "Utilizando o método `items()` para iterar através das chaves e valores."
   ]
  },
  {
   "cell_type": "code",
   "execution_count": 104,
   "metadata": {},
   "outputs": [
    {
     "name": "stdout",
     "output_type": "stream",
     "text": [
      "Chave: A - Valor: 1\n",
      "Chave: B - Valor: 2\n",
      "Chave: C - Valor: 3\n"
     ]
    }
   ],
   "source": [
    "for (key, value) in d1.items():\n",
    "    print('Chave: %s - Valor: %d' % (key, value) )"
   ]
  },
  {
   "cell_type": "markdown",
   "metadata": {},
   "source": [
    "Adicionando um novo item ao dicionário."
   ]
  },
  {
   "cell_type": "code",
   "execution_count": 105,
   "metadata": {},
   "outputs": [
    {
     "name": "stdout",
     "output_type": "stream",
     "text": [
      "O novo conteúdo do dicionário é: {'A': 1, 'B': 2, 'C': 3, 'D': 4}\n"
     ]
    }
   ],
   "source": [
    "d1 = {'A' : 1, 'B' : 2, 'C' : 3}\n",
    "\n",
    "d1['D'] = 4\n",
    "\n",
    "print('O novo conteúdo do dicionário é:', d1)"
   ]
  },
  {
   "cell_type": "markdown",
   "metadata": {},
   "source": [
    "Alterando o valor de um item já existente."
   ]
  },
  {
   "cell_type": "code",
   "execution_count": 106,
   "metadata": {},
   "outputs": [
    {
     "name": "stdout",
     "output_type": "stream",
     "text": [
      "O conteúdo atualizado do dicionário é: {'A': 4, 'B': 2, 'C': 3}\n"
     ]
    }
   ],
   "source": [
    "d1 = {'A' : 1, 'B' : 2, 'C' : 3}\n",
    "\n",
    "d1['A'] = 4\n",
    "\n",
    "print('O conteúdo atualizado do dicionário é:', d1)"
   ]
  },
  {
   "cell_type": "markdown",
   "metadata": {},
   "source": [
    "Mesclando todos os itens de um dicionário em outro.\n",
    "\n",
    "Dados 2 dicionários `d1` e `d2`, nós podemos adicionar todos os pares chave-valor de `d2` em `d1` usando o método `update()`. O método update é equivalente ao trecho de código abaixo:\n",
    "\n",
    "```python\n",
    "for (k,v) in d2.items():\n",
    "    d1[k] = v\n",
    "```"
   ]
  },
  {
   "cell_type": "code",
   "execution_count": 107,
   "metadata": {},
   "outputs": [
    {
     "name": "stdout",
     "output_type": "stream",
     "text": [
      "O conteúdo atualizado do dicionário é: {'a': 2, 'b': 2, 'c': 3}\n"
     ]
    }
   ],
   "source": [
    "d1 = {'a' : 1}\n",
    "d2 = {'a' : 2, 'b' : 2, 'c' : 3}\n",
    "\n",
    "d1.update(d2)\n",
    "\n",
    "print('O conteúdo atualizado do dicionário é:', d1)"
   ]
  },
  {
   "cell_type": "markdown",
   "metadata": {},
   "source": [
    "Removendo todos os itens do dicionário com o método `clear()`."
   ]
  },
  {
   "cell_type": "code",
   "execution_count": 108,
   "metadata": {},
   "outputs": [
    {
     "name": "stdout",
     "output_type": "stream",
     "text": [
      "O conteúdo do dicionário agora é vazio: {}\n"
     ]
    }
   ],
   "source": [
    "d1 = {'A' : 1, 'B' : 2, 'C' : 3}\n",
    "\n",
    "d1.clear()\n",
    "\n",
    "print('O conteúdo do dicionário agora é vazio:', d1)"
   ]
  },
  {
   "cell_type": "markdown",
   "metadata": {},
   "source": [
    "Enquanto o método `clear` deleta todos os itens do dicionário, a declaração `del` deleta apenas um item específico."
   ]
  },
  {
   "cell_type": "code",
   "execution_count": 109,
   "metadata": {},
   "outputs": [
    {
     "name": "stdout",
     "output_type": "stream",
     "text": [
      "O conteúdo do dicionário agora é: {'B': 2, 'C': 3}\n"
     ]
    }
   ],
   "source": [
    "d1 = {'A' : 1, 'B' : 2, 'C' : 3}\n",
    "\n",
    "del d1['A']\n",
    "\n",
    "print('O conteúdo do dicionário agora é:', d1)"
   ]
  },
  {
   "cell_type": "markdown",
   "metadata": {},
   "source": [
    "### Tarefa\n",
    "\n",
    "1. <span style=\"color:blue\">**QUIZ - Dicionários**</span>: respondam ao questionário sobre dicionários no MS teams, por favor. "
   ]
  },
  {
   "cell_type": "markdown",
   "metadata": {},
   "source": [
    "## Avisos\n",
    "\n",
    "* Se atentem aos prazos de entrega das tarefas na aba de **Avaliações** do MS Teams.\n",
    "* Horário de atendimento do Professor: todas as Segundas-feiras das 18:30 às 19:30 e Quartas-feiras das 15:30 às 16:30 via MS Teams (enquanto as aulas presenciais não retornam).\n",
    "* Horário de atendimento do Monitor."
   ]
  },
  {
   "cell_type": "markdown",
   "metadata": {},
   "source": [
    "## Tarefa\n",
    "\n",
    "1. <span style=\"color:blue\">**Laboratório #4**</span>: cliquem em um dos links abaixo para accessar os exercícios do laboratório #4.\n",
    "\n",
    "[![Binder](https://mybinder.org/badge_logo.svg)](https://mybinder.org/v2/gh/zz4fap/python-programming/master?filepath=labs%2Fshort%2FLaboratorio4.ipynb)\n",
    "\n",
    "[![Google Colab](https://badgen.net/badge/Launch/on%20Google%20Colab/blue?icon=terminal)](https://colab.research.google.com/github/zz4fap/python-programming/blob/master/labs/short/Laboratorio4.ipynb)\n",
    "\n",
    "**IMPORTANTE**: Para acessar o material das aulas e realizar as entregas dos exercícios de laboratório, por favor, leiam o tutorial no seguinte link:\n",
    "[Material-das-Aulas](../../docs/Acesso-ao-material-das-aulas-resolucao-e-entrega-dos-laboratorios.pdf)"
   ]
  },
  {
   "cell_type": "markdown",
   "metadata": {},
   "source": [
    "<img src=\"../../figures/obrigado.png\" width=\"1000\" height=\"1000\">"
   ]
  }
 ],
 "metadata": {
  "kernelspec": {
   "display_name": "Python 3",
   "language": "python",
   "name": "python3"
  },
  "language_info": {
   "codemirror_mode": {
    "name": "ipython",
    "version": 3
   },
   "file_extension": ".py",
   "mimetype": "text/x-python",
   "name": "python",
   "nbconvert_exporter": "python",
   "pygments_lexer": "ipython3",
   "version": "3.7.4"
  }
 },
 "nbformat": 4,
 "nbformat_minor": 4
}
