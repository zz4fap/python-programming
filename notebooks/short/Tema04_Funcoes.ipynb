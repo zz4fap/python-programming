{
 "cells": [
  {
   "cell_type": "markdown",
   "metadata": {},
   "source": [
    "# Funções\n",
    "\n",
    "## Introdução\n",
    "\n",
    "Funções são partes importantíssimas de todas as linguagens de programação. \n",
    "\n",
    "Elas contêm blocos de código que podem ser acessados através de seu nome e executam tarefas específicas.\n",
    "\n",
    "## Características das funções\n",
    "\n",
    "+ Uma função contém um **bloco de código** **organizado** e **reutilizável** que é usado para realizar uma única tarefa.\n",
    "+ Uma boa prática é que o nome de uma função deve ser um indicativo desta única tarefa realizada por ela.\n",
    "+ As funções fornecem melhor **modularidade** para seu programa e um alto grau de **reutilização** de código.\n",
    "+ Além disto, tornar partes do seu programa em funções, facilita sua **depuração**.\n",
    "+ Em Python, existem funções definidas por nós usuários e também as definidas pela própria linguagem, também chamadas de funções **embutidas**, ou **built-in**, do Inglês. \n",
    "    * Por exemplo, as funções `print()`, que imprime na tela uma string, e `str()`, que converte um objeto em string.\n",
    "+ Funções podem ou não retornar valores.\n",
    "    \n",
    "## Definindo uma função\n",
    "\n",
    "+ Uma função é definida usando-se a palavra-chave `def` seguida do nome da função, da sequência de parâmetros e de `:`.\n",
    "\n",
    "```python\n",
    "def myFunction(parametro1, parametro2, ...):\n",
    "```\n",
    "\n",
    "+ Em seguida, podemos ter opcionalmente, uma **docstring** explicando o que a função faz. O objetivo das **docstrings** é servir de documentação para aquela estrutura.\n",
    "\n",
    "```python\n",
    "def myFunction(parametro1, parametro2, ...):\n",
    "    \"\"\"Esta função executa a seguinte tarefa.\"\"\"\n",
    "```\n",
    "\n",
    "+ O bloco de código de uma função sempre começa em um nível mais à direita do cabeçalho. Podemos usar tabs ou 3 espaços.\n",
    "\n",
    "```python\n",
    "def myFunction(parametro1, parametro2, ...):\n",
    "    \"\"\"Esta função executa a seguinte tarefa.\"\"\"\n",
    "    # bloco de codigo da funcao\n",
    "```\n",
    "\n",
    "#### Exemplo: Definição de uma função."
   ]
  },
  {
   "cell_type": "code",
   "execution_count": 1,
   "metadata": {},
   "outputs": [],
   "source": [
    "# Vejam que se a célula for executada, nada acontece.\n",
    "# Esta função não recebe nenhum argumento de entrada.\n",
    "def minhaFunção():\n",
    "    \"\"\"Esta é uma função de saudação.\"\"\"\n",
    "    print(\"Olá, sou uma função.\")"
   ]
  },
  {
   "cell_type": "markdown",
   "metadata": {},
   "source": [
    "## Chamando uma função\n",
    "\n",
    "No exemplo abaixo, definimos e depois invocamos uma função."
   ]
  },
  {
   "cell_type": "code",
   "execution_count": 2,
   "metadata": {},
   "outputs": [
    {
     "name": "stdout",
     "output_type": "stream",
     "text": [
      "Olá, sou uma função.\n",
      "docstring da função: Esta é uma função de saudação.\n"
     ]
    }
   ],
   "source": [
    "# Definição da função.\n",
    "def minhaFunção():\n",
    "    \"\"\"Esta é uma função de saudação.\"\"\"\n",
    "    print(\"Olá, sou uma função.\")\n",
    "\n",
    "# Chamando (ou invocando) a função.\n",
    "minhaFunção()\n",
    "\n",
    "# O que esta função faz?\n",
    "print('docstring da função:', minhaFunção.__doc__)"
   ]
  },
  {
   "cell_type": "markdown",
   "metadata": {},
   "source": [
    "## Parâmetros\n",
    "\n",
    "+ Objetos podem ser passados para funções como parâmetros.\n",
    "+ Nós podemos adicionar quantos parâmetros quisermos à lista de parâmetros de entrada de uma função, apenas devemos separá-los com vírgulas.\n",
    "\n",
    "#### Exemplo\n",
    "\n",
    "* O exemplo a seguir define uma função com 2 parâmetros, `nome` e `idade`. \n",
    "* Quando a função é chamada, passamos os argumentos `nome` e `idade`, que são usados dentro da função para imprimir o nome e a idade da pessoa."
   ]
  },
  {
   "cell_type": "code",
   "execution_count": 3,
   "metadata": {},
   "outputs": [
    {
     "name": "stdout",
     "output_type": "stream",
     "text": [
      "José tem 22 anos.\n",
      "Ana tem 65 anos.\n"
     ]
    }
   ],
   "source": [
    "def minhaFunção(nome, idade):\n",
    "    \"\"\"Esta função imprime o nome e a idade de uma pessoa.\"\"\"\n",
    "    print('%s tem %d anos.' % (nome, idade))\n",
    "\n",
    "# Chamando a função.\n",
    "minhaFunção('José', 22)\n",
    "minhaFunção('Ana', 65)"
   ]
  },
  {
   "cell_type": "markdown",
   "metadata": {},
   "source": [
    "## Funções com número arbitrário de parâmetros de entrada\n",
    "\n",
    "+ Caso não saibamos quantos argumentos serão passados para uma função, devemos adicionar um `*` antes do nome do parâmetro de entrada na definição da função.\n",
    "+ Dessa forma, a função receberá uma **tupla** de argumentos e poderá acessar os itens da tupla através de seus índices, como mostrado no exemplo abaixo."
   ]
  },
  {
   "cell_type": "code",
   "execution_count": 4,
   "metadata": {},
   "outputs": [
    {
     "name": "stdout",
     "output_type": "stream",
     "text": [
      "A tupla recebida pela função contém: ('João', 2, 'Ana', 5, 'José', 9)\n",
      "O filho mais novo é João, que tem 2 anos de idade.\n"
     ]
    }
   ],
   "source": [
    "# Definindo uma função com número arbitrário de parâmetros.\n",
    "def minhaFunção(*kids):\n",
    "    \"\"\"Esta função imprime o nome e a idade do filho mais novo.\"\"\"\n",
    "    print('A tupla recebida pela função contém:', kids)\n",
    "    print(\"O filho mais novo é %s, que tem %d anos de idade.\" % (kids[0],kids[1]) )\n",
    "\n",
    "# Chamando a função.\n",
    "minhaFunção(\"João\", 2, \"Ana\", 5, \"José\", 9)"
   ]
  },
  {
   "cell_type": "markdown",
   "metadata": {},
   "source": [
    "## Passando argumentos com palavras-chave\n",
    "\n",
    "Podemos também passar argumentos para uma função usando a sintaxe `chave=valor`. Dessa forma, a ordem dos argumentos não importa."
   ]
  },
  {
   "cell_type": "code",
   "execution_count": 5,
   "metadata": {},
   "outputs": [
    {
     "name": "stdout",
     "output_type": "stream",
     "text": [
      "Funcionário: João, idade: 23 e salário: R$ 1234.56\n"
     ]
    }
   ],
   "source": [
    "# Definindo uma função.\n",
    "def minhaFunção(nome, idade, salário):\n",
    "    '''Função que imprime o nome, idade e salário de um empregado.'''\n",
    "    print('Funcionário: %s, idade: %d e salário: R$ %1.2f' % (nome, idade, salário))\n",
    "\n",
    "# Chamando a função.\n",
    "minhaFunção(salário=1234.56, nome='João', idade=23)"
   ]
  },
  {
   "cell_type": "markdown",
   "metadata": {},
   "source": [
    "## Funções com número arbitrário de parâmetros passados como palavra-chave\n",
    "\n",
    "Se não soubermos quantos argumentos serão passados para uma função com palavras-chave, devemos adicionar dois asteriscos `**` antes do nome do parâmetro na definição da função.\n",
    "\n",
    "Dessa forma, a função receberá um **dicionário** e poderá acessar os itens do dicionário como mostrado no exemplo abaixo."
   ]
  },
  {
   "cell_type": "code",
   "execution_count": 6,
   "metadata": {},
   "outputs": [
    {
     "name": "stdout",
     "output_type": "stream",
     "text": [
      "{'salário': 1234.56, 'nome': 'João', 'idade': 23}\n",
      "Funcionário: João, idade: 23 e salário: R$ 1234.56\n"
     ]
    }
   ],
   "source": [
    "# Definindo uma função com número arbitrário de palavras-chave.\n",
    "def minhaFunção(**empregado):\n",
    "    '''Função que imprime o nome, idade e salário de um empregado.'''\n",
    "    print(empregado)\n",
    "    print('Funcionário: %s, idade: %d e salário: R$ %1.2f' % (empregado['nome'], empregado['idade'], empregado['salário']))\n",
    "\n",
    "# Chamando a função.\n",
    "minhaFunção(salário=1234.56, nome='João', idade=23)"
   ]
  },
  {
   "cell_type": "markdown",
   "metadata": {},
   "source": [
    "## Parâmetros com valor padrão\n",
    "\n",
    "Podemos definir valores padrão para os parâmetros de entrada de uma função.\n",
    "\n",
    "O exemplo a seguir mostra como usar um valor de parâmetro padrão. \n",
    "\n",
    "No primeiro exemplo, se chamarmos a função sem nenhum argumento, ela usará os valores padrão definidos em usa lista de parâmetros."
   ]
  },
  {
   "cell_type": "code",
   "execution_count": 7,
   "metadata": {},
   "outputs": [
    {
     "name": "stdout",
     "output_type": "stream",
     "text": [
      "Funcionário: José, idade: 22 e salário: R$ 1000.00\n"
     ]
    }
   ],
   "source": [
    "def minhaFunção(nome='José', idade=22, salário=1000.00):\n",
    "    '''Função que imprime o nome, idade e salário de um empregado.'''\n",
    "    print('Funcionário: %s, idade: %d e salário: R$ %1.2f' % (nome, idade, salário))\n",
    "\n",
    "# Chamando a função.\n",
    "minhaFunção()"
   ]
  },
  {
   "cell_type": "markdown",
   "metadata": {},
   "source": [
    "No próximo exemplo, definimos apenas um valor padrão para o último parâmetro."
   ]
  },
  {
   "cell_type": "code",
   "execution_count": 8,
   "metadata": {},
   "outputs": [
    {
     "name": "stdout",
     "output_type": "stream",
     "text": [
      "Funcionário: Ana, idade: 45 e salário: R$ 1000.00\n"
     ]
    }
   ],
   "source": [
    "def minhaFunção(nome, idade, salário=1000.00):\n",
    "    '''Função que imprime o nome, idade e salário de um empregado.'''\n",
    "    print('Funcionário: %s, idade: %d e salário: R$ %1.2f' % (nome, idade, salário))\n",
    "\n",
    "# Chamando a função.\n",
    "minhaFunção('Ana', 45)"
   ]
  },
  {
   "cell_type": "markdown",
   "metadata": {},
   "source": [
    "No último exemplo, definimos valores padrão para o penúltimo e último parâmetros."
   ]
  },
  {
   "cell_type": "code",
   "execution_count": 9,
   "metadata": {},
   "outputs": [
    {
     "name": "stdout",
     "output_type": "stream",
     "text": [
      "Funcionário: João, idade: 33 e salário: R$ 2222.00\n"
     ]
    }
   ],
   "source": [
    "def minhaFunção(nome, idade=33, salário=2222.00):\n",
    "    '''Função que imprime o nome, idade e salário de um empregado.'''\n",
    "    print('Funcionário: %s, idade: %d e salário: R$ %1.2f' % (nome, idade, salário))\n",
    "\n",
    "# Chamando a função.\n",
    "minhaFunção('João')"
   ]
  },
  {
   "cell_type": "markdown",
   "metadata": {},
   "source": [
    "Por definição, parâmetros com valores padrão devem vir após parâmetros sem valores padrão. Caso contrário, teremos o seguinte erro: `SyntaxError: non-default argument follows default argument`."
   ]
  },
  {
   "cell_type": "code",
   "execution_count": 11,
   "metadata": {},
   "outputs": [
    {
     "ename": "SyntaxError",
     "evalue": "non-default argument follows default argument (<ipython-input-11-ac21314ece32>, line 1)",
     "output_type": "error",
     "traceback": [
      "\u001b[1;36m  File \u001b[1;32m\"<ipython-input-11-ac21314ece32>\"\u001b[1;36m, line \u001b[1;32m1\u001b[0m\n\u001b[1;33m    def minhaFunção(nome='Ana', idade, salário):\u001b[0m\n\u001b[1;37m                     ^\u001b[0m\n\u001b[1;31mSyntaxError\u001b[0m\u001b[1;31m:\u001b[0m non-default argument follows default argument\n"
     ]
    }
   ],
   "source": [
    "def minhaFunção(nome='Ana', idade, salário):\n",
    "    '''Função que imprime o nome, idade e salário de um empregado.'''\n",
    "    print('Funcionário: %s, idade: %d e salário: R$ %1.2f' % (nome, idade, salário))\n",
    "\n",
    "# Chamando a função.\n",
    "minhaFunção(33, 2222.00)"
   ]
  },
  {
   "cell_type": "markdown",
   "metadata": {},
   "source": [
    "## Tarefa\n",
    "\n",
    "1. <span style=\"color:blue\">**QUIZ - Funções (Parte I)**</span>: respondam ao questionário sobre funções no MS teams, por favor. "
   ]
  },
  {
   "cell_type": "markdown",
   "metadata": {},
   "source": [
    "## Retornando valores\n",
    "\n",
    "Nós utilizamos a instrução `return` para permitir que uma função retorne um ou mais valores."
   ]
  },
  {
   "cell_type": "code",
   "execution_count": 12,
   "metadata": {},
   "outputs": [
    {
     "name": "stdout",
     "output_type": "stream",
     "text": [
      "15\n"
     ]
    }
   ],
   "source": [
    "def minhaFunção(x):\n",
    "    '''Função que retorna a multiplicação de um número qualquer por 5.'''\n",
    "    return 5 * x\n",
    "\n",
    "print(minhaFunção(3))"
   ]
  },
  {
   "cell_type": "markdown",
   "metadata": {},
   "source": [
    "Para retornar mais de um valor, use virgulas para separar os valores de retorno. Estritamente falando, uma função em Python que retorna vários valores, na verdade, retorna uma **tupla** contendo cada valor."
   ]
  },
  {
   "cell_type": "code",
   "execution_count": 13,
   "metadata": {},
   "outputs": [
    {
     "name": "stdout",
     "output_type": "stream",
     "text": [
      "O tipo do retorno é: <class 'tuple'>\n",
      "Os valores de retorno são: (60, 6.0)\n",
      "\n",
      "O tipo de a é: <class 'int'>\n",
      "O tipo de b é: <class 'float'>\n",
      "Os valores de retorno são: 60\n",
      "Os valores de retorno são: 6.0\n"
     ]
    }
   ],
   "source": [
    "def minhaFunção(x):\n",
    "    '''Função que retorna o resultado de duas operações.'''\n",
    "    return 5 * x, x / 2\n",
    "\n",
    "valores = minhaFunção(12)\n",
    "print('O tipo do retorno é:', type(valores))\n",
    "print('Os valores de retorno são:', valores)\n",
    "\n",
    "# Outra forma válida de receber os valores de retorno é desempacotando\n",
    "# a tupla que é retornada pela função.\n",
    "a, b = minhaFunção(12)\n",
    "print('\\nO tipo de a é:', type(a))\n",
    "print('O tipo de b é:', type(b))\n",
    "print('Os valores de retorno são:', a)\n",
    "print('Os valores de retorno são:', b)"
   ]
  },
  {
   "cell_type": "markdown",
   "metadata": {},
   "source": [
    "O retorno de valores é opcional, porém, por padrão, uma função sem retorno explícito sempre retorna o valor `None` , ou seja, o valor nulo."
   ]
  },
  {
   "cell_type": "code",
   "execution_count": 14,
   "metadata": {},
   "outputs": [
    {
     "name": "stdout",
     "output_type": "stream",
     "text": [
      "O nome da pessoa é: Ana\n",
      "O valor de retorno da função é: None\n"
     ]
    }
   ],
   "source": [
    "# Definindo uma função sem valor de retorno explícito.\n",
    "def minhaFunção(nome):\n",
    "    '''Função que imprime um nome.'''\n",
    "    print('O nome da pessoa é:', nome)\n",
    "    \n",
    "# Chamando a função e atribuindo seu retorno a uma variável.\n",
    "valorDeRetorno = minhaFunção('Ana')\n",
    "print('O valor de retorno da função é:', valorDeRetorno)"
   ]
  },
  {
   "cell_type": "markdown",
   "metadata": {},
   "source": [
    "## Espaço de nomes\n",
    "\n",
    "Conflitos de nome acontecem o tempo todo na vida real. Imaginem uma sala de aula com vários alunos com o mesmo nome, como faríamos para distinguir esses alunos?\n",
    "\n",
    "Agora, imagem um software com milhares de linhas de código, a chance de termos objetos com o mesmo nome é grande. Como poderíamos distinguir esses objetos com o mesmo nome?\n",
    "\n",
    "Um **espaço de nomes** (ou namespace, do Inglês) é basicamente um sistema para certificar-se que todos os nomes em um programa são únicos e podem ser usados sem qualquer conflito. Em resumo, um **espaço de nomes** é um local onde o interpretador procura nomes.\n",
    "\n",
    "Em Python, um **nome** (também chamado de identificador) é simplesmente o nome dado a um objeto. Desta forma, o **nome** é uma forma de acessar um objeto em memória.\n",
    "\n",
    "Portanto, vários **namespaces** diferentes podem usar o mesmo **nome** e mapeá-los para objetos diferentes, ou seja, um mesmo **nome** pode existir em **namespaces** diferentes, sem que haja conflito.\n",
    "\n",
    "Alguns exemplos de **namespaces** são:\n",
    "\n",
    "* **Namespace local**: este namespace inclui nomes locais dentro de uma função. Este namespace é criado quando uma função é chamada, e só dura até que a função retorne.\n",
    "* **Namespace global**: este namespace inclui nomes definidos no nível mais alto do programa principal. Ele é criado quando o corpo do programa principal é iniciado e dura até que o interpretador encerre a execução do programa principal.\n",
    "\n",
    "#### Exemplo"
   ]
  },
  {
   "cell_type": "code",
   "execution_count": 15,
   "metadata": {},
   "outputs": [
    {
     "name": "stdout",
     "output_type": "stream",
     "text": [
      "Esta é a minha função.\n",
      "Valor de retorno: 3.5999999999999996\n"
     ]
    }
   ],
   "source": [
    "# Namespace global\n",
    "\n",
    "import math\n",
    "\n",
    "variávelA = 'INATEL'\n",
    "\n",
    "def função1(parâmetro1, parâmetro2):\n",
    "    # Namespace local\n",
    "    variávelB = 1.2\n",
    "    print('Esta é a minha função.')\n",
    "    return (parâmetro1 + parâmetro2)*variávelB\n",
    "    \n",
    "def função2():\n",
    "    # Namespace local\n",
    "    return função1(1, 2)\n",
    "\n",
    "# Namespace global\n",
    "\n",
    "valorDeRetorno = função2()\n",
    "print('Valor de retorno:',valorDeRetorno)"
   ]
  },
  {
   "cell_type": "markdown",
   "metadata": {},
   "source": [
    "## Escopo\n",
    "\n",
    "Um **escopo** (ou scope, do Inglês) é uma região de um programa onde um determinado **espaço de nomes** é acessível diretamente (ou seja, sem prefixos). \n",
    "\n",
    "Um **escopo** define em quais **espaço de nomes** serão procurados e em que ordem. O **escopo** de qualquer referência sempre começa no **espaço de nomes** local e se move para fora até atingir o **espaço de nomes** global do programa.\n",
    "\n",
    "#### Exemplo\n",
    "\n",
    "No exemplo abaixo, a função `interior` está **aninhada** na função global `exterior`. A função `interior` contém uma referência ao nome `objetoA`. Inicialmente, o interpretador irá buscar o nome no **namespace** local da função `interior`. Caso não esteja lá, ele procura no **namespace** local da função `exterior`. Se isso falhar, ele irá buscar no **namespace** global do programa."
   ]
  },
  {
   "cell_type": "code",
   "execution_count": 16,
   "metadata": {},
   "outputs": [
    {
     "name": "stdout",
     "output_type": "stream",
     "text": [
      "Valor do objeto: escopo global\n"
     ]
    }
   ],
   "source": [
    "# escopo do namespace global.\n",
    "objetoA = 'escopo global'\n",
    "\n",
    "def exterior():\n",
    "    # escopo do namespace local de funçãoExterior.\n",
    "    \n",
    "    def interior():\n",
    "        # escopo do namespace local de funçãoExterior.\n",
    "        print('Valor do objeto:', objetoA)\n",
    "        \n",
    "    interior()\n",
    "    \n",
    "exterior()"
   ]
  },
  {
   "cell_type": "markdown",
   "metadata": {},
   "source": [
    "Como vimos, funções têm **escopo local**, o que pode ofuscar **nomes** do **escopo global**."
   ]
  },
  {
   "cell_type": "code",
   "execution_count": 17,
   "metadata": {},
   "outputs": [
    {
     "name": "stdout",
     "output_type": "stream",
     "text": [
      "Valor da variável global var: 12\n",
      "Valor da variável global var após chamada da função: 12\n"
     ]
    }
   ],
   "source": [
    "# variável global.\n",
    "var = 12\n",
    "\n",
    "# Definição de uma função.\n",
    "def minhaFunção(par):\n",
    "    #global var\n",
    "    var = par\n",
    "    return var\n",
    "    \n",
    "# Imprime valor da variável global.\n",
    "print('Valor da variável global var:', var)\n",
    "# Chama função.\n",
    "minhaFunção(33)\n",
    "# Imprime valor da variável global.\n",
    "print('Valor da variável global var após chamada da função:', var)"
   ]
  },
  {
   "cell_type": "markdown",
   "metadata": {},
   "source": [
    "## Recursão\n",
    "\n",
    "+ Recursão é um conceito comum praticamente em todas linguagens de programação\n",
    "+ Ela significa que uma função chama a si mesma um número indefinido de vezes.\n",
    "+ É um método de resolução de problemas que envolve quebrar um problema em sub-problemas menores e menores até chegarmos a um problema pequeno o suficiente para que ele possa ser resolvido trivialmente.\n",
    "\n",
    "#### Exemplo #1\n",
    "\n",
    "Suponha que vocês desejem calcular a soma dos valores de uma lista de números, tais como: \n",
    "\n",
    "```python\n",
    "lista = [1,3,5,7,9]\n",
    "```\n",
    "\n",
    "##### Solução #1 (sem recursão)\n",
    "\n",
    "Uma função que calcula essa soma é mostrada abaixo. A função usa uma variável acumuladora `soma` para acumular o total de todos os números da lista, iniciando a variável `soma` com o valor 0."
   ]
  },
  {
   "cell_type": "code",
   "execution_count": 18,
   "metadata": {},
   "outputs": [
    {
     "name": "stdout",
     "output_type": "stream",
     "text": [
      "A soma dos elementos da lista é igual a: 25\n"
     ]
    }
   ],
   "source": [
    "def somaLista(lista):\n",
    "    soma = 0\n",
    "    for i in lista:\n",
    "        soma = soma + i\n",
    "    return soma\n",
    "\n",
    "print('A soma dos elementos da lista é igual a:', somaLista([1,3,5,7,9]))"
   ]
  },
  {
   "cell_type": "markdown",
   "metadata": {},
   "source": [
    "##### Solução #2 (com recursão)\n",
    "\n",
    "Para resolvermos o problema de forma recursiva, nossa função **DEVE** sempre conter duas características:\n",
    "\n",
    "+ Uma relação de recorrência, também conhecida como caso recursivo.\n",
    "+ Uma condição de término, ou seja, onde as chamadas recursivas se encerram.\n",
    "    * Toda função recursiva requer uma condição de encerramento adequada para parar, caso contrário o código ficar executando indefinidamente (**loop infinito**). Isso acarreta em uso excessivo de memória ou de poder de processamento (i.e., CPU)."
   ]
  },
  {
   "cell_type": "code",
   "execution_count": 19,
   "metadata": {},
   "outputs": [
    {
     "name": "stdout",
     "output_type": "stream",
     "text": [
      "A soma da lista é igual a: 25\n"
     ]
    }
   ],
   "source": [
    "def somaLista(lista):\n",
    "    if len(lista) == 1:\n",
    "        return lista[0]\n",
    "    else:\n",
    "        return lista[0] + somaLista(lista[1:])\n",
    "\n",
    "lista = [1,3,5,7,9]\n",
    "print('A soma da lista é igual a:', somaLista(lista))"
   ]
  },
  {
   "cell_type": "markdown",
   "metadata": {},
   "source": [
    "Para entendermos melhor o que o código está fazendo, vejamos a figura abaixo:\n",
    "\n",
    "<img src=\"../../figures/fatorial_exemplo1.png\" width=\"1000\" height=\"1000\">"
   ]
  },
  {
   "cell_type": "markdown",
   "metadata": {},
   "source": [
    "## Tarefas\n",
    "\n",
    "1. <span style=\"color:blue\">**QUIZ - Funções (Parte II)**</span>: respondam ao questionário sobre funções no MS teams, por favor. \n",
    "2. <span style=\"color:blue\">**Laboratório #4**</span>: cliquem em um dos links abaixo para accessar os exercícios do laboratório #4.\n",
    "\n",
    "[![Binder](https://mybinder.org/badge_logo.svg)](https://mybinder.org/v2/gh/zz4fap/python-programming/master?filepath=labs%2Fshort%2FLaboratorio4.ipynb)\n",
    "\n",
    "[![Google Colab](https://badgen.net/badge/Launch/on%20Google%20Colab/blue?icon=terminal)](https://colab.research.google.com/github/zz4fap/python-programming/blob/master/labs/short/Laboratorio4.ipynb)\n",
    "\n",
    "**IMPORTANTE**: Para acessar o material das aulas e realizar as entregas dos exercícios de laboratório, por favor, leiam o tutorial no seguinte link:\n",
    "[Material-das-Aulas](../../docs/Acesso-ao-material-das-aulas-resolucao-e-entrega-dos-laboratorios.pdf)"
   ]
  },
  {
   "cell_type": "markdown",
   "metadata": {},
   "source": [
    "## Avisos\n",
    "\n",
    "* Se atentem aos prazos de entrega das tarefas na aba de **Avaliações** do MS Teams.\n",
    "* Horário de atendimento do Professor: todas as Segundas-feiras das 18:30 às 19:30 e Quartas-feiras das 15:30 às 16:30.\n",
    "* Horário de atendimento do Monitor (Maycol): todas as Terças-feiras das 18:00 às 19:00.\n",
    "* Atendimentos via MS Teams enquanto as aulas presenciais não retornam."
   ]
  },
  {
   "cell_type": "markdown",
   "metadata": {},
   "source": [
    "<img src=\"../../figures/obrigado.png\" width=\"1000\" height=\"1000\">"
   ]
  }
 ],
 "metadata": {
  "kernelspec": {
   "display_name": "Python 3",
   "language": "python",
   "name": "python3"
  },
  "language_info": {
   "codemirror_mode": {
    "name": "ipython",
    "version": 3
   },
   "file_extension": ".py",
   "mimetype": "text/x-python",
   "name": "python",
   "nbconvert_exporter": "python",
   "pygments_lexer": "ipython3",
   "version": "3.7.4"
  }
 },
 "nbformat": 4,
 "nbformat_minor": 4
}
