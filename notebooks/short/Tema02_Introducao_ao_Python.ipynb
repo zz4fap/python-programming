{
 "cells": [
  {
   "cell_type": "markdown",
   "metadata": {},
   "source": [
    "# Introdução ao Python\n",
    "\n",
    "Nesta seção, nós veremos os seguintes tópicos:\n",
    "\n",
    "* Tipos de dados.\n",
    "* Operadores aritméticos.\n",
    "* Módulos e pacotes.\n",
    "* Manipulando cadeias de caracteres (Strings).\n",
    "* Mensagens de erro."
   ]
  },
  {
   "cell_type": "markdown",
   "metadata": {},
   "source": [
    "## Tipos de dados\n",
    "\n",
    "Em Python, temos os seguintes tipos de dados nativos (também chamados de **embutidos**, do Inglês **built-in**):\n",
    "\n",
    "|  Categoria |   Nome  |         Descrição        |\n",
    "|:----------:|:-------:|:------------------------:|\n",
    "|  Numérica  |   int   |         Inteiros         |\n",
    "|            |  float  |      Ponto flutuante     |\n",
    "|            | complex |      Número complexo     |\n",
    "|            |   bool  | Boolean (True ou false)  |\n",
    "| Sequencial |   str   |   String de caracteres   |\n",
    "|            |   list  |           Lista          |\n",
    "|            |  tuple  |           Tupla          |\n",
    "|            |  range  |   Intervalo de valores   |\n",
    "|  Conjunto  |   set   |     Conjunto             |\n",
    "|            | frozenset |       Conjunto imutável                 |\n",
    "| Mapeamento |   dict  |     Dicionário           |\n",
    "| Nula       | NoneType | Valor nulo |\n",
    "\n",
    "Esses tipos de dados são chamados de embutidos pois são pré-definidos pela linguagem e estão sempre disponíveis em tempo de execução, sem a necessidade de se importar nenhuma biblioteca.\n",
    "\n",
    "Relembrando, em Python, as variáveis **não**:\n",
    "\n",
    "* Precisam ser declaradas ou definidas com antecedência. \n",
    "    + Para criar uma variável, basta atribuir um valor a ela.\n",
    "* Podem ser utilizadas em uma expressão sem terem sido inicializadas.\n",
    "    + O interpretador precisa de uma atribuição de valor para inferir o tipo da variável.\n",
    "* São estáticas, como em outras linguagens de programação.\n",
    "    + Tipo da variável pode mudar dinamicamente.\n",
    "* Precisam ser destruídas explicitamente.\n",
    "    + O gerenciador de memória as deleta automaticamente quando não existem mais referências a elas.\n",
    "    \n",
    "Além disso, os tipos de dados em Python podem ser:\n",
    "\n",
    "+ **Mutáveis**: permitem que os conteúdos das variáveis sejam alterados.\n",
    "+ **Imutáveis**: não permitem que os conteúdos das variáveis sejam alterados.\n",
    "\n",
    "### Exemplos"
   ]
  },
  {
   "cell_type": "code",
   "execution_count": 2,
   "metadata": {},
   "outputs": [
    {
     "name": "stdout",
     "output_type": "stream",
     "text": [
      "type(a): <class 'int'> - valor de a: 1\n",
      "type(a): <class 'str'> - valor de a: teste\n"
     ]
    }
   ],
   "source": [
    "# A variável 'a' recebe o valor inteiro 1.\n",
    "a = 1\n",
    "# OBS.: type() é uma função embutida que retorna o tipo de um objeto.\n",
    "print('type(a): %s - valor de a: %s' % (type(a), a))\n",
    "\n",
    "# Agora, a mesma variável 'a' recebe a string 'teste'.\n",
    "a = 'teste'\n",
    "print('type(a): %s - valor de a: %s' % (type(a), a))"
   ]
  },
  {
   "cell_type": "code",
   "execution_count": null,
   "metadata": {},
   "outputs": [],
   "source": [
    "# Tentando acessar o valor da variável 'b', a qual não foi inicializada.\n",
    "print('O valor de b é', b)"
   ]
  },
  {
   "cell_type": "code",
   "execution_count": 7,
   "metadata": {},
   "outputs": [
    {
     "name": "stdout",
     "output_type": "stream",
     "text": [
      "type(a): <class 'str'> - valor de a: casa\n"
     ]
    },
    {
     "ename": "TypeError",
     "evalue": "'str' object does not support item assignment",
     "output_type": "error",
     "traceback": [
      "\u001b[1;31m---------------------------------------------------------------------------\u001b[0m",
      "\u001b[1;31mTypeError\u001b[0m                                 Traceback (most recent call last)",
      "\u001b[1;32m<ipython-input-7-4d013b4a684a>\u001b[0m in \u001b[0;36m<module>\u001b[1;34m\u001b[0m\n\u001b[0;32m      4\u001b[0m \u001b[1;33m\u001b[0m\u001b[0m\n\u001b[0;32m      5\u001b[0m \u001b[1;31m# Tentando alterar um caracter de um objeto do tipo string.\u001b[0m\u001b[1;33m\u001b[0m\u001b[1;33m\u001b[0m\u001b[1;33m\u001b[0m\u001b[0m\n\u001b[1;32m----> 6\u001b[1;33m \u001b[0ma\u001b[0m\u001b[1;33m[\u001b[0m\u001b[1;36m0\u001b[0m\u001b[1;33m]\u001b[0m \u001b[1;33m=\u001b[0m \u001b[1;34m't'\u001b[0m\u001b[1;33m\u001b[0m\u001b[1;33m\u001b[0m\u001b[0m\n\u001b[0m",
      "\u001b[1;31mTypeError\u001b[0m: 'str' object does not support item assignment"
     ]
    }
   ],
   "source": [
    "# Inicializando uma variável com um objeto do tipo string.\n",
    "a = 'casa'\n",
    "print('type(a): %s - valor de a: %s' % (type(a), a))\n",
    "\n",
    "# Tentando alterar um caracter de um objeto do tipo string.\n",
    "a[0] = 't'"
   ]
  },
  {
   "cell_type": "code",
   "execution_count": 9,
   "metadata": {},
   "outputs": [
    {
     "name": "stdout",
     "output_type": "stream",
     "text": [
      "type(l): <class 'list'> - valor de l: ['c', 'a', 's', 'a']\n",
      "type(l): <class 'list'> - valor de l: ['t', 'a', 's', 'a']\n"
     ]
    }
   ],
   "source": [
    "# Inicializando uma variável com um objeto do tipo lista.\n",
    "l = ['c','a','s','a']\n",
    "print('type(l): %s - valor de l: %s' % (type(l), l))\n",
    "\n",
    "# Alterando um caracter de um objeto do tipo lista.\n",
    "l[0] = 't'\n",
    "print('type(l): %s - valor de l: %s' % (type(l), l))"
   ]
  },
  {
   "cell_type": "markdown",
   "metadata": {},
   "source": [
    "### Tarefa\n",
    "\n",
    "1. <span style=\"color:blue\">**QUIZ - Tipos de dados**</span>: respondam ao quiz sobre tipos de dados no MS teams, por favor."
   ]
  },
  {
   "cell_type": "markdown",
   "metadata": {},
   "source": [
    "## Operadores Aritméticos\n",
    "\n",
    "Em Python, temos os seguintes operadores aritméticos:\n",
    "\n",
    "| Operador |       Nome      |  Exemplo | Resultado | Comentário          |\n",
    "|:--------:|:---------------:|:--------:|:---------:|:-------------------:|\n",
    "|     +    |      Adição     |   1 + 1  |     2     | retorna a soma de dois valores                    |\n",
    "|     -    |    Subtração    |   2 - 1  |     1     | retorna a subtração de dois valores                    |\n",
    "|     *    |  Multiplicação  |   2 * 2  |     4     | retorna a multiplicação de dois valores                     |\n",
    "|     /    |     Divisão     |  100 / 4 |    25.0   | retorna a divisão em ponto flutuante de dois valores | \n",
    "|     %    |      Módulo     |   5 % 3  |     2     | retorna o resto da divisão entre dois valores                    |\n",
    "|    **    |  Exponenciação  |  2 ** 3  |     8     | retorna o resultado de número elevado à potência do outro                    |\n",
    "|    //    | Divisão inteira | 100 // 4 |     25    | retorna apenas a parte inteira da divisão entre dois valores                    |\n",
    "\n",
    "#### Ordem de precedência dos  operadores\n",
    "\n",
    "* A tabela a seguir apresenta a ordem de precedência dos operadores aritméticos, da mais alta para a mais baixa.\n",
    "\n",
    "|   Precedência   |           Categoria           |  Operadores |               Comentário              |\n",
    "|:---------:|:-----------------------------:|:-----------:|:-------------------------------------:|\n",
    "|  4 (alta) |           parênteses          |      ()     |                                       |\n",
    "|     3     |            expoente           |      **     |                                       |\n",
    "|     2     | multiplicação, divisão, resto | *, /, //, % | Aplicados da esquerda para a direita na ordem em que aparecem na expressão. |\n",
    "| 1 (baixa) |       adição, subtração       |     +, -    | Aplicados da esquerda para a direita na ordem em que aparecem na expressão. |\n",
    "\n",
    "**IMPORTANTE**: Operadores com mesmo nível de precedência são aplicados da **esquerda para a direita** na ordem em que aparecem na expressão.\n",
    "\n",
    "### Exemplos"
   ]
  },
  {
   "cell_type": "code",
   "execution_count": 15,
   "metadata": {},
   "outputs": [
    {
     "name": "stdout",
     "output_type": "stream",
     "text": [
      "O resultado é: 2\n"
     ]
    }
   ],
   "source": [
    "# A multiplicação tem ordem de precedência maior do que a subtração.\n",
    "a = 10 - 4 * 2\n",
    "\n",
    "print('O resultado é:', a)"
   ]
  },
  {
   "cell_type": "code",
   "execution_count": 16,
   "metadata": {},
   "outputs": [
    {
     "name": "stdout",
     "output_type": "stream",
     "text": [
      "O resultado é: 12\n"
     ]
    }
   ],
   "source": [
    "# Parenteses tem a mais alta ordem de precedência.\n",
    "a = (10 - 4) * 2\n",
    "\n",
    "print('O resultado é:', a)"
   ]
  },
  {
   "cell_type": "code",
   "execution_count": 15,
   "metadata": {},
   "outputs": [
    {
     "name": "stdout",
     "output_type": "stream",
     "text": [
      "O resultado é: 1.0\n"
     ]
    }
   ],
   "source": [
    "# Operadores com mesma precedência são aplicados da esquerda para a direita.\n",
    "a = 5 // 2 * 4 / 8\n",
    "\n",
    "print('O resultado é:', a)"
   ]
  },
  {
   "cell_type": "markdown",
   "metadata": {},
   "source": [
    "### Tarefa\n",
    "\n",
    "1. <span style=\"color:blue\">**QUIZ - Operadores Aritméticos**</span>: respondam ao quiz sobre operadores aritméticos no MS teams, por favor."
   ]
  },
  {
   "cell_type": "markdown",
   "metadata": {},
   "source": [
    "## Módulos e pacotes\n",
    "\n",
    "### Módulos\n",
    "\n",
    "* Em Python, um módulo nada mais é do que um arquivo que contém o código que implementa uma funcionalidade específica.\n",
    "    + Um módulo pode ter um conjunto de funções, classes, variáveis, etc.\n",
    "    + Por exemplo, em um jogo de vídeo game, um módulo de som seria responsável pelo processamento de audio e outro módulo, imagem, pelo processamento de imagens.\n",
    "* Cada módulo é um arquivo diferente, que pode ser editado separadamente.\n",
    "* Módulos são arquivos com extensão `.py`.\n",
    "* O nome do módulo será o nome do arquivo.\n",
    "    + O arquivo `imagem.py` é um módulo, cujo nome é  `imagem`.\n",
    "* Os módulos são importados usando-se a palavra reservada **import**.\n",
    "```python\n",
    "import imagem\n",
    "```\n",
    "* Podemos criar um apelido ao importar um módulo, usando a palavra-chave reservada **as**.\n",
    "```python\n",
    "import imagem as i\n",
    "```\n",
    "* Podemos também optar por importar apenas partes de um módulo (por exemplo, apenas uma função), usando a palavra-chave reservada **from**.\n",
    "```python\n",
    "from imagem import playVideo\n",
    "```\n",
    "\n",
    "### Pacotes\n",
    "\n",
    "* Pacotes são **espaços de nomes** (ou do Inglês, **namespaces**) que podem conter outros pacotes e módulos. \n",
    "* Eles são simplesmente diretórios, mas que devem conter um arquivo especial chamado `__init__.py`.\n",
    "    + Esse arquivo indica que aquele diretório é um pacote Python.\n",
    "    + A partir da versão 3.3 do Python, foi adicionada uma feature, chamada de **pacotes com namespaces implícitos**, que permite criar pacotes sem a presença do arquivo `__init__.py`.\n",
    "* Pacotes são importados da mesma maneira que módulos.\n",
    "\n",
    "### Exemplos\n",
    "\n",
    "#### Importando um módulo já existente."
   ]
  },
  {
   "cell_type": "code",
   "execution_count": 6,
   "metadata": {},
   "outputs": [
    {
     "name": "stdout",
     "output_type": "stream",
     "text": [
      "O resultado da raíz quadrada é: 5.0\n",
      "O resultado da raíz quadrada é: 7.0\n",
      "O resultado da raíz quadrada é: 10.0\n"
     ]
    }
   ],
   "source": [
    "# Importa todo o conteúdo do módulo math.\n",
    "import math \n",
    "# Executa a função sqrt(), que é parte de módulo.\n",
    "print('O resultado da raíz quadrada é:', math.sqrt(25))\n",
    "\n",
    "# Criando um apelido para o módulo math.\n",
    "import math as m\n",
    "print('O resultado da raíz quadrada é:', m.sqrt(49))\n",
    "\n",
    "# Importando apenas a função sqrt() do módulo math.\n",
    "from math import sqrt\n",
    "print('O resultado da raíz quadrada é:', sqrt(100))"
   ]
  },
  {
   "cell_type": "markdown",
   "metadata": {},
   "source": [
    "#### Criando e importanto meu próprio módulo."
   ]
  },
  {
   "cell_type": "code",
   "execution_count": 7,
   "metadata": {},
   "outputs": [
    {
     "name": "stdout",
     "output_type": "stream",
     "text": [
      "Resultado: 2\n",
      "Resultado: 3\n",
      "Resultado: 4\n"
     ]
    }
   ],
   "source": [
    "import meu_modulo\n",
    "\n",
    "print('Resultado:', meu_modulo.soma(1,1))\n",
    "\n",
    "import meu_modulo as mm\n",
    "\n",
    "print('Resultado:', mm.soma(1,2))\n",
    "\n",
    "from meu_modulo import soma\n",
    "\n",
    "print('Resultado:', soma(2,2))"
   ]
  },
  {
   "cell_type": "markdown",
   "metadata": {},
   "source": [
    "#### Criando e importanto módulos do meu próprio pacote."
   ]
  },
  {
   "cell_type": "code",
   "execution_count": 8,
   "metadata": {},
   "outputs": [
    {
     "name": "stdout",
     "output_type": "stream",
     "text": [
      "Resultado: 4\n",
      "Resultado: 6\n",
      "Resultado: 0\n"
     ]
    }
   ],
   "source": [
    "import meu_pacote.moduloA\n",
    "\n",
    "print('Resultado:', meu_pacote.moduloA.multiplicação(2,2))\n",
    "\n",
    "import meu_pacote.moduloA as ma\n",
    "\n",
    "print('Resultado:', ma.multiplicação(2,3))\n",
    "\n",
    "import meu_pacote.moduloB as mb\n",
    "\n",
    "print('Resultado:', mb.subtração(2,2))"
   ]
  },
  {
   "cell_type": "markdown",
   "metadata": {},
   "source": [
    "### Tarefa\n",
    "\n",
    "1. <span style=\"color:blue\">**QUIZ - Módulos e pacotes**</span>: respondam ao quiz sobre módulos e pacotes no MS teams, por favor."
   ]
  },
  {
   "cell_type": "markdown",
   "metadata": {},
   "source": [
    "## Manipulando cadeias de caracteres (strings)\n",
    "\n",
    "* Strings são sequências (ou cadeias) de caracteres.\n",
    "* Em Python, strings são cercadas por aspas simples ou duplas.\n",
    "* O Python não possui um tipo de dados de caractere. \n",
    "    + Um único caractere é simplesmente uma string com o comprimento igual a 1.\n",
    "* Em Python, uma string é representada pelo tipo (ou classe) `str`.\n",
    "* Strings são tipos de dados imutáveis.\n",
    "    \n",
    "### Exemplos\n",
    "\n",
    "#### Aspas simples ou duplas"
   ]
  },
  {
   "cell_type": "code",
   "execution_count": 9,
   "metadata": {},
   "outputs": [
    {
     "name": "stdout",
     "output_type": "stream",
     "text": [
      "Olá\n",
      "Olá\n"
     ]
    }
   ],
   "source": [
    "# As duas formas são equivalentes.\n",
    "print(\"Olá\")\n",
    "print('Olá')"
   ]
  },
  {
   "cell_type": "markdown",
   "metadata": {},
   "source": [
    "#### Strings com múltiplas linhas\n",
    "\n",
    "**OBS**.: Podemos usar aspas simples ou duplas."
   ]
  },
  {
   "cell_type": "code",
   "execution_count": 1,
   "metadata": {},
   "outputs": [
    {
     "name": "stdout",
     "output_type": "stream",
     "text": [
      "Lorem ipsum dolor sit amet,\n",
      "consectetur adipiscing elit,\n",
      "sed do eiusmod tempor incididunt\n",
      "ut labore et dolore magna aliqua.\n"
     ]
    }
   ],
   "source": [
    "a = \"\"\"Lorem ipsum dolor sit amet,\n",
    "consectetur adipiscing elit,\n",
    "sed do eiusmod tempor incididunt\n",
    "ut labore et dolore magna aliqua.\"\"\"\n",
    "\n",
    "print(a)"
   ]
  },
  {
   "cell_type": "code",
   "execution_count": 2,
   "metadata": {},
   "outputs": [
    {
     "name": "stdout",
     "output_type": "stream",
     "text": [
      "Lorem ipsum dolor sit amet,\n",
      "consectetur adipiscing elit,\n",
      "sed do eiusmod tempor incididunt\n",
      "ut labore et dolore magna aliqua.\n"
     ]
    }
   ],
   "source": [
    "a = '''Lorem ipsum dolor sit amet,\n",
    "consectetur adipiscing elit,\n",
    "sed do eiusmod tempor incididunt\n",
    "ut labore et dolore magna aliqua.'''\n",
    "\n",
    "print(a)"
   ]
  },
  {
   "cell_type": "markdown",
   "metadata": {},
   "source": [
    "#### Strings podem ser concatenadas com o sinal +."
   ]
  },
  {
   "cell_type": "code",
   "execution_count": 22,
   "metadata": {},
   "outputs": [
    {
     "name": "stdout",
     "output_type": "stream",
     "text": [
      "C126 - Programação em Python\n"
     ]
    }
   ],
   "source": [
    "str1 = \"C126\"\n",
    "str2 = \" - \"\n",
    "str3 = \"Programação em Python\"\n",
    "\n",
    "str4 = str1 + str2 + str3\n",
    "\n",
    "# Imprimindo o resultado da concatenação.\n",
    "print(str4)"
   ]
  },
  {
   "cell_type": "markdown",
   "metadata": {},
   "source": [
    "#### Quando concatenamos uma string com um número, precisamos fazer uma conversão explícita."
   ]
  },
  {
   "cell_type": "code",
   "execution_count": 23,
   "metadata": {},
   "outputs": [
    {
     "name": "stdout",
     "output_type": "stream",
     "text": [
      "O valor de pi é aproximadamente 3.14\n"
     ]
    }
   ],
   "source": [
    "# A função embutida `str()` converte um número em string. \n",
    "str1 = \"O valor de pi é aproximadamente \" + str(3.14)\n",
    "\n",
    "# Imprimindo o resultado da concatenação.\n",
    "print(str1)"
   ]
  },
  {
   "cell_type": "markdown",
   "metadata": {},
   "source": [
    "#### Métodos básicos de string\n",
    "\n",
    "|   Função  |                               Descrição                               |\n",
    "|:---------:|:---------------------------------------------------------------------:|\n",
    "|   len()   |           mostra o tamanho da string em número de caracteres          |\n",
    "|  lower()  |               transforma toda a string para caixa baixa               |\n",
    "|  upper()  |               transforma toda a a string para caixa alta              |\n",
    "|   str()   |                           converte em string                          |\n",
    "| isalpha() | retorna False se a string contiver algum caracter que não seja uma letra |\n",
    "| isdigit() | retorna False se a string contiver algum caracter que não seja numérico |\n",
    "|  strip()  |      remove os espaços em branco do começo e/ou final da string.      |\n",
    "| replace() |                 substitui uma string por outra string.                |\n",
    "|  split()  |  divide a string em substrings se encontrar ocorrências do separador. |\n",
    "\n",
    "### Exemplos\n",
    "\n",
    "Alguns exemplos de uso desses métodos seguem abaixo."
   ]
  },
  {
   "cell_type": "code",
   "execution_count": 28,
   "metadata": {},
   "outputs": [
    {
     "name": "stdout",
     "output_type": "stream",
     "text": [
      "Comprimento da string:  6\n",
      "Caixa baixa:  inatel\n",
      "Caixa alta:  INATEL\n",
      "Pi:  3.1415\n",
      "Contém apenas letras? False\n",
      "Contém apenas números? True\n",
      "remove todos espaços em branco.\n",
      "INAteste\n",
      "['Olá', ' Mundo!']\n"
     ]
    }
   ],
   "source": [
    "print('Comprimento da string: ', len(\"inatel\"))\n",
    "\n",
    "print(\"Caixa baixa: \",\"INATEL\".lower())\n",
    "\n",
    "print(\"Caixa alta: \", \"inatel\".upper())\n",
    "\n",
    "print(\"Pi: \", str(3.1415))\n",
    "\n",
    "print(\"Contém apenas letras?\", \"ws34rt\".isalpha())\n",
    "\n",
    "print(\"Contém apenas números?\", \"7000\".isdigit())\n",
    "\n",
    "print(\"   remove todos espaços em branco.    \".strip())\n",
    "\n",
    "print(\"INATEL\".replace('TEL','teste'))\n",
    "\n",
    "print(\"Olá, Mundo!\".split(\",\"))"
   ]
  },
  {
   "cell_type": "markdown",
   "metadata": {},
   "source": [
    "#### Acessando strings através de seus índices\n",
    "\n",
    "Nós podemos indexar strings e assim acessar cada um de seus caracteres (ou elementos)."
   ]
  },
  {
   "cell_type": "code",
   "execution_count": 24,
   "metadata": {},
   "outputs": [
    {
     "name": "stdout",
     "output_type": "stream",
     "text": [
      "p\n",
      "y\n",
      "t\n",
      "h\n",
      "o\n",
      "n\n"
     ]
    }
   ],
   "source": [
    "# Atribuindo a string 'python' à variável 'str1'.\n",
    "str1 = 'python'\n",
    "\n",
    "'''\n",
    "Como a string é uma sequência de caracteres, \n",
    "cada um dos índices nos dá acesso a um caracter da sequência.\n",
    "+---+---+---+---+---+---+\n",
    "| p | y | t | h | o | n |\n",
    "+---+---+---+---+---+---+\n",
    "  0   1   2   3   4   5\n",
    "'''\n",
    "\n",
    "print(str1[0])\n",
    "print(str1[1])\n",
    "print(str1[2])\n",
    "print(str1[3])\n",
    "print(str1[4])\n",
    "print(str1[5])"
   ]
  },
  {
   "cell_type": "markdown",
   "metadata": {},
   "source": [
    "#### Strings são imutáveis!"
   ]
  },
  {
   "cell_type": "code",
   "execution_count": 25,
   "metadata": {},
   "outputs": [
    {
     "ename": "TypeError",
     "evalue": "'str' object does not support item assignment",
     "output_type": "error",
     "traceback": [
      "\u001b[1;31m---------------------------------------------------------------------------\u001b[0m",
      "\u001b[1;31mTypeError\u001b[0m                                 Traceback (most recent call last)",
      "\u001b[1;32m<ipython-input-25-3bc43495a2ae>\u001b[0m in \u001b[0;36m<module>\u001b[1;34m\u001b[0m\n\u001b[0;32m      2\u001b[0m \u001b[1;33m\u001b[0m\u001b[0m\n\u001b[0;32m      3\u001b[0m \u001b[1;31m# Tentando alterar o caracter da primeira posição.\u001b[0m\u001b[1;33m\u001b[0m\u001b[1;33m\u001b[0m\u001b[1;33m\u001b[0m\u001b[0m\n\u001b[1;32m----> 4\u001b[1;33m \u001b[0mstring\u001b[0m\u001b[1;33m[\u001b[0m\u001b[1;36m0\u001b[0m\u001b[1;33m]\u001b[0m \u001b[1;33m=\u001b[0m \u001b[1;34m'b'\u001b[0m\u001b[1;33m\u001b[0m\u001b[1;33m\u001b[0m\u001b[0m\n\u001b[0m",
      "\u001b[1;31mTypeError\u001b[0m: 'str' object does not support item assignment"
     ]
    }
   ],
   "source": [
    "string = 'Olá'\n",
    "\n",
    "# Tentando alterar o caracter da primeira posição.\n",
    "string[0] = 'b'"
   ]
  },
  {
   "cell_type": "markdown",
   "metadata": {},
   "source": [
    "#### Fatiando strings\n",
    "\n",
    "+ Nós podemos retornar um intervalo de caracteres usando a sintaxe de fatiamento de strings.\n",
    "+ Para isso, basta especificar o índice inicial e o índice final, separados por dois pontos, para retornar uma parte, ou seja, uma fatia, da string."
   ]
  },
  {
   "cell_type": "code",
   "execution_count": 28,
   "metadata": {},
   "outputs": [
    {
     "name": "stdout",
     "output_type": "stream",
     "text": [
      "Mundo\n"
     ]
    }
   ],
   "source": [
    "# Atribuindo a string 'Olá, Mundo' à variável str1.\n",
    "str1 = \"Olá, Mundo!\"\n",
    "\n",
    "# Imprime os caracteres da posição 5 até a posição 10 (não incluso).\n",
    "print(str1[5:10])"
   ]
  },
  {
   "cell_type": "markdown",
   "metadata": {},
   "source": [
    "### Tarefa\n",
    "\n",
    "1. <span style=\"color:blue\">**QUIZ - Strings**</span>: respondam ao quiz sobre strings no MS teams, por favor."
   ]
  },
  {
   "cell_type": "markdown",
   "metadata": {},
   "source": [
    "## Mensagens de erro\n",
    "\n",
    "Ao tentar interpretar o código que escrevemos, o interpretador Python avisa quando alguma coisa não foi compreendida através de mensagens de erro. \n",
    "\n",
    "**IMPORTANTE: Leiam as mensagens de erro com calma para saber onde está o erro.**\n",
    "\n",
    "### Os erros mais frequentes em Python são:\n",
    "\n",
    "* **SyntaxError**: erros de sintaxe. \n",
    "    + Esses erros significam que alguma palavra foi escrita incorretamente, ou que algum símbolo foi esquecido (por exemplo, os dois pontos `:` ao final da definição de uma função).\n",
    "    \n",
    "#### Exemplo"
   ]
  },
  {
   "cell_type": "code",
   "execution_count": 29,
   "metadata": {},
   "outputs": [
    {
     "ename": "SyntaxError",
     "evalue": "invalid syntax (<ipython-input-29-b8c4a18e5fae>, line 2)",
     "output_type": "error",
     "traceback": [
      "\u001b[1;36m  File \u001b[1;32m\"<ipython-input-29-b8c4a18e5fae>\"\u001b[1;36m, line \u001b[1;32m2\u001b[0m\n\u001b[1;33m    def mult(x,y)\u001b[0m\n\u001b[1;37m                 ^\u001b[0m\n\u001b[1;31mSyntaxError\u001b[0m\u001b[1;31m:\u001b[0m invalid syntax\n"
     ]
    }
   ],
   "source": [
    "# Estão faltando os dois pontos (:) no cabeçalho da função.\n",
    "def mult(x,y)\n",
    "    return x*y"
   ]
  },
  {
   "cell_type": "markdown",
   "metadata": {},
   "source": [
    "* **IndentationError**: erros de indentação.\n",
    "    + Esses erros significam que alguma linha está com a indentação incorreta.\n",
    "    \n",
    "#### Exemplo"
   ]
  },
  {
   "cell_type": "code",
   "execution_count": 30,
   "metadata": {},
   "outputs": [
    {
     "ename": "IndentationError",
     "evalue": "expected an indented block (<ipython-input-30-932de4439fdd>, line 4)",
     "output_type": "error",
     "traceback": [
      "\u001b[1;36m  File \u001b[1;32m\"<ipython-input-30-932de4439fdd>\"\u001b[1;36m, line \u001b[1;32m4\u001b[0m\n\u001b[1;33m    a = x*y\u001b[0m\n\u001b[1;37m    ^\u001b[0m\n\u001b[1;31mIndentationError\u001b[0m\u001b[1;31m:\u001b[0m expected an indented block\n"
     ]
    }
   ],
   "source": [
    "# As instruções que fazem parte do corpo da função não tem a indentação correta\n",
    "# para que o interpretador entenda que elas fazem parte da função.\n",
    "def mult(x,y):\n",
    "a = x*y\n",
    "return a"
   ]
  },
  {
   "cell_type": "markdown",
   "metadata": {},
   "source": [
    "* **NameError**: erros de nome.\n",
    "    + Esses erros significam que algum nome (por exemplo, variável, nome de função, classe, etc.) foi usado sem ser anteriormente definido. \n",
    "    + Esse tipo de erro ocorre, por exemplo, ao chamarmos uma função que ainda não foi definida.\n",
    "    \n",
    "#### Exemplo"
   ]
  },
  {
   "cell_type": "code",
   "execution_count": 31,
   "metadata": {},
   "outputs": [
    {
     "ename": "NameError",
     "evalue": "name 'bar' is not defined",
     "output_type": "error",
     "traceback": [
      "\u001b[1;31m---------------------------------------------------------------------------\u001b[0m",
      "\u001b[1;31mNameError\u001b[0m                                 Traceback (most recent call last)",
      "\u001b[1;32m<ipython-input-31-e981da79e46d>\u001b[0m in \u001b[0;36m<module>\u001b[1;34m\u001b[0m\n\u001b[0;32m      1\u001b[0m \u001b[1;31m# A função bar não foi definida anteriormente.\u001b[0m\u001b[1;33m\u001b[0m\u001b[1;33m\u001b[0m\u001b[1;33m\u001b[0m\u001b[0m\n\u001b[1;32m----> 2\u001b[1;33m \u001b[0mbar\u001b[0m\u001b[1;33m(\u001b[0m\u001b[0ma\u001b[0m\u001b[1;33m,\u001b[0m\u001b[0mb\u001b[0m\u001b[1;33m)\u001b[0m\u001b[1;33m\u001b[0m\u001b[1;33m\u001b[0m\u001b[0m\n\u001b[0m",
      "\u001b[1;31mNameError\u001b[0m: name 'bar' is not defined"
     ]
    }
   ],
   "source": [
    "# A função bar não foi definida anteriormente.\n",
    "bar(a,b)"
   ]
  },
  {
   "cell_type": "markdown",
   "metadata": {},
   "source": [
    "## Tarefa\n",
    "\n",
    "1. <span style=\"color:blue\">**QUIZ - Mensagens de erro**</span>: respondam ao quiz sobre mensagens de erro no MS teams, por favor."
   ]
  },
  {
   "cell_type": "markdown",
   "metadata": {},
   "source": [
    "## Avisos\n",
    "\n",
    "* Se atentem aos prazos de entrega das tarefas na aba de **Avaliações** do MS Teams.\n",
    "* Horário de atendimento do Professor: todas as Segundas-feiras das 18:30 às 19:30 e Quartas-feiras das 15:30 às 16:30 via MS Teams (enquanto as aulas presenciais não retornam).\n",
    "* Horário de atendimento do Monitor (Maycol): todas as Terças-feiras das 18:00 às 19:00 via MS Teams (enquanto as aulas presenciais não retornam)."
   ]
  },
  {
   "cell_type": "markdown",
   "metadata": {},
   "source": [
    "## Tarefa\n",
    "\n",
    "1. <span style=\"color:blue\">**Laboratório #2**</span>: cliquem em um dos links abaixo para accessar os exercícios do laboratório #2.\n",
    "\n",
    "[![Binder](https://mybinder.org/badge_logo.svg)](https://mybinder.org/v2/gh/zz4fap/python-programming/master?filepath=labs%2Fshort%2FLaboratorio2.ipynb)\n",
    "\n",
    "[![Google Colab](https://badgen.net/badge/Launch/on%20Google%20Colab/blue?icon=terminal)](https://colab.research.google.com/github/zz4fap/python-programming/blob/master/labs/short/Laboratorio2.ipynb)\n",
    "\n",
    "**IMPORTANTE**: Para acessar o material das aulas e realizar as entregas dos exercícios de laboratório, por favor, leiam o tutorial no seguinte link:\n",
    "[Material-das-Aulas](../../docs/Acesso-ao-material-das-aulas-resolucao-e-entrega-dos-laboratorios.pdf)"
   ]
  },
  {
   "cell_type": "markdown",
   "metadata": {},
   "source": [
    "<img src=\"../../figures/obrigado.png\" width=\"1000\" height=\"1000\">"
   ]
  }
 ],
 "metadata": {
  "kernelspec": {
   "display_name": "Python 3",
   "language": "python",
   "name": "python3"
  },
  "language_info": {
   "codemirror_mode": {
    "name": "ipython",
    "version": 3
   },
   "file_extension": ".py",
   "mimetype": "text/x-python",
   "name": "python",
   "nbconvert_exporter": "python",
   "pygments_lexer": "ipython3",
   "version": "3.7.7"
  }
 },
 "nbformat": 4,
 "nbformat_minor": 4
}
