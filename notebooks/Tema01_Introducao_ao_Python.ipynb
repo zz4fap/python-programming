{
  "cells": [
    {
      "cell_type": "markdown",
      "metadata": {
        "id": "KWMAqf28iI1B"
      },
      "source": [
        "# Introdução ao Python\n",
        "\n",
        "## Sobre a Disciplina\n",
        "\n",
        "Curso de introdução à programação em Python.\n",
        "\n",
        "As aulas serão divididas em uma parte expositiva e outra prática.\n",
        "\n",
        "Todo o curso está no github: https://github.com/zz4fap/python-programming\n",
        "\n",
        "Usaremos notebooks Jupyter, Jupyter e o Google Colab durante todo o curso.\n",
        "\n",
        "## Conteúdo Programático\n",
        "\n",
        "1. Introdução ao Python\n",
        "2. Tipos de dados\n",
        "3. Operadores aritméticos\n",
        "4. Módulos e pacotes\n",
        "5. Manipulação de cadeias de caracteres (strings)\n",
        "6. Operadores lógicos e de comparação\n",
        "7. Estruturas de decisão e repetição\n",
        "8. Funções\n",
        "9. Coleções de dados\n",
        "10. Fundamentos de orientação a objeto com Python\n",
        "11. Computação Numérica, Visualização e Análise de dados com Python\n",
        "12. Trabalhando com arquivos"
      ]
    },
    {
      "cell_type": "markdown",
      "metadata": {
        "id": "G5o8A-FhiI1C"
      },
      "source": [
        "## Objetivos\n",
        "\n",
        "O objetivo principal da disciplina é **despertar o interesse** pela linguagem Python em vocês.\n",
        "\n",
        "Ao final da disciplina, eu espero que vocês:\n",
        "* Conheçam os **conceitos básicos** e os **principais recursos** disponibilizados pela linguagem.\n",
        "* **Apliquem os conceitos** aprendidos e **desenvolvam programas** usando Python.\n",
        "* Sejam capazes de **solucionar problemas computacionais** utilizando Python.\n",
        "* Adquiram a base necessária para o **aprendizado de novos conceitos**.\n",
        "\n",
        "## Critérios de Avaliação\n",
        "\n",
        "* Duas (2) provas de **conteúdo prático** com peso de 85% cada.\n",
        "* Dois (2) **conjuntos** de atividades (quizzes e laboratórios) com peso de 15%.\n",
        "    * Prazos de entrega são em torno de duas semanas.\n",
        "    * As atividades serão atribuídas através de tarefas do MS Teams.\n",
        "* As atividades podem ser resolvidas em grupo, mas a entrega é individual.\n",
        "* A **prova é individual**, mas vocês podem consultar o material.\n",
        "  * A prova só poderá ser feita usando o Jupyter instalado nos computadores.\n",
        "\n",
        "## Frequência\n",
        "\n",
        "* Usaremos a lista de presença em papel.\n",
        "* Por favor, acompanhem a frequência de vocês no portal."
      ]
    },
    {
      "cell_type": "markdown",
      "metadata": {
        "id": "C4w7F3pNiI1C"
      },
      "source": [
        "## Um breve histórico sobre o Python\n",
        "\n",
        "* A linguagem de programação **Python** foi lançada em 1991 por Guido van Rossum.\n",
        "\n",
        "<img src=\"https://github.com/zz4fap/python-programming/blob/master/figures/guido.jpg?raw=1\" width=\"300px\">"
      ]
    },
    {
      "cell_type": "markdown",
      "metadata": {
        "id": "3P5JTHl-iI1D"
      },
      "source": [
        "* O nome **Python** é uma homenagem ao grupo de humor britânico, Monty Python.\n",
        "\n",
        "<img src=\"https://github.com/zz4fap/python-programming/blob/master/figures/monty.jpg?raw=1\" width=\"200px\">"
      ]
    },
    {
      "cell_type": "markdown",
      "metadata": {
        "id": "4OCk8YveiI1D"
      },
      "source": [
        "* Guido resistiu por muito tempo em associar a linguagem à serpente Python, mas isso acabou quando a editora  O’Reilly publicou o primeiro livro sobre a linguagem.\n",
        "\n",
        "<img src=\"https://github.com/zz4fap/python-programming/blob/master/figures/livro.jpg?raw=1\" width=\"200px\">"
      ]
    },
    {
      "cell_type": "markdown",
      "metadata": {
        "id": "LepD6sdNiI1D"
      },
      "source": [
        "* A linguagem Python possui um modelo de desenvolvimento comunitário, de código aberto e gerenciado pela Python Software Foundation.\n",
        "\n",
        "<img src=\"https://github.com/zz4fap/python-programming/blob/master/figures/psf-logo.png?raw=1\" width=\"500px\">"
      ]
    },
    {
      "cell_type": "markdown",
      "metadata": {
        "id": "-PLyFJvJiI1D"
      },
      "source": [
        "## O que é o Python?\n",
        "\n",
        "* É uma linguagem de programação:\n",
        "    * de **alto nível**: tem uma sintaxe que se aproxima da nossa linguagem escrita e se distancia bastante da linguagem de máquina.    \n",
        "    * **Multi-paradigma**: pois suporta diversos paradigmas de programação como: programação procedural, programação orientada a objetos e programação funcional.\n",
        "    <img src=\"https://github.com/zz4fap/python-programming/blob/master/figures/paradigmas.png?raw=1\" width=\"250px\">\n",
        "    * **Interpretada**: o código fonte é **transformado em uma linguagem intermediária**, que será interpretada pela **máquina virtual** da linguagem quando o programa for executado.\n",
        "    <img src=\"https://github.com/zz4fap/python-programming/blob/master/figures/interpreter2.png?raw=1\" width=\"400px\">\n",
        "    * de **tipagem dinâmica**: isso significa que o interpretador Python infere o tipo de dado de uma variável a partir do tipo do valor sendo atribuído a ela em tempo de execução. Ou seja, não é necessário que o programador defina o tipo de uma variável explicitamente como em C, C++ e Java.\n",
        "    * **Fortemente tipada**: ela proíbe operações entre tipos diferentes ao invés de convertê-los automaticamente (por exemplo, adicionar uma string a um número inteiro). Para realizar a operação entre tipos não compatíveis, é necessário converter explicitamente o tipo da variável ou variáveis antes da operação.\n",
        "        ```python\n",
        "        resultado = 'olá' + 42\n",
        "        ```\n",
        "    * **Multiplataforma**: roda em plataformas Windows, Linux, UNIX, MacOS e até em telefones celulares e sistemas embarcados.\n",
        "    * com **gerenciamento automático de memória**: ela rastreia a utilização de objetos automaticamente e os deleta quando não estão sendo mais utilizados para liberar espaço.\n",
        "    * **gratuita** e de **código aberto**: não é necessário pagar nada por ela e pode-se criar e distribuir novas bibliotecas, modificar/depurar bibliotecas existentes, criar novas funcionalidades e até mesmo modificar a própria linguagem."
      ]
    },
    {
      "cell_type": "markdown",
      "metadata": {
        "id": "yd3w0VsJiI1E"
      },
      "source": [
        "## Por que Python?\n",
        "\n",
        "* É uma das linguagens mais fáceis de se aprender, com uma **sintaxe clara**, **intuitiva** e **concisa** o que favorece a legibilidade do código fonte e torna a linguagem mais produtiva.\n",
        "* É uma linguagem muito popular e será mais ainda nos próximos anos.\n",
        "\n",
        "<img src=\"https://github.com/zz4fap/python-programming/blob/master/figures/most_in_demand_languages_2024.png?raw=1\" width=\"600px\">"
      ]
    },
    {
      "cell_type": "markdown",
      "metadata": {
        "id": "isq0XQl4iI1E"
      },
      "source": [
        "* Grandes empresas usam Python.\n",
        "\n",
        "<img src=\"https://github.com/zz4fap/python-programming/blob/master/figures/empresas.png?raw=1\" width=\"600px\">"
      ]
    },
    {
      "cell_type": "markdown",
      "metadata": {
        "id": "OSuvPHQ5iI1E"
      },
      "source": [
        "* Muitos empregos e bons salários.\n",
        "\n",
        "<img src=\"https://github.com/zz4fap/python-programming/blob/master/figures/Top_Paying_Programming_languages_to_learn.png?raw=1\" width=\"500px\">"
      ]
    },
    {
      "cell_type": "markdown",
      "metadata": {
        "id": "traRbep3iI1E"
      },
      "source": [
        "* Possui um rico ecossistema de bibliotecas.\n",
        "\n",
        "<img src=\"https://github.com/zz4fap/python-programming/blob/master/figures/libraries.png?raw=1\" width=\"500px\">"
      ]
    },
    {
      "cell_type": "markdown",
      "metadata": {
        "id": "hm0NUb98iI1E"
      },
      "source": [
        "* Muito utilizada no meio científico devido a uma enorme quantidade de bibliotecas específicas para as áreas de engenharia, química, biologia, astrofísica, física, etc.\n",
        "* Python é a linguagem mais usada para o desenvolvimento de aplicações de Machine Learning, Visão Computacional e Processamento de Linguagem Natural.\n",
        "\n",
        "<img src=\"https://github.com/zz4fap/python-programming/blob/master/figures/ml.jpg?raw=1\" width=\"200px\">"
      ]
    },
    {
      "cell_type": "markdown",
      "metadata": {
        "id": "8DY_t2IAiI1F"
      },
      "source": [
        "* Possui um vasto suporte on-line: Tutorials, Videos e StackOverflow.\n",
        "\n",
        "<img src=\"https://github.com/zz4fap/python-programming/blob/master/figures/so-logo.png?raw=1\" width=\"500px\">"
      ]
    },
    {
      "cell_type": "markdown",
      "metadata": {
        "id": "woslZ7h-iI1F"
      },
      "source": [
        "* Python é usada como linguagem educativa para ensino de computação e eletrônica (e.g., Arduino, Raspberry Pi e LEGO Mindstorms podem ter suas aplicações desenvolvidas em Python).\n",
        "\n",
        "<img src=\"https://github.com/zz4fap/python-programming/blob/master/figures/raspi-lego.png?raw=1\" width=\"500px\"> <img src=\"https://github.com/zz4fap/python-programming/blob/master/figures/arduino.png?raw=1\" width=\"200px\">"
      ]
    },
    {
      "cell_type": "markdown",
      "metadata": {
        "id": "aaSNrJMeiI1F"
      },
      "source": [
        "## Executando códigos Python\n",
        "\n",
        "+ Utilizaremos o Google Colab (nuvem) e o Jupyter (local) para criação e edição de **documentos**, chamados de **notebooks Jupyter**.\n",
        "</br>\n",
        "\n",
        "+ Os **notebooks Jupyter** são usados para **desenvolver e documentar código** em navegadores web tais como Google Chrome, Firefox, Microsoft Edge, etc.\n",
        "</br>\n",
        "\n",
        "+ Com esses **notebooks**, nós podemos **documentar todo o processo de escrita do código**, além de podermos adicionar equações e  imagens ao documento.\n",
        "</br>\n",
        "\n",
        "+ Existem vários ambientes computacionais gratuitos disponíveis para **execução** dos **notebooks Jupyter** mas, durante nosso curso, usaremos o **Google Colab** e/ou **Jupyter** para a execução do material e resolução de exercícios."
      ]
    },
    {
      "cell_type": "markdown",
      "metadata": {
        "id": "qXLPAV4HiI1F"
      },
      "source": [
        "### Instalando o Python, Jupyter e outras ferramentas\n",
        "\n",
        "+ Para resolver os exercícios e acesar o material do curso de forma **off-line**, vocês podem instalar o **Python** e o **Jupyter** localmente.\n",
        "+ O Python, Jupyter e outras bibliotecas podem ser instaladas através da distribuição Anaconda seguindo o tutorial a seguir:\n",
        "    * [Tutorial para instalação do Anaconda](https://github.com/zz4fap/python-programming/blob/master/docs/Tutorial-de-Instala%C3%A7%C3%A3o-Ambiente-Python-Jupyter.pdf).\n",
        "\n",
        "### Versão de Python que utilizaremos\n",
        "\n",
        "* **Durante nosso curso, nós utilizaremos a versão 3.x do Python pois a versão 2.x foi descontinuada em Janeiro de 2020.**"
      ]
    },
    {
      "cell_type": "markdown",
      "metadata": {
        "id": "W4znF5fCiI1F"
      },
      "source": [
        "## Exemplo com conceitos básicos\n",
        "\n",
        "O exemplo na **célula de código** abaixo apresenta alguns **conceitos básicos** da linguagem Python através da **definição e uso de uma função**."
      ]
    },
    {
      "cell_type": "code",
      "execution_count": null,
      "metadata": {
        "id": "wSTQtJSCiI1F"
      },
      "outputs": [],
      "source": [
        "# Usamos a cerquilha para criar comentários de uma linha.\n",
        "\n",
        "# Podemos criar comentários de VÁRIAS linhas usando 3 aspas SIMPLES ou DUPLAS.\n",
        "\n",
        "'''\n",
        "Para definirmos uma função, seu cabeçalho deve ter:\n",
        "     1. a palavra reservada 'def',\n",
        "     2. seguida do nome da função,\n",
        "     3. uma lista de parâmetros de entrada separados por vírgulas (a lista é opcional, podemos não ter nenhum parâmetro),\n",
        "     4. e dois pontos para definir o início do corpo da função.\n",
        "O que estiver após os dois pontos do cabeçalho, recuado à direita, faz parte do corpo da função.\n",
        "'''\n",
        "\n",
        "# Percebam que nenhuma das variáveis abaixo tem um tipo definido.\n",
        "def minhaFunção(parâmetroDeEntrada1, parâmetroDeEntrada2):\n",
        "    \"\"\"\n",
        "    Comentários de várias linhas LOGO APÓS o cabeçalho são chamados de 'docstring'.\n",
        "    'docstring' é um texto usado para documentar o código. Por exemplo, explicar o que a função faz, o que ela espera como entrada e seu retorno.\n",
        "    Exemplo de docstring: Esta função 'soma' os dois parâmetros de entrada e retorna o resultado.\n",
        "    \"\"\"\n",
        "    # Realiza uma operação com os parâmetros de entrada e atribui o resultado a uma variável.\n",
        "    valorDeRetorno = parâmetroDeEntrada1 + parâmetroDeEntrada2\n",
        "    # Retorna o valor da operação para quem invocou a função usando a palavra reservada 'return'.\n",
        "    return valorDeRetorno"
      ]
    },
    {
      "cell_type": "markdown",
      "metadata": {
        "id": "llR9y0mfiI1G"
      },
      "source": [
        "**OBSERVAÇÕES**:\n",
        "\n",
        "+ O número dentro dos colchetes (Jupyter) e o `check` verde (Colab) no topo à esquerda da célula de código significa apenas que a célula foi executada e não que o código está correto.\n",
        "+ Percebam que o corpo da função está recuado à direita em relação ao início do cabeçalho.\n",
        "+ Na célula de código acima, realizamos **apenas a definição da função**. A função será executada apenas quando for chamada com valores de entrada para seus parâmetros.\n",
        "+ A definição da função e sua chamada **não precisam estar na mesma célula de código**.\n",
        "+ Variáveis, funções, classes, etc. **persistem entre células de um mesmo notebook**, ou seja, depois que uma célula de código é executada, o código definido na célula fica acessível em qualquer outra célula daquele notebook.\n",
        "\n",
        "\n",
        "Agora nós usaremos a função que acabmos de definir."
      ]
    },
    {
      "cell_type": "markdown",
      "metadata": {
        "id": "trfc6HpLiI1G"
      },
      "source": [
        "#### Importante\n",
        "\n",
        "&rarr; No código abaixo, percebam que **não há definição explícita do tipo das variáveis**.\n",
        "\n",
        "&rarr; Nós simplesmente atribuímos valores às variáveis e o **interpretador infere o tipo da variável em tempo de execução**.\n",
        "\n",
        "## Quais são os tipos das variáveis abaixo?"
      ]
    },
    {
      "cell_type": "code",
      "execution_count": null,
      "metadata": {
        "id": "TQYib6kDiI1G"
      },
      "outputs": [],
      "source": [
        "# Atribuindo valores às variáveis que serão passadas como parâmetros de entrada para a função minhaFunção.\n",
        "# Percebam que não há definição explícita do tipo das variáveis.\n",
        "\n",
        "# O interpretador infere que as variáveis são do tipo String.\n",
        "variável1 = 'guarda'\n",
        "variável2 = '-chuva'\n",
        "\n",
        "# Invocando a função e atribuindo o valor de retorno a uma variável.\n",
        "retorno = minhaFunção(variável1, variável2)\n",
        "\n",
        "# Imprimindo o valor de retorno da função.\n",
        "print('Resultado é:', retorno)"
      ]
    },
    {
      "cell_type": "markdown",
      "metadata": {
        "id": "HNNTd_65iI1G"
      },
      "source": [
        "## Quais são os tipos das variáveis abaixo?\n",
        "\n",
        "**Usando as mesmas variáveis**, mas com valores de tipos diferentes (Integer)."
      ]
    },
    {
      "cell_type": "code",
      "execution_count": null,
      "metadata": {
        "id": "30z0y_HgiI1H"
      },
      "outputs": [],
      "source": [
        "# O interpretador infere que as variáveis são do tipo Integer.\n",
        "variável1 = 1\n",
        "variável2 = 2\n",
        "\n",
        "# Invocando a função e atribuindo o valor de retorno a uma variável.\n",
        "retorno = minhaFunção(variável1, variável2)\n",
        "\n",
        "# Imprimindo o valor de retorno da função.\n",
        "print('Resultado é:', retorno)"
      ]
    },
    {
      "cell_type": "markdown",
      "metadata": {
        "id": "aw45wM5gWSrm"
      },
      "source": [
        "## Quais são os tipos das variáveis abaixo?\n",
        "\n",
        "**Usando as mesmas variáveis**, mas com valores de tipos diferentes (Float)."
      ]
    },
    {
      "cell_type": "code",
      "execution_count": null,
      "metadata": {
        "id": "_eHsTcjgiI1H"
      },
      "outputs": [],
      "source": [
        "# O interpretador infere que as variáveis são do tipo Float.\n",
        "variável1 = 2.5\n",
        "variável2 = 1.5\n",
        "\n",
        "# Invocando a função e atribuindo o valor de retorno a uma variável.\n",
        "retorno = minhaFunção(variável1, variável2)\n",
        "\n",
        "# Imprimindo o valor de retorno da função.\n",
        "print('Resultado é:', retorno)"
      ]
    },
    {
      "cell_type": "markdown",
      "metadata": {
        "id": "NPgLHk8uWNRL"
      },
      "source": [
        "**OBS**.:\n",
        "\n",
        "+ Percebam que nos exemplos acima, as variáveis foram mudando de tipo (string -> inteiro -> float), mas usamos a mesma função sempre, sem nenhuma mudança.\n",
        "</br>\n",
        "+ Devido à tipagem dinâmica, o comportamento da função muda conforme o tipo das variáveis.\n",
        "</br>\n",
        "+ Isso nos ajuda a criar **códigos genéricos**, pois não precisamos criar diferentes funções para lidar com cada tipo de dados."
      ]
    },
    {
      "cell_type": "markdown",
      "metadata": {
        "id": "ntFfwjdGiI1H"
      },
      "source": [
        "### Após analisar o código acima, quais diferenças podemos perceber para outras linguagens de programação?\n",
        "\n",
        "* Não há declaração dos tipos das variáveis.\n",
        "* Não é necessário abrir e fechar chaves (`{}`) para delimitar o corpo da função.\n",
        "* O corpo da função é delimitado através do recuo (indentação).\n",
        "    + **A indentação é obrigatória (tabulações ou espaços) e deve ser feita de maneira correta!**\n",
        "* Não é necessário ponto e vírgula ao final de cada instrução (`;`).\n",
        "* Strings são codificadas através do padrão Unicode (UTF-8).\n",
        "    + Isso significa que podemos ter acentos no código.\n",
        "* A palavra reservada `def` indica ao interpretador que estamos **def**inindo uma função.\n",
        "* O início do corpo de uma função é definido pelos dois pontos (`:`).\n",
        "* O tipo das variáveis muda dinâmicamente."
      ]
    },
    {
      "cell_type": "markdown",
      "metadata": {
        "id": "AOrpsl5SiI1H"
      },
      "source": [
        "## Avisos\n",
        "\n",
        "* Se atentem aos prazos de entrega das tarefas na aba de **Avaliações** do MS Teams.\n",
        "* Horário de atendimento do Professor: todas as quartas-feiras das 17:30 às 18:30 (sala do professor no prédio 3, segundo andar).\n",
        "* Horário de atendimento do Monitor (Francisco Pereira Guimarães: francisco.pereira@ges.inatel.br): todas as quintas-feiras das 17:30 às 18:30 (sala I-??)."
      ]
    },
    {
      "cell_type": "markdown",
      "metadata": {
        "id": "nlVT7JcMiI1H"
      },
      "source": [
        "## Referências\n",
        "\n",
        "#### Apostilas e tutoriais disponíveis gratuitamente na web:\n",
        "\n",
        "1. LABAKI, Josué, Introdução a Python - Módulo A, http://www.dcc.ufrj.br/~fabiom/python/pythonbasico.pdf\n",
        "\n",
        "2. BORGES, Luís Eduardo, Python para Desenvolvedores, https://ark4n.files.wordpress.com/2010/01/python_para_desenvolvedores_2ed.pdf\n",
        "\n",
        "3. VAN ROSSUM, Guido, O Tutorial Python, https://docs.python.org/pt-br/3/tutorial/index.html\n",
        "\n",
        "4. DOWNEY, Allen Downey; ELKNER, Jeff, e MEYERS, Chris, Aprenda Computação com Python 3.0, https://mange.ifrn.edu.br/python/aprenda-com-py3/index.html\n",
        "\n",
        "5. MILLER, Brad Miller e RANUM, David, How to Think Like a Computer Scientist: Interactive Edition, https://runestone.academy/runestone/books/published/thinkcspy/index.html"
      ]
    },
    {
      "cell_type": "markdown",
      "metadata": {
        "id": "gXARopLUiI1H"
      },
      "source": [
        "## Tarefas\n",
        "\n",
        "1. <span style=\"color:blue\">**QUIZ - Conceitos básicos**</span>: respondam ao quiz sobre conceitos básicos no MS teams, por favor.\n",
        "2. <span style=\"color:blue\">**Laboratório #1**</span>: cliquem em um dos links abaixo para accessar os exercícios do laboratório #1.\n",
        "\n",
        "[![Google Colab](https://badgen.net/badge/Launch/on%20Google%20Colab/blue?icon=terminal)](https://colab.research.google.com/github/zz4fap/python-programming/blob/master/labs/Laboratorio1.ipynb)\n",
        "\n",
        "**IMPORTANTE**: Para acessar o material das aulas e realizar as entregas dos exercícios de laboratório, por favor, leiam o tutorial no seguinte link:\n",
        "[Material-das-Aulas](../docs/Acesso-ao-material-das-aulas-resolucao-e-entrega-dos-laboratorios.pdf)"
      ]
    },
    {
      "cell_type": "markdown",
      "metadata": {
        "id": "n9_AiumpiI1H"
      },
      "source": [
        "<img src=\"https://github.com/zz4fap/python-programming/blob/master/figures/obrigado.png?raw=1\">"
      ]
    }
  ],
  "metadata": {
    "colab": {
      "provenance": [],
      "generative_ai_disabled": true
    },
    "kernelspec": {
      "display_name": "Python 3",
      "name": "python3"
    },
    "language_info": {
      "codemirror_mode": {
        "name": "ipython",
        "version": 3
      },
      "file_extension": ".py",
      "mimetype": "text/x-python",
      "name": "python",
      "nbconvert_exporter": "python",
      "pygments_lexer": "ipython3",
      "version": "3.11.5"
    }
  },
  "nbformat": 4,
  "nbformat_minor": 0
}