{
  "cells": [
    {
      "cell_type": "markdown",
      "metadata": {
        "id": "5SiumL3RFvAg"
      },
      "source": [
        "# Fundamentos de Orientação a Objetos\n",
        "\n",
        "\n",
        "## Introdução\n",
        "\n",
        "Um dos vários paradigmas de programação suportados pelo Python é o de programação orientada a objetos (POO).\n",
        "\n",
        "A POO se concentra na criação de **código reutilizável**, ou seja, a ideia por trás da POO é a **redução da repetição de código**.\n",
        "\n",
        "O foco da programação orientada a objetos é na criação de objetos que contêm (**encapsulam**) tanto os **dados** quanto suas **funcionalidades**.\n",
        "   + Por exemplo, um objeto do tipo `Carro` tem alguns **dados** (atributos ou características) sobre o objeto como marca, modelo, ano de fabricação, quilometragem, etc. e **funcionalidades** como ligar, acelerar, frear, etc.\n",
        "\n",
        "Objetos são **abstrações computacionais** que representam entidades, muitas vezes, do mundo real, com suas qualidades ou propriedades (**atributos**) e ações (**métodos**) que estas podem realizar.\n",
        "   + Os **atributos** são estruturas de dados que armazenam informações (ou seja, os dados) sobre o **estado** atual do objeto. Por exemplo, quilometragem, nível do tanque de combustível, marca, modelo, etc.\n",
        "   + Os **métodos** são funções associadas ao objeto, que descrevem como o ele se comporta. Por exemplo, ligar, acelerar, etc.\n",
        "\n",
        "Para criar um objeto, nós **instanciamos** classes.\n",
        "\n",
        "As classes são a **estrutura básica** da POO. Elas representam o **tipo** do objeto, ou seja, um modelo a partir do qual os objetos são criados (**instanciados**).\n",
        "\n",
        "Pode-se pensar também nas classes como sendo **diagramas** ou **plantas** para a construção de um objeto.\n",
        "\n",
        "Por exemplo, uma **classe** `Cachorro` descreve as características (ou **atributos**) como cor, raça, tamanho, etc. e ações (ou **métodos**) como comer, latir, etc., dos cães **em geral**, enquanto o **objeto** `Toto` representa um cachorro em particular, ou seja, uma **instância** da classe `Cachorro` com um **estado**, ou seja, valores para os atributos.\n",
        "\n",
        "Cada **instância** (ou **objeto**) da classe `Cachorro` é diferente pois, embora sejam todos objetos do tipo `Cachorro`, cada um tem um **estado** (como cor, raça, tamanho, etc.) diferente."
      ]
    },
    {
      "cell_type": "markdown",
      "metadata": {
        "id": "RCbeEqNqFvAj"
      },
      "source": [
        "### Tarefa\n",
        "\n",
        "1. <span style=\"color:blue\">**QUIZ - Programação orientada a objetos (POO)**</span>: respondam ao questionário sobre programação orientada a objetos no MS teams, por favor."
      ]
    },
    {
      "cell_type": "markdown",
      "metadata": {
        "id": "IoGHNoSRFvAj"
      },
      "source": [
        "## Definindo nossos próprios tipos (classes)\n",
        "\n",
        "Em POO, quando estamos desenvolvendo uma aplicação, nós geralmente precisamos criar **tipos** relacionados à aplicação que estamos desenvolvendo. Desta forma, nós precisamos definir nossas próprias **classes**.\n",
        "\n",
        "Portanto, em Python, além dos **tipos** (classes) embutidos definidos pela linguagem, como `int`, `str`, `list`, `float`, etc. nós podemos definir nossos próprios **tipos** através da criação de classes.\n",
        "\n",
        "As regras de sintaxe para a definição de uma classe são as mesmas de outras estruturas do Python.\n",
        "\n",
        "+ Há um cabeçalho que começa com a palavra reservada `class`, seguida pelo **nome** da classe e terminando com **dois pontos**, `:`.\n",
        "\n",
        "```python\n",
        "class Carro:\n",
        "```\n",
        "\n",
        "+ Se a primeira linha após o cabeçalho de classe é uma **string** com 3 aspas simples ou duplas, ela se torna o **docstring** da classe, e poderá ser acessada por diversas ferramentas de documentação automática (e.g. **pydoc**) através do atributo `__doc__` da classe.\n",
        "\n",
        "```python\n",
        "class Carro:\n",
        "    \"\"\"Este é o tipo carro.\"\"\"\n",
        "```\n",
        "\n",
        "+ Toda classe possui, mesmo que não explicitamente, um **método** com o nome especial `__init__`. Este é um método de **inicialização** do objeto, que também é chamado de **construtor**. Ele é invocado automaticamente sempre que uma nova instância do objeto é criada.\n",
        "    ```python\n",
        "    class Carro:\n",
        "        \"\"\"Este é o tipo carro.\"\"\"\n",
        "\n",
        "        def __init__(self):\n",
        "            \"Construtor da classe Carro.\"\n",
        "    ```\n",
        "   * O parâmetro `self` é uma referência à instância corrente (i.e., atual) da classe e é usado para acessar atributos e métodos daquela instância (i.e., objeto).\n",
        "   * O `self` deve ser **SEMPRE** o primeiro parâmetro de qualquer método de uma classe.\n",
        "   * **IMPORTANTE**: O nome `self` é apenas uma convenção, podendo ser trocado por outro nome qualquer, porém é considerada como **boa prática de programação** manter este nome.\n",
        "<br/>\n",
        "\n",
        "+ O método **construtor** possibilita inicializar os **atributos** da nova instância da classe com valores iniciais.\n",
        "    + Portanto, além do parâmetro **self**, que é obrigatório, podemos passar valores para o construtor através de parâmetros de entrada.\n",
        "    + No exemplo abaixo a classe possui três **atributos**, `modelo`, `anoFabricacao` e `cor`, que são inicializados com os parâmetros de entrada passados para o construtor.\n",
        "\n",
        "```python\n",
        "class Carro:\n",
        "    \"\"\"Este é o tipo carro.\"\"\"\n",
        "    \n",
        "    def __init__(self, modelo='', anoFabricacao=1900, cor=''):\n",
        "        \"\"\"Construtor da classe Carro.\"\"\"\n",
        "        print('Instanciando um objeto do tipo Carro.')\n",
        "        self.modelo = modelo\n",
        "        self.anoFabricacao = anoFabricacao\n",
        "        self.cor = cor\n",
        "```\n",
        "\n",
        "+ As classes também podem conter outros **métodos** além do método construtor. Lembrem-se que os **métodos** são **funções** que pertencem ao objeto.\n",
        "    + Os métodos são definidos como as funções, usando a palavra reservada `def` e possuem as mesmas características.\n",
        "    + A única diferença é a **obrigatoriedade** de termos como primeiro parâmetro de entrada do método o parâmetro que seja a referência à instância atual da classe (e.g., `self`).\n",
        "\n",
        "### Exemplo\n",
        "\n",
        "Vamos criar uma classe para representar um `Carro`.\n",
        "\n",
        "A classe é definida com o construtor para configurar valores inciais dos atributos e com os métodos `acelerar`, `frear` e `printState`.\n",
        "\n",
        "**OBS**.: Todo atributo do objeto DEVE ser acessado através da referência à instância atual da classe, i.e., o `self`."
      ]
    },
    {
      "cell_type": "code",
      "execution_count": null,
      "metadata": {
        "id": "a0zzyipUFvAk"
      },
      "outputs": [],
      "source": [
        "class Carro:\n",
        "    \"\"\"Classe que modela diferentes tipos de carros.\"\"\"\n",
        "\n",
        "    def __init__(self, modelo='Volkswagen fusca', anoFabricacao=1970, cor='branca', quilometragem=100000):\n",
        "        \"\"\"Construtor da classe Carro.\"\"\"\n",
        "        print('-----------------------------')\n",
        "        print('Instanciando um objeto do tipo Carro.')\n",
        "        self.modelo = modelo\n",
        "        self.anoFabricacao = anoFabricacao\n",
        "        self.cor = cor\n",
        "        self.quilometragem = quilometragem\n",
        "        self.imprimirEstado()\n",
        "        print('-----------------------------\\n')\n",
        "\n",
        "    def acelerar(self):\n",
        "        \"\"\"Método para acelerar o carro.\"\"\"\n",
        "        print(\"Acelerando o carro.\")\n",
        "\n",
        "    def frear(self):\n",
        "        \"\"\"Método para frear o carro.\"\"\"\n",
        "        print(\"Freando o carro.\")\n",
        "\n",
        "    def imprimirEstado(self):\n",
        "        \"\"\"Imprime estado atual do objeto.\"\"\"\n",
        "        print('Modelo:', self.modelo)\n",
        "        print('Ano de fabricação:', self.anoFabricacao)\n",
        "        print('Cor:', self.cor)\n",
        "        print('Quilometragem:', self.quilometragem)"
      ]
    },
    {
      "cell_type": "markdown",
      "metadata": {
        "id": "kticlFnrFvAl"
      },
      "source": [
        "**IMPORTANTE**\n",
        "\n",
        "+ Um objeto é uma **instância de uma classe**, ou seja, ele é uma **coisa real** (porção de memória) criada a partir de uma planta/diagrama, que é a classe, que por sua vez, é algo abstrato.\n",
        "+ Quando a classe é definida, apenas a descrição (planta/diagrama) do objeto é definida.\n",
        "+ Portanto, nenhuma memória é alocada. **Isto ocorre apenas durante a instanciação**."
      ]
    },
    {
      "cell_type": "markdown",
      "metadata": {
        "id": "RxPrGd5OFvAl"
      },
      "source": [
        "## Instanciando objetos\n",
        "\n",
        "Em Python, novos objetos são criados a partir das classes através de atribuição.\n",
        "\n",
        "### Exemplos\n",
        "\n",
        "#### Instanciando objetos.\n",
        "\n",
        "No exemplo abaixo, instanciamos um objeto do tipo `Carro` (classe definida acima) com os valores padrão dos parâmetros."
      ]
    },
    {
      "cell_type": "code",
      "execution_count": null,
      "metadata": {
        "id": "0JoLXJQhFvAl"
      },
      "outputs": [],
      "source": [
        "# Instanciando um objeto do tipo carro com atributos padrão.\n",
        "# OBS.: Só funciona porque definimos valores padrão para os parâmetros de entrada do construtor.\n",
        "herbie = Carro()"
      ]
    },
    {
      "cell_type": "markdown",
      "metadata": {
        "id": "YK_rYexpFvAm"
      },
      "source": [
        "No exemplo abaixo, instanciamos um objeto do tipo `Carro` com valores diferentes dos valores padrão."
      ]
    },
    {
      "cell_type": "code",
      "execution_count": null,
      "metadata": {
        "id": "eMuLCONhFvAm"
      },
      "outputs": [],
      "source": [
        "# Objeto instanciado com atributos diferentes dos valores padrão.\n",
        "eleanor = Carro('Shelby Cobra 427 Super Snake', 1966, 'azul', 230000)"
      ]
    },
    {
      "cell_type": "markdown",
      "metadata": {
        "id": "Wz9KVQxqFvAm"
      },
      "source": [
        "#### Acessando atributos de um objeto\n",
        "\n",
        "Acessamos os **atributos** de um objeto usando a sintaxe:\n",
        "\n",
        "```python\n",
        "refParaObjeto = Objeto()\n",
        "refParaObjeto.nomeDoAtributo\n",
        "```"
      ]
    },
    {
      "cell_type": "code",
      "execution_count": null,
      "metadata": {
        "id": "YbgV9U0FFvAn"
      },
      "outputs": [],
      "source": [
        "# Instanciando um objeto do tipo Carro com atributos padrão.\n",
        "carroA = Carro()\n",
        "\n",
        "# Acessando o atributo modelo do objeto do tipo Carro.\n",
        "print('Modelo:', carroA.modelo)"
      ]
    },
    {
      "cell_type": "markdown",
      "metadata": {
        "id": "4tGLD55TFvAn"
      },
      "source": [
        "#### Invocando métodos de um objeto\n",
        "\n",
        "Invocamos os **métodos** de um objeto da mesma forma que acessamos os atributos:\n",
        "\n",
        "```python\n",
        "refParaObjeto = Objeto()\n",
        "refParaObjeto.nomeDoMetodo()\n",
        "```\n",
        "\n",
        "**IMPORTANTE**: Percebam que invocamos o método sem passar como parâmetro de entrada a referência à instância atual da classe (i.e., o **self**). O interpretador se encarrega de fazer isso. **Implicitamente** o que o interpretador faz é\n",
        "\n",
        "```python\n",
        "NomeDaClasse.nomeDoMetodo(refParaObjeto)\n",
        "```\n",
        "ou seja, no caso do exemplo com a classe `Carro` temos\n",
        "```python\n",
        "Carro.frear(carroA)\n",
        "```"
      ]
    },
    {
      "cell_type": "code",
      "execution_count": null,
      "metadata": {
        "id": "2lYYtrsQFvAn"
      },
      "outputs": [],
      "source": [
        "# Instanciando um objeto do tipo Carro.\n",
        "carroA = Carro()\n",
        "\n",
        "# Invocando o método frear.\n",
        "carroA.frear()"
      ]
    },
    {
      "cell_type": "markdown",
      "metadata": {
        "id": "pglfXFcGFvAn"
      },
      "source": [
        "**IMPORTANTE**\n",
        "\n",
        "+ As definições dos atributos e métodos de uma classe (i.e., a planta) são os mesmos para todas as instâncias daquela classe.\n",
        "+ Porém, cada objeto tem um **estado** diferente e um **comportamento** que depende do **estado** atual do objeto."
      ]
    },
    {
      "cell_type": "markdown",
      "metadata": {
        "id": "iIZZwDjIFvAn"
      },
      "source": [
        "## Notação UML para classes\n",
        "\n",
        "UML, do inglês *Unified Modeling Language*, em português Linguagem de Modelagem Unificada, é uma **linguagem de notação** utilizada para **modelar e documentar** (ilustrar) as interações entre classes durante as diversas fases do desenvolvimento de aplicações orientadas a objetos.\n",
        "\n",
        "Em UML uma classe é representada como uma **caixa com três compartimentos**, conforme ilustrado abaixo:\n",
        "\n",
        "<img src=\"https://github.com/zz4fap/python-programming/blob/master/figures/classe_animal.png?raw=1\" width=\"300px\">\n",
        "\n",
        "Cada compartimento tem o seguinte significado:\n",
        "\n",
        "+ **Nome da classe**: identifica o nome do tipo, ou seja, o nome da classe.\n",
        "+ **Atributos**: contém os atributos da classe com seus respectivos tipos e acesso.\n",
        "+ **Métodos**: contém as funções membro da classe com seus parâmetros e tipos, tipo do retorno e acesso.\n",
        "   * Em UML (java e C++ também), o construtor tem sempre o nome da classe, diferentemente do Python, que sempre usa `__init__` como nome do construtor.\n",
        "\n",
        "**IMPORTANTE**\n",
        "\n",
        "+ Os símbolos na frente dos atributos e métodos definem seu tipo de acesso (encapsulamento)."
      ]
    },
    {
      "cell_type": "markdown",
      "metadata": {
        "id": "1uWF3cwcFvAn"
      },
      "source": [
        "### Tarefa\n",
        "\n",
        "1. <span style=\"color:blue\">**QUIZ - Criação e uso de classes em Python**</span>: respondam ao questionário sobre criação e uso de classes em Python no MS teams, por favor."
      ]
    },
    {
      "cell_type": "markdown",
      "metadata": {
        "id": "FA_n5c8OFvAn"
      },
      "source": [
        "## Encapsulamento\n",
        "\n",
        "+ Em POO, podemos **restringir o acesso** aos membros de uma classe (i.e., métodos e atributos).\n",
        "\n",
        "+ Essa restrição é chamada de **encapsulamento**.\n",
        "\n",
        "+ O **encapsulamento** evita que o **estado** de um objeto seja modificado diretamente ou que **comportamentos** internos sejam acessados.\n",
        "\n",
        "+ Em Python, temos 3 tipos de acesso: **público**, **protegido** e **privado**, os quais veremos a seguir.\n",
        "\n",
        "### Membros com acesso público\n",
        "\n",
        "+ Em Python, todos os membros de uma classe são públicos **por padrão**.\n",
        "+ Membros com acesso público podem ser acessados **dentro e fora da classe ou por subclasses** (ou seja, uma classe que herda a classe onde o membro foi definido).\n",
        "\n",
        "#### Exemplo\n",
        "\n",
        "No exemplo abaixo, o atributo `quilometragem` e os métodos `acelerar` e `printQuilometragem` são públicos."
      ]
    },
    {
      "cell_type": "code",
      "execution_count": null,
      "metadata": {
        "id": "E7V-tnREFvAn"
      },
      "outputs": [],
      "source": [
        "class Carro:\n",
        "\n",
        "    def __init__(self):\n",
        "        self.quilometragem = 0 # Um carro novo tem quilomeragem igual a 0.\n",
        "\n",
        "    def printQuilometragem(self):\n",
        "        print('Quilometragem:', self.quilometragem)\n",
        "\n",
        "    def acelerar(self):\n",
        "        print('Acelerando!')\n",
        "\n",
        "# Instanciando um objeto do tipo Carro.\n",
        "carro = Carro()\n",
        "\n",
        "# Acessando um atributo público.\n",
        "print('Quilometragem:', carro.quilometragem)\n",
        "\n",
        "# Atribuindo um valor ao atributo público.\n",
        "carro.quilometragem = 10000\n",
        "\n",
        "# Invocando um método público que usa um atributo público.\n",
        "carro.printQuilometragem()\n",
        "\n",
        "# Invocando um método público.\n",
        "carro.acelerar()"
      ]
    },
    {
      "cell_type": "markdown",
      "metadata": {
        "id": "q2Y3tGZbFvAo"
      },
      "source": [
        "### Membros com acesso protegido\n",
        "\n",
        "+ Membros com acesso protegido devem ser **acessados apenas dentro da classe onde foram definidos ou por uma subclasse**.\n",
        "\n",
        "+ A convenção em Python para tornar um membro **protegido** é adicionar um prefixo `_` (**sublinhado único**) a ele.\n",
        "\n",
        "+ Porém, isso **não impede**, como veremos, que ele seja acessado fora da classe, mas indica ao programador utilizando aquela classe que aquele membro não deveria ser usado fora da classe.\n",
        "    + É uma boa prática de programação seguir as regras de encapsulamento.\n",
        "\n",
        "#### Exemplo\n",
        "\n",
        "No exemplo abaixo, o atributo `_quilometragem` e o método `_injetarCombustível` são protegidos."
      ]
    },
    {
      "cell_type": "code",
      "execution_count": null,
      "metadata": {
        "id": "upM7gfOfFvAo"
      },
      "outputs": [],
      "source": [
        "class Carro:\n",
        "    '''Classe Carro.'''\n",
        "\n",
        "    def __init__(self):\n",
        "        self._quilometragem = 0 # Um carro novo tem quilomeragem igual a 0.\n",
        "\n",
        "    def _injetarCombustível(self):\n",
        "        print('Injetando combustível...')\n",
        "\n",
        "    def acelerar(self):\n",
        "        self._injetarCombustível()\n",
        "        print('Acelerando!')\n",
        "\n",
        "    def verificarQuilometragem(self):\n",
        "        print('Quilometragem:', self._quilometragem)\n",
        "\n",
        "# Instanciando um objeto do tipo Carro.\n",
        "carro = Carro()\n",
        "\n",
        "# Acessando um atributo protegido (NÃO DEVERIA SER FEITO).\n",
        "print('Quilometragem:', carro._quilometragem)\n",
        "\n",
        "# Acessando um método protegido (NÃO DEVERIA SER FEITO).\n",
        "carro._injetarCombustível()"
      ]
    },
    {
      "cell_type": "markdown",
      "metadata": {
        "id": "pKqypeaxFvAo"
      },
      "source": [
        "**IMPORTANTE**:\n",
        "\n",
        "+ Percebam que **membros protegidos só deveriam** ser usados dentro de métodos da classe, pois este é o comportamente normal de um membro protegido.\n",
        "+ Os exemplos abaixo mostram o **acesso a membros protegidos através de métodos públicos**."
      ]
    },
    {
      "cell_type": "code",
      "execution_count": null,
      "metadata": {
        "id": "-dO6S1B5FvAo"
      },
      "outputs": [],
      "source": [
        "# Invocando um método público que usa um método protegido (i.e., _injetarCombustível()).\n",
        "carro.acelerar()"
      ]
    },
    {
      "cell_type": "code",
      "execution_count": null,
      "metadata": {
        "id": "n48BZYqtFvAo"
      },
      "outputs": [],
      "source": [
        "# Invocando um método público que usa um atributo protegido (i.e., _quilometragem).\n",
        "carro.verificarQuilometragem()"
      ]
    },
    {
      "cell_type": "markdown",
      "metadata": {
        "id": "39Lv68jeFvAo"
      },
      "source": [
        "### Membros com acesso privado\n",
        "\n",
        "+ Membros com acesso privado podem ser acessados **apenas dentro da classe** onde foram definidos.\n",
        "\n",
        "+ Um sublinhado duplo (`__`) prefixado ao nome de um membro o torna privado.\n",
        "\n",
        "+ Diferentemente do acesso protegido, qualquer tentativa de acesso a membros privados resultará em um **AttributeError** como o será mostrado em um exemplo abaixo.\n",
        "\n",
        "#### Exemplo\n",
        "\n",
        "No exemplo abaixo, o atributo `__quilometragem` e o método `__injetarCombustível` são privados."
      ]
    },
    {
      "cell_type": "code",
      "execution_count": null,
      "metadata": {
        "id": "wZW55osTFvAo"
      },
      "outputs": [],
      "source": [
        "class Carro:\n",
        "    '''Classe Carro.'''\n",
        "\n",
        "    def __init__(self):\n",
        "        self.__quilometragem = 0 # Um carro novo tem quilomeragem igual a 0.\n",
        "\n",
        "    def __injetarCombustível(self):\n",
        "        print('Injetando combustível...')\n",
        "\n",
        "    def acelerar(self):\n",
        "        self.__injetarCombustível()\n",
        "        print('Acelerando!')\n",
        "\n",
        "    def verificarQuilometragem(self):\n",
        "        print('Quilometragem:', self.__quilometragem)"
      ]
    },
    {
      "cell_type": "markdown",
      "metadata": {
        "id": "ERcltP2fFvAo"
      },
      "source": [
        "#### Acessando um atributo privado."
      ]
    },
    {
      "cell_type": "code",
      "execution_count": null,
      "metadata": {
        "id": "XCXh6Ar6FvAp"
      },
      "outputs": [],
      "source": [
        "# Instanciando um objeto do tipo Carro.\n",
        "carro = Carro()\n",
        "\n",
        "# Acessando um atributo privado.\n",
        "print('Quilometragem:', carro.__quilometragem)"
      ]
    },
    {
      "cell_type": "markdown",
      "metadata": {
        "id": "T7Zo_9MbFvAp"
      },
      "source": [
        "#### Acessando um método privado."
      ]
    },
    {
      "cell_type": "code",
      "execution_count": null,
      "metadata": {
        "id": "XIVcE4B-FvAp"
      },
      "outputs": [],
      "source": [
        "# Invocando um método privado.\n",
        "carro.__injetarCombustível()"
      ]
    },
    {
      "cell_type": "markdown",
      "metadata": {
        "id": "RNRtsmaWFvAp"
      },
      "source": [
        "**IMPORTANTE**:\n",
        "\n",
        "+ Percebam que **membros privados só podem** ser usados dentro de métodos da classe onde foram definidos, pois este é o comportamente normal de um membro privado.\n",
        "+ Os exemplos abaixo mostram o **acesso a membros privados através de métodos públicos**."
      ]
    },
    {
      "cell_type": "code",
      "execution_count": null,
      "metadata": {
        "id": "KEST_bRBFvAp"
      },
      "outputs": [],
      "source": [
        "# Invocando um método público que usa um método privado (i.e., _injetarCombustível()).\n",
        "carro.acelerar()"
      ]
    },
    {
      "cell_type": "code",
      "execution_count": null,
      "metadata": {
        "id": "npGffYbJFvAp"
      },
      "outputs": [],
      "source": [
        "# Invocando um método público que usa um atributo privado (i.e., _quilometragem).\n",
        "carro.verificarQuilometragem()"
      ]
    },
    {
      "cell_type": "markdown",
      "metadata": {
        "id": "ZCEzFH3zFvAp"
      },
      "source": [
        "#### IMPORTANTE: Métodos `getters` e `setters`\n",
        "\n",
        "+ O acesso a **atributos protegidos e privados**, normalmente, só é obtido por meio de métodos especiais, chamados de **getters** e **setters**.\n",
        "\n",
        "\n",
        "+ Através desses métodos, que devem ter **acesso público**, é possível se obter ou modificar os valores de **atributos privados ou protegidos**.\n",
        "\n",
        "#### Exemplo"
      ]
    },
    {
      "cell_type": "code",
      "execution_count": null,
      "metadata": {
        "id": "CNgv3wxUFvAp"
      },
      "outputs": [],
      "source": [
        "class Carro:\n",
        "    '''Classe Carro.'''\n",
        "\n",
        "    def __init__(self):\n",
        "        # Atributo privado.\n",
        "        self.__quilometragem = 0\n",
        "        # Atributo protegido.\n",
        "        self._nívelDoÓleo = 0\n",
        "\n",
        "    def getQuilometragem(self):\n",
        "        return self.__quilometragem\n",
        "\n",
        "    def setQuilometragem(self, quilometragem):\n",
        "        self.__quilometragem = quilometragem\n",
        "\n",
        "    def getNívelDoÓleo(self):\n",
        "        return self._nívelDoÓleo\n",
        "\n",
        "    def setNívelDoÓleo(self, nível):\n",
        "        self._nívelDoÓleo = nível\n",
        "\n",
        "# Instanciando a classe Carro.\n",
        "carro = Carro()\n",
        "\n",
        "# Alterando o valor da quilometragem.\n",
        "carro.setQuilometragem(35000)\n",
        "\n",
        "# Obtendo o valor da quilometragem.\n",
        "print('Quilometragem:', carro.getQuilometragem())\n",
        "\n",
        "# Alterando o nível do óleo.\n",
        "carro.setNívelDoÓleo(2.0)\n",
        "\n",
        "# Obtendo o nível do óleo.\n",
        "print('Nível do óleo:', carro.getNívelDoÓleo())"
      ]
    },
    {
      "cell_type": "markdown",
      "metadata": {
        "id": "sUFx-HX-FvAp"
      },
      "source": [
        "### Notação UML para encapsulamento\n",
        "\n",
        "O tipo de acesso dos membros de uma classe é definido por um símbolo que precede o nome do membro.\n",
        "\n",
        "+ O tipo de acesso **público** é representado pelo símbolo `+`.\n",
        "+ O tipo de acesso **privado** é representado pelo símbolo `-`.\n",
        "+ O tipo de acesso **protegido** é representado pelo símbolo `#`.\n",
        "\n",
        "<img src=\"https://github.com/zz4fap/python-programming/blob/master/figures/encapsulation_uml.png?raw=1\" width=\"300px\">"
      ]
    },
    {
      "cell_type": "markdown",
      "metadata": {
        "id": "sxpFgF7gFvAp"
      },
      "source": [
        "### Tarefas\n",
        "\n",
        "1. <span style=\"color:blue\">**QUIZ - Encapsulamento**</span>: respondam ao questionário sobre encapsulamento no MS teams, por favor.\n",
        "\n",
        "2. <span style=\"color:blue\">**Laboratório #6 (Parte I)**</span>: clique em um dos links abaixo para accessar o notebook com os exercícios do laboratório #6.\n",
        "\n",
        "[![Google Colab](https://badgen.net/badge/Launch/on%20Google%20Colab/blue?icon=terminal)](https://colab.research.google.com/github/zz4fap/python-programming/blob/master/labs/Laboratorio6%20(Parte%20I).ipynb)\n",
        "\n",
        "**IMPORTANTE**: Para acessar o material das aulas e realizar as entregas dos exercícios de laboratório, por favor, leiam o tutorial no seguinte link:\n",
        "[Material-das-Aulas](../docs/Acesso-ao-material-das-aulas-resolucao-e-entrega-dos-laboratorios.pdf)"
      ]
    },
    {
      "cell_type": "markdown",
      "metadata": {
        "id": "NVG9dDIyFvAq"
      },
      "source": [
        "## Relacionamentos entre classes\n",
        "\n",
        "Como vocês devem ter percebido, uma classe sozinha não fornece muita funcionalidade a uma aplicação de software.\n",
        "\n",
        "Geralmente, as classes que compõem uma aplicação têm relacionamentos entre si.\n",
        "\n",
        "A **vantagem** do **relacionamento entre classes** é a de poder **criar classes mais complexas** (ou seja, mais especializadas) **utilizando classes menos complexas** (ou seja, menos especializadas).\n",
        "\n",
        "O relacionamento entre classes é feito, basicamente, através de **Dependência**, **Composição** e **Herança**.\n",
        "\n",
        "Existem outros tipos de relacionamentos, mas podem ser entendidos a partir destes três tipos."
      ]
    },
    {
      "cell_type": "markdown",
      "metadata": {
        "id": "LloOS23iFvAq"
      },
      "source": [
        "### Dependência\n",
        "\n",
        "Dependência significa que uma classe `A` **USA** um **objeto** de uma classe `B` em algum momento.\n",
        "\n",
        "A dependência permite a criação de tipos complexos **usando** objetos de outras classes.\n",
        "\n",
        "Ela geralmente é uma boa escolha quando um objeto **usa** os **serviços** (ou seja, membros) de outro objeto durante um determinado tempo.\n",
        "\n",
        "Por exemplo, uma classe `CaixaEletrônico` **USA** um objeto do tipo `Conta` para consultar o saldo de um cliente e, portanto, a dependência seria a escolha correta para este relacionamento."
      ]
    },
    {
      "cell_type": "markdown",
      "metadata": {
        "id": "ugVlPjZZFvAq"
      },
      "source": [
        "#### Notação UML\n",
        "\n",
        "A representação do relacionamento de **dependência** é feita em UML da seguinte forma:\n",
        "\n",
        "<img src=\"https://github.com/zz4fap/python-programming/blob/master/figures/dependencia.png?raw=1\" width=\"600px\">\n",
        "\n",
        "A dependência é representada por uma **linha tracejada** com uma **seta aberta** apontando para a classe que é usada."
      ]
    },
    {
      "cell_type": "markdown",
      "metadata": {
        "id": "2GSl1di7FvAt"
      },
      "source": [
        "#### Exemplo: Caixa eletrônico."
      ]
    },
    {
      "cell_type": "code",
      "execution_count": null,
      "metadata": {
        "id": "8lM0F5LzFvAt"
      },
      "outputs": [],
      "source": [
        "class Conta:\n",
        "    '''Classe que simula uma conta corrente de um cliente.'''\n",
        "\n",
        "    def __init__(self, idCliente, saldo):\n",
        "        self.__idCliente = idCliente\n",
        "        self.__saldo = saldo\n",
        "\n",
        "    def getIdCliente(self):\n",
        "        return self.__idCliente\n",
        "\n",
        "    def getSaldo(self):\n",
        "        return self.__saldo\n",
        "\n",
        "    def setSaldo(self, saldo):\n",
        "        self.__saldo = saldo\n",
        "\n",
        "\n",
        "class CaixaEletrônico:\n",
        "    '''Classe que simula o funcionamento de um caixa eletrônico.'''\n",
        "\n",
        "    def __init__(self, localização):\n",
        "        self.__localização = localização\n",
        "\n",
        "    def consultarSaldo(self, conta):\n",
        "        print('Saldo do cliente ID %d é: %1.2f' % (conta.getIdCliente(), conta.getSaldo()))\n",
        "\n",
        "    def depositar(self, conta, quantia):\n",
        "        conta.setSaldo(conta.getSaldo() + quantia)\n",
        "\n",
        "# Instanciando uma conta de um cliente.\n",
        "conta = Conta(1234, 1000.0)\n",
        "\n",
        "# Instanciando um caixa eletrônico.\n",
        "caixa = CaixaEletrônico('Rua A, 100')\n",
        "\n",
        "# Consultando saldo.\n",
        "caixa.consultarSaldo(conta)\n",
        "\n",
        "# fazendo depósito.\n",
        "caixa.depositar(conta, 200.0)\n",
        "\n",
        "# Consultando novo saldo.\n",
        "caixa.consultarSaldo(conta)"
      ]
    },
    {
      "cell_type": "markdown",
      "metadata": {
        "id": "8NoqVVjqFvAt"
      },
      "source": [
        "### Composição\n",
        "\n",
        "Composição significa que uma classe `A` **TEM** um objeto de uma classe `B`.\n",
        "\n",
        "A composição permite a criação de classes complexas **combinando** objetos de outras classes.\n",
        "\n",
        "Ela geralmente é uma boa escolha quando um objeto **faz parte** de outro objeto.\n",
        "\n",
        "Por exemplo, uma classe `Carro` **TEM** um objeto do tipo `Motor` e, portanto, a composição seria a escolha correta para este relacionamento.\n",
        "\n",
        "Com a composição, nós conseguimos criar um objeto, como, por exemplo, uma calculadora, de maior nível de complexidade usando objetos de classes de menor complexidade (i.e., menos especializados) como teclado, display, etc."
      ]
    },
    {
      "cell_type": "markdown",
      "metadata": {
        "id": "VNdeW4lYFvAt"
      },
      "source": [
        "#### Notação UML\n",
        "\n",
        "A representação do relacionamento de **composição** é feita em UML da seguinte forma:\n",
        "\n",
        "<img src=\"https://github.com/zz4fap/python-programming/blob/master/figures/composition.png?raw=1\" width=\"500px\">\n",
        "\n",
        "A composição é representada por uma **linha sólida com um losango** conectado à classe que contém objetos de outras classes.\n",
        "\n",
        "O lado composto expressa a cardinalidade (i.e., a quantidade de objetos) do relacionamento.\n",
        "\n",
        "A cardinalidade pode ser expressa das seguintes maneiras:\n",
        "   + Um único valor indica a quantidade de instâncias de uma determinada classe que estão contidas na classe composta, e.g., `1` significa exatamente uma instância.\n",
        "   + O símbolo `0..*` ou `*` indica que a classe composta pode conter uma quantidade variável de instâncias de uma dada classe.\n",
        "   + Um intervalo, por exemplo de `1..4`, indica que a classe composta pode conter um intervalo de instâncias de uma dada classe. O intervalo é indicado com o número mínimo e máximo de instâncias, ou mínimo e muitas instâncias como em `1..*`."
      ]
    },
    {
      "cell_type": "markdown",
      "metadata": {
        "id": "O18F4iEYFvAu"
      },
      "source": [
        "#### Exemplo: Calculadora\n",
        "\n",
        "Inicialmente, implementamos as classes **menos especializadas** que irão **compor** a calculadora: `Bateria` , `Teclado`, `Operações` e `Display` ."
      ]
    },
    {
      "cell_type": "code",
      "execution_count": null,
      "metadata": {
        "id": "lFjzlZ54FvAu"
      },
      "outputs": [],
      "source": [
        "# Classe responsável por simular o uso da bateria.\n",
        "class Bateria():\n",
        "    \"\"\"Classe responsável por simular o uso da bateria.\"\"\"\n",
        "\n",
        "    def __init__(self):\n",
        "        self.carga = 100 # porcentagem da carga da bateria.\n",
        "        self.perdaPorUso = 0.1 # a cada uso, 10% da carga da bateria é consumida.\n",
        "\n",
        "    def getCarga(self):\n",
        "        self.carga = self.carga*(1 - self.perdaPorUso)\n",
        "        print('Carga da bateria: %1.2f %%' % (self.carga))\n",
        "        return self.carga"
      ]
    },
    {
      "cell_type": "code",
      "execution_count": null,
      "metadata": {
        "id": "XVJrsEU6FvAu"
      },
      "outputs": [],
      "source": [
        "# Classe responsável por ler o teclado.\n",
        "class Teclado():\n",
        "    \"\"\"Classe responsável por ler o teclado e armazenar os valores digitados.\"\"\"\n",
        "\n",
        "    def valorEntrada(self, values):\n",
        "        self.values = values # Atributo que armazena a sequência de valores digitados.\n",
        "\n",
        "    def getValor(self):\n",
        "        return self.values"
      ]
    },
    {
      "cell_type": "code",
      "execution_count": null,
      "metadata": {
        "id": "JzDjf525FvAu"
      },
      "outputs": [],
      "source": [
        "# Classe responsável por simular o controlador lógico da calculadora.\n",
        "class Operações():\n",
        "    \"\"\"Classe responsável por simular o controlador lógico da calculadora.\"\"\"\n",
        "\n",
        "    def soma(self, valores):\n",
        "        '''\n",
        "        Soma todos valores passados como entrada.\n",
        "        O parâmetro de entrada 'valores' é uma tupla.\n",
        "        '''\n",
        "        val = 0\n",
        "        for v in valores:\n",
        "            val = val + v\n",
        "\n",
        "        return val\n",
        "\n",
        "    def subtração(self, valores):\n",
        "        '''\n",
        "        Subtrai todos valores passados como entrada.\n",
        "        O parâmetro de entrada 'valores' é uma tupla.\n",
        "        '''\n",
        "        val = 0\n",
        "        for v in valores:\n",
        "            val = val - v\n",
        "        return val"
      ]
    },
    {
      "cell_type": "code",
      "execution_count": null,
      "metadata": {
        "id": "fp5LMFTiFvAu"
      },
      "outputs": [],
      "source": [
        "# Classe responsável por exibir os valores na tela.\n",
        "class Display():\n",
        "    \"\"\"Classe responsável por exibir os valores na tela.\"\"\"\n",
        "\n",
        "    def mostrarTexto(self, texto):\n",
        "        print('Resultado da operação:', texto)"
      ]
    },
    {
      "cell_type": "markdown",
      "metadata": {
        "id": "7FvUaZ1oFvAu"
      },
      "source": [
        "+ Agora, criamos a classe `Calculadora` que **contém objetos** das classes `Bateria`, `Teclado`, `Operações` e `Display`, respectivamente.\n",
        "\n",
        "\n",
        "+ Para isso, vamos implementar o construtor da classe `Caculadora` e dentro dele vamos instanciar cada uma das classes."
      ]
    },
    {
      "cell_type": "code",
      "execution_count": null,
      "metadata": {
        "id": "pOE0zvX6FvAu"
      },
      "outputs": [],
      "source": [
        "# Criando a classe Calculadora.\n",
        "class Calculadora():\n",
        "    \"\"\"Classe calculadora.\"\"\"\n",
        "\n",
        "    def __init__(self):\n",
        "        self.bateria   = Bateria()\n",
        "        self.teclado   = Teclado()\n",
        "        self.operações = Operações()\n",
        "        self.display   = Display()\n",
        "\n",
        "    def entradaDeValores(self, *valores):\n",
        "        self.teclado.valorEntrada(valores)\n",
        "        self.bateria.getCarga()\n",
        "\n",
        "    def soma(self):\n",
        "        soma = self.operações.soma(self.teclado.getValor())\n",
        "        self.display.mostrarTexto(soma)\n",
        "        self.bateria.getCarga()"
      ]
    },
    {
      "cell_type": "markdown",
      "metadata": {
        "id": "KTN1JipXFvAu"
      },
      "source": [
        "##### Instanciando e usando a classe calculadora.\n",
        "\n",
        "Agora, instanciamos e usamos um objeto da classe `Calculadora`."
      ]
    },
    {
      "cell_type": "code",
      "execution_count": null,
      "metadata": {
        "id": "kLeZqpg8FvAu"
      },
      "outputs": [],
      "source": [
        "# Instanciando um objeto da classe Calculadora.\n",
        "calc = Calculadora()\n",
        "\n",
        "# Invocando o método para entrada de valores.\n",
        "calc.entradaDeValores(10, 20, 30)\n",
        "\n",
        "# Invocando o método referente à operação de soma.\n",
        "calc.soma()"
      ]
    },
    {
      "cell_type": "markdown",
      "metadata": {
        "id": "L9mYAmIhFvAu"
      },
      "source": [
        "### Herança\n",
        "\n",
        "Herança é outra forma de relacionamento entre classes.\n",
        "\n",
        "Ela é uma maneira de criar uma nova classe que **HERDA atributos e métodos** de uma **classe já existente**.\n",
        "\n",
        "A classe recém-criada é chamada de classe filha (também chamada de classe herdeira ou subclasse).\n",
        "\n",
        "Da mesma forma, a classe existente é chamada de classe pai (também chamada de classe base ou superclasse).\n",
        "\n",
        "Aqui, no caso da herança, o relacionamento é do tipo \"Classe `A` **É** uma classe `B`\", por exemplo, `Carro` **É** também um `Veículo`.\n",
        "\n",
        "<img src=\"https://github.com/zz4fap/python-programming/blob/master/figures/veiculo_carro_inheritance.png?raw=1\" width=\"600px\">"
      ]
    },
    {
      "cell_type": "markdown",
      "metadata": {
        "id": "1DoArRK8FvAv"
      },
      "source": [
        "Na herança, uma classe filha herda os **atributos** e **métodos** **públicos e protegidos** da classe pai.\n",
        "\n",
        "A herança é **transitiva**, o que significa que uma classe pode herdar de outra classe que herda de outra classe, e assim por diante, até uma classe base.\n",
        "\n",
        "Vejam a figura abaixo. Neste exemplo, devido à transitividade, `Vaca` é também um `Animal`.\n",
        "\n",
        "<img src=\"https://github.com/zz4fap/python-programming/blob/master/figures/transitividade.png?raw=1\" width=\"200px\">\n",
        "\n",
        "A herança é representada por uma **linha sólida com uma seta fechada** que aponta para a classe pai.\n",
        "\n",
        "**Classes filhas podem adicionar novos membros (atributos e métodos) e/ou alterar métodos da classe pai de forma a alterar o comportamento padrão implementado por ela**. A intenção é deixar a classe filha mais especializada."
      ]
    },
    {
      "cell_type": "markdown",
      "metadata": {
        "id": "6mLytjYVFvAv"
      },
      "source": [
        "#### Notação UML\n",
        "\n",
        "A notação UML para a herança é uma **linha sólida com uma seta** que vai da classe filha (subclasse) e **aponta** para a classe pai (superclasse).\n",
        "\n",
        "Por convenção, a superclasse (i.e., classe pai) é desenhada no topo de suas subclasses, conforme mostrado na figura abaixo.\n",
        "\n",
        "<img src=\"https://github.com/zz4fap/python-programming/blob/master/figures/inheritance.png?raw=1\" width=\"500px\">"
      ]
    },
    {
      "cell_type": "markdown",
      "metadata": {
        "id": "Sky2Co9lFvAv"
      },
      "source": [
        "#### Herdando de uma classe base\n",
        "\n",
        "Para criar uma classe que herda as **características** e **funcionalidades** de outra classe, **passamos a classe pai como um parâmetro** ao **definirmos** a classe filha.\n",
        "\n",
        "No exemplo abaixo, a classe `Pato`, **herda os membros públicos e protegidos** da classe `Pássaro`, que é passada como parâmetro para `Pato`:\n",
        "\n",
        "```python\n",
        "class Pato(Pássaro):\n",
        "```\n",
        "\n",
        "Agora, a classe `Pato` tem os mesmos membros públicos e protegidos da classe `Pássaro`, ou seja, podemos dizer que um `Pato` é um `Pássaro`.\n",
        "\n",
        "##### **Exemplo**\n",
        "\n",
        "No exemplo abaixo, nós criamos três classes: `Animal` (classe pai), `Pássaro` (classe filha de Animal) e `Pato` (classe filha de Pássaro).\n",
        "\n",
        "\n",
        "<img src=\"https://github.com/zz4fap/python-programming/blob/master/figures/animal_passaro_pato.png?raw=1\" width=\"100px\">\n",
        "\n",
        "\n",
        "Portanto, devido à **transitividade**, podemos dizer que um objeto da classe `Pato` é um `Pássaro`, que por sua vez é um `Animal`.\n",
        "\n",
        "**Observação**:\n",
        "\n",
        "+ Caso a classe pai tenha que ser inicializada, então seu construtor deve ser chamado durante a inicialização da classe filha."
      ]
    },
    {
      "cell_type": "code",
      "execution_count": null,
      "metadata": {
        "id": "mdrzI6g7FvAv"
      },
      "outputs": [],
      "source": [
        "class Animal:\n",
        "\n",
        "    def __init__(self, idade=0, peso=1.0, pernas=2):\n",
        "        self.pernas = pernas\n",
        "        self.idade = idade\n",
        "        self.peso = peso\n",
        "        print(\"Animal está pronto.\")\n",
        "\n",
        "    def quemSouEu(self):\n",
        "        print(\"Sou um Animal.\")\n",
        "\n",
        "    def comer(self):\n",
        "        print(\"comendo...\")\n",
        "\n",
        "    def dormir(self):\n",
        "        print(\"dormindo...\")\n",
        "\n",
        "class Pássaro(Animal):\n",
        "\n",
        "    def __init__(self, idade=0, peso=1.0, corDasPenas='', tipoDoBico='', envergadura=0.0):\n",
        "        # Chamada do construtor da superclasse. (Usado para inicializar seus atributos)\n",
        "        # A chamada abaixo não é necessária caso a superclasse não tenha nada a ser inicializado.\n",
        "        super().__init__(idade, peso)\n",
        "        # Outra forma de chamar o construtor da superclasse é usar o nome dela.\n",
        "        # Animal.__init__(self, idade, peso)\n",
        "        self.corDasPenas = corDasPenas\n",
        "        self.tipoDoBico = tipoDoBico\n",
        "        self.envergadura = envergadura\n",
        "        print(\"Pássaro está pronto.\")\n",
        "\n",
        "    def quemSouEu(self):\n",
        "        # Sobrescreve a implementação herdada de Animal.\n",
        "        print(\"Sou um Pássaro\")\n",
        "\n",
        "    def voar(self):\n",
        "        # Especialização, ou seja, comportamento apenas de pássaros e não de animais em geral.\n",
        "        print(\"voando...\")\n",
        "\n",
        "    def piar(self):\n",
        "        # Especialização, ou seja, comportamento apenas de pássaros e não de animais em geral.\n",
        "        print(\"piu, piu!\")\n",
        "\n",
        "class Pato(Pássaro):\n",
        "\n",
        "    def __init__(self, idade=0, peso=1.0, corDasPenas='', tipoDoBico='pescador', envergadura=2.0):\n",
        "        # Chamada do construtor da superclasse.\n",
        "        # A chamada abaixo não é necessária caso a superclasse não tenha nada a ser inicializado.\n",
        "        super().__init__(idade, peso, corDasPenas, tipoDoBico, envergadura)\n",
        "        # Outra forma de chamar o construtor da superclasse é usar o nome dela.\n",
        "        # Pássaro.__init__(idade, peso, corDasPenas, tipoDoBico, envergadura)\n",
        "        print(\"Pato está pronto.\")\n",
        "\n",
        "    def quemSouEu(self):\n",
        "        # Sobrescreve a implementação herdada de Pássaro.\n",
        "        print(\"Sou um Pato\")\n",
        "\n",
        "    def nadar(self):\n",
        "        # Especialização, ou seja, comportamento apenas de patos e não de pássaros em geral.\n",
        "        print(\"nadando...\")"
      ]
    },
    {
      "cell_type": "markdown",
      "metadata": {
        "id": "YYwN_BxBFvAv"
      },
      "source": [
        "#### Instanciando a classe Pato.\n",
        "\n",
        "**OBS**.: Observem a sequência de construção do objeto. Ela sempre ocorre do objeto menos especializado para o mais."
      ]
    },
    {
      "cell_type": "code",
      "execution_count": null,
      "metadata": {
        "id": "Ve_NU_pYFvAv"
      },
      "outputs": [],
      "source": [
        "# Instanciando a classe Pato.\n",
        "howard = Pato(2, 2.5, 'branco')"
      ]
    },
    {
      "cell_type": "markdown",
      "metadata": {
        "id": "zD05wPEOFvAv"
      },
      "source": [
        "#### Executando algumas ações."
      ]
    },
    {
      "cell_type": "code",
      "execution_count": null,
      "metadata": {
        "id": "RReCDa7QFvAv"
      },
      "outputs": [],
      "source": [
        "# Executando algumas ações.\n",
        "howard.quemSouEu() # método sobrescrito, ou seja, é reimplementado na classe Pato.\n",
        "howard.nadar()     # especialização da classe Pato.\n",
        "howard.voar()      # método (comportamento) herdado da classe Pássaro.\n",
        "howard.comer()     # método (comportamento) herdado da classe Animal.\n",
        "\n",
        "print('Howard tem %d pernas!' % (howard.pernas)) # atributo (característica) herdado da classe Animal."
      ]
    },
    {
      "cell_type": "markdown",
      "metadata": {
        "id": "AyF_3rPHFvAv"
      },
      "source": [
        "#### Observações\n",
        "\n",
        "+ **Toda classe filha herda os métodos públicos e protegidos da classe pai**.\n",
        "    + Podemos ver isso através dos métodos `voar()` e `comer()` das classes `Pássaro` e `Animal`, respectivamente, sendo acessados pelo objeto da classe `Pato`.\n",
        "\n",
        "+ **Classes filhas podem modificar (sobrescrever) os métodos públicos e protegidos de suas classes pai**.\n",
        "    + Podemos ver isso nos métodos `quemSouEu()` tanto de `Pássaro` quanto de `Pato`.\n",
        "    + Lembrem-se que sempre que adicionarmos um método na classe filha com o mesmo nome de um método da classe pai, a herança do método da classe pai será sobrescrita (perdida).\n",
        "\n",
        "+ Além disso, estendemos o comportamento da classe pai, criando um novo método `nadar()` na classe `Pato`.\n",
        "\n",
        "#### IMPORTANTE: inicialização da classe pai\n",
        "\n",
        "+ Quando definimos o método `__init__()` na classe filha, ele não herdará mais a função `__init__()` do pai. Ou seja, a classe filha sobrescreve o comportamento do método `__init__()` da classe pai.\n",
        "\n",
        "+ Portanto, para executarmos o método `__init__()` da classe pai dentro da classe filha e inicializarmos os atributos dela, devemos usar a função `super()` dentro do método `__init__()`, conforme vimos no exemplo acima e mostrado no trecho abaixo.\n",
        "\n",
        "```python\n",
        "class Pato(Pássaro):\n",
        "\n",
        "    def __init__(self, idade=0, peso=1.0, corDasPenas='', tipoDoBico='pescador', envergadura=2.0):\n",
        "        super().__init__(idade, peso, corDasPenas, tipoDoBico, envergadura)\n",
        "```\n",
        "\n",
        "+ Outra forma de executarmos o método `__init__()` da classe pai dentro do `__init__()` da classe filha sem utilizar a função `super()` é através do nome da classe pai:\n",
        "\n",
        "```python\n",
        "class Pato(Pássaro):\n",
        "\n",
        "    def __init__(self, idade=0, peso=1.0, corDasPenas='', tipoDoBico='pescador', envergadura=2.0):\n",
        "        Pássaro.__init__(self, idade, peso, corDasPenas, tipoDoBico, envergadura)\n",
        "```\n",
        "\n",
        "+ Desta forma, para mantermos a inicialização da classe pai, sempre que criamos o método `__init__()` na classe filha, invocamos o `__init__()` da classe pai dentro dele.\n",
        "\n",
        "#### Ordem de inicialização dos objetos\n",
        "\n",
        "+ Vejam no exemplo abaixo que quando instanciamos um objeto da classe `Pato` a ordem de inicialização é da **classe mais alta na hierarquia para a mais baixa**, (ou seja, da classe menos especializada para a mais) assim, `Animal` e depois `Pássaro` são inicializados antes da inicialização de `Pato`."
      ]
    },
    {
      "cell_type": "code",
      "execution_count": null,
      "metadata": {
        "id": "Nu5G4xVoFvAv"
      },
      "outputs": [],
      "source": [
        "# Instanciando a classe Pato.\n",
        "howard = Pato()"
      ]
    },
    {
      "cell_type": "markdown",
      "metadata": {
        "id": "32q3w9VDFvAw"
      },
      "source": [
        "## Tarefas\n",
        "\n",
        "1. <span style=\"color:blue\">**QUIZ - Relacionamentos entre classes**</span>: respondam ao questionário sobre relacionamentos entre classes no MS teams, por favor.\n",
        "2. <span style=\"color:blue\">**Laboratório #6 (Parte II)**</span>: clique em um dos links abaixo para accessar o notebook com os exercícios do laboratório #6.\n",
        "\n",
        "[![Google Colab](https://badgen.net/badge/Launch/on%20Google%20Colab/blue?icon=terminal)](https://colab.research.google.com/github/zz4fap/python-programming/blob/master/labs/Laboratorio6%20(Parte%20II).ipynb)\n",
        "\n",
        "**IMPORTANTE**: Para acessar o material das aulas e realizar as entregas dos exercícios de laboratório, por favor, leiam o tutorial no seguinte link:\n",
        "[Material-das-Aulas](../docs/Acesso-ao-material-das-aulas-resolucao-e-entrega-dos-laboratorios.pdf)"
      ]
    },
    {
      "cell_type": "markdown",
      "metadata": {
        "id": "T50iHYE7FvAw"
      },
      "source": [
        "<img src=\"https://github.com/zz4fap/python-programming/blob/master/figures/obrigado.png?raw=1\">"
      ]
    }
  ],
  "metadata": {
    "kernelspec": {
      "display_name": "Python 3 (ipykernel)",
      "language": "python",
      "name": "python3"
    },
    "language_info": {
      "codemirror_mode": {
        "name": "ipython",
        "version": 3
      },
      "file_extension": ".py",
      "mimetype": "text/x-python",
      "name": "python",
      "nbconvert_exporter": "python",
      "pygments_lexer": "ipython3",
      "version": "3.10.9"
    },
    "colab": {
      "provenance": []
    }
  },
  "nbformat": 4,
  "nbformat_minor": 0
}