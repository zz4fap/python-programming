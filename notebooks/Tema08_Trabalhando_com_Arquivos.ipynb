{
  "cells": [
    {
      "cell_type": "markdown",
      "metadata": {
        "id": "QkEJatWW1HIO"
      },
      "source": [
        "# Trabalhando com Arquivos"
      ]
    },
    {
      "cell_type": "markdown",
      "metadata": {
        "id": "VMf1zytM1HIP"
      },
      "source": [
        "## Introdução\n",
        "\n",
        "Até agora, os dados que utilizamos nos exemplos ou exercícios ou foram inseridos diretamente no código ou foram digitados por nós.\n",
        "\n",
        "Porém, no mundo real, a grande maioria dos dados estão armazenados em arquivos em unidades de armazenamento permanente, como por exemplo, discos rígidos, pen drives, etc.\n",
        "\n",
        "Vocês já conhecem vários tipos de arquivo, como por exemplo, seus arquivos de música (e.g., .mp3), arquivos de vídeo (e.g., .mp4, .avi), arquivos de texto (e.g., .txt), etc.\n",
        "\n",
        "Geralmente dividimos os arquivos em duas categorias:\n",
        "\n",
        "+ arquivos de texto, os quais contêm caracteres alfanuméricos (e.g., .txt).\n",
        "+ arquivos binários, os quais contêm dados binários que só podem ser interpretados por uma aplicação específica (e.g., .avi, .mp3).\n",
        "\n",
        "Neste tópico, nós veremos de maneira sucinta os conceitos necessários para se trabalhar com arquivos em Python."
      ]
    },
    {
      "cell_type": "markdown",
      "metadata": {
        "id": "FMgTE7Ih1HIP"
      },
      "source": [
        "## Abrindo e fechando arquivos\n",
        "\n",
        "Para trabalharmos com os dados contidos em um arquivo, devemos abrí-lo com a função embutida `open` antes de usá-lo e fechá-lo com o método `close` após termos terminado de utilizá-lo.\n",
        "\n",
        "Depois de aberto, um arquivo passa a ser um **objeto** do tipo `_io.TextIOWrapper`, de maneira idêntica a outros objetos.\n",
        "\n",
        "A tabela abaixo apresenta as várias formas de se usar a função embutida `open` para abertura de arquivos e o método `close`, o qual é utilizado para fechá-los.\n",
        "\n",
        "| Função/Método |               Modo             |                                               Explicação                                               |\n",
        "|:------:|:--------------------------------------:|:-----------------------------------------------------------------------------:|\n",
        "|  open  | file = open(nome_arquivo,'r') | Abre um arquivo apenas para leitura e retorna uma referência para um objeto. Se tentarmos escrever algo nele, uma exceção é lançada. |\n",
        "|  open  | file = open(nome_arquivo,'rb') | Abre um arquivo para leitura em formato binário e retorna uma referência para um objeto. |\n",
        "|  open  | file = open(nome_arquivo,'w') | Abre um arquivo para escrita e retorna uma referência para um objeto Se o arquivo já existir e contiver dados, todos são apagados. Caso não exista, ele é criado. |\n",
        "|  open  | file = open(nome_arquivo,'wb') | Abre um arquivo para escrita em formato binário e retorna uma referência para um objeto. Se o arquivo já existir e contiver dados, todos são apagados. Caso não exista, ele é criado. |\n",
        "|  open  | file = open(nome_arquivo,'a') | Abre um arquivo para escrita sempre anexando novos valores a ele. Retorna uma referência para um objeto. |\n",
        "|  open  | file = open(nome_arquivo,'ab') | Abre um arquivo para escrita sempre anexando novos valores binários a ele. Retorna uma referência para um objeto. |\n",
        "|  close |   file.close()  | Fecha o arquivo utilizando a referência obtida durante a abertura do mesmo.                 |\n",
        "\n",
        "**IMPORTANTE**:\n",
        "\n",
        "+ Por padrão, ou seja, se nenhum modo for especificado, um arquivo é sempre aberto para leitura de arquivos de texto.\n",
        "+ Podemos abrir um arquivo para atualização (leitura e escrita) com a combinação do modo `+` com algum dos modos anteriores.\n",
        "    * Por exemplo, `w+` abre um arquivo de texto para escrita e leitura. Já `wb+` abre um arquivo binário para escrita e leitura.\n",
        "\n",
        "### Exemplo\n",
        "\n",
        "Vamos usar um arquivo já existente que contém dados de funcionários de uma empresa. O conteúdo do arquivo é o seguinte:\n",
        "\n",
        "|      Nome     | Registro |  Cargo  | Salário | Contratação |\n",
        "|:-------------:|:--------:|:-------:|:-------:|:-----------:|\n",
        "| João da Silva |   10001  | Gerente | 5000.00 |  01/02/2019 |\n",
        "|Alice de Moraes|   10002  | Secretaria | 2500.00 | 11/11/2017 |\n",
        "|Anabela Matias\t|   10003  | Analista | 3200.00 | 05/03/2020 |\n",
        "|Roberto Amaral|10004|Engenheiro|3500.00|17/07/2016|\n",
        "|Thais Lima|10005|Psicologa|3100.00|08/09/2019|\n",
        "\n",
        "Para abrir esse arquivo utilizamos a função embutida `open`.\n",
        "\n",
        "Como não passamos nenhum modo, o arquivo é aberto apenas para leitura."
      ]
    },
    {
      "cell_type": "code",
      "execution_count": null,
      "metadata": {
        "id": "ar8jO3m11HIP",
        "outputId": "f51e3c5a-0cbd-4262-ec0d-4d7e9afbe192"
      },
      "outputs": [
        {
          "name": "stdout",
          "output_type": "stream",
          "text": [
            "Tipo do objeto retornado pela função open: <class '_io.TextIOWrapper'>\n"
          ]
        }
      ],
      "source": [
        "f = open('empresa.dat')\n",
        "\n",
        "print('Tipo do objeto retornado pela função open:', type(f))"
      ]
    },
    {
      "cell_type": "markdown",
      "metadata": {
        "id": "IGH1icB71HIQ"
      },
      "source": [
        "A variável `f` mantém uma referência ao objeto do tipo `_io.TextIOWrapper` retornado pela função `open`.\n",
        "\n",
        "Quando terminamos de trabalhar com o arquivo, podemos fechá-lo usando o método `close` da classe `_io.TextIOWrapper`.\n",
        "\n",
        "Depois que o arquivo estiver fechado, qualquer tentativa de usar a referência armazenada em `f` resultará em erro."
      ]
    },
    {
      "cell_type": "code",
      "execution_count": null,
      "metadata": {
        "id": "tetgSWxQ1HIQ"
      },
      "outputs": [],
      "source": [
        "f.close()"
      ]
    },
    {
      "cell_type": "markdown",
      "metadata": {
        "id": "FTywnYIA1HIR"
      },
      "source": [
        "## Lendo arquivos\n",
        "\n",
        "Para ler o arquivo **inteiro de uma só vez**, usamos o método `read()`."
      ]
    },
    {
      "cell_type": "code",
      "execution_count": null,
      "metadata": {
        "id": "qHkVwrmL1HIR",
        "outputId": "dcc35ff5-9c64-44d9-df4e-c95ee3e15271"
      },
      "outputs": [
        {
          "name": "stdout",
          "output_type": "stream",
          "text": [
            "Tipo do retorno do método read: <class 'str'>\n",
            "Conteúdo do arquivo\n",
            "Joao da Silva\t10001\tGerente\t\t5000.00\t01/02/2019\n",
            "Alice de Moraes\t10002\tSecretaria \t2500.00\t11/11/2017\n",
            "Anabela Matias\t10003\tAnalista\t3200.00\t05/03/2020\n",
            "Roberto Amaral\t10004\tEngenheiro\t3500.00 17/07/2016\n",
            "Thais Lima\t10005\tPsicologa\t3100.00 08/09/2019\n",
            "\n"
          ]
        }
      ],
      "source": [
        "# Abrimos um arquivo de texto apenas para leitura.\n",
        "f = open('empresa.dat')\n",
        "\n",
        "# Como este é um arquivo com texto, o método read retorna uma string com todo o conteúdo do arquivo.\n",
        "conteudo = f.read()\n",
        "\n",
        "print('Tipo do retorno do método read:', type(conteudo))\n",
        "print('Conteúdo do arquivo')\n",
        "print(conteudo)\n",
        "\n",
        "# Fechamos o arquivo.\n",
        "f.close()"
      ]
    },
    {
      "cell_type": "markdown",
      "metadata": {
        "id": "zggQJ8FF1HIR"
      },
      "source": [
        "**IMPORTANTE**:\n",
        "\n",
        "+ Usar esta forma de leitura de um arquivo nem sempre é uma boa ideia, pois um arquivo pode ser muito grande para ser lido e caber na memória.\n",
        "+ Portanto, é uma boa prática ler um tamanho conhecido do arquivo, por exemplo, um caracter ou uma linha de cada vez."
      ]
    },
    {
      "cell_type": "markdown",
      "metadata": {
        "id": "VZVNgML51HIR"
      },
      "source": [
        "Podemos ler um determinado número de caracteres passando esse número como parâmetro para a função read."
      ]
    },
    {
      "cell_type": "code",
      "execution_count": null,
      "metadata": {
        "id": "vhUkEiOB1HIR",
        "outputId": "7249a55e-a832-4ac6-9b4b-433c449bab5a"
      },
      "outputs": [
        {
          "name": "stdout",
          "output_type": "stream",
          "text": [
            "J\n",
            "oao\n",
            " da \n"
          ]
        }
      ],
      "source": [
        "f = open('empresa.dat')\n",
        "\n",
        "char = f.read(1)\n",
        "print(char)\n",
        "\n",
        "chars = f.read(3)\n",
        "print(chars)\n",
        "\n",
        "chars = f.read(4)\n",
        "print(chars)\n",
        "\n",
        "f.close()"
      ]
    },
    {
      "cell_type": "markdown",
      "metadata": {
        "id": "fGzIoDjb1HIR"
      },
      "source": [
        "**IMPORTANTE**:\n",
        "\n",
        "+ Percebam que cada nova chamada ao método `read` retorna os caracteres a partir da posição da última leitura."
      ]
    },
    {
      "cell_type": "markdown",
      "metadata": {
        "id": "IFXk1aa81HIR"
      },
      "source": [
        "Outra opção é o método `readline()`, o qual lê uma linha de cada vez do arquivo e retorna essa linha como uma string.\n",
        "\n",
        "A string retornada pelo método `readline()` conterá o caractere de nova linha (ou quebra de linha, `'\\n'`) ao final.\n",
        "\n",
        "**IMPORTANTE**:\n",
        "\n",
        "+ Uma linha de um arquivo é definida como uma sequência de caracteres até **e incluindo** o caractere de quebra de linha `\\n`.\n",
        "+ Se **imprimirmos** uma string contendo um caractere de quebra de linha nós não veremos o `\\n`, apenas veremos o seu efeito, ou seja, a mudança de linha.\n",
        "\n",
        "### Exemplo\n",
        "\n",
        "Usando o método `readline()` para ler as 5 linhas do arquivo `empresa.dat`."
      ]
    },
    {
      "cell_type": "code",
      "execution_count": null,
      "metadata": {
        "id": "dN_vlsc01HIR",
        "outputId": "90d38e34-b520-419f-cbf6-0788e624859e"
      },
      "outputs": [
        {
          "name": "stdout",
          "output_type": "stream",
          "text": [
            "Joao da Silva\t10001\tGerente\t\t5000.00\t01/02/2019\n",
            "Alice de Moraes\t10002\tSecretaria \t2500.00\t11/11/2017\n",
            "Anabela Matias\t10003\tAnalista\t3200.00\t05/03/2020\n",
            "Roberto Amaral\t10004\tEngenheiro\t3500.00 17/07/2016\n",
            "Thais Lima\t10005\tPsicologa\t3100.00 08/09/2019\n"
          ]
        }
      ],
      "source": [
        "f = open('empresa.dat')\n",
        "\n",
        "linha1 = f.readline()\n",
        "linha2 = f.readline()\n",
        "linha3 = f.readline()\n",
        "linha4 = f.readline()\n",
        "linha5 = f.readline()\n",
        "\n",
        "# A função embutida print, sempre adiciona um caractere de quebra de linha à\n",
        "# string sendo impressa. Para evitarmos isso, usamos o parâmetro end=''.\n",
        "print(linha1, end='')\n",
        "print(linha2, end='')\n",
        "print(linha3, end='')\n",
        "print(linha4, end='')\n",
        "print(linha5, end='')\n",
        "\n",
        "f.close()"
      ]
    },
    {
      "cell_type": "markdown",
      "metadata": {
        "id": "a8UNVDV61HIS"
      },
      "source": [
        "Podemos ler todas as linhas de um arquivo usando o método `readlines()`.\n",
        "\n",
        "Ele retorna uma lista, onde cada elemento é uma das linhas do arquivo."
      ]
    },
    {
      "cell_type": "code",
      "execution_count": null,
      "metadata": {
        "id": "TXXs5rJQ1HIS",
        "outputId": "b1c852c5-b683-4f49-a4be-c58991d1c46e"
      },
      "outputs": [
        {
          "name": "stdout",
          "output_type": "stream",
          "text": [
            "Conteúdo: ['Joao da Silva\\t10001\\tGerente\\t\\t5000.00\\t01/02/2019\\n', 'Alice de Moraes\\t10002\\tSecretaria \\t2500.00\\t11/11/2017\\n', 'Anabela Matias\\t10003\\tAnalista\\t3200.00\\t05/03/2020\\n', 'Roberto Amaral\\t10004\\tEngenheiro\\t3500.00 17/07/2016\\n', 'Thais Lima\\t10005\\tPsicologa\\t3100.00 08/09/2019\\n']\n",
            "\n",
            "---------------------------\n",
            "Imprimindo linha por linha.\n",
            "---------------------------\n",
            "Joao da Silva\t10001\tGerente\t\t5000.00\t01/02/2019\n",
            "Alice de Moraes\t10002\tSecretaria \t2500.00\t11/11/2017\n",
            "Anabela Matias\t10003\tAnalista\t3200.00\t05/03/2020\n",
            "Roberto Amaral\t10004\tEngenheiro\t3500.00 17/07/2016\n",
            "Thais Lima\t10005\tPsicologa\t3100.00 08/09/2019\n"
          ]
        }
      ],
      "source": [
        "f = open('empresa.dat')\n",
        "\n",
        "linhas = f.readlines()\n",
        "\n",
        "print('Conteúdo:', linhas)\n",
        "\n",
        "print('\\n---------------------------')\n",
        "print('Imprimindo linha por linha.')\n",
        "print('---------------------------')\n",
        "for linha in linhas:\n",
        "    print(linha, end='')\n",
        "\n",
        "f.close()"
      ]
    },
    {
      "cell_type": "markdown",
      "metadata": {
        "id": "SoHovDYD1HIS"
      },
      "source": [
        "Nós também podemos percorrer as linhas de um arquivo com o laço de repetição `while`.\n",
        "\n",
        "No exemplo abaixo, a condição do laço `while` se torna falsa quando a última linha do arquivo tiver sido lida."
      ]
    },
    {
      "cell_type": "code",
      "execution_count": null,
      "metadata": {
        "id": "sISIf_Na1HIS",
        "outputId": "5a461825-2d7b-4676-88f8-58dedf77b2a8"
      },
      "outputs": [
        {
          "name": "stdout",
          "output_type": "stream",
          "text": [
            "Joao da Silva\t10001\tGerente\t\t5000.00\t01/02/2019\n",
            "Número de caracteres: 53\n",
            "--------------------\n",
            "Alice de Moraes\t10002\tSecretaria \t2500.00\t11/11/2017\n",
            "Número de caracteres: 49\n",
            "--------------------\n",
            "Anabela Matias\t10003\tAnalista\t3200.00\t05/03/2020\n",
            "Número de caracteres: 51\n",
            "--------------------\n",
            "Roberto Amaral\t10004\tEngenheiro\t3500.00 17/07/2016\n",
            "Número de caracteres: 46\n",
            "--------------------\n",
            "Thais Lima\t10005\tPsicologa\t3100.00 08/09/2019\n",
            "Número de caracteres: 0\n",
            "--------------------\n"
          ]
        }
      ],
      "source": [
        "f = open('empresa.dat')\n",
        "\n",
        "# Lê a primeira linha do arquivo.\n",
        "linha = f.readline()\n",
        "\n",
        "# Termina a execução do laço quando linha for uma string vazia.\n",
        "while linha:\n",
        "    # Imprime o conteúdo da linha.\n",
        "    print(linha, end='')\n",
        "    # Lê a próxima linha.\n",
        "    linha = f.readline()\n",
        "    # Imprime o número de caracteres da próxima linha.\n",
        "    print('Número de caracteres:',len(linha))\n",
        "    print('--------------------')\n",
        "\n",
        "f.close()"
      ]
    },
    {
      "cell_type": "markdown",
      "metadata": {
        "id": "kGHywEZh1HIS"
      },
      "source": [
        "#### A instrução `with`\n",
        "\n",
        "Até agora, precisamos sempre nos lembrar de fechar o arquivo, porém, a instrução `with` pode nos ajudar com esta tarefa.\n",
        "\n",
        "A instrução `with` automaticamente se encarrega de fechar o arquivo assim que o fluxo de execução do código sai do bloco da instrução, mesmo em alguns casos de erro."
      ]
    },
    {
      "cell_type": "code",
      "execution_count": null,
      "metadata": {
        "id": "HLB78I-u1HIS",
        "outputId": "47eab51b-baa3-49f1-d51f-7a179b045a2b"
      },
      "outputs": [
        {
          "name": "stdout",
          "output_type": "stream",
          "text": [
            "Joao da Silva\t10001\tGerente\t\t5000.00\t01/02/2019\n",
            "Alice de Moraes\t10002\tSecretaria \t2500.00\t11/11/2017\n",
            "Anabela Matias\t10003\tAnalista\t3200.00\t05/03/2020\n",
            "Roberto Amaral\t10004\tEngenheiro\t3500.00 17/07/2016\n",
            "Thais Lima\t10005\tPsicologa\t3100.00 08/09/2019\n"
          ]
        }
      ],
      "source": [
        "with open('empresa.dat') as f:\n",
        "    for linha in f:\n",
        "        print(linha, end='')"
      ]
    },
    {
      "cell_type": "markdown",
      "metadata": {
        "id": "Cb8ZPGmm1HIS"
      },
      "source": [
        "Entretanto, caso tentássemos abrir um arquivo inexistente, o interpretador retornaria uma exceção."
      ]
    },
    {
      "cell_type": "code",
      "execution_count": null,
      "metadata": {
        "id": "TgmF8Guo1HIS",
        "outputId": "0a1cf528-de70-4ea4-cd6f-272ba8355e1e"
      },
      "outputs": [
        {
          "ename": "FileNotFoundError",
          "evalue": "[Errno 2] No such file or directory: 'arquivo_nao_existente.dat'",
          "output_type": "error",
          "traceback": [
            "\u001b[1;31m---------------------------------------------------------------------------\u001b[0m",
            "\u001b[1;31mFileNotFoundError\u001b[0m                         Traceback (most recent call last)",
            "\u001b[1;32m<ipython-input-50-567a1ba901de>\u001b[0m in \u001b[0;36m<module>\u001b[1;34m\u001b[0m\n\u001b[1;32m----> 1\u001b[1;33m \u001b[1;32mwith\u001b[0m \u001b[0mopen\u001b[0m\u001b[1;33m(\u001b[0m\u001b[1;34m'arquivo_nao_existente.dat'\u001b[0m\u001b[1;33m)\u001b[0m \u001b[1;32mas\u001b[0m \u001b[0mf\u001b[0m\u001b[1;33m:\u001b[0m\u001b[1;33m\u001b[0m\u001b[1;33m\u001b[0m\u001b[0m\n\u001b[0m\u001b[0;32m      2\u001b[0m     \u001b[1;32mfor\u001b[0m \u001b[0mlinha\u001b[0m \u001b[1;32min\u001b[0m \u001b[0mf\u001b[0m\u001b[1;33m:\u001b[0m\u001b[1;33m\u001b[0m\u001b[1;33m\u001b[0m\u001b[0m\n\u001b[0;32m      3\u001b[0m         \u001b[0mprint\u001b[0m\u001b[1;33m(\u001b[0m\u001b[0mlinha\u001b[0m\u001b[1;33m,\u001b[0m \u001b[0mend\u001b[0m\u001b[1;33m=\u001b[0m\u001b[1;34m''\u001b[0m\u001b[1;33m)\u001b[0m\u001b[1;33m\u001b[0m\u001b[1;33m\u001b[0m\u001b[0m\n",
            "\u001b[1;31mFileNotFoundError\u001b[0m: [Errno 2] No such file or directory: 'arquivo_nao_existente.dat'"
          ]
        }
      ],
      "source": [
        "with open('arquivo_nao_existente.dat') as f:\n",
        "    for linha in f:\n",
        "        print(linha, end='')"
      ]
    },
    {
      "cell_type": "markdown",
      "metadata": {
        "id": "fdJ4-Ojk1HIS"
      },
      "source": [
        "#### As instruções `try` e `except`\n",
        "\n",
        "Usamos essas instruções para tratar exceções.\n",
        "\n",
        "No exemplo abaixo, mesmo que o arquivo não existisse, as instruções **try** e **except** tratariam a exceção e o programa continuaria sua execução normalmente."
      ]
    },
    {
      "cell_type": "code",
      "execution_count": null,
      "metadata": {
        "id": "v9vLEMWX1HIT",
        "outputId": "05045716-980e-4ecc-d2bd-ec3c4c0637cf"
      },
      "outputs": [
        {
          "name": "stdout",
          "output_type": "stream",
          "text": [
            "O arquivo não foi encontrado...\n",
            "Execução normal após uma exceção.\n"
          ]
        }
      ],
      "source": [
        "try:\n",
        "    with open('arquivo_nao_existente.dat') as f:\n",
        "        for linha in f:\n",
        "            print(linha, end='')\n",
        "except FileNotFoundError:\n",
        "    print(\"O arquivo não foi encontrado...\")\n",
        "\n",
        "print('Execução normal após uma exceção.')"
      ]
    },
    {
      "cell_type": "markdown",
      "metadata": {
        "id": "sr6GZjdR1HIT"
      },
      "source": [
        "### Arquivos binários\n",
        "\n",
        "Ao contrário dos arquivos em modo texto, o conteúdo (i.e., os bytes) de arquivos binários não podem ser interpretados por humanos. Quando abertos em um editor de texto, os dados ficam irreconhecíveis.\n",
        "\n",
        "Eles podem ser lidos por leitores hexadecimais, como por exemplo https://hexed.it/\n",
        "\n",
        "Arquivos binários podem variar de arquivos de imagem como JPEGs ou GIFs, arquivos de áudio como MP3s ou documentos como Word ou PDF."
      ]
    },
    {
      "cell_type": "markdown",
      "metadata": {
        "id": "Tm3eYNbi1HIT"
      },
      "source": [
        "Podemos utilizar a função `read()` para ler todos os bytes do arquivo de uma só vez."
      ]
    },
    {
      "cell_type": "code",
      "execution_count": null,
      "metadata": {
        "id": "UILE90tU1HIT",
        "outputId": "c417493c-54a5-45ee-e4c0-8fbbec0829ce"
      },
      "outputs": [
        {
          "name": "stdout",
          "output_type": "stream",
          "text": [
            "b'8\\n\\x0f\\x14\\x19'\n"
          ]
        }
      ],
      "source": [
        "with open('binaryfile.bin', 'rb') as f:\n",
        "    num = f.read()\n",
        "    print(num)"
      ]
    },
    {
      "cell_type": "markdown",
      "metadata": {
        "id": "Iqjntpfj1HIU"
      },
      "source": [
        "Podemos ler um determinado número de **bytes** passando esse número como parâmetro para a função `read`."
      ]
    },
    {
      "cell_type": "code",
      "execution_count": null,
      "metadata": {
        "id": "F0B-q0Q91HIU",
        "outputId": "6e68f0f1-7b94-482f-ee44-dafbfcdb9e2f"
      },
      "outputs": [
        {
          "name": "stdout",
          "output_type": "stream",
          "text": [
            "b'8'\n",
            "b'\\n\\x0f'\n"
          ]
        }
      ],
      "source": [
        "with open('binaryfile.bin', 'rb') as f:\n",
        "    byte = f.read(1)\n",
        "    print(byte)\n",
        "    bytess = f.read(2)\n",
        "    print(bytess)"
      ]
    },
    {
      "cell_type": "markdown",
      "metadata": {
        "id": "HzDqQrOS1HIU"
      },
      "source": [
        "**OBS.**: Cada nova chamada ao método read retorna os bytes a partir da posição da última leitura."
      ]
    },
    {
      "cell_type": "markdown",
      "metadata": {
        "id": "I90e3g5Z1HIU"
      },
      "source": [
        "## Escrevendo em arquivos"
      ]
    },
    {
      "cell_type": "markdown",
      "metadata": {
        "id": "ebG5F-K41HIU"
      },
      "source": [
        "Para escrever em um arquivo, usamos o método `write()`.\n",
        "\n",
        "Após sua execução, o método retorna o número de caracteres escritos no arquivo.\n",
        "\n",
        "### Exemplo\n",
        "\n",
        "No exemplo abaixo, escrevemos em um arquivo de **log** algumas datas e as respectivas temperaturas médias daqueles dias."
      ]
    },
    {
      "cell_type": "code",
      "execution_count": null,
      "metadata": {
        "id": "9t1rsq3D1HIU",
        "outputId": "a9229036-2b7a-4450-dae8-dc127dad977e"
      },
      "outputs": [
        {
          "name": "stdout",
          "output_type": "stream",
          "text": [
            "Número total de caracteres escritos no arquivo: 71\n",
            "\n",
            "Conteúdo do arquivo:\n",
            "15/10/2020 - 29.1\n",
            "16/10/2020 - 25.3\n",
            "17/10/2020 - 20.9\n",
            "18/10/2020 - 31.5"
          ]
        }
      ],
      "source": [
        "# Abro ou crio um arquivo para escrita em modo texto. Se ele já existe e houver conteúdo, todo ele é apagado.\n",
        "with open('log.txt', 'w') as f:\n",
        "    numCaracteres  = f.write('15/10/2020 - 29.1\\n')\n",
        "    numCaracteres += f.write('16/10/2020 - 25.3\\n')\n",
        "    numCaracteres += f.write('17/10/2020 - 20.9\\n')\n",
        "    numCaracteres += f.write('18/10/2020 - 31.5')\n",
        "\n",
        "    print('Número total de caracteres escritos no arquivo:', numCaracteres)\n",
        "\n",
        "# lendo o conteúdo do arquivo.\n",
        "print('\\nConteúdo do arquivo:')\n",
        "with open('log.txt') as f:\n",
        "    for linha in f:\n",
        "        print(linha, end='')"
      ]
    },
    {
      "cell_type": "markdown",
      "metadata": {
        "id": "en50br8a1HIU"
      },
      "source": [
        "O método `writelines()` escreve os elementos de uma lista no arquivo.\n",
        "\n",
        "Adiciono o caracter de quebra de linha ao final de cada elemento se quero que cada um deles seja escrito em uma nova linha."
      ]
    },
    {
      "cell_type": "code",
      "execution_count": null,
      "metadata": {
        "id": "Q49iYFf01HIV",
        "outputId": "d483b0d3-162f-4395-8cb1-890eae910003"
      },
      "outputs": [
        {
          "name": "stdout",
          "output_type": "stream",
          "text": [
            "Olá!\n",
            "Vejo vocês em breve!\n",
            "Tchau!\n"
          ]
        }
      ],
      "source": [
        "with open('exemplo1.txt', 'w') as f:\n",
        "    f.writelines(['Olá!\\n', 'Vejo vocês em breve!\\n', 'Tchau!'])\n",
        "\n",
        "# lendo conteúdo do arquivo.\n",
        "with open(\"exemplo1.txt\", \"r\") as f:\n",
        "    print(f.read())"
      ]
    },
    {
      "cell_type": "markdown",
      "metadata": {
        "id": "IzM90enE1HIV"
      },
      "source": [
        "#### Escrevendo em arquivos binários\n",
        "\n",
        "Usamos o método `write` para escrever em tais arquivos, porém, o método espera que sejam passados bytes para ele.\n",
        "\n",
        "O código abaixo escreve uma sequência de 3 bytes, `b'\\x05\\x11\\xaa'` no arquivo.\n",
        "\n",
        "**OBS.**: O `b` no início da string é uma indicação de que os valores devem ser interpretados como bytes ao invés de de uma string."
      ]
    },
    {
      "cell_type": "code",
      "execution_count": null,
      "metadata": {
        "id": "Vio5ZUE_1HIV",
        "outputId": "6ff5bc21-159d-40d7-ed6d-e5700374fbc1"
      },
      "outputs": [
        {
          "name": "stdout",
          "output_type": "stream",
          "text": [
            "b'\\x05\\x11\\xaa'\n"
          ]
        }
      ],
      "source": [
        "with open('binfile.bin', 'wb') as f:\n",
        "    f.write(b'\\x05\\x11\\xaa')\n",
        "\n",
        "with open('binfile.bin', 'rb') as f:\n",
        "    print(f.read())"
      ]
    },
    {
      "cell_type": "markdown",
      "metadata": {
        "id": "4blQyE4w1HIV"
      },
      "source": [
        "O código a seguir armazena uma lista de números em um arquivo binário.\n",
        "\n",
        "A lista deve primeiro ser convertida em um vetor de bytes antes de ser escrita no arquivo.\n",
        "\n",
        "Usamos a função embutida `bytearray()` para criar uma representação em formato de bytes do objeto passado para a função."
      ]
    },
    {
      "cell_type": "code",
      "execution_count": null,
      "metadata": {
        "id": "Y6rYeIqs1HIV",
        "outputId": "54504424-0058-4ecf-9e49-215eabf4f21b"
      },
      "outputs": [
        {
          "name": "stdout",
          "output_type": "stream",
          "text": [
            "b'\\x05\\n\\x0f\\x14\\x19'\n"
          ]
        }
      ],
      "source": [
        "with open('binfile.bin', 'wb') as f:\n",
        "    num = [5, 10, 15, 20, 25]\n",
        "    arr = bytearray(num)\n",
        "    f.write(arr)\n",
        "\n",
        "with open('binfile.bin', 'rb') as f:\n",
        "    print(f.read())"
      ]
    },
    {
      "cell_type": "markdown",
      "metadata": {
        "id": "zcqyZbo31HIZ"
      },
      "source": [
        "## Trabalhando com arquivos CSV\n",
        "\n",
        "CSV (Comma Separated Values) é um formato de arquivo usado para armazenar dados em forma tabular, ou seja, em forma de tabela, como por exemplo, os dados de uma planilha ou de um banco de dados.\n",
        "\n",
        "Um arquivo CSV armazena dados em forma de texto, onde cada linha do arquivo é um registro de dados.\n",
        "\n",
        "Cada registro consiste em um ou mais campos, separados por vírgulas.\n",
        "\n",
        "O uso da vírgula como separador (ou delimitador) de campo é a origem do nome para este formato de arquivo, porém, outros separadores podem ser utilizados, como por exemplo, `;`, `-`, ` `, etc.\n",
        "\n",
        "O exemplo abaixo mostra o conteúdo de um arquivo CSV com informações sobre carros.\n",
        "\n",
        "```csv\n",
        "Ano,Fabricante,Modelo,Preco\n",
        "1997,Ford,Fiesta,3000.00\n",
        "1999,Fiat,Palio,4900.00\n",
        "1999,Fiat,Siena,5000.00\n",
        "1996,Jeep,Grand Cherokee,4799.00\n",
        "```\n",
        "\n",
        "Para trabalhar com arquivos CSV em Python, existe um módulo chamado `csv` que precisa ser importado.\n",
        "\n",
        "\n",
        "### Exemplo\n",
        "\n",
        "No exemplo abaixo, nós lemos um arquivo CSV com algumas informações de funcionários de uma empresa onde a primeira linha contém os nomes das colunas.\n",
        "\n",
        "A leitura de um arquivo CSV é feita usando-se um objeto do tipo `reader`.\n",
        "\n",
        "Cada linha retornada pelo objeto do tipo `reader` é uma **lista** de elementos do tipo **string** contendo os dados encontrados após a remoção dos separadores."
      ]
    },
    {
      "cell_type": "code",
      "execution_count": null,
      "metadata": {
        "id": "L5I_Qa_d1HIZ",
        "outputId": "edbf1075-0578-4cd3-fe18-380d76e5726a"
      },
      "outputs": [
        {
          "name": "stdout",
          "output_type": "stream",
          "text": [
            "      Nome\t  Registro\t     Cargo\t   Salario\t  Admissao\n",
            "Joao da Silva\t     10001\t   Gerente\t   5000.00\t01/02/2019\n",
            "Alice de Moraes\t     10002\tSecretaria\t   2500.00\t11/11/2017\n",
            "Anabel Reis\t     10003\t  Analista\t   3200.00\t05/03/2020\n",
            "Roberto Amaral\t     10004\tEngenheiro\t   3500.00\t17/07/2016\n",
            "Thais Lima\t     10005\t Psicologa\t   3100.00\t08/09/2019\n",
            "\n",
            "Número de linhas processadas é igual a: 6.\n"
          ]
        }
      ],
      "source": [
        "import csv\n",
        "\n",
        "with open('empresa.csv') as f:\n",
        "    # Normalmente o delimitador de arquivos CSV é a vírgula,\n",
        "    # mas isso pode ser alterado através do parâmetro delimiter.\n",
        "    csv_reader = csv.reader(f, delimiter=',')\n",
        "    line_count = 0\n",
        "    for linha in csv_reader:\n",
        "        print('%10s\\t%10s\\t%10s\\t%10s\\t%10s' % tuple(linha))\n",
        "        line_count += 1\n",
        "    print('\\nNúmero de linhas processadas é igual a: %d.' % (line_count))"
      ]
    },
    {
      "cell_type": "markdown",
      "metadata": {
        "id": "MSG6wA1x1HIZ"
      },
      "source": [
        "Nós podemos escrever em um arquivo CSV usando um objeto do tipo `writer` e seu método `write_row()`, como mostrado no exemplo abaixo."
      ]
    },
    {
      "cell_type": "code",
      "execution_count": null,
      "metadata": {
        "id": "goeaW__Q1HIZ",
        "outputId": "67904c01-77b0-4790-cf0b-9fab07a33734"
      },
      "outputs": [
        {
          "name": "stdout",
          "output_type": "stream",
          "text": [
            "Nome,Cargo,Salario\n",
            "João Marcos,Financas,2100.00\n",
            "Valeria Vilela,Suporte,1200.00\n"
          ]
        }
      ],
      "source": [
        "import csv\n",
        "\n",
        "# O parâmetro newline='' evita que se adicione uma quebra de linha\n",
        "# adicional à cada linha escrita no Windows, pois ele utiliza \\r\\n,\n",
        "# o que acaba sendo interpretado pelo como uma segunda quebra de linha.\n",
        "# Para mais informações:\n",
        "# [1] https://docs.python.org/3/library/functions.html#open\n",
        "# [2] https://docs.python.org/3/glossary.html#term-universal-newlines\n",
        "with open('funcionarios.csv', mode='w', newline='') as f:\n",
        "    # Obtemos um objeto to tipo writer.\n",
        "    csv_writer = csv.writer(f, delimiter=',')\n",
        "\n",
        "    csv_writer.writerow(['Nome', 'Cargo', 'Salario'])\n",
        "    csv_writer.writerow(['João Marcos', 'Financas', '2100.00'])\n",
        "    csv_writer.writerow(['Valeria Vilela', 'Suporte', '1200.00'])\n",
        "\n",
        "# Lendo o conteúdo do arquivo.\n",
        "with open('funcionarios.csv') as f:\n",
        "    for linha in f:\n",
        "        print(linha, end='')"
      ]
    },
    {
      "cell_type": "markdown",
      "metadata": {
        "id": "TQvt28M31HIZ"
      },
      "source": [
        "Podemos escrever várias linhas de uma só vez com o método `writerows()`, como mostrado no exemplo abaixo.\n",
        "\n",
        "Para escrever várias linhas, passamos uma **lista de listas** para o método, onde cada uma das listas é escrita em uma linha do arquivo CSV."
      ]
    },
    {
      "cell_type": "code",
      "execution_count": null,
      "metadata": {
        "id": "EKdZ2gwo1HIZ",
        "outputId": "6f933bde-5064-4968-b448-b454978e6d77"
      },
      "outputs": [
        {
          "name": "stdout",
          "output_type": "stream",
          "text": [
            "Nome,Cargo,Salario\n",
            "João Marcos,Financas,2100.00\n",
            "Valeria Vilela,Suporte,1200.00\n"
          ]
        }
      ],
      "source": [
        "import csv\n",
        "\n",
        "# Lista de listas, onde cada lista será uma linha do arquivo CSV.\n",
        "linhas = [\n",
        "    ['Nome', 'Cargo', 'Salario'],\n",
        "    ['João Marcos', 'Financas', '2100.00'],\n",
        "    ['Valeria Vilela', 'Suporte', '1200.00']\n",
        "]\n",
        "\n",
        "# Escrevendo no arquivo.\n",
        "with open('funcionarios2.csv', mode='w', newline='') as f:\n",
        "    csv_writer = csv.writer(f, delimiter=',')\n",
        "\n",
        "    csv_writer.writerows(linhas)\n",
        "\n",
        "# Lendo o arquivo.\n",
        "with open('funcionarios2.csv') as f:\n",
        "    for linha in f:\n",
        "        print(linha, end='')"
      ]
    },
    {
      "cell_type": "markdown",
      "metadata": {
        "id": "JA3XwIvs1HIZ"
      },
      "source": [
        "## Trabalhando com arquivos JSON\n",
        "\n",
        "JSON (JavaScript Object Notation) é um formato de dados muito popular usado para representar dados estruturados.\n",
        "\n",
        "É comum transmitir e receber dados entre um servidor e um aplicativo web no formato JSON.\n",
        "\n",
        "Além disso, o banco de dados orientado a documentos, MongoDB, utiliza arquivos JSON para armazenar informações.\n",
        "\n",
        "Um arquivo JSON é muito similar a um dicionário em Python.\n",
        "\n",
        "O exemplo a seguir mostra uma possível representação JSON que descreve os atributos de uma pessoa.\n",
        "\n",
        "```json\n",
        "{\n",
        "  \"nome\": \"João\",\n",
        "  \"sobrenome\": \"Silva\",\n",
        "  \"idade\": 27,\n",
        "  \"endereço\": {\n",
        "    \"rua\": \"João de Camargo, 100\",\n",
        "    \"cidade\": \"Santa Rita do Sapucaí\",\n",
        "    \"estado\": \"MG\",\n",
        "    \"cep\": \"37540-000\"\n",
        "  },\n",
        "  \"telefones\": [\n",
        "    {\n",
        "      \"tipo\": \"casa\",\n",
        "      \"número\": \"35 3471 1200\"\n",
        "    },\n",
        "    {\n",
        "      \"tipo\": \"escritório\",\n",
        "      \"número\": \"35 3473 0012\"\n",
        "    }\n",
        "  ],\n",
        "}\n",
        "```\n",
        "\n",
        "Em Python, um exemplo de uma **string** JSON é dada por\n",
        "\n",
        "```json\n",
        "p = '{\"Nome\": \"Roberto\", \"Linguagens\": [\"Python\", \"Java\"]}'\n",
        "```\n",
        "\n",
        "Note que esta string nada mais é do que uma string representando um **dicionário**.\n",
        "\n",
        "Portanto, podemos analisar uma **string** JSON usando a função `json.loads()`, a qual retorna um **dicionário**, como mostrado abaixo."
      ]
    },
    {
      "cell_type": "code",
      "execution_count": null,
      "metadata": {
        "id": "AXAsRTOh1HIa",
        "outputId": "1ed6e5c7-0321-4ff2-d8ca-60ac80bc2ed7"
      },
      "outputs": [
        {
          "name": "stdout",
          "output_type": "stream",
          "text": [
            "Tipo: <class 'str'>\n",
            "\n",
            "Dicionário: {'nome': 'Roberto', 'linguas': ['Portugues', 'Ingles', 'Frances']}\n",
            "Tipo: <class 'dict'>\n",
            "\n",
            "Valor do dicionário: ['Portugues', 'Ingles', 'Frances']\n"
          ]
        }
      ],
      "source": [
        "import json\n",
        "\n",
        "pessoa = '{\"nome\": \"Roberto\", \"linguas\": [\"Portugues\", \"Ingles\", \"Frances\"]}'\n",
        "print('Tipo:',type(pessoa))\n",
        "\n",
        "# Converte a string em um dicionário.\n",
        "pessoa_dict = json.loads(pessoa)\n",
        "print('\\nDicionário:',pessoa_dict)\n",
        "print('Tipo:', type(pessoa_dict))\n",
        "\n",
        "# Acessando o valor associado à chave 'linguas'.\n",
        "print('\\nValor do dicionário:', pessoa_dict['linguas'])"
      ]
    },
    {
      "cell_type": "markdown",
      "metadata": {
        "id": "-Rp6XiKT1HIa"
      },
      "source": [
        "Podemos usar a função `json.load()` para ler um arquivo que contém um objeto JSON. A função `json.load()` analisa o arquivo e retorna um dicionário.\n",
        "\n",
        "Por exemplo, vamos supor que temos um arquivo chamado `funcionarios3.json` que contém um objeto JSON:\n",
        "\n",
        "```json\n",
        "{\n",
        "\"nome\" : \"Roberto\",\n",
        "\"Cargo\": \"Engenheiro\",\n",
        "\"Salario\": \"3250.00\",\n",
        "\"Linguas\": [\"Portugues\", \"Ingles\", \"Frances\"]\n",
        "}\n",
        "```\n",
        "\n",
        "Nós podemos carregar e analisar esse arquivo da seguinte forma:"
      ]
    },
    {
      "cell_type": "code",
      "execution_count": null,
      "metadata": {
        "id": "H_X6Gm8z1HIa",
        "outputId": "e3e94e9d-f5c1-4b59-afd8-c94b86f1176d"
      },
      "outputs": [
        {
          "name": "stdout",
          "output_type": "stream",
          "text": [
            "Dicionário: {'nome': 'Roberto', 'Cargo': 'Engenheiro', 'Salario': '3250.00', 'Linguas': ['Portugues', 'Ingles', 'Frances']}\n",
            "\n",
            "Linguas: ['Portugues', 'Ingles', 'Frances']\n"
          ]
        }
      ],
      "source": [
        "import json\n",
        "\n",
        "with open('funcionarios3.json') as f:\n",
        "    # Carrega o arquivo e o converte em um dicionário.\n",
        "    funcionarios = json.load(f)\n",
        "\n",
        "# Imprimindo o dicionário.\n",
        "print('Dicionário:', funcionarios)\n",
        "\n",
        "# Acessando o valor associado à chave Linguas.\n",
        "print('\\nLinguas:', funcionarios['Linguas'])"
      ]
    },
    {
      "cell_type": "markdown",
      "metadata": {
        "id": "pQpoB4nq1HIa"
      },
      "source": [
        "Podemos converter um dicionário em uma string JSON usando a função `json.dumps()`."
      ]
    },
    {
      "cell_type": "code",
      "execution_count": null,
      "metadata": {
        "id": "hJgRlOiJ1HIa",
        "outputId": "9a79fb16-35d2-4863-c671-f74d176d35d2"
      },
      "outputs": [
        {
          "name": "stdout",
          "output_type": "stream",
          "text": [
            "String JSON: {\"Nome\": \"Roberto\", \"Idade\": 33, \"Cargo\": \"Advogado\"}\n",
            "Tipo: <class 'str'>\n"
          ]
        }
      ],
      "source": [
        "import json\n",
        "\n",
        "pessoa_dict = {'Nome': 'Roberto',\n",
        "'Idade': 33,\n",
        "'Cargo': 'Advogado'\n",
        "}\n",
        "\n",
        "# Converte o dicionário em um string JSON.\n",
        "pessoa_json = json.dumps(pessoa_dict)\n",
        "\n",
        "print('String JSON:',pessoa_json)\n",
        "print('Tipo:',type(pessoa_json))"
      ]
    },
    {
      "cell_type": "markdown",
      "metadata": {
        "id": "zqrgg_I81HIa"
      },
      "source": [
        "Para escrever em um arquivo JSON, nós utilizamos a função `json.dump()`."
      ]
    },
    {
      "cell_type": "code",
      "execution_count": null,
      "metadata": {
        "id": "sidhByps1HIa",
        "outputId": "7200258f-de38-47af-e6b8-fb8eadd22afd"
      },
      "outputs": [
        {
          "name": "stdout",
          "output_type": "stream",
          "text": [
            "{\n",
            "   \"Nome\": \"Roberto\",\n",
            "   \"Linguas\": [\n",
            "      \"Portugues\",\n",
            "      \"Ingles\",\n",
            "      \"Frances\"\n",
            "   ],\n",
            "   \"Casado\": true,\n",
            "   \"Idade\": 32\n",
            "}\n"
          ]
        }
      ],
      "source": [
        "import json\n",
        "\n",
        "pessoa_dict = {\n",
        "    \"Nome\": \"Roberto\",\n",
        "    \"Linguas\": [\"Portugues\", \"Ingles\", \"Frances\"],\n",
        "    \"Casado\": True,\n",
        "    \"Idade\": 32\n",
        "}\n",
        "\n",
        "with open('pessoas.json', 'w') as json_file:\n",
        "    json.dump(pessoa_dict, json_file)\n",
        "\n",
        "# lendo e imprimindo o conteúdo do arquivo.\n",
        "with open('pessoas.json') as f:\n",
        "    pessoas_dict = json.load(f)\n",
        "\n",
        "# O parâmetro 'indent' faz com que a saída seja formatada\n",
        "# com o nível de indentação atribuído a ela, ou seja,\n",
        "# adiciona alguns espaços por nível.\n",
        "print(json.dumps(pessoas_dict, indent = 3))"
      ]
    },
    {
      "cell_type": "markdown",
      "metadata": {
        "id": "nIDzckXq1HIa"
      },
      "source": [
        "## Tarefas\n",
        "\n",
        "1. <span style=\"color:blue\">**QUIZ - Trabalhando com arquivos**</span>: respondam ao questionário sobre arquivos no MS teams, por favor.\n",
        "2. <span style=\"color:blue\">**Laboratório #8**</span>: cliquem em um dos links abaixo para accessar os exercícios do laboratório #8.\n",
        "\n",
        "[![Google Colab](https://badgen.net/badge/Launch/on%20Google%20Colab/blue?icon=terminal)](https://colab.research.google.com/github/zz4fap/python-programming/blob/master/labs/Laboratorio8.ipynb)\n",
        "\n",
        "**IMPORTANTE**: Para acessar o material das aulas e realizar as entregas dos exercícios de laboratório, por favor, leiam o tutorial no seguinte link:\n",
        "[Material-das-Aulas](../docs/Acesso-ao-material-das-aulas-resolucao-e-entrega-dos-laboratorios.pdf)"
      ]
    },
    {
      "cell_type": "markdown",
      "metadata": {
        "id": "21F9z1gv1HIa"
      },
      "source": [
        "<img src=\"https://github.com/zz4fap/python-programming/blob/master/figures/obrigado.png?raw=1\">"
      ]
    }
  ],
  "metadata": {
    "kernelspec": {
      "display_name": "Python 3",
      "name": "python3"
    },
    "language_info": {
      "codemirror_mode": {
        "name": "ipython",
        "version": 3
      },
      "file_extension": ".py",
      "mimetype": "text/x-python",
      "name": "python",
      "nbconvert_exporter": "python",
      "pygments_lexer": "ipython3",
      "version": "3.10.9"
    },
    "colab": {
      "provenance": [],
      "generative_ai_disabled": true
    }
  },
  "nbformat": 4,
  "nbformat_minor": 0
}