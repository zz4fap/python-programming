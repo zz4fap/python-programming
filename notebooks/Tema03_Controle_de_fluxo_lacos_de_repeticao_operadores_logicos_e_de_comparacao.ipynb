{
  "cells": [
    {
      "cell_type": "markdown",
      "metadata": {
        "id": "gdAqymDcOhrL"
      },
      "source": [
        "# Operadores de comparação, lógicos, controle de fluxo e laços de repetição"
      ]
    },
    {
      "cell_type": "markdown",
      "metadata": {
        "id": "FzwtzIZ1OhrO"
      },
      "source": [
        "Nesta aula, nós veremos os seguintes tópicos:\n",
        "\n",
        "* Operadores relacionais\n",
        "* Operadores lógicos\n",
        "* Operadores de associação\n",
        "* Controle de fluxo\n",
        "* Laços de repetição"
      ]
    },
    {
      "cell_type": "markdown",
      "metadata": {
        "id": "0zKuABPTOhrO"
      },
      "source": [
        "## Operadores de comparação\n",
        "\n",
        "* O Python permite **comparar dois valores** usando os **operadores relacionais** ou também chamados de **operadores de comparação**.\n",
        "* Os **operadores relacionais** sempre comparam **dois** valores e o **resultado é sempre do tipo booleano**, ou seja, pode assumir apenas os valores ```True``` ou ```False```.\n",
        "* Todos os operadores relacionais têm o **mesmo nível de precedência**, ou seja, quando encontrados em uma mesma expressão, são aplicados da esquerda para a direita na ordem em que aparecem na expressão.\n",
        "\n",
        "| Operador |    Tipo    |                      Descrição                     | Exemplo | Resultado |\n",
        "|:--------:|:----------:|:--------------------------------------------------:|:-------:|:---------:|\n",
        "|    ==    |  Igualdade |    Verifica a igualdade entre os valores A e B.    |   2==3  |   False   |\n",
        "|   !=     |  Igualdade |  Verifica a desigualdade entre os valores A e B.   |   2!=3  |    True   |\n",
        "|    >     | Comparação |    Verifica se o valor A é maior que o valor B.   |   3>3   |   False   |\n",
        "|    <     | Comparação |    Verifica se o valor A é menor que o valor B.    |   2<3   |    True   |\n",
        "|    >=    | Comparação | Verifica se o valor A é maior ou igual ao valor B. |   3>=3  |    True   |\n",
        "|    <=    | Comparação | Verifica se o valor A é menor ou igual ao valor B. |   2<=1  |   False   |\n",
        "\n",
        "### Exemplos\n",
        "\n",
        "Algumas comparações."
      ]
    },
    {
      "cell_type": "code",
      "execution_count": null,
      "metadata": {
        "id": "N5otjoc4OhrP"
      },
      "outputs": [],
      "source": [
        "print('Resultado de 2 == 2:', 2 == 2)\n",
        "\n",
        "print('Resultado de 1 != 2:', 1 != 2)\n",
        "\n",
        "print('Resultado de 2 > 3:', 2 > 3)\n",
        "\n",
        "print('Resultado de 5 <= 5:', 5 <= 5)"
      ]
    },
    {
      "cell_type": "markdown",
      "metadata": {
        "id": "-3qQkZ2nOhrQ"
      },
      "source": [
        "As expressões relacionais **podem conter expressões aritméticas**.\n",
        "\n",
        "**OBS**.: A precedência dos operadores relacionais é **menor** que a dos operadores aritméticos."
      ]
    },
    {
      "cell_type": "code",
      "execution_count": null,
      "metadata": {
        "id": "z-1ZRKVKOhrQ"
      },
      "outputs": [],
      "source": [
        "resultado = 2 + 3 == 3 + 2 * 1\n",
        "\n",
        "print('O resultado da expressão é', resultado)\n",
        "\n",
        "print('Tipo da variável resultado:', type(resultado))"
      ]
    },
    {
      "cell_type": "markdown",
      "metadata": {
        "id": "N-fq7-ECOhrQ"
      },
      "source": [
        "* Esse exemplo mostra que o resultado da expressão `2 + 3 == 3 + 2 * 1` é o valor booleano ```True```.\n",
        "    + Isso porque a ordem de precedência dos operadores relacionais é menor do que a dos operadores aritméticos, ou seja, as operações aritméticas são avaliadas primeiro, o que resulta na comparação `5 == 5`, em seguida, a expressão relacional `==` é avaliada, resultando em `True`."
      ]
    },
    {
      "cell_type": "markdown",
      "metadata": {
        "id": "Cuug2LzeOhrR"
      },
      "source": [
        "### Tarefa\n",
        "\n",
        "1. <span style=\"color:blue\">**QUIZ - Operadores relacionais**</span>: respondam ao questionário sobre operadores relacionais no MS teams, por favor."
      ]
    },
    {
      "cell_type": "markdown",
      "metadata": {
        "id": "f2nXsCRlOhrR"
      },
      "source": [
        "## Operadores lógicos\n",
        "\n",
        "* A tabela a seguir mostra os principais operadores lógicos e suas respectivas ordens de precedência.\n",
        "* O resultado de uma expressão lógica é sempre um valor booleano.\n",
        "\n",
        "|Precedência| Operador |    Descrição   |     Exemplo    | Resultado |\n",
        "|:--------:|:--------:|:--------------:|:--------------:|:---------:|\n",
        "|3 (alta)  |    not   | negação lógica |    not True    |   False   |\n",
        "|2         |    and   |    E lógico    | True and False |   False   |\n",
        "|1 (baixa) |    or    |    OU lógico   |  True or False |    True   |\n",
        "\n",
        "### Exemplos"
      ]
    },
    {
      "cell_type": "markdown",
      "metadata": {
        "id": "T9OlPXriOhrR"
      },
      "source": [
        "#### Negando um valor com o operador `not`."
      ]
    },
    {
      "cell_type": "code",
      "execution_count": null,
      "metadata": {
        "id": "DJSB2BdgOhrR"
      },
      "outputs": [],
      "source": [
        "a = not True\n",
        "\n",
        "print('Resultado:', a)"
      ]
    },
    {
      "cell_type": "markdown",
      "metadata": {
        "id": "3C6hRtx1OhrR"
      },
      "source": [
        "#### Operador `and`"
      ]
    },
    {
      "cell_type": "code",
      "execution_count": null,
      "metadata": {
        "id": "pUJEVpi2OhrR"
      },
      "outputs": [],
      "source": [
        "a = True and True\n",
        "\n",
        "print('Resultado:', a)"
      ]
    },
    {
      "cell_type": "code",
      "execution_count": null,
      "metadata": {
        "id": "T4dHq2-UOhrS"
      },
      "outputs": [],
      "source": [
        "a = True and False\n",
        "\n",
        "print('Resultado:', a)"
      ]
    },
    {
      "cell_type": "markdown",
      "metadata": {
        "id": "y_qg_CipOhrS"
      },
      "source": [
        "#### Operador `or`"
      ]
    },
    {
      "cell_type": "code",
      "execution_count": null,
      "metadata": {
        "id": "_wcpiwPROhrS"
      },
      "outputs": [],
      "source": [
        "a = True or False\n",
        "\n",
        "print('Resultado:', a)"
      ]
    },
    {
      "cell_type": "code",
      "execution_count": null,
      "metadata": {
        "id": "QDwMiK9VOhrT"
      },
      "outputs": [],
      "source": [
        "a = False or False\n",
        "\n",
        "print('Resultado:', a)"
      ]
    },
    {
      "cell_type": "markdown",
      "metadata": {
        "id": "dKksWjQ5OhrT"
      },
      "source": [
        "#### Combinando resultados de operadores relacionais com operadores lógicos\n",
        "\n",
        "* Os operadores lógicos podem ser utilizados para **combinar** os resultados de **operadores relacionais** em uma **expressão lógica**.\n",
        "* Uma expressão lógica é uma expressão que pode ser verdadeira ou falsa, ou seja, sempre resulta em um valor booleano.\n",
        "* Como veremos a seguir, essa combinação de resultados de operadores relacionais é utilizada com **estruturas de controle de fluxo**.\n",
        "\n",
        "**IMPORTANTE**: os **operadores relacionais têm precedência sobre os operadores lógicos**, ou seja, eles são avaliados antes.\n",
        "\n",
        "No código abaixo testamos se o valor da variável `x` está dentro do intervalo [-1, 1]."
      ]
    },
    {
      "cell_type": "code",
      "execution_count": null,
      "metadata": {
        "id": "as2dw8KPOhrT"
      },
      "outputs": [],
      "source": [
        "# Seja um valor qualquer.\n",
        "x = 2\n",
        "\n",
        "# Combinando o resultado de operadores relacionais para verificar se o valor de x está no intervalo [-1, 1].\n",
        "resultado = x >= -1 and x <= 1\n",
        "\n",
        "print('Resultado da expressão lógica:', resultado)"
      ]
    },
    {
      "cell_type": "markdown",
      "metadata": {
        "id": "SWnY79zUOhrT"
      },
      "source": [
        "Podemos ter a combinação do resultado de várias operações relacionais."
      ]
    },
    {
      "cell_type": "code",
      "execution_count": null,
      "metadata": {
        "id": "DaI4pcRmOhrT"
      },
      "outputs": [],
      "source": [
        "#            False     True       True\n",
        "resultado = 1 == 2 or 3 != 4 and 3 >= 2\n",
        "\n",
        "print('Resultado da expressão lógica:', resultado)"
      ]
    },
    {
      "cell_type": "markdown",
      "metadata": {
        "id": "LLThuwtIOhrT"
      },
      "source": [
        "### Valores avaliados como verdadeiros ou falsos\n",
        "\n",
        "* Em Python, o tipo (classe) booleano (**bool**) é uma **especialização** do tipo inteiro (**int**).\n",
        "* O valor **verdadeiro** é definido pela palavra reservada `True` e é igual ao valor **inteiro** `1`, enquanto o valor **falso** é definido pela palavra reservada `False` e é igual ao valor **inteiro** `0`.\n",
        "* Em Python, os seguintes objetos são avaliados pelo interpretador como sendo valores **falsos** quando usados em uma condição (i.e., `if`):\n",
        "    + `0` (zero).\n",
        "    + `None` (nulo).\n",
        "    + `''` (string vazia).\n",
        "    + `[]` (lista vazia).\n",
        "    + `()` (tupla vazia).\n",
        "    + `{}` (dicionário vazio).\n",
        "    + Outros objetos com o tamanho igual a zero.\n",
        "\n",
        "* São considerados valores **verdadeiros**, ou seja, `True`, todos os outros valores e objetos fora dessa lista.\n",
        "\n",
        "### Exemplos\n",
        "\n",
        "+ String vazia."
      ]
    },
    {
      "cell_type": "code",
      "execution_count": null,
      "metadata": {
        "id": "NwEOdeKxOhrT"
      },
      "outputs": [],
      "source": [
        "str1 = ''\n",
        "\n",
        "# Percebam que podemos usar o objeto do tipo string diretamente na condição do \"if\".\n",
        "if(str1):\n",
        "    print('A string não está vazia.')\n",
        "else:\n",
        "    print('A string está vazia.')"
      ]
    },
    {
      "cell_type": "markdown",
      "metadata": {
        "id": "3dkxfq8hOhrT"
      },
      "source": [
        "+ Valor igual a 0."
      ]
    },
    {
      "cell_type": "code",
      "execution_count": null,
      "metadata": {
        "id": "0JnfIoR4OhrU"
      },
      "outputs": [],
      "source": [
        "valor = 0\n",
        "\n",
        "if(valor):\n",
        "    print('Valor diferente de zero.')\n",
        "else:\n",
        "    print('Valor igual a zero.')"
      ]
    },
    {
      "cell_type": "markdown",
      "metadata": {
        "id": "2hZvC5MGOhrU"
      },
      "source": [
        "### Tarefa\n",
        "\n",
        "1. <span style=\"color:blue\">**QUIZ - Operadores lógicos**</span>: respondam ao questionário sobre operadores lógicos no MS teams, por favor."
      ]
    },
    {
      "cell_type": "markdown",
      "metadata": {
        "id": "WycBkWK1OhrU"
      },
      "source": [
        "## Operadores de associação\n",
        "\n",
        "+ Operadores de associação são usados para testar se um objeto está presente em uma string ou coleção de objetos, como listas, tuplas, etc.\n",
        "+ Eles retornam um valor booleano.\n",
        "+ Os operadores de associação **têm a mesma ordem de precedência dos operadores relacionais**.\n",
        "+ Existem dois operadores de associação: `in` e `not in`.\n",
        "\n",
        "| Operador |                                       Descrição                                       |       Exemplo      | Resultado |\n",
        "|:--------:|:-------------------------------------------------------------------------------------:|:------------------:|:---------:|\n",
        "|    in    |   Retorna True se o valor especificado estiver presente no objeto   |   'a' in 'abc'   |    True   |\n",
        "|  not in  | Retorna True se o valor especificado **não** estiver presente no objeto | 'a' not in 'abc' |   False   |\n",
        "\n",
        "### Exemplos"
      ]
    },
    {
      "cell_type": "code",
      "execution_count": null,
      "metadata": {
        "id": "H8kv_xRoOhrU"
      },
      "outputs": [],
      "source": [
        "# Seja uma string (sequência de caracteres).\n",
        "string = 'INATEL'\n",
        "\n",
        "# O caractere 'B' está presente na string 'INATEL'?\n",
        "resultado = 'B' in string\n",
        "\n",
        "print(resultado)"
      ]
    },
    {
      "cell_type": "code",
      "execution_count": null,
      "metadata": {
        "id": "zMYSTO7JOhrU"
      },
      "outputs": [],
      "source": [
        "# Seja uma string (sequência de caracteres).\n",
        "string = 'INATEL'\n",
        "\n",
        "# A string 'IN' está presente na string 'INATEL'?\n",
        "resultado = 'IN' in string\n",
        "\n",
        "print(resultado)"
      ]
    },
    {
      "cell_type": "code",
      "execution_count": null,
      "metadata": {
        "id": "mI3mby10OhrU"
      },
      "outputs": [],
      "source": [
        "# Seja uma string (sequência de caracteres).\n",
        "string = 'INATEL'\n",
        "\n",
        "# A string 'BOLA' está presente na string 'INATEL'?\n",
        "resultado = 'BOLA' not in string\n",
        "\n",
        "print(resultado)"
      ]
    },
    {
      "cell_type": "code",
      "execution_count": null,
      "metadata": {
        "id": "CRuKjrpiOhrU"
      },
      "outputs": [],
      "source": [
        "# Seja uma lista (sequência de objetos) com duas strings.\n",
        "x = [\"apple\", \"banana\"]\n",
        "\n",
        "# A string banana está presente na lista?\n",
        "resultado = \"banana\" in x\n",
        "\n",
        "print(resultado)"
      ]
    },
    {
      "cell_type": "code",
      "execution_count": null,
      "metadata": {
        "id": "6SrPu68nOhrU"
      },
      "outputs": [],
      "source": [
        "# Seja uma lista (sequência de objetos) com duas strings.\n",
        "x = [\"apple\", \"banana\"]\n",
        "\n",
        "# A string pineapple não está presente na lista?\n",
        "resultado = \"pineapple\" not in x\n",
        "\n",
        "print(resultado)"
      ]
    },
    {
      "cell_type": "markdown",
      "metadata": {
        "id": "-2DZyKkGOhrU"
      },
      "source": [
        "## Ordem de precedência atualizada\n",
        "\n",
        "+ Nós adicionamos vários outros operadores àqueles que aprendemos.\n",
        "+ A tabela a seguir resume a precedência dos operadores discutidos até agora, da mais alta para a mais baixa.\n",
        "\n",
        "|   Nível  |   Categoria   |            Operadores            |\n",
        "|:--------:|:-------------:|:--------------------------------:|\n",
        "| 8 (alta) |   parênteses  |                ()                |\n",
        "|     7    |    expoente   |                **                |\n",
        "|     6    | multiplicação, divisão, resto |            *, /, //, %           |\n",
        "|     5    |     adição, subtração    |               +, -               |\n",
        "|     4    |   relacional/associação  | ==, !=, <=, >=, >, <, in, not in |\n",
        "|     3    |     lógico    |                not               |\n",
        "|     2    |     lógico    |                and               |\n",
        "| 1(baixa) |     lógico    |                or                |\n",
        "\n",
        "**IMPORTANTE**: Operadores com mesmo nível de precedência são aplicados da **esquerda para a direita** na ordem em que aparecem na expressão."
      ]
    },
    {
      "cell_type": "markdown",
      "metadata": {
        "id": "M0u2RCZkOhrV"
      },
      "source": [
        "### Tarefa\n",
        "\n",
        "1. <span style=\"color:blue\">**QUIZ - Ordem de precedência**</span>: respondam ao questionário sobre ordem de precedência no MS teams, por favor."
      ]
    },
    {
      "cell_type": "markdown",
      "metadata": {
        "id": "-FW9Scy4OhrV"
      },
      "source": [
        "## Controle de fluxo\n",
        "\n",
        "* É muito comum que durante a escrita de um programa você precise verificar se a condição de uma expressão é verdadeira ou falsa para executar ou não uma sequência de instruções.\n",
        "* Isto é feito utilizando-se **estruturas de controle de fluxo**, também conhecidas como **estruturas condicionais**.\n",
        "* Portanto, estruturas de **controle de fluxo** verificam uma condição e executam um bloco de código caso a condição seja verdadeira ou outro bloco caso seja falsa.\n",
        "\n",
        "Sintaxe:\n",
        "\n",
        "```python\n",
        "if <condição 1>:\n",
        "    <bloco de código 1>\n",
        "elif <condição 2>: # opcional\n",
        "    <bloco de código 2>\n",
        "elif <condição 3>: # opcional\n",
        "    <bloco de código 3>\n",
        "else:              # opcional\n",
        "    <bloco de código 4>\n",
        "```\n",
        "        \n",
        "Onde:\n",
        "\n",
        "+ `<condição>`: expressão que possa ser avaliada como verdadeira ou falsa.\n",
        "+ `<bloco de código>`: sequência de instruções que são executadas caso a condição associada seja verdadeira.\n",
        "    + um `<bloco de código>` pode ter mais de uma instrução, dado que o bloco de código esteja **corretamente indentado**.\n",
        "+ A palavra-reservada `elif` é a junção de `else` e `if` e significa: \"se as condições anteriores não eram verdadeiras, então verifique esta condição\".\n",
        "+ A palavra-reservada `else` captura qualquer condição que não tenha sido capturada pelas condições anteriores.\n",
        "+ As clausulas `elif` e `else` são opcionais, podendo existir vários `elif`s para o mesmo `if`, porém só pode haver um `else` ao final.\n",
        "+ Parênteses em torno das condições são opcionais e são normalmente usados para evitar ambiguidades.\n",
        "+ Não se esqueçam dos dois pontos (`:`) após as condições dos `if` e `elif`s e da palavra-reservada `else`.\n",
        "\n",
        "A figura abaixo apresenta o fluxograma da estrutura condicional mostrada na sintaxe acima.\n",
        "\n",
        "<img src=\"https://github.com/zz4fap/python-programming/blob/master/figures/if-flowchart.jpg?raw=1\" width=\"300px\">"
      ]
    },
    {
      "cell_type": "markdown",
      "metadata": {
        "id": "UwHA-iaROhrV"
      },
      "source": [
        "### Exemplo\n",
        "\n",
        "#### Uma função que imprime como está a temperatura.\n",
        "\n",
        "**OBS**.: Percebam que o bloco de código de **cada condição tem um recuo adicional**."
      ]
    },
    {
      "cell_type": "code",
      "execution_count": null,
      "metadata": {
        "id": "QPV9YypSOhrV"
      },
      "outputs": [],
      "source": [
        "# Definição da função.\n",
        "def checarTemperatura(temp):\n",
        "    '''Função que imprime como está a temperatura.'''\n",
        "    # Nível 1 de indentação.\n",
        "    if temp < 0:\n",
        "        # Nível 2 de indentação.\n",
        "        print('Temperatura: congelando...')\n",
        "    elif temp >= 0 and temp <= 20:\n",
        "        print('Temperatura: frio')\n",
        "    elif temp >= 21 and temp <= 25:\n",
        "        print('Temperatura: normal')\n",
        "    elif temp >= 26 and temp <= 35:\n",
        "        print('Temperatura: quente')\n",
        "    else:\n",
        "        print('Temperatura: muito quente!')\n",
        "\n",
        "# Valor de temperatura usado para teste.\n",
        "temp = 23\n",
        "checarTemperatura(temp)"
      ]
    },
    {
      "cell_type": "markdown",
      "metadata": {
        "id": "nC7oxZMAOhrV"
      },
      "source": [
        "### Tarefa\n",
        "\n",
        "1. <span style=\"color:blue\">**QUIZ - Controle de fluxo**</span>: respondam ao questionário sobre controle de fluxo no MS teams, por favor."
      ]
    },
    {
      "cell_type": "markdown",
      "metadata": {
        "id": "2cDGjwc7OhrV"
      },
      "source": [
        "## Laços de repetição\n",
        "\n",
        "* Laços de repetição são **estruturas que permitem a reexecução de um mesmo bloco de código**.\n",
        "* Eles podem ser usados para **processar sequências ou coleções de dados**, tais como as linhas de um arquivo, registros de um banco de dados, caracteres de uma string, elementos de listas, tuplas, dicionários, etc., **com o mesmo bloco de código** (ou seja, com uma mesma sequência de comandos).\n",
        "* Em Python, temos apenas 2 tipos de laços de repetição: `for` e `while`.\n",
        "\n",
        "### O laço `for`\n",
        "\n",
        "+ O laço `for` permite percorrer os elementos de uma coleção ou sequência de dados e, para cada um deles, executar o **mesmo bloco de código** declarado no laço.\n",
        "<br/>\n",
        "+ **Obriga o programador a definir, explicitamente em seu cabeçalho, a quantidade de vezes, chamadas de *iterações* ou *repetições*, que um bloco de código será executado**.\n",
        "<br/>\n",
        "+ O número de **repetições** é determinado pela **quantidade de elementos contidos na coleção/sequência de dados** declarada no cabeçalho do laço.\n",
        "   + Por exemplo, se tivermos uma sequência de 3 caracteres, i.e., uma string, teremos três **repetições**.\n",
        "<br/>\n",
        "+ Desta forma, **uma repetição** do bloco de código é executada **para cada elemento da coleção/sequência de dados**.\n",
        "\n",
        "* Sintaxe:\n",
        "\n",
        "```python\n",
        "for <referência> in <objeto iterável>:\n",
        "    <bloco de código>\n",
        "    break # opcional\n",
        "    continue # opcional\n",
        "else: # opcional\n",
        "    <bloco de código>\n",
        "```\n",
        "\n",
        "* Onde\n",
        "    +  `referência` é uma variável que recebe um novo elemento da coleção/sequência de dados (i.e., do `objeto iterável`) a cada nova iteração do laço.\n",
        "    + `objeto iterável` pode ser um objeto do tipo string, lista, tupla, dicionário, file, range, etc.\n",
        "    + A cláusula `break` interrompe o laço antes que ele percorra todos os itens do objeto iterável, é **opcional**.\n",
        "    + A cláusula `continue` interrompe a execução do bloco de código e passa para a próxima iteração, é **opcional**.\n",
        "    + A instrução `else` também é **opcional**.    \n",
        "    + O bloco de código dentro do `else` é **sempre** executado ao final do laço, a não ser que ele tenha sido interrompido por um `break`.\n",
        "            \n",
        "### Exemplos\n",
        "\n",
        "#### Imprimindo os caracteres de uma string.\n",
        "\n",
        "**IMPORTANTE**: Uma string é um `objeto iterável`, ou seja, podemos utilizá-la no laço `for` e a cada nova iteração, ela atribui um de seus caracteres à variável de referência."
      ]
    },
    {
      "cell_type": "code",
      "execution_count": null,
      "metadata": {
        "id": "CdEJMNCPOhrc"
      },
      "outputs": [],
      "source": [
        "string = 'INATEL'\n",
        "\n",
        "for char in string:\n",
        "    print(char)\n",
        "else:\n",
        "    print('As instruções do else são sempre executadas, a não ser que tenha ocorrido um break.')"
      ]
    },
    {
      "cell_type": "markdown",
      "metadata": {
        "id": "w-d2bwxrOhrc"
      },
      "source": [
        "#### Imprimindo os nomes armazenados em uma lista.\n",
        "\n",
        "**IMPORTANTE**: Uma lista é um `objeto iterável`, ou seja, podemos utilizá-la no laço `for` e a cada nova iteração, ela atribui um de seus elementos à variável de referência."
      ]
    },
    {
      "cell_type": "code",
      "execution_count": null,
      "metadata": {
        "id": "n5HBeIkTOhrc"
      },
      "outputs": [],
      "source": [
        "# Lista com 3 itens do tipo string.\n",
        "nomes = ['Pedro', 'João', 'Leticia']\n",
        "\n",
        "# Para cada elemento do objeto iterável do tipo lista faça.\n",
        "for n in nomes:\n",
        "     print(n) # bloco de código\n",
        "else:\n",
        "    print('Sempre executa o bloco de código do else caso um break não tenha ocorrido.')"
      ]
    },
    {
      "cell_type": "markdown",
      "metadata": {
        "id": "OKH9twLtOhrd"
      },
      "source": [
        "#### Somando todos os valores de 0 a 99."
      ]
    },
    {
      "cell_type": "code",
      "execution_count": null,
      "metadata": {
        "id": "1BC-9DQ8Ohrd"
      },
      "outputs": [],
      "source": [
        "# Variável auxiliar utilizada para acumular os valores.\n",
        "soma = 0\n",
        "\n",
        "# Para cada elemento do objeto iterável do tipo lista faça.\n",
        "for i in range(0, 100):\n",
        "    soma = soma + i\n",
        "\n",
        "# Imprime resulatdo da soma.\n",
        "print('Resultado:', soma)"
      ]
    },
    {
      "cell_type": "markdown",
      "metadata": {
        "id": "pKXa-vRtOhrd"
      },
      "source": [
        "**IMPORTANTE**: a função embutida `range(m, n, p)` é muito útil em laços de repetição, pois retorna uma **sequência de valores** inteiros (i.e., é um `objeto iterável`), começando em `m` e **menores** que `n`, em passos de tamanho `p`, que podem ser usados como sequência para o laço.\n",
        "   + Por padrão, ou seja, se não for definido, `p` é igual a 1.\n",
        "\n",
        "### Exemplos\n",
        "\n",
        "#### Contagem em passos de 2."
      ]
    },
    {
      "cell_type": "code",
      "execution_count": null,
      "metadata": {
        "id": "Eg_X0nxYOhrd"
      },
      "outputs": [],
      "source": [
        "for i in range(0, 10, 2):\n",
        "    print(i)"
      ]
    },
    {
      "cell_type": "markdown",
      "metadata": {
        "id": "UNfFRPOzOhrd"
      },
      "source": [
        "#### Contagem regressiva de 2 a -2.\n",
        "\n",
        "**OBS**.: O passo pode ser negativo."
      ]
    },
    {
      "cell_type": "code",
      "execution_count": null,
      "metadata": {
        "id": "TjpiFHOqOhrd"
      },
      "outputs": [],
      "source": [
        "for i in range(2, -3, -1):\n",
        "    print(i)"
      ]
    },
    {
      "cell_type": "markdown",
      "metadata": {
        "id": "oOQaD5gVOhrd"
      },
      "source": [
        "#### Iterando através de uma lista usando seus índices.\n",
        "\n",
        "Podemos também percorrer cada um dos elementos de uma lista usando seus índices."
      ]
    },
    {
      "cell_type": "code",
      "execution_count": null,
      "metadata": {
        "id": "3wu8GnADOhrd"
      },
      "outputs": [],
      "source": [
        "# Lista com 3 itens do tipo string.\n",
        "nomes = ['Pedro', 'João', 'Letícia']\n",
        "\n",
        "# Para cada elemento do objeto iterável do tipo lista faça.\n",
        "for i in range(0, len(nomes)):\n",
        "     print(nomes[i])"
      ]
    },
    {
      "cell_type": "markdown",
      "metadata": {
        "id": "eEaI1IDROhrd"
      },
      "source": [
        "### O laço `while`\n",
        "\n",
        "+ Executa o bloco de código dentro do laço `while` **enquanto** uma dada **condição for verdadeira**.\n",
        "+ É mais adequado quando não há como determinar quantas **iterações** vão ocorrer.\n",
        "\n",
        "\n",
        "* Sintaxe:\n",
        "\n",
        "```python\n",
        "while <condição>:\n",
        "    <bloco de código>\n",
        "    continue # opcional\n",
        "    break # opcional\n",
        "else: # opcional\n",
        "    <bloco de código>\n",
        "```\n",
        "\n",
        "* Onde\n",
        "    + Enquanto a `condição` for verdadeira, o `bloco de código` é excutado.\n",
        "    + A instrução `else` executa o bloco de código quando a condição do `while` for falsa.\n",
        "    + A instrução `else` é opcional.    \n",
        "    + O bloco de código do `else` não é executado se o laço for interrompido por um `break`.\n",
        "        \n",
        "**OBS.1**: Deve haver algum processo **dentro do bloco de código** que torne a condição falsa e o laço seja encerrado, ou um erro GRAVE ocorrerá: seu código ficará preso no laço para sempre.\n",
        "\n",
        "**OBS.2**: Se a condição da estrutura `while` já for falsa desde o início, o bloco de código associado a ela nunca será executado. Neste caso, apenas o bloco de código associado ao `else` será executado, caso ele esteja definido.\n",
        "\n",
        "### Exemplos\n",
        "\n",
        "#### Iterando através de uma lista."
      ]
    },
    {
      "cell_type": "code",
      "execution_count": null,
      "metadata": {
        "id": "sAm2DbRAOhrd"
      },
      "outputs": [],
      "source": [
        "# Lista com 3 itens (ou elementos) do tipo string.\n",
        "nomes = ['Pedro', 'João', 'Leticia']\n",
        "\n",
        "# Variável auxiliar usada para contar as iterações e terminar o laço.\n",
        "i = 0\n",
        "\n",
        "# While precisa de uma condição para terminar a execução do bloco de código.\n",
        "while i < len(nomes):\n",
        "    print(nomes[i])\n",
        "    i += 1 # Forma compacta, o mesmo que fazer i = i + 1\n",
        "else:\n",
        "    print('Sempre executa o bloco de código do else caso um break não tenha ocorrido.')"
      ]
    },
    {
      "cell_type": "markdown",
      "metadata": {
        "id": "CmUtZoe1Ohre"
      },
      "source": [
        "#### Somando todos os valores de 0 a 99."
      ]
    },
    {
      "cell_type": "code",
      "execution_count": null,
      "metadata": {
        "scrolled": true,
        "id": "SDfhtqaPOhre"
      },
      "outputs": [],
      "source": [
        "# Variável auxiliar usada para contar as iterações e terminar o laço.\n",
        "i = 0\n",
        "\n",
        "# Variável auxiliar utilizada para acumular os valores.\n",
        "soma = 0\n",
        "\n",
        "# Enquanto x for menor do que 100 faça.\n",
        "while i < 100:\n",
        "    soma = soma + i\n",
        "    i += 1\n",
        "\n",
        "# Imprime resultado da soma.\n",
        "print('Resultado:', soma)"
      ]
    },
    {
      "cell_type": "markdown",
      "metadata": {
        "id": "iGfKyOrLOhre"
      },
      "source": [
        "## Tarefas\n",
        "\n",
        "1. <span style=\"color:blue\">**QUIZ - Laços de repetição**</span>: respondam ao questionário sobre laços de repetição no MS teams, por favor.\n",
        "2. <span style=\"color:blue\">**Laboratório #3**</span>: cliquem em um dos links abaixo para accessar os exercícios do laboratório #3.\n",
        "\n",
        "[![Google Colab](https://badgen.net/badge/Launch/on%20Google%20Colab/blue?icon=terminal)](https://colab.research.google.com/github/zz4fap/python-programming/blob/master/labs/Laboratorio3.ipynb)\n",
        "\n",
        "**IMPORTANTE**: Para acessar o material das aulas e realizar as entregas dos exercícios de laboratório, por favor, leiam o tutorial no seguinte link:\n",
        "[Material-das-Aulas](../docs/Acesso-ao-material-das-aulas-resolucao-e-entrega-dos-laboratorios.pdf)"
      ]
    },
    {
      "cell_type": "markdown",
      "metadata": {
        "id": "Gy4peAuEOhre"
      },
      "source": [
        "<img src=\"https://github.com/zz4fap/python-programming/blob/master/figures/obrigado.png?raw=1\">"
      ]
    }
  ],
  "metadata": {
    "kernelspec": {
      "display_name": "Python 3",
      "name": "python3"
    },
    "language_info": {
      "codemirror_mode": {
        "name": "ipython",
        "version": 3
      },
      "file_extension": ".py",
      "mimetype": "text/x-python",
      "name": "python",
      "nbconvert_exporter": "python",
      "pygments_lexer": "ipython3",
      "version": "3.10.9"
    },
    "colab": {
      "provenance": [],
      "generative_ai_disabled": true
    }
  },
  "nbformat": 4,
  "nbformat_minor": 0
}