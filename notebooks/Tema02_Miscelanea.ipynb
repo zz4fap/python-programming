{
  "cells": [
    {
      "cell_type": "markdown",
      "metadata": {
        "id": "MbVzGdajaO5T"
      },
      "source": [
        "# Tipos de dados, operadores aritméticos, módulos, pacotes, strings e mensagens de erro\n",
        "\n",
        "Nesta aula, nós veremos os seguintes tópicos:\n",
        "\n",
        "* Tipos de dados.\n",
        "* Operadores aritméticos.\n",
        "* Módulos e pacotes.\n",
        "* Manipulação de cadeias de caracteres (Strings).\n",
        "* Mensagens de erro."
      ]
    },
    {
      "cell_type": "markdown",
      "metadata": {
        "id": "ZGxqtX8uaO5V"
      },
      "source": [
        "## Tipos de dados\n",
        "\n",
        "Em Python, temos os seguintes tipos de **dados nativos** (também chamados de **embutidos**, do Inglês **built-in**):\n",
        "\n",
        "|  Categoria |   Nome  |         Descrição        |\n",
        "|:----------:|:-------:|:------------------------:|\n",
        "|  Numérica  |   int   |         Inteiros         |\n",
        "|            |  float  |      Ponto flutuante     |\n",
        "|            | complex |      Número complexo     |\n",
        "|            |   bool  | Boolean (True ou false)  |\n",
        "| Sequencial |   str   |   String de caracteres   |\n",
        "|            |   list  |           Lista          |\n",
        "|            |  tuple  |           Tupla          |\n",
        "|            |  range  |   Intervalo de valores   |\n",
        "|  Conjunto  |   set   |     Conjunto             |\n",
        "|            | frozenset |       Conjunto imutável                 |\n",
        "| Mapeamento |   dict  |     Dicionário           |\n",
        "| Nula       | NoneType | Valor nulo |\n",
        "\n",
        "**OBS**.: Esses tipos de dados são chamados de **embutidos** pois são pré-definidos pela linguagem e estão sempre disponíveis em tempo de execução, sem a necessidade de se importar nenhuma biblioteca.\n",
        "\n",
        "Esses tipos de dados são **objetos** com métodos e atributos, pois em Python, tudo é objeto.\n",
        "\n",
        "Relembrando, em Python, as variáveis **NÃO**:\n",
        "\n",
        "* Precisam ser declaradas ou definidas com antecedência.\n",
        "    + Para criar uma variável, basta atribuir um valor a ela.\n",
        "* Podem ser utilizadas em uma expressão sem terem sido inicializadas.\n",
        "    + O interpretador precisa de uma atribuição de valor para inferir o tipo da variável.\n",
        "* São estáticas, como em outras linguagens de programação.\n",
        "    + Tipo da variável pode mudar dinamicamente.\n",
        "* Precisam ser destruídas explicitamente.\n",
        "    + O gerenciador de memória as deleta automaticamente quando não existem mais referências a elas.\n",
        "    \n",
        "Além disso, os tipos de dados em Python podem ser:\n",
        "\n",
        "+ **Mutáveis**: permitem que os conteúdos das variáveis sejam alterados.\n",
        "+ **Imutáveis**: não permitem que os conteúdos das variáveis sejam alterados.\n",
        "\n",
        "### Exemplos\n",
        "\n",
        "#### Tipagem dinâmica.\n",
        "\n",
        "**OBS**.:\n",
        "\n",
        "+ Nos próximos exemplos, usamos a **função embutida** `type()` para verificar o tipo das variáveis em tempo de execução.\n",
        "+ Usamos **caracteres de formatação** com a **função embutida** `print()`, onde por exemplo `%s` é substituído por uma string, `%d`, por um valor interiro e assim por diante. Vejam o exemplo abaixo:\n",
        "```python\n",
        "print('String: %s, Inteiro: %d, Float: %f' % (var_string, var_int, var_float))\n",
        "```"
      ]
    },
    {
      "cell_type": "code",
      "execution_count": null,
      "metadata": {
        "id": "wtV0CJN-aO5W"
      },
      "outputs": [],
      "source": [
        "# A variável 'a' recebe o valor inteiro 1.\n",
        "a = 1\n",
        "# OBS.: type() é uma função embutida que retorna o tipo de um objeto.\n",
        "print('type(a): %s - valor de a: %d' % (type(a), a))\n",
        "\n",
        "# Agora, a mesma variável 'a' recebe a string 'teste'.\n",
        "a = 'teste'\n",
        "print('type(a): %s - valor de a: %s' % (type(a), a))"
      ]
    },
    {
      "cell_type": "markdown",
      "metadata": {
        "id": "_YtGoQDnaO5X"
      },
      "source": [
        "#### Uso sem inicialização da variável."
      ]
    },
    {
      "cell_type": "code",
      "execution_count": null,
      "metadata": {
        "id": "7ZjjXDuwaO5Y"
      },
      "outputs": [],
      "source": [
        "# Tentando imprimir o valor da variável 'b', a qual não foi inicializada.\n",
        "print('O valor de b é', b)"
      ]
    },
    {
      "cell_type": "markdown",
      "metadata": {
        "id": "qYL3m3KyaO5Y"
      },
      "source": [
        "#### Tipos imutáveis e mutáveis.\n",
        "\n",
        "Strings são objetos **imutáveis**, ou seja, são objetos apenas para leitura.\n",
        "\n",
        "Depois de instanciarmos um objeto do tipo String, não podemos alterar seu conteúdo, apenas lê-lo."
      ]
    },
    {
      "cell_type": "code",
      "execution_count": null,
      "metadata": {
        "id": "Xxi44A1daO5Y"
      },
      "outputs": [],
      "source": [
        "# Inicializando uma variável com um objeto do tipo string.\n",
        "a = 'casa'\n",
        "print('type(a): %s - valor de a: %s' % (type(a), a))\n",
        "\n",
        "# Podemos ler o conteúdo da string.\n",
        "print('\\nConteúdo do primeiro elemento da string:', a[0])\n",
        "\n",
        "# Tentando alterar um caracter de um objeto do tipo string.\n",
        "a[0] = 't'"
      ]
    },
    {
      "cell_type": "markdown",
      "metadata": {
        "id": "Po8jdc29aO5Z"
      },
      "source": [
        "Listas são objetos **mutáveis**.\n",
        "\n",
        "Depois de instanciarmos um objeto do tipo Lista, podemos lê-lo e alterar seu conteúdo."
      ]
    },
    {
      "cell_type": "code",
      "execution_count": null,
      "metadata": {
        "id": "8ECSTMiYaO5Z"
      },
      "outputs": [],
      "source": [
        "# Inicializando uma variável com um objeto do tipo lista.\n",
        "l = ['c','a','s','a']\n",
        "print('type(l): %s - valor de l: %s' % (type(l), l))\n",
        "\n",
        "# Podemos ler o conteúdo da string.\n",
        "print('\\nConteúdo do primeiro elemento da lista:', l[0])\n",
        "\n",
        "# Alterando um caracter de um objeto do tipo lista.\n",
        "l[0] = 't'\n",
        "print('\\ntype(l): %s - valor de l: %s' % (type(l), l))"
      ]
    },
    {
      "cell_type": "markdown",
      "metadata": {
        "id": "YiPdkykTaO5Z"
      },
      "source": [
        "### Tarefa\n",
        "\n",
        "1. <span style=\"color:blue\">**QUIZ - Tipos de dados**</span>: respondam ao quiz sobre tipos de dados no MS teams, por favor."
      ]
    },
    {
      "cell_type": "markdown",
      "metadata": {
        "id": "q_64mGgSaO5Z"
      },
      "source": [
        "## Operadores Aritméticos\n",
        "\n",
        "Em Python, temos os seguintes operadores aritméticos:\n",
        "\n",
        "| Operador |       Nome      |  Exemplo | Resultado | Comentário          |\n",
        "|:--------:|:---------------:|:--------:|:---------:|:-------------------:|\n",
        "|     +    |      Adição     |   1 + 1  |     2     | retorna a soma de dois valores                    |\n",
        "|     -    |    Subtração    |   2 - 1  |     1     | retorna a subtração de dois valores                    |\n",
        "|     *    |  Multiplicação  |   2 * 2  |     4     | retorna a multiplicação de dois valores                     |\n",
        "|     /    |     Divisão     |  100 / 4 |    25.0   | retorna a divisão em ponto flutuante de dois valores |\n",
        "|    **    |  Exponenciação  |  2 ** 3  |     8     | retorna o resultado de número elevado à potência do outro                    |\n",
        "|    //    | Divisão inteira | 5 // 3 |     1    | retorna apenas a parte inteira (quociente) da divisão entre dois valores                    |\n",
        "|     %    |      Módulo     |   5 % 3  |     2     | retorna o resto da divisão entre dois valores                    |\n",
        "\n",
        "\n",
        "### Ordem de precedência dos  operadores\n",
        "\n",
        "* A tabela a seguir apresenta a ordem de precedência dos operadores aritméticos, **da mais alta para a mais baixa**.\n",
        "* Esta tabela será atualizada quando aprendermos outros operadores.\n",
        "\n",
        "|   Precedência   |           Categoria           |  Operadores |               Comentário              |\n",
        "|:---------:|:-----------------------------:|:-----------:|:-------------------------------------:|\n",
        "|  4 (alta) |           parênteses          |      ()     |                                       |\n",
        "|     3     |            expoente           |      **     |                                       |\n",
        "|     2     | multiplicação, divisão, resto | *, /, //, % | Aplicados da esquerda para a direita na ordem em que aparecem na expressão. |\n",
        "| 1 (baixa) |       adição, subtração       |     +, -    | Aplicados da esquerda para a direita na ordem em que aparecem na expressão. |\n",
        "\n",
        "**IMPORTANTE**: Operadores com mesmo nível de precedência são aplicados da **esquerda para a direita** na ordem em que aparecem na expressão.\n",
        "\n",
        "### Exemplos"
      ]
    },
    {
      "cell_type": "code",
      "execution_count": null,
      "metadata": {
        "id": "Jc4lOox0aO5Z"
      },
      "outputs": [],
      "source": [
        "# A multiplicação tem ordem de precedência maior do que a subtração.\n",
        "a = 10 - 4 * 2\n",
        "\n",
        "print('O resultado é:', a)"
      ]
    },
    {
      "cell_type": "code",
      "execution_count": null,
      "metadata": {
        "id": "d9nsORcbaO5a"
      },
      "outputs": [],
      "source": [
        "# Os parênteses têm a mais alta ordem de precedência.\n",
        "a = (10 - 4) * 2\n",
        "\n",
        "print('O resultado é:', a)"
      ]
    },
    {
      "cell_type": "code",
      "execution_count": null,
      "metadata": {
        "id": "iSic2_j4aO5a"
      },
      "outputs": [],
      "source": [
        "# Operadores com mesma ordem precedência são aplicados da esquerda para a direita na ordem em que aparecem na expressão.\n",
        "a = 5 // 2 * 4 / 8\n",
        "\n",
        "print('O resultado é:', a)"
      ]
    },
    {
      "cell_type": "markdown",
      "metadata": {
        "id": "ID1pejTHaO5b"
      },
      "source": [
        "### Tarefa\n",
        "\n",
        "1. <span style=\"color:blue\">**QUIZ - Operadores Aritméticos**</span>: respondam ao quiz sobre operadores aritméticos no MS teams, por favor."
      ]
    },
    {
      "cell_type": "markdown",
      "metadata": {
        "id": "iSND7su2aO5b"
      },
      "source": [
        "## Módulos e pacotes\n",
        "\n",
        "### Módulos\n",
        "\n",
        "* Em Python, um **módulo nada mais é do que um arquivo** que contém o código que implementa **funcionalidades específicas e relacionadas** que podem ser **reutilizadas** em diferentes partes de um programa ou em programas diferentes.\n",
        "    + Um módulo pode conter um conjunto de funções, classes, variáveis, etc.\n",
        "    + Por exemplo, em um jogo de vídeo game, um módulo de som é responsável pelo processamento de audio e outro módulo, imagem, pelo processamento de imagens.\n",
        "* Cada módulo é um arquivo diferente, que pode ser editado separadamente.\n",
        "* Módulos são arquivos com extensão `.py`.\n",
        "* Para usarmos as funcionalidades contidas em um módulo, nós o importamos.\n",
        "* Para importar, usamos o nome do módulo.\n",
        "* O nome do módulo é o **nome do arquivo sem a extensão `.py`**.\n",
        "    + Por exemplo, o arquivo `processamento.py` possui código que queremos reutilizar. Portanto, o importamos como um módulo usando o nome `processamento`."
      ]
    },
    {
      "cell_type": "markdown",
      "metadata": {
        "id": "ZHmZ_d73aO5b"
      },
      "source": [
        "Vejamos algumas maneiras diferentes de importar um módulo e usar as implementações contidas nele.\n",
        "\n",
        "Para invocarmos uma implementação do módulo (i.e., função, classe, variável, etc.), precisamos passar o nome do módulo seguido de ponto e o nome da implementação que desejamos usar.\n",
        "\n",
        "Desta forma, o interpretador sabe onde buscar a implementação.\n",
        "\n",
        "* Os módulos são importados usando-se a **palavra reservada** `import` seguida pelo nome do módulo.\n",
        "```python\n",
        "import processamento\n",
        "processamento.playVideo()\n",
        "```\n",
        "\n",
        "* Para deixar o código mais conciso, podemos criar um **apelido** ao importar um módulo, usando a **palavra reservada** `as`.\n",
        "```python\n",
        "import processamento as p\n",
        "p.playVideo()\n",
        "```\n",
        "\n",
        "* Podemos também optar por importar apenas partes de um módulo (por exemplo, apenas uma função), usando a **palavra reservada** `from`.\n",
        "```python\n",
        "from processamento import playVideo\n",
        "playVideo()\n",
        "```\n",
        "\n",
        "* Podemos importar mais de uma parte do módulo usando vírgulas.\n",
        "```python\n",
        "from processamento import playVideo, playAudio\n",
        "playVideo()\n",
        "playAudio()\n",
        "```"
      ]
    },
    {
      "cell_type": "markdown",
      "metadata": {
        "id": "TOiRSFLVaO5b"
      },
      "source": [
        "### Pacotes\n",
        "\n",
        "* Pacotes são simplesmente **diretórios**.\n",
        "* São usados para estruturar o código.\n",
        "* Pacotes podem conter módulos e/ou outros pacotes.\n",
        "* O nome de um pacote é o nome do diretório contendo módulos ou outros pacotes.\n",
        "* Pacotes são importados da mesma maneira que módulos, ou seja, usando a **palavra reservada** `import`.\n",
        "\n",
        "**Exemplo**\n",
        "\n",
        "<img src=\"https://github.com/zz4fap/python-programming/blob/master/figures/modulos_e_pacotes.png?raw=1\" width=\"500px\">"
      ]
    },
    {
      "cell_type": "markdown",
      "metadata": {
        "id": "OWhL3_BGaO5b"
      },
      "source": [
        "#### Exemplos\n",
        "\n",
        "#### Importando um módulo já existente.\n",
        "\n",
        "+ O módulo `math` é um módulo que contém a implementação de várias funções matemáticas como raíz quadrada, logaritmo, seno, cosseno, etc.\n",
        "+ Para saber mais sobre as várias funções implementadas pelo módulo, acesse: https://docs.python.org/3/library/math.html"
      ]
    },
    {
      "cell_type": "code",
      "execution_count": null,
      "metadata": {
        "id": "hQVe9ZY1aO5b"
      },
      "outputs": [],
      "source": [
        "# Importa o módulo math.\n",
        "import math\n",
        "\n",
        "# Executa a função sqrt(), que é parte do módulo math.\n",
        "# Precisamos sempre especificar o caminho até a função.\n",
        "print('O resultado da raíz quadrada é:', math.sqrt(25))"
      ]
    },
    {
      "cell_type": "code",
      "execution_count": null,
      "metadata": {
        "id": "Rqzhc-wsaO5b"
      },
      "outputs": [],
      "source": [
        "# Cria um apelido para o módulo math.\n",
        "import math as m\n",
        "\n",
        "# Executa a função sqrt().\n",
        "print('O resultado da raíz quadrada é:', m.sqrt(49))"
      ]
    },
    {
      "cell_type": "code",
      "execution_count": null,
      "metadata": {
        "id": "nDiFIZwYaO5b"
      },
      "outputs": [],
      "source": [
        "# Importando apenas a função sqrt() do módulo math.\n",
        "from math import sqrt\n",
        "\n",
        "# Executa a função sqrt().\n",
        "print('O resultado da raíz quadrada é:', sqrt(100))"
      ]
    },
    {
      "cell_type": "markdown",
      "metadata": {
        "id": "i-YO_-KuaO5c"
      },
      "source": [
        "#### Criando e importanto meu próprio módulo.\n",
        "\n",
        "+ Vamos criar um arquivo chamado `meu_modulo.py` com uma funcionalidade e importá-lo como um módulo para reusar seu código.\n",
        "+ Este módulo deve conter uma função chamada `soma`, a qual recebe dois valores de entrada e retorna a soma deles.\n",
        "\n",
        "**OBS**.: O arquivo contendo as funcionalidades do módulo deve ter a extensão `.py`."
      ]
    },
    {
      "cell_type": "code",
      "execution_count": null,
      "metadata": {
        "id": "GkAcL3QsaO5c"
      },
      "outputs": [],
      "source": [
        "# Importa o módulo.\n",
        "import meu_modulo\n",
        "\n",
        "# Reusa a implementação da função soma do módulo.\n",
        "print('Resultado:', meu_modulo.soma(1,1))"
      ]
    },
    {
      "cell_type": "code",
      "execution_count": null,
      "metadata": {
        "id": "luY3FfzhaO5c"
      },
      "outputs": [],
      "source": [
        "# Cria um apelido para o módulo.\n",
        "import meu_modulo as mm\n",
        "\n",
        "# Reusa a implementação da função soma do módulo.\n",
        "print('Resultado:', mm.soma(1,2))"
      ]
    },
    {
      "cell_type": "code",
      "execution_count": null,
      "metadata": {
        "id": "xm3DuyMwaO5c"
      },
      "outputs": [],
      "source": [
        "# Importa apenas a função que iremos utilizar.\n",
        "from meu_modulo import soma\n",
        "\n",
        "# Reusa a implementação da função soma do módulo.\n",
        "print('Resultado:', soma(2,2))"
      ]
    },
    {
      "cell_type": "markdown",
      "metadata": {
        "id": "f9K6kowWaO5c"
      },
      "source": [
        "#### Criando e importanto módulos do meu próprio pacote.\n",
        "\n",
        "+ Vamos criar um pacote ou seja, um diretório, chamado `meu_pacote`.\n",
        "+ Este pacote deve conter dois arquivos, chamados `moduloA.py` e `moduloB.py`, os quais contêm as funcionalidades dos módulos `moduloA` e `moduloB`.\n",
        "+ O `móduloA` contém uma função chamada `multiplicação`, que recebe dois valores de entrada e retorna o produto entre eles.\n",
        "+ O `móduloB` contém uma função chamada `subtração`, que recebe dois valores de entrada e retorna a diferença entre eles."
      ]
    },
    {
      "cell_type": "code",
      "execution_count": null,
      "metadata": {
        "id": "ly9bVwqXaO5c"
      },
      "outputs": [],
      "source": [
        "# Importanto o módulo A.\n",
        "# OBS.: Vejam que precisamos passar o caminho até o módulo que queremos importar.\n",
        "import meu_pacote.moduloA\n",
        "\n",
        "# Reusa a implementação da função multiplicação do módulo.\n",
        "# OBS.: Percebam que quanto mais longo o caminho até o módulo, mais longo ficará o código.\n",
        "print('Resultado:', meu_pacote.moduloA.multiplicação(2,2))"
      ]
    },
    {
      "cell_type": "code",
      "execution_count": null,
      "metadata": {
        "id": "cQJZWdr5aO5c"
      },
      "outputs": [],
      "source": [
        "# Dando um apelido para o módulo A.\n",
        "import meu_pacote.moduloA as ma\n",
        "\n",
        "# Reusa a implementação da função multiplicação do módulo.\n",
        "print('Resultado:', ma.multiplicação(2,3))"
      ]
    },
    {
      "cell_type": "code",
      "execution_count": null,
      "metadata": {
        "id": "2KfM6nahaO5d"
      },
      "outputs": [],
      "source": [
        "# Importa apenas a função que iremos utilizar.\n",
        "from meu_pacote.moduloA import multiplicação\n",
        "\n",
        "# Reusa a implementação da função multiplicação do módulo.\n",
        "print('Resultado:', ma.multiplicação(3,3))"
      ]
    },
    {
      "cell_type": "code",
      "execution_count": null,
      "metadata": {
        "id": "7ao6F6EbaO5d"
      },
      "outputs": [],
      "source": [
        "# Dando um apelido para o módulo B.\n",
        "import meu_pacote.moduloB as mb\n",
        "\n",
        "# Reusa a implementação da função subtração do módulo.\n",
        "print('Resultado:', mb.subtração(2,2))"
      ]
    },
    {
      "cell_type": "markdown",
      "metadata": {
        "id": "3GoZV2IEaO5d"
      },
      "source": [
        "### Tarefa\n",
        "\n",
        "1. <span style=\"color:blue\">**QUIZ - Módulos e pacotes**</span>: respondam ao quiz sobre módulos e pacotes no MS teams, por favor."
      ]
    },
    {
      "cell_type": "markdown",
      "metadata": {
        "id": "362Q-RYNaO5d"
      },
      "source": [
        "## Manipulação de cadeias de caracteres (strings)\n",
        "\n",
        "* Strings são sequências de caracteres.\n",
        "* Em Python, strings são cercadas por **aspas simples** ou **aspas duplas**.\n",
        "* O Python não possui um tipo de dados de caractere.\n",
        "    + Um único caractere é simplesmente uma string com o comprimento igual a 1.\n",
        "* Em Python, uma string é representada pelo tipo (ou classe) `str`.\n",
        "* Strings são tipos de dados imutáveis.\n",
        "    \n",
        "### Exemplos\n",
        "\n",
        "#### Strings são cercadas por aspas simples ou duplas."
      ]
    },
    {
      "cell_type": "code",
      "execution_count": null,
      "metadata": {
        "id": "yA8G-YciaO5d"
      },
      "outputs": [],
      "source": [
        "# As duas formas são equivalentes.\n",
        "print('Olá')\n",
        "print(\"Olá\")"
      ]
    },
    {
      "cell_type": "markdown",
      "metadata": {
        "id": "kn9yX9pLaO5d"
      },
      "source": [
        "#### Python não possui um tipo char, mesmo um único caractere é uma string."
      ]
    },
    {
      "cell_type": "code",
      "execution_count": null,
      "metadata": {
        "id": "x-RQUaYdaO5d"
      },
      "outputs": [],
      "source": [
        "var1 = 'a'\n",
        "print('type(var1):', type(var1))\n",
        "\n",
        "var2 = \"b\"\n",
        "print('type(var2):', type(var2))\n",
        "\n",
        "var3 = 'inatel'\n",
        "print('type(var3):', type(var3))"
      ]
    },
    {
      "cell_type": "markdown",
      "metadata": {
        "id": "rcX0lKfSaO5d"
      },
      "source": [
        "#### Strings são imutáveis!"
      ]
    },
    {
      "cell_type": "code",
      "execution_count": null,
      "metadata": {
        "id": "nOBGzsDnaO5d"
      },
      "outputs": [],
      "source": [
        "string = 'Olá'\n",
        "\n",
        "# Tentando alterar o caracter da primeira posição.\n",
        "string[0] = 'b'"
      ]
    },
    {
      "cell_type": "markdown",
      "metadata": {
        "id": "1-Gy1sbLaO5d"
      },
      "source": [
        "#### Porém, podemos acessar (i.e., ler) os elementos (ou caracteres) da string."
      ]
    },
    {
      "cell_type": "code",
      "execution_count": null,
      "metadata": {
        "id": "Gz2yONMiaO5h"
      },
      "outputs": [],
      "source": [
        "string = 'Olá'\n",
        "\n",
        "# Imprimindo os elementos/caracteres da string.\n",
        "print(string[0])\n",
        "print(string[1])\n",
        "print(string[2])"
      ]
    },
    {
      "cell_type": "markdown",
      "metadata": {
        "id": "cbBdPgcAaO5h"
      },
      "source": [
        "#### Strings com múltiplas linhas.\n",
        "\n",
        "Para criar strings com múltiplas linhas, usamos três (3) aspas simples ou duplas."
      ]
    },
    {
      "cell_type": "code",
      "execution_count": null,
      "metadata": {
        "id": "MW50o29maO5h"
      },
      "outputs": [],
      "source": [
        "a = \"\"\"Lorem ipsum dolor sit amet,\n",
        "consectetur adipiscing elit,\n",
        "sed do eiusmod tempor incididunt\n",
        "ut labore et dolore magna aliqua.\"\"\"\n",
        "\n",
        "print(a)"
      ]
    },
    {
      "cell_type": "code",
      "execution_count": null,
      "metadata": {
        "id": "x6Zf0UfpaO5h"
      },
      "outputs": [],
      "source": [
        "a = '''Lorem ipsum dolor sit amet,\n",
        "consectetur adipiscing elit,\n",
        "sed do eiusmod tempor incididunt\n",
        "ut labore et dolore magna aliqua.'''\n",
        "\n",
        "print(a)"
      ]
    },
    {
      "cell_type": "markdown",
      "metadata": {
        "id": "zkbHin_taO5i"
      },
      "source": [
        "#### Strings podem ser concatenadas com o sinal +."
      ]
    },
    {
      "cell_type": "code",
      "execution_count": null,
      "metadata": {
        "id": "MF-rD61JaO5i"
      },
      "outputs": [],
      "source": [
        "str1 = \"C126\"\n",
        "str2 = \" - \"\n",
        "str3 = \"Programação em Python\"\n",
        "\n",
        "str4 = str1 + str2 + str3\n",
        "\n",
        "# Imprimindo o resultado da concatenação.\n",
        "print(str4)"
      ]
    },
    {
      "cell_type": "markdown",
      "metadata": {
        "id": "YnLc3qQuaO5i"
      },
      "source": [
        "#### Quando concatenamos uma string com um número, precisamos fazer uma conversão explícita.\n",
        "\n",
        "**OBS**.:\n",
        "\n",
        "+ Lembrem-se que Python é uma linguagem **fortemente tipada** e que conversões entre **tipos não compatíveis** precisam ser explícitas.\n",
        "+ A **função embutida** `str()` converte um número em string."
      ]
    },
    {
      "cell_type": "code",
      "execution_count": null,
      "metadata": {
        "id": "F-ZhSP0faO5i"
      },
      "outputs": [],
      "source": [
        "# A função embutida `str()` converte um número em string.\n",
        "str1 = \"O valor de pi é aproximadamente \" + str(3.14)\n",
        "\n",
        "# Imprimindo o resultado da concatenação.\n",
        "print(str1)"
      ]
    },
    {
      "cell_type": "markdown",
      "metadata": {
        "id": "Y891jXL5aO5i"
      },
      "source": [
        "#### Funções e métodos mais usados da classe string\n",
        "\n",
        "|   Função  |  Tipo  |                               Descrição                               |\n",
        "|:---------:|:------:|:---------------------------------------------------------------------:|\n",
        "|   len()   | função |           retorna o tamanho da string em número de caracteres.          |\n",
        "|   str()   | função |                           converte um objeto em string.                          |\n",
        "|  lower()  | método |              transforma todos os caracteres da string para caixa baixa.               |\n",
        "|  upper()  | método |              transforma todos os caracteres da string para caixa alta.              |\n",
        "| isalpha() | método |retorna `True` se a string contiver apenas caracteres que representam letras, caso contrário retorna `False`.|\n",
        "| isdigit() | método |retorna `True` se a string contiver apenas caracteres que representam números, caso contrário, retorna `False`.|\n",
        "|  strip()  | método |     remove os espaços em branco do começo e do final da string.      |\n",
        "| replace() | método |                substitui uma string ou parte de uma string por outra string.                |\n",
        "|  split()  | método |divide uma string em substrings sempre que encontrar a ocorrência de um separador (i.e., uma string). |\n",
        "\n",
        "### Exemplos\n",
        "\n",
        "Alguns exemplos de uso desses métodos seguem abaixo."
      ]
    },
    {
      "cell_type": "code",
      "execution_count": null,
      "metadata": {
        "id": "MtpiF4w2aO5i"
      },
      "outputs": [],
      "source": [
        "print('Comprimento da string:', len(\"inatel\"))\n",
        "\n",
        "print(\"Pi:\", str(3.1415))\n",
        "\n",
        "# Exemplo de uso de objeto anônimo, pois como não se atribui a nenhuma variável, não se pode referenciar este mesmo objeto após o seu uso.\n",
        "print(\"Caixa baixa:\", \"INATEL\".lower())\n",
        "\n",
        "string = \"inatel\"\n",
        "print(\"Caixa alta:\", string.upper())\n",
        "\n",
        "print(\"A string contém apenas letras?\", \"ws34rt\".isalpha())"
      ]
    },
    {
      "cell_type": "code",
      "execution_count": null,
      "metadata": {
        "id": "fnIUW1KeaO5i"
      },
      "outputs": [],
      "source": [
        "print(\"A string contém apenas números?\", \"7000\".isdigit())\n",
        "\n",
        "print(\"   remove todos espaços em branco.    \".strip())\n",
        "\n",
        "print(\"INATEL\".replace('TEL','teste'))\n",
        "\n",
        "print(\"Olá, Mundo! 1, 2, 3\".split(\",\"))"
      ]
    },
    {
      "cell_type": "markdown",
      "metadata": {
        "id": "OVMccFR6aO5i"
      },
      "source": [
        "**OBS**.: Percebam que o método `split()` retorna uma lista onde cada elemento é uma das substrings criadas."
      ]
    },
    {
      "cell_type": "markdown",
      "metadata": {
        "id": "OAlEHoxGaO5i"
      },
      "source": [
        "#### Acessando elementos de uma string através de seus índices\n",
        "\n",
        "Nós podemos indexar strings e assim acessar cada um de seus caracteres (ou elementos).\n",
        "\n",
        "**OBS**.: Os índices de uma string começam sempre de zero."
      ]
    },
    {
      "cell_type": "code",
      "execution_count": null,
      "metadata": {
        "id": "y5r7QvbyaO5i"
      },
      "outputs": [],
      "source": [
        "# Atribuindo a string 'python' à variável 'str1'.\n",
        "str1 = 'python'\n",
        "\n",
        "'''\n",
        "Como a string é uma sequência de caracteres,\n",
        "cada um dos índices dá acesso a um caracter da sequência.\n",
        "+---+---+---+---+---+---+\n",
        "| p | y | t | h | o | n |\n",
        "+---+---+---+---+---+---+\n",
        "  0   1   2   3   4   5\n",
        "'''\n",
        "\n",
        "print(str1[0])\n",
        "print(str1[1])\n",
        "print(str1[2])\n",
        "print(str1[3])\n",
        "print(str1[4])\n",
        "print(str1[5])"
      ]
    },
    {
      "cell_type": "markdown",
      "metadata": {
        "id": "jvwbAtbAaO5j"
      },
      "source": [
        "#### Podemos acessar o último caractere de uma string com a função `len()`.\n",
        "\n",
        "**OBS**.: Usando a função `len()`, não precisamos saber exatamente qual é o índice correspondente ao último caractere."
      ]
    },
    {
      "cell_type": "code",
      "execution_count": null,
      "metadata": {
        "id": "e37TgKxZaO5j"
      },
      "outputs": [],
      "source": [
        "str1 = 'python'\n",
        "\n",
        "print('Tamanho da string:', len(str1))\n",
        "\n",
        "print('Acessando o último caractere com seu índice:', str1[5])\n",
        "print('Acessando o último caractere com a função len:', str1[len(str1)-1])"
      ]
    },
    {
      "cell_type": "markdown",
      "metadata": {
        "id": "X9nPworPaO5j"
      },
      "source": [
        "#### Fatiando strings\n",
        "\n",
        "+ Nós podemos retornar um intervalo de caracteres usando a sintaxe de fatiamento de strings.\n",
        "+ Para isso, basta especificar o **índice inicial e o índice final, separados por dois pontos (`:`), do intervalo** para retornar uma parte, ou seja, uma fatia, da string.\n",
        "+ A sintaxe para criação de substrings é mostrada abaixo.\n",
        "\n",
        "```python\n",
        "sub_string = string[indice_inicial : indice_final]\n",
        "```\n",
        "\n",
        "**OBS**.:\n",
        "\n",
        "* O intervalo não é fechado no índice final da fatia, ou seja, o caracter correspondente a esse índice não será incluído na fatia."
      ]
    },
    {
      "cell_type": "code",
      "execution_count": null,
      "metadata": {
        "id": "xKcfclp7aO5j"
      },
      "outputs": [],
      "source": [
        "# Atribuindo a string 'Olá, Mundo' à variável str1.\n",
        "str1 = \"Olá, Mundo!\"\n",
        "\n",
        "# Fatia os caracteres da posição de índice 5 até a posição de índice 10 (não incluso).\n",
        "# OBS.: O valor final do intervalo da fatia não é fechado, portanto, o índice 10 não é incluído na fatia.\n",
        "fatia = str1[5:10]\n",
        "\n",
        "print(fatia)"
      ]
    },
    {
      "cell_type": "markdown",
      "metadata": {
        "id": "-ocgOefBaO5j"
      },
      "source": [
        "Podemos criar uma fatia desde um índice qualquer até o último caractere de uma string usando a função `len()`."
      ]
    },
    {
      "cell_type": "code",
      "execution_count": null,
      "metadata": {
        "id": "MjXILK3taO5j"
      },
      "outputs": [],
      "source": [
        "str2 = 'INATEL'\n",
        "\n",
        "# Como o valor final do intervalo da fatia não é fechado, precisamos sempre passar o índice final desejado mais 1, que é o que o len() faz.\n",
        "fatia = str2[3:len(str2)]\n",
        "\n",
        "print(fatia)"
      ]
    },
    {
      "cell_type": "markdown",
      "metadata": {
        "id": "PMU8M0K1aO5j"
      },
      "source": [
        "Outra forma de fazermos o mesmo feito no exemplo anterior é simplemente omitir o valor do índice final."
      ]
    },
    {
      "cell_type": "code",
      "execution_count": null,
      "metadata": {
        "id": "uc1TxpbqaO5j"
      },
      "outputs": [],
      "source": [
        "str2 = 'INATEL'\n",
        "\n",
        "fatia = str2[3:]\n",
        "\n",
        "print(fatia)"
      ]
    },
    {
      "cell_type": "markdown",
      "metadata": {
        "id": "UKNsG0qbaO5j"
      },
      "source": [
        "Podemos criar uma fatia desde o início da string original sem necesariamente especificar o índice 0."
      ]
    },
    {
      "cell_type": "code",
      "execution_count": null,
      "metadata": {
        "id": "Hgf9oCKOaO5k"
      },
      "outputs": [],
      "source": [
        "str2 = 'INATEL'\n",
        "\n",
        "fatia = str2[:4]\n",
        "\n",
        "print(fatia)"
      ]
    },
    {
      "cell_type": "markdown",
      "metadata": {
        "id": "WmuiPbwoaO5k"
      },
      "source": [
        "Podemos usar **números negativos** como índices para acessar as posições de uma string em **ordem reversa**, ou seja, **do fim para o início**.\n",
        "\n",
        "Desta forma, o índice -1 se refere ao último caractere da string, o -2 se refere ao penúltimo caractere, e assim por diante."
      ]
    },
    {
      "cell_type": "code",
      "execution_count": null,
      "metadata": {
        "id": "lKBma1mzaO5k"
      },
      "outputs": [],
      "source": [
        "str2 = 'INATEL'\n",
        "\n",
        "print('Último caractere:', str2[-1])             # mostra o valor do último caractere da string\n",
        "print('Penúltimo caractere:', str2[-2])          # mostra o valor do penúltimo caractere da string\n",
        "print('Primeiro caractere:', str2[-6])           # mostra o valor do primeiro caractere da string\n",
        "print('Primeiro caractere:', str2[-len(str2)])   # também mostra o primeiro caractere da string, mas usando a função len()"
      ]
    },
    {
      "cell_type": "markdown",
      "metadata": {
        "id": "nosJXddoaO5k"
      },
      "source": [
        "### Tarefa\n",
        "\n",
        "1. <span style=\"color:blue\">**QUIZ - Strings**</span>: respondam ao quiz sobre strings no MS teams, por favor."
      ]
    },
    {
      "cell_type": "markdown",
      "metadata": {
        "id": "lxkSaSzwaO5k"
      },
      "source": [
        "## Mensagens de erro\n",
        "\n",
        "Ao tentar interpretar o código que escrevemos, o interpretador Python encerra a interpretação do código e avisa quando alguma instrução não foi compreendida através de mensagens de erro.\n",
        "\n",
        "Na sequência, discutimos os três tipos mais comuns de erro em Python: `SyntaxError`, `IndentationError`, e `NameError`.\n",
        "\n",
        "**IMPORTANTE: Leiam as mensagens de erro com calma para saber onde está o erro de sua implementação.**\n",
        "\n",
        "### Os erros mais frequentes em Python são:\n",
        "\n",
        "* **SyntaxError**: erro de sintaxe.\n",
        "    + Esses erros significam que o interpretador encontrou um erro de sintaxe no seu código.\n",
        "    + Isso significa que você escreveu algo que não está de acordo com a **estrutura gramatical da linguagem Python**.\n",
        "    \n",
        "#### Exemplos\n",
        "\n",
        "Esquecer dos dois pontos ao final do cabeçalho da função."
      ]
    },
    {
      "cell_type": "code",
      "execution_count": null,
      "metadata": {
        "id": "KNwi_lFxaO5k"
      },
      "outputs": [],
      "source": [
        "# Estão faltando os dois pontos (:) no cabeçalho da função.\n",
        "def mult(x,y)\n",
        "   return x*y"
      ]
    },
    {
      "cell_type": "markdown",
      "metadata": {
        "id": "Ww0Py8-6aO5k"
      },
      "source": [
        "**OBS**.: Percebam que a mensagem de erro sempre terá um indicador (`^` ou `--->`) apontando onde o interpretador encontrou o erro."
      ]
    },
    {
      "cell_type": "markdown",
      "metadata": {
        "id": "71fDaPf0aO5k"
      },
      "source": [
        "Esquecer de terminar uma string com aspas simples ou duplas."
      ]
    },
    {
      "cell_type": "code",
      "execution_count": null,
      "metadata": {
        "id": "1vmVrbHDaO5k"
      },
      "outputs": [],
      "source": [
        "string = \"Olá, Mundo!\n",
        "\n",
        "print(string)"
      ]
    },
    {
      "cell_type": "markdown",
      "metadata": {
        "id": "iW10ZcmRaO5k"
      },
      "source": [
        "Atribuir valores a variáveis com nomes de palavras reservadas."
      ]
    },
    {
      "cell_type": "code",
      "execution_count": null,
      "metadata": {
        "id": "4YylOSmLaO5l"
      },
      "outputs": [],
      "source": [
        "# \"def\" é uma palavra reservada\n",
        "def = 5"
      ]
    },
    {
      "cell_type": "markdown",
      "metadata": {
        "id": "2ZXV8WCIaO5l"
      },
      "source": [
        "Usar operadores de forma inválida ou incompleta."
      ]
    },
    {
      "cell_type": "code",
      "execution_count": null,
      "metadata": {
        "id": "G1dLtqAvaO5l"
      },
      "outputs": [],
      "source": [
        "# Divisão incompleta\n",
        "resultado = 10 /"
      ]
    },
    {
      "cell_type": "markdown",
      "metadata": {
        "id": "1sIqidJ2aO5l"
      },
      "source": [
        "* **IndentationError**: erro de indentação.\n",
        "    + Esse erro significa que há problemas de indentação (recuo) em seu código.\n",
        "    \n",
        "#### Exemplos"
      ]
    },
    {
      "cell_type": "code",
      "execution_count": null,
      "metadata": {
        "id": "Xlv_6-ofaO5l"
      },
      "outputs": [],
      "source": [
        "# As instruções que fazem parte do corpo da função não têm a indentação (ou recuo) correta\n",
        "# para que o interpretador entenda que elas fazem parte da função.\n",
        "def mult(x,y):\n",
        "a = x*y\n",
        "return a"
      ]
    },
    {
      "cell_type": "markdown",
      "metadata": {
        "id": "K243DvWiaO5l"
      },
      "source": [
        "Indentação após uma linha que não deveria ser um bloco de código."
      ]
    },
    {
      "cell_type": "code",
      "execution_count": null,
      "metadata": {
        "id": "MG0YU4WpaO5l"
      },
      "outputs": [],
      "source": [
        "x = 5\n",
        "    y = 10  # Indentação indevida"
      ]
    },
    {
      "cell_type": "markdown",
      "metadata": {
        "id": "YaVng1r4aO5l"
      },
      "source": [
        "* **NameError**: erro de nome.\n",
        "    + Esse erro significa que algum nome (por exemplo, variável, função, classe, etc.) foi usado sem ter sido definido anteriormente.\n",
        "    + Esse tipo de erro ocorre, por exemplo,\n",
        "        * ao chamarmos uma **função que ainda não foi definida**,\n",
        "        * ou quando acessamos uma **variável que não teve um valor atribuído a ela**.\n",
        "        \n",
        "#### Exemplos\n",
        "\n",
        "A função bar não foi definida anteriormente."
      ]
    },
    {
      "cell_type": "code",
      "execution_count": null,
      "metadata": {
        "id": "ua7gDIFqaO5l"
      },
      "outputs": [],
      "source": [
        "# A função bar não foi definida anteriormente.\n",
        "bar(x,y)"
      ]
    },
    {
      "cell_type": "markdown",
      "metadata": {
        "id": "VoOtLWrXaO5l"
      },
      "source": [
        "A variável 'variávelA' não teve nenhum valor atribuído a ela anteriormente"
      ]
    },
    {
      "cell_type": "code",
      "execution_count": null,
      "metadata": {
        "id": "l2MzbHEFaO5m"
      },
      "outputs": [],
      "source": [
        "# A variável 'variávelA' não teve nenhum valor atribuído a ela anteriormente.\n",
        "print('O valor da variável é:', variávelA)"
      ]
    },
    {
      "cell_type": "markdown",
      "metadata": {
        "id": "v9z18IHHaO5m"
      },
      "source": [
        "Referenciar uma variável local fora do escopo dela."
      ]
    },
    {
      "cell_type": "code",
      "execution_count": null,
      "metadata": {
        "id": "isg5RYDmaO5m"
      },
      "outputs": [],
      "source": [
        "def minha_funcao(a):\n",
        "    constante = 10 # \"constante\" é uma variável que só existe dentro do escopo (i.e., bloco de código) da função \"minha_função\".\n",
        "    return a*constante\n",
        "\n",
        "print(constante)  # \"constante\" não é acessível fora do escopo da função"
      ]
    },
    {
      "cell_type": "markdown",
      "metadata": {
        "id": "oCQsarGWaO5m"
      },
      "source": [
        "## Tarefas\n",
        "\n",
        "1. <span style=\"color:blue\">**QUIZ - Mensagens de erro**</span>: respondam ao quiz sobre mensagens de erro no MS teams, por favor.\n",
        "2. <span style=\"color:blue\">**Laboratório #2**</span>: cliquem em um dos links abaixo para accessar os exercícios do laboratório #2.\n",
        "\n",
        "[![Google Colab](https://badgen.net/badge/Launch/on%20Google%20Colab/blue?icon=terminal)](https://colab.research.google.com/github/zz4fap/python-programming/blob/master/labs/Laboratorio2.ipynb)\n",
        "\n",
        "**IMPORTANTE**: Para acessar o material das aulas e realizar as entregas dos exercícios de laboratório, por favor, leiam o tutorial no seguinte link:\n",
        "[Material-das-Aulas](../docs/Acesso-ao-material-das-aulas-resolucao-e-entrega-dos-laboratorios.pdf)"
      ]
    },
    {
      "cell_type": "markdown",
      "metadata": {
        "id": "aHaZ9G4laO5m"
      },
      "source": [
        "<img src=\"https://github.com/zz4fap/python-programming/blob/master/figures/obrigado.png?raw=1\">"
      ]
    }
  ],
  "metadata": {
    "kernelspec": {
      "display_name": "Python 3 (ipykernel)",
      "language": "python",
      "name": "python3"
    },
    "language_info": {
      "codemirror_mode": {
        "name": "ipython",
        "version": 3
      },
      "file_extension": ".py",
      "mimetype": "text/x-python",
      "name": "python",
      "nbconvert_exporter": "python",
      "pygments_lexer": "ipython3",
      "version": "3.10.9"
    },
    "colab": {
      "provenance": []
    }
  },
  "nbformat": 4,
  "nbformat_minor": 0
}