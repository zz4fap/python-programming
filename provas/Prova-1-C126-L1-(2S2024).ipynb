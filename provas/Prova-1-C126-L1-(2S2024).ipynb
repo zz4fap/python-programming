{
 "cells": [
  {
   "cell_type": "markdown",
   "id": "e5ba7f0f",
   "metadata": {},
   "source": [
    "# Prova #1 C126-L1 (2S2024)\n",
    "\n",
    "### Instruções\n",
    "\n",
    "1. Antes de começar, você deve clicar na opção \"Copiar para o Drive\" na barra superior do Colab. Depois de clicar nela, verifique se você está trabalhando nessa versão do notebook para que seu trabalho seja salvo.\n",
    "2. Para cada um dos exercícios a seguir, faça o seguinte:\n",
    "    * Adicione comentários ao seu código explicando o que você fez.\n",
    "    * Caso o exercício involva a implementação de uma função:\n",
    "        + Coloque um comentário dizendo o que a função faz, use **docstrings**.\n",
    "        + Escolha nomes autoexplicativos para suas funções, parâmetros e variáveis.\n",
    "3. Quando você terminar a prova, vá ao menu do Jupyter ou Colab e selecione a opção para fazer download do notebook.\n",
    "    * Os notebooks tem extensão .ipynb. \n",
    "    * Este deve ser o arquivo que você irá entregar.\n",
    "    * No Colab vá até a opção **File** -> **Download .ipynb**.\n",
    "4. Em seguida, faça a entrega do notebook da prova (ou seja, anexe o arquivo) na tarefa criada no MS Teams.\n",
    "5. Atente-se ao prazo de entrega definido na tarefa do MS Teams. \n",
    "6. **A prova deve ser resolvida individualmente**.\n",
    "7. Todas as questões têm o mesmo peso.\n",
    "8. Não se esqueça de colocar seu nome e número de matrícula nos campos abaixo.\n",
    "9. Você pode consultar o material de aula e laboratórios.\n",
    "10. Não altere em hipótese alguma as células com código de teste.\n",
    "11. A interpretação faz parte da prova.\n",
    "12. Boa sorte!"
   ]
  },
  {
   "cell_type": "markdown",
   "id": "6225cc14",
   "metadata": {},
   "source": [
    "**Nome**:\n",
    "\n",
    "**Matrícula**:"
   ]
  },
  {
   "cell_type": "markdown",
   "id": "c2e6d6bb",
   "metadata": {},
   "source": [
    "## Exercícios"
   ]
  },
  {
   "cell_type": "markdown",
   "id": "05a74f8f",
   "metadata": {},
   "source": [
    "#### 1) Exercício sobre laços de repetição, controle de fluxo e operadores de comparação.\n",
    "\n",
    "Implemente uma função chamada `contaOcorrencias` que receba uma string e uma letra como parâmetros de entrada. A função deve contar quantas vezes a letra passada como segundo parâmetro aparece na string. A função deve ser insensível a letras maiúsculas e minúsculas e retornar o número total de ocorrências da letra.\n",
    "\n",
    "Se a letra não aparecer na string, a função deve retornar 0.\n",
    "\n",
    "* Exemplos:\n",
    "\n",
    "```python\n",
    "contaOcorrencias(\"banana\", \"a\") deve retornar 3\n",
    "contaOcorrencias(\"Abacaxi\", \"a\") deve retornar 3\n",
    "contaOcorrencias(\"abacaxi\", \"z\") deve retornar 0\n",
    "```\n",
    "\n",
    "**DICAS**:\n",
    "\n",
    "+ Você pode implementar a função da forma descrita abaixo, mas existem outras possibilidades e você não precisa seguir exatamente este modelo.\n",
    "   + Utilize um laço `for` para iterar sobre cada caractere da palavra fornecida.\n",
    "   + Você pode usar o método `lower()`, garantindo que a função seja insensível a maiúsculas e minúsculas.\n",
    "   + Crie uma variável para armazenar o contador de ocorrências.\n",
    "   + A cada iteração, verifique se o caractere atual é igual à letra fornecida. Se for, incremente o contador.\n",
    "   + No final do laço, retorne o valor do contador."
   ]
  },
  {
   "cell_type": "code",
   "execution_count": null,
   "id": "21633a1c",
   "metadata": {},
   "outputs": [],
   "source": [
    "# Implemente aqui o código da função."
   ]
  },
  {
   "cell_type": "markdown",
   "id": "67224e5a",
   "metadata": {},
   "source": [
    "Execute o trecho de código abaixo para testar sua função. Se sua implementação estiver correta, a seguinte mensagem será impressa após a execução da célula abaixo:\n",
    "```python\n",
    "RESULTADO:\n",
    "A implementação da função está correta!\n",
    "``` \n",
    "\n",
    "**NÃO ALTERE O CÓDIGO ABAIXO EM HIPÓTESE ALGUMA. SUA IMPLEMENTAÇÃO DEVE FUNCIONAR SEM NENHUMA ALTERAÇÃO DO CÓDIGO ABAIXO.**"
   ]
  },
  {
   "cell_type": "code",
   "execution_count": null,
   "id": "87709d8d",
   "metadata": {},
   "outputs": [],
   "source": [
    "entradas = [(\"\", \"a\"),(\"python\", \"z\"),(\"hello\", \"h\"),(\"banana\", \"a\"),(\"world\", \"d\"),(\"anagrama\", 'a')]\n",
    "saídas = [0, 0, 1, 3, 1, 4]\n",
    "\n",
    "error = 0\n",
    "for entrada, saída in zip(entradas, saídas):\n",
    "    ret = contaOcorrencias(entrada[0], entrada[1])\n",
    "    if ret != saída:\n",
    "        error += 1\n",
    "        print('Erro ---> contaOcorrencias(\\'%s\\'): %s - valor esperado: %s' % (entrada, ret, saída))\n",
    "\n",
    "print('\\nRESULTADO:')\n",
    "if(error == 0):\n",
    "    print('A implementação da função está correta!')\n",
    "else:\n",
    "    print('A implementação da função NÃO está correta...')"
   ]
  },
  {
   "cell_type": "markdown",
   "id": "06ae72b5",
   "metadata": {},
   "source": [
    "#### 2) Exercício sobre funções e laços de repetição.\n",
    "\n",
    "Crie uma função chamada `encontrarMaiorNúmero` que receba um número arbitrário de parâmetros de entrada e retorne o maior número de todos.\n",
    "\n",
    "**DICAS**\n",
    "\n",
    "+ Você pode implementar a função da forma descrita abaixo, mas note que existem outras possibilidades e você não precisa seguí-la se não quiser.\n",
    "   + Use um laço de repetição `for` para iterar através dos elementos da tupla de entrada, passada pelo interpretador. A tupla contém os vários valores passados para a função.\n",
    "   + Inicialize a variável auxiliar `maiorNumero` com o primeiro elemento da tupla de entrada, ou seja, `maiorNumero = numeros[0]`, onde `numeros` é a tupla com os parâmetros de entrada da função (ou seja, `numeros` é o nome do parâmetro de entrada da função).\n",
    "   + A cada iteração do `for`, compare o valor de cada número da tupla com o valor armazenado na variável `maiorNumero`.\n",
    "   + Se o número armazenado na tupla de entrada for maior do que o número armazenado na variável `maiorNumero`, atualize a variável `maiorNumero` com aquele número. Caso contrário, não faça nada.\n",
    "   + Ao final, retorne o valor armazenado na variável `maiorNumero`.\n",
    "\n",
    "**Exemplo**: O código abaixo mostra como iterar através dos valores de uma tupla.\n",
    "\n",
    "```python\n",
    "# definindo uma tupla.\n",
    "tupla = (0, 1, 2, 3)\n",
    "\n",
    "# iterando através dos valores da tupla com um laço for.\n",
    "for valor in tupla:\n",
    "    print(valor)\n",
    "0\n",
    "1\n",
    "2\n",
    "3\n",
    "```"
   ]
  },
  {
   "cell_type": "code",
   "execution_count": null,
   "id": "e8a722fc",
   "metadata": {},
   "outputs": [],
   "source": [
    "# Implemente aqui o código da função."
   ]
  },
  {
   "cell_type": "markdown",
   "id": "0f3898e8",
   "metadata": {},
   "source": [
    "Execute o trecho de código abaixo para testar sua função. Se sua implementação estiver correta, a seguinte mensagem será impressa após a execução da célula abaixo:\n",
    "```python\n",
    "RESULTADO:\n",
    "A implementação da função está correta!\n",
    "``` \n",
    "\n",
    "**NÃO ALTERE O CÓDIGO ABAIXO EM HIPÓTESE ALGUMA. SUA IMPLEMENTAÇÃO DEVE FUNCIONAR SEM NENHUMA ALTERAÇÃO DO CÓDIGO ABAIXO.**"
   ]
  },
  {
   "cell_type": "code",
   "execution_count": null,
   "id": "59cfd877",
   "metadata": {},
   "outputs": [],
   "source": [
    "entradas = [(-1, 0, 1), (0,), (0, 1), (7, 6, 2), (1, 10, 2, 8), (1.2, 3.4, 9.8)]\n",
    "saídas = [1, 0, 1, 7, 10, 9.8]\n",
    "\n",
    "error = 0\n",
    "for entrada, saída in zip(entradas, saídas):\n",
    "    ret = encontrarMaiorNúmero(*entrada)\n",
    "    if ret != saída:\n",
    "        error += 1\n",
    "        print('Erro ---> encontrarMaiorNúmero(\\'%s\\'): %s - valor esperado: %s' % (entrada, ret, saída))\n",
    "\n",
    "print('\\nRESULTADO:')\n",
    "if(error == 0):\n",
    "    print('A implementação da função está correta!')\n",
    "else:\n",
    "    print('A implementação da função NÃO está correta...')"
   ]
  },
  {
   "cell_type": "markdown",
   "id": "6978535d",
   "metadata": {},
   "source": [
    "#### 3) Exercício sobre funções e controle condicional.\n",
    "\n",
    "Crie uma função chamada `calcularImpostoDeRenda` que receba como entrada a `rendaAnual` e o `estadoCivil` de uma pessoa e retorne uma mensagem indicando o valor do imposto que ela deve pagar, de acordo com as seguintes regras:\n",
    "\n",
    "+ Para `solteiro(a)`:\n",
    "   + Se a renda anual for igual ou superior a 50.000, o imposto será 20% da renda.\n",
    "   + Caso contrário, o imposto será 10% da renda.\n",
    "\n",
    "+ Para `casado(a)`:\n",
    "   + Se a renda anual for igual ou superior a 70.000, o imposto será 15% da renda.\n",
    "   + Caso contrário, o imposto será 5% da renda.\n",
    "\n",
    "+ Para qualquer outro estado civil, retorne a string `Estado civil não reconhecido`.\n",
    "\n",
    "* O parâmetro de entrada `rendaAnual` é um número positivo maior ou igual a zero. Se o valor for negativo, retorne a string `Renda inválida`.\n",
    "* O parâmetro de entrada `estadoCivil` é uma string que deve receber `solteiro(a)` ou `casado(a)`. Se a string for diferente de `solteiro(a)` ou `casado(a)`, retorne a string `Estado civil não reconhecido`.\n",
    "\n",
    "**DICAS**\n",
    "+ Use exatamente as mesmas strings que estão no enunciado, caso contrário, o código de teste irá dizer que sua função está incorreta.\n",
    "+ A função sempre retorna uma string ou um valor numérico.\n",
    "\n",
    "---\n",
    "\n",
    "* Exemplos:\n",
    "\n",
    "```python\n",
    "calcularImpostoDeRenda(55000, \"solteiro(a)\") deve retornar 11000\n",
    "calcularImpostoDeRenda(30000, \"casado(a)\") deve retornar 1500\n",
    "calcularImpostoDeRenda(-50000, \"casado(a)\") deve retornar \"Renda inválida\"\n",
    "calcularImpostoDeRenda(80000, \"solteiro(a)\") deve retornar 16000\n",
    "calcularImpostoDeRenda(90000, \"divorciado(a)\") deve retornar \"Estado civil não reconhecido\"\n",
    "```"
   ]
  },
  {
   "cell_type": "code",
   "execution_count": null,
   "id": "5eb021f5",
   "metadata": {},
   "outputs": [],
   "source": [
    "# Implemente aqui o código da função."
   ]
  },
  {
   "cell_type": "markdown",
   "id": "73a0db72",
   "metadata": {},
   "source": [
    "Execute o trecho de código abaixo para testar sua função. Se sua implementação estiver correta, a seguinte mensagem será impressa após a execução da célula abaixo:\n",
    "```python\n",
    "RESULTADO:\n",
    "A implementação da função está correta!\n",
    "``` \n",
    "\n",
    "**NÃO ALTERE O CÓDIGO ABAIXO EM HIPÓTESE ALGUMA. SUA IMPLEMENTAÇÃO DEVE FUNCIONAR SEM NENHUMA ALTERAÇÃO DO CÓDIGO ABAIXO.**"
   ]
  },
  {
   "cell_type": "code",
   "execution_count": null,
   "id": "91b31a2d",
   "metadata": {},
   "outputs": [],
   "source": [
    "entradas = [(55000, \"solteiro(a)\"), (30000, \"casado(a)\"), (-50000, \"casado(a)\"), (80000, \"solteiro(a)\"), (90000, \"divorciado(a)\"), (0, \"solteiro(a)\")]\n",
    "saídas = [11000, 1500, \"Renda inválida\", 16000, \"Estado civil não reconhecido\", 0]\n",
    "\n",
    "error = 0\n",
    "for entrada, saída in zip(entradas, saídas):\n",
    "    ret = calcularImpostoDeRenda(entrada[0], entrada[1])\n",
    "    if ret != saída:\n",
    "        error += 1\n",
    "        print('Erro ---> calcularImpostoDeRenda(\\'%s\\'): %s - valor esperado: %s' % (entrada, ret, saída))\n",
    "\n",
    "print('\\nRESULTADO:')\n",
    "if(error == 0):\n",
    "    print('A implementação da função está correta!')\n",
    "else:\n",
    "    print('A implementação da função NÃO está correta...')"
   ]
  },
  {
   "cell_type": "markdown",
   "id": "8feec23d",
   "metadata": {},
   "source": [
    "#### 4) Exercício sobre laços de repetição, contagem e verificação de caracteres numéricos\n",
    "\n",
    "Implemente uma função chamada `contarDigitosENaoDigitos` que receba uma string como parâmetro de entrada e retorne duas contagens: uma contagem de caracteres que são dígitos, ou seja, caracteres que representam dígitos de 0 a 9, e outra do número de caracteres que não são dígitos na string.\n",
    "\n",
    "**DICAS**:\n",
    "\n",
    "+ Crie duas variáveis chamadas `cont_digitos` e `cont_nao_digitos` e inicialize ambas com zero.\n",
    "+ Utilize um laço de repetição para iterar através dos caracteres da string de entrada.\n",
    "+ Em cada iteração, verifique se o caractere atual é um dígito (use o método `isdigit()`). Se for, incremente a variável `cont_digitos`. Caso contrário, incremente a variável `cont_nao_digitos`.\n",
    "+ Retorne as contagens de dígitos e não dígitos, onde o primeiro valor retornado deve ser o número de dígitos (`cont_digitos`) e o segundo valor retornado o número de caracteres não numéricos (`cont_nao_digitos`).\n",
    "\n",
    "---\n",
    "\n",
    "* Exemplos:\n",
    "\n",
    "```python\n",
    "contarDigitosENaoDigitos(\"abc123\") deve retornar (3, 3)\n",
    "contarDigitosENaoDigitos(\"2024!\") deve retornar (4, 1)\n",
    "contarDigitosENaoDigitos(\"sem numeros\") deve retornar (0, 10)\n",
    "contarDigitosENaoDigitos(\"!@#123\") deve retornar (3, 3)\n",
    "```"
   ]
  },
  {
   "cell_type": "code",
   "execution_count": null,
   "id": "f2a5c0b9",
   "metadata": {},
   "outputs": [],
   "source": [
    "# Implemente aqui o código da função."
   ]
  },
  {
   "cell_type": "markdown",
   "id": "63b8ed02",
   "metadata": {},
   "source": [
    "Execute o trecho de código abaixo para testar sua função. Se sua implementação estiver correta, a seguinte mensagem será impressa após a execução da célula abaixo:\n",
    "```python\n",
    "RESULTADO:\n",
    "A implementação da função está correta!\n",
    "``` \n",
    "\n",
    "**NÃO ALTERE O CÓDIGO ABAIXO EM HIPÓTESE ALGUMA. SUA IMPLEMENTAÇÃO DEVE FUNCIONAR SEM NENHUMA ALTERAÇÃO DO CÓDIGO ABAIXO.**"
   ]
  },
  {
   "cell_type": "code",
   "execution_count": null,
   "id": "dafb9820",
   "metadata": {},
   "outputs": [],
   "source": [
    "entradas = ['aeiou', 'b1c2d3f4g5h6', 'pyt1hon', 'hello world', '123!@#$', '098645a', 'sem numeros']\n",
    "saídas = [(0, 5), (6, 6), (1, 6), (0, 11), (3, 4), (6,1), (0, 11)]\n",
    "\n",
    "error = 0\n",
    "for entrada, saída in zip(entradas, saídas):\n",
    "    ret = contarDigitosENaoDigitos(entrada)\n",
    "    if ret != saída:\n",
    "        error += 1\n",
    "        print('Erro ---> contarDigitosENaoDigitos(\\'%s\\'): %s - valor esperado: %s' % (entrada, ret, saída))\n",
    "\n",
    "print('\\nRESULTADO:')\n",
    "if(error == 0):\n",
    "    print('A implementação da função está correta!')\n",
    "else:\n",
    "    print('A implementação da função NÃO está correta...')"
   ]
  },
  {
   "cell_type": "markdown",
   "id": "54ccca49",
   "metadata": {},
   "source": [
    "## O exercício abaixo é opcional. Só o resolva caso você não tenha conseguido resolver algum dos exercícios anteriores. Caso você tenha resolvido todos os exercícios anteriores, não o resolva, pois ele não valerá nota extra."
   ]
  },
  {
   "cell_type": "markdown",
   "id": "98bc68bd",
   "metadata": {},
   "source": [
    "#### 5) Exercício sobre recursão.\n",
    "\n",
    "Implemente uma função chamada `fatorial` que calcule o fatorial de um valor de entrada `x`. \n",
    "\n",
    "**IMPORTANTE: Utilize recursão para implementar esta função. Não use laços de repetição.**\n",
    "\n",
    "**Dica**: O fatorial de um número é calculado pela multiplicação desse número por todos os seus antecessores até chegar ao número 1. Uma exceção é o fatorial de 0, que é igual a 1.\n",
    "\n",
    "**Exemplos**: \n",
    "\n",
    "* 0! = 1\n",
    "* 1! = 1\n",
    "* 2! = 2 * 1 = 2\n",
    "* 3! = 3 * 2 * 1 = 6\n",
    "* 4! = 4 * 3 * 2 * 1 = 24"
   ]
  },
  {
   "cell_type": "code",
   "execution_count": null,
   "id": "3e96a0e2",
   "metadata": {},
   "outputs": [],
   "source": [
    "# Implemente aqui o código da função."
   ]
  },
  {
   "cell_type": "markdown",
   "id": "4ba11900",
   "metadata": {},
   "source": [
    "Execute o trecho de código abaixo para testar sua função. Se sua implementação estiver correta, a seguinte mensagem será impressa após a execução da célula abaixo:\n",
    "```python\n",
    "RESULTADO:\n",
    "A implementação da função está correta!\n",
    "```\n",
    "\n",
    "**NÃO ALTERE O CÓDIGO ABAIXO EM HIPÓTESE ALGUMA. SUA IMPLEMENTAÇÃO DEVE FUNCIONAR SEM NENHUMA ALTERAÇÃO DO CÓDIGO ABAIXO.**"
   ]
  },
  {
   "cell_type": "code",
   "execution_count": null,
   "id": "98d19669",
   "metadata": {},
   "outputs": [],
   "source": [
    "entradas = [0, 1, 2, 3, 4, 5]\n",
    "saídas = [1, 1, 2, 6, 24, 120]\n",
    "\n",
    "error = 0\n",
    "for entrada, saída in zip(entradas, saídas):\n",
    "    ret = fatorial(entrada)\n",
    "    if ret != saída:\n",
    "        error += 1\n",
    "        print('Erro ---> fatorial(%d): %d - valor esperado: %d' % (entrada, ret, saída))\n",
    "\n",
    "print('\\nRESULTADO:')\n",
    "if(error == 0):\n",
    "    print('A implementação da função está correta!')\n",
    "else:\n",
    "    print('A implementação da função NÃO está correta...')"
   ]
  }
 ],
 "metadata": {
  "kernelspec": {
   "display_name": "Python 3 (ipykernel)",
   "language": "python",
   "name": "python3"
  },
  "language_info": {
   "codemirror_mode": {
    "name": "ipython",
    "version": 3
   },
   "file_extension": ".py",
   "mimetype": "text/x-python",
   "name": "python",
   "nbconvert_exporter": "python",
   "pygments_lexer": "ipython3",
   "version": "3.9.13"
  }
 },
 "nbformat": 4,
 "nbformat_minor": 5
}
