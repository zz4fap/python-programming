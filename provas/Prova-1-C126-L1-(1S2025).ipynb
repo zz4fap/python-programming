{
 "cells": [
  {
   "cell_type": "markdown",
   "metadata": {},
   "source": [
    "# Prova #1 C126-L1 (1S2025)\n",
    "\n",
    "### Instruções\n",
    "\n",
    "1. Antes de começar, você deve clicar na opção \"Copiar para o Drive\" na barra superior do Colab. Depois de clicar nela, verifique se você está trabalhando nessa versão do notebook para que seu trabalho seja salvo.\n",
    "2. Para cada um dos exercícios a seguir, faça o seguinte:\n",
    "    * Adicione comentários ao seu código explicando o que você fez.\n",
    "    * Caso o exercício involva a implementação de uma função:\n",
    "        + Coloque um comentário dizendo o que a função faz, use **docstrings**.\n",
    "        + Escolha nomes autoexplicativos para suas funções, parâmetros e variáveis.\n",
    "3. Quando você terminar a prova, vá ao menu do Jupyter ou Colab e selecione a opção para fazer download do notebook.\n",
    "    * Os notebooks tem extensão .ipynb. \n",
    "    * Este deve ser o arquivo que você irá entregar.\n",
    "    * No Colab vá até a opção **File** -> **Download .ipynb**.\n",
    "4. Em seguida, faça a entrega do notebook da prova (ou seja, anexe o arquivo) na tarefa criada no MS Teams.\n",
    "5. Atente-se ao prazo de entrega definido na tarefa do MS Teams. \n",
    "6. **A prova deve ser resolvida individualmente**.\n",
    "7. Todas as questões têm o mesmo peso.\n",
    "8. Não se esqueça de colocar seu nome e número de matrícula nos campos abaixo.\n",
    "9. Você pode consultar o material de aula e laboratórios.\n",
    "10. Não altere em hipótese alguma as células com código de teste.\n",
    "11. A interpretação faz parte da prova.\n",
    "12. Boa sorte!"
   ]
  },
  {
   "cell_type": "markdown",
   "metadata": {},
   "source": [
    "**Nome**:\n",
    "\n",
    "**Matrícula**:"
   ]
  },
  {
   "cell_type": "markdown",
   "metadata": {},
   "source": [
    "## Exercícios"
   ]
  },
  {
   "cell_type": "markdown",
   "metadata": {},
   "source": [
    "#### 1) Exercício sobre strings, laços de repetição e funções que retornam mais de um valor.\n",
    "\n",
    "Implemente uma função chamada `contémLetra` que receba uma string e uma letra como parâmetros de entrada. A função deve **verificar se a letra passada como segundo parâmetro está contida na string** e **quantas vezes ela aparece**, além de **ser insensível a letras maiúsculas e minúsculas**. Caso a string contenha a letra, a função deve retornar dois valores: `True` e o número total de ocorrências da letra. Caso a string não contenha a letra, a função deve retornar `False` e `0`.\n",
    "\n",
    "**Exemplo**\n",
    "\n",
    "```python\n",
    "contémLetra(\"banana\", \"a\") # Deve retornar (True, 3)\n",
    "contémLetra(\"Abacaxi\", \"a\") # Deve retornar (True, 3)\n",
    "contémLetra(\"abacaxi\", \"z\") # Deve retornar (False, 0)\n",
    "```\n",
    "\n",
    "**DICAS**:\n",
    "\n",
    "+ Você pode implementar a função da forma descrita abaixo, mas existem outras possibilidades e você não precisa seguir exatamente este modelo.\n",
    "   + Utilize um laço `for` para iterar sobre cada caractere da palavra fornecida.\n",
    "   + Você pode usar o método `lower()`, garantindo que a função seja insensível a maiúsculas e minúsculas.\n",
    "   + Crie uma variável para armazenar o contador de ocorrências.\n",
    "   + A cada iteração, verifique se o caractere atual é igual à letra fornecida. Se for, incremente o contador.\n",
    "   + No final do laço, você pode utilizar o próprio valor da variável de contador para verificar se deve retornar `True` ou `False`."
   ]
  },
  {
   "cell_type": "code",
   "execution_count": null,
   "metadata": {},
   "outputs": [],
   "source": [
    "# Implemente aqui o código da função"
   ]
  },
  {
   "cell_type": "markdown",
   "metadata": {},
   "source": [
    "Execute o trecho de código abaixo para testar sua função. Se sua implementação estiver correta, a seguinte mensagem será impressa após a execução da célula abaixo:\n",
    "```python\n",
    "RESULTADO:\n",
    "A implementação da função está correta!\n",
    "``` \n",
    "\n",
    "**NÃO ALTERE O CÓDIGO ABAIXO EM HIPÓTESE ALGUMA. SUA IMPLEMENTAÇÃO DEVE FUNCIONAR SEM NENHUMA ALTERAÇÃO DO CÓDIGO ABAIXO.**"
   ]
  },
  {
   "cell_type": "code",
   "execution_count": null,
   "metadata": {},
   "outputs": [],
   "source": [
    "entradas = [\"\", \"python\", \"hello\", \"banana\", \"world\", \"anagrama\"]\n",
    "letras = [\"a\", \"z\", \"h\", \"a\", \"d\", \"a\"]\n",
    "saidas = [(False, 0), (False, 0), (True, 1), (True, 3), (True, 1), (True, 4)]\n",
    "\n",
    "error = 0\n",
    "for entrada, letra, saida_esperada in zip(entradas, letras, saidas):\n",
    "    retorno = contémLetra(entrada, letra)\n",
    "    if retorno != saida_esperada:\n",
    "        error += 1\n",
    "        print(f'Erro --+> contemLetra({entrada!r}, {letra!r}): {retorno} + valor esperado: {saida_esperada}')\n",
    "\n",
    "print('\\nRESULTADO:')\n",
    "if error == 0:\n",
    "    print('A implementação da função está correta!')\n",
    "else:\n",
    "    print('A implementação da função NÃO está correta...')"
   ]
  },
  {
   "cell_type": "markdown",
   "metadata": {},
   "source": [
    "#### 2) Exercício sobre funções e laços de repetição.\n",
    "\n",
    "Crie uma função chamada `procurarNegativo` que receba uma sequência **arbitrária de valores** numéricos como entrada e retorne `True` caso um dos valores seja negativo. Caso a função não encontre nenhum número negativo, ela deve retornar `False`. Para ambos os casos, a função deve retornar também o índice do elemento negativo, caso ela encontre um valor negativo, ou o número de elementos na sequência, caso não haja nenhum valor negativo.\n",
    "\n",
    "**Observação**\n",
    "+ Só existe um número negativo na sequência arbitrária de valores.\n",
    "+ A função sempre retorna dois valores.\n",
    "\n",
    "**DICAS**\n",
    "\n",
    "+ Você pode implementar a função da forma descrita abaixo, mas note que existem outras possibilidades e você não precisa seguí-la se não quiser.\n",
    "    + Inicialize uma variável chamada `pos` como `0`.\n",
    "    + Use um laço de repetição `for` para iterar através dos elementos da tupla de entrada, passada pelo interpretador. A tupla contém os vários valores passados para a função.\n",
    "    + A cada iteração do `for`, verifique se o valor do elemento é menor do que 0. Caso sim, retorne `True` e a variável `pos`. Após cada verificação incremente 1 no valor da variável `pos`.\n",
    "    + Ao final, caso nenhum valor seja negativo, retorne o valor `False` e o valor de `pos`.\n",
    "\n",
    "**Exemplo**: O código abaixo mostra como iterar através dos valores de uma tupla.\n",
    "\n",
    "```python\n",
    "# definindo uma tupla.\n",
    "tupla = (0, 1, -2, 3)\n",
    "\n",
    "# iterando através dos valores da tupla com um laço for.\n",
    "for valor in tupla:\n",
    "    print(valor)\n",
    "0\n",
    "1\n",
    "-2\n",
    "3\n",
    "```"
   ]
  },
  {
   "cell_type": "code",
   "execution_count": null,
   "metadata": {},
   "outputs": [],
   "source": [
    "# Implemente aqui o código da função"
   ]
  },
  {
   "cell_type": "markdown",
   "metadata": {},
   "source": [
    "Execute o trecho de código abaixo para testar sua função. Se sua implementação estiver correta, a seguinte mensagem será impressa após a execução da célula abaixo:\n",
    "```python\n",
    "RESULTADO:\n",
    "A implementação da função está correta!\n",
    "``` \n",
    "\n",
    "**NÃO ALTERE O CÓDIGO ABAIXO EM HIPÓTESE ALGUMA. SUA IMPLEMENTAÇÃO DEVE FUNCIONAR SEM NENHUMA ALTERAÇÃO DO CÓDIGO ABAIXO.**"
   ]
  },
  {
   "cell_type": "code",
   "execution_count": null,
   "metadata": {},
   "outputs": [],
   "source": [
    "entradas = [(1, 2, 3), (1, -2, 3), (0, 5, 7, 4, 6), (-1, 2, 3), (5, 6, 7, 8), (10, 5, -15)]\n",
    "saidas_esperadas = [(False, 3), (True, 1), (False, 5), (True, 0), (False, 4), (True, 2)]\n",
    "\n",
    "error = 0\n",
    "for entrada, saida_esperada in zip(entradas, saidas_esperadas):\n",
    "    retorno = procurarNegativo(*entrada)\n",
    "    if retorno != saida_esperada:\n",
    "        error += 1\n",
    "        print(f'Erro ---> procuraNegativo{entrada}: {retorno} - valor esperado: {saida_esperada}')\n",
    "\n",
    "print('\\nRESULTADO:')\n",
    "if error == 0:\n",
    "    print('A implementação da função está correta!')\n",
    "else:\n",
    "    print('A implementação da função NÃO está correta...')"
   ]
  },
  {
   "cell_type": "markdown",
   "metadata": {},
   "source": [
    "#### 3) Exercício sobre funções e controle de fluxo.\n",
    "\n",
    "Crie uma função chamada `calcularContaDeLuz` que receba como entrada o consumo mensal (em kWh) e o tipo de habitação de um cliente (residencial ou comercial) e retorne o valor da conta de luz a ser paga, de acordo com as seguintes regras:\n",
    "\n",
    "+ Para `residencial`:\n",
    "\n",
    "    + Se o consumo mensal for igual ou superior a 200 kWh, a tarifa será de R$ 0,80 por kWh.\n",
    "\n",
    "    + Caso contrário, a tarifa será de R$ 0,60 por kWh.\n",
    "\n",
    "+ Para `comercial`:\n",
    "\n",
    "    + Se o consumo mensal for igual ou superior a 500 kWh, a tarifa será de R$ 1,00 por kWh.\n",
    "\n",
    "    + Caso contrário, a tarifa será de R$ 0,75 por kWh.\n",
    "\n",
    "+ Para qualquer outro tipo de residência, retorne a string `Tipo de residência não reconhecido`.\n",
    "\n",
    "+ O parâmetro de entrada `consumoMensal` é um número positivo maior ou igual a zero. Se o valor for negativo, retorne a string `Consumo inválido`.\n",
    "+ O parâmetro de entrada `tipoHabitação` é uma string que deve receber `residencial` ou `comercial`. Se a string for diferente dessas opções, retorne a string `Tipo de residência não reconhecido`.\n",
    "\n",
    "**DICAS**\n",
    "\n",
    "+ Use exatamente as mesmas strings que estão no enunciado, caso contrário, o código de teste irá dizer que sua função está incorreta.\n",
    "+ A função sempre retorna uma string ou um valor numérico.\n",
    "\n",
    "---\n",
    "\n",
    "+ Exemplos:\n",
    "\n",
    "```python\n",
    "calcularContaDeLuz(250, \"residencial\") deve retornar 200.0\n",
    "calcularContaDeLuz(100, \"comercial\") deve retornar 75.0\n",
    "calcularContaDeLuz(-50, \"residencial\") deve retornar \"Consumo inválido\"\n",
    "calcularContaDeLuz(600, \"comercial\") deve retornar 600.0\n",
    "calcularContaDeLuz(300, \"industrial\") deve retornar \"Tipo de residência não reconhecido\"\n",
    "```"
   ]
  },
  {
   "cell_type": "code",
   "execution_count": null,
   "metadata": {},
   "outputs": [],
   "source": [
    "# Implemente aqui o código da função"
   ]
  },
  {
   "cell_type": "markdown",
   "metadata": {},
   "source": [
    "Execute o trecho de código abaixo para testar sua função. Se sua implementação estiver correta, a seguinte mensagem será impressa após a execução da célula abaixo:\n",
    "```python\n",
    "RESULTADO:\n",
    "A implementação da função está correta!\n",
    "``` \n",
    "\n",
    "**NÃO ALTERE O CÓDIGO ABAIXO EM HIPÓTESE ALGUMA. SUA IMPLEMENTAÇÃO DEVE FUNCIONAR SEM NENHUMA ALTERAÇÃO DO CÓDIGO ABAIXO.**"
   ]
  },
  {
   "cell_type": "code",
   "execution_count": null,
   "metadata": {},
   "outputs": [],
   "source": [
    "entradas = [(250, \"residencial\"), (100, \"comercial\"), (-50, \"residencial\"), (600, \"comercial\"), (300, \"industrial\"), (0, \"residencial\")]\n",
    "saídas = [200.0, 75.0, \"Consumo inválido\", 600.0, \"Tipo de residência não reconhecido\", 0.0]\n",
    "\n",
    "error = 0\n",
    "for entrada, saída in zip(entradas, saídas):\n",
    "    ret = calcularContaDeLuz(entrada[0], entrada[1])\n",
    "    if ret != saída:\n",
    "        error += 1\n",
    "        print('Erro ---> calcularContaDeLuz(\\'%s\\'): %s - valor esperado: %s' % (entrada, ret, saída))\n",
    "\n",
    "print('\\nRESULTADO:')\n",
    "if(error == 0):\n",
    "    print('A implementação da função está correta!')\n",
    "else:\n",
    "    print('A implementação da função NÃO está correta...')"
   ]
  },
  {
   "cell_type": "markdown",
   "metadata": {},
   "source": [
    "#### 4) Exercício sobre laços de repetição, contagem e verificação de consoantes e vogais em uma string\n",
    "\n",
    "Implemente uma função chamada `contarVogaisEConsoantes` que receba uma string como parâmetro de entrada e retorne duas contagens: uma contagem de caracteres que são vogais e outra contagem de caracteres que são consoantes.  \n",
    "\n",
    "**DICAS**:\n",
    "\n",
    "+ Você pode implementar a função da forma descrita abaixo, mas note que existem outras possibilidades e você não precisa seguí-la se não quiser.\n",
    "    + Dentro da função, declare uma lista como a apresentada abaixo para representar as possíveis vogais (maiúsculas ou minúsculas).\n",
    "\n",
    "    ```python\n",
    "    vogais = ['A', 'a', 'E', 'e', 'I', 'i', 'O', 'o', 'U', 'u']\n",
    "    ```\n",
    "\n",
    "    + Crie duas variáveis chamadas `cont_vogais` e `cont_consoantes` e inicialize ambas com zero.  \n",
    "    + Utilize um laço de repetição para iterar através dos caracteres da string de entrada.\n",
    "    + Em cada iteração, verifique se o caractere atual é uma letra (use o método `isalpha()`). Se for, faça a verificação com a lista declarada anteriormente se a letra é uma vogal e caso seja incremente a variável `cont_vogais`.\n",
    "    + Se o caractere for uma letra, mas não for vogal, incremente a variável `cont_consoantes`.\n",
    "    + Retorne as contagens de vogais e consoantes, onde o primeiro valor retornado deve ser o número de vogais (`cont_vogais`) e o segundo valor o número de consoantes (`cont_consoantes`).\n",
    "\n",
    "---\n",
    "\n",
    "#### Exemplos:\n",
    "\n",
    "```python\n",
    "contarVogaisEConsoantes(\"python\")  deve retornar (1, 5)\n",
    "contarVogaisEConsoantes(\"Hello, World!\") deve retornar (3, 7)\n",
    "contarVogaisEConsoantes(\"AEIOUaeiou\") deve retornar (10, 0)\n",
    "contarVogaisEConsoantes(\"123!@#\") deve retornar (0, 0)\n",
    "```"
   ]
  },
  {
   "cell_type": "code",
   "execution_count": null,
   "metadata": {},
   "outputs": [],
   "source": [
    "# Implemente aqui o código da função"
   ]
  },
  {
   "cell_type": "markdown",
   "metadata": {},
   "source": [
    "Execute o trecho de código abaixo para testar sua função. Se sua implementação estiver correta, a seguinte mensagem será impressa após a execução da célula abaixo:\n",
    "```python\n",
    "RESULTADO:\n",
    "A implementação da função está correta!\n",
    "``` \n",
    "\n",
    "**NÃO ALTERE O CÓDIGO ABAIXO EM HIPÓTESE ALGUMA. SUA IMPLEMENTAÇÃO DEVE FUNCIONAR SEM NENHUMA ALTERAÇÃO DO CÓDIGO ABAIXO.**"
   ]
  },
  {
   "cell_type": "code",
   "execution_count": null,
   "metadata": {},
   "outputs": [],
   "source": [
    "entradas = [\"python\", \"Hello, World!\", \"AEIOUaeiou\", \"123!@#\", \"Brasil\"]\n",
    "saídas = [(1, 5), (3, 7), (10, 0), (0, 0), (2, 4)]\n",
    "\n",
    "error = 0\n",
    "for entrada, saída in zip(entradas, saídas):\n",
    "    ret = contarVogaisEConsoantes(entrada)\n",
    "    if ret != saída:\n",
    "        error += 1\n",
    "        print(f\"Erro ---> contarVogaisEConsoantes('{entrada}'): {ret} - valor esperado: {saída}\")\n",
    "\n",
    "print(\"\\nRESULTADO:\")\n",
    "if error == 0:\n",
    "    print(\"A implementação da função está correta!\")\n",
    "else:\n",
    "    print(\"A implementação da função NÃO está correta...\")"
   ]
  },
  {
   "cell_type": "markdown",
   "metadata": {},
   "source": [
    "## O exercício abaixo é opcional. Só o resolva caso você não tenha conseguido resolver algum dos exercícios anteriores. Caso você tenha resolvido todos os exercícios anteriores, não o resolva, pois ele não valerá nota extra."
   ]
  },
  {
   "cell_type": "markdown",
   "metadata": {},
   "source": [
    "#### 5) Exercício sobre funções com número arbitrário de entradas e laços de repetição.\n",
    "\n",
    "Crie uma função chamada `calcularMédia` que aceite qualquer número de parâmetros de entrada (ou seja, que aceite um número arbitrário de parâmetros de entrada) e retorne a média aritmética simples destes valores de entrada. \n",
    "\n",
    "**Dicas**: \n",
    "\n",
    "+ Lembre-se que a função recebe do interpretador uma **tupla** com todos os parâmetros de entrada. Uma **tupla** é uma coleção de objetos que pode ser iterada com um laço de repetição `for`, por exemplo. \n",
    "```python\n",
    "# definindo uma tupla.\n",
    "tupla = (0, 1, 2, 3)\n",
    "# iterando através dos valores da tupla com um laço for.\n",
    "for valor in tupla:\n",
    "    print(valor)\n",
    "0\n",
    "1\n",
    "2\n",
    "3\n",
    "```\n",
    "+ Para calcular a média, você pode, se preferir, usar a **função** embutida `sum` para somar todos os valores da tupla passada para a função e usar a função embutida `len` para obter a quantidade de elementos na tupla. Veja o exemplo abaixo:\n",
    "```python\n",
    "tupla = (1, 1, 1, 1)\n",
    "média = sum(tupla)/len(tupla)\n",
    "print(média)\n",
    "1\n",
    "```"
   ]
  },
  {
   "cell_type": "code",
   "execution_count": null,
   "metadata": {},
   "outputs": [],
   "source": [
    "# Implemente aqui o código da função"
   ]
  },
  {
   "cell_type": "markdown",
   "metadata": {},
   "source": [
    "Teste suas funções com o código abaixo. Todas as linhas abaixo devem terminar em `Teste está correto? True`."
   ]
  },
  {
   "cell_type": "code",
   "execution_count": null,
   "metadata": {},
   "outputs": [],
   "source": [
    "print('Resultado:', calcularMédia(2), ' - Teste está correto?', calcularMédia(2)==2)\n",
    "print('Resultado:', calcularMédia(2, 4), ' - Teste está correto?', calcularMédia(2, 4)==3)\n",
    "print('Resultado:', calcularMédia(2, 4, 6), ' - Teste está correto?', calcularMédia(2, 4, 6)==4)\n",
    "print('Resultado:', calcularMédia(1, 2, 3, 4), ' - Teste está correto?', calcularMédia(1, 2, 3, 4)==2.5)"
   ]
  }
 ],
 "metadata": {
  "kernelspec": {
   "display_name": "Python 3 (ipykernel)",
   "language": "python",
   "name": "python3"
  },
  "language_info": {
   "codemirror_mode": {
    "name": "ipython",
    "version": 3
   },
   "file_extension": ".py",
   "mimetype": "text/x-python",
   "name": "python",
   "nbconvert_exporter": "python",
   "pygments_lexer": "ipython3",
   "version": "3.11.5"
  }
 },
 "nbformat": 4,
 "nbformat_minor": 2
}
