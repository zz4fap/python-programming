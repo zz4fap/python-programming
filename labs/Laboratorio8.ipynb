{
  "cells": [
    {
      "cell_type": "markdown",
      "metadata": {
        "id": "O2RxmQEe1SC9"
      },
      "source": [
        "# Laboratório #8\n",
        "\n",
        "### Instruções\n",
        "\n",
        "1. Antes de começar, você deve clicar na opção \"Copiar para o Drive\" na barra superior do Colab. Depois de clicar nela, verifique se você está trabalhando nessa versão do notebook para que seu trabalho seja salvo.\n",
        "2. Para cada um dos exercícios a seguir, faça o seguinte:\n",
        "    * Sempre que possível, adicione comentários ao seu código. Os comentários servem para documentar o código.\n",
        "    * Use **docstrings** explicando sucintamente o que cada função implementada faz.\n",
        "        + **docstrings** são os comentários de múltiplas linhas que aparecem **logo após** o cabeçalho da função.\n",
        "    * Escolha nomes autoexplicativos para suas funções e variáveis.\n",
        "3. Quando você terminar os exercícios do laboratório, vá ao menu do Colab ou Jupyter e selecione a opção para fazer download do notebook.\n",
        "    * Os notebooks tem extensão .ipynb.\n",
        "    * Este deve ser o arquivo que você irá entregar.\n",
        "    * No Colab vá até a opção **File** -> **Download .ipynb**.\n",
        "    * No Jupyter vá até a opção **File** -> **Download as** -> **Notebook (.ipynb)**.\n",
        "4. Após o download do notebook, vá até a aba de tarefas do MS Teams, localize a tarefa referente a este laboratório e faça o upload do seu notebook. Veja que há uma opção para anexar arquivos à tarefa.\n",
        "5. Não se esqueça de colocar seu **nome** e **matrícula** na célula de texto abaixo."
      ]
    },
    {
      "cell_type": "markdown",
      "metadata": {
        "id": "eY9ZQn4q1SC-"
      },
      "source": [
        "**Nome**:\n",
        "\n",
        "**Matrícula**:"
      ]
    },
    {
      "cell_type": "markdown",
      "metadata": {
        "id": "7E8SfSYQ1SC_"
      },
      "source": [
        "## Exercícios"
      ]
    },
    {
      "cell_type": "markdown",
      "metadata": {
        "id": "I9LGAp1h1SC_"
      },
      "source": [
        "#### 1)  Escreva uma função chamada `somarValoresDoArquivo()` que receba como parâmetro de entrada o nome de um arquivo. Esta função deve ler o arquivo, o qual será um arquivo contendo ao menos 1 número real por linha e, para cada linha, a função deve imprimir a soma destes valores. Ao final, o programa deve imprimir também a soma total.\n",
        "\n",
        "Exemplo: para o arquivo `numeros.txt` com as seguintes linhas:\n",
        "\n",
        "```python\n",
        "5 4 3 2 1\n",
        "4 4 4\n",
        "2.7\n",
        "3.14 2.1\n",
        "```\n",
        "\n",
        "a saída da função deve ser:\n",
        "\n",
        "```python\n",
        "Soma: 15.00\n",
        "Soma: 12.00\n",
        "Soma: 2.70\n",
        "Soma: 5.24\n",
        "Total: 34.94\n",
        "```\n",
        "\n",
        "**DICAS**\n",
        "1. Após ler uma linha do arquivo, use o método `split()` da classe string para obter uma lista onde cada elemento é um dos valores da linha.\n",
        "2. Use a função embutida `float()` para converter a string representando cada um dos valores da lista em um número em ponto flutuante."
      ]
    },
    {
      "cell_type": "code",
      "execution_count": null,
      "metadata": {
        "id": "lTrzfd3A1SC_"
      },
      "outputs": [],
      "source": [
        "# Implemente aqui o código da função."
      ]
    },
    {
      "cell_type": "markdown",
      "metadata": {
        "id": "uSpC9sQj1SC_"
      },
      "source": [
        "Teste sua implementação com o código abaixo, o qual deve resultar na seguinte saída esperada:\n",
        "\n",
        "```python\n",
        "Soma: 15.00\n",
        "Soma: 12.00\n",
        "Soma: 2.70\n",
        "Soma: 5.24\n",
        "Total: 34.94\n",
        "```"
      ]
    },
    {
      "cell_type": "code",
      "execution_count": null,
      "metadata": {
        "id": "thQIyKLA1SDA",
        "outputId": "24c863f2-a032-4610-bd6e-90a2698ce0f1"
      },
      "outputs": [
        {
          "ename": "NameError",
          "evalue": "name 'somarValoresDoArquivo' is not defined",
          "output_type": "error",
          "traceback": [
            "\u001b[1;31m---------------------------------------------------------------------------\u001b[0m",
            "\u001b[1;31mNameError\u001b[0m                                 Traceback (most recent call last)",
            "\u001b[1;32m<ipython-input-2-9682139b3a03>\u001b[0m in \u001b[0;36m<module>\u001b[1;34m\u001b[0m\n\u001b[0;32m      5\u001b[0m     \u001b[0mf\u001b[0m\u001b[1;33m.\u001b[0m\u001b[0mwrite\u001b[0m\u001b[1;33m(\u001b[0m\u001b[1;34m'3.14 2.1'\u001b[0m\u001b[1;33m)\u001b[0m\u001b[1;33m\u001b[0m\u001b[1;33m\u001b[0m\u001b[0m\n\u001b[0;32m      6\u001b[0m \u001b[1;33m\u001b[0m\u001b[0m\n\u001b[1;32m----> 7\u001b[1;33m \u001b[0msomarValoresDoArquivo\u001b[0m\u001b[1;33m(\u001b[0m\u001b[1;34m'numeros.txt'\u001b[0m\u001b[1;33m)\u001b[0m\u001b[1;33m\u001b[0m\u001b[1;33m\u001b[0m\u001b[0m\n\u001b[0m",
            "\u001b[1;31mNameError\u001b[0m: name 'somarValoresDoArquivo' is not defined"
          ]
        }
      ],
      "source": [
        "with open('numeros.txt', 'w') as f:\n",
        "    f.write('5 4 3 2 1\\n')\n",
        "    f.write('4 4 4\\n')\n",
        "    f.write('2.7\\n')\n",
        "    f.write('3.14 2.1')\n",
        "\n",
        "somarValoresDoArquivo('numeros.txt')"
      ]
    },
    {
      "cell_type": "markdown",
      "metadata": {
        "id": "L5BEU6BS1SDA"
      },
      "source": [
        "#### 2)  Implemente uma função chamada `imprimirNotasDosAlunos` que imprime o nome e as notas dos alunos que têm mais de seis notas. Esta função deve receber como parâmetro de entrada o nome de um arquivo. Este arquivo contém uma linha para cada aluno de uma turma de estudantes. O nome de cada estudante está no início de cada linha e é seguido pelas suas notas."
      ]
    },
    {
      "cell_type": "code",
      "execution_count": null,
      "metadata": {
        "id": "fym6nV6w1SDA"
      },
      "outputs": [],
      "source": [
        "# Implemente aqui o código da função."
      ]
    },
    {
      "cell_type": "markdown",
      "metadata": {
        "id": "hfTAm3yn1SDA"
      },
      "source": [
        "Teste sua implementação com o código abaixo, o qual deve resultar na seguinte saída esperada:\n",
        "\n",
        "```python\n",
        "Aluno: suzana - Notas: 8, 22, 17, 14, 32, 17, 24, 21, 2, 9, 11, 17\n",
        "Aluno: gisela - Notas: 12, 28, 21, 45, 26, 10\n",
        "```"
      ]
    },
    {
      "cell_type": "code",
      "execution_count": null,
      "metadata": {
        "id": "SzlnTTo-1SDB",
        "outputId": "b46a5f40-260e-4a0e-f446-c212a06937fa"
      },
      "outputs": [
        {
          "ename": "NameError",
          "evalue": "name 'imprimirNotasDosAlunos' is not defined",
          "output_type": "error",
          "traceback": [
            "\u001b[1;31m---------------------------------------------------------------------------\u001b[0m",
            "\u001b[1;31mNameError\u001b[0m                                 Traceback (most recent call last)",
            "\u001b[1;32m<ipython-input-4-56512791bd62>\u001b[0m in \u001b[0;36m<module>\u001b[1;34m\u001b[0m\n\u001b[0;32m     10\u001b[0m     \u001b[0mf\u001b[0m\u001b[1;33m.\u001b[0m\u001b[0mwritelines\u001b[0m\u001b[1;33m(\u001b[0m\u001b[0mnotas\u001b[0m\u001b[1;33m)\u001b[0m\u001b[1;33m\u001b[0m\u001b[1;33m\u001b[0m\u001b[0m\n\u001b[0;32m     11\u001b[0m \u001b[1;33m\u001b[0m\u001b[0m\n\u001b[1;32m---> 12\u001b[1;33m \u001b[0mimprimirNotasDosAlunos\u001b[0m\u001b[1;33m(\u001b[0m\u001b[1;34m'notas_alunos.txt'\u001b[0m\u001b[1;33m)\u001b[0m\u001b[1;33m\u001b[0m\u001b[1;33m\u001b[0m\u001b[0m\n\u001b[0m",
            "\u001b[1;31mNameError\u001b[0m: name 'imprimirNotasDosAlunos' is not defined"
          ]
        }
      ],
      "source": [
        "notas = [\n",
        "    'jose 10 15 20 30 40\\n',\n",
        "    'pedro 23 16 19 22\\n',\n",
        "    'suzana 8 22 17 14 32 17 24 21 2 9 11 17\\n',\n",
        "    'gisela 12 28 21 45 26 10\\n',\n",
        "    'joao 14 32 25 16 89'\n",
        "]\n",
        "\n",
        "with open('notas_alunos.txt', 'w') as f:\n",
        "    f.writelines(notas)\n",
        "\n",
        "imprimirNotasDosAlunos('notas_alunos.txt')"
      ]
    },
    {
      "cell_type": "markdown",
      "metadata": {
        "id": "W7Wr0p3J1SDB"
      },
      "source": [
        "#### 3) Usando o arquivo `notas_alunos.txt`, criado no exercício 2, implemente uma função chamada `calcularMédiaAlunos` que calcula a média das notas de cada aluno e imprime seu nome e sua média, respectivamente.\n",
        "\n",
        "**DICAS**\n",
        "1. Após ler uma linha do arquivo, use o método `split()` da classe string para obter uma lista onde cada elemento é um dos valores da linha.\n",
        "2. Use a função embutida `float()` para converter a string representando uma nota em um número em ponto flutuante.\n",
        "3. Não se esqueça que o primeiro elemento de cada linha é o nome do aluno."
      ]
    },
    {
      "cell_type": "code",
      "execution_count": null,
      "metadata": {
        "id": "GVnHc0_D1SDB"
      },
      "outputs": [],
      "source": [
        "# Implemente aqui o código da função."
      ]
    },
    {
      "cell_type": "markdown",
      "metadata": {
        "id": "9do8edGI1SDB"
      },
      "source": [
        "Teste sua implementação com o código abaixo, o qual deve resultar na seguinte saída esperada:\n",
        "\n",
        "```python\n",
        "Nome: jose - Média: 23.00\n",
        "Nome: pedro - Média: 20.00\n",
        "Nome: suzana - Média: 16.17\n",
        "Nome: gisela - Média: 23.67\n",
        "Nome: joao - Média: 35.20\n",
        "```"
      ]
    },
    {
      "cell_type": "code",
      "execution_count": null,
      "metadata": {
        "id": "klwi8PfM1SDB",
        "outputId": "ff184940-1d8e-41d2-8eb6-56a2751da152"
      },
      "outputs": [
        {
          "ename": "NameError",
          "evalue": "name 'calcularMédiaAlunos' is not defined",
          "output_type": "error",
          "traceback": [
            "\u001b[1;31m---------------------------------------------------------------------------\u001b[0m",
            "\u001b[1;31mNameError\u001b[0m                                 Traceback (most recent call last)",
            "\u001b[1;32m<ipython-input-6-47e811b0965a>\u001b[0m in \u001b[0;36m<module>\u001b[1;34m\u001b[0m\n\u001b[1;32m----> 1\u001b[1;33m \u001b[0mcalcularMédiaAlunos\u001b[0m\u001b[1;33m(\u001b[0m\u001b[1;34m'notas_alunos.txt'\u001b[0m\u001b[1;33m)\u001b[0m\u001b[1;33m\u001b[0m\u001b[1;33m\u001b[0m\u001b[0m\n\u001b[0m",
            "\u001b[1;31mNameError\u001b[0m: name 'calcularMédiaAlunos' is not defined"
          ]
        }
      ],
      "source": [
        "calcularMédiaAlunos('notas_alunos.txt')"
      ]
    },
    {
      "cell_type": "markdown",
      "metadata": {
        "id": "QFPWRuJP1SDB"
      },
      "source": [
        "#### 4) Implemente uma função chamada `calcularValoresMédios` que receba um arquivo CSV como parâmetro de entrada, calcule e retorne a média da frequência cardíaca e da temperatura corporal dos usuários presentes no arquivo.\n",
        "\n",
        "**DICAS**:\n",
        "\n",
        "1. Lembre-se que a primeira linha do arquivo CSV contém os nomes de cada coluna.\n",
        "2. Os nomes das colunas são: `ID`, `Sexo`, `Idade`, `Altura`, `Duração`, `Distância`, `Batimento_Cardíaco` e `Temperatura_Corporal`."
      ]
    },
    {
      "cell_type": "code",
      "execution_count": null,
      "metadata": {
        "id": "hjlP-z1B1SDC"
      },
      "outputs": [],
      "source": [
        "# Implemente aqui o código da função."
      ]
    },
    {
      "cell_type": "markdown",
      "metadata": {
        "id": "YEajTIw71SDC"
      },
      "source": [
        "Teste sua implementação com o código abaixo, o qual deve resultar na seguinte saída esperada:\n",
        "\n",
        "```python\n",
        "Batimento cardíaco médio: 93.0625\n",
        "Temperatura corporal média: 39.981249999999996\n",
        "```"
      ]
    },
    {
      "cell_type": "code",
      "execution_count": null,
      "metadata": {
        "id": "pxAhvmIc1SDC",
        "outputId": "51c444f6-10e6-47b7-ad8d-d683ae8ddfa1"
      },
      "outputs": [
        {
          "ename": "NameError",
          "evalue": "name 'calcularValoresMédios' is not defined",
          "output_type": "error",
          "traceback": [
            "\u001b[1;31m---------------------------------------------------------------------------\u001b[0m",
            "\u001b[1;31mNameError\u001b[0m                                 Traceback (most recent call last)",
            "\u001b[1;32m<ipython-input-8-57561465c037>\u001b[0m in \u001b[0;36m<module>\u001b[1;34m\u001b[0m\n\u001b[0;32m     25\u001b[0m     \u001b[0mcsv_writer\u001b[0m\u001b[1;33m.\u001b[0m\u001b[0mwriterows\u001b[0m\u001b[1;33m(\u001b[0m\u001b[0mlinhas\u001b[0m\u001b[1;33m)\u001b[0m\u001b[1;33m\u001b[0m\u001b[1;33m\u001b[0m\u001b[0m\n\u001b[0;32m     26\u001b[0m \u001b[1;33m\u001b[0m\u001b[0m\n\u001b[1;32m---> 27\u001b[1;33m \u001b[0mavgHeartRate\u001b[0m\u001b[1;33m,\u001b[0m \u001b[0mavgTemp\u001b[0m \u001b[1;33m=\u001b[0m \u001b[0mcalcularValoresMédios\u001b[0m\u001b[1;33m(\u001b[0m\u001b[1;34m'exercicios.csv'\u001b[0m\u001b[1;33m)\u001b[0m\u001b[1;33m\u001b[0m\u001b[1;33m\u001b[0m\u001b[0m\n\u001b[0m\u001b[0;32m     28\u001b[0m \u001b[0mprint\u001b[0m\u001b[1;33m(\u001b[0m\u001b[1;34m'Batimento cardíaco médio:'\u001b[0m\u001b[1;33m,\u001b[0m \u001b[0mavgHeartRate\u001b[0m\u001b[1;33m)\u001b[0m\u001b[1;33m\u001b[0m\u001b[1;33m\u001b[0m\u001b[0m\n\u001b[0;32m     29\u001b[0m \u001b[0mprint\u001b[0m\u001b[1;33m(\u001b[0m\u001b[1;34m'Temperatura corporal média:'\u001b[0m\u001b[1;33m,\u001b[0m \u001b[0mavgTemp\u001b[0m\u001b[1;33m)\u001b[0m\u001b[1;33m\u001b[0m\u001b[1;33m\u001b[0m\u001b[0m\n",
            "\u001b[1;31mNameError\u001b[0m: name 'calcularValoresMédios' is not defined"
          ]
        }
      ],
      "source": [
        "import csv\n",
        "\n",
        "linhas = [\n",
        "    ['ID','Sexo','Idade','Altura','Duração','Distância','Batimento_Cardíaco','Temperatura_Corporal'],\n",
        "    [14733363,'masculino',68,190.0,94.0,29.0,105.0,40.8],\n",
        "    [14861698,'feminino',20,166.0,60.0,14.0,94.0,40.3],\n",
        "    [11179863,'masculino',69,179.0,79.0,5.0,88.0,38.7],\n",
        "    [16180408,'feminino',34,179.0,71.0,13.0,100.0,40.5],\n",
        "    [17771927,'feminino',27,154.0,58.0,10.0,81.0,39.8],\n",
        "    [15130815,'feminino',36,151.0,50.0,23.0,96.0,40.7],\n",
        "    [19602372,'feminino',33,158.0,56.0,22.0,95.0,40.5],\n",
        "    [11117088,'masculino',41,175.0,85.0,25.0,100.0,40.7],\n",
        "    [12132339,'masculino',60,186.0,94.0,21.0,97.0,40.4],\n",
        "    [17964668,'feminino',26,146.0,51.0,16.0,90.0,40.2],\n",
        "    [13723164,'feminino',36,177.0,76.0,1.0,74.0,37.8],\n",
        "    [13681290,'feminino',21,157.0,56.0,17.0,100.0,40.0],\n",
        "    [15566424,'mamasculinole',66,171.0,79.0,11.0,90.0,40.0],\n",
        "    [12891699,'feminino',32,157.0,54.0,18.0,93.0,40.4],\n",
        "    [13823829,'masculino',53,182.0,85.0,2.0,82.0,38.1],\n",
        "    [17557348,'feminino',39,156.0,62.0,28.0,104.0,40.8]\n",
        "]\n",
        "\n",
        "with open('exercicios.csv', 'w', newline='') as f:\n",
        "    csv_writer = csv.writer(f, delimiter=',')\n",
        "    csv_writer.writerows(linhas)\n",
        "\n",
        "avgHeartRate, avgTemp = calcularValoresMédios('exercicios.csv')\n",
        "print('Batimento cardíaco médio:', avgHeartRate)\n",
        "print('Temperatura corporal média:', avgTemp)"
      ]
    },
    {
      "cell_type": "markdown",
      "metadata": {
        "id": "F1Z2vdAj1SDC"
      },
      "source": [
        "#### 5) Implemente uma função chamada `imprimirNotasMaxMin`que recebe o nome de um arquivo JSON como parâmetro de entrada, calcula a nota mínima e máxima de cada aluno no arquivo e imprime seu nome junto com a suas notas máxima e mínima, respectivamente.\n",
        "\n",
        "**DICAS**\n",
        "1. Use as funções embutidas `max()` e `min()` para obter os valores máximo e mínimo das notas de cada aluno.\n",
        "2. O arquivo JSON tem o formato mostrado mostrado no exemplo abaixo. Percebam que a chave `alunos` está associada a uma lista, onde cada elemento da lista é um dicionário com elementos `nome` do aluno e suas respectivas `notas`.\n",
        "```python\n",
        "{\n",
        "   \"alunos\": [\n",
        "      {\n",
        "         \"nome\": \"Jose\",\n",
        "         \"notas\": [\n",
        "            10,\n",
        "            15,\n",
        "            20\n",
        "         ]\n",
        "      },\n",
        "      {\n",
        "         \"nome\": \"Pedro\",\n",
        "         \"notas\": [\n",
        "            23,\n",
        "            19\n",
        "         ]\n",
        "      }\n",
        "   ]\n",
        "}\n",
        "```"
      ]
    },
    {
      "cell_type": "code",
      "execution_count": null,
      "metadata": {
        "id": "vqm706Gf1SDC"
      },
      "outputs": [],
      "source": [
        "# Implemente aqui o código da função."
      ]
    },
    {
      "cell_type": "markdown",
      "metadata": {
        "id": "vHXKSK4e1SDC"
      },
      "source": [
        "Teste sua implementação com o código abaixo, o qual deve resultar na seguinte saída esperada:\n",
        "\n",
        "```python\n",
        "Nome: Jose - Nota mínima: 10 - Nota máxima: 40\n",
        "Nome: Pedro - Nota mínima: 16 - Nota máxima: 23\n",
        "Nome: Joao - Nota mínima: 14 - Nota máxima: 100\n",
        "Nome: Ana - Nota mínima: 8 - Nota máxima: 32\n",
        "Nome: Julia - Nota mínima: 10 - Nota máxima: 45\n",
        "```"
      ]
    },
    {
      "cell_type": "code",
      "execution_count": null,
      "metadata": {
        "id": "9PsM6u7U1SDC",
        "outputId": "1a79d21e-a2fa-4ede-8bbd-46c533016d7e"
      },
      "outputs": [
        {
          "ename": "NameError",
          "evalue": "name 'imprimirNotasMaxMin' is not defined",
          "output_type": "error",
          "traceback": [
            "\u001b[1;31m---------------------------------------------------------------------------\u001b[0m",
            "\u001b[1;31mNameError\u001b[0m                                 Traceback (most recent call last)",
            "\u001b[1;32m<ipython-input-10-daba58bbff96>\u001b[0m in \u001b[0;36m<module>\u001b[1;34m\u001b[0m\n\u001b[0;32m     15\u001b[0m \u001b[1;33m\u001b[0m\u001b[0m\n\u001b[0;32m     16\u001b[0m \u001b[1;31m# Executa teste da função implementada.\u001b[0m\u001b[1;33m\u001b[0m\u001b[1;33m\u001b[0m\u001b[1;33m\u001b[0m\u001b[0m\n\u001b[1;32m---> 17\u001b[1;33m \u001b[0mimprimirNotasMaxMin\u001b[0m\u001b[1;33m(\u001b[0m\u001b[1;34m'notas_alunos.json'\u001b[0m\u001b[1;33m)\u001b[0m\u001b[1;33m\u001b[0m\u001b[1;33m\u001b[0m\u001b[0m\n\u001b[0m",
            "\u001b[1;31mNameError\u001b[0m: name 'imprimirNotasMaxMin' is not defined"
          ]
        }
      ],
      "source": [
        "import json\n",
        "\n",
        "# Criando dicionário que será escrito no arquivo.\n",
        "dicionário_de_notas = {'alunos' : [\n",
        "    {'nome' : 'Jose',  'notas' : (10, 15, 20, 30, 40)},\n",
        "    {'nome' : 'Pedro', 'notas' : (23, 16, 19)},\n",
        "    {'nome' : 'Joao',  'notas' : (14, 32, 25, 16, 89, 100)},\n",
        "    {'nome' : 'Ana',   'notas' : (8, 22, 17, 14, 32, 17)},\n",
        "    {'nome' : 'Julia', 'notas' : (12, 28, 21, 45, 26, 10)}\n",
        "]}\n",
        "\n",
        "# Escreve dicionário de alunos em um arquivo JSON.\n",
        "with open('notas_alunos.json', 'w') as f:\n",
        "    json.dump(dicionário_de_notas, f)\n",
        "\n",
        "# Executa teste da função implementada.\n",
        "imprimirNotasMaxMin('notas_alunos.json')"
      ]
    }
  ],
  "metadata": {
    "kernelspec": {
      "display_name": "Python 3",
      "name": "python3"
    },
    "language_info": {
      "codemirror_mode": {
        "name": "ipython",
        "version": 3
      },
      "file_extension": ".py",
      "mimetype": "text/x-python",
      "name": "python",
      "nbconvert_exporter": "python",
      "pygments_lexer": "ipython3",
      "version": "3.10.9"
    },
    "colab": {
      "provenance": [],
      "generative_ai_disabled": true
    }
  },
  "nbformat": 4,
  "nbformat_minor": 0
}