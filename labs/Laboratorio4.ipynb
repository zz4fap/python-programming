{
  "cells": [
    {
      "cell_type": "markdown",
      "metadata": {
        "id": "WKUIPrjDxrzU"
      },
      "source": [
        "# Laboratório #4\n",
        "\n",
        "### Instruções\n",
        "\n",
        "1. Antes de começar, você deve clicar na opção \"Copiar para o Drive\" na barra superior do Colab. Depois de clicar nela, verifique se você está trabalhando nessa versão do notebook para que seu trabalho seja salvo.\n",
        "2. Para cada um dos exercícios a seguir, faça o seguinte:\n",
        "    * Sempre que possível, adicione comentários ao seu código. Os comentários servem para documentar o código.\n",
        "    * Use **docstrings** explicando sucintamente o que cada função implementada faz.\n",
        "        + **docstrings** são os comentários de múltiplas linhas que aparecem **logo após** o cabeçalho da função.\n",
        "    * Escolha nomes autoexplicativos para suas funções e variáveis.\n",
        "3. Quando você terminar os exercícios do laboratório, vá ao menu do Colab ou Jupyter e selecione a opção para fazer download do notebook.\n",
        "    * Os notebooks tem extensão .ipynb.\n",
        "    * Este deve ser o arquivo que você irá entregar.\n",
        "    * No Colab vá até a opção **File** -> **Download .ipynb**.\n",
        "    * No Jupyter vá até a opção **File** -> **Download as** -> **Notebook (.ipynb)**.\n",
        "4. Após o download do notebook, vá até a aba de tarefas do MS Teams, localize a tarefa referente a este laboratório e faça o upload do seu notebook. Veja que há uma opção para anexar arquivos à tarefa.\n",
        "5. Não se esqueça de colocar seu **nome** e **matrícula** na célula de texto abaixo."
      ]
    },
    {
      "cell_type": "markdown",
      "metadata": {
        "id": "5K9GJIB_xrzV"
      },
      "source": [
        "**Nome**:\n",
        "\n",
        "**Matrícula**:"
      ]
    },
    {
      "cell_type": "markdown",
      "metadata": {
        "id": "aGwY-DBxxrzW"
      },
      "source": [
        "## Exercícios"
      ]
    },
    {
      "cell_type": "markdown",
      "metadata": {
        "id": "pzpq_KNXxrzW"
      },
      "source": [
        "#### 1)  Implemente três funções com os seguintes nomes e funcionalidades:\n",
        "\n",
        "1. `horasEmMinutos`: Dada uma quantidade em horas como entrada da função, a transforme em minutos e retorne o resultado.\n",
        "2. `minutosEmSegundos`: Dada uma quantidade de minutos como entrada da função, a transforme em segundos e retorne o resultado.\n",
        "3. `horasEmSegundos`: Dada uma quantidade de horas como entrada da função, **a transforme em segundos usando as funções dos itens 1 e 2** e retorne o resultado.\n",
        "\n",
        "**IMPORTANTE**: Você deve usar as funções `horasEmMinutos` e `minutosEmSegundos` para implementar a função `horasEmSegundos`."
      ]
    },
    {
      "cell_type": "code",
      "execution_count": null,
      "metadata": {
        "id": "XbVHHK9HxrzW"
      },
      "outputs": [],
      "source": [
        "# implemente o código da função aqui."
      ]
    },
    {
      "cell_type": "markdown",
      "metadata": {
        "id": "s_4BGxr8xrzW"
      },
      "source": [
        "Teste suas funções com o código abaixo. Todas as linhas abaixo devem terminar em `Teste está correto? True`."
      ]
    },
    {
      "cell_type": "code",
      "execution_count": null,
      "metadata": {
        "id": "EBppCxETxrzW",
        "outputId": "a5470542-bde9-4794-b5b5-1bd7d806147b"
      },
      "outputs": [
        {
          "ename": "NameError",
          "evalue": "name 'horasEmSegundos' is not defined",
          "output_type": "error",
          "traceback": [
            "\u001b[1;31m---------------------------------------------------------------------------\u001b[0m",
            "\u001b[1;31mNameError\u001b[0m                                 Traceback (most recent call last)",
            "\u001b[1;32m~\\AppData\\Local\\Temp\\ipykernel_15996\\1250834058.py\u001b[0m in \u001b[0;36m<module>\u001b[1;34m\u001b[0m\n\u001b[1;32m----> 1\u001b[1;33m \u001b[0mprint\u001b[0m\u001b[1;33m(\u001b[0m\u001b[1;34m'Número de segundos:'\u001b[0m\u001b[1;33m,\u001b[0m \u001b[0mhorasEmSegundos\u001b[0m\u001b[1;33m(\u001b[0m\u001b[1;36m0.5\u001b[0m\u001b[1;33m)\u001b[0m\u001b[1;33m,\u001b[0m \u001b[1;34m' - Teste está correto?'\u001b[0m\u001b[1;33m,\u001b[0m \u001b[0mhorasEmSegundos\u001b[0m\u001b[1;33m(\u001b[0m\u001b[1;36m0.5\u001b[0m\u001b[1;33m)\u001b[0m\u001b[1;33m==\u001b[0m\u001b[1;36m1800.0\u001b[0m\u001b[1;33m)\u001b[0m\u001b[1;33m\u001b[0m\u001b[1;33m\u001b[0m\u001b[0m\n\u001b[0m\u001b[0;32m      2\u001b[0m \u001b[0mprint\u001b[0m\u001b[1;33m(\u001b[0m\u001b[1;34m'Número de segundos:'\u001b[0m\u001b[1;33m,\u001b[0m \u001b[0mhorasEmSegundos\u001b[0m\u001b[1;33m(\u001b[0m\u001b[1;36m1.0\u001b[0m\u001b[1;33m)\u001b[0m\u001b[1;33m,\u001b[0m \u001b[1;34m' - Teste está correto?'\u001b[0m\u001b[1;33m,\u001b[0m \u001b[0mhorasEmSegundos\u001b[0m\u001b[1;33m(\u001b[0m\u001b[1;36m1.0\u001b[0m\u001b[1;33m)\u001b[0m\u001b[1;33m==\u001b[0m\u001b[1;36m3600.0\u001b[0m\u001b[1;33m)\u001b[0m\u001b[1;33m\u001b[0m\u001b[1;33m\u001b[0m\u001b[0m\n\u001b[0;32m      3\u001b[0m \u001b[0mprint\u001b[0m\u001b[1;33m(\u001b[0m\u001b[1;34m'Número de segundos:'\u001b[0m\u001b[1;33m,\u001b[0m \u001b[0mhorasEmSegundos\u001b[0m\u001b[1;33m(\u001b[0m\u001b[1;36m2.5\u001b[0m\u001b[1;33m)\u001b[0m\u001b[1;33m,\u001b[0m \u001b[1;34m' - Teste está correto?'\u001b[0m\u001b[1;33m,\u001b[0m \u001b[0mhorasEmSegundos\u001b[0m\u001b[1;33m(\u001b[0m\u001b[1;36m2.5\u001b[0m\u001b[1;33m)\u001b[0m\u001b[1;33m==\u001b[0m\u001b[1;36m9000.0\u001b[0m\u001b[1;33m)\u001b[0m\u001b[1;33m\u001b[0m\u001b[1;33m\u001b[0m\u001b[0m\n",
            "\u001b[1;31mNameError\u001b[0m: name 'horasEmSegundos' is not defined"
          ]
        }
      ],
      "source": [
        "print('Número de segundos:', horasEmSegundos(0.5), ' - Teste está correto?', horasEmSegundos(0.5)==1800.0)\n",
        "print('Número de segundos:', horasEmSegundos(1.0), ' - Teste está correto?', horasEmSegundos(1.0)==3600.0)\n",
        "print('Número de segundos:', horasEmSegundos(2.5), ' - Teste está correto?', horasEmSegundos(2.5)==9000.0)"
      ]
    },
    {
      "cell_type": "markdown",
      "metadata": {
        "id": "NNcxwCcOxrzX"
      },
      "source": [
        "#### 2) Crie uma função chamada `somarValores` que aceite qualquer número de parâmetros de entrada e retorne a soma desses números.\n",
        "\n",
        "**Dica**: Lembre-se que a função recebe do interpretador uma **tupla** com todos os parâmetros de entrada. Um **tupla** é uma coleção de objetos que pode ser iterada com um laço de repetição `for`.\n",
        "\n",
        "**Exemplo**\n",
        "\n",
        "```python\n",
        "# definindo uma tupla.\n",
        "tupla = (0, 1, 2, 3)\n",
        "\n",
        "# iterando através dos valores da tupla com um laço for.\n",
        "for valor in tupla:\n",
        "    print(valor)\n",
        "0\n",
        "1\n",
        "2\n",
        "3\n",
        "```"
      ]
    },
    {
      "cell_type": "code",
      "execution_count": null,
      "metadata": {
        "id": "ph9571fLxrzX"
      },
      "outputs": [],
      "source": [
        "# implemente o código da função aqui."
      ]
    },
    {
      "cell_type": "markdown",
      "metadata": {
        "id": "T5zD4wcuxrzX"
      },
      "source": [
        "Teste sua função com o código abaixo. Todas as linhas abaixo devem terminar em `Teste está correto? True`."
      ]
    },
    {
      "cell_type": "code",
      "execution_count": null,
      "metadata": {
        "id": "UNvwR_Z_xrzX",
        "outputId": "142986e5-4cb6-4bbf-a3f6-dd08158646b2"
      },
      "outputs": [
        {
          "ename": "NameError",
          "evalue": "name 'somarValores' is not defined",
          "output_type": "error",
          "traceback": [
            "\u001b[1;31m---------------------------------------------------------------------------\u001b[0m",
            "\u001b[1;31mNameError\u001b[0m                                 Traceback (most recent call last)",
            "\u001b[1;32m~\\AppData\\Local\\Temp\\ipykernel_15996\\682580714.py\u001b[0m in \u001b[0;36m<module>\u001b[1;34m\u001b[0m\n\u001b[1;32m----> 1\u001b[1;33m \u001b[0mprint\u001b[0m\u001b[1;33m(\u001b[0m\u001b[1;34m'Resultado:'\u001b[0m\u001b[1;33m,\u001b[0m \u001b[0msomarValores\u001b[0m\u001b[1;33m(\u001b[0m\u001b[1;36m2\u001b[0m\u001b[1;33m)\u001b[0m\u001b[1;33m,\u001b[0m \u001b[1;34m' - Teste está correto?'\u001b[0m\u001b[1;33m,\u001b[0m \u001b[0msomarValores\u001b[0m\u001b[1;33m(\u001b[0m\u001b[1;36m2\u001b[0m\u001b[1;33m)\u001b[0m\u001b[1;33m==\u001b[0m\u001b[1;36m2\u001b[0m\u001b[1;33m)\u001b[0m\u001b[1;33m\u001b[0m\u001b[1;33m\u001b[0m\u001b[0m\n\u001b[0m\u001b[0;32m      2\u001b[0m \u001b[0mprint\u001b[0m\u001b[1;33m(\u001b[0m\u001b[1;34m'Resultado:'\u001b[0m\u001b[1;33m,\u001b[0m \u001b[0msomarValores\u001b[0m\u001b[1;33m(\u001b[0m\u001b[1;36m2\u001b[0m\u001b[1;33m,\u001b[0m \u001b[1;36m4\u001b[0m\u001b[1;33m)\u001b[0m\u001b[1;33m,\u001b[0m \u001b[1;34m' - Teste está correto?'\u001b[0m\u001b[1;33m,\u001b[0m \u001b[0msomarValores\u001b[0m\u001b[1;33m(\u001b[0m\u001b[1;36m2\u001b[0m\u001b[1;33m,\u001b[0m \u001b[1;36m4\u001b[0m\u001b[1;33m)\u001b[0m\u001b[1;33m==\u001b[0m\u001b[1;36m6\u001b[0m\u001b[1;33m)\u001b[0m\u001b[1;33m\u001b[0m\u001b[1;33m\u001b[0m\u001b[0m\n\u001b[0;32m      3\u001b[0m \u001b[0mprint\u001b[0m\u001b[1;33m(\u001b[0m\u001b[1;34m'Resultado:'\u001b[0m\u001b[1;33m,\u001b[0m \u001b[0msomarValores\u001b[0m\u001b[1;33m(\u001b[0m\u001b[1;36m2\u001b[0m\u001b[1;33m,\u001b[0m \u001b[1;36m4\u001b[0m\u001b[1;33m,\u001b[0m \u001b[1;36m6\u001b[0m\u001b[1;33m)\u001b[0m\u001b[1;33m,\u001b[0m \u001b[1;34m' - Teste está correto?'\u001b[0m\u001b[1;33m,\u001b[0m \u001b[0msomarValores\u001b[0m\u001b[1;33m(\u001b[0m\u001b[1;36m2\u001b[0m\u001b[1;33m,\u001b[0m \u001b[1;36m4\u001b[0m\u001b[1;33m,\u001b[0m \u001b[1;36m6\u001b[0m\u001b[1;33m)\u001b[0m\u001b[1;33m==\u001b[0m\u001b[1;36m12\u001b[0m\u001b[1;33m)\u001b[0m\u001b[1;33m\u001b[0m\u001b[1;33m\u001b[0m\u001b[0m\n\u001b[0;32m      4\u001b[0m \u001b[0mprint\u001b[0m\u001b[1;33m(\u001b[0m\u001b[1;34m'Resultado:'\u001b[0m\u001b[1;33m,\u001b[0m \u001b[0msomarValores\u001b[0m\u001b[1;33m(\u001b[0m\u001b[1;36m1\u001b[0m\u001b[1;33m,\u001b[0m \u001b[1;36m2\u001b[0m\u001b[1;33m,\u001b[0m \u001b[1;36m3\u001b[0m\u001b[1;33m,\u001b[0m \u001b[1;36m4\u001b[0m\u001b[1;33m)\u001b[0m\u001b[1;33m,\u001b[0m \u001b[1;34m' - Teste está correto?'\u001b[0m\u001b[1;33m,\u001b[0m \u001b[0msomarValores\u001b[0m\u001b[1;33m(\u001b[0m\u001b[1;36m1\u001b[0m\u001b[1;33m,\u001b[0m \u001b[1;36m2\u001b[0m\u001b[1;33m,\u001b[0m \u001b[1;36m3\u001b[0m\u001b[1;33m,\u001b[0m \u001b[1;36m4\u001b[0m\u001b[1;33m)\u001b[0m\u001b[1;33m==\u001b[0m\u001b[1;36m10\u001b[0m\u001b[1;33m)\u001b[0m\u001b[1;33m\u001b[0m\u001b[1;33m\u001b[0m\u001b[0m\n\u001b[0;32m      5\u001b[0m \u001b[0mprint\u001b[0m\u001b[1;33m(\u001b[0m\u001b[1;34m'Resultado:'\u001b[0m\u001b[1;33m,\u001b[0m \u001b[0msomarValores\u001b[0m\u001b[1;33m(\u001b[0m\u001b[1;36m1\u001b[0m\u001b[1;33m,\u001b[0m \u001b[1;36m2\u001b[0m\u001b[1;33m,\u001b[0m \u001b[1;36m3\u001b[0m\u001b[1;33m,\u001b[0m \u001b[1;36m4\u001b[0m\u001b[1;33m,\u001b[0m \u001b[1;36m5\u001b[0m\u001b[1;33m)\u001b[0m\u001b[1;33m,\u001b[0m \u001b[1;34m' - Teste está correto?'\u001b[0m\u001b[1;33m,\u001b[0m \u001b[0msomarValores\u001b[0m\u001b[1;33m(\u001b[0m\u001b[1;36m1\u001b[0m\u001b[1;33m,\u001b[0m \u001b[1;36m2\u001b[0m\u001b[1;33m,\u001b[0m \u001b[1;36m3\u001b[0m\u001b[1;33m,\u001b[0m \u001b[1;36m4\u001b[0m\u001b[1;33m,\u001b[0m \u001b[1;36m5\u001b[0m\u001b[1;33m)\u001b[0m\u001b[1;33m==\u001b[0m\u001b[1;36m15\u001b[0m\u001b[1;33m)\u001b[0m\u001b[1;33m\u001b[0m\u001b[1;33m\u001b[0m\u001b[0m\n",
            "\u001b[1;31mNameError\u001b[0m: name 'somarValores' is not defined"
          ]
        }
      ],
      "source": [
        "print('Resultado:', somarValores(2), ' - Teste está correto?', somarValores(2)==2)\n",
        "print('Resultado:', somarValores(2, 4), ' - Teste está correto?', somarValores(2, 4)==6)\n",
        "print('Resultado:', somarValores(2, 4, 6), ' - Teste está correto?', somarValores(2, 4, 6)==12)\n",
        "print('Resultado:', somarValores(1, 2, 3, 4), ' - Teste está correto?', somarValores(1, 2, 3, 4)==10)\n",
        "print('Resultado:', somarValores(1, 2, 3, 4, 5), ' - Teste está correto?', somarValores(1, 2, 3, 4, 5)==15)"
      ]
    },
    {
      "cell_type": "markdown",
      "metadata": {
        "id": "xT-ROt7UxrzX"
      },
      "source": [
        "#### 3) Implemente uma função chamada `retornarDia`. Esta função recebe como parâmetro de entrada um número de 1 à 7 e retorna uma string com o dia da semana, onde 1 é domingo, 2 é segunda-feira e assim por diante. Se o número for menor que 1 ou maior que 7, a função deve retornar `None`.\n",
        "\n",
        "**IMPORTANTE**: A função DEVE **retornar** uma string, portanto, não é necessário usar a função embutida `print`."
      ]
    },
    {
      "cell_type": "code",
      "execution_count": null,
      "metadata": {
        "id": "fA4A59MHxrzX"
      },
      "outputs": [],
      "source": [
        "# implemente o código da função aqui."
      ]
    },
    {
      "cell_type": "markdown",
      "metadata": {
        "id": "pOdXVR-mxrzY"
      },
      "source": [
        "Teste sua função com o código abaixo."
      ]
    },
    {
      "cell_type": "code",
      "execution_count": null,
      "metadata": {
        "id": "MvzPvJOqxrzY",
        "outputId": "7e89a1e1-9228-40d3-b743-86432e64f19f"
      },
      "outputs": [
        {
          "ename": "NameError",
          "evalue": "name 'retornarDia' is not defined",
          "output_type": "error",
          "traceback": [
            "\u001b[1;31m---------------------------------------------------------------------------\u001b[0m",
            "\u001b[1;31mNameError\u001b[0m                                 Traceback (most recent call last)",
            "\u001b[1;32m~\\AppData\\Local\\Temp\\ipykernel_15996\\1349971300.py\u001b[0m in \u001b[0;36m<module>\u001b[1;34m\u001b[0m\n\u001b[1;32m----> 1\u001b[1;33m \u001b[0mprint\u001b[0m\u001b[1;33m(\u001b[0m\u001b[1;34m'Dia:'\u001b[0m\u001b[1;33m,\u001b[0m \u001b[0mretornarDia\u001b[0m\u001b[1;33m(\u001b[0m\u001b[1;36m0\u001b[0m\u001b[1;33m)\u001b[0m\u001b[1;33m,\u001b[0m \u001b[1;34m' \\t\\t- resultado correto?'\u001b[0m\u001b[1;33m,\u001b[0m \u001b[0mretornarDia\u001b[0m\u001b[1;33m(\u001b[0m\u001b[1;36m0\u001b[0m\u001b[1;33m)\u001b[0m\u001b[1;33m==\u001b[0m\u001b[1;32mNone\u001b[0m\u001b[1;33m)\u001b[0m\u001b[1;33m\u001b[0m\u001b[1;33m\u001b[0m\u001b[0m\n\u001b[0m\u001b[0;32m      2\u001b[0m \u001b[0mprint\u001b[0m\u001b[1;33m(\u001b[0m\u001b[1;34m'Dia:'\u001b[0m\u001b[1;33m,\u001b[0m \u001b[0mretornarDia\u001b[0m\u001b[1;33m(\u001b[0m\u001b[1;36m1\u001b[0m\u001b[1;33m)\u001b[0m\u001b[1;33m,\u001b[0m \u001b[1;34m' \\t\\t- resultado correto?'\u001b[0m\u001b[1;33m,\u001b[0m \u001b[0mretornarDia\u001b[0m\u001b[1;33m(\u001b[0m\u001b[1;36m1\u001b[0m\u001b[1;33m)\u001b[0m\u001b[1;33m==\u001b[0m\u001b[1;34m'domingo'\u001b[0m\u001b[1;33m)\u001b[0m\u001b[1;33m\u001b[0m\u001b[1;33m\u001b[0m\u001b[0m\n\u001b[0;32m      3\u001b[0m \u001b[0mprint\u001b[0m\u001b[1;33m(\u001b[0m\u001b[1;34m'Dia:'\u001b[0m\u001b[1;33m,\u001b[0m \u001b[0mretornarDia\u001b[0m\u001b[1;33m(\u001b[0m\u001b[1;36m2\u001b[0m\u001b[1;33m)\u001b[0m\u001b[1;33m,\u001b[0m \u001b[1;34m' \\t- resultado correto?'\u001b[0m\u001b[1;33m,\u001b[0m \u001b[0mretornarDia\u001b[0m\u001b[1;33m(\u001b[0m\u001b[1;36m2\u001b[0m\u001b[1;33m)\u001b[0m\u001b[1;33m==\u001b[0m\u001b[1;34m'segunda-feira'\u001b[0m\u001b[1;33m)\u001b[0m\u001b[1;33m\u001b[0m\u001b[1;33m\u001b[0m\u001b[0m\n\u001b[0;32m      4\u001b[0m \u001b[0mprint\u001b[0m\u001b[1;33m(\u001b[0m\u001b[1;34m'Dia:'\u001b[0m\u001b[1;33m,\u001b[0m \u001b[0mretornarDia\u001b[0m\u001b[1;33m(\u001b[0m\u001b[1;36m3\u001b[0m\u001b[1;33m)\u001b[0m\u001b[1;33m,\u001b[0m \u001b[1;34m' \\t- resultado correto?'\u001b[0m\u001b[1;33m,\u001b[0m \u001b[0mretornarDia\u001b[0m\u001b[1;33m(\u001b[0m\u001b[1;36m3\u001b[0m\u001b[1;33m)\u001b[0m\u001b[1;33m==\u001b[0m\u001b[1;34m'terça-feira'\u001b[0m\u001b[1;33m)\u001b[0m\u001b[1;33m\u001b[0m\u001b[1;33m\u001b[0m\u001b[0m\n\u001b[0;32m      5\u001b[0m \u001b[0mprint\u001b[0m\u001b[1;33m(\u001b[0m\u001b[1;34m'Dia:'\u001b[0m\u001b[1;33m,\u001b[0m \u001b[0mretornarDia\u001b[0m\u001b[1;33m(\u001b[0m\u001b[1;36m4\u001b[0m\u001b[1;33m)\u001b[0m\u001b[1;33m,\u001b[0m \u001b[1;34m' \\t- resultado correto?'\u001b[0m\u001b[1;33m,\u001b[0m \u001b[0mretornarDia\u001b[0m\u001b[1;33m(\u001b[0m\u001b[1;36m4\u001b[0m\u001b[1;33m)\u001b[0m\u001b[1;33m==\u001b[0m\u001b[1;34m'quarta-feira'\u001b[0m\u001b[1;33m)\u001b[0m\u001b[1;33m\u001b[0m\u001b[1;33m\u001b[0m\u001b[0m\n",
            "\u001b[1;31mNameError\u001b[0m: name 'retornarDia' is not defined"
          ]
        }
      ],
      "source": [
        "print('Dia:', retornarDia(0), ' \\t\\t- resultado correto?', retornarDia(0)==None)\n",
        "print('Dia:', retornarDia(1), ' \\t\\t- resultado correto?', retornarDia(1)=='domingo')\n",
        "print('Dia:', retornarDia(2), ' \\t- resultado correto?', retornarDia(2)=='segunda-feira')\n",
        "print('Dia:', retornarDia(3), ' \\t- resultado correto?', retornarDia(3)=='terça-feira')\n",
        "print('Dia:', retornarDia(4), ' \\t- resultado correto?', retornarDia(4)=='quarta-feira')\n",
        "print('Dia:', retornarDia(5), ' \\t- resultado correto?', retornarDia(5)=='quinta-feira')\n",
        "print('Dia:', retornarDia(6), ' \\t- resultado correto?', retornarDia(6)=='sexta-feira')\n",
        "print('Dia:', retornarDia(7), ' \\t\\t- resultado correto?', retornarDia(7)=='sábado')\n",
        "print('Dia:', retornarDia(8), ' \\t\\t- resultado correto?', retornarDia(8)==None)"
      ]
    },
    {
      "cell_type": "markdown",
      "metadata": {
        "id": "MctLYrUFxrzY"
      },
      "source": [
        "#### 4) Implemente uma função chamada `fatorial` que calcule o fatorial de um valor de entrada `x`.\n",
        "\n",
        "**IMPORTANTE: Utilize recursão para implementar esta função. Não use laços de repetição.**\n",
        "\n",
        "**Dica**: O fatorial de um número é calculado pela multiplicação desse número por todos os seus antecessores até chegar ao número 1. Uma exceção é o fatorial de 0, que é igual a 1.\n",
        "\n",
        "**Exemplos**:\n",
        "\n",
        "* 0! = 1\n",
        "* 1! = 1\n",
        "* 2! = 2 * 1 = 2\n",
        "* 3! = 3 * 2 * 1 = 6\n",
        "* 4! = 4 * 3 * 2 * 1 = 24"
      ]
    },
    {
      "cell_type": "code",
      "execution_count": null,
      "metadata": {
        "id": "UARYmUvExrzY"
      },
      "outputs": [],
      "source": [
        "# implemente o código da função aqui."
      ]
    },
    {
      "cell_type": "markdown",
      "metadata": {
        "id": "RILNmaQIxrzY"
      },
      "source": [
        "Teste sua função com o código abaixo. Todas as linhas abaixo devem terminar em `Teste está correto? True`."
      ]
    },
    {
      "cell_type": "code",
      "execution_count": null,
      "metadata": {
        "id": "NjfGaoGNxrzY",
        "outputId": "66cf8b78-b3af-4b7d-bb11-103daea36da0"
      },
      "outputs": [
        {
          "ename": "NameError",
          "evalue": "name 'fatorial' is not defined",
          "output_type": "error",
          "traceback": [
            "\u001b[1;31m---------------------------------------------------------------------------\u001b[0m",
            "\u001b[1;31mNameError\u001b[0m                                 Traceback (most recent call last)",
            "\u001b[1;32m~\\AppData\\Local\\Temp\\ipykernel_15996\\1381155512.py\u001b[0m in \u001b[0;36m<module>\u001b[1;34m\u001b[0m\n\u001b[1;32m----> 1\u001b[1;33m \u001b[0mprint\u001b[0m\u001b[1;33m(\u001b[0m\u001b[1;34m'fatorial:'\u001b[0m\u001b[1;33m,\u001b[0m \u001b[0mfatorial\u001b[0m\u001b[1;33m(\u001b[0m\u001b[1;36m0\u001b[0m\u001b[1;33m)\u001b[0m\u001b[1;33m,\u001b[0m \u001b[1;34m' - resultado correto?'\u001b[0m\u001b[1;33m,\u001b[0m \u001b[0mfatorial\u001b[0m\u001b[1;33m(\u001b[0m\u001b[1;36m0\u001b[0m\u001b[1;33m)\u001b[0m\u001b[1;33m==\u001b[0m\u001b[1;36m1\u001b[0m\u001b[1;33m)\u001b[0m\u001b[1;33m\u001b[0m\u001b[1;33m\u001b[0m\u001b[0m\n\u001b[0m\u001b[0;32m      2\u001b[0m \u001b[0mprint\u001b[0m\u001b[1;33m(\u001b[0m\u001b[1;34m'fatorial:'\u001b[0m\u001b[1;33m,\u001b[0m \u001b[0mfatorial\u001b[0m\u001b[1;33m(\u001b[0m\u001b[1;36m1\u001b[0m\u001b[1;33m)\u001b[0m\u001b[1;33m,\u001b[0m \u001b[1;34m' - resultado correto?'\u001b[0m\u001b[1;33m,\u001b[0m \u001b[0mfatorial\u001b[0m\u001b[1;33m(\u001b[0m\u001b[1;36m1\u001b[0m\u001b[1;33m)\u001b[0m\u001b[1;33m==\u001b[0m\u001b[1;36m1\u001b[0m\u001b[1;33m)\u001b[0m\u001b[1;33m\u001b[0m\u001b[1;33m\u001b[0m\u001b[0m\n\u001b[0;32m      3\u001b[0m \u001b[0mprint\u001b[0m\u001b[1;33m(\u001b[0m\u001b[1;34m'fatorial:'\u001b[0m\u001b[1;33m,\u001b[0m \u001b[0mfatorial\u001b[0m\u001b[1;33m(\u001b[0m\u001b[1;36m2\u001b[0m\u001b[1;33m)\u001b[0m\u001b[1;33m,\u001b[0m \u001b[1;34m' - resultado correto?'\u001b[0m\u001b[1;33m,\u001b[0m \u001b[0mfatorial\u001b[0m\u001b[1;33m(\u001b[0m\u001b[1;36m2\u001b[0m\u001b[1;33m)\u001b[0m\u001b[1;33m==\u001b[0m\u001b[1;36m2\u001b[0m\u001b[1;33m)\u001b[0m\u001b[1;33m\u001b[0m\u001b[1;33m\u001b[0m\u001b[0m\n\u001b[0;32m      4\u001b[0m \u001b[0mprint\u001b[0m\u001b[1;33m(\u001b[0m\u001b[1;34m'fatorial:'\u001b[0m\u001b[1;33m,\u001b[0m \u001b[0mfatorial\u001b[0m\u001b[1;33m(\u001b[0m\u001b[1;36m3\u001b[0m\u001b[1;33m)\u001b[0m\u001b[1;33m,\u001b[0m \u001b[1;34m' - resultado correto?'\u001b[0m\u001b[1;33m,\u001b[0m \u001b[0mfatorial\u001b[0m\u001b[1;33m(\u001b[0m\u001b[1;36m3\u001b[0m\u001b[1;33m)\u001b[0m\u001b[1;33m==\u001b[0m\u001b[1;36m6\u001b[0m\u001b[1;33m)\u001b[0m\u001b[1;33m\u001b[0m\u001b[1;33m\u001b[0m\u001b[0m\n\u001b[0;32m      5\u001b[0m \u001b[0mprint\u001b[0m\u001b[1;33m(\u001b[0m\u001b[1;34m'fatorial:'\u001b[0m\u001b[1;33m,\u001b[0m \u001b[0mfatorial\u001b[0m\u001b[1;33m(\u001b[0m\u001b[1;36m4\u001b[0m\u001b[1;33m)\u001b[0m\u001b[1;33m,\u001b[0m \u001b[1;34m' - resultado correto?'\u001b[0m\u001b[1;33m,\u001b[0m \u001b[0mfatorial\u001b[0m\u001b[1;33m(\u001b[0m\u001b[1;36m4\u001b[0m\u001b[1;33m)\u001b[0m\u001b[1;33m==\u001b[0m\u001b[1;36m24\u001b[0m\u001b[1;33m)\u001b[0m\u001b[1;33m\u001b[0m\u001b[1;33m\u001b[0m\u001b[0m\n",
            "\u001b[1;31mNameError\u001b[0m: name 'fatorial' is not defined"
          ]
        }
      ],
      "source": [
        "print('fatorial:', fatorial(0), ' - resultado correto?', fatorial(0)==1)\n",
        "print('fatorial:', fatorial(1), ' - resultado correto?', fatorial(1)==1)\n",
        "print('fatorial:', fatorial(2), ' - resultado correto?', fatorial(2)==2)\n",
        "print('fatorial:', fatorial(3), ' - resultado correto?', fatorial(3)==6)\n",
        "print('fatorial:', fatorial(4), ' - resultado correto?', fatorial(4)==24)"
      ]
    },
    {
      "cell_type": "markdown",
      "metadata": {
        "id": "Id-gJToQxrzY"
      },
      "source": [
        "#### 5)  O número de combinações possíveis de `m` elementos em grupos de `n` elementos (sendo que `n <= m`) é dado pela equação abaixo\n",
        "\n",
        "$$\\text{Número de combinações} = \\frac{m!}{ (m-n)!n! }$$\n",
        "\n",
        "Implemente uma função chamada `combinação` que receba dois números inteiros `m` e `n`, calcule e retorne o número de combinações possíveis.\n",
        "\n",
        "**IMPORTANTE**: Use a função `fatorial` implementada no exercício anterior para implementar a função `combinação`."
      ]
    },
    {
      "cell_type": "code",
      "execution_count": null,
      "metadata": {
        "id": "vyq00h54xrzY"
      },
      "outputs": [],
      "source": [
        "# implemente o código da função aqui."
      ]
    },
    {
      "cell_type": "markdown",
      "metadata": {
        "id": "RVg43giHxrzY"
      },
      "source": [
        "Teste sua função com o código abaixo. Todas as linhas abaixo devem terminar em `Teste está correto? True`."
      ]
    },
    {
      "cell_type": "code",
      "execution_count": null,
      "metadata": {
        "id": "Nbl3AV8gxrzY",
        "outputId": "a6c8d19b-a76e-4b1e-ece9-a2c73d780f77"
      },
      "outputs": [
        {
          "ename": "NameError",
          "evalue": "name 'combinação' is not defined",
          "output_type": "error",
          "traceback": [
            "\u001b[1;31m---------------------------------------------------------------------------\u001b[0m",
            "\u001b[1;31mNameError\u001b[0m                                 Traceback (most recent call last)",
            "\u001b[1;32m~\\AppData\\Local\\Temp\\ipykernel_15996\\2767610011.py\u001b[0m in \u001b[0;36m<module>\u001b[1;34m\u001b[0m\n\u001b[1;32m----> 1\u001b[1;33m \u001b[0mprint\u001b[0m\u001b[1;33m(\u001b[0m\u001b[1;34m'Número de combinações:'\u001b[0m\u001b[1;33m,\u001b[0m \u001b[0mcombinação\u001b[0m\u001b[1;33m(\u001b[0m\u001b[1;36m2\u001b[0m\u001b[1;33m,\u001b[0m \u001b[1;36m2\u001b[0m\u001b[1;33m)\u001b[0m\u001b[1;33m,\u001b[0m \u001b[1;34m' - resultado correto?'\u001b[0m\u001b[1;33m,\u001b[0m \u001b[0mcombinação\u001b[0m\u001b[1;33m(\u001b[0m\u001b[1;36m2\u001b[0m\u001b[1;33m,\u001b[0m \u001b[1;36m2\u001b[0m\u001b[1;33m)\u001b[0m\u001b[1;33m==\u001b[0m\u001b[1;36m1\u001b[0m\u001b[1;33m)\u001b[0m\u001b[1;33m\u001b[0m\u001b[1;33m\u001b[0m\u001b[0m\n\u001b[0m\u001b[0;32m      2\u001b[0m \u001b[0mprint\u001b[0m\u001b[1;33m(\u001b[0m\u001b[1;34m'Número de combinações:'\u001b[0m\u001b[1;33m,\u001b[0m \u001b[0mcombinação\u001b[0m\u001b[1;33m(\u001b[0m\u001b[1;36m2\u001b[0m\u001b[1;33m,\u001b[0m \u001b[1;36m1\u001b[0m\u001b[1;33m)\u001b[0m\u001b[1;33m,\u001b[0m \u001b[1;34m' - resultado correto?'\u001b[0m\u001b[1;33m,\u001b[0m \u001b[0mcombinação\u001b[0m\u001b[1;33m(\u001b[0m\u001b[1;36m2\u001b[0m\u001b[1;33m,\u001b[0m \u001b[1;36m1\u001b[0m\u001b[1;33m)\u001b[0m\u001b[1;33m==\u001b[0m\u001b[1;36m2\u001b[0m\u001b[1;33m)\u001b[0m\u001b[1;33m\u001b[0m\u001b[1;33m\u001b[0m\u001b[0m\n\u001b[0;32m      3\u001b[0m \u001b[0mprint\u001b[0m\u001b[1;33m(\u001b[0m\u001b[1;34m'Número de combinações:'\u001b[0m\u001b[1;33m,\u001b[0m \u001b[0mcombinação\u001b[0m\u001b[1;33m(\u001b[0m\u001b[1;36m5\u001b[0m\u001b[1;33m,\u001b[0m \u001b[1;36m3\u001b[0m\u001b[1;33m)\u001b[0m\u001b[1;33m,\u001b[0m \u001b[1;34m' - resultado correto?'\u001b[0m\u001b[1;33m,\u001b[0m \u001b[0mcombinação\u001b[0m\u001b[1;33m(\u001b[0m\u001b[1;36m5\u001b[0m\u001b[1;33m,\u001b[0m \u001b[1;36m3\u001b[0m\u001b[1;33m)\u001b[0m\u001b[1;33m==\u001b[0m\u001b[1;36m10\u001b[0m\u001b[1;33m)\u001b[0m\u001b[1;33m\u001b[0m\u001b[1;33m\u001b[0m\u001b[0m\n\u001b[0;32m      4\u001b[0m \u001b[0mprint\u001b[0m\u001b[1;33m(\u001b[0m\u001b[1;34m'Número de combinações:'\u001b[0m\u001b[1;33m,\u001b[0m \u001b[0mcombinação\u001b[0m\u001b[1;33m(\u001b[0m\u001b[1;36m4\u001b[0m\u001b[1;33m,\u001b[0m \u001b[1;36m2\u001b[0m\u001b[1;33m)\u001b[0m\u001b[1;33m,\u001b[0m \u001b[1;34m' - resultado correto?'\u001b[0m\u001b[1;33m,\u001b[0m \u001b[0mcombinação\u001b[0m\u001b[1;33m(\u001b[0m\u001b[1;36m4\u001b[0m\u001b[1;33m,\u001b[0m \u001b[1;36m2\u001b[0m\u001b[1;33m)\u001b[0m\u001b[1;33m==\u001b[0m\u001b[1;36m6\u001b[0m\u001b[1;33m)\u001b[0m\u001b[1;33m\u001b[0m\u001b[1;33m\u001b[0m\u001b[0m\n",
            "\u001b[1;31mNameError\u001b[0m: name 'combinação' is not defined"
          ]
        }
      ],
      "source": [
        "print('Número de combinações:', combinação(2, 2), ' - resultado correto?', combinação(2, 2)==1)\n",
        "print('Número de combinações:', combinação(2, 1), ' - resultado correto?', combinação(2, 1)==2)\n",
        "print('Número de combinações:', combinação(5, 3), ' - resultado correto?', combinação(5, 3)==10)\n",
        "print('Número de combinações:', combinação(4, 2), ' - resultado correto?', combinação(4, 2)==6)"
      ]
    },
    {
      "cell_type": "markdown",
      "metadata": {
        "id": "y1C9hWMsxrzZ"
      },
      "source": [
        "#### 6)  Crie uma função chamada `retornarDoisValores` que aceite qualquer número de parâmetros de entrada (ou seja, que aceite um número arbitrário de parâmetros de entrada) e retorne dois valores, a soma e o dobro da soma, desses números, respectivamente.\n",
        "\n",
        "**Dicas**:\n",
        "\n",
        "+ Lembre-se que a função recebe do interpretador uma **tupla** com todos os parâmetros de entrada. Uma **tupla** é uma coleção de objetos que pode ser iterada com um laço de repetição `for`, por exemplo.\n",
        "```python\n",
        "# definindo uma tupla.\n",
        "tupla = (0, 1, 2, 3)\n",
        "# iterando através dos valores da tupla com um laço for.\n",
        "for valor in tupla:\n",
        "    print(valor)\n",
        "0\n",
        "1\n",
        "2\n",
        "3\n",
        "```\n",
        "+ Para calcular a soma, você pode, se preferir, usar a **função embutida** `sum` para somar todos os valores da tupla passada para a função. Veja abaixo um exemplo de como usar a função `sum`:\n",
        "```python\n",
        "tupla = (1, 1, 1, 1)\n",
        "soma = sum(tupla)\n",
        "print(soma)\n",
        "4\n",
        "```"
      ]
    },
    {
      "cell_type": "code",
      "execution_count": null,
      "metadata": {
        "id": "0kiKy-mJxrzZ"
      },
      "outputs": [],
      "source": [
        "# Implemente aqui o código da função."
      ]
    },
    {
      "cell_type": "markdown",
      "metadata": {
        "id": "OspFUCOOxrzZ"
      },
      "source": [
        "Teste suas funções com o código abaixo. Todas as linhas abaixo devem terminar em `Teste está correto? True`."
      ]
    },
    {
      "cell_type": "code",
      "execution_count": null,
      "metadata": {
        "id": "2tv1QCbSxrzZ",
        "outputId": "6e8c93e3-522d-47b1-f4f6-72a9160873c8"
      },
      "outputs": [
        {
          "ename": "NameError",
          "evalue": "name 'retornaDoisValores' is not defined",
          "output_type": "error",
          "traceback": [
            "\u001b[1;31m---------------------------------------------------------------------------\u001b[0m",
            "\u001b[1;31mNameError\u001b[0m                                 Traceback (most recent call last)",
            "\u001b[1;32m~\\AppData\\Local\\Temp\\ipykernel_15996\\1452492700.py\u001b[0m in \u001b[0;36m<module>\u001b[1;34m\u001b[0m\n\u001b[1;32m----> 1\u001b[1;33m \u001b[0mprint\u001b[0m\u001b[1;33m(\u001b[0m\u001b[1;34m'Resultado:'\u001b[0m\u001b[1;33m,\u001b[0m \u001b[0mretornaDoisValores\u001b[0m\u001b[1;33m(\u001b[0m\u001b[1;36m2\u001b[0m\u001b[1;33m)\u001b[0m\u001b[1;33m,\u001b[0m \u001b[1;34m' - Teste está correto?'\u001b[0m\u001b[1;33m,\u001b[0m \u001b[0mretornaDoisValores\u001b[0m\u001b[1;33m(\u001b[0m\u001b[1;36m2\u001b[0m\u001b[1;33m)\u001b[0m\u001b[1;33m==\u001b[0m\u001b[1;33m(\u001b[0m\u001b[1;36m2\u001b[0m\u001b[1;33m,\u001b[0m \u001b[1;36m4\u001b[0m\u001b[1;33m)\u001b[0m\u001b[1;33m)\u001b[0m\u001b[1;33m\u001b[0m\u001b[1;33m\u001b[0m\u001b[0m\n\u001b[0m\u001b[0;32m      2\u001b[0m \u001b[0mprint\u001b[0m\u001b[1;33m(\u001b[0m\u001b[1;34m'Resultado:'\u001b[0m\u001b[1;33m,\u001b[0m \u001b[0mretornaDoisValores\u001b[0m\u001b[1;33m(\u001b[0m\u001b[1;36m2\u001b[0m\u001b[1;33m,\u001b[0m \u001b[1;36m4\u001b[0m\u001b[1;33m)\u001b[0m\u001b[1;33m,\u001b[0m \u001b[1;34m' - Teste está correto?'\u001b[0m\u001b[1;33m,\u001b[0m \u001b[0mretornaDoisValores\u001b[0m\u001b[1;33m(\u001b[0m\u001b[1;36m2\u001b[0m\u001b[1;33m,\u001b[0m \u001b[1;36m4\u001b[0m\u001b[1;33m)\u001b[0m\u001b[1;33m==\u001b[0m\u001b[1;33m(\u001b[0m\u001b[1;36m6\u001b[0m\u001b[1;33m,\u001b[0m \u001b[1;36m12\u001b[0m\u001b[1;33m)\u001b[0m\u001b[1;33m)\u001b[0m\u001b[1;33m\u001b[0m\u001b[1;33m\u001b[0m\u001b[0m\n\u001b[0;32m      3\u001b[0m \u001b[0mprint\u001b[0m\u001b[1;33m(\u001b[0m\u001b[1;34m'Resultado:'\u001b[0m\u001b[1;33m,\u001b[0m \u001b[0mretornaDoisValores\u001b[0m\u001b[1;33m(\u001b[0m\u001b[1;36m2\u001b[0m\u001b[1;33m,\u001b[0m \u001b[1;36m4\u001b[0m\u001b[1;33m,\u001b[0m \u001b[1;36m6\u001b[0m\u001b[1;33m)\u001b[0m\u001b[1;33m,\u001b[0m \u001b[1;34m' - Teste está correto?'\u001b[0m\u001b[1;33m,\u001b[0m \u001b[0mretornaDoisValores\u001b[0m\u001b[1;33m(\u001b[0m\u001b[1;36m2\u001b[0m\u001b[1;33m,\u001b[0m \u001b[1;36m4\u001b[0m\u001b[1;33m,\u001b[0m \u001b[1;36m6\u001b[0m\u001b[1;33m)\u001b[0m\u001b[1;33m==\u001b[0m\u001b[1;33m(\u001b[0m\u001b[1;36m12\u001b[0m\u001b[1;33m,\u001b[0m \u001b[1;36m24\u001b[0m\u001b[1;33m)\u001b[0m\u001b[1;33m)\u001b[0m\u001b[1;33m\u001b[0m\u001b[1;33m\u001b[0m\u001b[0m\n\u001b[0;32m      4\u001b[0m \u001b[0mprint\u001b[0m\u001b[1;33m(\u001b[0m\u001b[1;34m'Resultado:'\u001b[0m\u001b[1;33m,\u001b[0m \u001b[0mretornaDoisValores\u001b[0m\u001b[1;33m(\u001b[0m\u001b[1;36m1\u001b[0m\u001b[1;33m,\u001b[0m \u001b[1;36m2\u001b[0m\u001b[1;33m,\u001b[0m \u001b[1;36m3\u001b[0m\u001b[1;33m,\u001b[0m \u001b[1;36m4\u001b[0m\u001b[1;33m)\u001b[0m\u001b[1;33m,\u001b[0m \u001b[1;34m' - Teste está correto?'\u001b[0m\u001b[1;33m,\u001b[0m \u001b[0mretornaDoisValores\u001b[0m\u001b[1;33m(\u001b[0m\u001b[1;36m1\u001b[0m\u001b[1;33m,\u001b[0m \u001b[1;36m2\u001b[0m\u001b[1;33m,\u001b[0m \u001b[1;36m3\u001b[0m\u001b[1;33m,\u001b[0m \u001b[1;36m4\u001b[0m\u001b[1;33m)\u001b[0m\u001b[1;33m==\u001b[0m\u001b[1;33m(\u001b[0m\u001b[1;36m10\u001b[0m\u001b[1;33m,\u001b[0m \u001b[1;36m20\u001b[0m\u001b[1;33m)\u001b[0m\u001b[1;33m)\u001b[0m\u001b[1;33m\u001b[0m\u001b[1;33m\u001b[0m\u001b[0m\n",
            "\u001b[1;31mNameError\u001b[0m: name 'retornaDoisValores' is not defined"
          ]
        }
      ],
      "source": [
        "print('Resultado:', retornaDoisValores(2), ' - Teste está correto?', retornaDoisValores(2)==(2, 4))\n",
        "print('Resultado:', retornaDoisValores(2, 4), ' - Teste está correto?', retornaDoisValores(2, 4)==(6, 12))\n",
        "print('Resultado:', retornaDoisValores(2, 4, 6), ' - Teste está correto?', retornaDoisValores(2, 4, 6)==(12, 24))\n",
        "print('Resultado:', retornaDoisValores(1, 2, 3, 4), ' - Teste está correto?', retornaDoisValores(1, 2, 3, 4)==(10, 20))"
      ]
    },
    {
      "cell_type": "markdown",
      "metadata": {
        "id": "bkDR-_HLxrzZ"
      },
      "source": [
        "#### 7)  Crie uma função chamada `calcularMédia` que aceite qualquer número de parâmetros de entrada (ou seja, que aceite um número arbitrário de parâmetros de entrada) e retorne a média aritmética simples destes valores de entrada.\n",
        "\n",
        "**Dicas**:\n",
        "\n",
        "+ Lembre-se que a função recebe do interpretador uma **tupla** com todos os parâmetros de entrada. Uma **tupla** é uma coleção de objetos que pode ser iterada com um laço de repetição `for`, por exemplo.\n",
        "```python\n",
        "# definindo uma tupla.\n",
        "tupla = (0, 1, 2, 3)\n",
        "# iterando através dos valores da tupla com um laço for.\n",
        "for valor in tupla:\n",
        "    print(valor)\n",
        "0\n",
        "1\n",
        "2\n",
        "3\n",
        "```\n",
        "+ Para calcular a média, você pode, se preferir, usar a **função** embutida `sum` para somar todos os valores da tupla passada para a função e usar a função embutida `len` para obter a quantidade de elementos na tupla. Veja o exemplo abaixo:\n",
        "```python\n",
        "tupla = (1, 1, 1, 1)\n",
        "média = sum(tupla)/len(tupla)\n",
        "print(média)\n",
        "1\n",
        "```"
      ]
    },
    {
      "cell_type": "code",
      "execution_count": null,
      "metadata": {
        "id": "mW5InhFfxrzZ"
      },
      "outputs": [],
      "source": [
        "# Implemente aqui o código da função."
      ]
    },
    {
      "cell_type": "markdown",
      "metadata": {
        "id": "VGTISogjxrzZ"
      },
      "source": [
        "Teste suas funções com o código abaixo. Todas as linhas abaixo devem terminar em `Teste está correto? True`."
      ]
    },
    {
      "cell_type": "code",
      "execution_count": null,
      "metadata": {
        "id": "hUuILnNkxrzZ",
        "outputId": "147481a5-5f0d-45b1-e73a-7d48087ae154"
      },
      "outputs": [
        {
          "ename": "NameError",
          "evalue": "name 'calcularMédia' is not defined",
          "output_type": "error",
          "traceback": [
            "\u001b[1;31m---------------------------------------------------------------------------\u001b[0m",
            "\u001b[1;31mNameError\u001b[0m                                 Traceback (most recent call last)",
            "\u001b[1;32m~\\AppData\\Local\\Temp\\ipykernel_15996\\1631315641.py\u001b[0m in \u001b[0;36m<module>\u001b[1;34m\u001b[0m\n\u001b[1;32m----> 1\u001b[1;33m \u001b[0mprint\u001b[0m\u001b[1;33m(\u001b[0m\u001b[1;34m'Resultado:'\u001b[0m\u001b[1;33m,\u001b[0m \u001b[0mcalcularMédia\u001b[0m\u001b[1;33m(\u001b[0m\u001b[1;36m2\u001b[0m\u001b[1;33m)\u001b[0m\u001b[1;33m,\u001b[0m \u001b[1;34m' - Teste está correto?'\u001b[0m\u001b[1;33m,\u001b[0m \u001b[0mcalcularMédia\u001b[0m\u001b[1;33m(\u001b[0m\u001b[1;36m2\u001b[0m\u001b[1;33m)\u001b[0m\u001b[1;33m==\u001b[0m\u001b[1;36m2\u001b[0m\u001b[1;33m)\u001b[0m\u001b[1;33m\u001b[0m\u001b[1;33m\u001b[0m\u001b[0m\n\u001b[0m\u001b[0;32m      2\u001b[0m \u001b[0mprint\u001b[0m\u001b[1;33m(\u001b[0m\u001b[1;34m'Resultado:'\u001b[0m\u001b[1;33m,\u001b[0m \u001b[0mcalcularMédia\u001b[0m\u001b[1;33m(\u001b[0m\u001b[1;36m2\u001b[0m\u001b[1;33m,\u001b[0m \u001b[1;36m4\u001b[0m\u001b[1;33m)\u001b[0m\u001b[1;33m,\u001b[0m \u001b[1;34m' - Teste está correto?'\u001b[0m\u001b[1;33m,\u001b[0m \u001b[0mcalcularMédia\u001b[0m\u001b[1;33m(\u001b[0m\u001b[1;36m2\u001b[0m\u001b[1;33m,\u001b[0m \u001b[1;36m4\u001b[0m\u001b[1;33m)\u001b[0m\u001b[1;33m==\u001b[0m\u001b[1;36m3\u001b[0m\u001b[1;33m)\u001b[0m\u001b[1;33m\u001b[0m\u001b[1;33m\u001b[0m\u001b[0m\n\u001b[0;32m      3\u001b[0m \u001b[0mprint\u001b[0m\u001b[1;33m(\u001b[0m\u001b[1;34m'Resultado:'\u001b[0m\u001b[1;33m,\u001b[0m \u001b[0mcalcularMédia\u001b[0m\u001b[1;33m(\u001b[0m\u001b[1;36m2\u001b[0m\u001b[1;33m,\u001b[0m \u001b[1;36m4\u001b[0m\u001b[1;33m,\u001b[0m \u001b[1;36m6\u001b[0m\u001b[1;33m)\u001b[0m\u001b[1;33m,\u001b[0m \u001b[1;34m' - Teste está correto?'\u001b[0m\u001b[1;33m,\u001b[0m \u001b[0mcalcularMédia\u001b[0m\u001b[1;33m(\u001b[0m\u001b[1;36m2\u001b[0m\u001b[1;33m,\u001b[0m \u001b[1;36m4\u001b[0m\u001b[1;33m,\u001b[0m \u001b[1;36m6\u001b[0m\u001b[1;33m)\u001b[0m\u001b[1;33m==\u001b[0m\u001b[1;36m4\u001b[0m\u001b[1;33m)\u001b[0m\u001b[1;33m\u001b[0m\u001b[1;33m\u001b[0m\u001b[0m\n\u001b[0;32m      4\u001b[0m \u001b[0mprint\u001b[0m\u001b[1;33m(\u001b[0m\u001b[1;34m'Resultado:'\u001b[0m\u001b[1;33m,\u001b[0m \u001b[0mcalcularMédia\u001b[0m\u001b[1;33m(\u001b[0m\u001b[1;36m1\u001b[0m\u001b[1;33m,\u001b[0m \u001b[1;36m2\u001b[0m\u001b[1;33m,\u001b[0m \u001b[1;36m3\u001b[0m\u001b[1;33m,\u001b[0m \u001b[1;36m4\u001b[0m\u001b[1;33m)\u001b[0m\u001b[1;33m,\u001b[0m \u001b[1;34m' - Teste está correto?'\u001b[0m\u001b[1;33m,\u001b[0m \u001b[0mcalcularMédia\u001b[0m\u001b[1;33m(\u001b[0m\u001b[1;36m1\u001b[0m\u001b[1;33m,\u001b[0m \u001b[1;36m2\u001b[0m\u001b[1;33m,\u001b[0m \u001b[1;36m3\u001b[0m\u001b[1;33m,\u001b[0m \u001b[1;36m4\u001b[0m\u001b[1;33m)\u001b[0m\u001b[1;33m==\u001b[0m\u001b[1;36m2.5\u001b[0m\u001b[1;33m)\u001b[0m\u001b[1;33m\u001b[0m\u001b[1;33m\u001b[0m\u001b[0m\n",
            "\u001b[1;31mNameError\u001b[0m: name 'calcularMédia' is not defined"
          ]
        }
      ],
      "source": [
        "print('Resultado:', calcularMédia(2), ' - Teste está correto?', calcularMédia(2)==2)\n",
        "print('Resultado:', calcularMédia(2, 4), ' - Teste está correto?', calcularMédia(2, 4)==3)\n",
        "print('Resultado:', calcularMédia(2, 4, 6), ' - Teste está correto?', calcularMédia(2, 4, 6)==4)\n",
        "print('Resultado:', calcularMédia(1, 2, 3, 4), ' - Teste está correto?', calcularMédia(1, 2, 3, 4)==2.5)"
      ]
    },
    {
      "cell_type": "markdown",
      "metadata": {
        "id": "RuP17VUYxrzZ"
      },
      "source": [
        "#### 8)  Cálculo do IMC com passagem de parâmetros através de pares chave-valor\n",
        "\n",
        "Crie uma função chamada `imc` que calcule o IMC (Índice de Massa Corporal) de uma pessoa utilizando **passagem de parâmetros através de pares chave e valor**. A função deve receber dois parâmetros: `peso` e `altura`, ambos como pares chave-valor. O parâmetro de peso será representado pela chave `peso` e o de altura pela chave `altura`\n",
        "\n",
        "A função deve calcular o IMC usando a fórmula matemática $\\text{IMC} = \\text{peso} / (\\text{altura}^2)$ e retornar o resultado."
      ]
    },
    {
      "cell_type": "code",
      "execution_count": null,
      "metadata": {
        "id": "Glfe7x8ixrzZ"
      },
      "outputs": [],
      "source": [
        "# Implemente aqui o código da função."
      ]
    },
    {
      "cell_type": "markdown",
      "metadata": {
        "id": "qhSndhNcxrzZ"
      },
      "source": [
        "Teste sua função com o código abaixo. Todas as linhas abaixo devem terminar em `Teste está correto? True`."
      ]
    },
    {
      "cell_type": "code",
      "execution_count": null,
      "metadata": {
        "id": "EDNmJdM8xrzZ",
        "outputId": "f463f563-a335-44a2-a11a-524ed42e9f51"
      },
      "outputs": [
        {
          "ename": "NameError",
          "evalue": "name 'imc' is not defined",
          "output_type": "error",
          "traceback": [
            "\u001b[1;31m---------------------------------------------------------------------------\u001b[0m",
            "\u001b[1;31mNameError\u001b[0m                                 Traceback (most recent call last)",
            "\u001b[1;32m~\\AppData\\Local\\Temp\\ipykernel_15996\\3352439997.py\u001b[0m in \u001b[0;36m<module>\u001b[1;34m\u001b[0m\n\u001b[1;32m----> 1\u001b[1;33m \u001b[0mprint\u001b[0m\u001b[1;33m(\u001b[0m\u001b[1;34m'Resultado:'\u001b[0m\u001b[1;33m,\u001b[0m \u001b[0mimc\u001b[0m\u001b[1;33m(\u001b[0m\u001b[0mpeso\u001b[0m\u001b[1;33m=\u001b[0m\u001b[1;36m100\u001b[0m\u001b[1;33m,\u001b[0m \u001b[0maltura\u001b[0m\u001b[1;33m=\u001b[0m\u001b[1;36m2.0\u001b[0m\u001b[1;33m)\u001b[0m\u001b[1;33m,\u001b[0m \u001b[1;34m' - Teste está correto?'\u001b[0m\u001b[1;33m,\u001b[0m \u001b[0mimc\u001b[0m\u001b[1;33m(\u001b[0m\u001b[0mpeso\u001b[0m\u001b[1;33m=\u001b[0m\u001b[1;36m100\u001b[0m\u001b[1;33m,\u001b[0m \u001b[0maltura\u001b[0m\u001b[1;33m=\u001b[0m\u001b[1;36m2.0\u001b[0m\u001b[1;33m)\u001b[0m\u001b[1;33m==\u001b[0m\u001b[1;36m25.0\u001b[0m\u001b[1;33m)\u001b[0m\u001b[1;33m\u001b[0m\u001b[1;33m\u001b[0m\u001b[0m\n\u001b[0m\u001b[0;32m      2\u001b[0m \u001b[0mprint\u001b[0m\u001b[1;33m(\u001b[0m\u001b[1;34m'Resultado:'\u001b[0m\u001b[1;33m,\u001b[0m \u001b[0mimc\u001b[0m\u001b[1;33m(\u001b[0m\u001b[0maltura\u001b[0m\u001b[1;33m=\u001b[0m\u001b[1;36m2.0\u001b[0m\u001b[1;33m,\u001b[0m \u001b[0mpeso\u001b[0m\u001b[1;33m=\u001b[0m\u001b[1;36m100\u001b[0m\u001b[1;33m)\u001b[0m\u001b[1;33m,\u001b[0m \u001b[1;34m' - Teste está correto?'\u001b[0m\u001b[1;33m,\u001b[0m \u001b[0mimc\u001b[0m\u001b[1;33m(\u001b[0m\u001b[0maltura\u001b[0m\u001b[1;33m=\u001b[0m\u001b[1;36m2.0\u001b[0m\u001b[1;33m,\u001b[0m \u001b[0mpeso\u001b[0m\u001b[1;33m=\u001b[0m\u001b[1;36m100\u001b[0m\u001b[1;33m)\u001b[0m\u001b[1;33m==\u001b[0m\u001b[1;36m25.0\u001b[0m\u001b[1;33m)\u001b[0m\u001b[1;33m\u001b[0m\u001b[1;33m\u001b[0m\u001b[0m\n",
            "\u001b[1;31mNameError\u001b[0m: name 'imc' is not defined"
          ]
        }
      ],
      "source": [
        "print('Resultado:', imc(peso=100, altura=2.0), ' - Teste está correto?', imc(peso=100, altura=2.0)==25.0)\n",
        "print('Resultado:', imc(altura=2.0, peso=100), ' - Teste está correto?', imc(altura=2.0, peso=100)==25.0)"
      ]
    }
  ],
  "metadata": {
    "kernelspec": {
      "display_name": "Python 3",
      "name": "python3"
    },
    "language_info": {
      "codemirror_mode": {
        "name": "ipython",
        "version": 3
      },
      "file_extension": ".py",
      "mimetype": "text/x-python",
      "name": "python",
      "nbconvert_exporter": "python",
      "pygments_lexer": "ipython3",
      "version": "3.10.9"
    },
    "colab": {
      "provenance": [],
      "generative_ai_disabled": true
    }
  },
  "nbformat": 4,
  "nbformat_minor": 0
}