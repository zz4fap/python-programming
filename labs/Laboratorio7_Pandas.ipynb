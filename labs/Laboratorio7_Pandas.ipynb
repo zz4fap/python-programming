{
  "cells": [
    {
      "cell_type": "markdown",
      "metadata": {
        "id": "ahM2g_kkzKI6"
      },
      "source": [
        "# Laboratório #7 - Pandas\n",
        "\n",
        "### Instruções\n",
        "\n",
        "1. Antes de começar, você deve clicar na opção \"Copiar para o Drive\" na barra superior do Colab. Depois de clicar nela, verifique se você está trabalhando nessa versão do notebook para que seu trabalho seja salvo.\n",
        "2. Para cada um dos exercícios a seguir, faça o seguinte:\n",
        "    * Sempre que possível, adicione comentários ao seu código. Os comentários servem para documentar o código.\n",
        "    * Use **docstrings** explicando sucintamente o que cada função implementada faz.\n",
        "        + **docstrings** são os comentários de múltiplas linhas que aparecem **logo após** o cabeçalho da função.\n",
        "    * Escolha nomes autoexplicativos para suas funções e variáveis.\n",
        "3. Quando você terminar os exercícios do laboratório, vá ao menu do Colab ou Jupyter e selecione a opção para fazer download do notebook.\n",
        "    * Os notebooks tem extensão .ipynb.\n",
        "    * Este deve ser o arquivo que você irá entregar.\n",
        "    * No Colab vá até a opção **File** -> **Download .ipynb**.\n",
        "    * No Jupyter vá até a opção **File** -> **Download as** -> **Notebook (.ipynb)**.\n",
        "4. Após o download do notebook, vá até a aba de tarefas do MS Teams, localize a tarefa referente a este laboratório e faça o upload do seu notebook. Veja que há uma opção para anexar arquivos à tarefa.\n",
        "5. Não se esqueça de colocar seu **nome** e **matrícula** na célula de texto abaixo."
      ]
    },
    {
      "cell_type": "markdown",
      "metadata": {
        "id": "w4cMFkByzKI7"
      },
      "source": [
        "**Nome**:\n",
        "\n",
        "**Matrícula**:"
      ]
    },
    {
      "cell_type": "markdown",
      "metadata": {
        "id": "nhrSj3mQzKI7"
      },
      "source": [
        "## Exercícios"
      ]
    },
    {
      "cell_type": "markdown",
      "metadata": {
        "id": "U4-FDWWXzKI7"
      },
      "source": [
        "#### 1) Neste exercício, você deve encontrar, usando apenas métodos da classe `DataFrame`, a empresa com o carro mais caro que consta no arquivo `automobile_data.csv`.\n",
        "\n",
        "**DICAS**\n",
        "\n",
        "+ Baixe o arquivo `automobile_data.csv` da tarefa do Teams e faça seu upload para o google colab.\n",
        "+ Para ler o arquivo, use a função `read_csv` da biblioteca Pandas.\n",
        "+ Para criar a sub-tabela (ou seja o **sub-DataFrame**) e encontrar a empresa com carro mais caro, use as colunas `company`  e `price`."
      ]
    },
    {
      "cell_type": "code",
      "execution_count": null,
      "metadata": {
        "id": "SzKQitSJzKI8"
      },
      "outputs": [],
      "source": [
        "# Implemente aqui o código do exercício."
      ]
    },
    {
      "cell_type": "markdown",
      "metadata": {
        "id": "fxwXZGxrzKI8"
      },
      "source": [
        "#### 2) Neste exercício, você deve encontrar, usando apenas métodos da classe `DataFrame`, os valores máximo, mínimo e médio de cavalos de força (`horsepower`) dos carros que constam no arquivo `automobile_data.csv`.\n",
        "\n",
        "**DICAS**\n",
        "\n",
        "+ Baixe o arquivo `automobile_data.csv` da tarefa do Teams e faça seu upload para o google colab (se já foi feito no item anterior, não há a necessidade de se fazer novamente).\n",
        "+ Para ler o arquivo, use a função `read_csv` da biblioteca Pandas.\n",
        "+ Use o método `describe` da classe DataFrame.\n",
        "+ Você deve verificar os valores referentes a coluna `horsepower`."
      ]
    },
    {
      "cell_type": "code",
      "execution_count": null,
      "metadata": {
        "id": "BBhAjkLszKI8"
      },
      "outputs": [],
      "source": [
        "# Implemente aqui o código do exercício."
      ]
    }
  ],
  "metadata": {
    "kernelspec": {
      "display_name": "Python 3",
      "name": "python3"
    },
    "language_info": {
      "codemirror_mode": {
        "name": "ipython",
        "version": 3
      },
      "file_extension": ".py",
      "mimetype": "text/x-python",
      "name": "python",
      "nbconvert_exporter": "python",
      "pygments_lexer": "ipython3",
      "version": "3.10.9"
    },
    "colab": {
      "provenance": [],
      "generative_ai_disabled": true
    }
  },
  "nbformat": 4,
  "nbformat_minor": 0
}