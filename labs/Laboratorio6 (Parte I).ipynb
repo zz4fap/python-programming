{
  "cells": [
    {
      "cell_type": "markdown",
      "metadata": {
        "id": "VPwOIf3KzEPT"
      },
      "source": [
        "# Laboratório #6 (Parte I)\n",
        "\n",
        "### Instruções\n",
        "\n",
        "1. Antes de começar, você deve clicar na opção \"Copiar para o Drive\" na barra superior do Colab. Depois de clicar nela, verifique se você está trabalhando nessa versão do notebook para que seu trabalho seja salvo.\n",
        "2. Para cada um dos exercícios a seguir, faça o seguinte:\n",
        "    * Sempre que possível, adicione comentários ao seu código. Os comentários servem para documentar o código.\n",
        "    * Use **docstrings** explicando sucintamente o que cada função implementada faz.\n",
        "        + **docstrings** são os comentários de múltiplas linhas que aparecem **logo após** o cabeçalho da função.\n",
        "    * Escolha nomes autoexplicativos para suas funções e variáveis.\n",
        "3. Quando você terminar os exercícios do laboratório, vá ao menu do Colab ou Jupyter e selecione a opção para fazer download do notebook.\n",
        "    * Os notebooks tem extensão .ipynb.\n",
        "    * Este deve ser o arquivo que você irá entregar.\n",
        "    * No Colab vá até a opção **File** -> **Download .ipynb**.\n",
        "    * No Jupyter vá até a opção **File** -> **Download as** -> **Notebook (.ipynb)**.\n",
        "4. Após o download do notebook, vá até a aba de tarefas do MS Teams, localize a tarefa referente a este laboratório e faça o upload do seu notebook. Veja que há uma opção para anexar arquivos à tarefa.\n",
        "5. Não se esqueça de colocar seu **nome** e **matrícula** na célula de texto abaixo."
      ]
    },
    {
      "cell_type": "markdown",
      "metadata": {
        "id": "pY6U6vAyzEPU"
      },
      "source": [
        "**Nome**:\n",
        "\n",
        "**Matrícula**:"
      ]
    },
    {
      "cell_type": "markdown",
      "metadata": {
        "id": "cbw0y33KzEPU"
      },
      "source": [
        "## Exercícios"
      ]
    },
    {
      "cell_type": "markdown",
      "metadata": {
        "id": "s3hIlYmGzEPU"
      },
      "source": [
        "#### 1)  Crie uma classe `Livro` que possui os atributos `título`, `qtdPaginas`, `autor` e `preço`. Todos os atributos são públicos exceto o atributo `preço`, que é privado (veja o diagrama UML abaixo).\n",
        "\n",
        "**DICAS**:\n",
        "\n",
        "+ Crie um construtor que receba como parâmetros de entrada valores para configurar os atributos do objeto.\n",
        "+ Devido ao atributo `preço` ser privado, devemos implementar um `getter` e um `setter` para acessá-lo e modificá-lo.\n",
        "    + Crie o método público `getPreço` para obter o preço do livro.\n",
        "    + Crie o método público `setPreço` para configurar um novo preço.\n",
        "+ No diagrama UML, a palavra `str` significa string.\n",
        "+ Veja o diagrama UML da classe abaixo.\n",
        "\n",
        "<img src=\"https://github.com/zz4fap/python-programming/blob/master/figures/classe_livro.png?raw=1\" width=\"400px\">"
      ]
    },
    {
      "cell_type": "code",
      "execution_count": null,
      "metadata": {
        "id": "TSAJwU5gzEPU"
      },
      "outputs": [],
      "source": [
        "# Implemente aqui a classe."
      ]
    },
    {
      "cell_type": "markdown",
      "metadata": {
        "id": "XKpaLDC1zEPV"
      },
      "source": [
        "Teste sua implementação com o trecho de código abaixo."
      ]
    },
    {
      "cell_type": "code",
      "execution_count": null,
      "metadata": {
        "id": "t3k5_DkszEPV",
        "outputId": "d586f75f-a1d4-44ea-e368-36b0aaf2df85"
      },
      "outputs": [
        {
          "ename": "NameError",
          "evalue": "name 'Livro' is not defined",
          "output_type": "error",
          "traceback": [
            "\u001b[1;31m---------------------------------------------------------------------------\u001b[0m",
            "\u001b[1;31mNameError\u001b[0m                                 Traceback (most recent call last)",
            "\u001b[1;32mC:\\Users\\FELIPE~1.FIG\\AppData\\Local\\Temp/ipykernel_10976/1216174698.py\u001b[0m in \u001b[0;36m<module>\u001b[1;34m\u001b[0m\n\u001b[1;32m----> 1\u001b[1;33m \u001b[0mlivro\u001b[0m \u001b[1;33m=\u001b[0m \u001b[0mLivro\u001b[0m\u001b[1;33m(\u001b[0m\u001b[1;34m'O nome da rosa'\u001b[0m\u001b[1;33m,\u001b[0m \u001b[1;36m345\u001b[0m\u001b[1;33m,\u001b[0m \u001b[1;34m'Umberto Eco'\u001b[0m\u001b[1;33m,\u001b[0m \u001b[1;36m50.0\u001b[0m\u001b[1;33m)\u001b[0m\u001b[1;33m\u001b[0m\u001b[1;33m\u001b[0m\u001b[0m\n\u001b[0m\u001b[0;32m      2\u001b[0m \u001b[0mret\u001b[0m \u001b[1;33m=\u001b[0m \u001b[1;36m0\u001b[0m\u001b[1;33m\u001b[0m\u001b[1;33m\u001b[0m\u001b[0m\n\u001b[0;32m      3\u001b[0m \u001b[1;32mif\u001b[0m\u001b[1;33m(\u001b[0m\u001b[0mlivro\u001b[0m\u001b[1;33m.\u001b[0m\u001b[0mtítulo\u001b[0m\u001b[1;33m==\u001b[0m\u001b[1;34m'O nome da rosa'\u001b[0m\u001b[1;33m)\u001b[0m\u001b[1;33m:\u001b[0m\u001b[1;33m\u001b[0m\u001b[1;33m\u001b[0m\u001b[0m\n\u001b[0;32m      4\u001b[0m     \u001b[0mret\u001b[0m \u001b[1;33m+=\u001b[0m \u001b[1;36m1\u001b[0m\u001b[1;33m\u001b[0m\u001b[1;33m\u001b[0m\u001b[0m\n\u001b[0;32m      5\u001b[0m \u001b[1;32mif\u001b[0m\u001b[1;33m(\u001b[0m\u001b[0mlivro\u001b[0m\u001b[1;33m.\u001b[0m\u001b[0mqtdPaginas\u001b[0m\u001b[1;33m==\u001b[0m\u001b[1;36m345\u001b[0m\u001b[1;33m)\u001b[0m\u001b[1;33m:\u001b[0m\u001b[1;33m\u001b[0m\u001b[1;33m\u001b[0m\u001b[0m\n",
            "\u001b[1;31mNameError\u001b[0m: name 'Livro' is not defined"
          ]
        }
      ],
      "source": [
        "livro = Livro('O nome da rosa', 345, 'Umberto Eco', 50.0)\n",
        "ret = 0\n",
        "if(livro.título=='O nome da rosa'):\n",
        "    ret += 1\n",
        "if(livro.qtdPaginas==345):\n",
        "    ret += 1\n",
        "if(livro.autor=='Umberto Eco'):\n",
        "    ret += 1\n",
        "livro.__preço = 10.0\n",
        "if(livro.__preço != livro.getPreço()):\n",
        "    ret += 1\n",
        "if(livro.getPreço()==50.0):\n",
        "    ret += 1\n",
        "livro.setPreço(45.30)\n",
        "if(livro.getPreço()==45.30):\n",
        "    ret += 1\n",
        "if(ret==6):\n",
        "    print('Sua implementação está correta.')\n",
        "else:\n",
        "    print('Sua implementação NÃO está correta.')"
      ]
    },
    {
      "cell_type": "markdown",
      "metadata": {
        "id": "tengbwINzEPV"
      },
      "source": [
        "#### 2)  Implemente a classe `Funcionário` mostrada no diagrama UML abaixo.\n",
        "\n",
        "<img src=\"https://github.com/zz4fap/python-programming/blob/master/figures/classe_funcionario.png?raw=1\" width=\"400px\">\n",
        "\n",
        "**DICAS**:\n",
        "\n",
        "+ Um funcionário possui 2 atributos públicos: `nome` e `salário`.\n",
        "+ Crie um construtor que receba dois parâmetros (`nome` e `salário`).\n",
        "+ Crie um método público chamado `aumentarSalário` que aumente o salário do funcionário em uma certa porcentagem definida pelo parâmetro `percentualDeAumento`. Note que o parâmetro `percentualDeAumento` é uma **porcentagem**. Por exemplo:\n",
        "```python\n",
        "salário = salário*(1 + percentualDeAumento/100)\n",
        "```\n",
        "+ Além disso, crie um método público chamado `info` que retorne uma **string** com os atributos do funcionário, i.e., `nome` e `salário`, da seguinte forma: `Nome: Larry - Salário: 2750.0`.\n",
        "+ No diagrama UML, a palavra `str` significa string."
      ]
    },
    {
      "cell_type": "code",
      "execution_count": null,
      "metadata": {
        "id": "Ey4zs_8ezEPW"
      },
      "outputs": [],
      "source": [
        "# Implemente aqui a classe."
      ]
    },
    {
      "cell_type": "markdown",
      "metadata": {
        "id": "890DzSDZzEPW"
      },
      "source": [
        "Teste sua implementação com o trecho de código abaixo."
      ]
    },
    {
      "cell_type": "code",
      "execution_count": null,
      "metadata": {
        "id": "vFa0vwYpzEPW"
      },
      "outputs": [],
      "source": [
        "harry = Funcionário('Harry', 2500)\n",
        "ret = 0\n",
        "if(harry.salário==2500):\n",
        "    ret += 1\n",
        "harry.aumentarSalário(10)\n",
        "if(harry.salário==2750):\n",
        "    ret += 1\n",
        "if(harry.info()=='Nome: Harry - Salário: 2750.0'):\n",
        "    ret += 1\n",
        "if(ret==3):\n",
        "    print('Sua implementação está correta.')\n",
        "else:\n",
        "    print('Sua implementação NÃO está correta.')"
      ]
    },
    {
      "cell_type": "markdown",
      "metadata": {
        "id": "JUWA4z7rzEPW"
      },
      "source": [
        "#### 3)  Implemente a classe mostrada no diagrama UML abaixo. Siga exatamente a especificação mostrada no diagrama, ou seja, os nomes dos atributos, nomes dos métodos, número de parâmetros dos métodos, encapsulamentos dos membros da classe, etc.\n",
        "\n",
        "<img src=\"https://github.com/zz4fap/python-programming/blob/master/figures/lab6_ex3.png?raw=1\" width=\"500px\">\n",
        "\n",
        "**DICAS**:\n",
        "\n",
        "+ Os métodos `getMarca()`, `getModelo()`, `getPlaca()` e `getCor()` devem retornar os valores de seus respectivos atributos.\n",
        "+ Os métodos `injetarCombustível()` e `acionarPastilhaDeFreio()` não devem retornar nada, mas você **DEVE** adicionar um `print` que imprima o nome do método.\n",
        "+ No diagrama UML, a palavra `str` significa string."
      ]
    },
    {
      "cell_type": "code",
      "execution_count": null,
      "metadata": {
        "id": "43QsaHI2zEPW"
      },
      "outputs": [],
      "source": [
        "# Implemente aqui a classe."
      ]
    },
    {
      "cell_type": "markdown",
      "metadata": {
        "id": "dDcJRpa5zEPW"
      },
      "source": [
        "Teste sua implementação com o trecho de código abaixo."
      ]
    },
    {
      "cell_type": "code",
      "execution_count": null,
      "metadata": {
        "id": "VfRLqKTqzEPW"
      },
      "outputs": [],
      "source": [
        "carro = Carro('VW', 'fusca', 'preto', 'FGT-3056', 100000)\n",
        "ret = 0\n",
        "if(carro.getMarca()=='VW'):\n",
        "    ret += 1\n",
        "if(carro.getModelo()=='fusca'):\n",
        "    ret += 1\n",
        "if(carro.getPlaca()=='FGT-3056'):\n",
        "    ret += 1\n",
        "if(carro.getCor()=='preto'):\n",
        "    ret += 1\n",
        "if(carro.kilometragem==100000):\n",
        "    ret += 1\n",
        "if(carro._cor=='preto'):\n",
        "    ret += 1\n",
        "try:\n",
        "    carro.__marca\n",
        "except AttributeError:\n",
        "    ret += 1\n",
        "try:\n",
        "    carro.__modelo\n",
        "except AttributeError:\n",
        "    ret += 1\n",
        "try:\n",
        "    carro.__placa\n",
        "except AttributeError:\n",
        "    ret += 1\n",
        "if(carro._injetarCombustível()==None):\n",
        "    ret += 1\n",
        "try:\n",
        "    carro.__acionarPastilhaDeFreio()\n",
        "except AttributeError:\n",
        "    ret += 1\n",
        "if(ret==11):\n",
        "    print('Sua implementação está correta.')\n",
        "else:\n",
        "    print('Sua implementação NÃO está correta.')"
      ]
    }
  ],
  "metadata": {
    "kernelspec": {
      "display_name": "Python 3",
      "name": "python3"
    },
    "language_info": {
      "codemirror_mode": {
        "name": "ipython",
        "version": 3
      },
      "file_extension": ".py",
      "mimetype": "text/x-python",
      "name": "python",
      "nbconvert_exporter": "python",
      "pygments_lexer": "ipython3",
      "version": "3.10.9"
    },
    "colab": {
      "provenance": [],
      "generative_ai_disabled": true
    }
  },
  "nbformat": 4,
  "nbformat_minor": 0
}