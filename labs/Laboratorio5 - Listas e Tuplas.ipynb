{
  "cells": [
    {
      "cell_type": "markdown",
      "metadata": {
        "id": "biSD3ECX87rt"
      },
      "source": [
        "# Laboratório #5 - Listas e Tuplas\n",
        "\n",
        "### Instruções\n",
        "\n",
        "1. Antes de começar, você deve clicar na opção \"Copiar para o Drive\" na barra superior do Colab. Depois de clicar nela, verifique se você está trabalhando nessa versão do notebook para que seu trabalho seja salvo.\n",
        "2. Para cada um dos exercícios a seguir, faça o seguinte:\n",
        "    * Sempre que possível, adicione comentários ao seu código. Os comentários servem para documentar o código.\n",
        "    * Use **docstrings** explicando sucintamente o que cada função implementada faz.\n",
        "        + **docstrings** são os comentários de múltiplas linhas que aparecem **logo após** o cabeçalho da função.\n",
        "    * Escolha nomes autoexplicativos para suas funções e variáveis.\n",
        "3. Quando você terminar os exercícios do laboratório, vá ao menu do Colab ou Jupyter e selecione a opção para fazer download do notebook.\n",
        "    * Os notebooks tem extensão .ipynb.\n",
        "    * Este deve ser o arquivo que você irá entregar.\n",
        "    * No Colab vá até a opção **File** -> **Download .ipynb**.\n",
        "    * No Jupyter vá até a opção **File** -> **Download as** -> **Notebook (.ipynb)**.\n",
        "4. Após o download do notebook, vá até a aba de tarefas do MS Teams, localize a tarefa referente a este laboratório e faça o upload do seu notebook. Veja que há uma opção para anexar arquivos à tarefa.\n",
        "5. Não se esqueça de colocar seu **nome** e **matrícula** na célula de texto abaixo."
      ]
    },
    {
      "cell_type": "markdown",
      "metadata": {
        "id": "RxUuZDPP87rv"
      },
      "source": [
        "**Nome**:\n",
        "\n",
        "**Matrícula**:"
      ]
    },
    {
      "cell_type": "markdown",
      "metadata": {
        "id": "W3ETvZ3V87rw"
      },
      "source": [
        "## Exercícios"
      ]
    },
    {
      "cell_type": "markdown",
      "metadata": {
        "id": "SEtUfS7b87rw"
      },
      "source": [
        "### Listas\n",
        "\n",
        "#### 1)  Escreva uma função chamada `inserirSeNovo`, que recebe como parâmetros de entrada uma string e uma lista. A função deve inserir a string ao final da lista caso ela não esteja presente nela e retornar a posição (ou seja, o índice) em que a string ocorre na lista.\n",
        "\n",
        "**DICA**:\n",
        "\n",
        "+ Você precisa utilizar um dos operadores de associação (`in`ou `not in`) e o método `index` da classe `list`."
      ]
    },
    {
      "cell_type": "code",
      "execution_count": null,
      "metadata": {
        "id": "nG_zhQJF87rw"
      },
      "outputs": [],
      "source": [
        "# Implemente o código do exercício aqui."
      ]
    },
    {
      "cell_type": "markdown",
      "metadata": {
        "id": "C9w-uBnC87rx"
      },
      "source": [
        "Teste a função com o trecho de código abaixo."
      ]
    },
    {
      "cell_type": "code",
      "execution_count": null,
      "metadata": {
        "id": "oQ57BMRn87rx",
        "outputId": "a4a3ade4-8696-4718-95f8-87dc6c36783b"
      },
      "outputs": [
        {
          "ename": "NameError",
          "evalue": "name 'inserirSeNovo' is not defined",
          "output_type": "error",
          "traceback": [
            "\u001b[1;31m---------------------------------------------------------------------------\u001b[0m",
            "\u001b[1;31mNameError\u001b[0m                                 Traceback (most recent call last)",
            "\u001b[1;32m<ipython-input-2-7a6f2e270c5c>\u001b[0m in \u001b[0;36m<module>\u001b[1;34m\u001b[0m\n\u001b[0;32m      1\u001b[0m \u001b[0mlista\u001b[0m \u001b[1;33m=\u001b[0m \u001b[1;33m[\u001b[0m\u001b[1;34m\"Ronaldo\"\u001b[0m\u001b[1;33m,\u001b[0m \u001b[1;34m\"Romário\"\u001b[0m\u001b[1;33m,\u001b[0m \u001b[1;34m\"Rivelino\"\u001b[0m\u001b[1;33m]\u001b[0m\u001b[1;33m\u001b[0m\u001b[1;33m\u001b[0m\u001b[0m\n\u001b[0;32m      2\u001b[0m \u001b[1;33m\u001b[0m\u001b[0m\n\u001b[1;32m----> 3\u001b[1;33m \u001b[0mpos\u001b[0m \u001b[1;33m=\u001b[0m \u001b[0minserirSeNovo\u001b[0m\u001b[1;33m(\u001b[0m\u001b[1;34m\"Romário\"\u001b[0m\u001b[1;33m,\u001b[0m \u001b[0mlista\u001b[0m\u001b[1;33m)\u001b[0m\u001b[1;33m\u001b[0m\u001b[1;33m\u001b[0m\u001b[0m\n\u001b[0m\u001b[0;32m      4\u001b[0m \u001b[0mprint\u001b[0m\u001b[1;33m(\u001b[0m\u001b[1;34m'Romário está na posição:'\u001b[0m\u001b[1;33m,\u001b[0m \u001b[0mpos\u001b[0m\u001b[1;33m)\u001b[0m\u001b[1;33m\u001b[0m\u001b[1;33m\u001b[0m\u001b[0m\n\u001b[0;32m      5\u001b[0m \u001b[1;33m\u001b[0m\u001b[0m\n",
            "\u001b[1;31mNameError\u001b[0m: name 'inserirSeNovo' is not defined"
          ]
        }
      ],
      "source": [
        "lista = [\"Ronaldo\", \"Romário\", \"Rivelino\"]\n",
        "\n",
        "pos = inserirSeNovo(\"Romário\", lista)\n",
        "print('Romário está na posição:', pos)\n",
        "\n",
        "pos = inserirSeNovo(\"Pelé\", lista)\n",
        "print('Pelé está na posição:', pos)\n",
        "\n",
        "pos = inserirSeNovo(\"Rivelino\", lista)\n",
        "print('Rivelino está na posição:', pos)\n",
        "\n",
        "print('A sequência da lista', lista, \"deve ser: Ronaldo, Romário, Rivelino, Pelé\")\n",
        "\n",
        "if(lista==['Ronaldo', 'Romário', 'Rivelino', 'Pelé']):\n",
        "    print('\\nSua implementação está correta.')\n",
        "else:\n",
        "    print('\\nSua implementação NÃO está correta.')"
      ]
    },
    {
      "cell_type": "markdown",
      "metadata": {
        "id": "ngcIc_Y887ry"
      },
      "source": [
        "#### 2) Escreva uma função chamada `removerSeExistente`, que recebe como parâmetros de entrada um elemento (que pode ser de qualquer tipo) e uma lista. A função deve remover o elemento da lista caso ele esteja presente nela e retornar a posição em que o elemento estava. Caso ele não esteja presente na lista, a função deve retornar a string `'Elemento não se encontra na lista.'` informando que o elemento não se encontrava na lista.\n",
        "\n",
        "**DICAS**:\n",
        "\n",
        "+ Você precisa utilizar um dos operadores de associação (`in` ou `not in`) e os métodos `index` e `remove` da classe `list`.\n",
        "+ A função **retorna** uma string caso o elemento não esteja na lista."
      ]
    },
    {
      "cell_type": "code",
      "execution_count": null,
      "metadata": {
        "id": "rP-6gO6i87ry"
      },
      "outputs": [],
      "source": [
        "# Implemente o código do exercício aqui."
      ]
    },
    {
      "cell_type": "markdown",
      "metadata": {
        "id": "GUKsmzCw87ry"
      },
      "source": [
        "Teste a função com o seguinte trecho de código."
      ]
    },
    {
      "cell_type": "code",
      "execution_count": null,
      "metadata": {
        "id": "ixCOLrtI87ry",
        "outputId": "1d1346b3-7952-440c-f48c-02f25f486991"
      },
      "outputs": [
        {
          "ename": "NameError",
          "evalue": "name 'removerSeExistente' is not defined",
          "output_type": "error",
          "traceback": [
            "\u001b[1;31m---------------------------------------------------------------------------\u001b[0m",
            "\u001b[1;31mNameError\u001b[0m                                 Traceback (most recent call last)",
            "Cell \u001b[1;32mIn[1], line 3\u001b[0m\n\u001b[0;32m      1\u001b[0m lista \u001b[38;5;241m=\u001b[39m [\u001b[38;5;124m'\u001b[39m\u001b[38;5;124mcasa\u001b[39m\u001b[38;5;124m'\u001b[39m, \u001b[38;5;28;01mTrue\u001b[39;00m, \u001b[38;5;241m1.234\u001b[39m, \u001b[38;5;241m23\u001b[39m]\n\u001b[1;32m----> 3\u001b[0m pos \u001b[38;5;241m=\u001b[39m \u001b[43mremoverSeExistente\u001b[49m(\u001b[38;5;28;01mTrue\u001b[39;00m, lista)\n\u001b[0;32m      4\u001b[0m \u001b[38;5;28mprint\u001b[39m(\u001b[38;5;124m'\u001b[39m\u001b[38;5;124mPosição em que elemento estava:\u001b[39m\u001b[38;5;124m'\u001b[39m, pos)\n\u001b[0;32m      6\u001b[0m pos \u001b[38;5;241m=\u001b[39m removerSeExistente(\u001b[38;5;241m33\u001b[39m, lista)\n",
            "\u001b[1;31mNameError\u001b[0m: name 'removerSeExistente' is not defined"
          ]
        }
      ],
      "source": [
        "lista = ['casa', True, 1.234, 23]\n",
        "\n",
        "pos = removerSeExistente(True, lista)\n",
        "print('Posição em que elemento estava:', pos)\n",
        "\n",
        "pos = removerSeExistente(33, lista)\n",
        "print('Posição em que elemento estava:', pos)\n",
        "\n",
        "print('Conteúdo da lista após remoção:', lista)\n",
        "\n",
        "if(lista==['casa', 1.234, 23]):\n",
        "    print('\\nSua implementação está correta.')\n",
        "else:\n",
        "    print('\\nSua implementação NÃO está correta.')"
      ]
    },
    {
      "cell_type": "markdown",
      "metadata": {
        "id": "ypVOmjRE87rz"
      },
      "source": [
        "#### 3)  Escreva uma função chamada `temperaturaAnual` que recebe 2 listas, uma com a temperatura média de cada mês do ano e outra com os nomes dos meses. A função deve calcular a média anual das temperaturas, imprimir todas as temperaturas acima da média anual e em que mês elas ocorreram. A tabela abaixo apresenta os valores que devem ser usados para testar a função.\n",
        "\n",
        "|    Mês    | Média (°C) |\n",
        "|:---------:|:----------:|\n",
        "|  Janeiro  |     28     |\n",
        "| Fevereiro |     27     |\n",
        "|   Março   |     25     |\n",
        "|   Abril   |     20     |\n",
        "|    Maio   |     18     |\n",
        "|   Junho   |     15     |\n",
        "|   Julho   |     15     |\n",
        "|   Agosto  |     20     |\n",
        "|  Setembro |     20     |\n",
        "|  Outubro  |     25     |\n",
        "|  Novembro |     27     |\n",
        "|  Dezembro |     29     |\n",
        "\n",
        "**DICAS**\n",
        "\n",
        "+ A função não retorna nada, apenas imprime todas as temperaturas acima da média anual e em que mês elas ocorreram.\n",
        "+ As duas listas já estão criadas na célula de teste, portanto, não é necessário que você as crie."
      ]
    },
    {
      "cell_type": "code",
      "execution_count": null,
      "metadata": {
        "id": "peEDxss987rz"
      },
      "outputs": [],
      "source": [
        "# Implemente o código do exercício aqui."
      ]
    },
    {
      "cell_type": "markdown",
      "metadata": {
        "id": "bcCvvfWt87rz"
      },
      "source": [
        "Teste a função com o seguinte trecho de código."
      ]
    },
    {
      "cell_type": "code",
      "execution_count": null,
      "metadata": {
        "id": "p9Dwez6p87rz",
        "outputId": "7400b760-c9b9-4e94-958b-31e2041cc1b2"
      },
      "outputs": [
        {
          "ename": "NameError",
          "evalue": "name 'temperaturaAnual' is not defined",
          "output_type": "error",
          "traceback": [
            "\u001b[1;31m---------------------------------------------------------------------------\u001b[0m",
            "\u001b[1;31mNameError\u001b[0m                                 Traceback (most recent call last)",
            "\u001b[1;32m<ipython-input-6-32ed4051196d>\u001b[0m in \u001b[0;36m<module>\u001b[1;34m\u001b[0m\n\u001b[0;32m      3\u001b[0m \u001b[0mtemp\u001b[0m \u001b[1;33m=\u001b[0m \u001b[1;33m[\u001b[0m\u001b[1;36m28\u001b[0m\u001b[1;33m,\u001b[0m\u001b[1;36m27\u001b[0m\u001b[1;33m,\u001b[0m\u001b[1;36m25\u001b[0m\u001b[1;33m,\u001b[0m\u001b[1;36m20\u001b[0m\u001b[1;33m,\u001b[0m\u001b[1;36m18\u001b[0m\u001b[1;33m,\u001b[0m\u001b[1;36m15\u001b[0m\u001b[1;33m,\u001b[0m\u001b[1;36m15\u001b[0m\u001b[1;33m,\u001b[0m\u001b[1;36m20\u001b[0m\u001b[1;33m,\u001b[0m\u001b[1;36m20\u001b[0m\u001b[1;33m,\u001b[0m\u001b[1;36m25\u001b[0m\u001b[1;33m,\u001b[0m\u001b[1;36m27\u001b[0m\u001b[1;33m,\u001b[0m\u001b[1;36m29\u001b[0m\u001b[1;33m]\u001b[0m\u001b[1;33m\u001b[0m\u001b[1;33m\u001b[0m\u001b[0m\n\u001b[0;32m      4\u001b[0m \u001b[1;33m\u001b[0m\u001b[0m\n\u001b[1;32m----> 5\u001b[1;33m \u001b[0mtemperaturaAnual\u001b[0m\u001b[1;33m(\u001b[0m\u001b[0mmeses\u001b[0m\u001b[1;33m,\u001b[0m \u001b[0mtemp\u001b[0m\u001b[1;33m)\u001b[0m\u001b[1;33m\u001b[0m\u001b[1;33m\u001b[0m\u001b[0m\n\u001b[0m",
            "\u001b[1;31mNameError\u001b[0m: name 'temperaturaAnual' is not defined"
          ]
        }
      ],
      "source": [
        "meses = ['Janeiro', 'Fevereiro', 'Março', 'Abril', 'Maio', 'Junho', 'Julho', 'Agosto', 'Setembro', 'Outubro', 'Novembro', 'Dezembro']\n",
        "\n",
        "temp = [28,27,25,20,18,15,15,20,20,25,27,29]\n",
        "\n",
        "temperaturaAnual(meses, temp)"
      ]
    },
    {
      "cell_type": "markdown",
      "metadata": {
        "id": "jzuiQKyG87rz"
      },
      "source": [
        "### Tuplas"
      ]
    },
    {
      "cell_type": "markdown",
      "metadata": {
        "id": "DYK-zZd787rz"
      },
      "source": [
        "#### 4) Implemente uma função chamada `médiaDasTuplas`  que calcule o valor médio dos elementos de cada uma das tuplas em uma tupla mais externa, ou seja, temos um caso de tuplas aninhadas. A função deve retornar uma lista onde cada elemento é a média de cada uma das tuplas aninhadas.\n",
        "\n",
        "**Exemplo**:\n",
        "\n",
        "```python\n",
        "tupla = ((10, 10, 12), (30, 45, 56, 45), (81, 80, 39, 32), (1, 2, 3, 4))\n",
        "ret = médiaDasTuplas(nums)\n",
        "print(ret)\n",
        "[10.666666666666666, 44.0, 58.0, 2.5]\n",
        "```\n",
        "\n",
        "**DICAS**:\n",
        "\n",
        "1. Cada uma das tuplas aninhadas é um elemento da tupla mais externa, ou seja, usando os índices da tupla externa, você consegue ter acesso a cada uma das tuplas aninhadas. Por exemplo\n",
        "\n",
        "```python\n",
        "tupla = ((10, 10, 12), (30, 45, 56, 45), (81, 80, 39, 32), (1, 2, 3, 4))\n",
        "a = tupla[0]\n",
        "print(a)\n",
        "(10, 10, 12)\n",
        "```\n",
        "2. Use as funções embutidas `sum` e `len` para calcular a média dos elementos de uma tupla. Veja o exemplo abaixo\n",
        "\n",
        "```python\n",
        "a  = (1,2,3)\n",
        "b = sum(a)/len(a)\n",
        "print(b)\n",
        "2.0\n",
        "```"
      ]
    },
    {
      "cell_type": "code",
      "execution_count": null,
      "metadata": {
        "id": "nfXpg89887rz"
      },
      "outputs": [],
      "source": [
        "# Implemente o código do exercício aqui."
      ]
    },
    {
      "cell_type": "markdown",
      "metadata": {
        "id": "Nw4hqDLm87rz"
      },
      "source": [
        "Teste a função com o seguinte trecho de código."
      ]
    },
    {
      "cell_type": "code",
      "execution_count": null,
      "metadata": {
        "id": "b4WT5YOl87rz",
        "outputId": "0f23db50-9b89-469e-b8d4-457ab55e05b8"
      },
      "outputs": [
        {
          "ename": "NameError",
          "evalue": "name 'médiaDasTuplas' is not defined",
          "output_type": "error",
          "traceback": [
            "\u001b[1;31m---------------------------------------------------------------------------\u001b[0m",
            "\u001b[1;31mNameError\u001b[0m                                 Traceback (most recent call last)",
            "\u001b[1;32m<ipython-input-8-7e64787fc3b4>\u001b[0m in \u001b[0;36m<module>\u001b[1;34m\u001b[0m\n\u001b[0;32m      1\u001b[0m \u001b[0mnums\u001b[0m \u001b[1;33m=\u001b[0m \u001b[1;33m(\u001b[0m\u001b[1;33m(\u001b[0m\u001b[1;36m10\u001b[0m\u001b[1;33m,\u001b[0m \u001b[1;36m10\u001b[0m\u001b[1;33m,\u001b[0m \u001b[1;36m12\u001b[0m\u001b[1;33m)\u001b[0m\u001b[1;33m,\u001b[0m \u001b[1;33m(\u001b[0m\u001b[1;36m30\u001b[0m\u001b[1;33m,\u001b[0m \u001b[1;36m45\u001b[0m\u001b[1;33m,\u001b[0m \u001b[1;36m56\u001b[0m\u001b[1;33m,\u001b[0m \u001b[1;36m45\u001b[0m\u001b[1;33m)\u001b[0m\u001b[1;33m,\u001b[0m \u001b[1;33m(\u001b[0m\u001b[1;36m81\u001b[0m\u001b[1;33m,\u001b[0m \u001b[1;36m80\u001b[0m\u001b[1;33m,\u001b[0m \u001b[1;36m39\u001b[0m\u001b[1;33m,\u001b[0m \u001b[1;36m32\u001b[0m\u001b[1;33m)\u001b[0m\u001b[1;33m,\u001b[0m \u001b[1;33m(\u001b[0m\u001b[1;36m1\u001b[0m\u001b[1;33m,\u001b[0m \u001b[1;36m2\u001b[0m\u001b[1;33m,\u001b[0m \u001b[1;36m3\u001b[0m\u001b[1;33m,\u001b[0m \u001b[1;36m4\u001b[0m\u001b[1;33m)\u001b[0m\u001b[1;33m)\u001b[0m\u001b[1;33m\u001b[0m\u001b[1;33m\u001b[0m\u001b[0m\n\u001b[1;32m----> 2\u001b[1;33m \u001b[0mprint\u001b[0m\u001b[1;33m(\u001b[0m\u001b[1;34m'Retorno:'\u001b[0m\u001b[1;33m,\u001b[0m \u001b[0mmédiaDasTuplas\u001b[0m\u001b[1;33m(\u001b[0m\u001b[0mnums\u001b[0m\u001b[1;33m)\u001b[0m\u001b[1;33m,\u001b[0m \u001b[1;34m' - Resultado correto?'\u001b[0m\u001b[1;33m,\u001b[0m \u001b[0mmédiaDasTuplas\u001b[0m\u001b[1;33m(\u001b[0m\u001b[0mnums\u001b[0m\u001b[1;33m)\u001b[0m\u001b[1;33m==\u001b[0m\u001b[1;33m[\u001b[0m\u001b[1;36m10.666666666666666\u001b[0m\u001b[1;33m,\u001b[0m \u001b[1;36m44.0\u001b[0m\u001b[1;33m,\u001b[0m \u001b[1;36m58.0\u001b[0m\u001b[1;33m,\u001b[0m \u001b[1;36m2.5\u001b[0m\u001b[1;33m]\u001b[0m\u001b[1;33m)\u001b[0m\u001b[1;33m\u001b[0m\u001b[1;33m\u001b[0m\u001b[0m\n\u001b[0m\u001b[0;32m      3\u001b[0m \u001b[1;33m\u001b[0m\u001b[0m\n\u001b[0;32m      4\u001b[0m \u001b[0mnums\u001b[0m \u001b[1;33m=\u001b[0m \u001b[1;33m(\u001b[0m\u001b[1;33m(\u001b[0m\u001b[1;36m1\u001b[0m\u001b[1;33m,\u001b[0m \u001b[1;36m1\u001b[0m\u001b[1;33m,\u001b[0m \u001b[1;33m-\u001b[0m\u001b[1;36m5\u001b[0m\u001b[1;33m)\u001b[0m\u001b[1;33m,\u001b[0m \u001b[1;33m(\u001b[0m\u001b[1;36m24\u001b[0m\u001b[1;33m,\u001b[0m \u001b[1;33m-\u001b[0m\u001b[1;36m12\u001b[0m\u001b[1;33m,\u001b[0m \u001b[1;36m48\u001b[0m\u001b[1;33m)\u001b[0m\u001b[1;33m,\u001b[0m \u001b[1;33m(\u001b[0m\u001b[1;36m81\u001b[0m\u001b[1;33m,\u001b[0m \u001b[1;33m-\u001b[0m\u001b[1;36m60\u001b[0m\u001b[1;33m,\u001b[0m \u001b[1;33m-\u001b[0m\u001b[1;36m39\u001b[0m\u001b[1;33m)\u001b[0m\u001b[1;33m,\u001b[0m \u001b[1;33m(\u001b[0m\u001b[1;33m-\u001b[0m\u001b[1;36m10\u001b[0m\u001b[1;33m,\u001b[0m \u001b[1;36m2\u001b[0m\u001b[1;33m,\u001b[0m \u001b[1;36m3\u001b[0m\u001b[1;33m)\u001b[0m\u001b[1;33m)\u001b[0m\u001b[1;33m\u001b[0m\u001b[1;33m\u001b[0m\u001b[0m\n\u001b[0;32m      5\u001b[0m \u001b[0mprint\u001b[0m\u001b[1;33m(\u001b[0m\u001b[1;34m'Retorno:'\u001b[0m\u001b[1;33m,\u001b[0m \u001b[0mmédiaDasTuplas\u001b[0m\u001b[1;33m(\u001b[0m\u001b[0mnums\u001b[0m\u001b[1;33m)\u001b[0m\u001b[1;33m,\u001b[0m \u001b[1;34m' - Resultado correto?'\u001b[0m\u001b[1;33m,\u001b[0m \u001b[0mmédiaDasTuplas\u001b[0m\u001b[1;33m(\u001b[0m\u001b[0mnums\u001b[0m\u001b[1;33m)\u001b[0m\u001b[1;33m==\u001b[0m\u001b[1;33m[\u001b[0m\u001b[1;33m-\u001b[0m\u001b[1;36m1.0\u001b[0m\u001b[1;33m,\u001b[0m \u001b[1;36m20.0\u001b[0m\u001b[1;33m,\u001b[0m \u001b[1;33m-\u001b[0m\u001b[1;36m6.0\u001b[0m\u001b[1;33m,\u001b[0m \u001b[1;33m-\u001b[0m\u001b[1;36m1.6666666666666667\u001b[0m\u001b[1;33m]\u001b[0m \u001b[1;33m)\u001b[0m\u001b[1;33m\u001b[0m\u001b[1;33m\u001b[0m\u001b[0m\n",
            "\u001b[1;31mNameError\u001b[0m: name 'médiaDasTuplas' is not defined"
          ]
        }
      ],
      "source": [
        "nums = ((10, 10, 12), (30, 45, 56, 45), (81, 80, 39, 32), (1, 2, 3, 4))\n",
        "print('Retorno:', médiaDasTuplas(nums), ' - Resultado correto?', médiaDasTuplas(nums)==[10.666666666666666, 44.0, 58.0, 2.5])\n",
        "\n",
        "nums = ((1, 1, -5), (24, -12, 48), (81, -60, -39), (-10, 2, 3))\n",
        "print('Retorno:', médiaDasTuplas(nums), ' - Resultado correto?', médiaDasTuplas(nums)==[-1.0, 20.0, -6.0, -1.6666666666666667] )"
      ]
    }
  ],
  "metadata": {
    "kernelspec": {
      "display_name": "Python 3",
      "name": "python3"
    },
    "language_info": {
      "codemirror_mode": {
        "name": "ipython",
        "version": 3
      },
      "file_extension": ".py",
      "mimetype": "text/x-python",
      "name": "python",
      "nbconvert_exporter": "python",
      "pygments_lexer": "ipython3",
      "version": "3.10.9"
    },
    "colab": {
      "provenance": [],
      "generative_ai_disabled": true
    }
  },
  "nbformat": 4,
  "nbformat_minor": 0
}