{
  "cells": [
    {
      "cell_type": "markdown",
      "metadata": {
        "id": "ub6paG4gzI1X"
      },
      "source": [
        "# Laboratório #7 - Matplotlib\n",
        "\n",
        "### Instruções\n",
        "\n",
        "1. Antes de começar, você deve clicar na opção \"Copiar para o Drive\" na barra superior do Colab. Depois de clicar nela, verifique se você está trabalhando nessa versão do notebook para que seu trabalho seja salvo.\n",
        "2. Para cada um dos exercícios a seguir, faça o seguinte:\n",
        "    * Sempre que possível, adicione comentários ao seu código. Os comentários servem para documentar o código.\n",
        "    * Use **docstrings** explicando sucintamente o que cada função implementada faz.\n",
        "        + **docstrings** são os comentários de múltiplas linhas que aparecem **logo após** o cabeçalho da função.\n",
        "    * Escolha nomes autoexplicativos para suas funções e variáveis.\n",
        "3. Quando você terminar os exercícios do laboratório, vá ao menu do Colab ou Jupyter e selecione a opção para fazer download do notebook.\n",
        "    * Os notebooks tem extensão .ipynb.\n",
        "    * Este deve ser o arquivo que você irá entregar.\n",
        "    * No Colab vá até a opção **File** -> **Download .ipynb**.\n",
        "    * No Jupyter vá até a opção **File** -> **Download as** -> **Notebook (.ipynb)**.\n",
        "4. Após o download do notebook, vá até a aba de tarefas do MS Teams, localize a tarefa referente a este laboratório e faça o upload do seu notebook. Veja que há uma opção para anexar arquivos à tarefa.\n",
        "5. Não se esqueça de colocar seu **nome** e **matrícula** na célula de texto abaixo."
      ]
    },
    {
      "cell_type": "markdown",
      "metadata": {
        "id": "LLdia-qMzI1Z"
      },
      "source": [
        "**Nome**:\n",
        "\n",
        "**Matrícula**:"
      ]
    },
    {
      "cell_type": "markdown",
      "metadata": {
        "id": "Hwj9OV_EzI1Z"
      },
      "source": [
        "## Exercícios"
      ]
    },
    {
      "cell_type": "markdown",
      "metadata": {
        "id": "IGY0xUV5zI1Z"
      },
      "source": [
        "#### 1)  Crie uma array numpy chamada de `x` com valores no intervalo `[0, 5)` e passos de `0.2`, e, em seguida, plote as seguintes funções\n",
        "\n",
        "1. $f(x) = x$, use o seguinte formato de linha para plotar esta função: **traços vermelhos**.\n",
        "2. $g(x) = x^2$, use o seguinte formato de linha para plotar esta função: **quadrados azuis**.\n",
        "3. $h(x) = x^3$, use o seguinte formato de linha para plotar esta função: **triângulos verdes**.\n",
        "\n",
        "Crie um gráfico com todas as linhas em um único gráfico. Coloque um título e os nomes dos eixos na figura, habilite o grid e inclua uma legenda para cada uma das funções e salve a figure em arquivo.\n",
        "\n",
        "**DICAS**\n",
        "\n",
        "+ Use a função `arange` da biblioteca NumPy para gerar os valores no intervalo definido."
      ]
    },
    {
      "cell_type": "code",
      "execution_count": null,
      "metadata": {
        "id": "eI2P7tapzI1a"
      },
      "outputs": [],
      "source": [
        "# Implemente aqui o código do exercício."
      ]
    },
    {
      "cell_type": "markdown",
      "metadata": {
        "id": "x0ze6N1PzI1a"
      },
      "source": [
        "#### 2)  Plote um gráfico exatamente como o mostrado na figura abaixo.\n",
        "\n",
        "<img src=\"https://github.com/zz4fap/python-programming/blob/master/figures/lab8_ex2.png?raw=1\">\n",
        "\n",
        "**DICAS**:\n",
        "\n",
        "+ A função mostrada na figura é $y = x^2$.\n",
        "+ Use 100 pontos (ou valores).\n",
        "+ O gráfico deve ter 5 polegadas de largura e 4 polegadas de altura. O tamanho da figura é configurado com o parâmetro `figsize` sendo passado para a função `figure` da biblioteca Matplotlib.\n",
        "+ Salve seu gráfico em uma arquivo com extensão `png`.\n",
        "+ Use a função `linspace` da biblioteca NumPy para gerar os valores no intervalo mostrado.\n",
        "+ Use **indexação com filtragem condicional** para seprar os pontos em dois intervalos distintos e conseguir plotá-los com cores diferentes."
      ]
    },
    {
      "cell_type": "code",
      "execution_count": null,
      "metadata": {
        "id": "jOUPlIBezI1b"
      },
      "outputs": [],
      "source": [
        "# Implemente aqui o código do exercício."
      ]
    },
    {
      "cell_type": "markdown",
      "metadata": {
        "id": "-6esAz6-zI1b"
      },
      "source": [
        "#### 3) Neste exercício, você irá plotar histogramas a partir de um vetor com 100.000 valores retirados de uma distribuição uniforme. Assim, usando subplots, plote um histograma não-normalizado das amostras, um normalizado (i.e., aproximação da PDF) e outro com a aproximação da CDF.\n",
        "\n",
        "**DICAS**:\n",
        "\n",
        "+ Use a função `random.rand` da biblioteca NumPy para gerar os valores aleatórios.\n",
        "+ Use a função `subplot` da biblioteca Matplotlib para criar as três subfiguras.\n",
        "+ Use um número de bins da função `hist` igual a 100."
      ]
    },
    {
      "cell_type": "code",
      "execution_count": null,
      "metadata": {
        "id": "w-NAwbrYzI1b"
      },
      "outputs": [],
      "source": [
        "# Implemente aqui o código do exercício."
      ]
    }
  ],
  "metadata": {
    "kernelspec": {
      "display_name": "Python 3",
      "name": "python3"
    },
    "language_info": {
      "codemirror_mode": {
        "name": "ipython",
        "version": 3
      },
      "file_extension": ".py",
      "mimetype": "text/x-python",
      "name": "python",
      "nbconvert_exporter": "python",
      "pygments_lexer": "ipython3",
      "version": "3.10.9"
    },
    "colab": {
      "provenance": [],
      "generative_ai_disabled": true
    }
  },
  "nbformat": 4,
  "nbformat_minor": 0
}