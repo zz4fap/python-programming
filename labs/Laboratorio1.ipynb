{
  "cells": [
    {
      "cell_type": "markdown",
      "metadata": {
        "id": "e8Vqg11xyKP2"
      },
      "source": [
        "# Laboratório #1\n",
        "\n",
        "### Instruções\n",
        "\n",
        "1. Antes de começar, você deve clicar na opção \"Copiar para o Drive\" na barra superior do Colab. Depois de clicar nela, verifique se você está trabalhando nessa versão do notebook para que seu trabalho seja salvo.\n",
        "2. Para cada um dos exercícios a seguir, faça o seguinte:\n",
        "    * Sempre que possível, adicione comentários ao seu código. Os comentários servem para documentar o código.\n",
        "    * Use **docstrings** explicando sucintamente o que cada função implementada faz.\n",
        "        + **docstrings** são os comentários de múltiplas linhas que aparecem **logo após** o cabeçalho da função.\n",
        "    * Escolha nomes autoexplicativos para suas funções e variáveis.\n",
        "3. Quando você terminar os exercícios do laboratório, vá ao menu do Colab ou Jupyter e selecione a opção para fazer download do notebook.\n",
        "    * Os notebooks tem extensão .ipynb.\n",
        "    * Este deve ser o arquivo que você irá entregar.\n",
        "    * No Colab vá até a opção **File** -> **Download .ipynb**.\n",
        "    * No Jupyter vá até a opção **File** -> **Download as** -> **Notebook (.ipynb)**.\n",
        "4. Após o download do notebook, vá até a aba de tarefas do MS Teams, localize a tarefa referente a este laboratório e faça o upload do seu notebook. Veja que há uma opção para anexar arquivos à tarefa.\n",
        "5. Não se esqueça de colocar seu **nome** e **matrícula** na célula de texto abaixo."
      ]
    },
    {
      "cell_type": "markdown",
      "metadata": {
        "id": "0QbNeRL1yKP3"
      },
      "source": [
        "**Nome**:\n",
        "\n",
        "**Matrícula**:"
      ]
    },
    {
      "cell_type": "markdown",
      "metadata": {
        "id": "INkOcllMyKP4"
      },
      "source": [
        "## Exercícios"
      ]
    },
    {
      "cell_type": "markdown",
      "metadata": {
        "id": "JzCptqD3yKP4"
      },
      "source": [
        "#### 1)  Implemente 4 funções que realizam as operações abaixo. Todas elas recebem dois parâmetros de entrada, x e y,  e retornam o resultado das operações. Adicione uma docstring em cada uma das funções. Use os nomes abaixo como os nomes das 4 funções.\n",
        "\n",
        "1. **adição**\n",
        "2. **subtração**\n",
        "3. **divisão**\n",
        "4. **multiplicação**\n",
        "\n",
        "**Operadores artiméticos**\n",
        "\n",
        "Abaixo segue a lista de operadores aritméticos usados em Python.\n",
        "\n",
        "| Operador |       Nome      |  Exemplo | Resultado |\n",
        "|:--------:|:---------------:|:--------:|:---------:|\n",
        "|     +    |      Adição     |   a = 1 + 1  |     2     |\n",
        "|     -    |    Subtração    |   a = 2 - 1  |     1     |\n",
        "|     *    |  Multiplicação  |   a = 2 * 2  |     4     |\n",
        "|     /    |     Divisão     |  a = 100 / 4 |    25.0   |\n",
        "|     %    |      Módulo     |   a = 5 % 3  |     2     |\n",
        "|    **    |  Exponenciação  |  a = 2 ** 3  |     8     |\n",
        "|    //    | Divisão inteira | a = 100 // 4 |     25    |\n",
        "\n",
        "Teste sua implementação com o código de teste de cada uma das funções.\n",
        "\n",
        "#### Função de adição\n",
        "\n",
        "Implemente a função **adição** na célula de código abaixo."
      ]
    },
    {
      "cell_type": "code",
      "execution_count": null,
      "metadata": {
        "id": "cdq8_kzzyKP4"
      },
      "outputs": [],
      "source": [
        "# Defina aqui o código da função 'adição' e em seguida execute a célula com o código de teste."
      ]
    },
    {
      "cell_type": "markdown",
      "metadata": {
        "id": "BPqrxCHvyKP5"
      },
      "source": [
        "Trecho de código para teste da função **adição**."
      ]
    },
    {
      "cell_type": "code",
      "execution_count": null,
      "metadata": {
        "id": "jOU2FKavyKP5",
        "outputId": "ffcb6e4e-749e-4c8d-a65d-4bb462783354"
      },
      "outputs": [
        {
          "ename": "NameError",
          "evalue": "name 'adição' is not defined",
          "output_type": "error",
          "traceback": [
            "\u001b[1;31m---------------------------------------------------------------------------\u001b[0m",
            "\u001b[1;31mNameError\u001b[0m                                 Traceback (most recent call last)",
            "\u001b[1;32mC:\\Users\\FELIPE~1.FIG\\AppData\\Local\\Temp/ipykernel_14496/2689983775.py\u001b[0m in \u001b[0;36m<module>\u001b[1;34m\u001b[0m\n\u001b[1;32m----> 1\u001b[1;33m \u001b[0mprint\u001b[0m\u001b[1;33m(\u001b[0m\u001b[1;34m'O resultado da adição é:'\u001b[0m\u001b[1;33m,\u001b[0m \u001b[0madição\u001b[0m\u001b[1;33m(\u001b[0m\u001b[1;36m2\u001b[0m\u001b[1;33m,\u001b[0m \u001b[1;36m3\u001b[0m\u001b[1;33m)\u001b[0m\u001b[1;33m)\u001b[0m\u001b[1;33m\u001b[0m\u001b[1;33m\u001b[0m\u001b[0m\n\u001b[0m",
            "\u001b[1;31mNameError\u001b[0m: name 'adição' is not defined"
          ]
        }
      ],
      "source": [
        "print('O resultado da adição é:', adição(2, 3))"
      ]
    },
    {
      "cell_type": "markdown",
      "metadata": {
        "id": "i-EkjhH7yKP5"
      },
      "source": [
        "#### Função de subtração\n",
        "\n",
        "Implemente a função **subtração** na célula de código abaixo."
      ]
    },
    {
      "cell_type": "code",
      "execution_count": null,
      "metadata": {
        "id": "UdmzuZJkyKP6"
      },
      "outputs": [],
      "source": [
        "# Defina aqui o código da função 'subtração' e em seguida execute a célula com o código de teste."
      ]
    },
    {
      "cell_type": "markdown",
      "metadata": {
        "id": "bYSwnhPIyKP6"
      },
      "source": [
        "Trecho de código para teste da função **subtração**."
      ]
    },
    {
      "cell_type": "code",
      "execution_count": null,
      "metadata": {
        "id": "RH2oXZEwyKP6",
        "outputId": "428e70f7-1096-4919-a700-1c48ce782ab5"
      },
      "outputs": [
        {
          "ename": "NameError",
          "evalue": "name 'subtração' is not defined",
          "output_type": "error",
          "traceback": [
            "\u001b[1;31m---------------------------------------------------------------------------\u001b[0m",
            "\u001b[1;31mNameError\u001b[0m                                 Traceback (most recent call last)",
            "\u001b[1;32m~\\AppData\\Local\\Temp\\ipykernel_14444\\1616877984.py\u001b[0m in \u001b[0;36m<module>\u001b[1;34m\u001b[0m\n\u001b[1;32m----> 1\u001b[1;33m \u001b[0mprint\u001b[0m\u001b[1;33m(\u001b[0m\u001b[1;34m'O resultado da subtração é:'\u001b[0m\u001b[1;33m,\u001b[0m \u001b[0msubtração\u001b[0m\u001b[1;33m(\u001b[0m\u001b[1;36m7\u001b[0m\u001b[1;33m,\u001b[0m \u001b[1;36m4\u001b[0m\u001b[1;33m)\u001b[0m\u001b[1;33m)\u001b[0m\u001b[1;33m\u001b[0m\u001b[1;33m\u001b[0m\u001b[0m\n\u001b[0m",
            "\u001b[1;31mNameError\u001b[0m: name 'subtração' is not defined"
          ]
        }
      ],
      "source": [
        "print('O resultado da subtração é:', subtração(7, 4))"
      ]
    },
    {
      "cell_type": "markdown",
      "metadata": {
        "id": "Au_iN_awyKP6"
      },
      "source": [
        "#### Função de divisão\n",
        "\n",
        "Implemente a função **divisão** na célula de código abaixo."
      ]
    },
    {
      "cell_type": "code",
      "execution_count": null,
      "metadata": {
        "id": "CGd_4pf2yKP6"
      },
      "outputs": [],
      "source": [
        "# Defina aqui o código da função 'divisão' e em seguida execute a célula com o código de teste."
      ]
    },
    {
      "cell_type": "markdown",
      "metadata": {
        "id": "evOB3pDHyKP6"
      },
      "source": [
        "Trecho de código para teste da função **divisão**."
      ]
    },
    {
      "cell_type": "code",
      "execution_count": null,
      "metadata": {
        "id": "6IO1froeyKP6",
        "outputId": "876bfe27-29db-44e0-d73b-ae14eb3cc31d"
      },
      "outputs": [
        {
          "ename": "NameError",
          "evalue": "name 'divisão' is not defined",
          "output_type": "error",
          "traceback": [
            "\u001b[1;31m---------------------------------------------------------------------------\u001b[0m",
            "\u001b[1;31mNameError\u001b[0m                                 Traceback (most recent call last)",
            "\u001b[1;32mC:\\Users\\FELIPE~1.FIG\\AppData\\Local\\Temp/ipykernel_14496/2104020095.py\u001b[0m in \u001b[0;36m<module>\u001b[1;34m\u001b[0m\n\u001b[1;32m----> 1\u001b[1;33m \u001b[0mprint\u001b[0m\u001b[1;33m(\u001b[0m\u001b[1;34m'O resultado da divisão é:'\u001b[0m\u001b[1;33m,\u001b[0m \u001b[0mdivisão\u001b[0m\u001b[1;33m(\u001b[0m\u001b[1;36m8\u001b[0m\u001b[1;33m,\u001b[0m \u001b[1;36m2\u001b[0m\u001b[1;33m)\u001b[0m\u001b[1;33m)\u001b[0m\u001b[1;33m\u001b[0m\u001b[1;33m\u001b[0m\u001b[0m\n\u001b[0m",
            "\u001b[1;31mNameError\u001b[0m: name 'divisão' is not defined"
          ]
        }
      ],
      "source": [
        "print('O resultado da divisão é:', divisão(8, 2))"
      ]
    },
    {
      "cell_type": "markdown",
      "metadata": {
        "id": "qkxDie7ryKP6"
      },
      "source": [
        "#### Função de multiplicação\n",
        "\n",
        "Implemente a função **multiplicação** na célula de código abaixo."
      ]
    },
    {
      "cell_type": "code",
      "execution_count": null,
      "metadata": {
        "id": "8sR5TAT_yKP7"
      },
      "outputs": [],
      "source": [
        "# Defina aqui o código da função 'multiplicação' e em seguida execute a célula com o código de teste."
      ]
    },
    {
      "cell_type": "markdown",
      "metadata": {
        "id": "XEx6ecQ9yKP7"
      },
      "source": [
        "Trecho de código para teste da função **multiplicação**"
      ]
    },
    {
      "cell_type": "code",
      "execution_count": null,
      "metadata": {
        "id": "fWAH9GNjyKP7",
        "outputId": "7764a0a8-c582-4b62-c2aa-293bd54433b1"
      },
      "outputs": [
        {
          "ename": "NameError",
          "evalue": "name 'multiplicação' is not defined",
          "output_type": "error",
          "traceback": [
            "\u001b[1;31m---------------------------------------------------------------------------\u001b[0m",
            "\u001b[1;31mNameError\u001b[0m                                 Traceback (most recent call last)",
            "\u001b[1;32mC:\\Users\\FELIPE~1.FIG\\AppData\\Local\\Temp/ipykernel_14496/4035649840.py\u001b[0m in \u001b[0;36m<module>\u001b[1;34m\u001b[0m\n\u001b[1;32m----> 1\u001b[1;33m \u001b[0mprint\u001b[0m\u001b[1;33m(\u001b[0m\u001b[1;34m'O resultado da multiplicação é:'\u001b[0m\u001b[1;33m,\u001b[0m \u001b[0mmultiplicação\u001b[0m\u001b[1;33m(\u001b[0m\u001b[1;36m3\u001b[0m\u001b[1;33m,\u001b[0m \u001b[1;36m5\u001b[0m\u001b[1;33m)\u001b[0m\u001b[1;33m)\u001b[0m\u001b[1;33m\u001b[0m\u001b[1;33m\u001b[0m\u001b[0m\n\u001b[0m",
            "\u001b[1;31mNameError\u001b[0m: name 'multiplicação' is not defined"
          ]
        }
      ],
      "source": [
        "print('O resultado da multiplicação é:', multiplicação(3, 5))"
      ]
    },
    {
      "cell_type": "markdown",
      "metadata": {
        "id": "Ya_gq5hdyKP7"
      },
      "source": [
        "#### 2) Dado o valor da conta de um restaurante, crie uma função chamada de `gorjeta` que calcula o valor da gorjeta do garçom, considerando que a gorjeta é sempre de 10% do valor da conta."
      ]
    },
    {
      "cell_type": "code",
      "execution_count": null,
      "metadata": {
        "id": "2tSpPdRayKP7"
      },
      "outputs": [],
      "source": [
        "# Defina aqui o código da função 'gorjeta' e em seguida execute a célula com o código de teste."
      ]
    },
    {
      "cell_type": "markdown",
      "metadata": {
        "id": "DSPXEK8DyKP7"
      },
      "source": [
        "Trecho de código para teste da função **gorjeta**."
      ]
    },
    {
      "cell_type": "code",
      "execution_count": null,
      "metadata": {
        "id": "aQfJQXR2yKP7",
        "outputId": "4a4fcce6-adb5-4f74-89f1-073408debe71"
      },
      "outputs": [
        {
          "ename": "NameError",
          "evalue": "name 'gorjeta' is not defined",
          "output_type": "error",
          "traceback": [
            "\u001b[1;31m---------------------------------------------------------------------------\u001b[0m",
            "\u001b[1;31mNameError\u001b[0m                                 Traceback (most recent call last)",
            "\u001b[1;32m~\\AppData\\Local\\Temp\\ipykernel_14444\\4030704772.py\u001b[0m in \u001b[0;36m<module>\u001b[1;34m\u001b[0m\n\u001b[1;32m----> 1\u001b[1;33m \u001b[0mprint\u001b[0m\u001b[1;33m(\u001b[0m\u001b[1;34m'O valor da gorjeta é de:'\u001b[0m\u001b[1;33m,\u001b[0m \u001b[0mgorjeta\u001b[0m\u001b[1;33m(\u001b[0m\u001b[1;36m100\u001b[0m\u001b[1;33m)\u001b[0m\u001b[1;33m)\u001b[0m\u001b[1;33m\u001b[0m\u001b[1;33m\u001b[0m\u001b[0m\n\u001b[0m",
            "\u001b[1;31mNameError\u001b[0m: name 'gorjeta' is not defined"
          ]
        }
      ],
      "source": [
        "print('O valor da gorjeta é de:', gorjeta(100))"
      ]
    },
    {
      "cell_type": "markdown",
      "metadata": {
        "id": "k_lRLTJ8yKP7"
      },
      "source": [
        "#### 3)  Execute o código abaixo e veja que ocorre um erro. Em seguida, corrija os erros que forem surgindo até que o código execute corretamente.\n",
        "\n",
        "**Dica**: Lembre-se do que foi discutido sobre as diferenças entre Python e outras linguagens de programação e sobre a definição de funções em Python."
      ]
    },
    {
      "cell_type": "code",
      "execution_count": null,
      "metadata": {
        "id": "NEPf-C87yKP7",
        "outputId": "8c93e540-4f6d-42f5-cf45-66e6ea68e19b"
      },
      "outputs": [
        {
          "ename": "NameError",
          "evalue": "name 'foo' is not defined",
          "output_type": "error",
          "traceback": [
            "\u001b[1;31m---------------------------------------------------------------------------\u001b[0m",
            "\u001b[1;31mNameError\u001b[0m                                 Traceback (most recent call last)",
            "\u001b[1;32m<ipython-input-7-9515f2e27777>\u001b[0m in \u001b[0;36m<module>\u001b[1;34m\u001b[0m\n\u001b[1;32m----> 1\u001b[1;33m \u001b[0mfoo\u001b[0m\u001b[1;33m(\u001b[0m\u001b[0ma\u001b[0m\u001b[1;33m,\u001b[0m\u001b[0mb\u001b[0m\u001b[1;33m,\u001b[0m\u001b[0mc\u001b[0m\u001b[1;33m)\u001b[0m\u001b[1;33m\u001b[0m\u001b[1;33m\u001b[0m\u001b[0m\n\u001b[0m\u001b[0;32m      2\u001b[0m \u001b[0mvar\u001b[0m \u001b[1;33m=\u001b[0m \u001b[0ma\u001b[0m \u001b[1;33m+\u001b[0m \u001b[0mb\u001b[0m \u001b[1;33m*\u001b[0m \u001b[0mc\u001b[0m\u001b[1;33m\u001b[0m\u001b[1;33m\u001b[0m\u001b[0m\n\u001b[0;32m      3\u001b[0m \u001b[1;32mreturn\u001b[0m \u001b[0mvar\u001b[0m\u001b[1;33m\u001b[0m\u001b[1;33m\u001b[0m\u001b[0m\n\u001b[0;32m      4\u001b[0m \u001b[1;33m\u001b[0m\u001b[0m\n\u001b[0;32m      5\u001b[0m '''\n",
            "\u001b[1;31mNameError\u001b[0m: name 'foo' is not defined"
          ]
        }
      ],
      "source": [
        "minha_função(a, b, c)\n",
        "var = a + b * c\n",
        "return var\n",
        "\n",
        "\n",
        "# Invocando a função chamada de 'minha_função' e imprimindo o resultado retornado por ela.\n",
        "print('A função retorna o valor: ', minha_função(1,2,3))"
      ]
    }
  ],
  "metadata": {
    "kernelspec": {
      "display_name": "Python 3",
      "name": "python3"
    },
    "language_info": {
      "codemirror_mode": {
        "name": "ipython",
        "version": 3
      },
      "file_extension": ".py",
      "mimetype": "text/x-python",
      "name": "python",
      "nbconvert_exporter": "python",
      "pygments_lexer": "ipython3",
      "version": "3.10.9"
    },
    "colab": {
      "provenance": [],
      "generative_ai_disabled": true
    }
  },
  "nbformat": 4,
  "nbformat_minor": 0
}