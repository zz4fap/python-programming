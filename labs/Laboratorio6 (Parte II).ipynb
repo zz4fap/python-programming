{
  "cells": [
    {
      "cell_type": "markdown",
      "metadata": {
        "id": "60BZr24kzFtn"
      },
      "source": [
        "# Laboratório #6 (Parte II)\n",
        "\n",
        "### Instruções\n",
        "\n",
        "1. Antes de começar, você deve clicar na opção \"Copiar para o Drive\" na barra superior do Colab. Depois de clicar nela, verifique se você está trabalhando nessa versão do notebook para que seu trabalho seja salvo.\n",
        "2. Para cada um dos exercícios a seguir, faça o seguinte:\n",
        "    * Sempre que possível, adicione comentários ao seu código. Os comentários servem para documentar o código.\n",
        "    * Use **docstrings** explicando sucintamente o que cada função implementada faz.\n",
        "        + **docstrings** são os comentários de múltiplas linhas que aparecem **logo após** o cabeçalho da função.\n",
        "    * Escolha nomes autoexplicativos para suas funções e variáveis.\n",
        "3. Quando você terminar os exercícios do laboratório, vá ao menu do Colab ou Jupyter e selecione a opção para fazer download do notebook.\n",
        "    * Os notebooks tem extensão .ipynb.\n",
        "    * Este deve ser o arquivo que você irá entregar.\n",
        "    * No Colab vá até a opção **File** -> **Download .ipynb**.\n",
        "    * No Jupyter vá até a opção **File** -> **Download as** -> **Notebook (.ipynb)**.\n",
        "4. Após o download do notebook, vá até a aba de tarefas do MS Teams, localize a tarefa referente a este laboratório e faça o upload do seu notebook. Veja que há uma opção para anexar arquivos à tarefa.\n",
        "5. Não se esqueça de colocar seu **nome** e **matrícula** na célula de texto abaixo."
      ]
    },
    {
      "cell_type": "markdown",
      "metadata": {
        "id": "xsp8YRpCzFto"
      },
      "source": [
        "**Nome**:\n",
        "\n",
        "**Matrícula**:"
      ]
    },
    {
      "cell_type": "markdown",
      "metadata": {
        "id": "t6KYKF-XzFto"
      },
      "source": [
        "## Exercícios"
      ]
    },
    {
      "cell_type": "markdown",
      "metadata": {
        "id": "aXVx9PLdzFto"
      },
      "source": [
        "#### 1)  Uma empresa POSSUI vários funcionários, ou seja, ela TEM funcionários. Baseado nessa afirmação, implemente uma classe  `Empresa` que possa conter vários objetos da classe `Funcionário`.\n",
        "\n",
        "##### Detalhes de implementação da classe `Funcionário`:\n",
        "\n",
        "+ Um objeto da classe funcionário possui 2 atributos **privados**: nome e salário.\n",
        "+ Crie um construtor que receba esses 2 parâmetros (nome e salário)\n",
        "+ Crie um método `aumentarSalário` que aumente o salário do funcionário em uma certa porcentagem dada pelo parâmetro de entrada `percentualDeAumento`.\n",
        "+ Crie métodos públicos `getNome` e `getSalário` para acessar os valores dos dois atributos **privados**.\n",
        "\n",
        "##### Detalhes de implementação da classe `Empresa`:\n",
        "\n",
        "+ Utilize uma lista **privada** para armazenar os funcionários. Ela será o atributo `funcionários` mostrado no diagrama UML abaixo.\n",
        "+ O construtor da classe `Empresa` deve inicializar o atributo `funcionários` com uma lista vazia.\n",
        "    + Percebam que o construtor não tem nenhum parâmetro de entrada, ou seja, a lista vazia é criada no corpo do construtor.\n",
        "+ A classe deve conter os seguintes métodos **públicos**:\n",
        "    + `contratar`: que recebe o `nome` e `salário` do funcionário sendo contratado, instancia um objeto da classe `Funcionário` e o adiciona à lista de funcionários.\n",
        "    + `demitir`: que recebe o `nome` de um funcionário que foi demitido e que precisa ser removido da lista de funcionários da empresa.\n",
        "    + `darAumento`: que recebe o `nome` e o `percentualDeAumento` que um funcionário deve ter em seu salário atual. Você precisa encontrar o objeto funcionário com o `nome` correto na lista de funcionários e usar o método `percentualDeAumento` do objeto da classe `Funcionário`.\n",
        "    + `consultarSalário`: que recebe o `nome` do  funcionário que se quer verificar o salário. Este método deve retornar o valor do salário. Você precisa encontrar o objeto funcionário com o `nome` correto na lista de funcionários e usar o método `getSalário` do objeto da classe `Funcionário`.\n",
        "    + `quantidadeDeFuncionários`: este método deve retornar o número de funcionários atual da empresa.\n",
        "\n",
        "O diagrama de relacionamento entre estas duas classes é mostrado na figura abaixo.\n",
        "    \n",
        "<img src=\"https://github.com/zz4fap/python-programming/blob/master/figures/lab6_ex4.png?raw=1\" width=\"600px\">"
      ]
    },
    {
      "cell_type": "code",
      "execution_count": null,
      "metadata": {
        "id": "txmf5GQ-zFtp"
      },
      "outputs": [],
      "source": [
        "# Implemente aqui as classes Funcionário e Empresa."
      ]
    },
    {
      "cell_type": "markdown",
      "metadata": {
        "id": "YEB-x6gYzFtp"
      },
      "source": [
        "Teste sua implementação com o trecho de código abaixo."
      ]
    },
    {
      "cell_type": "code",
      "execution_count": null,
      "metadata": {
        "id": "lC0eGtU6zFtq",
        "outputId": "b1be6b61-e560-45cb-f4e9-1e6edd8bc217"
      },
      "outputs": [
        {
          "ename": "NameError",
          "evalue": "name 'Empresa' is not defined",
          "output_type": "error",
          "traceback": [
            "\u001b[1;31m---------------------------------------------------------------------------\u001b[0m",
            "\u001b[1;31mNameError\u001b[0m                                 Traceback (most recent call last)",
            "\u001b[1;32m<ipython-input-3-e0351b465042>\u001b[0m in \u001b[0;36m<module>\u001b[1;34m\u001b[0m\n\u001b[1;32m----> 1\u001b[1;33m \u001b[0mempresa\u001b[0m \u001b[1;33m=\u001b[0m \u001b[0mEmpresa\u001b[0m\u001b[1;33m(\u001b[0m\u001b[1;33m)\u001b[0m\u001b[1;33m\u001b[0m\u001b[1;33m\u001b[0m\u001b[0m\n\u001b[0m\u001b[0;32m      2\u001b[0m \u001b[0mret\u001b[0m \u001b[1;33m=\u001b[0m \u001b[1;36m0\u001b[0m\u001b[1;33m\u001b[0m\u001b[1;33m\u001b[0m\u001b[0m\n\u001b[0;32m      3\u001b[0m \u001b[1;32mif\u001b[0m\u001b[1;33m(\u001b[0m\u001b[0mempresa\u001b[0m\u001b[1;33m.\u001b[0m\u001b[0mquantidadeDeFuncionários\u001b[0m\u001b[1;33m(\u001b[0m\u001b[1;33m)\u001b[0m\u001b[1;33m==\u001b[0m\u001b[1;36m0\u001b[0m\u001b[1;33m)\u001b[0m\u001b[1;33m:\u001b[0m\u001b[1;33m\u001b[0m\u001b[1;33m\u001b[0m\u001b[0m\n\u001b[0;32m      4\u001b[0m     \u001b[0mret\u001b[0m \u001b[1;33m+=\u001b[0m \u001b[1;36m1\u001b[0m\u001b[1;33m\u001b[0m\u001b[1;33m\u001b[0m\u001b[0m\n\u001b[0;32m      5\u001b[0m \u001b[0mempresa\u001b[0m\u001b[1;33m.\u001b[0m\u001b[0mcontratar\u001b[0m\u001b[1;33m(\u001b[0m\u001b[1;34m'José'\u001b[0m\u001b[1;33m,\u001b[0m \u001b[1;36m1000\u001b[0m\u001b[1;33m)\u001b[0m\u001b[1;33m\u001b[0m\u001b[1;33m\u001b[0m\u001b[0m\n",
            "\u001b[1;31mNameError\u001b[0m: name 'Empresa' is not defined"
          ]
        }
      ],
      "source": [
        "empresa = Empresa()\n",
        "ret = 0\n",
        "if(empresa.quantidadeDeFuncionários()==0):\n",
        "    ret += 1\n",
        "empresa.contratar('José', 1000)\n",
        "if(empresa.quantidadeDeFuncionários()==1):\n",
        "    ret += 1\n",
        "empresa.contratar('Ana', 15600)\n",
        "if(empresa.quantidadeDeFuncionários()==2):\n",
        "    ret += 1\n",
        "if(empresa.consultarSalário('José')==1000):\n",
        "    ret += 1\n",
        "empresa.darAumento('José', 10)\n",
        "if(empresa.consultarSalário('José')==1100):\n",
        "    ret += 1\n",
        "empresa.demitir('Ana')\n",
        "if(empresa.quantidadeDeFuncionários()==1):\n",
        "    ret += 1\n",
        "empresa.demitir('José')\n",
        "if(empresa.quantidadeDeFuncionários()==0):\n",
        "    ret += 1\n",
        "if(ret==7):\n",
        "    print('Sua implementação está correta.')\n",
        "else:\n",
        "    print('Sua implementação NÃO está correta.')"
      ]
    },
    {
      "cell_type": "markdown",
      "metadata": {
        "id": "PNEN-3GWzFtq"
      },
      "source": [
        "#### 2) Um membro de uma universidade **É** um professor ou ele **É** um aluno. Baseado nessa afirmação, implemente todas as classes do diagrama de classes abaixo.\n",
        "\n",
        "<img src=\"https://github.com/zz4fap/python-programming/blob/master/figures/universidade2.png?raw=1\" width=\"500px\">\n",
        "\n",
        "Seguem algumas dicas para a implementação das classes:\n",
        "\n",
        "1. O relacionamento do membro significa se ele é um professor ou aluno da universidade. Nós podemos obter o nome da classe a qual uma instância (i.e., um objeto) pertence utilizando `__class__.__name__`, como mostrado no trecho de código abaixo.\n",
        "```python\n",
        "def getRelacionamento(self):\n",
        "       return __class__.__name__\n",
        "```\n",
        "2. O Atributo privado `disciplinas` da classe `Membro` é uma **lista de strings** que irá conter em cada elemento a string de uma disciplina. Para um objeto da classe `Professor` esse atributo irá armazenar as disciplinas ministradas por aquele professor e para um objeto da classe `Aluno`, o atributo irá armazenar as disciplinas em que o aluno está matriculado.\n",
        "3. O método `addDisciplina` da classe `Membro` adiciona uma disciplina à lista de `disciplinas` caso aquela disciplina **NÃO** esteja presente na lista e retorna `True`. Caso contrário, a disciplina não é adicionada à lista e o valor `False` é retornado.\n",
        "4. O método `removeDisciplina` da classe `Membro` remove uma disciplina da lista de `disciplinas` caso aquela disciplina **ESTEJA** presente na lista e retorna `True`. Caso contrário, o método retorna o valor `False`.\n",
        "5. O método `getDisciplinas` da classe `Membro` retorna a **lista de disciplinas**.\n",
        "6. O método `getDisciplina`  da classe `Membro` verifica se uma determinada disciplina, passada como parâmetro para método, está presente na lista de disciplinas. O método retorna `True` caso a disciplina esteja presente e `False` caso contrário.\n",
        "7. Os métodos `get` e `set` das classes `Professor` e `Aluno` apenas retornam e configuram os atributos `salário` e `matrícula` destas duas classes."
      ]
    },
    {
      "cell_type": "code",
      "execution_count": null,
      "metadata": {
        "id": "adp9mp-MzFtq"
      },
      "outputs": [],
      "source": [
        "# Implemente aqui o código do exercício."
      ]
    },
    {
      "cell_type": "markdown",
      "metadata": {
        "id": "JdFrn9WazFtr"
      },
      "source": [
        "Teste sua implementação com o trecho de código abaixo."
      ]
    },
    {
      "cell_type": "code",
      "execution_count": null,
      "metadata": {
        "id": "vWA-X48CzFtr",
        "outputId": "e5da503f-65f7-4881-cee6-4e58cb43898c"
      },
      "outputs": [
        {
          "ename": "NameError",
          "evalue": "name 'Professor' is not defined",
          "output_type": "error",
          "traceback": [
            "\u001b[1;31m---------------------------------------------------------------------------\u001b[0m",
            "\u001b[1;31mNameError\u001b[0m                                 Traceback (most recent call last)",
            "\u001b[1;32m<ipython-input-5-dc00e25b0865>\u001b[0m in \u001b[0;36m<module>\u001b[1;34m\u001b[0m\n\u001b[1;32m----> 1\u001b[1;33m \u001b[0mprof\u001b[0m \u001b[1;33m=\u001b[0m \u001b[0mProfessor\u001b[0m\u001b[1;33m(\u001b[0m\u001b[1;34m'João Afonso'\u001b[0m\u001b[1;33m,\u001b[0m \u001b[1;34m'12/04/1987'\u001b[0m\u001b[1;33m,\u001b[0m \u001b[1;36m2000.00\u001b[0m\u001b[1;33m)\u001b[0m\u001b[1;33m\u001b[0m\u001b[1;33m\u001b[0m\u001b[0m\n\u001b[0m\u001b[0;32m      2\u001b[0m \u001b[0maluno\u001b[0m \u001b[1;33m=\u001b[0m \u001b[0mAluno\u001b[0m\u001b[1;33m(\u001b[0m\u001b[1;34m'Tiago Nascimento'\u001b[0m\u001b[1;33m,\u001b[0m \u001b[1;34m'23/12/1997'\u001b[0m\u001b[1;33m,\u001b[0m \u001b[1;36m1234\u001b[0m\u001b[1;33m)\u001b[0m\u001b[1;33m\u001b[0m\u001b[1;33m\u001b[0m\u001b[0m\n\u001b[0;32m      3\u001b[0m \u001b[0mret\u001b[0m \u001b[1;33m=\u001b[0m \u001b[1;36m0\u001b[0m\u001b[1;33m\u001b[0m\u001b[1;33m\u001b[0m\u001b[0m\n\u001b[0;32m      4\u001b[0m \u001b[1;32mtry\u001b[0m\u001b[1;33m:\u001b[0m\u001b[1;33m\u001b[0m\u001b[1;33m\u001b[0m\u001b[0m\n\u001b[0;32m      5\u001b[0m     \u001b[0mprof\u001b[0m\u001b[1;33m.\u001b[0m\u001b[0m__nome\u001b[0m\u001b[1;33m\u001b[0m\u001b[1;33m\u001b[0m\u001b[0m\n",
            "\u001b[1;31mNameError\u001b[0m: name 'Professor' is not defined"
          ]
        }
      ],
      "source": [
        "prof = Professor('João Afonso', '12/04/1987', 2000.00)\n",
        "aluno = Aluno('Tiago Nascimento', '23/12/1997', 1234)\n",
        "ret = 0\n",
        "try:\n",
        "    prof.__nome\n",
        "except AttributeError:\n",
        "    ret += 1\n",
        "try:\n",
        "    prof.__dataDeNascimento\n",
        "except AttributeError:\n",
        "    ret += 1\n",
        "try:\n",
        "    prof.__disciplinas\n",
        "except AttributeError:\n",
        "    ret += 1\n",
        "try:\n",
        "    prof.__salário\n",
        "except AttributeError:\n",
        "    ret += 1\n",
        "try:\n",
        "    aluno.__matrícula\n",
        "except AttributeError:\n",
        "    ret += 1\n",
        "if(prof.getRelacionamento()=='Professor'):\n",
        "    ret += 1\n",
        "if(aluno.getRelacionamento()=='Aluno'):\n",
        "    ret += 1\n",
        "if(len(prof.getDisciplinas())==0):\n",
        "    ret += 1\n",
        "if(prof.addDisciplina('C126')==True):\n",
        "    ret += 1\n",
        "if(len(prof.getDisciplinas())==1):\n",
        "    ret += 1\n",
        "if(prof.addDisciplina('C126')==False):\n",
        "    ret += 1\n",
        "if(prof.removeDisciplina('C126')==True):\n",
        "    ret += 1\n",
        "if(len(prof.getDisciplinas())==0):\n",
        "    ret += 1\n",
        "if(prof.removeDisciplina('C126')==False):\n",
        "    ret += 1\n",
        "if(prof.getSalário()==2000.00):\n",
        "    ret += 1\n",
        "prof.setSalário(4000.00)\n",
        "if(prof.getSalário()==4000.00):\n",
        "    ret += 1\n",
        "if(len(aluno.getDisciplinas())==0):\n",
        "    ret += 1\n",
        "if(aluno.addDisciplina('C126')==True):\n",
        "    ret += 1\n",
        "if(len(aluno.getDisciplinas())==1):\n",
        "    ret += 1\n",
        "if(aluno.addDisciplina('C126')==False):\n",
        "    ret += 1\n",
        "if(aluno.removeDisciplina('C126')==True):\n",
        "    ret += 1\n",
        "if(len(aluno.getDisciplinas())==0):\n",
        "    ret += 1\n",
        "if(aluno.removeDisciplina('C126')==False):\n",
        "    ret += 1\n",
        "if(aluno.getMatrícula()==1234):\n",
        "    ret += 1\n",
        "aluno.setMatrícula(5678)\n",
        "if(aluno.getMatrícula()==5678):\n",
        "    ret += 1\n",
        "if(ret==25):\n",
        "    print('Sua implementação está correta.')\n",
        "else:\n",
        "    print('Sua implementação NÃO está correta.')"
      ]
    }
  ],
  "metadata": {
    "kernelspec": {
      "display_name": "Python 3",
      "name": "python3"
    },
    "language_info": {
      "codemirror_mode": {
        "name": "ipython",
        "version": 3
      },
      "file_extension": ".py",
      "mimetype": "text/x-python",
      "name": "python",
      "nbconvert_exporter": "python",
      "pygments_lexer": "ipython3",
      "version": "3.10.9"
    },
    "colab": {
      "provenance": [],
      "generative_ai_disabled": true
    }
  },
  "nbformat": 4,
  "nbformat_minor": 0
}