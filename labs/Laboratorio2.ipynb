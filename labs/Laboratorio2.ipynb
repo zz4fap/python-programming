{
 "cells": [
  {
   "cell_type": "markdown",
   "metadata": {
    "id": "VEo6qa7YLaf6"
   },
   "source": [
    "# Laboratório #2\n",
    "\n",
    "### Instruções\n",
    "\n",
    "1. Antes de começar, você deve clicar na opção \"Copiar para o Drive\" na barra superior do Colab. Depois de clicar nela, verifique se você está trabalhando nessa versão do notebook para que seu trabalho seja salvo.\n",
    "2. Para cada um dos exercícios a seguir, faça o seguinte:\n",
    "    * Sempre que possível, adicione comentários ao seu código. Os comentários servem para documentar o código.\n",
    "    * Use **docstrings** explicando sucintamente o que cada função implementada faz.\n",
    "        + **docstrings** são os comentários de múltiplas linhas que aparecem **logo após** o cabeçalho da função.\n",
    "    * Escolha nomes autoexplicativos para suas funções e variáveis.\n",
    "3. Quando você terminar os exercícios do laboratório, vá ao menu do Colab ou Jupyter e selecione a opção para fazer download do notebook.\n",
    "    * Os notebooks tem extensão .ipynb.\n",
    "    * Este deve ser o arquivo que você irá entregar.\n",
    "    * No Colab vá até a opção **File** -> **Download .ipynb**.\n",
    "    * No Jupyter vá até a opção **File** -> **Download as** -> **Notebook (.ipynb)**.\n",
    "4. Após o download do notebook, vá até a aba de tarefas do MS Teams, localize a tarefa referente a este laboratório e faça o upload do seu notebook. Veja que há uma opção para anexar arquivos à tarefa.\n",
    "5. Não se esqueça de colocar seu **nome** e **matrícula** na célula de texto abaixo."
   ]
  },
  {
   "cell_type": "markdown",
   "metadata": {
    "id": "bVNFFih-Laf9"
   },
   "source": [
    "**Nome**:\n",
    "\n",
    "**Matrícula**:"
   ]
  },
  {
   "cell_type": "markdown",
   "metadata": {
    "id": "AESkB4VjLaf-"
   },
   "source": [
    "## Exercícios"
   ]
  },
  {
   "cell_type": "markdown",
   "metadata": {
    "id": "Zq2EKwX8Laf-"
   },
   "source": [
    "#### 1. Exercício sobre tipos de dados em Python.\n",
    "\n",
    "Para este exercício, siga os seguintes passos:\n",
    "\n",
    "1. Atribua um valor **inteiro** (`int`) a uma variável chamada `ano_corrente` e imprima seu **valor** e **tipo** com a função `print`.\n",
    "2. Atribua um valor em **ponto flutuante** (`float`) a uma variável chamada `preço` e imprima seu **valor** e **tipo** com a função `print`.\n",
    "3. Atribua um valor **booleano** (`bool`) a uma variável chamada `resultado` e imprima seu **valor** e **tipo** com a função `print`.\n",
    "4. Atribua uma **sequência de caracteres** (`str`) a uma variável chamada `nome` e imprima seu **valor** e **tipo** com a função `print`.\n",
    "\n",
    "**DICAS**:\n",
    "\n",
    "+ Use a função embutida `type()` para obter o tipo da variável.\n",
    "+ Em Python, os dois possíveis valores booleanos, verdadeiro e falso, são representados pelas palavras reservadas `True` e `False`.\n",
    "    + **OBS**.: O Python diferencia entre letras minúsculas e maiúsculas. Portanto, não se esqueça das letras maiúsculas nas palavras `True` e `False`.\n",
    "+ Você pode usar o exemplo de print abaixo para imprimir o valor e o tipo da variáveis.\n",
    "    + **OBS**.: Não se esqueça de alterar o **caractere de formatação** para o tipo adequado, por exemplo: `%s` imprime uma variável do tipo string, `%d` imprime uma variável do tipo decimal (`int`), `%f` imprime uma variável do tipo ponto-flutuante (`float`). Para imprimir uma variável do tipo boolean, você podem usar `%s` ou `%d`.\n",
    "    + Os valores das variáveis são impressos na ordem em que estão nos parênteses após o símbolo de porcentagem, `%`.\n",
    "```python\n",
    "print('Valor da variável: %d e seu tipo é: %s.' % (variável, type(variável)))\n",
    "```"
   ]
  },
  {
   "cell_type": "code",
   "execution_count": null,
   "metadata": {
    "id": "wdDd0z3mLaf-"
   },
   "outputs": [],
   "source": [
    "# Escreva o código do exercício aqui."
   ]
  },
  {
   "cell_type": "markdown",
   "metadata": {
    "id": "k20RFe_bLaf_"
   },
   "source": [
    "#### 2. Exercício sobre tipos de dados em Python.\n",
    "\n",
    "Para este exercício, siga os seguintes passos:\n",
    "\n",
    "1. Atribua um valor inteiro (`int`) a uma variável chamada `a`.\n",
    "2. Imprima o tipo da variável `a`.\n",
    "3. Atribua um outro valor inteiro (`int`) a uma variável chamada `b`.\n",
    "4. Imprima o tipo da variável `b`.\n",
    "5. Atribua o resultado da divisão em ponto flutuante (`/`) entre `a` e `b` a uma variável chamada `c`.\n",
    "6. Imprima o tipo da variável `c`.\n",
    "\n",
    "Depois, responda as seguintes perguntas:\n",
    "\n",
    "1. Qual o tipo da variável `c`?\n",
    "2. Qual seria o tipo da variável `c` se tivéssemos usado o operador de divisão inteira, `//`?\n",
    "   + Adicione uma nova célula de código, repita a divisão entre `a` e `b`, agora usando `//`, e imprima o novo tipo da variável `c`.\n",
    "   \n",
    "**DICAS**:\n",
    "\n",
    "+ Use a função embutida `type()` para obter o tipo da variável.\n",
    "+ Você pode escrever as repostas das perguntas acima como comentário na própria célula de código ou adicionar uma célula de texto logo abaixo da célula de código."
   ]
  },
  {
   "cell_type": "code",
   "execution_count": null,
   "metadata": {
    "id": "EjANC-oLLaf_"
   },
   "outputs": [],
   "source": [
    "# Escreva o código do exercício aqui."
   ]
  },
  {
   "cell_type": "markdown",
   "metadata": {
    "id": "m7SNJTThLagA"
   },
   "source": [
    "#### 3)  Exercício sobre operadores aritméticos.\n",
    "\n",
    "Implemente uma função chamada `quadrado` que recebe um número (ou seja, um parâmetro de entrada) e retorna o seu quadrado. Na sequência, teste sua implementação com o código de teste disponibilizado abaixo.\n",
    "\n",
    "**OBS**.:\n",
    "\n",
    "+ Não se esqueça de adicionar a **docstring** explicando o que sua função faz.\n",
    "+ **docstring** é a string criada com 3 aspas simples ou duplas logo abaixo do cabeçalho da função. Veja o exemplo abaixo:\n",
    "```python\n",
    "def minhaFunção(a,b):\n",
    "    '''Esta é uma docstring que descreve o que esta função faz, quais parâmetros ela recebe como entrada e quais são os valores de retorno.\n",
    "    Função que soma dois parâmetros de entrada, a e b, e retorna o resultado da operação.\n",
    "    '''\n",
    "    soma = a + b\n",
    "    return soma\n",
    "```"
   ]
  },
  {
   "cell_type": "code",
   "execution_count": null,
   "metadata": {
    "id": "0eU0thuuLagA"
   },
   "outputs": [],
   "source": [
    "# Escreva o código do exercício aqui."
   ]
  },
  {
   "cell_type": "markdown",
   "metadata": {
    "id": "lHX5TPSBLagA"
   },
   "source": [
    "Teste sua função com os seguintes exemplos."
   ]
  },
  {
   "cell_type": "code",
   "execution_count": null,
   "metadata": {
    "id": "PyLDzomaLagA",
    "outputId": "c7b9eca4-4e94-4a62-f5f9-68e16a740431"
   },
   "outputs": [
    {
     "ename": "NameError",
     "evalue": "name 'quadrado' is not defined",
     "output_type": "error",
     "traceback": [
      "\u001b[1;31m---------------------------------------------------------------------------\u001b[0m",
      "\u001b[1;31mNameError\u001b[0m                                 Traceback (most recent call last)",
      "\u001b[1;32m<ipython-input-1-3319996fff25>\u001b[0m in \u001b[0;36m<module>\u001b[1;34m\u001b[0m\n\u001b[1;32m----> 1\u001b[1;33m \u001b[0mprint\u001b[0m\u001b[1;33m(\u001b[0m\u001b[1;34m'Resultado:'\u001b[0m\u001b[1;33m,\u001b[0m \u001b[0mquadrado\u001b[0m\u001b[1;33m(\u001b[0m\u001b[1;36m0\u001b[0m\u001b[1;33m)\u001b[0m\u001b[1;33m,\u001b[0m \u001b[1;34m' - Valor correto?'\u001b[0m\u001b[1;33m,\u001b[0m \u001b[0mquadrado\u001b[0m\u001b[1;33m(\u001b[0m\u001b[1;36m0\u001b[0m\u001b[1;33m)\u001b[0m\u001b[1;33m==\u001b[0m\u001b[1;36m0\u001b[0m\u001b[1;33m)\u001b[0m\u001b[1;33m\u001b[0m\u001b[1;33m\u001b[0m\u001b[0m\n\u001b[0m\u001b[0;32m      2\u001b[0m \u001b[0mprint\u001b[0m\u001b[1;33m(\u001b[0m\u001b[1;34m'Resultado:'\u001b[0m\u001b[1;33m,\u001b[0m \u001b[0mquadrado\u001b[0m\u001b[1;33m(\u001b[0m\u001b[1;36m1\u001b[0m\u001b[1;33m)\u001b[0m\u001b[1;33m,\u001b[0m \u001b[1;34m' - Valor correto?'\u001b[0m\u001b[1;33m,\u001b[0m \u001b[0mquadrado\u001b[0m\u001b[1;33m(\u001b[0m\u001b[1;36m1\u001b[0m\u001b[1;33m)\u001b[0m\u001b[1;33m==\u001b[0m\u001b[1;36m1\u001b[0m\u001b[1;33m)\u001b[0m\u001b[1;33m\u001b[0m\u001b[1;33m\u001b[0m\u001b[0m\n\u001b[0;32m      3\u001b[0m \u001b[0mprint\u001b[0m\u001b[1;33m(\u001b[0m\u001b[1;34m'Resultado:'\u001b[0m\u001b[1;33m,\u001b[0m \u001b[0mquadrado\u001b[0m\u001b[1;33m(\u001b[0m\u001b[1;36m2\u001b[0m\u001b[1;33m)\u001b[0m\u001b[1;33m,\u001b[0m \u001b[1;34m' - Valor correto?'\u001b[0m\u001b[1;33m,\u001b[0m \u001b[0mquadrado\u001b[0m\u001b[1;33m(\u001b[0m\u001b[1;36m2\u001b[0m\u001b[1;33m)\u001b[0m\u001b[1;33m==\u001b[0m\u001b[1;36m4\u001b[0m\u001b[1;33m)\u001b[0m\u001b[1;33m\u001b[0m\u001b[1;33m\u001b[0m\u001b[0m\n\u001b[0;32m      4\u001b[0m \u001b[0mprint\u001b[0m\u001b[1;33m(\u001b[0m\u001b[1;34m'Resultado:'\u001b[0m\u001b[1;33m,\u001b[0m \u001b[0mquadrado\u001b[0m\u001b[1;33m(\u001b[0m\u001b[1;36m3\u001b[0m\u001b[1;33m)\u001b[0m\u001b[1;33m,\u001b[0m \u001b[1;34m' - Valor correto?'\u001b[0m\u001b[1;33m,\u001b[0m \u001b[0mquadrado\u001b[0m\u001b[1;33m(\u001b[0m\u001b[1;36m3\u001b[0m\u001b[1;33m)\u001b[0m\u001b[1;33m==\u001b[0m\u001b[1;36m9\u001b[0m\u001b[1;33m)\u001b[0m\u001b[1;33m\u001b[0m\u001b[1;33m\u001b[0m\u001b[0m\n",
      "\u001b[1;31mNameError\u001b[0m: name 'quadrado' is not defined"
     ]
    }
   ],
   "source": [
    "print('Resultado:', quadrado(0), ' - Valor correto?', quadrado(0)==0)\n",
    "print('Resultado:', quadrado(1), ' - Valor correto?', quadrado(1)==1)\n",
    "print('Resultado:', quadrado(2), ' - Valor correto?', quadrado(2)==4)\n",
    "print('Resultado:', quadrado(3), ' - Valor correto?', quadrado(3)==9)"
   ]
  },
  {
   "cell_type": "markdown",
   "metadata": {
    "id": "mhSeSFayLagB"
   },
   "source": [
    "#### 4)  Exercício sobre operadores aritméticos.\n",
    "\n",
    "Implemente uma função chamada `volumeDaEsfera` que recebe o **raio de uma esfera** e **retorna seu volume**. O volume de uma esfera é calculado através da equação:\n",
    "\n",
    "$$V = \\frac{4}{3} \\pi r^3,$$ onde $r$ é o raio da esfera.\n",
    "\n",
    "**OBS.1**: Use o valor $3.14$ como sendo o valor de $\\pi$.\n",
    "\n",
    "**OBS.2**: Não se esqueça de adicionar a **docstring** explicando o que sua função faz."
   ]
  },
  {
   "cell_type": "code",
   "execution_count": null,
   "metadata": {
    "id": "S2O0fcbuLagB"
   },
   "outputs": [],
   "source": [
    "# Escreva o código do exercício aqui."
   ]
  },
  {
   "cell_type": "markdown",
   "metadata": {
    "id": "mcdSwAUiLagB"
   },
   "source": [
    "Teste sua função com os seguintes exemplos."
   ]
  },
  {
   "cell_type": "code",
   "execution_count": null,
   "metadata": {
    "id": "rC85KQxtLagB",
    "outputId": "f3ce29f9-9275-481d-e2de-8ed2ecbd029f"
   },
   "outputs": [
    {
     "ename": "NameError",
     "evalue": "name 'volumeDaEsfera' is not defined",
     "output_type": "error",
     "traceback": [
      "\u001b[1;31m---------------------------------------------------------------------------\u001b[0m",
      "\u001b[1;31mNameError\u001b[0m                                 Traceback (most recent call last)",
      "\u001b[1;32m<ipython-input-9-220d24012131>\u001b[0m in \u001b[0;36m<module>\u001b[1;34m\u001b[0m\n\u001b[1;32m----> 1\u001b[1;33m \u001b[0mprint\u001b[0m\u001b[1;33m(\u001b[0m\u001b[1;34m'Resultado:'\u001b[0m\u001b[1;33m,\u001b[0m \u001b[0mvolumeDaEsfera\u001b[0m\u001b[1;33m(\u001b[0m\u001b[1;36m1\u001b[0m\u001b[1;33m)\u001b[0m\u001b[1;33m,\u001b[0m \u001b[1;34m' - Valor correto?'\u001b[0m\u001b[1;33m,\u001b[0m \u001b[0mvolumeDaEsfera\u001b[0m\u001b[1;33m(\u001b[0m\u001b[1;36m1\u001b[0m\u001b[1;33m)\u001b[0m\u001b[1;33m==\u001b[0m\u001b[1;36m4.1866666666666665\u001b[0m\u001b[1;33m)\u001b[0m\u001b[1;33m\u001b[0m\u001b[1;33m\u001b[0m\u001b[0m\n\u001b[0m\u001b[0;32m      2\u001b[0m \u001b[0mprint\u001b[0m\u001b[1;33m(\u001b[0m\u001b[1;34m'Resultado:'\u001b[0m\u001b[1;33m,\u001b[0m \u001b[0mvolumeDaEsfera\u001b[0m\u001b[1;33m(\u001b[0m\u001b[1;36m2\u001b[0m\u001b[1;33m)\u001b[0m\u001b[1;33m,\u001b[0m \u001b[1;34m' - Valor correto?'\u001b[0m\u001b[1;33m,\u001b[0m \u001b[0mvolumeDaEsfera\u001b[0m\u001b[1;33m(\u001b[0m\u001b[1;36m2\u001b[0m\u001b[1;33m)\u001b[0m\u001b[1;33m==\u001b[0m\u001b[1;36m33.49333333333333\u001b[0m\u001b[1;33m)\u001b[0m\u001b[1;33m\u001b[0m\u001b[1;33m\u001b[0m\u001b[0m\n",
      "\u001b[1;31mNameError\u001b[0m: name 'volumeDaEsfera' is not defined"
     ]
    }
   ],
   "source": [
    "print('Resultado:', volumeDaEsfera(1), ' - Valor correto?', volumeDaEsfera(1)==4.1866666666666665)\n",
    "print('Resultado:', volumeDaEsfera(2), ' - Valor correto?', volumeDaEsfera(2)==33.49333333333333)"
   ]
  },
  {
   "cell_type": "markdown",
   "metadata": {
    "id": "JVFAACigLagB"
   },
   "source": [
    "#### 5) Exercício sobre módulos e pacotes.\n",
    "\n",
    "Uma das várias bibliotecas disponibilizadas pelo ecossistema Python é a biblioteca `numpy`. Essa biblioteca implementa várias operações matemáticas importantes, entre elas a operação de raiz quadrada, a qual é implementada pela função `sqrt()`.\n",
    "\n",
    "Neste exercício, você irá importar a biblioteca `numpy` usando as três formas que vimos durante a aula para calcular a raíz quadrada de alguns valores com a função `sqrt()`.\n",
    "\n",
    "Agora, siga os seguintes passos:\n",
    "\n",
    "1. Importe a biblioteca `numpy`.\n",
    "2. Calcule e imprima a raíz quadrada de 4.\n",
    "3. Importe a bilbioteca `numpy` dando o apelido `np` para ela.\n",
    "4. Calcule e imprima a raíz quadrada de 9 utilizando o apelido da biblioteca.\n",
    "5. Importe apenas a função `sqrt()`.\n",
    "6. Calcule e imprima a raíz quadrada de 49.\n",
    "\n",
    "**OBS**.: Uma biblioteca pode ser um módulo ou um pacote."
   ]
  },
  {
   "cell_type": "code",
   "execution_count": null,
   "metadata": {
    "id": "wGlUlKeZLagC"
   },
   "outputs": [],
   "source": [
    "# Escreva o código do exercício aqui."
   ]
  },
  {
   "cell_type": "markdown",
   "metadata": {
    "id": "gG5-F4tCLagC"
   },
   "source": [
    "#### 6) Exercício sobre strings.\n",
    "\n",
    "Implemente uma função chamada `alterarChar` que retorna uma nova string a partir de uma string de entrada onde todas as ocorrências do seu primeiro caractere devem ser substituídas pelo caracter `$`, exceto o próprio primeiro caractere.\n",
    "\n",
    "**Exemplo**\n",
    "\n",
    "```python\n",
    "palavra = 'teste'\n",
    "print(alterarChar(palavra))\n",
    "tes$e\n",
    "```\n",
    "\n",
    "**DICAS**:\n",
    "\n",
    "+ Para resolver parte deste exercício, você pode utilizar o método `replace` da classe `string`, apenas se atente ao fato de que este método ***retorna*** uma **nova** string com a substituição e, portanto, você precisa atribuir o retorno a uma variável. Veja o seguinte exemplo:\n",
    "```python\n",
    "palavra = 'teste'\n",
    "palavra = palavra.replace('t', '$')\n",
    "print(palavra)\n",
    "$es$e\n",
    "```\n",
    "+ Porém, perceba que o método `replace` da classe `string` substitui **todos** os caracteres iguais ao caractere passado como argumento de entrada. Portanto, você precisa armazenar o primeiro caractere da string original (ou seja, a string de entrada da função) e usá-lo para criar a string de retorno da função `alterarChar`."
   ]
  },
  {
   "cell_type": "code",
   "execution_count": null,
   "metadata": {
    "id": "kfNrgltULagC"
   },
   "outputs": [],
   "source": [
    "# Escreva o código do exercício aqui."
   ]
  },
  {
   "cell_type": "markdown",
   "metadata": {
    "id": "Tek7fN4vLagD"
   },
   "source": [
    "Teste a função com o seguinte código."
   ]
  },
  {
   "cell_type": "code",
   "execution_count": null,
   "metadata": {
    "id": "WbVfoAbiLagD",
    "outputId": "c0cee0a7-7346-4a40-ae0e-f4b3e8daf9e1"
   },
   "outputs": [
    {
     "ename": "NameError",
     "evalue": "name 'alterarChar' is not defined",
     "output_type": "error",
     "traceback": [
      "\u001b[1;31m---------------------------------------------------------------------------\u001b[0m",
      "\u001b[1;31mNameError\u001b[0m                                 Traceback (most recent call last)",
      "\u001b[1;32m<ipython-input-5-7c222007c2be>\u001b[0m in \u001b[0;36m<module>\u001b[1;34m\u001b[0m\n\u001b[1;32m----> 1\u001b[1;33m \u001b[0mprint\u001b[0m\u001b[1;33m(\u001b[0m\u001b[1;34m'Resultado:'\u001b[0m\u001b[1;33m,\u001b[0m \u001b[0malterarChar\u001b[0m\u001b[1;33m(\u001b[0m\u001b[1;34m'anagrama'\u001b[0m\u001b[1;33m)\u001b[0m\u001b[1;33m,\u001b[0m \u001b[1;34m' - Valor correto?'\u001b[0m\u001b[1;33m,\u001b[0m \u001b[0malterarChar\u001b[0m\u001b[1;33m(\u001b[0m\u001b[1;34m'anagrama'\u001b[0m\u001b[1;33m)\u001b[0m\u001b[1;33m==\u001b[0m\u001b[1;34m'an$gr$m$'\u001b[0m\u001b[1;33m)\u001b[0m\u001b[1;33m\u001b[0m\u001b[1;33m\u001b[0m\u001b[0m\n\u001b[0m",
      "\u001b[1;31mNameError\u001b[0m: name 'alterarChar' is not defined"
     ]
    }
   ],
   "source": [
    "print('Resultado:', alterarChar('anagrama'), ' - Valor correto?', alterarChar('anagrama')=='an$gr$m$')"
   ]
  },
  {
   "cell_type": "markdown",
   "metadata": {
    "id": "jrMZGD6YLagD"
   },
   "source": [
    "#### 7) Exercício sobre strings.\n",
    "\n",
    "Implemente uma função chamada `removerCaractere` que remove o enésimo caractere  de uma string passada como entrada para a função e retorna a string resultante. A função deve receber como parâmetros de entrada uma string e o índice do caractere a ser removido.\n",
    "\n",
    "**Exemplo**\n",
    "\n",
    "```python\n",
    "print(removerCaractere('casa', 2))\n",
    "caa\n",
    "```\n",
    "\n",
    "**DICAS**:\n",
    "* Uma forma de resolver o exercício é criar 2 substrings (ou seja, 2 fatias) e ao final concatená-las.\n",
    "* Lembre-se que você pode usar a função `len()` para acessar o último caractere de uma string."
   ]
  },
  {
   "cell_type": "code",
   "execution_count": null,
   "metadata": {
    "id": "QqhUfJIdLagD"
   },
   "outputs": [],
   "source": [
    "# Escreva o código do exercício aqui."
   ]
  },
  {
   "cell_type": "markdown",
   "metadata": {
    "id": "JpPGyqdtLagD"
   },
   "source": [
    "Teste sua função com o seguinte código."
   ]
  },
  {
   "cell_type": "code",
   "execution_count": null,
   "metadata": {
    "id": "QtqhKKVwLagD",
    "outputId": "81edac3e-7a70-40f6-f344-850d019cdeed"
   },
   "outputs": [
    {
     "ename": "NameError",
     "evalue": "name 'removerCaractere' is not defined",
     "output_type": "error",
     "traceback": [
      "\u001b[1;31m---------------------------------------------------------------------------\u001b[0m",
      "\u001b[1;31mNameError\u001b[0m                                 Traceback (most recent call last)",
      "\u001b[1;32mC:\\Users\\FELIPE~1.FIG\\AppData\\Local\\Temp/ipykernel_2700/3951423626.py\u001b[0m in \u001b[0;36m<module>\u001b[1;34m\u001b[0m\n\u001b[1;32m----> 1\u001b[1;33m \u001b[0mprint\u001b[0m\u001b[1;33m(\u001b[0m\u001b[1;34m'Resultado:'\u001b[0m\u001b[1;33m,\u001b[0m \u001b[0mremoverCaractere\u001b[0m\u001b[1;33m(\u001b[0m\u001b[1;34m'Python'\u001b[0m\u001b[1;33m,\u001b[0m \u001b[1;36m0\u001b[0m\u001b[1;33m)\u001b[0m\u001b[1;33m,\u001b[0m \u001b[1;34m' - Valor correto?'\u001b[0m\u001b[1;33m,\u001b[0m \u001b[0mremoverCaractere\u001b[0m\u001b[1;33m(\u001b[0m\u001b[1;34m'Python'\u001b[0m\u001b[1;33m,\u001b[0m \u001b[1;36m0\u001b[0m\u001b[1;33m)\u001b[0m\u001b[1;33m==\u001b[0m\u001b[1;34m'ython'\u001b[0m\u001b[1;33m)\u001b[0m\u001b[1;33m\u001b[0m\u001b[1;33m\u001b[0m\u001b[0m\n\u001b[0m\u001b[0;32m      2\u001b[0m \u001b[0mprint\u001b[0m\u001b[1;33m(\u001b[0m\u001b[1;34m'Resultado:'\u001b[0m\u001b[1;33m,\u001b[0m \u001b[0mremoverCaractere\u001b[0m\u001b[1;33m(\u001b[0m\u001b[1;34m'Python'\u001b[0m\u001b[1;33m,\u001b[0m \u001b[1;36m3\u001b[0m\u001b[1;33m)\u001b[0m\u001b[1;33m,\u001b[0m \u001b[1;34m' - Valor correto?'\u001b[0m\u001b[1;33m,\u001b[0m \u001b[0mremoverCaractere\u001b[0m\u001b[1;33m(\u001b[0m\u001b[1;34m'Python'\u001b[0m\u001b[1;33m,\u001b[0m \u001b[1;36m3\u001b[0m\u001b[1;33m)\u001b[0m\u001b[1;33m==\u001b[0m\u001b[1;34m'Pyton'\u001b[0m\u001b[1;33m)\u001b[0m\u001b[1;33m\u001b[0m\u001b[1;33m\u001b[0m\u001b[0m\n\u001b[0;32m      3\u001b[0m \u001b[0mprint\u001b[0m\u001b[1;33m(\u001b[0m\u001b[1;34m'Resultado:'\u001b[0m\u001b[1;33m,\u001b[0m \u001b[0mremoverCaractere\u001b[0m\u001b[1;33m(\u001b[0m\u001b[1;34m'Python'\u001b[0m\u001b[1;33m,\u001b[0m \u001b[1;36m5\u001b[0m\u001b[1;33m)\u001b[0m\u001b[1;33m,\u001b[0m \u001b[1;34m' - Valor correto?'\u001b[0m\u001b[1;33m,\u001b[0m \u001b[0mremoverCaractere\u001b[0m\u001b[1;33m(\u001b[0m\u001b[1;34m'Python'\u001b[0m\u001b[1;33m,\u001b[0m \u001b[1;36m5\u001b[0m\u001b[1;33m)\u001b[0m\u001b[1;33m==\u001b[0m\u001b[1;34m'Pytho'\u001b[0m\u001b[1;33m)\u001b[0m\u001b[1;33m\u001b[0m\u001b[1;33m\u001b[0m\u001b[0m\n",
      "\u001b[1;31mNameError\u001b[0m: name 'removerCaractere' is not defined"
     ]
    }
   ],
   "source": [
    "print('Resultado:', removerCaractere('Python', 0), ' - Valor correto?', removerCaractere('Python', 0)=='ython')\n",
    "print('Resultado:', removerCaractere('Python', 3), ' - Valor correto?', removerCaractere('Python', 3)=='Pyton')\n",
    "print('Resultado:', removerCaractere('Python', 5), ' - Valor correto?', removerCaractere('Python', 5)=='Pytho')"
   ]
  },
  {
   "cell_type": "markdown",
   "metadata": {
    "id": "UOJKBEm2LagE"
   },
   "source": [
    "#### 8) Exercício sobre mensagens de erro.\n",
    "\n",
    "Corrija o código abaixo até que ele não gere mais nenhum erro.\n",
    "\n",
    "**DICAS**:\n",
    "\n",
    "+ Preste atenção ao tipo de erro reportado pelo interpretador. Cada mensagem de erro ajudará você a descobrir os erros presentes no código.\n",
    "+ O Python é case-sensitive, ou seja, ele diferencia letras maiúsculas de minúsculas.\n",
    "    + Por exemplo, as variáveis abaixo são variáveis diferentes devido à diferenciação feita pelo Python entre caracteres maiúsculos e minúsculos.\n",
    "    ```python\n",
    "    Casa = 1\n",
    "    casa = 2\n",
    "    ```"
   ]
  },
  {
   "cell_type": "code",
   "execution_count": null,
   "metadata": {
    "id": "lMmLqCoWLagE",
    "outputId": "f925b09b-3c05-40e7-f78c-c45b5f7605c1"
   },
   "outputs": [
    {
     "ename": "NameError",
     "evalue": "name 'Dividir' is not defined",
     "output_type": "error",
     "traceback": [
      "\u001b[1;31m---------------------------------------------------------------------------\u001b[0m",
      "\u001b[1;31mNameError\u001b[0m                                 Traceback (most recent call last)",
      "\u001b[1;32m<ipython-input-1-6d62b880bb44>\u001b[0m in \u001b[0;36m<module>\u001b[1;34m\u001b[0m\n\u001b[1;32m----> 1\u001b[1;33m \u001b[0mDividir\u001b[0m\u001b[1;33m(\u001b[0m\u001b[0ma\u001b[0m\u001b[1;33m,\u001b[0m\u001b[0mb\u001b[0m\u001b[1;33m)\u001b[0m\u001b[1;33m\u001b[0m\u001b[1;33m\u001b[0m\u001b[0m\n\u001b[0m\u001b[0;32m      2\u001b[0m \u001b[1;32mreturn\u001b[0m \u001b[0ma\u001b[0m\u001b[1;33m/\u001b[0m\u001b[0mb\u001b[0m\u001b[1;33m\u001b[0m\u001b[1;33m\u001b[0m\u001b[0m\n\u001b[0;32m      3\u001b[0m \u001b[1;33m\u001b[0m\u001b[0m\n\u001b[0;32m      4\u001b[0m \u001b[0mprint\u001b[0m\u001b[1;33m(\u001b[0m\u001b[1;34m'Resultado:'\u001b[0m\u001b[1;33m,\u001b[0m \u001b[0mdividir\u001b[0m\u001b[1;33m(\u001b[0m\u001b[1;36m4\u001b[0m\u001b[1;33m,\u001b[0m\u001b[1;36m2\u001b[0m\u001b[1;33m)\u001b[0m\u001b[1;33m,\u001b[0m \u001b[1;34m' - Valor correto?'\u001b[0m\u001b[1;33m,\u001b[0m \u001b[0mdividir\u001b[0m\u001b[1;33m(\u001b[0m\u001b[1;36m4\u001b[0m\u001b[1;33m,\u001b[0m\u001b[1;36m2\u001b[0m\u001b[1;33m)\u001b[0m\u001b[1;33m==\u001b[0m\u001b[1;36m2.0\u001b[0m\u001b[1;33m)\u001b[0m\u001b[1;33m\u001b[0m\u001b[1;33m\u001b[0m\u001b[0m\n",
      "\u001b[1;31mNameError\u001b[0m: name 'Dividir' is not defined"
     ]
    }
   ],
   "source": [
    "Dividir(a,b)\n",
    "return a/b\n",
    "\n",
    "print('Resultado:', dividir(4, 2), ' - Valor correto?', dividir(4, 2)==2.0)"
   ]
  }
 ],
 "metadata": {
  "colab": {
   "generative_ai_disabled": true,
   "provenance": []
  },
  "kernelspec": {
   "display_name": "Python 3 (ipykernel)",
   "language": "python",
   "name": "python3"
  },
  "language_info": {
   "codemirror_mode": {
    "name": "ipython",
    "version": 3
   },
   "file_extension": ".py",
   "mimetype": "text/x-python",
   "name": "python",
   "nbconvert_exporter": "python",
   "pygments_lexer": "ipython3",
   "version": "3.11.5"
  }
 },
 "nbformat": 4,
 "nbformat_minor": 1
}
