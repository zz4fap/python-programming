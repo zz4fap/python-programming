{
  "cells": [
    {
      "cell_type": "markdown",
      "metadata": {
        "id": "A0yGYvu1zB01"
      },
      "source": [
        "# Laboratório #5 - Conjuntos e Dicionários\n",
        "\n",
        "### Instruções\n",
        "\n",
        "1. Antes de começar, você deve clicar na opção \"Copiar para o Drive\" na barra superior do Colab. Depois de clicar nela, verifique se você está trabalhando nessa versão do notebook para que seu trabalho seja salvo.\n",
        "2. Para cada um dos exercícios a seguir, faça o seguinte:\n",
        "    * Sempre que possível, adicione comentários ao seu código. Os comentários servem para documentar o código.\n",
        "    * Use **docstrings** explicando sucintamente o que cada função implementada faz.\n",
        "        + **docstrings** são os comentários de múltiplas linhas que aparecem **logo após** o cabeçalho da função.\n",
        "    * Escolha nomes autoexplicativos para suas funções e variáveis.\n",
        "3. Quando você terminar os exercícios do laboratório, vá ao menu do Colab ou Jupyter e selecione a opção para fazer download do notebook.\n",
        "    * Os notebooks tem extensão .ipynb.\n",
        "    * Este deve ser o arquivo que você irá entregar.\n",
        "    * No Colab vá até a opção **File** -> **Download .ipynb**.\n",
        "    * No Jupyter vá até a opção **File** -> **Download as** -> **Notebook (.ipynb)**.\n",
        "4. Após o download do notebook, vá até a aba de tarefas do MS Teams, localize a tarefa referente a este laboratório e faça o upload do seu notebook. Veja que há uma opção para anexar arquivos à tarefa.\n",
        "5. Não se esqueça de colocar seu **nome** e **matrícula** na célula de texto abaixo."
      ]
    },
    {
      "cell_type": "markdown",
      "metadata": {
        "id": "4K42XCHwzB03"
      },
      "source": [
        "**Nome**:\n",
        "\n",
        "**Matrícula**:"
      ]
    },
    {
      "cell_type": "markdown",
      "metadata": {
        "id": "_RJeP657zB03"
      },
      "source": [
        "## Exercícios"
      ]
    },
    {
      "cell_type": "markdown",
      "metadata": {
        "id": "Hz46rdmIzB03"
      },
      "source": [
        "### Conjuntos"
      ]
    },
    {
      "cell_type": "markdown",
      "metadata": {
        "id": "rMt5sinczB03"
      },
      "source": [
        "#### 1)  Escreva um código que utilize os 2 conjuntos abaixo em uma operação e imprima a saída esperada mostrada abaixo. Neste exercício, você precisa descobrir qual operação (e.g., união, interseção, diferença, etc.) resultará na saída esperada.\n",
        "\n",
        "Os conjuntos são:\n",
        "\n",
        "```python\n",
        "s1 = set(['Python', 'Free', 'Exercises', 'Tutorials'])\n",
        "s2 = set(['Tutorials', 'Free', 'Library'])\n",
        "```\n",
        "\n",
        "Saída esperada:\n",
        "\n",
        "`A saída do programa é: {'Python', 'Exercises'}`\n",
        "\n",
        "**OBS**: Conjuntos são coleções **não ordenadas** de objetos, portanto, a sequência de elementos na sua resposta pode estar diferente da mostrada acima. O importante é que sua resposta tenha os mesmos elementos, independente da posição em que eles aparecem no conjunto."
      ]
    },
    {
      "cell_type": "code",
      "execution_count": null,
      "metadata": {
        "id": "Y_QYAeYuzB03"
      },
      "outputs": [],
      "source": [
        "# Implemente o código do exercício aqui."
      ]
    },
    {
      "cell_type": "markdown",
      "metadata": {
        "id": "r3suv_tizB04"
      },
      "source": [
        "#### 2)  Escreva um código que utilize os 2 conjuntos abaixo em uma operação e imprima a saída esperada mostrada abaixo. Neste exercício, você precisa descobrir qual operação (e.g., união, interseção, diferença, etc.) resultará na saída esperada.\n",
        "\n",
        "Os conjuntos são:\n",
        "\n",
        "```python\n",
        "s1 = set(['Python', 'Free', 'Exercises', 'Tutorials'])\n",
        "s2 = set(['Tutorials', 'Sets', 'Library', 'List'])\n",
        "```\n",
        "\n",
        "Saída esperada:\n",
        "\n",
        "`A saída do programa é: {'Tutorials'}`"
      ]
    },
    {
      "cell_type": "code",
      "execution_count": null,
      "metadata": {
        "id": "TDG1i5u9zB04"
      },
      "outputs": [],
      "source": [
        "# Implemente o código do exercício aqui."
      ]
    },
    {
      "cell_type": "markdown",
      "metadata": {
        "id": "b5YwYElizB04"
      },
      "source": [
        "#### 3)  Escreva um código que utilize os 2 conjuntos abaixo em uma operação e imprima a saída esperada mostrada abaixo. Neste exercício, você precisa descobrir qual operação (e.g., união, interseção, diferença, etc.) resultará na saída esperada.\n",
        "\n",
        "Os conjuntos são:\n",
        "\n",
        "```python\n",
        "s1 = set(['Python', 'Free', 'Exercises', 'Tutorials'])\n",
        "s2 = set(['Tutorials', 'Free', 'Library'])\n",
        "```\n",
        "\n",
        "Saída esperada:\n",
        "\n",
        "`A saída do programa é: {'Free', 'Library', 'Python', 'Exercises', 'Tutorials'}`\n",
        "\n",
        "**OBS**: Conjuntos são coleções **não ordenadas** de objetos, portanto, a sequência de elementos na sua resposta pode estar diferente da mostrada acima. O importante é que sua resposta tenha os mesmos elementos, independente da posição em que eles aparecem no conjunto."
      ]
    },
    {
      "cell_type": "code",
      "execution_count": null,
      "metadata": {
        "id": "2FozGTAwzB05"
      },
      "outputs": [],
      "source": [
        "# Implemente o código do exercício aqui."
      ]
    },
    {
      "cell_type": "markdown",
      "metadata": {
        "id": "yUh_wF6XzB05"
      },
      "source": [
        "### Dicionários"
      ]
    },
    {
      "cell_type": "markdown",
      "metadata": {
        "id": "-poQtlr1zB05"
      },
      "source": [
        "#### 4)  A função `adicionarFruta`, definida abaixo, é utilizada para adicionar um elemento a um dicionário que mantém uma lista de frutas com suas respectivas quantidades. Preencha o corpo da função abaixo de tal forma que todos os testes abaixo passem.\n",
        "\n",
        "**OBS**.: O nome da fruta (i.e., a string) é a chave do elemento e a quantidade daquela fruta é o respectivo valor do elemento."
      ]
    },
    {
      "cell_type": "code",
      "execution_count": null,
      "metadata": {
        "id": "ZrjFc4KtzB05"
      },
      "outputs": [],
      "source": [
        "def adicionarFruta(inventário, fruta, quantidade=0):\n",
        "    '''Função que adiciona frutas e sua quantidade a um inventário de frutas'''\n",
        "    # Implemente aqui o código que adiciona uma fruta ao dicionário 'inventário'"
      ]
    },
    {
      "cell_type": "markdown",
      "metadata": {
        "id": "jPT_MvCVzB05"
      },
      "source": [
        "Teste a função com o seguinte trecho de código."
      ]
    },
    {
      "cell_type": "code",
      "execution_count": null,
      "metadata": {
        "id": "mBH7VXTezB05"
      },
      "outputs": [],
      "source": [
        "# Cria um dicionário vazio.\n",
        "novo_inventário = {}\n",
        "\n",
        "# Adiciona um novo item ao dicionário.\n",
        "adicionarFruta(novo_inventário, 'morangos', 10)\n",
        "\n",
        "# Contador de errors\n",
        "error_cnt = 0\n",
        "\n",
        "# Teste #1.\n",
        "if 'morangos' in novo_inventário:\n",
        "    print('Teste #1 foi bem sucedido!')\n",
        "else:\n",
        "    error_cnt += 1\n",
        "    print('Erro no teste #1.........')\n",
        "\n",
        "# Teste #2.\n",
        "if novo_inventário['morangos'] == 10:\n",
        "    print('Teste #2 foi bem sucedido!')\n",
        "else:\n",
        "    error_cnt += 1\n",
        "    print('Erro no teste #2.........')\n",
        "\n",
        "# Atualiza a quantidade de frutas de um item do inventório.\n",
        "adicionarFruta(novo_inventário, 'morangos', 25)\n",
        "\n",
        "# Teste #3.\n",
        "if novo_inventário['morangos'] == 10:\n",
        "    error_cnt += 1\n",
        "    print('Erro no teste #3.........')\n",
        "else:\n",
        "    print('Teste #3 foi bem sucedido!')\n",
        "\n",
        "# Verifica se todos os três testes foram bem sucedidos.\n",
        "if(error_cnt == 0):\n",
        "    print('Todos os três testes foram bem sucedidos!')\n",
        "else:\n",
        "    print('Algum dos testes falhou...')"
      ]
    },
    {
      "cell_type": "markdown",
      "metadata": {
        "id": "uKOJXnPCzB05"
      },
      "source": [
        "#### 5) A seguinte tabela contém a tradução de algumas palavras em inglês para a língua dos piratas, o piratês.\n",
        "\n",
        "|   Inglês   |    Piratês    |\n",
        "|:----------:|:-------------:|\n",
        "|     sir    |     matey     |\n",
        "|    hotel   |  fleabag inn  |\n",
        "|   student  |    swabbie    |\n",
        "|     boy    |     matey     |\n",
        "|    madam   |  proud beauty |\n",
        "|  professor | foul blaggart |\n",
        "| restaurant |     galley    |\n",
        "|    your    |      yer      |\n",
        "|   excuse   |      arr      |\n",
        "|  students  |    swabbies   |\n",
        "|     are    |       be      |\n",
        "|   lawyer   | foul blaggart |\n",
        "|     the    |      th’      |\n",
        "|  restroom  |      head     |\n",
        "|     my     |       me      |\n",
        "|    hello   |     avast     |\n",
        "|     is     |       be      |\n",
        "|     man    |     matey     |\n",
        "\n",
        "Implemente uma função chamada `traduzirPiratês` que receba um dicionário com as palavras em inglês e piratês (e.g., `'sir':'matey'`) e uma frase em inglês (ou seja, uma string) e retorne uma **lista** com a tradução da frase para a língua dos piratas.\n",
        "\n",
        "Veja o exemplo abaixo:\n",
        "\n",
        "```python\n",
        "frase_em_inglês = 'student is man'\n",
        "frase_pirata = traduzirPiratês(dicionário, frase_em_inglês)\n",
        "print(frase_pirata)\n",
        "['swabbie', 'be', 'matey']\n",
        "```\n",
        "\n",
        "**DICAS**:\n",
        "\n",
        "1. Você não precisa criar o dicionário, ele já está definido na célula de testes abaixo.\n",
        "2. A **chave** de cada elemento do dicionário é a palavra em inglês e o **valor** associado, a palavra em piratês.\n",
        "3. Caso uma palavra em inglês não exista no dicionário, ou seja, não tenha tradução, simplesmente a adicione à frase (ou seja, à lista) em piratês.\n",
        "4. Você vai precisar usar o método `split` da classe string com o separador sendo um espaço em branco para dividir a frase em inglês em várias palavras e assim conseguir verificar a existência de cada uma delas no dicionário. Veja o exemplo abaixo.\n",
        "```python\n",
        "frase_em_inglês = 'student is man'\n",
        "frase_separada_em_elementos = frase_em_inglês.split(' ')\n",
        "print(frase_separada_em_elementos)\n",
        "['student', 'is', 'man']\n",
        "```"
      ]
    },
    {
      "cell_type": "code",
      "execution_count": null,
      "metadata": {
        "id": "oNxEyyOzzB05"
      },
      "outputs": [],
      "source": [
        "# Implemente o código do exercício aqui."
      ]
    },
    {
      "cell_type": "markdown",
      "metadata": {
        "id": "ZaWKpbYuzB05"
      },
      "source": [
        "Teste a função com o seguinte trecho de código."
      ]
    },
    {
      "cell_type": "code",
      "execution_count": null,
      "metadata": {
        "id": "QuOsmzjCzB06"
      },
      "outputs": [],
      "source": [
        "dicionário = {'sir':'matey','hotel':'fleabag inn','student':'swabbie','boy':'matey','madam':'proud beauty','professor':'foul blaggart','restaurant':'galley','your':'yer','excuse':'arr','students':'swabbies','are':'be','lawyer':'foul blaggart','the':'th’','restroom':'head','my':'me','hello':'avast','is':'be','man':'matey'}\n",
        "\n",
        "texto1 = 'student is man'\n",
        "frase_pirata = traduzirPiratês(dicionário, texto1)\n",
        "frase = \" \".join(frase_pirata)\n",
        "print('A frase em piratês é:', frase, ' - tradução correta?', frase=='swabbie be matey')\n",
        "\n",
        "texto2 = 'hello there students'\n",
        "frase_pirata = traduzirPiratês(dicionário, texto2)\n",
        "frase = \" \".join(frase_pirata)\n",
        "print('A frase em piratês é:', frase, ' - tradução correta?', frase=='avast there swabbies')\n",
        "\n",
        "texto3 = 'the student is a girl'\n",
        "frase_pirata = traduzirPiratês(dicionário, texto3)\n",
        "frase = \" \".join(frase_pirata)\n",
        "print('A frase em piratês é:', frase, ' - tradução correta?', frase=='th’ swabbie be a girl')"
      ]
    }
  ],
  "metadata": {
    "kernelspec": {
      "display_name": "Python 3",
      "name": "python3"
    },
    "language_info": {
      "codemirror_mode": {
        "name": "ipython",
        "version": 3
      },
      "file_extension": ".py",
      "mimetype": "text/x-python",
      "name": "python",
      "nbconvert_exporter": "python",
      "pygments_lexer": "ipython3",
      "version": "3.10.9"
    },
    "colab": {
      "provenance": [],
      "generative_ai_disabled": true
    }
  },
  "nbformat": 4,
  "nbformat_minor": 0
}