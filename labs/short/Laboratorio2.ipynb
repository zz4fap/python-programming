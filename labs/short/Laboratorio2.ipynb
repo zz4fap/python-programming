{
 "cells": [
  {
   "cell_type": "markdown",
   "metadata": {},
   "source": [
    "# Laboratório #2\n",
    "\n",
    "### Instruções\n",
    "\n",
    "1. Para cada um dos exercícios a seguir, faça o seguinte:\n",
    "    * Coloque um comentário dizendo o que a função faz, use **docstrings**.\n",
    "        + **docstrings** são os comentários de múltiplas linhas que aparecem logo após o cabeçalho da função.\n",
    "    * Escolha nomes explicativos para suas funções e parâmetros.\n",
    "2. Quando você terminar os exercícios do laboratório, vá ao menu do Jupyter ou Colab e selecione a opção para fazer download do notebook.\n",
    "    * Os notebooks tem extensão .ipynb. \n",
    "    * Este deve ser o arquivo que você irá entregar.\n",
    "    * No Jupyter vá até a opção **File** -> **Download as** -> **Notebook (.ipynb)**.\n",
    "    * No Colab vá até a opção **File** -> **Download .ipynb**.\n",
    "3. Após o download do notebook, vá até a aba de tarefas do MS Teams, localize a tarefa referente a este laboratório e faça o upload do seu notebook. Veja que há uma opção de anexar arquivos à tarefa."
   ]
  },
  {
   "cell_type": "markdown",
   "metadata": {},
   "source": [
    "**Nome**:\n",
    "\n",
    "**Matrícula**:"
   ]
  },
  {
   "cell_type": "markdown",
   "metadata": {},
   "source": [
    "## Exercícios"
   ]
  },
  {
   "cell_type": "markdown",
   "metadata": {},
   "source": [
    "#### 1. Exercício sobre tipos de dados em Python.\n",
    "\n",
    "Para este exercício, faça o seguinte:\n",
    "\n",
    "1. Atribua um valor **inteiro** a uma variável chamada `ano_corrente` e imprima seu valor e tipo com a função `print`.\n",
    "2. Atribua um valor em **ponto flutuante** a uma variável chamada `preço` e imprima com seu valor e tipo com a função `print`.\n",
    "3. Atribua um valor **booleano** a uma variável chamada `resultado` e imprima seu valor e tipo com a função `print`.\n",
    "4. Atribua uma **sequência de caracteres** a uma variável chamada `nome` e imprima seu valor e tipo com a função `print`.\n",
    "\n",
    "**Dica**: use a função embutida `type()` para obter o tipo da variável."
   ]
  },
  {
   "cell_type": "code",
   "execution_count": 2,
   "metadata": {},
   "outputs": [],
   "source": [
    "# Escreva o código do exercício aqui."
   ]
  },
  {
   "cell_type": "markdown",
   "metadata": {},
   "source": [
    "#### 2. Exercício sobre tipos de dados em Python.\n",
    "\n",
    "Para este exercício, faça o seguinte:\n",
    "\n",
    "1. Atribua um valor inteiro a uma variável chamada `a`.\n",
    "2. Imprima o tipo da variável `a`.\n",
    "3. Atribua um outro valor inteiro a uma variável chamada `b`.\n",
    "4. Imprima o tipo da variável `b`.\n",
    "5. Atribua o resultado da divisão entre `a` e `b` a uma variável chamada `c`.\n",
    "6. Imprima o tipo da variável `c`.\n",
    "\n",
    "**Dica**: use a função embutida `type()` para obter o tipo da variável.\n",
    "\n",
    "Depois, responda às seguintes perguntas:\n",
    "\n",
    "1. Qual o tipo da variável `c`? \n",
    "2. Qual seria o tipo da variável `c` se tivéssemos usado uma divisão inteira, ou seja, `//` (repita a divisão entre `a` e `b`, agora usando `//`)?\n",
    "\n",
    "**Dica**: Você pode escrever as repostas das perguntas acima como comentário na própria célula de código ou adicionarem uma célula de texto (`markdown`)."
   ]
  },
  {
   "cell_type": "code",
   "execution_count": 3,
   "metadata": {},
   "outputs": [],
   "source": [
    "# Escreva o código do exercício aqui."
   ]
  },
  {
   "cell_type": "markdown",
   "metadata": {},
   "source": [
    "#### 3)  Exercício sobre operadores aritméticos.\n",
    "\n",
    "Implemente uma função chamada `quadrado` que recebe um número e retorna o seu quadrado.\n",
    "\n",
    "**OBS**.: não se esqueça de adicionar a **docstring** explicando o que sua função faz."
   ]
  },
  {
   "cell_type": "code",
   "execution_count": 6,
   "metadata": {},
   "outputs": [],
   "source": [
    "# Escreva o código do exercício aqui."
   ]
  },
  {
   "cell_type": "markdown",
   "metadata": {},
   "source": [
    "Teste sua função com os seguintes exemplos."
   ]
  },
  {
   "cell_type": "code",
   "execution_count": 1,
   "metadata": {},
   "outputs": [
    {
     "ename": "NameError",
     "evalue": "name 'quadrado' is not defined",
     "output_type": "error",
     "traceback": [
      "\u001b[1;31m---------------------------------------------------------------------------\u001b[0m",
      "\u001b[1;31mNameError\u001b[0m                                 Traceback (most recent call last)",
      "\u001b[1;32m<ipython-input-1-3319996fff25>\u001b[0m in \u001b[0;36m<module>\u001b[1;34m\u001b[0m\n\u001b[1;32m----> 1\u001b[1;33m \u001b[0mprint\u001b[0m\u001b[1;33m(\u001b[0m\u001b[1;34m'Resultado:'\u001b[0m\u001b[1;33m,\u001b[0m \u001b[0mquadrado\u001b[0m\u001b[1;33m(\u001b[0m\u001b[1;36m0\u001b[0m\u001b[1;33m)\u001b[0m\u001b[1;33m,\u001b[0m \u001b[1;34m' - Valor correto?'\u001b[0m\u001b[1;33m,\u001b[0m \u001b[0mquadrado\u001b[0m\u001b[1;33m(\u001b[0m\u001b[1;36m0\u001b[0m\u001b[1;33m)\u001b[0m\u001b[1;33m==\u001b[0m\u001b[1;36m0\u001b[0m\u001b[1;33m)\u001b[0m\u001b[1;33m\u001b[0m\u001b[1;33m\u001b[0m\u001b[0m\n\u001b[0m\u001b[0;32m      2\u001b[0m \u001b[0mprint\u001b[0m\u001b[1;33m(\u001b[0m\u001b[1;34m'Resultado:'\u001b[0m\u001b[1;33m,\u001b[0m \u001b[0mquadrado\u001b[0m\u001b[1;33m(\u001b[0m\u001b[1;36m1\u001b[0m\u001b[1;33m)\u001b[0m\u001b[1;33m,\u001b[0m \u001b[1;34m' - Valor correto?'\u001b[0m\u001b[1;33m,\u001b[0m \u001b[0mquadrado\u001b[0m\u001b[1;33m(\u001b[0m\u001b[1;36m1\u001b[0m\u001b[1;33m)\u001b[0m\u001b[1;33m==\u001b[0m\u001b[1;36m1\u001b[0m\u001b[1;33m)\u001b[0m\u001b[1;33m\u001b[0m\u001b[1;33m\u001b[0m\u001b[0m\n\u001b[0;32m      3\u001b[0m \u001b[0mprint\u001b[0m\u001b[1;33m(\u001b[0m\u001b[1;34m'Resultado:'\u001b[0m\u001b[1;33m,\u001b[0m \u001b[0mquadrado\u001b[0m\u001b[1;33m(\u001b[0m\u001b[1;36m2\u001b[0m\u001b[1;33m)\u001b[0m\u001b[1;33m,\u001b[0m \u001b[1;34m' - Valor correto?'\u001b[0m\u001b[1;33m,\u001b[0m \u001b[0mquadrado\u001b[0m\u001b[1;33m(\u001b[0m\u001b[1;36m2\u001b[0m\u001b[1;33m)\u001b[0m\u001b[1;33m==\u001b[0m\u001b[1;36m4\u001b[0m\u001b[1;33m)\u001b[0m\u001b[1;33m\u001b[0m\u001b[1;33m\u001b[0m\u001b[0m\n\u001b[0;32m      4\u001b[0m \u001b[0mprint\u001b[0m\u001b[1;33m(\u001b[0m\u001b[1;34m'Resultado:'\u001b[0m\u001b[1;33m,\u001b[0m \u001b[0mquadrado\u001b[0m\u001b[1;33m(\u001b[0m\u001b[1;36m3\u001b[0m\u001b[1;33m)\u001b[0m\u001b[1;33m,\u001b[0m \u001b[1;34m' - Valor correto?'\u001b[0m\u001b[1;33m,\u001b[0m \u001b[0mquadrado\u001b[0m\u001b[1;33m(\u001b[0m\u001b[1;36m3\u001b[0m\u001b[1;33m)\u001b[0m\u001b[1;33m==\u001b[0m\u001b[1;36m9\u001b[0m\u001b[1;33m)\u001b[0m\u001b[1;33m\u001b[0m\u001b[1;33m\u001b[0m\u001b[0m\n",
      "\u001b[1;31mNameError\u001b[0m: name 'quadrado' is not defined"
     ]
    }
   ],
   "source": [
    "print('Resultado:', quadrado(0), ' - Valor correto?', quadrado(0)==0)\n",
    "print('Resultado:', quadrado(1), ' - Valor correto?', quadrado(1)==1)\n",
    "print('Resultado:', quadrado(2), ' - Valor correto?', quadrado(2)==4)\n",
    "print('Resultado:', quadrado(3), ' - Valor correto?', quadrado(3)==9)"
   ]
  },
  {
   "cell_type": "markdown",
   "metadata": {},
   "source": [
    "#### 4)  Exercício sobre operadores aritméticos.\n",
    "\n",
    "Implemente uma função chamada `volumeEsfera` que recebe o raio de uma esfera e retorne seu volume. O volume de uma esfera é calculado com a equação:\n",
    "\n",
    "$$V = \\frac{4}{3} \\pi r^3,$$ onde $r$ é o raio da esfera.\n",
    "\n",
    "**OBS.1**: Use o valor $3.14$ como sendo o valor de $\\pi$.\n",
    "\n",
    "**OBS.2**: não se esqueça de adicionar a **docstring** explicando o que sua função faz."
   ]
  },
  {
   "cell_type": "code",
   "execution_count": 1,
   "metadata": {},
   "outputs": [],
   "source": [
    "# Escreva o código do exercício aqui."
   ]
  },
  {
   "cell_type": "markdown",
   "metadata": {},
   "source": [
    "Teste sua função com os seguintes exemplos."
   ]
  },
  {
   "cell_type": "code",
   "execution_count": 2,
   "metadata": {},
   "outputs": [
    {
     "ename": "NameError",
     "evalue": "name 'volumeEsfera' is not defined",
     "output_type": "error",
     "traceback": [
      "\u001b[1;31m---------------------------------------------------------------------------\u001b[0m",
      "\u001b[1;31mNameError\u001b[0m                                 Traceback (most recent call last)",
      "\u001b[1;32m<ipython-input-2-65f4c7b3b25a>\u001b[0m in \u001b[0;36m<module>\u001b[1;34m\u001b[0m\n\u001b[1;32m----> 1\u001b[1;33m \u001b[0mprint\u001b[0m\u001b[1;33m(\u001b[0m\u001b[1;34m'Resultado:'\u001b[0m\u001b[1;33m,\u001b[0m \u001b[0mvolumeEsfera\u001b[0m\u001b[1;33m(\u001b[0m\u001b[1;36m1\u001b[0m\u001b[1;33m)\u001b[0m\u001b[1;33m,\u001b[0m \u001b[1;34m' - Valor correto?'\u001b[0m\u001b[1;33m,\u001b[0m \u001b[0mvolumeEsfera\u001b[0m\u001b[1;33m(\u001b[0m\u001b[1;36m1\u001b[0m\u001b[1;33m)\u001b[0m\u001b[1;33m==\u001b[0m\u001b[1;36m4.1866666666666665\u001b[0m\u001b[1;33m)\u001b[0m\u001b[1;33m\u001b[0m\u001b[1;33m\u001b[0m\u001b[0m\n\u001b[0m\u001b[0;32m      2\u001b[0m \u001b[0mprint\u001b[0m\u001b[1;33m(\u001b[0m\u001b[1;34m'Resultado:'\u001b[0m\u001b[1;33m,\u001b[0m \u001b[0mvolumeEsfera\u001b[0m\u001b[1;33m(\u001b[0m\u001b[1;36m2\u001b[0m\u001b[1;33m)\u001b[0m\u001b[1;33m,\u001b[0m \u001b[1;34m' - Valor correto?'\u001b[0m\u001b[1;33m,\u001b[0m \u001b[0mvolumeEsfera\u001b[0m\u001b[1;33m(\u001b[0m\u001b[1;36m2\u001b[0m\u001b[1;33m)\u001b[0m\u001b[1;33m==\u001b[0m\u001b[1;36m33.49333333333333\u001b[0m\u001b[1;33m)\u001b[0m\u001b[1;33m\u001b[0m\u001b[1;33m\u001b[0m\u001b[0m\n",
      "\u001b[1;31mNameError\u001b[0m: name 'volumeEsfera' is not defined"
     ]
    }
   ],
   "source": [
    "print('Resultado:', volumeEsfera(1), ' - Valor correto?', volumeEsfera(1)==4.1866666666666665)\n",
    "print('Resultado:', volumeEsfera(2), ' - Valor correto?', volumeEsfera(2)==33.49333333333333)"
   ]
  },
  {
   "cell_type": "markdown",
   "metadata": {},
   "source": [
    "#### 5) Exercício sobre módulos e pacotes.\n",
    "\n",
    "Uma das várias bibliotecas disponibilizadas pelo ecossistema Python é a biblioteca `numpy`. Essa biblioteca implementa várias operações matemáticas importantes, entre elas a operação de raiz quadrada, a qual é implementada pela função `sqrt()`.\n",
    "\n",
    "Agora, usando a função `sqrt()`da biblioteca `numpy`, faça o seguinte:\n",
    "\n",
    "1. Importe a biblioteca `numpy`.\n",
    "2. Calcule e imprima a raíz quadrada de 4.\n",
    "3. Crie o apelido `np`para a biblioteca `numpy`.\n",
    "4. Calcule e imprima a raíz quadrada de 9 utilizando o apelido da biblioteca.\n",
    "5. Importe apenas a função `sqrt()`.\n",
    "6. Calcule e imprima a raíz quadrada de 49.\n",
    "\n",
    "**OBS**.: uma biblioteca pode ser um módulo ou um pacote."
   ]
  },
  {
   "cell_type": "code",
   "execution_count": 6,
   "metadata": {},
   "outputs": [],
   "source": [
    "# Escreva o código do exercício aqui."
   ]
  },
  {
   "cell_type": "markdown",
   "metadata": {},
   "source": [
    "#### 6) Exercício sobre strings.\n",
    "\n",
    "Implemente uma função chamada `alterarChar` que retorne uma string a partir de uma string de entrada onde todas as ocorrências de seu primeiro caractere devem ser substituídas pelo caracter `$`, exceto o próprio primeiro caractere.\n",
    "\n",
    "**Exemplo**\n",
    "\n",
    "```python\n",
    "print(alterarChar('teste'))\n",
    "tes$e\n",
    "```\n",
    "\n",
    "**Dica**: Você pode utilizar o método `replace` da classe `string`, apenas se atente ao fato de que o método ***retorna*** uma string com a substituição e, portanto, você precisa atribuir o retorno a uma variável.\n",
    "\n",
    "**Exemplo**\n",
    "\n",
    "```python\n",
    "palavra = 'teste'\n",
    "palavra = palavra.replace('t', '$')\n",
    "print(palavra)\n",
    "$es$e\n",
    "```"
   ]
  },
  {
   "cell_type": "code",
   "execution_count": 1,
   "metadata": {},
   "outputs": [],
   "source": [
    "# Escreva o código do exercício aqui."
   ]
  },
  {
   "cell_type": "markdown",
   "metadata": {},
   "source": [
    "Teste a função com o seguinte código."
   ]
  },
  {
   "cell_type": "code",
   "execution_count": 2,
   "metadata": {},
   "outputs": [
    {
     "ename": "NameError",
     "evalue": "name 'alterarChar' is not defined",
     "output_type": "error",
     "traceback": [
      "\u001b[1;31m---------------------------------------------------------------------------\u001b[0m",
      "\u001b[1;31mNameError\u001b[0m                                 Traceback (most recent call last)",
      "\u001b[1;32m<ipython-input-2-7c222007c2be>\u001b[0m in \u001b[0;36m<module>\u001b[1;34m\u001b[0m\n\u001b[1;32m----> 1\u001b[1;33m \u001b[0mprint\u001b[0m\u001b[1;33m(\u001b[0m\u001b[1;34m'Resultado:'\u001b[0m\u001b[1;33m,\u001b[0m \u001b[0malterarChar\u001b[0m\u001b[1;33m(\u001b[0m\u001b[1;34m'anagrama'\u001b[0m\u001b[1;33m)\u001b[0m\u001b[1;33m,\u001b[0m \u001b[1;34m' - Valor correto?'\u001b[0m\u001b[1;33m,\u001b[0m \u001b[0malterarChar\u001b[0m\u001b[1;33m(\u001b[0m\u001b[1;34m'anagrama'\u001b[0m\u001b[1;33m)\u001b[0m\u001b[1;33m==\u001b[0m\u001b[1;34m'an$gr$m$'\u001b[0m\u001b[1;33m)\u001b[0m\u001b[1;33m\u001b[0m\u001b[1;33m\u001b[0m\u001b[0m\n\u001b[0m",
      "\u001b[1;31mNameError\u001b[0m: name 'alterarChar' is not defined"
     ]
    }
   ],
   "source": [
    "print('Resultado:', alterarChar('anagrama'), ' - Valor correto?', alterarChar('anagrama')=='an$gr$m$')"
   ]
  },
  {
   "cell_type": "markdown",
   "metadata": {},
   "source": [
    "#### 7) Exercício sobre strings.\n",
    "\n",
    "Implemente uma função chamada `removerCaracter` que remove o enésimo caracter  de uma string passada como entrada para a função e retorna a string resultante. A função deve receber uma string e índice do caracter a ser removido.\n",
    "\n",
    "**Exemplo**\n",
    "\n",
    "```python\n",
    "print(removerCaracter('casa',0))\n",
    "asa\n",
    "```"
   ]
  },
  {
   "cell_type": "code",
   "execution_count": 1,
   "metadata": {},
   "outputs": [],
   "source": [
    "# Escreva o código do exercício aqui."
   ]
  },
  {
   "cell_type": "markdown",
   "metadata": {},
   "source": [
    "Teste sua função com o seguinte código."
   ]
  },
  {
   "cell_type": "code",
   "execution_count": 2,
   "metadata": {},
   "outputs": [
    {
     "ename": "NameError",
     "evalue": "name 'removerCaracter' is not defined",
     "output_type": "error",
     "traceback": [
      "\u001b[1;31m---------------------------------------------------------------------------\u001b[0m",
      "\u001b[1;31mNameError\u001b[0m                                 Traceback (most recent call last)",
      "\u001b[1;32m<ipython-input-2-9ef151daf71b>\u001b[0m in \u001b[0;36m<module>\u001b[1;34m\u001b[0m\n\u001b[1;32m----> 1\u001b[1;33m \u001b[0mprint\u001b[0m\u001b[1;33m(\u001b[0m\u001b[1;34m'Resultado:'\u001b[0m\u001b[1;33m,\u001b[0m \u001b[0mremoverCaracter\u001b[0m\u001b[1;33m(\u001b[0m\u001b[1;34m'Python'\u001b[0m\u001b[1;33m,\u001b[0m \u001b[1;36m0\u001b[0m\u001b[1;33m)\u001b[0m\u001b[1;33m,\u001b[0m \u001b[1;34m' - Valor correto?'\u001b[0m\u001b[1;33m,\u001b[0m \u001b[0mremoverCaracter\u001b[0m\u001b[1;33m(\u001b[0m\u001b[1;34m'Python'\u001b[0m\u001b[1;33m,\u001b[0m \u001b[1;36m0\u001b[0m\u001b[1;33m)\u001b[0m\u001b[1;33m==\u001b[0m\u001b[1;34m'ython'\u001b[0m\u001b[1;33m)\u001b[0m\u001b[1;33m\u001b[0m\u001b[1;33m\u001b[0m\u001b[0m\n\u001b[0m\u001b[0;32m      2\u001b[0m \u001b[0mprint\u001b[0m\u001b[1;33m(\u001b[0m\u001b[1;34m'Resultado:'\u001b[0m\u001b[1;33m,\u001b[0m \u001b[0mremoverCaracter\u001b[0m\u001b[1;33m(\u001b[0m\u001b[1;34m'Python'\u001b[0m\u001b[1;33m,\u001b[0m \u001b[1;36m3\u001b[0m\u001b[1;33m)\u001b[0m\u001b[1;33m,\u001b[0m \u001b[1;34m' - Valor correto?'\u001b[0m\u001b[1;33m,\u001b[0m \u001b[0mremoverCaracter\u001b[0m\u001b[1;33m(\u001b[0m\u001b[1;34m'Python'\u001b[0m\u001b[1;33m,\u001b[0m \u001b[1;36m3\u001b[0m\u001b[1;33m)\u001b[0m\u001b[1;33m==\u001b[0m\u001b[1;34m'Pyton'\u001b[0m\u001b[1;33m)\u001b[0m\u001b[1;33m\u001b[0m\u001b[1;33m\u001b[0m\u001b[0m\n\u001b[0;32m      3\u001b[0m \u001b[0mprint\u001b[0m\u001b[1;33m(\u001b[0m\u001b[1;34m'Resultado:'\u001b[0m\u001b[1;33m,\u001b[0m \u001b[0mremoverCaracter\u001b[0m\u001b[1;33m(\u001b[0m\u001b[1;34m'Python'\u001b[0m\u001b[1;33m,\u001b[0m \u001b[1;36m5\u001b[0m\u001b[1;33m)\u001b[0m\u001b[1;33m,\u001b[0m \u001b[1;34m' - Valor correto?'\u001b[0m\u001b[1;33m,\u001b[0m \u001b[0mremoverCaracter\u001b[0m\u001b[1;33m(\u001b[0m\u001b[1;34m'Python'\u001b[0m\u001b[1;33m,\u001b[0m \u001b[1;36m5\u001b[0m\u001b[1;33m)\u001b[0m\u001b[1;33m==\u001b[0m\u001b[1;34m'Pytho'\u001b[0m\u001b[1;33m)\u001b[0m\u001b[1;33m\u001b[0m\u001b[1;33m\u001b[0m\u001b[0m\n",
      "\u001b[1;31mNameError\u001b[0m: name 'removerCaracter' is not defined"
     ]
    }
   ],
   "source": [
    "print('Resultado:', removerCaracter('Python', 0), ' - Valor correto?', removerCaracter('Python', 0)=='ython')\n",
    "print('Resultado:', removerCaracter('Python', 3), ' - Valor correto?', removerCaracter('Python', 3)=='Pyton')\n",
    "print('Resultado:', removerCaracter('Python', 5), ' - Valor correto?', removerCaracter('Python', 5)=='Pytho')"
   ]
  },
  {
   "cell_type": "markdown",
   "metadata": {},
   "source": [
    "#### 8) Exercício sobre mensagens de erro.\n",
    "\n",
    "Corrija o código abaixo até que ele não gere mais nenhum erro.\n",
    "\n",
    "**Dica**: prestem atenção ao tipo de erro reportado pelo interpretador. Cada mensagem de erro ajudará você a descobrir os erros presentes no código."
   ]
  },
  {
   "cell_type": "code",
   "execution_count": 1,
   "metadata": {},
   "outputs": [
    {
     "ename": "NameError",
     "evalue": "name 'Dividir' is not defined",
     "output_type": "error",
     "traceback": [
      "\u001b[1;31m---------------------------------------------------------------------------\u001b[0m",
      "\u001b[1;31mNameError\u001b[0m                                 Traceback (most recent call last)",
      "\u001b[1;32m<ipython-input-1-6d62b880bb44>\u001b[0m in \u001b[0;36m<module>\u001b[1;34m\u001b[0m\n\u001b[1;32m----> 1\u001b[1;33m \u001b[0mDividir\u001b[0m\u001b[1;33m(\u001b[0m\u001b[0ma\u001b[0m\u001b[1;33m,\u001b[0m\u001b[0mb\u001b[0m\u001b[1;33m)\u001b[0m\u001b[1;33m\u001b[0m\u001b[1;33m\u001b[0m\u001b[0m\n\u001b[0m\u001b[0;32m      2\u001b[0m \u001b[1;32mreturn\u001b[0m \u001b[0ma\u001b[0m\u001b[1;33m/\u001b[0m\u001b[0mb\u001b[0m\u001b[1;33m\u001b[0m\u001b[1;33m\u001b[0m\u001b[0m\n\u001b[0;32m      3\u001b[0m \u001b[1;33m\u001b[0m\u001b[0m\n\u001b[0;32m      4\u001b[0m \u001b[0mprint\u001b[0m\u001b[1;33m(\u001b[0m\u001b[1;34m'Resultado:'\u001b[0m\u001b[1;33m,\u001b[0m \u001b[0mdividir\u001b[0m\u001b[1;33m(\u001b[0m\u001b[1;36m4\u001b[0m\u001b[1;33m,\u001b[0m\u001b[1;36m2\u001b[0m\u001b[1;33m)\u001b[0m\u001b[1;33m,\u001b[0m \u001b[1;34m' - Valor correto?'\u001b[0m\u001b[1;33m,\u001b[0m \u001b[0mdividir\u001b[0m\u001b[1;33m(\u001b[0m\u001b[1;36m4\u001b[0m\u001b[1;33m,\u001b[0m\u001b[1;36m2\u001b[0m\u001b[1;33m)\u001b[0m\u001b[1;33m==\u001b[0m\u001b[1;36m2.0\u001b[0m\u001b[1;33m)\u001b[0m\u001b[1;33m\u001b[0m\u001b[1;33m\u001b[0m\u001b[0m\n",
      "\u001b[1;31mNameError\u001b[0m: name 'Dividir' is not defined"
     ]
    }
   ],
   "source": [
    "Dividir(a,b)\n",
    "return a/b\n",
    "\n",
    "print('Resultado:', dividir(4,2), ' - Valor correto?', dividir(4,2)==2.0)"
   ]
  }
 ],
 "metadata": {
  "kernelspec": {
   "display_name": "Python 3",
   "language": "python",
   "name": "python3"
  },
  "language_info": {
   "codemirror_mode": {
    "name": "ipython",
    "version": 3
   },
   "file_extension": ".py",
   "mimetype": "text/x-python",
   "name": "python",
   "nbconvert_exporter": "python",
   "pygments_lexer": "ipython3",
   "version": "3.7.7"
  }
 },
 "nbformat": 4,
 "nbformat_minor": 4
}
