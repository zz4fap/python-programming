{
 "cells": [
  {
   "cell_type": "markdown",
   "metadata": {},
   "source": [
    "# Laboratório #5\n",
    "\n",
    "### Instruções\n",
    "\n",
    "1. Para cada um dos exercícios a seguir, faça o seguinte:\n",
    "    * Adicione comentários ao seu código. Os comentários servem para explicar o código, ajudando você a lembrar do que se trata aquele trecho de código, como também outras pessoas a entenderem o que foi feito.\n",
    "    * Caso o exercício involva a implementação de uma função:\n",
    "        + Coloque um comentário dizendo o que a função faz, use **docstrings**.\n",
    "        + Escolha nomes explicativos para suas funções e parâmetros.\n",
    "    \n",
    "2. Quando você terminar os exercícios do laboratório, vá ao menu do Jupyter ou Colab e selecione a opção para fazer download do notebook.\n",
    "    * Os notebooks tem extensão .ipynb. \n",
    "    * Este deve ser o arquivo que você irá entregar.\n",
    "    * No Jupyter vá até a opção **File** -> **Download as** -> **Notebook (.ipynb)**.\n",
    "    * No Colab vá até a opção **File** -> **Download .ipynb**.\n",
    "3. Após o download do notebook, vá até a aba de tarefas do MS Teams, localize a tarefa referente a este laboratório e faça o upload do seu notebook. Veja que há uma opção de anexar arquivos à tarefa."
   ]
  },
  {
   "cell_type": "markdown",
   "metadata": {},
   "source": [
    "**Nome**:\n",
    "\n",
    "**Matrícula**:"
   ]
  },
  {
   "cell_type": "markdown",
   "metadata": {},
   "source": [
    "## Exercícios"
   ]
  },
  {
   "cell_type": "markdown",
   "metadata": {},
   "source": [
    "### Listas\n",
    "\n",
    "#### 1)  Escreva uma função chamada `inserirSeNovo`, que recebe como argumentos de entrada uma string e uma lista. A função deve inserir a string ao final da lista caso ela não esteja na lista e retornar a posição em que a string ocorre na lista."
   ]
  },
  {
   "cell_type": "code",
   "execution_count": 1,
   "metadata": {},
   "outputs": [],
   "source": [
    "# Implemente o código do exercício aqui."
   ]
  },
  {
   "cell_type": "markdown",
   "metadata": {},
   "source": [
    "Teste a função com o trecho de código abaixo."
   ]
  },
  {
   "cell_type": "code",
   "execution_count": 2,
   "metadata": {},
   "outputs": [
    {
     "ename": "NameError",
     "evalue": "name 'inserirSeNovo' is not defined",
     "output_type": "error",
     "traceback": [
      "\u001b[1;31m---------------------------------------------------------------------------\u001b[0m",
      "\u001b[1;31mNameError\u001b[0m                                 Traceback (most recent call last)",
      "\u001b[1;32m<ipython-input-2-7a6f2e270c5c>\u001b[0m in \u001b[0;36m<module>\u001b[1;34m\u001b[0m\n\u001b[0;32m      1\u001b[0m \u001b[0mlista\u001b[0m \u001b[1;33m=\u001b[0m \u001b[1;33m[\u001b[0m\u001b[1;34m\"Ronaldo\"\u001b[0m\u001b[1;33m,\u001b[0m \u001b[1;34m\"Romário\"\u001b[0m\u001b[1;33m,\u001b[0m \u001b[1;34m\"Rivelino\"\u001b[0m\u001b[1;33m]\u001b[0m\u001b[1;33m\u001b[0m\u001b[1;33m\u001b[0m\u001b[0m\n\u001b[0;32m      2\u001b[0m \u001b[1;33m\u001b[0m\u001b[0m\n\u001b[1;32m----> 3\u001b[1;33m \u001b[0mpos\u001b[0m \u001b[1;33m=\u001b[0m \u001b[0minserirSeNovo\u001b[0m\u001b[1;33m(\u001b[0m\u001b[1;34m\"Romário\"\u001b[0m\u001b[1;33m,\u001b[0m \u001b[0mlista\u001b[0m\u001b[1;33m)\u001b[0m\u001b[1;33m\u001b[0m\u001b[1;33m\u001b[0m\u001b[0m\n\u001b[0m\u001b[0;32m      4\u001b[0m \u001b[0mprint\u001b[0m\u001b[1;33m(\u001b[0m\u001b[1;34m'Romário está na posição:'\u001b[0m\u001b[1;33m,\u001b[0m \u001b[0mpos\u001b[0m\u001b[1;33m)\u001b[0m\u001b[1;33m\u001b[0m\u001b[1;33m\u001b[0m\u001b[0m\n\u001b[0;32m      5\u001b[0m \u001b[1;33m\u001b[0m\u001b[0m\n",
      "\u001b[1;31mNameError\u001b[0m: name 'inserirSeNovo' is not defined"
     ]
    }
   ],
   "source": [
    "lista = [\"Ronaldo\", \"Romário\", \"Rivelino\"]\n",
    "\n",
    "pos = inserirSeNovo(\"Romário\", lista)\n",
    "print('Romário está na posição:', pos)\n",
    "\n",
    "pos = inserirSeNovo(\"Pelé\", lista)\n",
    "print('Pelé está na posição:', pos)\n",
    "\n",
    "pos = inserirSeNovo(\"Rivelino\", lista)\n",
    "print('Rivelino está na posição:', pos)\n",
    "\n",
    "print('A sequência da lista', lista, \"deve ser: Ronaldo, Romário, Rivelino, Pelé\")"
   ]
  },
  {
   "cell_type": "markdown",
   "metadata": {},
   "source": [
    "#### 2) Escreva uma função chamada `removerSeExistente`, que recebe como argumentos de entrada um elemento (que pode ser de qualquer tipo) e uma lista. A função deve remover o elemento da lista caso ela esteja presente na lista e retornar a posição em que o elemento estava. Caso ele não esteja presente na lista, a função deve retornar uma string informando que o elemento não se encontrava na lista."
   ]
  },
  {
   "cell_type": "code",
   "execution_count": 3,
   "metadata": {},
   "outputs": [],
   "source": [
    "# Implemente o código do exercício aqui."
   ]
  },
  {
   "cell_type": "markdown",
   "metadata": {},
   "source": [
    "Teste a função com o seguinte trecho de código."
   ]
  },
  {
   "cell_type": "code",
   "execution_count": 4,
   "metadata": {},
   "outputs": [
    {
     "ename": "NameError",
     "evalue": "name 'removerSeExistente' is not defined",
     "output_type": "error",
     "traceback": [
      "\u001b[1;31m---------------------------------------------------------------------------\u001b[0m",
      "\u001b[1;31mNameError\u001b[0m                                 Traceback (most recent call last)",
      "\u001b[1;32m<ipython-input-4-c768038f8964>\u001b[0m in \u001b[0;36m<module>\u001b[1;34m\u001b[0m\n\u001b[0;32m      1\u001b[0m \u001b[0mlista\u001b[0m \u001b[1;33m=\u001b[0m \u001b[1;33m[\u001b[0m\u001b[1;34m'casa'\u001b[0m\u001b[1;33m,\u001b[0m \u001b[1;32mTrue\u001b[0m\u001b[1;33m,\u001b[0m \u001b[1;36m1.234\u001b[0m\u001b[1;33m,\u001b[0m \u001b[1;36m23\u001b[0m\u001b[1;33m]\u001b[0m\u001b[1;33m\u001b[0m\u001b[1;33m\u001b[0m\u001b[0m\n\u001b[0;32m      2\u001b[0m \u001b[1;33m\u001b[0m\u001b[0m\n\u001b[1;32m----> 3\u001b[1;33m \u001b[0mpos\u001b[0m \u001b[1;33m=\u001b[0m \u001b[0mremoverSeExistente\u001b[0m\u001b[1;33m(\u001b[0m\u001b[1;32mTrue\u001b[0m\u001b[1;33m,\u001b[0m \u001b[0mlista\u001b[0m\u001b[1;33m)\u001b[0m\u001b[1;33m\u001b[0m\u001b[1;33m\u001b[0m\u001b[0m\n\u001b[0m\u001b[0;32m      4\u001b[0m \u001b[0mprint\u001b[0m\u001b[1;33m(\u001b[0m\u001b[1;34m'Posição em que elemento estava:'\u001b[0m\u001b[1;33m,\u001b[0m\u001b[0mpos\u001b[0m\u001b[1;33m)\u001b[0m\u001b[1;33m\u001b[0m\u001b[1;33m\u001b[0m\u001b[0m\n\u001b[0;32m      5\u001b[0m \u001b[1;33m\u001b[0m\u001b[0m\n",
      "\u001b[1;31mNameError\u001b[0m: name 'removerSeExistente' is not defined"
     ]
    }
   ],
   "source": [
    "lista = ['casa', True, 1.234, 23]\n",
    "\n",
    "pos = removerSeExistente(True, lista)\n",
    "print('Posição em que elemento estava:',pos)\n",
    "\n",
    "pos = removerSeExistente(33, lista)\n",
    "print('Posição em que elemento estava:',pos)\n",
    "\n",
    "print('Conteúdo da lista após remoção:',lista)"
   ]
  },
  {
   "cell_type": "markdown",
   "metadata": {},
   "source": [
    "#### 3)  Escreva uma função chamada `temperaturaAnual` que receba 2 listas, uma com a temperatura média de cada mês do ano e outra com os meses. A função deve calcular a média anual das temperaturas e mostrar todas as temperaturas acima da média anual, e em que mês elas ocorreram. A tabela abaixo apresenta os valores que devem ser usados para testar a função.\n",
    "\n",
    "|    Mês    | Média (°C) |\n",
    "|:---------:|:----------:|\n",
    "|  Janeiro  |     28     |\n",
    "| Fevereiro |     27     |\n",
    "|   Março   |     25     |\n",
    "|   Abril   |     20     |\n",
    "|    Maio   |     18     |\n",
    "|   Junho   |     15     |\n",
    "|   Julho   |     15     |\n",
    "|   Agosto  |     20     |\n",
    "|  Setembro |     20     |\n",
    "|  Outubro  |     25     |\n",
    "|  Novembro |     27     |\n",
    "|  Dezembro |     29     |"
   ]
  },
  {
   "cell_type": "code",
   "execution_count": 5,
   "metadata": {},
   "outputs": [],
   "source": [
    "# Implemente o código do exercício aqui."
   ]
  },
  {
   "cell_type": "markdown",
   "metadata": {},
   "source": [
    "Teste a função com o seguinte trecho de código."
   ]
  },
  {
   "cell_type": "code",
   "execution_count": 6,
   "metadata": {},
   "outputs": [
    {
     "ename": "NameError",
     "evalue": "name 'temperaturaAnual' is not defined",
     "output_type": "error",
     "traceback": [
      "\u001b[1;31m---------------------------------------------------------------------------\u001b[0m",
      "\u001b[1;31mNameError\u001b[0m                                 Traceback (most recent call last)",
      "\u001b[1;32m<ipython-input-6-32ed4051196d>\u001b[0m in \u001b[0;36m<module>\u001b[1;34m\u001b[0m\n\u001b[0;32m      3\u001b[0m \u001b[0mtemp\u001b[0m \u001b[1;33m=\u001b[0m \u001b[1;33m[\u001b[0m\u001b[1;36m28\u001b[0m\u001b[1;33m,\u001b[0m\u001b[1;36m27\u001b[0m\u001b[1;33m,\u001b[0m\u001b[1;36m25\u001b[0m\u001b[1;33m,\u001b[0m\u001b[1;36m20\u001b[0m\u001b[1;33m,\u001b[0m\u001b[1;36m18\u001b[0m\u001b[1;33m,\u001b[0m\u001b[1;36m15\u001b[0m\u001b[1;33m,\u001b[0m\u001b[1;36m15\u001b[0m\u001b[1;33m,\u001b[0m\u001b[1;36m20\u001b[0m\u001b[1;33m,\u001b[0m\u001b[1;36m20\u001b[0m\u001b[1;33m,\u001b[0m\u001b[1;36m25\u001b[0m\u001b[1;33m,\u001b[0m\u001b[1;36m27\u001b[0m\u001b[1;33m,\u001b[0m\u001b[1;36m29\u001b[0m\u001b[1;33m]\u001b[0m\u001b[1;33m\u001b[0m\u001b[1;33m\u001b[0m\u001b[0m\n\u001b[0;32m      4\u001b[0m \u001b[1;33m\u001b[0m\u001b[0m\n\u001b[1;32m----> 5\u001b[1;33m \u001b[0mtemperaturaAnual\u001b[0m\u001b[1;33m(\u001b[0m\u001b[0mmeses\u001b[0m\u001b[1;33m,\u001b[0m \u001b[0mtemp\u001b[0m\u001b[1;33m)\u001b[0m\u001b[1;33m\u001b[0m\u001b[1;33m\u001b[0m\u001b[0m\n\u001b[0m",
      "\u001b[1;31mNameError\u001b[0m: name 'temperaturaAnual' is not defined"
     ]
    }
   ],
   "source": [
    "meses = ['Janeiro', 'Fevereiro', 'Março', 'Abril', 'Maio', 'Junho', 'Julho', 'Agosto', 'Setembro', 'Outubro', 'Novembro', 'Dezembro']\n",
    "\n",
    "temp = [28,27,25,20,18,15,15,20,20,25,27,29]\n",
    "\n",
    "temperaturaAnual(meses, temp)"
   ]
  },
  {
   "cell_type": "markdown",
   "metadata": {},
   "source": [
    "### Tuplas"
   ]
  },
  {
   "cell_type": "markdown",
   "metadata": {},
   "source": [
    "#### 4) Implemente uma função chamada `médiaDasTuplas`  que calcule o valor médio dos elementos em uma determinada tupla de tuplas, ou seja, uma tupla composta por outras tuplas.\n",
    "\n",
    "**Exemplo**:\n",
    "\n",
    "```python\n",
    "tupla = ((10, 10, 12), (30, 45, 56, 45), (81, 80, 39, 32), (1, 2, 3, 4))\n",
    "ret = médiaDasTuplas(nums)\n",
    "print(ret)\n",
    "[10.666666666666666, 44.0, 58.0, 2.5]\n",
    "```\n",
    "\n",
    "**Dica**: use a função embutida `sum` para somar todos os elementos da tupla.\n",
    "\n",
    "**Exemplo**:\n",
    "\n",
    "```python\n",
    "a  = (1,2,3)\n",
    "b = sum(a)\n",
    "print(b)\n",
    "6\n",
    "```"
   ]
  },
  {
   "cell_type": "code",
   "execution_count": 7,
   "metadata": {},
   "outputs": [],
   "source": [
    "# Implemente o código do exercício aqui."
   ]
  },
  {
   "cell_type": "markdown",
   "metadata": {},
   "source": [
    "Teste a função com o seguinte trecho de código."
   ]
  },
  {
   "cell_type": "code",
   "execution_count": 8,
   "metadata": {},
   "outputs": [
    {
     "ename": "NameError",
     "evalue": "name 'médiaDasTuplas' is not defined",
     "output_type": "error",
     "traceback": [
      "\u001b[1;31m---------------------------------------------------------------------------\u001b[0m",
      "\u001b[1;31mNameError\u001b[0m                                 Traceback (most recent call last)",
      "\u001b[1;32m<ipython-input-8-7e64787fc3b4>\u001b[0m in \u001b[0;36m<module>\u001b[1;34m\u001b[0m\n\u001b[0;32m      1\u001b[0m \u001b[0mnums\u001b[0m \u001b[1;33m=\u001b[0m \u001b[1;33m(\u001b[0m\u001b[1;33m(\u001b[0m\u001b[1;36m10\u001b[0m\u001b[1;33m,\u001b[0m \u001b[1;36m10\u001b[0m\u001b[1;33m,\u001b[0m \u001b[1;36m12\u001b[0m\u001b[1;33m)\u001b[0m\u001b[1;33m,\u001b[0m \u001b[1;33m(\u001b[0m\u001b[1;36m30\u001b[0m\u001b[1;33m,\u001b[0m \u001b[1;36m45\u001b[0m\u001b[1;33m,\u001b[0m \u001b[1;36m56\u001b[0m\u001b[1;33m,\u001b[0m \u001b[1;36m45\u001b[0m\u001b[1;33m)\u001b[0m\u001b[1;33m,\u001b[0m \u001b[1;33m(\u001b[0m\u001b[1;36m81\u001b[0m\u001b[1;33m,\u001b[0m \u001b[1;36m80\u001b[0m\u001b[1;33m,\u001b[0m \u001b[1;36m39\u001b[0m\u001b[1;33m,\u001b[0m \u001b[1;36m32\u001b[0m\u001b[1;33m)\u001b[0m\u001b[1;33m,\u001b[0m \u001b[1;33m(\u001b[0m\u001b[1;36m1\u001b[0m\u001b[1;33m,\u001b[0m \u001b[1;36m2\u001b[0m\u001b[1;33m,\u001b[0m \u001b[1;36m3\u001b[0m\u001b[1;33m,\u001b[0m \u001b[1;36m4\u001b[0m\u001b[1;33m)\u001b[0m\u001b[1;33m)\u001b[0m\u001b[1;33m\u001b[0m\u001b[1;33m\u001b[0m\u001b[0m\n\u001b[1;32m----> 2\u001b[1;33m \u001b[0mprint\u001b[0m\u001b[1;33m(\u001b[0m\u001b[1;34m'Retorno:'\u001b[0m\u001b[1;33m,\u001b[0m \u001b[0mmédiaDasTuplas\u001b[0m\u001b[1;33m(\u001b[0m\u001b[0mnums\u001b[0m\u001b[1;33m)\u001b[0m\u001b[1;33m,\u001b[0m \u001b[1;34m' - Resultado correto?'\u001b[0m\u001b[1;33m,\u001b[0m \u001b[0mmédiaDasTuplas\u001b[0m\u001b[1;33m(\u001b[0m\u001b[0mnums\u001b[0m\u001b[1;33m)\u001b[0m\u001b[1;33m==\u001b[0m\u001b[1;33m[\u001b[0m\u001b[1;36m10.666666666666666\u001b[0m\u001b[1;33m,\u001b[0m \u001b[1;36m44.0\u001b[0m\u001b[1;33m,\u001b[0m \u001b[1;36m58.0\u001b[0m\u001b[1;33m,\u001b[0m \u001b[1;36m2.5\u001b[0m\u001b[1;33m]\u001b[0m\u001b[1;33m)\u001b[0m\u001b[1;33m\u001b[0m\u001b[1;33m\u001b[0m\u001b[0m\n\u001b[0m\u001b[0;32m      3\u001b[0m \u001b[1;33m\u001b[0m\u001b[0m\n\u001b[0;32m      4\u001b[0m \u001b[0mnums\u001b[0m \u001b[1;33m=\u001b[0m \u001b[1;33m(\u001b[0m\u001b[1;33m(\u001b[0m\u001b[1;36m1\u001b[0m\u001b[1;33m,\u001b[0m \u001b[1;36m1\u001b[0m\u001b[1;33m,\u001b[0m \u001b[1;33m-\u001b[0m\u001b[1;36m5\u001b[0m\u001b[1;33m)\u001b[0m\u001b[1;33m,\u001b[0m \u001b[1;33m(\u001b[0m\u001b[1;36m24\u001b[0m\u001b[1;33m,\u001b[0m \u001b[1;33m-\u001b[0m\u001b[1;36m12\u001b[0m\u001b[1;33m,\u001b[0m \u001b[1;36m48\u001b[0m\u001b[1;33m)\u001b[0m\u001b[1;33m,\u001b[0m \u001b[1;33m(\u001b[0m\u001b[1;36m81\u001b[0m\u001b[1;33m,\u001b[0m \u001b[1;33m-\u001b[0m\u001b[1;36m60\u001b[0m\u001b[1;33m,\u001b[0m \u001b[1;33m-\u001b[0m\u001b[1;36m39\u001b[0m\u001b[1;33m)\u001b[0m\u001b[1;33m,\u001b[0m \u001b[1;33m(\u001b[0m\u001b[1;33m-\u001b[0m\u001b[1;36m10\u001b[0m\u001b[1;33m,\u001b[0m \u001b[1;36m2\u001b[0m\u001b[1;33m,\u001b[0m \u001b[1;36m3\u001b[0m\u001b[1;33m)\u001b[0m\u001b[1;33m)\u001b[0m\u001b[1;33m\u001b[0m\u001b[1;33m\u001b[0m\u001b[0m\n\u001b[0;32m      5\u001b[0m \u001b[0mprint\u001b[0m\u001b[1;33m(\u001b[0m\u001b[1;34m'Retorno:'\u001b[0m\u001b[1;33m,\u001b[0m \u001b[0mmédiaDasTuplas\u001b[0m\u001b[1;33m(\u001b[0m\u001b[0mnums\u001b[0m\u001b[1;33m)\u001b[0m\u001b[1;33m,\u001b[0m \u001b[1;34m' - Resultado correto?'\u001b[0m\u001b[1;33m,\u001b[0m \u001b[0mmédiaDasTuplas\u001b[0m\u001b[1;33m(\u001b[0m\u001b[0mnums\u001b[0m\u001b[1;33m)\u001b[0m\u001b[1;33m==\u001b[0m\u001b[1;33m[\u001b[0m\u001b[1;33m-\u001b[0m\u001b[1;36m1.0\u001b[0m\u001b[1;33m,\u001b[0m \u001b[1;36m20.0\u001b[0m\u001b[1;33m,\u001b[0m \u001b[1;33m-\u001b[0m\u001b[1;36m6.0\u001b[0m\u001b[1;33m,\u001b[0m \u001b[1;33m-\u001b[0m\u001b[1;36m1.6666666666666667\u001b[0m\u001b[1;33m]\u001b[0m \u001b[1;33m)\u001b[0m\u001b[1;33m\u001b[0m\u001b[1;33m\u001b[0m\u001b[0m\n",
      "\u001b[1;31mNameError\u001b[0m: name 'médiaDasTuplas' is not defined"
     ]
    }
   ],
   "source": [
    "nums = ((10, 10, 12), (30, 45, 56, 45), (81, 80, 39, 32), (1, 2, 3, 4))\n",
    "print('Retorno:', médiaDasTuplas(nums), ' - Resultado correto?', médiaDasTuplas(nums)==[10.666666666666666, 44.0, 58.0, 2.5])\n",
    "\n",
    "nums = ((1, 1, -5), (24, -12, 48), (81, -60, -39), (-10, 2, 3))\n",
    "print('Retorno:', médiaDasTuplas(nums), ' - Resultado correto?', médiaDasTuplas(nums)==[-1.0, 20.0, -6.0, -1.6666666666666667] )"
   ]
  },
  {
   "cell_type": "markdown",
   "metadata": {},
   "source": [
    "### Conjuntos"
   ]
  },
  {
   "cell_type": "markdown",
   "metadata": {},
   "source": [
    "#### 5)  Escreva um programa que utilize os 2 conjuntos a seguir e imprima a saída abaixo. Você precisa descobrir qual operação (e.g., união, interseção, diferença) resultará na saída esperada.\n",
    "\n",
    "Os conjuntos são:\n",
    "\n",
    "```python\n",
    "s1 = set(['Python', 'Free', 'Exercises', 'Tutorials'])\n",
    "s2 = set(['Tutorials', 'Free', 'Library'])\n",
    "```\n",
    "\n",
    "Saída esperada:\n",
    "\n",
    "`A saída do programa é: {'Python', 'Exercises'}`"
   ]
  },
  {
   "cell_type": "code",
   "execution_count": 9,
   "metadata": {},
   "outputs": [],
   "source": [
    "# Implemente o código do exercício aqui."
   ]
  },
  {
   "cell_type": "markdown",
   "metadata": {},
   "source": [
    "#### 6)  Escreva um programa que utilize os 2 conjuntos a seguir e imprima a saída abaixo. Você precisa descobrir qual operação (e.g., união, interseção, diferença) resultará na saída esperada.\n",
    "\n",
    "Os conjuntos são:\n",
    "\n",
    "```python\n",
    "s1 = set(['Python', 'Free', 'Exercises', 'Tutorials'])\n",
    "s2 = set(['Tutorials', 'Sets', 'Library', 'List'])\n",
    "```\n",
    "\n",
    "Saída esperada:\n",
    "\n",
    "`A saída do programa é: {'Tutorials'}`"
   ]
  },
  {
   "cell_type": "code",
   "execution_count": 10,
   "metadata": {},
   "outputs": [],
   "source": [
    "# Implemente o código do exercício aqui."
   ]
  },
  {
   "cell_type": "markdown",
   "metadata": {},
   "source": [
    "#### 7)  Escreva um programa que utilize os 2 conjuntos a seguir e imprima a saída abaixo. Você precisa descobrir qual operação (e.g., união, interseção, diferença) resultará na saída esperada.\n",
    "\n",
    "Os conjuntos são:\n",
    "\n",
    "```python\n",
    "s1 = set(['Python', 'Free', 'Exercises', 'Tutorials'])\n",
    "s2 = set(['Tutorials', 'Free', 'Library'])\n",
    "```\n",
    "\n",
    "Saída esperada:\n",
    "\n",
    "`A saída do programa é: {'Free', 'Library', 'Python', 'Exercises', 'Tutorials'}`"
   ]
  },
  {
   "cell_type": "code",
   "execution_count": 11,
   "metadata": {},
   "outputs": [],
   "source": [
    "# Implemente o código do exercício aqui."
   ]
  },
  {
   "cell_type": "markdown",
   "metadata": {},
   "source": [
    "### Dicionários"
   ]
  },
  {
   "cell_type": "markdown",
   "metadata": {},
   "source": [
    "#### 8)  A função `adicionar_fruta`, definida abaixo, é utilizada para adicionar um elemento à um dicionário que mantém uma lista de frutas com suas respectivas quantidades. Preencha o corpo da função abaixo de tal forma que todos os testes passem."
   ]
  },
  {
   "cell_type": "code",
   "execution_count": 12,
   "metadata": {},
   "outputs": [],
   "source": [
    "def adicionar_fruta(inventário, fruta, quantidade=0):\n",
    "    '''Função que adiciona frutas e sua quantidade a um inventário de frutas'''\n",
    "    # Implemente aqui o código que adiciona uma fruta ao dicionário 'inventário'"
   ]
  },
  {
   "cell_type": "markdown",
   "metadata": {},
   "source": [
    "Teste a função com o seguinte trecho de código."
   ]
  },
  {
   "cell_type": "code",
   "execution_count": 13,
   "metadata": {},
   "outputs": [
    {
     "name": "stdout",
     "output_type": "stream",
     "text": [
      "Erro.........\n"
     ]
    },
    {
     "ename": "KeyError",
     "evalue": "'morangos'",
     "output_type": "error",
     "traceback": [
      "\u001b[1;31m---------------------------------------------------------------------------\u001b[0m",
      "\u001b[1;31mKeyError\u001b[0m                                  Traceback (most recent call last)",
      "\u001b[1;32m<ipython-input-13-da95b8017d70>\u001b[0m in \u001b[0;36m<module>\u001b[1;34m\u001b[0m\n\u001b[0;32m     12\u001b[0m \u001b[1;33m\u001b[0m\u001b[0m\n\u001b[0;32m     13\u001b[0m \u001b[1;31m# Teste #2.\u001b[0m\u001b[1;33m\u001b[0m\u001b[1;33m\u001b[0m\u001b[1;33m\u001b[0m\u001b[0m\n\u001b[1;32m---> 14\u001b[1;33m \u001b[1;32mif\u001b[0m \u001b[0mnovo_inventário\u001b[0m\u001b[1;33m[\u001b[0m\u001b[1;34m'morangos'\u001b[0m\u001b[1;33m]\u001b[0m \u001b[1;33m==\u001b[0m \u001b[1;36m10\u001b[0m\u001b[1;33m:\u001b[0m\u001b[1;33m\u001b[0m\u001b[1;33m\u001b[0m\u001b[0m\n\u001b[0m\u001b[0;32m     15\u001b[0m     \u001b[0mprint\u001b[0m\u001b[1;33m(\u001b[0m\u001b[1;34m'Teste foi bem sucedido!'\u001b[0m\u001b[1;33m)\u001b[0m\u001b[1;33m\u001b[0m\u001b[1;33m\u001b[0m\u001b[0m\n\u001b[0;32m     16\u001b[0m \u001b[1;32melse\u001b[0m\u001b[1;33m:\u001b[0m\u001b[1;33m\u001b[0m\u001b[1;33m\u001b[0m\u001b[0m\n",
      "\u001b[1;31mKeyError\u001b[0m: 'morangos'"
     ]
    }
   ],
   "source": [
    "# Cria um dicionário vazio.\n",
    "novo_inventário = {}\n",
    "\n",
    "# Adiciona um novo item ao dicionário.\n",
    "adicionar_fruta(novo_inventário, 'morangos', 10)\n",
    "\n",
    "# Teste #1.\n",
    "if 'morangos' in novo_inventário:\n",
    "    print('Teste foi bem sucedido!')\n",
    "else:\n",
    "    print('Erro.........')\n",
    "\n",
    "# Teste #2.\n",
    "if novo_inventário['morangos'] == 10:\n",
    "    print('Teste foi bem sucedido!')\n",
    "else:\n",
    "    print('Erro.........')\n",
    "\n",
    "# Atualiza a quantidade de frutas de um item do inventório.\n",
    "adicionar_fruta(novo_inventário, 'morangos', 25)\n",
    "\n",
    "# Teste #2.\n",
    "if novo_inventário['morangos'] == 10:\n",
    "    print('Erro.........')\n",
    "else:\n",
    "    print('Teste foi bem sucedido!')"
   ]
  },
  {
   "cell_type": "markdown",
   "metadata": {},
   "source": [
    "#### 9) A seguinte tabela contém a tradução de algumas palavras em inglês para a língua dos piratas, o piratês.\n",
    "\n",
    "|   Inglês   |    Piratês    |\n",
    "|:----------:|:-------------:|\n",
    "|     sir    |     matey     |\n",
    "|    hotel   |  fleabag inn  |\n",
    "|   student  |    swabbie    |\n",
    "|     boy    |     matey     |\n",
    "|    madam   |  proud beauty |\n",
    "|  professor | foul blaggart |\n",
    "| restaurant |     galley    |\n",
    "|    your    |      yer      |\n",
    "|   excuse   |      arr      |\n",
    "|  students  |    swabbies   |\n",
    "|     are    |       be      |\n",
    "|   lawyer   | foul blaggart |\n",
    "|     the    |      th’      |\n",
    "|  restroom  |      head     |\n",
    "|     my     |       me      |\n",
    "|    hello   |     avast     |\n",
    "|     is     |       be      |\n",
    "|     man    |     matey     |\n",
    "\n",
    "Implemente uma função chamada `traduzirPiratês` que receba uma frase em inglês e imprime a tradução da frase para a língua dos piratas. Caso uma palavra não exista no dicionário, simplesmente a adicione à frase em piratês."
   ]
  },
  {
   "cell_type": "code",
   "execution_count": 31,
   "metadata": {},
   "outputs": [],
   "source": [
    "# Implemente o código do exercício aqui."
   ]
  },
  {
   "cell_type": "markdown",
   "metadata": {},
   "source": [
    "Teste a função com o seguinte trecho de código."
   ]
  },
  {
   "cell_type": "code",
   "execution_count": 1,
   "metadata": {},
   "outputs": [
    {
     "ename": "NameError",
     "evalue": "name 'traduzirPiratês' is not defined",
     "output_type": "error",
     "traceback": [
      "\u001b[1;31m---------------------------------------------------------------------------\u001b[0m",
      "\u001b[1;31mNameError\u001b[0m                                 Traceback (most recent call last)",
      "\u001b[1;32m<ipython-input-1-22fefb0e2ca4>\u001b[0m in \u001b[0;36m<module>\u001b[1;34m\u001b[0m\n\u001b[0;32m      2\u001b[0m \u001b[1;33m\u001b[0m\u001b[0m\n\u001b[0;32m      3\u001b[0m \u001b[0mtexto1\u001b[0m \u001b[1;33m=\u001b[0m \u001b[1;34m'student is man'\u001b[0m\u001b[1;33m\u001b[0m\u001b[1;33m\u001b[0m\u001b[0m\n\u001b[1;32m----> 4\u001b[1;33m \u001b[0mfrase_pirata\u001b[0m \u001b[1;33m=\u001b[0m \u001b[0mtraduzirPiratês\u001b[0m\u001b[1;33m(\u001b[0m\u001b[0mdicionário\u001b[0m\u001b[1;33m,\u001b[0m \u001b[0mtexto1\u001b[0m\u001b[1;33m)\u001b[0m\u001b[1;33m\u001b[0m\u001b[1;33m\u001b[0m\u001b[0m\n\u001b[0m\u001b[0;32m      5\u001b[0m \u001b[0mfrase\u001b[0m \u001b[1;33m=\u001b[0m \u001b[1;34m\" \"\u001b[0m\u001b[1;33m.\u001b[0m\u001b[0mjoin\u001b[0m\u001b[1;33m(\u001b[0m\u001b[0mfrase_pirata\u001b[0m\u001b[1;33m)\u001b[0m\u001b[1;33m\u001b[0m\u001b[1;33m\u001b[0m\u001b[0m\n\u001b[0;32m      6\u001b[0m \u001b[0mprint\u001b[0m\u001b[1;33m(\u001b[0m\u001b[1;34m'A frase em piratês é:'\u001b[0m\u001b[1;33m,\u001b[0m \u001b[0mfrase\u001b[0m\u001b[1;33m,\u001b[0m \u001b[1;34m' - tradução correta?'\u001b[0m\u001b[1;33m,\u001b[0m \u001b[0mfrase\u001b[0m\u001b[1;33m==\u001b[0m\u001b[1;34m'swabbie be matey'\u001b[0m\u001b[1;33m)\u001b[0m\u001b[1;33m\u001b[0m\u001b[1;33m\u001b[0m\u001b[0m\n",
      "\u001b[1;31mNameError\u001b[0m: name 'traduzirPiratês' is not defined"
     ]
    }
   ],
   "source": [
    "dicionário = {'sir':'matey','hotel':'fleabag inn','student':'swabbie','boy':'matey','madam':'proud beauty','professor':'foul blaggart','restaurant':'galley','your':'yer','excuse':'arr','students':'swabbies','are':'be','lawyer':'foul blaggart','the':'th’','restroom':'head','my':'me','hello':'avast','is':'be','man':'matey'}\n",
    "\n",
    "texto1 = 'student is man'\n",
    "frase_pirata = traduzirPiratês(dicionário, texto1)\n",
    "frase = \" \".join(frase_pirata)\n",
    "print('A frase em piratês é:', frase, ' - tradução correta?', frase=='swabbie be matey')\n",
    "\n",
    "texto2 = 'hello there students'\n",
    "frase_pirata = traduzirPiratês(dicionário, texto2)\n",
    "frase = \" \".join(frase_pirata)\n",
    "print('A frase em piratês é:', frase, ' - tradução correta?', frase=='avast there swabbies')\n",
    "\n",
    "texto3 = 'the student is a girl'\n",
    "frase_pirata = traduzirPiratês(dicionário, texto3)\n",
    "frase = \" \".join(frase_pirata)\n",
    "print('A frase em piratês é:', frase, ' - tradução correta?', frase=='th’ swabbie be a girl')"
   ]
  }
 ],
 "metadata": {
  "kernelspec": {
   "display_name": "Python 3",
   "language": "python",
   "name": "python3"
  }
 },
 "nbformat": 4,
 "nbformat_minor": 4
}
