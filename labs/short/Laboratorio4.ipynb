{
 "cells": [
  {
   "cell_type": "markdown",
   "metadata": {},
   "source": [
    "# Laboratório #4\n",
    "\n",
    "### Instruções\n",
    "\n",
    "1. Para cada um dos exercícios a seguir, faça o seguinte:\n",
    "    * Adicione comentários ao seu código. Os comentários servem para explicar o código, ajudando você a lembrar do que se trata aquele trecho de código, como também outras pessoas a entenderem o que foi feito.\n",
    "    * Caso o exercício involva a implementação de uma função:\n",
    "        + Coloque um comentário dizendo o que a função faz, use **docstrings**.\n",
    "        + Escolha nomes explicativos para suas funções e parâmetros.\n",
    "    \n",
    "2. Quando você terminar os exercícios do laboratório, vá ao menu do Jupyter ou Colab e selecione a opção para fazer download do notebook.\n",
    "    * Os notebooks tem extensão .ipynb. \n",
    "    * Este deve ser o arquivo que você irá entregar.\n",
    "    * No Jupyter vá até a opção **File** -> **Download as** -> **Notebook (.ipynb)**.\n",
    "    * No Colab vá até a opção **File** -> **Download .ipynb**.\n",
    "3. Após o download do notebook, vá até a aba de tarefas do MS Teams, localize a tarefa referente a este laboratório e faça o upload do seu notebook. Veja que há uma opção de anexar arquivos à tarefa."
   ]
  },
  {
   "cell_type": "markdown",
   "metadata": {},
   "source": [
    "**Nome**:\n",
    "\n",
    "**Matrícula**:"
   ]
  },
  {
   "cell_type": "markdown",
   "metadata": {},
   "source": [
    "## Exercícios"
   ]
  },
  {
   "cell_type": "markdown",
   "metadata": {},
   "source": [
    "#### 1)  Implemente três funções:\n",
    "\n",
    "1. `horasEmMinutos`: Dada uma quantidade em horas, a transforma para minutos.\n",
    "2.  `minutosEmSegundos`: Dada uma quantidade de minutos, a transforme em segundos.\n",
    "3. `horasEmSegundos`: Dada uma quantidade de horas, a transforma em segundos usando as funções dos itens 1 e 2."
   ]
  },
  {
   "cell_type": "code",
   "execution_count": 1,
   "metadata": {},
   "outputs": [],
   "source": [
    "# implemente o código da função aqui."
   ]
  },
  {
   "cell_type": "markdown",
   "metadata": {},
   "source": [
    "Teste suas funções com o código abaixo."
   ]
  },
  {
   "cell_type": "code",
   "execution_count": 6,
   "metadata": {},
   "outputs": [
    {
     "name": "stdout",
     "output_type": "stream",
     "text": [
      "Número de segundos: 1800.0  - Teste está correto? True\n",
      "Número de segundos: 3600.0  - Teste está correto? True\n",
      "Número de segundos: 9000.0  - Teste está correto? True\n"
     ]
    }
   ],
   "source": [
    "print('Número de segundos:', horasEmSegundos(0.5), ' - Teste está correto?', horasEmSegundos(0.5)==1800.0)\n",
    "print('Número de segundos:', horasEmSegundos(1.0), ' - Teste está correto?', horasEmSegundos(1.0)==3600.0)\n",
    "print('Número de segundos:', horasEmSegundos(2.5), ' - Teste está correto?', horasEmSegundos(2.5)==9000.0)"
   ]
  },
  {
   "cell_type": "markdown",
   "metadata": {},
   "source": [
    "#### 2) Crie uma função chamada `somarValores` que aceite qualquer número de parâmetros e retorne a soma desses números. \n",
    "\n",
    "**Dica**: Lembre-se que a função recebe uma **tupla** com todos os argumentos de entrada. Um **tupla** é uma coleção de objetos que pode ser iterada com um laço de repetição `for`. \n",
    "\n",
    "**Exemplo**\n",
    "\n",
    "```python\n",
    "# definindo uma tupla.\n",
    "tupla = (0,1,2,3)\n",
    "\n",
    "# iterando através dos valores da tupla com um laço for.\n",
    "for valor in tupla:\n",
    "    print(valor)\n",
    "```\n"
   ]
  },
  {
   "cell_type": "code",
   "execution_count": 2,
   "metadata": {},
   "outputs": [],
   "source": [
    "# implemente o código da função aqui."
   ]
  },
  {
   "cell_type": "markdown",
   "metadata": {},
   "source": [
    "Teste sua função com o código abaixo."
   ]
  },
  {
   "cell_type": "code",
   "execution_count": 22,
   "metadata": {},
   "outputs": [
    {
     "name": "stdout",
     "output_type": "stream",
     "text": [
      "Resultado: 2  - Teste está correto? True\n",
      "Resultado: 6  - Teste está correto? True\n",
      "Resultado: 12  - Teste está correto? True\n",
      "Resultado: 10  - Teste está correto? True\n"
     ]
    }
   ],
   "source": [
    "print('Resultado:', somarValores(2), ' - Teste está correto?', somarValores(2)==2)\n",
    "print('Resultado:', somarValores(2,4), ' - Teste está correto?', somarValores(2,4)==6)\n",
    "print('Resultado:', somarValores(2,4,6), ' - Teste está correto?', somarValores(2,4,6)==12)\n",
    "print('Resultado:', somarValores(1,2,3,4), ' - Teste está correto?', somarValores(1,2,3,4)==10)"
   ]
  },
  {
   "cell_type": "markdown",
   "metadata": {},
   "source": [
    "#### 3) Implemente uma função chamada `retornarDia`. Esta função recebe um parâmetro (um número de 1-7) e retorna uma string com o dia da semana (1 é domingo, 2 é segunda-feira e assim por diante.). Se o número for menor que 1 ou maior que 7, a função deve retornar `None`."
   ]
  },
  {
   "cell_type": "code",
   "execution_count": 3,
   "metadata": {},
   "outputs": [],
   "source": [
    "# implemente o código da função aqui."
   ]
  },
  {
   "cell_type": "markdown",
   "metadata": {},
   "source": [
    "Teste sua função com o código abaixo."
   ]
  },
  {
   "cell_type": "code",
   "execution_count": 41,
   "metadata": {},
   "outputs": [
    {
     "name": "stdout",
     "output_type": "stream",
     "text": [
      "Dia: None  \t\t- resultado correto? True\n",
      "Dia: domingo  \t\t- resultado correto? True\n",
      "Dia: segunda-feira  \t- resultado correto? True\n",
      "Dia: terça-feira  \t- resultado correto? True\n",
      "Dia: quarta-feira  \t- resultado correto? True\n",
      "Dia: quinta-feira  \t- resultado correto? True\n",
      "Dia: sexta-feira  \t- resultado correto? True\n",
      "Dia: sábado  \t\t- resultado correto? True\n",
      "Dia: None  \t\t- resultado correto? True\n"
     ]
    }
   ],
   "source": [
    "print('Dia:', retornarDia(0), ' \\t\\t- resultado correto?', retornarDia(0)==None)\n",
    "print('Dia:', retornarDia(1), ' \\t\\t- resultado correto?', retornarDia(1)=='domingo')\n",
    "print('Dia:', retornarDia(2), ' \\t- resultado correto?', retornarDia(2)=='segunda-feira')\n",
    "print('Dia:', retornarDia(3), ' \\t- resultado correto?', retornarDia(3)=='terça-feira')\n",
    "print('Dia:', retornarDia(4), ' \\t- resultado correto?', retornarDia(4)=='quarta-feira')\n",
    "print('Dia:', retornarDia(5), ' \\t- resultado correto?', retornarDia(5)=='quinta-feira')\n",
    "print('Dia:', retornarDia(6), ' \\t- resultado correto?', retornarDia(6)=='sexta-feira')\n",
    "print('Dia:', retornarDia(7), ' \\t\\t- resultado correto?', retornarDia(7)=='sábado')\n",
    "print('Dia:', retornarDia(8), ' \\t\\t- resultado correto?', retornarDia(8)==None)"
   ]
  },
  {
   "cell_type": "markdown",
   "metadata": {},
   "source": [
    "#### 4) Implemente uma função chamada `fatorial` que calcule o fatorial de um valor de entrada `x`. Utilize **recursão** para implementar a esta função.\n",
    "\n",
    "**Dica**: O fatorial de um número é calculado pela multiplicação desse número por todos os seus antecessores até chegar ao número 1. Uma exceção é o fatorial de 0, que é igual a 1.\n",
    "\n",
    "**Exemplo**: \n",
    "\n",
    "* 0! = 1\n",
    "* 1! = 1\n",
    "* 2! = 2 * 1 = 2\n",
    "* 3! = 3 * 2 * 1 = 6\n",
    "* 4! = 4 * 3 * 2 * 1 = 24"
   ]
  },
  {
   "cell_type": "code",
   "execution_count": 4,
   "metadata": {},
   "outputs": [],
   "source": [
    "# implemente o código da função aqui."
   ]
  },
  {
   "cell_type": "markdown",
   "metadata": {},
   "source": [
    "Teste sua função com o código abaixo."
   ]
  },
  {
   "cell_type": "code",
   "execution_count": 47,
   "metadata": {},
   "outputs": [
    {
     "name": "stdout",
     "output_type": "stream",
     "text": [
      "fatorial: 1  - resultado correto? True\n",
      "fatorial: 1  - resultado correto? True\n",
      "fatorial: 2  - resultado correto? True\n",
      "fatorial: 6  - resultado correto? True\n",
      "fatorial: 24  - resultado correto? True\n"
     ]
    }
   ],
   "source": [
    "print('fatorial:', fatorial(0), ' - resultado correto?', fatorial(0)==1)\n",
    "print('fatorial:', fatorial(1), ' - resultado correto?', fatorial(1)==1)\n",
    "print('fatorial:', fatorial(2), ' - resultado correto?', fatorial(2)==2)\n",
    "print('fatorial:', fatorial(3), ' - resultado correto?', fatorial(3)==6)\n",
    "print('fatorial:', fatorial(4), ' - resultado correto?', fatorial(4)==24)"
   ]
  },
  {
   "cell_type": "markdown",
   "metadata": {},
   "source": [
    "#### 5)  O número de combinações possíveis de `m` elementos em grupos de `n` elementos (sendo que `n <= m`) é dada pela fórmula de combinação abaixo\n",
    "\n",
    "$$\\frac{m!}{ (m-n)!n! }$$\n",
    "\n",
    "Implemente uma função chamada `combinação` que receba dois números inteiros `m` e `n`, calcule e retorne a combinação de `m`, `n` a `n`.\n",
    "\n",
    "**Dica**: Use a função `fatorial` implementada no exercício anterior.\n",
    "\n",
    "**Exemplos**:\n",
    "1. combinação(2,2) - retorno: 1\n",
    "2. combinação(2,1) - retorno: 2\n",
    "3. combinação(5,3) - retorno: 10\n",
    "4. combinação(4,2) - retorno: 6"
   ]
  },
  {
   "cell_type": "code",
   "execution_count": 5,
   "metadata": {},
   "outputs": [],
   "source": [
    "# implemente o código da função aqui."
   ]
  },
  {
   "cell_type": "markdown",
   "metadata": {},
   "source": [
    "Teste sua função com o código abaixo."
   ]
  },
  {
   "cell_type": "code",
   "execution_count": 53,
   "metadata": {},
   "outputs": [
    {
     "name": "stdout",
     "output_type": "stream",
     "text": [
      "Número de combinações: 1.0  - resultado correto? True\n",
      "Número de combinações: 2.0  - resultado correto? True\n",
      "Número de combinações: 10.0  - resultado correto? True\n",
      "Número de combinações: 6.0  - resultado correto? True\n"
     ]
    }
   ],
   "source": [
    "print('Número de combinações:', combinação(2,2), ' - resultado correto?', combinação(2,2)==1)\n",
    "print('Número de combinações:', combinação(2,1), ' - resultado correto?', combinação(2,1)==2)\n",
    "print('Número de combinações:', combinação(5,3), ' - resultado correto?', combinação(5,3)==10)\n",
    "print('Número de combinações:', combinação(4,2), ' - resultado correto?', combinação(4,2)==6)"
   ]
  }
 ],
 "metadata": {
  "kernelspec": {
   "display_name": "Python 3",
   "language": "python",
   "name": "python3"
  },
  "language_info": {
   "codemirror_mode": {
    "name": "ipython",
    "version": 3
   },
   "file_extension": ".py",
   "mimetype": "text/x-python",
   "name": "python",
   "nbconvert_exporter": "python",
   "pygments_lexer": "ipython3",
   "version": "3.7.7"
  }
 },
 "nbformat": 4,
 "nbformat_minor": 4
}
